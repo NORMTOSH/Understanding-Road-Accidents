{
  "cells": [
    {
      "cell_type": "markdown",
      "metadata": {
        "id": "view-in-github",
        "colab_type": "text"
      },
      "source": [
        "<a href=\"https://colab.research.google.com/github/NORMTOSH/Understanding-Road-Accidents/blob/main/Hotspot_(Coordinates)_EDA_v2.ipynb\" target=\"_parent\"><img src=\"https://colab.research.google.com/assets/colab-badge.svg\" alt=\"Open In Colab\"/></a>"
      ]
    },
    {
      "cell_type": "code",
      "source": [
        "# Import required Libraries\n",
        "import pandas as pd\n",
        "import numpy as np\n",
        "import seaborn as sns\n",
        "import matplotlib.pyplot as plt\n",
        "import plotly.express as px\n",
        "from skimpy import skim\n",
        "from plotly.io import templates\n",
        "\n",
        "import warnings\n",
        "warnings.filterwarnings('ignore')"
      ],
      "metadata": {
        "id": "3H2ufyyvy61b"
      },
      "execution_count": 8,
      "outputs": []
    },
    {
      "cell_type": "code",
      "execution_count": 9,
      "metadata": {
        "colab": {
          "base_uri": "https://localhost:8080/",
          "height": 571
        },
        "id": "MEDDTTLFO3Ft",
        "outputId": "2c4c263c-de43-4777-a3fc-76feb5aa6cd1"
      },
      "outputs": [
        {
          "output_type": "execute_result",
          "data": {
            "text/plain": [
              "   Unnamed: 0  row  victim  Age_refined       Base  \\\n",
              "0           0    0       0           70  RUNYENJES   \n",
              "1           1    1       0           43        VOI   \n",
              "2           2    2       0           32    MBAKALO   \n",
              "3           3    3       0           51   LAIKIPIA   \n",
              "4           4    4       0           34      NYERI   \n",
              "\n",
              "                                             Details        County  \\\n",
              "0           THE MATATU COLLIDED HEAD ON WITH THE BUS          EMBU   \n",
              "1      THE TRAILER COLLIDED HEAD ON WITH THE VEHICLE  TAITA TAVETA   \n",
              "2  TRACTOR LOST CONTROL, SWERVED AND COLLIDED WIT...       BUNGOMA   \n",
              "3                        THE VEHICLE HIT THE M/CYCLE      LAIKIPIA   \n",
              "4                                  HEAD ON COLLISION         NYERI   \n",
              "\n",
              "         Date Gender                                        Mv Involved  \\\n",
              "0  2017-03-21  M & F                              T/MATATU &  ISUZU BUS   \n",
              "1  2017-03-19  M & F                           /ZC  M/B/AXOR &  HARRIER   \n",
              "2  2018-05-25  M & F  KTCB ZA  MAHINDRA TRACTOR & KBL TOYOTA HIACE M...   \n",
              "3  2017-03-19      M                           T/SALOON & KMDQ  M/CYCLE   \n",
              "4  2017-07-25  M & F   ISUZU CANTER,  TOYOTA SALOON,  TOYOTA COROLLA...   \n",
              "\n",
              "   Total Victims                    Place              Road   Time  Victim  \\\n",
              "0              3                KIARAGANA         EMBU-MERU  13:30  DRIVER   \n",
              "1              5                  MANYANI           MSA-NRB   4:45  DRIVER   \n",
              "2              5              MALIKI AREA     KITALE-WEBUYE  19:30  DRIVER   \n",
              "3              2             MUGETHO AREA      MATANYA ROAD  15:30   RIDER   \n",
              "4              4  NEAR KIMATHI UNIVERSITY  NYAHURURU-MWEIGA  14:45  DRIVER   \n",
              "\n",
              "   Latitude  Longitude  \n",
              "0 -0.392917  37.596239  \n",
              "1       NaN        NaN  \n",
              "2       NaN        NaN  \n",
              "3       NaN        NaN  \n",
              "4 -0.373702  36.935849  "
            ],
            "text/html": [
              "\n",
              "  <div id=\"df-73787820-3d02-4612-8fcc-0b4630404490\" class=\"colab-df-container\">\n",
              "    <div>\n",
              "<style scoped>\n",
              "    .dataframe tbody tr th:only-of-type {\n",
              "        vertical-align: middle;\n",
              "    }\n",
              "\n",
              "    .dataframe tbody tr th {\n",
              "        vertical-align: top;\n",
              "    }\n",
              "\n",
              "    .dataframe thead th {\n",
              "        text-align: right;\n",
              "    }\n",
              "</style>\n",
              "<table border=\"1\" class=\"dataframe\">\n",
              "  <thead>\n",
              "    <tr style=\"text-align: right;\">\n",
              "      <th></th>\n",
              "      <th>Unnamed: 0</th>\n",
              "      <th>row</th>\n",
              "      <th>victim</th>\n",
              "      <th>Age_refined</th>\n",
              "      <th>Base</th>\n",
              "      <th>Details</th>\n",
              "      <th>County</th>\n",
              "      <th>Date</th>\n",
              "      <th>Gender</th>\n",
              "      <th>Mv Involved</th>\n",
              "      <th>Total Victims</th>\n",
              "      <th>Place</th>\n",
              "      <th>Road</th>\n",
              "      <th>Time</th>\n",
              "      <th>Victim</th>\n",
              "      <th>Latitude</th>\n",
              "      <th>Longitude</th>\n",
              "    </tr>\n",
              "  </thead>\n",
              "  <tbody>\n",
              "    <tr>\n",
              "      <th>0</th>\n",
              "      <td>0</td>\n",
              "      <td>0</td>\n",
              "      <td>0</td>\n",
              "      <td>70</td>\n",
              "      <td>RUNYENJES</td>\n",
              "      <td>THE MATATU COLLIDED HEAD ON WITH THE BUS</td>\n",
              "      <td>EMBU</td>\n",
              "      <td>2017-03-21</td>\n",
              "      <td>M &amp; F</td>\n",
              "      <td>T/MATATU &amp;  ISUZU BUS</td>\n",
              "      <td>3</td>\n",
              "      <td>KIARAGANA</td>\n",
              "      <td>EMBU-MERU</td>\n",
              "      <td>13:30</td>\n",
              "      <td>DRIVER</td>\n",
              "      <td>-0.392917</td>\n",
              "      <td>37.596239</td>\n",
              "    </tr>\n",
              "    <tr>\n",
              "      <th>1</th>\n",
              "      <td>1</td>\n",
              "      <td>1</td>\n",
              "      <td>0</td>\n",
              "      <td>43</td>\n",
              "      <td>VOI</td>\n",
              "      <td>THE TRAILER COLLIDED HEAD ON WITH THE VEHICLE</td>\n",
              "      <td>TAITA TAVETA</td>\n",
              "      <td>2017-03-19</td>\n",
              "      <td>M &amp; F</td>\n",
              "      <td>/ZC  M/B/AXOR &amp;  HARRIER</td>\n",
              "      <td>5</td>\n",
              "      <td>MANYANI</td>\n",
              "      <td>MSA-NRB</td>\n",
              "      <td>4:45</td>\n",
              "      <td>DRIVER</td>\n",
              "      <td>NaN</td>\n",
              "      <td>NaN</td>\n",
              "    </tr>\n",
              "    <tr>\n",
              "      <th>2</th>\n",
              "      <td>2</td>\n",
              "      <td>2</td>\n",
              "      <td>0</td>\n",
              "      <td>32</td>\n",
              "      <td>MBAKALO</td>\n",
              "      <td>TRACTOR LOST CONTROL, SWERVED AND COLLIDED WIT...</td>\n",
              "      <td>BUNGOMA</td>\n",
              "      <td>2018-05-25</td>\n",
              "      <td>M &amp; F</td>\n",
              "      <td>KTCB ZA  MAHINDRA TRACTOR &amp; KBL TOYOTA HIACE M...</td>\n",
              "      <td>5</td>\n",
              "      <td>MALIKI AREA</td>\n",
              "      <td>KITALE-WEBUYE</td>\n",
              "      <td>19:30</td>\n",
              "      <td>DRIVER</td>\n",
              "      <td>NaN</td>\n",
              "      <td>NaN</td>\n",
              "    </tr>\n",
              "    <tr>\n",
              "      <th>3</th>\n",
              "      <td>3</td>\n",
              "      <td>3</td>\n",
              "      <td>0</td>\n",
              "      <td>51</td>\n",
              "      <td>LAIKIPIA</td>\n",
              "      <td>THE VEHICLE HIT THE M/CYCLE</td>\n",
              "      <td>LAIKIPIA</td>\n",
              "      <td>2017-03-19</td>\n",
              "      <td>M</td>\n",
              "      <td>T/SALOON &amp; KMDQ  M/CYCLE</td>\n",
              "      <td>2</td>\n",
              "      <td>MUGETHO AREA</td>\n",
              "      <td>MATANYA ROAD</td>\n",
              "      <td>15:30</td>\n",
              "      <td>RIDER</td>\n",
              "      <td>NaN</td>\n",
              "      <td>NaN</td>\n",
              "    </tr>\n",
              "    <tr>\n",
              "      <th>4</th>\n",
              "      <td>4</td>\n",
              "      <td>4</td>\n",
              "      <td>0</td>\n",
              "      <td>34</td>\n",
              "      <td>NYERI</td>\n",
              "      <td>HEAD ON COLLISION</td>\n",
              "      <td>NYERI</td>\n",
              "      <td>2017-07-25</td>\n",
              "      <td>M &amp; F</td>\n",
              "      <td>ISUZU CANTER,  TOYOTA SALOON,  TOYOTA COROLLA...</td>\n",
              "      <td>4</td>\n",
              "      <td>NEAR KIMATHI UNIVERSITY</td>\n",
              "      <td>NYAHURURU-MWEIGA</td>\n",
              "      <td>14:45</td>\n",
              "      <td>DRIVER</td>\n",
              "      <td>-0.373702</td>\n",
              "      <td>36.935849</td>\n",
              "    </tr>\n",
              "  </tbody>\n",
              "</table>\n",
              "</div>\n",
              "    <div class=\"colab-df-buttons\">\n",
              "\n",
              "  <div class=\"colab-df-container\">\n",
              "    <button class=\"colab-df-convert\" onclick=\"convertToInteractive('df-73787820-3d02-4612-8fcc-0b4630404490')\"\n",
              "            title=\"Convert this dataframe to an interactive table.\"\n",
              "            style=\"display:none;\">\n",
              "\n",
              "  <svg xmlns=\"http://www.w3.org/2000/svg\" height=\"24px\" viewBox=\"0 -960 960 960\">\n",
              "    <path d=\"M120-120v-720h720v720H120Zm60-500h600v-160H180v160Zm220 220h160v-160H400v160Zm0 220h160v-160H400v160ZM180-400h160v-160H180v160Zm440 0h160v-160H620v160ZM180-180h160v-160H180v160Zm440 0h160v-160H620v160Z\"/>\n",
              "  </svg>\n",
              "    </button>\n",
              "\n",
              "  <style>\n",
              "    .colab-df-container {\n",
              "      display:flex;\n",
              "      gap: 12px;\n",
              "    }\n",
              "\n",
              "    .colab-df-convert {\n",
              "      background-color: #E8F0FE;\n",
              "      border: none;\n",
              "      border-radius: 50%;\n",
              "      cursor: pointer;\n",
              "      display: none;\n",
              "      fill: #1967D2;\n",
              "      height: 32px;\n",
              "      padding: 0 0 0 0;\n",
              "      width: 32px;\n",
              "    }\n",
              "\n",
              "    .colab-df-convert:hover {\n",
              "      background-color: #E2EBFA;\n",
              "      box-shadow: 0px 1px 2px rgba(60, 64, 67, 0.3), 0px 1px 3px 1px rgba(60, 64, 67, 0.15);\n",
              "      fill: #174EA6;\n",
              "    }\n",
              "\n",
              "    .colab-df-buttons div {\n",
              "      margin-bottom: 4px;\n",
              "    }\n",
              "\n",
              "    [theme=dark] .colab-df-convert {\n",
              "      background-color: #3B4455;\n",
              "      fill: #D2E3FC;\n",
              "    }\n",
              "\n",
              "    [theme=dark] .colab-df-convert:hover {\n",
              "      background-color: #434B5C;\n",
              "      box-shadow: 0px 1px 3px 1px rgba(0, 0, 0, 0.15);\n",
              "      filter: drop-shadow(0px 1px 2px rgba(0, 0, 0, 0.3));\n",
              "      fill: #FFFFFF;\n",
              "    }\n",
              "  </style>\n",
              "\n",
              "    <script>\n",
              "      const buttonEl =\n",
              "        document.querySelector('#df-73787820-3d02-4612-8fcc-0b4630404490 button.colab-df-convert');\n",
              "      buttonEl.style.display =\n",
              "        google.colab.kernel.accessAllowed ? 'block' : 'none';\n",
              "\n",
              "      async function convertToInteractive(key) {\n",
              "        const element = document.querySelector('#df-73787820-3d02-4612-8fcc-0b4630404490');\n",
              "        const dataTable =\n",
              "          await google.colab.kernel.invokeFunction('convertToInteractive',\n",
              "                                                    [key], {});\n",
              "        if (!dataTable) return;\n",
              "\n",
              "        const docLinkHtml = 'Like what you see? Visit the ' +\n",
              "          '<a target=\"_blank\" href=https://colab.research.google.com/notebooks/data_table.ipynb>data table notebook</a>'\n",
              "          + ' to learn more about interactive tables.';\n",
              "        element.innerHTML = '';\n",
              "        dataTable['output_type'] = 'display_data';\n",
              "        await google.colab.output.renderOutput(dataTable, element);\n",
              "        const docLink = document.createElement('div');\n",
              "        docLink.innerHTML = docLinkHtml;\n",
              "        element.appendChild(docLink);\n",
              "      }\n",
              "    </script>\n",
              "  </div>\n",
              "\n",
              "\n",
              "<div id=\"df-115f1eec-09f2-4034-8e3a-931638270b2c\">\n",
              "  <button class=\"colab-df-quickchart\" onclick=\"quickchart('df-115f1eec-09f2-4034-8e3a-931638270b2c')\"\n",
              "            title=\"Suggest charts.\"\n",
              "            style=\"display:none;\">\n",
              "\n",
              "<svg xmlns=\"http://www.w3.org/2000/svg\" height=\"24px\"viewBox=\"0 0 24 24\"\n",
              "     width=\"24px\">\n",
              "    <g>\n",
              "        <path d=\"M19 3H5c-1.1 0-2 .9-2 2v14c0 1.1.9 2 2 2h14c1.1 0 2-.9 2-2V5c0-1.1-.9-2-2-2zM9 17H7v-7h2v7zm4 0h-2V7h2v10zm4 0h-2v-4h2v4z\"/>\n",
              "    </g>\n",
              "</svg>\n",
              "  </button>\n",
              "\n",
              "<style>\n",
              "  .colab-df-quickchart {\n",
              "      --bg-color: #E8F0FE;\n",
              "      --fill-color: #1967D2;\n",
              "      --hover-bg-color: #E2EBFA;\n",
              "      --hover-fill-color: #174EA6;\n",
              "      --disabled-fill-color: #AAA;\n",
              "      --disabled-bg-color: #DDD;\n",
              "  }\n",
              "\n",
              "  [theme=dark] .colab-df-quickchart {\n",
              "      --bg-color: #3B4455;\n",
              "      --fill-color: #D2E3FC;\n",
              "      --hover-bg-color: #434B5C;\n",
              "      --hover-fill-color: #FFFFFF;\n",
              "      --disabled-bg-color: #3B4455;\n",
              "      --disabled-fill-color: #666;\n",
              "  }\n",
              "\n",
              "  .colab-df-quickchart {\n",
              "    background-color: var(--bg-color);\n",
              "    border: none;\n",
              "    border-radius: 50%;\n",
              "    cursor: pointer;\n",
              "    display: none;\n",
              "    fill: var(--fill-color);\n",
              "    height: 32px;\n",
              "    padding: 0;\n",
              "    width: 32px;\n",
              "  }\n",
              "\n",
              "  .colab-df-quickchart:hover {\n",
              "    background-color: var(--hover-bg-color);\n",
              "    box-shadow: 0 1px 2px rgba(60, 64, 67, 0.3), 0 1px 3px 1px rgba(60, 64, 67, 0.15);\n",
              "    fill: var(--button-hover-fill-color);\n",
              "  }\n",
              "\n",
              "  .colab-df-quickchart-complete:disabled,\n",
              "  .colab-df-quickchart-complete:disabled:hover {\n",
              "    background-color: var(--disabled-bg-color);\n",
              "    fill: var(--disabled-fill-color);\n",
              "    box-shadow: none;\n",
              "  }\n",
              "\n",
              "  .colab-df-spinner {\n",
              "    border: 2px solid var(--fill-color);\n",
              "    border-color: transparent;\n",
              "    border-bottom-color: var(--fill-color);\n",
              "    animation:\n",
              "      spin 1s steps(1) infinite;\n",
              "  }\n",
              "\n",
              "  @keyframes spin {\n",
              "    0% {\n",
              "      border-color: transparent;\n",
              "      border-bottom-color: var(--fill-color);\n",
              "      border-left-color: var(--fill-color);\n",
              "    }\n",
              "    20% {\n",
              "      border-color: transparent;\n",
              "      border-left-color: var(--fill-color);\n",
              "      border-top-color: var(--fill-color);\n",
              "    }\n",
              "    30% {\n",
              "      border-color: transparent;\n",
              "      border-left-color: var(--fill-color);\n",
              "      border-top-color: var(--fill-color);\n",
              "      border-right-color: var(--fill-color);\n",
              "    }\n",
              "    40% {\n",
              "      border-color: transparent;\n",
              "      border-right-color: var(--fill-color);\n",
              "      border-top-color: var(--fill-color);\n",
              "    }\n",
              "    60% {\n",
              "      border-color: transparent;\n",
              "      border-right-color: var(--fill-color);\n",
              "    }\n",
              "    80% {\n",
              "      border-color: transparent;\n",
              "      border-right-color: var(--fill-color);\n",
              "      border-bottom-color: var(--fill-color);\n",
              "    }\n",
              "    90% {\n",
              "      border-color: transparent;\n",
              "      border-bottom-color: var(--fill-color);\n",
              "    }\n",
              "  }\n",
              "</style>\n",
              "\n",
              "  <script>\n",
              "    async function quickchart(key) {\n",
              "      const quickchartButtonEl =\n",
              "        document.querySelector('#' + key + ' button');\n",
              "      quickchartButtonEl.disabled = true;  // To prevent multiple clicks.\n",
              "      quickchartButtonEl.classList.add('colab-df-spinner');\n",
              "      try {\n",
              "        const charts = await google.colab.kernel.invokeFunction(\n",
              "            'suggestCharts', [key], {});\n",
              "      } catch (error) {\n",
              "        console.error('Error during call to suggestCharts:', error);\n",
              "      }\n",
              "      quickchartButtonEl.classList.remove('colab-df-spinner');\n",
              "      quickchartButtonEl.classList.add('colab-df-quickchart-complete');\n",
              "    }\n",
              "    (() => {\n",
              "      let quickchartButtonEl =\n",
              "        document.querySelector('#df-115f1eec-09f2-4034-8e3a-931638270b2c button');\n",
              "      quickchartButtonEl.style.display =\n",
              "        google.colab.kernel.accessAllowed ? 'block' : 'none';\n",
              "    })();\n",
              "  </script>\n",
              "</div>\n",
              "    </div>\n",
              "  </div>\n"
            ]
          },
          "metadata": {},
          "execution_count": 9
        }
      ],
      "source": [
        "#Load Our data set\n",
        "file_url = 'https://drive.google.com/file/d/1KIge_V107lRucDsv8DceNYX1SSLhZ_Hd/view?usp=drive_link'\n",
        "\n",
        "# Extract the file ID from the URL\n",
        "file_id = file_url.split('/')[-2]\n",
        "\n",
        "# Construct the download URL for the file\n",
        "download_url = 'https://drive.google.com/uc?id=' + file_id\n",
        "\n",
        "# Read the CSV file into a DataFrame\n",
        "df = pd.read_csv(download_url)\n",
        "\n",
        "# Display the first few rows of the DataFrame\n",
        "df.head()"
      ]
    },
    {
      "cell_type": "code",
      "source": [
        "skim(df)"
      ],
      "metadata": {
        "colab": {
          "base_uri": "https://localhost:8080/",
          "height": 670
        },
        "id": "GeBVLHQ4wJX1",
        "outputId": "dc0dcadf-e094-423d-8018-986b5916678c"
      },
      "execution_count": 10,
      "outputs": [
        {
          "output_type": "display_data",
          "data": {
            "text/plain": [
              "╭──────────────────────────────────────────────── skimpy summary ─────────────────────────────────────────────────╮\n",
              "│ \u001b[3m         Data Summary         \u001b[0m \u001b[3m      Data Types       \u001b[0m                                                          │\n",
              "│ ┏━━━━━━━━━━━━━━━━━━━┳━━━━━━━━┓ ┏━━━━━━━━━━━━━┳━━━━━━━┓                                                          │\n",
              "│ ┃\u001b[1;36m \u001b[0m\u001b[1;36mdataframe        \u001b[0m\u001b[1;36m \u001b[0m┃\u001b[1;36m \u001b[0m\u001b[1;36mValues\u001b[0m\u001b[1;36m \u001b[0m┃ ┃\u001b[1;36m \u001b[0m\u001b[1;36mColumn Type\u001b[0m\u001b[1;36m \u001b[0m┃\u001b[1;36m \u001b[0m\u001b[1;36mCount\u001b[0m\u001b[1;36m \u001b[0m┃                                                          │\n",
              "│ ┡━━━━━━━━━━━━━━━━━━━╇━━━━━━━━┩ ┡━━━━━━━━━━━━━╇━━━━━━━┩                                                          │\n",
              "│ │ Number of rows    │ 1422   │ │ string      │ 10    │                                                          │\n",
              "│ │ Number of columns │ 17     │ │ int64       │ 5     │                                                          │\n",
              "│ └───────────────────┴────────┘ │ float64     │ 2     │                                                          │\n",
              "│                                └─────────────┴───────┘                                                          │\n",
              "│ \u001b[3m                                                    number                                                    \u001b[0m  │\n",
              "│ ┏━━━━━━━━━━━━━━━━━━━┳━━━━━━━┳━━━━━━━━━┳━━━━━━━━━┳━━━━━━━━┳━━━━━━━┳━━━━━━━┳━━━━━━━┳━━━━━━━━━━┳━━━━━━━┳━━━━━━━━┓  │\n",
              "│ ┃\u001b[1m \u001b[0m\u001b[1mcolumn_name      \u001b[0m\u001b[1m \u001b[0m┃\u001b[1m \u001b[0m\u001b[1mNA   \u001b[0m\u001b[1m \u001b[0m┃\u001b[1m \u001b[0m\u001b[1mNA %   \u001b[0m\u001b[1m \u001b[0m┃\u001b[1m \u001b[0m\u001b[1mmean   \u001b[0m\u001b[1m \u001b[0m┃\u001b[1m \u001b[0m\u001b[1msd    \u001b[0m\u001b[1m \u001b[0m┃\u001b[1m \u001b[0m\u001b[1mp0   \u001b[0m\u001b[1m \u001b[0m┃\u001b[1m \u001b[0m\u001b[1mp25  \u001b[0m\u001b[1m \u001b[0m┃\u001b[1m \u001b[0m\u001b[1mp50  \u001b[0m\u001b[1m \u001b[0m┃\u001b[1m \u001b[0m\u001b[1mp75     \u001b[0m\u001b[1m \u001b[0m┃\u001b[1m \u001b[0m\u001b[1mp100 \u001b[0m\u001b[1m \u001b[0m┃\u001b[1m \u001b[0m\u001b[1mhist  \u001b[0m\u001b[1m \u001b[0m┃  │\n",
              "│ ┡━━━━━━━━━━━━━━━━━━━╇━━━━━━━╇━━━━━━━━━╇━━━━━━━━━╇━━━━━━━━╇━━━━━━━╇━━━━━━━╇━━━━━━━╇━━━━━━━━━━╇━━━━━━━╇━━━━━━━━┩  │\n",
              "│ │ \u001b[38;5;141mUnnamed: 0       \u001b[0m │ \u001b[36m    0\u001b[0m │ \u001b[36m      0\u001b[0m │ \u001b[36m    710\u001b[0m │ \u001b[36m   410\u001b[0m │ \u001b[36m    0\u001b[0m │ \u001b[36m  360\u001b[0m │ \u001b[36m  710\u001b[0m │ \u001b[36m    1100\u001b[0m │ \u001b[36m 1400\u001b[0m │ \u001b[32m▇▇▇▇▇▇\u001b[0m │  │\n",
              "│ │ \u001b[38;5;141mrow              \u001b[0m │ \u001b[36m    0\u001b[0m │ \u001b[36m      0\u001b[0m │ \u001b[36m    690\u001b[0m │ \u001b[36m   400\u001b[0m │ \u001b[36m    0\u001b[0m │ \u001b[36m  350\u001b[0m │ \u001b[36m  680\u001b[0m │ \u001b[36m    1000\u001b[0m │ \u001b[36m 1400\u001b[0m │ \u001b[32m▇▇▇▇▇▇\u001b[0m │  │\n",
              "│ │ \u001b[38;5;141mvictim           \u001b[0m │ \u001b[36m    0\u001b[0m │ \u001b[36m      0\u001b[0m │ \u001b[36m  0.039\u001b[0m │ \u001b[36m  0.24\u001b[0m │ \u001b[36m    0\u001b[0m │ \u001b[36m    0\u001b[0m │ \u001b[36m    0\u001b[0m │ \u001b[36m       0\u001b[0m │ \u001b[36m    4\u001b[0m │ \u001b[32m  ▇   \u001b[0m │  │\n",
              "│ │ \u001b[38;5;141mAge_refined      \u001b[0m │ \u001b[36m    0\u001b[0m │ \u001b[36m      0\u001b[0m │ \u001b[36m     35\u001b[0m │ \u001b[36m    15\u001b[0m │ \u001b[36m    1\u001b[0m │ \u001b[36m   25\u001b[0m │ \u001b[36m   32\u001b[0m │ \u001b[36m      43\u001b[0m │ \u001b[36m   90\u001b[0m │ \u001b[32m▂▇▇▃▁ \u001b[0m │  │\n",
              "│ │ \u001b[38;5;141mTotal Victims    \u001b[0m │ \u001b[36m    0\u001b[0m │ \u001b[36m      0\u001b[0m │ \u001b[36m    1.2\u001b[0m │ \u001b[36m  0.99\u001b[0m │ \u001b[36m    1\u001b[0m │ \u001b[36m    1\u001b[0m │ \u001b[36m    1\u001b[0m │ \u001b[36m       1\u001b[0m │ \u001b[36m   18\u001b[0m │ \u001b[32m  ▇   \u001b[0m │  │\n",
              "│ │ \u001b[38;5;141mLatitude         \u001b[0m │ \u001b[36m  842\u001b[0m │ \u001b[36m  59.21\u001b[0m │ \u001b[36m  -0.85\u001b[0m │ \u001b[36m   1.1\u001b[0m │ \u001b[36m -4.4\u001b[0m │ \u001b[36m -1.3\u001b[0m │ \u001b[36m -0.7\u001b[0m │ \u001b[36m  -0.092\u001b[0m │ \u001b[36m  3.5\u001b[0m │ \u001b[32m ▁▁▇▆ \u001b[0m │  │\n",
              "│ │ \u001b[38;5;141mLongitude        \u001b[0m │ \u001b[36m  842\u001b[0m │ \u001b[36m  59.21\u001b[0m │ \u001b[36m     36\u001b[0m │ \u001b[36m   1.3\u001b[0m │ \u001b[36m   34\u001b[0m │ \u001b[36m   35\u001b[0m │ \u001b[36m   37\u001b[0m │ \u001b[36m      37\u001b[0m │ \u001b[36m   40\u001b[0m │ \u001b[32m▅▃▇▃▁▁\u001b[0m │  │\n",
              "│ └───────────────────┴───────┴─────────┴─────────┴────────┴───────┴───────┴───────┴──────────┴───────┴────────┘  │\n",
              "│ \u001b[3m                                                    string                                                    \u001b[0m  │\n",
              "│ ┏━━━━━━━━━━━━━━━━━━━━━━━━━━┳━━━━━━━━━━┳━━━━━━━━━━━━┳━━━━━━━━━━━━━━━━━━━━━━━━━━━━━━┳━━━━━━━━━━━━━━━━━━━━━━━━━━┓  │\n",
              "│ ┃\u001b[1m \u001b[0m\u001b[1mcolumn_name             \u001b[0m\u001b[1m \u001b[0m┃\u001b[1m \u001b[0m\u001b[1mNA      \u001b[0m\u001b[1m \u001b[0m┃\u001b[1m \u001b[0m\u001b[1mNA %      \u001b[0m\u001b[1m \u001b[0m┃\u001b[1m \u001b[0m\u001b[1mwords per row               \u001b[0m\u001b[1m \u001b[0m┃\u001b[1m \u001b[0m\u001b[1mtotal words             \u001b[0m\u001b[1m \u001b[0m┃  │\n",
              "│ ┡━━━━━━━━━━━━━━━━━━━━━━━━━━╇━━━━━━━━━━╇━━━━━━━━━━━━╇━━━━━━━━━━━━━━━━━━━━━━━━━━━━━━╇━━━━━━━━━━━━━━━━━━━━━━━━━━┩  │\n",
              "│ │ \u001b[38;5;141mBase                    \u001b[0m │ \u001b[36m       0\u001b[0m │ \u001b[36m         0\u001b[0m │ \u001b[36m                         1.1\u001b[0m │ \u001b[36m                    1609\u001b[0m │  │\n",
              "│ │ \u001b[38;5;141mDetails                 \u001b[0m │ \u001b[36m       0\u001b[0m │ \u001b[36m         0\u001b[0m │ \u001b[36m                         7.5\u001b[0m │ \u001b[36m                   10726\u001b[0m │  │\n",
              "│ │ \u001b[38;5;141mCounty                  \u001b[0m │ \u001b[36m       0\u001b[0m │ \u001b[36m         0\u001b[0m │ \u001b[36m                         1.1\u001b[0m │ \u001b[36m                    1513\u001b[0m │  │\n",
              "│ │ \u001b[38;5;141mDate                    \u001b[0m │ \u001b[36m       0\u001b[0m │ \u001b[36m         0\u001b[0m │ \u001b[36m                           1\u001b[0m │ \u001b[36m                    1422\u001b[0m │  │\n",
              "│ │ \u001b[38;5;141mGender                  \u001b[0m │ \u001b[36m       0\u001b[0m │ \u001b[36m         0\u001b[0m │ \u001b[36m                         1.1\u001b[0m │ \u001b[36m                    1544\u001b[0m │  │\n",
              "│ │ \u001b[38;5;141mMv Involved             \u001b[0m │ \u001b[36m     492\u001b[0m │ \u001b[36m      34.6\u001b[0m │ \u001b[36m                         3.1\u001b[0m │ \u001b[36m                    4339\u001b[0m │  │\n",
              "│ │ \u001b[38;5;141mPlace                   \u001b[0m │ \u001b[36m      14\u001b[0m │ \u001b[36m      0.98\u001b[0m │ \u001b[36m                         2.2\u001b[0m │ \u001b[36m                    3168\u001b[0m │  │\n",
              "│ │ \u001b[38;5;141mRoad                    \u001b[0m │ \u001b[36m       0\u001b[0m │ \u001b[36m         0\u001b[0m │ \u001b[36m                         1.9\u001b[0m │ \u001b[36m                    2663\u001b[0m │  │\n",
              "│ │ \u001b[38;5;141mTime                    \u001b[0m │ \u001b[36m      29\u001b[0m │ \u001b[36m      2.04\u001b[0m │ \u001b[36m                        0.98\u001b[0m │ \u001b[36m                    1393\u001b[0m │  │\n",
              "│ │ \u001b[38;5;141mVictim                  \u001b[0m │ \u001b[36m       0\u001b[0m │ \u001b[36m         0\u001b[0m │ \u001b[36m                           1\u001b[0m │ \u001b[36m                    1456\u001b[0m │  │\n",
              "│ └──────────────────────────┴──────────┴────────────┴──────────────────────────────┴──────────────────────────┘  │\n",
              "╰────────────────────────────────────────────────────── End ──────────────────────────────────────────────────────╯\n"
            ],
            "text/html": [
              "<pre style=\"white-space:pre;overflow-x:auto;line-height:normal;font-family:Menlo,'DejaVu Sans Mono',consolas,'Courier New',monospace\">╭──────────────────────────────────────────────── skimpy summary ─────────────────────────────────────────────────╮\n",
              "│ <span style=\"font-style: italic\">         Data Summary         </span> <span style=\"font-style: italic\">      Data Types       </span>                                                          │\n",
              "│ ┏━━━━━━━━━━━━━━━━━━━┳━━━━━━━━┓ ┏━━━━━━━━━━━━━┳━━━━━━━┓                                                          │\n",
              "│ ┃<span style=\"color: #008080; text-decoration-color: #008080; font-weight: bold\"> dataframe         </span>┃<span style=\"color: #008080; text-decoration-color: #008080; font-weight: bold\"> Values </span>┃ ┃<span style=\"color: #008080; text-decoration-color: #008080; font-weight: bold\"> Column Type </span>┃<span style=\"color: #008080; text-decoration-color: #008080; font-weight: bold\"> Count </span>┃                                                          │\n",
              "│ ┡━━━━━━━━━━━━━━━━━━━╇━━━━━━━━┩ ┡━━━━━━━━━━━━━╇━━━━━━━┩                                                          │\n",
              "│ │ Number of rows    │ 1422   │ │ string      │ 10    │                                                          │\n",
              "│ │ Number of columns │ 17     │ │ int64       │ 5     │                                                          │\n",
              "│ └───────────────────┴────────┘ │ float64     │ 2     │                                                          │\n",
              "│                                └─────────────┴───────┘                                                          │\n",
              "│ <span style=\"font-style: italic\">                                                    number                                                    </span>  │\n",
              "│ ┏━━━━━━━━━━━━━━━━━━━┳━━━━━━━┳━━━━━━━━━┳━━━━━━━━━┳━━━━━━━━┳━━━━━━━┳━━━━━━━┳━━━━━━━┳━━━━━━━━━━┳━━━━━━━┳━━━━━━━━┓  │\n",
              "│ ┃<span style=\"font-weight: bold\"> column_name       </span>┃<span style=\"font-weight: bold\"> NA    </span>┃<span style=\"font-weight: bold\"> NA %    </span>┃<span style=\"font-weight: bold\"> mean    </span>┃<span style=\"font-weight: bold\"> sd     </span>┃<span style=\"font-weight: bold\"> p0    </span>┃<span style=\"font-weight: bold\"> p25   </span>┃<span style=\"font-weight: bold\"> p50   </span>┃<span style=\"font-weight: bold\"> p75      </span>┃<span style=\"font-weight: bold\"> p100  </span>┃<span style=\"font-weight: bold\"> hist   </span>┃  │\n",
              "│ ┡━━━━━━━━━━━━━━━━━━━╇━━━━━━━╇━━━━━━━━━╇━━━━━━━━━╇━━━━━━━━╇━━━━━━━╇━━━━━━━╇━━━━━━━╇━━━━━━━━━━╇━━━━━━━╇━━━━━━━━┩  │\n",
              "│ │ <span style=\"color: #af87ff; text-decoration-color: #af87ff\">Unnamed: 0       </span> │ <span style=\"color: #008080; text-decoration-color: #008080\">    0</span> │ <span style=\"color: #008080; text-decoration-color: #008080\">      0</span> │ <span style=\"color: #008080; text-decoration-color: #008080\">    710</span> │ <span style=\"color: #008080; text-decoration-color: #008080\">   410</span> │ <span style=\"color: #008080; text-decoration-color: #008080\">    0</span> │ <span style=\"color: #008080; text-decoration-color: #008080\">  360</span> │ <span style=\"color: #008080; text-decoration-color: #008080\">  710</span> │ <span style=\"color: #008080; text-decoration-color: #008080\">    1100</span> │ <span style=\"color: #008080; text-decoration-color: #008080\"> 1400</span> │ <span style=\"color: #008000; text-decoration-color: #008000\">▇▇▇▇▇▇</span> │  │\n",
              "│ │ <span style=\"color: #af87ff; text-decoration-color: #af87ff\">row              </span> │ <span style=\"color: #008080; text-decoration-color: #008080\">    0</span> │ <span style=\"color: #008080; text-decoration-color: #008080\">      0</span> │ <span style=\"color: #008080; text-decoration-color: #008080\">    690</span> │ <span style=\"color: #008080; text-decoration-color: #008080\">   400</span> │ <span style=\"color: #008080; text-decoration-color: #008080\">    0</span> │ <span style=\"color: #008080; text-decoration-color: #008080\">  350</span> │ <span style=\"color: #008080; text-decoration-color: #008080\">  680</span> │ <span style=\"color: #008080; text-decoration-color: #008080\">    1000</span> │ <span style=\"color: #008080; text-decoration-color: #008080\"> 1400</span> │ <span style=\"color: #008000; text-decoration-color: #008000\">▇▇▇▇▇▇</span> │  │\n",
              "│ │ <span style=\"color: #af87ff; text-decoration-color: #af87ff\">victim           </span> │ <span style=\"color: #008080; text-decoration-color: #008080\">    0</span> │ <span style=\"color: #008080; text-decoration-color: #008080\">      0</span> │ <span style=\"color: #008080; text-decoration-color: #008080\">  0.039</span> │ <span style=\"color: #008080; text-decoration-color: #008080\">  0.24</span> │ <span style=\"color: #008080; text-decoration-color: #008080\">    0</span> │ <span style=\"color: #008080; text-decoration-color: #008080\">    0</span> │ <span style=\"color: #008080; text-decoration-color: #008080\">    0</span> │ <span style=\"color: #008080; text-decoration-color: #008080\">       0</span> │ <span style=\"color: #008080; text-decoration-color: #008080\">    4</span> │ <span style=\"color: #008000; text-decoration-color: #008000\">  ▇   </span> │  │\n",
              "│ │ <span style=\"color: #af87ff; text-decoration-color: #af87ff\">Age_refined      </span> │ <span style=\"color: #008080; text-decoration-color: #008080\">    0</span> │ <span style=\"color: #008080; text-decoration-color: #008080\">      0</span> │ <span style=\"color: #008080; text-decoration-color: #008080\">     35</span> │ <span style=\"color: #008080; text-decoration-color: #008080\">    15</span> │ <span style=\"color: #008080; text-decoration-color: #008080\">    1</span> │ <span style=\"color: #008080; text-decoration-color: #008080\">   25</span> │ <span style=\"color: #008080; text-decoration-color: #008080\">   32</span> │ <span style=\"color: #008080; text-decoration-color: #008080\">      43</span> │ <span style=\"color: #008080; text-decoration-color: #008080\">   90</span> │ <span style=\"color: #008000; text-decoration-color: #008000\">▂▇▇▃▁ </span> │  │\n",
              "│ │ <span style=\"color: #af87ff; text-decoration-color: #af87ff\">Total Victims    </span> │ <span style=\"color: #008080; text-decoration-color: #008080\">    0</span> │ <span style=\"color: #008080; text-decoration-color: #008080\">      0</span> │ <span style=\"color: #008080; text-decoration-color: #008080\">    1.2</span> │ <span style=\"color: #008080; text-decoration-color: #008080\">  0.99</span> │ <span style=\"color: #008080; text-decoration-color: #008080\">    1</span> │ <span style=\"color: #008080; text-decoration-color: #008080\">    1</span> │ <span style=\"color: #008080; text-decoration-color: #008080\">    1</span> │ <span style=\"color: #008080; text-decoration-color: #008080\">       1</span> │ <span style=\"color: #008080; text-decoration-color: #008080\">   18</span> │ <span style=\"color: #008000; text-decoration-color: #008000\">  ▇   </span> │  │\n",
              "│ │ <span style=\"color: #af87ff; text-decoration-color: #af87ff\">Latitude         </span> │ <span style=\"color: #008080; text-decoration-color: #008080\">  842</span> │ <span style=\"color: #008080; text-decoration-color: #008080\">  59.21</span> │ <span style=\"color: #008080; text-decoration-color: #008080\">  -0.85</span> │ <span style=\"color: #008080; text-decoration-color: #008080\">   1.1</span> │ <span style=\"color: #008080; text-decoration-color: #008080\"> -4.4</span> │ <span style=\"color: #008080; text-decoration-color: #008080\"> -1.3</span> │ <span style=\"color: #008080; text-decoration-color: #008080\"> -0.7</span> │ <span style=\"color: #008080; text-decoration-color: #008080\">  -0.092</span> │ <span style=\"color: #008080; text-decoration-color: #008080\">  3.5</span> │ <span style=\"color: #008000; text-decoration-color: #008000\"> ▁▁▇▆ </span> │  │\n",
              "│ │ <span style=\"color: #af87ff; text-decoration-color: #af87ff\">Longitude        </span> │ <span style=\"color: #008080; text-decoration-color: #008080\">  842</span> │ <span style=\"color: #008080; text-decoration-color: #008080\">  59.21</span> │ <span style=\"color: #008080; text-decoration-color: #008080\">     36</span> │ <span style=\"color: #008080; text-decoration-color: #008080\">   1.3</span> │ <span style=\"color: #008080; text-decoration-color: #008080\">   34</span> │ <span style=\"color: #008080; text-decoration-color: #008080\">   35</span> │ <span style=\"color: #008080; text-decoration-color: #008080\">   37</span> │ <span style=\"color: #008080; text-decoration-color: #008080\">      37</span> │ <span style=\"color: #008080; text-decoration-color: #008080\">   40</span> │ <span style=\"color: #008000; text-decoration-color: #008000\">▅▃▇▃▁▁</span> │  │\n",
              "│ └───────────────────┴───────┴─────────┴─────────┴────────┴───────┴───────┴───────┴──────────┴───────┴────────┘  │\n",
              "│ <span style=\"font-style: italic\">                                                    string                                                    </span>  │\n",
              "│ ┏━━━━━━━━━━━━━━━━━━━━━━━━━━┳━━━━━━━━━━┳━━━━━━━━━━━━┳━━━━━━━━━━━━━━━━━━━━━━━━━━━━━━┳━━━━━━━━━━━━━━━━━━━━━━━━━━┓  │\n",
              "│ ┃<span style=\"font-weight: bold\"> column_name              </span>┃<span style=\"font-weight: bold\"> NA       </span>┃<span style=\"font-weight: bold\"> NA %       </span>┃<span style=\"font-weight: bold\"> words per row                </span>┃<span style=\"font-weight: bold\"> total words              </span>┃  │\n",
              "│ ┡━━━━━━━━━━━━━━━━━━━━━━━━━━╇━━━━━━━━━━╇━━━━━━━━━━━━╇━━━━━━━━━━━━━━━━━━━━━━━━━━━━━━╇━━━━━━━━━━━━━━━━━━━━━━━━━━┩  │\n",
              "│ │ <span style=\"color: #af87ff; text-decoration-color: #af87ff\">Base                    </span> │ <span style=\"color: #008080; text-decoration-color: #008080\">       0</span> │ <span style=\"color: #008080; text-decoration-color: #008080\">         0</span> │ <span style=\"color: #008080; text-decoration-color: #008080\">                         1.1</span> │ <span style=\"color: #008080; text-decoration-color: #008080\">                    1609</span> │  │\n",
              "│ │ <span style=\"color: #af87ff; text-decoration-color: #af87ff\">Details                 </span> │ <span style=\"color: #008080; text-decoration-color: #008080\">       0</span> │ <span style=\"color: #008080; text-decoration-color: #008080\">         0</span> │ <span style=\"color: #008080; text-decoration-color: #008080\">                         7.5</span> │ <span style=\"color: #008080; text-decoration-color: #008080\">                   10726</span> │  │\n",
              "│ │ <span style=\"color: #af87ff; text-decoration-color: #af87ff\">County                  </span> │ <span style=\"color: #008080; text-decoration-color: #008080\">       0</span> │ <span style=\"color: #008080; text-decoration-color: #008080\">         0</span> │ <span style=\"color: #008080; text-decoration-color: #008080\">                         1.1</span> │ <span style=\"color: #008080; text-decoration-color: #008080\">                    1513</span> │  │\n",
              "│ │ <span style=\"color: #af87ff; text-decoration-color: #af87ff\">Date                    </span> │ <span style=\"color: #008080; text-decoration-color: #008080\">       0</span> │ <span style=\"color: #008080; text-decoration-color: #008080\">         0</span> │ <span style=\"color: #008080; text-decoration-color: #008080\">                           1</span> │ <span style=\"color: #008080; text-decoration-color: #008080\">                    1422</span> │  │\n",
              "│ │ <span style=\"color: #af87ff; text-decoration-color: #af87ff\">Gender                  </span> │ <span style=\"color: #008080; text-decoration-color: #008080\">       0</span> │ <span style=\"color: #008080; text-decoration-color: #008080\">         0</span> │ <span style=\"color: #008080; text-decoration-color: #008080\">                         1.1</span> │ <span style=\"color: #008080; text-decoration-color: #008080\">                    1544</span> │  │\n",
              "│ │ <span style=\"color: #af87ff; text-decoration-color: #af87ff\">Mv Involved             </span> │ <span style=\"color: #008080; text-decoration-color: #008080\">     492</span> │ <span style=\"color: #008080; text-decoration-color: #008080\">      34.6</span> │ <span style=\"color: #008080; text-decoration-color: #008080\">                         3.1</span> │ <span style=\"color: #008080; text-decoration-color: #008080\">                    4339</span> │  │\n",
              "│ │ <span style=\"color: #af87ff; text-decoration-color: #af87ff\">Place                   </span> │ <span style=\"color: #008080; text-decoration-color: #008080\">      14</span> │ <span style=\"color: #008080; text-decoration-color: #008080\">      0.98</span> │ <span style=\"color: #008080; text-decoration-color: #008080\">                         2.2</span> │ <span style=\"color: #008080; text-decoration-color: #008080\">                    3168</span> │  │\n",
              "│ │ <span style=\"color: #af87ff; text-decoration-color: #af87ff\">Road                    </span> │ <span style=\"color: #008080; text-decoration-color: #008080\">       0</span> │ <span style=\"color: #008080; text-decoration-color: #008080\">         0</span> │ <span style=\"color: #008080; text-decoration-color: #008080\">                         1.9</span> │ <span style=\"color: #008080; text-decoration-color: #008080\">                    2663</span> │  │\n",
              "│ │ <span style=\"color: #af87ff; text-decoration-color: #af87ff\">Time                    </span> │ <span style=\"color: #008080; text-decoration-color: #008080\">      29</span> │ <span style=\"color: #008080; text-decoration-color: #008080\">      2.04</span> │ <span style=\"color: #008080; text-decoration-color: #008080\">                        0.98</span> │ <span style=\"color: #008080; text-decoration-color: #008080\">                    1393</span> │  │\n",
              "│ │ <span style=\"color: #af87ff; text-decoration-color: #af87ff\">Victim                  </span> │ <span style=\"color: #008080; text-decoration-color: #008080\">       0</span> │ <span style=\"color: #008080; text-decoration-color: #008080\">         0</span> │ <span style=\"color: #008080; text-decoration-color: #008080\">                           1</span> │ <span style=\"color: #008080; text-decoration-color: #008080\">                    1456</span> │  │\n",
              "│ └──────────────────────────┴──────────┴────────────┴──────────────────────────────┴──────────────────────────┘  │\n",
              "╰────────────────────────────────────────────────────── End ──────────────────────────────────────────────────────╯\n",
              "</pre>\n"
            ]
          },
          "metadata": {}
        }
      ]
    },
    {
      "cell_type": "code",
      "execution_count": 11,
      "metadata": {
        "colab": {
          "base_uri": "https://localhost:8080/"
        },
        "id": "eGlOX21BPx9d",
        "outputId": "caaebf9f-04da-4afb-9bfa-84af8439c77b"
      },
      "outputs": [
        {
          "output_type": "stream",
          "name": "stdout",
          "text": [
            "<class 'pandas.core.frame.DataFrame'>\n",
            "RangeIndex: 1422 entries, 0 to 1421\n",
            "Data columns (total 17 columns):\n",
            " #   Column         Non-Null Count  Dtype  \n",
            "---  ------         --------------  -----  \n",
            " 0   Unnamed: 0     1422 non-null   int64  \n",
            " 1   row            1422 non-null   int64  \n",
            " 2   victim         1422 non-null   int64  \n",
            " 3   Age_refined    1422 non-null   int64  \n",
            " 4   Base           1422 non-null   object \n",
            " 5   Details        1422 non-null   object \n",
            " 6   County         1422 non-null   object \n",
            " 7   Date           1422 non-null   object \n",
            " 8   Gender         1422 non-null   object \n",
            " 9   Mv Involved    930 non-null    object \n",
            " 10  Total Victims  1422 non-null   int64  \n",
            " 11  Place          1408 non-null   object \n",
            " 12  Road           1422 non-null   object \n",
            " 13  Time           1393 non-null   object \n",
            " 14  Victim         1422 non-null   object \n",
            " 15  Latitude       580 non-null    float64\n",
            " 16  Longitude      580 non-null    float64\n",
            "dtypes: float64(2), int64(5), object(10)\n",
            "memory usage: 189.0+ KB\n"
          ]
        }
      ],
      "source": [
        "df.info()"
      ]
    },
    {
      "cell_type": "code",
      "execution_count": 12,
      "metadata": {
        "colab": {
          "base_uri": "https://localhost:8080/",
          "height": 300
        },
        "id": "9F2JB3HdPyBW",
        "outputId": "6785c852-83de-404e-f181-0918814f7734"
      },
      "outputs": [
        {
          "output_type": "execute_result",
          "data": {
            "text/plain": [
              "        Unnamed: 0          row       victim  Age_refined  Total Victims  \\\n",
              "count  1422.000000  1422.000000  1422.000000  1422.000000    1422.000000   \n",
              "mean    712.488045   686.276371     0.039381    35.031646       1.239100   \n",
              "std     412.043680   399.391830     0.242835    15.354126       0.986434   \n",
              "min       0.000000     0.000000     0.000000     1.000000       1.000000   \n",
              "25%     356.250000   346.250000     0.000000    25.000000       1.000000   \n",
              "50%     711.500000   679.500000     0.000000    32.500000       1.000000   \n",
              "75%    1067.750000  1029.750000     0.000000    43.000000       1.000000   \n",
              "max    1429.000000  1384.000000     4.000000    90.000000      18.000000   \n",
              "\n",
              "         Latitude   Longitude  \n",
              "count  580.000000  580.000000  \n",
              "mean    -0.846253   36.461784  \n",
              "std      1.119285    1.335129  \n",
              "min     -4.358752   34.253889  \n",
              "25%     -1.319011   35.296203  \n",
              "50%     -0.698902   36.715839  \n",
              "75%     -0.091661   36.971933  \n",
              "max      3.515905   40.174405  "
            ],
            "text/html": [
              "\n",
              "  <div id=\"df-177883df-4ec7-4a2e-aa78-9fea04607937\" class=\"colab-df-container\">\n",
              "    <div>\n",
              "<style scoped>\n",
              "    .dataframe tbody tr th:only-of-type {\n",
              "        vertical-align: middle;\n",
              "    }\n",
              "\n",
              "    .dataframe tbody tr th {\n",
              "        vertical-align: top;\n",
              "    }\n",
              "\n",
              "    .dataframe thead th {\n",
              "        text-align: right;\n",
              "    }\n",
              "</style>\n",
              "<table border=\"1\" class=\"dataframe\">\n",
              "  <thead>\n",
              "    <tr style=\"text-align: right;\">\n",
              "      <th></th>\n",
              "      <th>Unnamed: 0</th>\n",
              "      <th>row</th>\n",
              "      <th>victim</th>\n",
              "      <th>Age_refined</th>\n",
              "      <th>Total Victims</th>\n",
              "      <th>Latitude</th>\n",
              "      <th>Longitude</th>\n",
              "    </tr>\n",
              "  </thead>\n",
              "  <tbody>\n",
              "    <tr>\n",
              "      <th>count</th>\n",
              "      <td>1422.000000</td>\n",
              "      <td>1422.000000</td>\n",
              "      <td>1422.000000</td>\n",
              "      <td>1422.000000</td>\n",
              "      <td>1422.000000</td>\n",
              "      <td>580.000000</td>\n",
              "      <td>580.000000</td>\n",
              "    </tr>\n",
              "    <tr>\n",
              "      <th>mean</th>\n",
              "      <td>712.488045</td>\n",
              "      <td>686.276371</td>\n",
              "      <td>0.039381</td>\n",
              "      <td>35.031646</td>\n",
              "      <td>1.239100</td>\n",
              "      <td>-0.846253</td>\n",
              "      <td>36.461784</td>\n",
              "    </tr>\n",
              "    <tr>\n",
              "      <th>std</th>\n",
              "      <td>412.043680</td>\n",
              "      <td>399.391830</td>\n",
              "      <td>0.242835</td>\n",
              "      <td>15.354126</td>\n",
              "      <td>0.986434</td>\n",
              "      <td>1.119285</td>\n",
              "      <td>1.335129</td>\n",
              "    </tr>\n",
              "    <tr>\n",
              "      <th>min</th>\n",
              "      <td>0.000000</td>\n",
              "      <td>0.000000</td>\n",
              "      <td>0.000000</td>\n",
              "      <td>1.000000</td>\n",
              "      <td>1.000000</td>\n",
              "      <td>-4.358752</td>\n",
              "      <td>34.253889</td>\n",
              "    </tr>\n",
              "    <tr>\n",
              "      <th>25%</th>\n",
              "      <td>356.250000</td>\n",
              "      <td>346.250000</td>\n",
              "      <td>0.000000</td>\n",
              "      <td>25.000000</td>\n",
              "      <td>1.000000</td>\n",
              "      <td>-1.319011</td>\n",
              "      <td>35.296203</td>\n",
              "    </tr>\n",
              "    <tr>\n",
              "      <th>50%</th>\n",
              "      <td>711.500000</td>\n",
              "      <td>679.500000</td>\n",
              "      <td>0.000000</td>\n",
              "      <td>32.500000</td>\n",
              "      <td>1.000000</td>\n",
              "      <td>-0.698902</td>\n",
              "      <td>36.715839</td>\n",
              "    </tr>\n",
              "    <tr>\n",
              "      <th>75%</th>\n",
              "      <td>1067.750000</td>\n",
              "      <td>1029.750000</td>\n",
              "      <td>0.000000</td>\n",
              "      <td>43.000000</td>\n",
              "      <td>1.000000</td>\n",
              "      <td>-0.091661</td>\n",
              "      <td>36.971933</td>\n",
              "    </tr>\n",
              "    <tr>\n",
              "      <th>max</th>\n",
              "      <td>1429.000000</td>\n",
              "      <td>1384.000000</td>\n",
              "      <td>4.000000</td>\n",
              "      <td>90.000000</td>\n",
              "      <td>18.000000</td>\n",
              "      <td>3.515905</td>\n",
              "      <td>40.174405</td>\n",
              "    </tr>\n",
              "  </tbody>\n",
              "</table>\n",
              "</div>\n",
              "    <div class=\"colab-df-buttons\">\n",
              "\n",
              "  <div class=\"colab-df-container\">\n",
              "    <button class=\"colab-df-convert\" onclick=\"convertToInteractive('df-177883df-4ec7-4a2e-aa78-9fea04607937')\"\n",
              "            title=\"Convert this dataframe to an interactive table.\"\n",
              "            style=\"display:none;\">\n",
              "\n",
              "  <svg xmlns=\"http://www.w3.org/2000/svg\" height=\"24px\" viewBox=\"0 -960 960 960\">\n",
              "    <path d=\"M120-120v-720h720v720H120Zm60-500h600v-160H180v160Zm220 220h160v-160H400v160Zm0 220h160v-160H400v160ZM180-400h160v-160H180v160Zm440 0h160v-160H620v160ZM180-180h160v-160H180v160Zm440 0h160v-160H620v160Z\"/>\n",
              "  </svg>\n",
              "    </button>\n",
              "\n",
              "  <style>\n",
              "    .colab-df-container {\n",
              "      display:flex;\n",
              "      gap: 12px;\n",
              "    }\n",
              "\n",
              "    .colab-df-convert {\n",
              "      background-color: #E8F0FE;\n",
              "      border: none;\n",
              "      border-radius: 50%;\n",
              "      cursor: pointer;\n",
              "      display: none;\n",
              "      fill: #1967D2;\n",
              "      height: 32px;\n",
              "      padding: 0 0 0 0;\n",
              "      width: 32px;\n",
              "    }\n",
              "\n",
              "    .colab-df-convert:hover {\n",
              "      background-color: #E2EBFA;\n",
              "      box-shadow: 0px 1px 2px rgba(60, 64, 67, 0.3), 0px 1px 3px 1px rgba(60, 64, 67, 0.15);\n",
              "      fill: #174EA6;\n",
              "    }\n",
              "\n",
              "    .colab-df-buttons div {\n",
              "      margin-bottom: 4px;\n",
              "    }\n",
              "\n",
              "    [theme=dark] .colab-df-convert {\n",
              "      background-color: #3B4455;\n",
              "      fill: #D2E3FC;\n",
              "    }\n",
              "\n",
              "    [theme=dark] .colab-df-convert:hover {\n",
              "      background-color: #434B5C;\n",
              "      box-shadow: 0px 1px 3px 1px rgba(0, 0, 0, 0.15);\n",
              "      filter: drop-shadow(0px 1px 2px rgba(0, 0, 0, 0.3));\n",
              "      fill: #FFFFFF;\n",
              "    }\n",
              "  </style>\n",
              "\n",
              "    <script>\n",
              "      const buttonEl =\n",
              "        document.querySelector('#df-177883df-4ec7-4a2e-aa78-9fea04607937 button.colab-df-convert');\n",
              "      buttonEl.style.display =\n",
              "        google.colab.kernel.accessAllowed ? 'block' : 'none';\n",
              "\n",
              "      async function convertToInteractive(key) {\n",
              "        const element = document.querySelector('#df-177883df-4ec7-4a2e-aa78-9fea04607937');\n",
              "        const dataTable =\n",
              "          await google.colab.kernel.invokeFunction('convertToInteractive',\n",
              "                                                    [key], {});\n",
              "        if (!dataTable) return;\n",
              "\n",
              "        const docLinkHtml = 'Like what you see? Visit the ' +\n",
              "          '<a target=\"_blank\" href=https://colab.research.google.com/notebooks/data_table.ipynb>data table notebook</a>'\n",
              "          + ' to learn more about interactive tables.';\n",
              "        element.innerHTML = '';\n",
              "        dataTable['output_type'] = 'display_data';\n",
              "        await google.colab.output.renderOutput(dataTable, element);\n",
              "        const docLink = document.createElement('div');\n",
              "        docLink.innerHTML = docLinkHtml;\n",
              "        element.appendChild(docLink);\n",
              "      }\n",
              "    </script>\n",
              "  </div>\n",
              "\n",
              "\n",
              "<div id=\"df-bc4a37bd-d8f1-4b0c-aa3c-f9d48373dbf3\">\n",
              "  <button class=\"colab-df-quickchart\" onclick=\"quickchart('df-bc4a37bd-d8f1-4b0c-aa3c-f9d48373dbf3')\"\n",
              "            title=\"Suggest charts.\"\n",
              "            style=\"display:none;\">\n",
              "\n",
              "<svg xmlns=\"http://www.w3.org/2000/svg\" height=\"24px\"viewBox=\"0 0 24 24\"\n",
              "     width=\"24px\">\n",
              "    <g>\n",
              "        <path d=\"M19 3H5c-1.1 0-2 .9-2 2v14c0 1.1.9 2 2 2h14c1.1 0 2-.9 2-2V5c0-1.1-.9-2-2-2zM9 17H7v-7h2v7zm4 0h-2V7h2v10zm4 0h-2v-4h2v4z\"/>\n",
              "    </g>\n",
              "</svg>\n",
              "  </button>\n",
              "\n",
              "<style>\n",
              "  .colab-df-quickchart {\n",
              "      --bg-color: #E8F0FE;\n",
              "      --fill-color: #1967D2;\n",
              "      --hover-bg-color: #E2EBFA;\n",
              "      --hover-fill-color: #174EA6;\n",
              "      --disabled-fill-color: #AAA;\n",
              "      --disabled-bg-color: #DDD;\n",
              "  }\n",
              "\n",
              "  [theme=dark] .colab-df-quickchart {\n",
              "      --bg-color: #3B4455;\n",
              "      --fill-color: #D2E3FC;\n",
              "      --hover-bg-color: #434B5C;\n",
              "      --hover-fill-color: #FFFFFF;\n",
              "      --disabled-bg-color: #3B4455;\n",
              "      --disabled-fill-color: #666;\n",
              "  }\n",
              "\n",
              "  .colab-df-quickchart {\n",
              "    background-color: var(--bg-color);\n",
              "    border: none;\n",
              "    border-radius: 50%;\n",
              "    cursor: pointer;\n",
              "    display: none;\n",
              "    fill: var(--fill-color);\n",
              "    height: 32px;\n",
              "    padding: 0;\n",
              "    width: 32px;\n",
              "  }\n",
              "\n",
              "  .colab-df-quickchart:hover {\n",
              "    background-color: var(--hover-bg-color);\n",
              "    box-shadow: 0 1px 2px rgba(60, 64, 67, 0.3), 0 1px 3px 1px rgba(60, 64, 67, 0.15);\n",
              "    fill: var(--button-hover-fill-color);\n",
              "  }\n",
              "\n",
              "  .colab-df-quickchart-complete:disabled,\n",
              "  .colab-df-quickchart-complete:disabled:hover {\n",
              "    background-color: var(--disabled-bg-color);\n",
              "    fill: var(--disabled-fill-color);\n",
              "    box-shadow: none;\n",
              "  }\n",
              "\n",
              "  .colab-df-spinner {\n",
              "    border: 2px solid var(--fill-color);\n",
              "    border-color: transparent;\n",
              "    border-bottom-color: var(--fill-color);\n",
              "    animation:\n",
              "      spin 1s steps(1) infinite;\n",
              "  }\n",
              "\n",
              "  @keyframes spin {\n",
              "    0% {\n",
              "      border-color: transparent;\n",
              "      border-bottom-color: var(--fill-color);\n",
              "      border-left-color: var(--fill-color);\n",
              "    }\n",
              "    20% {\n",
              "      border-color: transparent;\n",
              "      border-left-color: var(--fill-color);\n",
              "      border-top-color: var(--fill-color);\n",
              "    }\n",
              "    30% {\n",
              "      border-color: transparent;\n",
              "      border-left-color: var(--fill-color);\n",
              "      border-top-color: var(--fill-color);\n",
              "      border-right-color: var(--fill-color);\n",
              "    }\n",
              "    40% {\n",
              "      border-color: transparent;\n",
              "      border-right-color: var(--fill-color);\n",
              "      border-top-color: var(--fill-color);\n",
              "    }\n",
              "    60% {\n",
              "      border-color: transparent;\n",
              "      border-right-color: var(--fill-color);\n",
              "    }\n",
              "    80% {\n",
              "      border-color: transparent;\n",
              "      border-right-color: var(--fill-color);\n",
              "      border-bottom-color: var(--fill-color);\n",
              "    }\n",
              "    90% {\n",
              "      border-color: transparent;\n",
              "      border-bottom-color: var(--fill-color);\n",
              "    }\n",
              "  }\n",
              "</style>\n",
              "\n",
              "  <script>\n",
              "    async function quickchart(key) {\n",
              "      const quickchartButtonEl =\n",
              "        document.querySelector('#' + key + ' button');\n",
              "      quickchartButtonEl.disabled = true;  // To prevent multiple clicks.\n",
              "      quickchartButtonEl.classList.add('colab-df-spinner');\n",
              "      try {\n",
              "        const charts = await google.colab.kernel.invokeFunction(\n",
              "            'suggestCharts', [key], {});\n",
              "      } catch (error) {\n",
              "        console.error('Error during call to suggestCharts:', error);\n",
              "      }\n",
              "      quickchartButtonEl.classList.remove('colab-df-spinner');\n",
              "      quickchartButtonEl.classList.add('colab-df-quickchart-complete');\n",
              "    }\n",
              "    (() => {\n",
              "      let quickchartButtonEl =\n",
              "        document.querySelector('#df-bc4a37bd-d8f1-4b0c-aa3c-f9d48373dbf3 button');\n",
              "      quickchartButtonEl.style.display =\n",
              "        google.colab.kernel.accessAllowed ? 'block' : 'none';\n",
              "    })();\n",
              "  </script>\n",
              "</div>\n",
              "    </div>\n",
              "  </div>\n"
            ]
          },
          "metadata": {},
          "execution_count": 12
        }
      ],
      "source": [
        "df.describe()"
      ]
    },
    {
      "cell_type": "code",
      "execution_count": 13,
      "metadata": {
        "colab": {
          "base_uri": "https://localhost:8080/",
          "height": 175
        },
        "id": "rSSJRUa9QC5G",
        "outputId": "3986c4e9-cd88-4f97-c2d8-d3f8fc615352"
      },
      "outputs": [
        {
          "output_type": "execute_result",
          "data": {
            "text/plain": [
              "          Base                              Details   County        Date  \\\n",
              "count     1422                                 1422     1422        1422   \n",
              "unique     208                                  581       52         208   \n",
              "top     NAKURU  THE VEHICLE KNOCKED DOWN THE VICTIM  NAIROBI  2017-08-27   \n",
              "freq        36                                  279      228          22   \n",
              "\n",
              "       Gender     Mv Involved                          Place             Road  \\\n",
              "count    1422             930                           1408             1422   \n",
              "unique      3             704                           1247              843   \n",
              "top         M   TOYOTA MATATU  NEAR MURANGA TEACHERS COLLEGE  NAIROBI MOMBASA   \n",
              "freq     1178              21                              5               31   \n",
              "\n",
              "         Time      Victim  \n",
              "count    1393        1422  \n",
              "unique    199           7  \n",
              "top     20:30  PEDESTRIAN  \n",
              "freq       57         572  "
            ],
            "text/html": [
              "\n",
              "  <div id=\"df-cb39e813-c00f-4c03-84f2-09e3223cfbbd\" class=\"colab-df-container\">\n",
              "    <div>\n",
              "<style scoped>\n",
              "    .dataframe tbody tr th:only-of-type {\n",
              "        vertical-align: middle;\n",
              "    }\n",
              "\n",
              "    .dataframe tbody tr th {\n",
              "        vertical-align: top;\n",
              "    }\n",
              "\n",
              "    .dataframe thead th {\n",
              "        text-align: right;\n",
              "    }\n",
              "</style>\n",
              "<table border=\"1\" class=\"dataframe\">\n",
              "  <thead>\n",
              "    <tr style=\"text-align: right;\">\n",
              "      <th></th>\n",
              "      <th>Base</th>\n",
              "      <th>Details</th>\n",
              "      <th>County</th>\n",
              "      <th>Date</th>\n",
              "      <th>Gender</th>\n",
              "      <th>Mv Involved</th>\n",
              "      <th>Place</th>\n",
              "      <th>Road</th>\n",
              "      <th>Time</th>\n",
              "      <th>Victim</th>\n",
              "    </tr>\n",
              "  </thead>\n",
              "  <tbody>\n",
              "    <tr>\n",
              "      <th>count</th>\n",
              "      <td>1422</td>\n",
              "      <td>1422</td>\n",
              "      <td>1422</td>\n",
              "      <td>1422</td>\n",
              "      <td>1422</td>\n",
              "      <td>930</td>\n",
              "      <td>1408</td>\n",
              "      <td>1422</td>\n",
              "      <td>1393</td>\n",
              "      <td>1422</td>\n",
              "    </tr>\n",
              "    <tr>\n",
              "      <th>unique</th>\n",
              "      <td>208</td>\n",
              "      <td>581</td>\n",
              "      <td>52</td>\n",
              "      <td>208</td>\n",
              "      <td>3</td>\n",
              "      <td>704</td>\n",
              "      <td>1247</td>\n",
              "      <td>843</td>\n",
              "      <td>199</td>\n",
              "      <td>7</td>\n",
              "    </tr>\n",
              "    <tr>\n",
              "      <th>top</th>\n",
              "      <td>NAKURU</td>\n",
              "      <td>THE VEHICLE KNOCKED DOWN THE VICTIM</td>\n",
              "      <td>NAIROBI</td>\n",
              "      <td>2017-08-27</td>\n",
              "      <td>M</td>\n",
              "      <td>TOYOTA MATATU</td>\n",
              "      <td>NEAR MURANGA TEACHERS COLLEGE</td>\n",
              "      <td>NAIROBI MOMBASA</td>\n",
              "      <td>20:30</td>\n",
              "      <td>PEDESTRIAN</td>\n",
              "    </tr>\n",
              "    <tr>\n",
              "      <th>freq</th>\n",
              "      <td>36</td>\n",
              "      <td>279</td>\n",
              "      <td>228</td>\n",
              "      <td>22</td>\n",
              "      <td>1178</td>\n",
              "      <td>21</td>\n",
              "      <td>5</td>\n",
              "      <td>31</td>\n",
              "      <td>57</td>\n",
              "      <td>572</td>\n",
              "    </tr>\n",
              "  </tbody>\n",
              "</table>\n",
              "</div>\n",
              "    <div class=\"colab-df-buttons\">\n",
              "\n",
              "  <div class=\"colab-df-container\">\n",
              "    <button class=\"colab-df-convert\" onclick=\"convertToInteractive('df-cb39e813-c00f-4c03-84f2-09e3223cfbbd')\"\n",
              "            title=\"Convert this dataframe to an interactive table.\"\n",
              "            style=\"display:none;\">\n",
              "\n",
              "  <svg xmlns=\"http://www.w3.org/2000/svg\" height=\"24px\" viewBox=\"0 -960 960 960\">\n",
              "    <path d=\"M120-120v-720h720v720H120Zm60-500h600v-160H180v160Zm220 220h160v-160H400v160Zm0 220h160v-160H400v160ZM180-400h160v-160H180v160Zm440 0h160v-160H620v160ZM180-180h160v-160H180v160Zm440 0h160v-160H620v160Z\"/>\n",
              "  </svg>\n",
              "    </button>\n",
              "\n",
              "  <style>\n",
              "    .colab-df-container {\n",
              "      display:flex;\n",
              "      gap: 12px;\n",
              "    }\n",
              "\n",
              "    .colab-df-convert {\n",
              "      background-color: #E8F0FE;\n",
              "      border: none;\n",
              "      border-radius: 50%;\n",
              "      cursor: pointer;\n",
              "      display: none;\n",
              "      fill: #1967D2;\n",
              "      height: 32px;\n",
              "      padding: 0 0 0 0;\n",
              "      width: 32px;\n",
              "    }\n",
              "\n",
              "    .colab-df-convert:hover {\n",
              "      background-color: #E2EBFA;\n",
              "      box-shadow: 0px 1px 2px rgba(60, 64, 67, 0.3), 0px 1px 3px 1px rgba(60, 64, 67, 0.15);\n",
              "      fill: #174EA6;\n",
              "    }\n",
              "\n",
              "    .colab-df-buttons div {\n",
              "      margin-bottom: 4px;\n",
              "    }\n",
              "\n",
              "    [theme=dark] .colab-df-convert {\n",
              "      background-color: #3B4455;\n",
              "      fill: #D2E3FC;\n",
              "    }\n",
              "\n",
              "    [theme=dark] .colab-df-convert:hover {\n",
              "      background-color: #434B5C;\n",
              "      box-shadow: 0px 1px 3px 1px rgba(0, 0, 0, 0.15);\n",
              "      filter: drop-shadow(0px 1px 2px rgba(0, 0, 0, 0.3));\n",
              "      fill: #FFFFFF;\n",
              "    }\n",
              "  </style>\n",
              "\n",
              "    <script>\n",
              "      const buttonEl =\n",
              "        document.querySelector('#df-cb39e813-c00f-4c03-84f2-09e3223cfbbd button.colab-df-convert');\n",
              "      buttonEl.style.display =\n",
              "        google.colab.kernel.accessAllowed ? 'block' : 'none';\n",
              "\n",
              "      async function convertToInteractive(key) {\n",
              "        const element = document.querySelector('#df-cb39e813-c00f-4c03-84f2-09e3223cfbbd');\n",
              "        const dataTable =\n",
              "          await google.colab.kernel.invokeFunction('convertToInteractive',\n",
              "                                                    [key], {});\n",
              "        if (!dataTable) return;\n",
              "\n",
              "        const docLinkHtml = 'Like what you see? Visit the ' +\n",
              "          '<a target=\"_blank\" href=https://colab.research.google.com/notebooks/data_table.ipynb>data table notebook</a>'\n",
              "          + ' to learn more about interactive tables.';\n",
              "        element.innerHTML = '';\n",
              "        dataTable['output_type'] = 'display_data';\n",
              "        await google.colab.output.renderOutput(dataTable, element);\n",
              "        const docLink = document.createElement('div');\n",
              "        docLink.innerHTML = docLinkHtml;\n",
              "        element.appendChild(docLink);\n",
              "      }\n",
              "    </script>\n",
              "  </div>\n",
              "\n",
              "\n",
              "<div id=\"df-467a1c93-2d19-45a6-b5a3-c5f384e22331\">\n",
              "  <button class=\"colab-df-quickchart\" onclick=\"quickchart('df-467a1c93-2d19-45a6-b5a3-c5f384e22331')\"\n",
              "            title=\"Suggest charts.\"\n",
              "            style=\"display:none;\">\n",
              "\n",
              "<svg xmlns=\"http://www.w3.org/2000/svg\" height=\"24px\"viewBox=\"0 0 24 24\"\n",
              "     width=\"24px\">\n",
              "    <g>\n",
              "        <path d=\"M19 3H5c-1.1 0-2 .9-2 2v14c0 1.1.9 2 2 2h14c1.1 0 2-.9 2-2V5c0-1.1-.9-2-2-2zM9 17H7v-7h2v7zm4 0h-2V7h2v10zm4 0h-2v-4h2v4z\"/>\n",
              "    </g>\n",
              "</svg>\n",
              "  </button>\n",
              "\n",
              "<style>\n",
              "  .colab-df-quickchart {\n",
              "      --bg-color: #E8F0FE;\n",
              "      --fill-color: #1967D2;\n",
              "      --hover-bg-color: #E2EBFA;\n",
              "      --hover-fill-color: #174EA6;\n",
              "      --disabled-fill-color: #AAA;\n",
              "      --disabled-bg-color: #DDD;\n",
              "  }\n",
              "\n",
              "  [theme=dark] .colab-df-quickchart {\n",
              "      --bg-color: #3B4455;\n",
              "      --fill-color: #D2E3FC;\n",
              "      --hover-bg-color: #434B5C;\n",
              "      --hover-fill-color: #FFFFFF;\n",
              "      --disabled-bg-color: #3B4455;\n",
              "      --disabled-fill-color: #666;\n",
              "  }\n",
              "\n",
              "  .colab-df-quickchart {\n",
              "    background-color: var(--bg-color);\n",
              "    border: none;\n",
              "    border-radius: 50%;\n",
              "    cursor: pointer;\n",
              "    display: none;\n",
              "    fill: var(--fill-color);\n",
              "    height: 32px;\n",
              "    padding: 0;\n",
              "    width: 32px;\n",
              "  }\n",
              "\n",
              "  .colab-df-quickchart:hover {\n",
              "    background-color: var(--hover-bg-color);\n",
              "    box-shadow: 0 1px 2px rgba(60, 64, 67, 0.3), 0 1px 3px 1px rgba(60, 64, 67, 0.15);\n",
              "    fill: var(--button-hover-fill-color);\n",
              "  }\n",
              "\n",
              "  .colab-df-quickchart-complete:disabled,\n",
              "  .colab-df-quickchart-complete:disabled:hover {\n",
              "    background-color: var(--disabled-bg-color);\n",
              "    fill: var(--disabled-fill-color);\n",
              "    box-shadow: none;\n",
              "  }\n",
              "\n",
              "  .colab-df-spinner {\n",
              "    border: 2px solid var(--fill-color);\n",
              "    border-color: transparent;\n",
              "    border-bottom-color: var(--fill-color);\n",
              "    animation:\n",
              "      spin 1s steps(1) infinite;\n",
              "  }\n",
              "\n",
              "  @keyframes spin {\n",
              "    0% {\n",
              "      border-color: transparent;\n",
              "      border-bottom-color: var(--fill-color);\n",
              "      border-left-color: var(--fill-color);\n",
              "    }\n",
              "    20% {\n",
              "      border-color: transparent;\n",
              "      border-left-color: var(--fill-color);\n",
              "      border-top-color: var(--fill-color);\n",
              "    }\n",
              "    30% {\n",
              "      border-color: transparent;\n",
              "      border-left-color: var(--fill-color);\n",
              "      border-top-color: var(--fill-color);\n",
              "      border-right-color: var(--fill-color);\n",
              "    }\n",
              "    40% {\n",
              "      border-color: transparent;\n",
              "      border-right-color: var(--fill-color);\n",
              "      border-top-color: var(--fill-color);\n",
              "    }\n",
              "    60% {\n",
              "      border-color: transparent;\n",
              "      border-right-color: var(--fill-color);\n",
              "    }\n",
              "    80% {\n",
              "      border-color: transparent;\n",
              "      border-right-color: var(--fill-color);\n",
              "      border-bottom-color: var(--fill-color);\n",
              "    }\n",
              "    90% {\n",
              "      border-color: transparent;\n",
              "      border-bottom-color: var(--fill-color);\n",
              "    }\n",
              "  }\n",
              "</style>\n",
              "\n",
              "  <script>\n",
              "    async function quickchart(key) {\n",
              "      const quickchartButtonEl =\n",
              "        document.querySelector('#' + key + ' button');\n",
              "      quickchartButtonEl.disabled = true;  // To prevent multiple clicks.\n",
              "      quickchartButtonEl.classList.add('colab-df-spinner');\n",
              "      try {\n",
              "        const charts = await google.colab.kernel.invokeFunction(\n",
              "            'suggestCharts', [key], {});\n",
              "      } catch (error) {\n",
              "        console.error('Error during call to suggestCharts:', error);\n",
              "      }\n",
              "      quickchartButtonEl.classList.remove('colab-df-spinner');\n",
              "      quickchartButtonEl.classList.add('colab-df-quickchart-complete');\n",
              "    }\n",
              "    (() => {\n",
              "      let quickchartButtonEl =\n",
              "        document.querySelector('#df-467a1c93-2d19-45a6-b5a3-c5f384e22331 button');\n",
              "      quickchartButtonEl.style.display =\n",
              "        google.colab.kernel.accessAllowed ? 'block' : 'none';\n",
              "    })();\n",
              "  </script>\n",
              "</div>\n",
              "    </div>\n",
              "  </div>\n"
            ]
          },
          "metadata": {},
          "execution_count": 13
        }
      ],
      "source": [
        "df.describe(include=['O'])"
      ]
    },
    {
      "cell_type": "code",
      "execution_count": 14,
      "metadata": {
        "colab": {
          "base_uri": "https://localhost:8080/"
        },
        "id": "dJKKPU2ZQO7o",
        "outputId": "b6947619-249c-411c-82ea-d5ed8ad5f0ef"
      },
      "outputs": [
        {
          "output_type": "execute_result",
          "data": {
            "text/plain": [
              "0"
            ]
          },
          "metadata": {},
          "execution_count": 14
        }
      ],
      "source": [
        "df.duplicated().sum()"
      ]
    },
    {
      "cell_type": "code",
      "execution_count": 15,
      "metadata": {
        "colab": {
          "base_uri": "https://localhost:8080/"
        },
        "id": "RMUipwFJQTgZ",
        "outputId": "ecf9fa7c-b7e5-42fb-d7dd-8e4d0b1d6e79"
      },
      "outputs": [
        {
          "output_type": "execute_result",
          "data": {
            "text/plain": [
              "Unnamed: 0         0\n",
              "row                0\n",
              "victim             0\n",
              "Age_refined        0\n",
              "Base               0\n",
              "Details            0\n",
              "County             0\n",
              "Date               0\n",
              "Gender             0\n",
              "Mv Involved      492\n",
              "Total Victims      0\n",
              "Place             14\n",
              "Road               0\n",
              "Time              29\n",
              "Victim             0\n",
              "Latitude         842\n",
              "Longitude        842\n",
              "dtype: int64"
            ]
          },
          "metadata": {},
          "execution_count": 15
        }
      ],
      "source": [
        "df.isnull().sum()"
      ]
    },
    {
      "cell_type": "code",
      "execution_count": 16,
      "metadata": {
        "colab": {
          "base_uri": "https://localhost:8080/"
        },
        "id": "iIpm2WEZQZb_",
        "outputId": "c412cf4c-02fc-4999-f7f3-628f2a7073d6"
      },
      "outputs": [
        {
          "output_type": "execute_result",
          "data": {
            "text/plain": [
              "Index(['Unnamed: 0', 'row', 'victim', 'Age_refined', 'Base', 'Details',\n",
              "       'County', 'Date', 'Gender', 'Mv Involved', 'Total Victims', 'Place',\n",
              "       'Road', 'Time', 'Victim', 'Latitude', 'Longitude'],\n",
              "      dtype='object')"
            ]
          },
          "metadata": {},
          "execution_count": 16
        }
      ],
      "source": [
        "df.columns"
      ]
    },
    {
      "cell_type": "markdown",
      "metadata": {
        "id": "6Idbnsh-QmmD"
      },
      "source": [
        "# Exploratory Data Analysis (EDA)"
      ]
    },
    {
      "cell_type": "markdown",
      "source": [
        "Distribution of 'Age_refined' among victims (Histogram):"
      ],
      "metadata": {
        "id": "rwHJnzt1jUNo"
      }
    },
    {
      "cell_type": "code",
      "source": [
        "# Create a histogram of 'Age_refined'\n",
        "fig_age = px.histogram(df, x='Age_refined', title='Age Distribution of Victims')\n",
        "fig_age.show()"
      ],
      "metadata": {
        "colab": {
          "base_uri": "https://localhost:8080/",
          "height": 542
        },
        "id": "F7lVtC0hiAj4",
        "outputId": "5888c21a-8ef4-4615-f63d-d04e9be8f6bb"
      },
      "execution_count": 17,
      "outputs": [
        {
          "output_type": "display_data",
          "data": {
            "text/html": [
              "<html>\n",
              "<head><meta charset=\"utf-8\" /></head>\n",
              "<body>\n",
              "    <div>            <script src=\"https://cdnjs.cloudflare.com/ajax/libs/mathjax/2.7.5/MathJax.js?config=TeX-AMS-MML_SVG\"></script><script type=\"text/javascript\">if (window.MathJax && window.MathJax.Hub && window.MathJax.Hub.Config) {window.MathJax.Hub.Config({SVG: {font: \"STIX-Web\"}});}</script>                <script type=\"text/javascript\">window.PlotlyConfig = {MathJaxConfig: 'local'};</script>\n",
              "        <script charset=\"utf-8\" src=\"https://cdn.plot.ly/plotly-2.24.1.min.js\"></script>                <div id=\"6e4308f5-4edf-4366-ad7f-fd03cc966252\" class=\"plotly-graph-div\" style=\"height:525px; width:100%;\"></div>            <script type=\"text/javascript\">                                    window.PLOTLYENV=window.PLOTLYENV || {};                                    if (document.getElementById(\"6e4308f5-4edf-4366-ad7f-fd03cc966252\")) {                    Plotly.newPlot(                        \"6e4308f5-4edf-4366-ad7f-fd03cc966252\",                        [{\"alignmentgroup\":\"True\",\"bingroup\":\"x\",\"hovertemplate\":\"Age_refined=%{x}\\u003cbr\\u003ecount=%{y}\\u003cextra\\u003e\\u003c\\u002fextra\\u003e\",\"legendgroup\":\"\",\"marker\":{\"color\":\"#636efa\",\"pattern\":{\"shape\":\"\"}},\"name\":\"\",\"offsetgroup\":\"\",\"orientation\":\"v\",\"showlegend\":false,\"x\":[70,43,32,51,34,35,15,26,58,21,11,30,61,25,57,36,28,55,30,38,51,40,27,40,30,33,33,25,60,42,60,49,23,29,23,25,39,25,38,40,35,34,30,31,31,26,28,35,44,18,62,49,40,24,29,32,37,44,30,23,24,25,40,70,35,60,29,35,50,28,28,44,30,32,70,47,55,37,30,35,27,32,36,26,33,40,33,29,33,40,31,28,33,21,44,43,34,33,40,25,36,34,65,30,27,37,54,42,40,35,46,26,51,69,50,20,30,50,31,65,27,31,28,51,35,38,60,49,35,25,57,31,25,42,37,37,40,28,32,25,32,44,29,44,38,55,30,30,52,33,46,47,34,47,61,74,46,51,28,31,28,30,57,45,34,24,26,40,70,66,30,20,27,26,28,9,29,28,26,60,36,35,30,33,26,29,30,75,29,40,33,38,40,25,20,32,26,36,37,21,30,37,35,23,35,33,70,18,21,19,40,31,21,38,23,27,28,32,25,26,23,19,35,22,19,26,24,43,57,70,50,50,17,28,37,37,35,23,32,30,25,30,35,21,61,70,31,30,23,30,52,28,28,28,28,23,28,60,54,38,33,49,35,40,49,23,41,62,35,40,31,31,32,55,30,18,59,57,40,63,35,59,32,30,34,33,23,32,40,24,37,26,30,34,34,28,25,23,28,34,80,28,43,31,28,32,40,18,19,34,40,70,30,23,42,25,37,28,25,20,52,23,32,57,30,23,43,33,29,40,40,40,35,36,44,26,19,80,39,45,39,48,19,19,24,30,62,36,28,30,23,63,52,31,32,19,37,19,32,29,20,57,33,35,26,32,27,33,52,34,19,26,40,24,18,23,25,17,35,21,19,19,60,42,25,34,28,38,40,37,26,32,30,18,22,44,35,34,62,38,43,32,31,47,39,44,48,24,48,30,24,40,25,19,21,40,21,32,32,56,20,45,51,22,27,26,20,25,30,65,30,32,33,35,27,32,37,28,25,13,40,30,33,23,54,55,78,31,13,15,65,29,32,80,44,45,40,40,52,40,61,65,56,40,74,25,45,44,9,32,45,30,60,37,12,56,52,39,30,40,33,30,40,45,31,37,41,3,27,36,60,40,22,65,1,20,44,21,4,38,46,6,25,43,45,12,33,32,40,60,31,9,26,28,42,40,35,35,35,22,35,45,55,30,33,57,30,33,23,45,52,25,19,50,39,42,21,35,28,44,32,17,40,15,36,27,35,37,47,17,28,44,32,35,31,60,10,30,71,1,54,36,40,36,58,47,30,77,35,1,76,24,17,30,57,58,23,69,4,45,36,33,41,23,25,18,25,12,30,69,13,45,40,70,23,25,34,48,20,19,29,31,52,27,22,41,42,60,27,20,40,21,44,16,52,30,29,40,60,34,22,39,28,32,25,36,70,38,62,45,22,30,37,28,39,29,37,23,28,70,12,20,18,48,11,53,19,60,71,30,41,31,26,54,70,1,25,52,30,22,26,38,24,27,38,26,8,29,32,4,26,25,60,51,30,60,30,1,26,30,45,24,70,45,45,30,44,25,24,25,25,37,28,30,19,16,24,36,31,33,42,27,28,20,19,28,33,4,39,43,55,38,27,25,65,26,36,25,36,33,40,19,30,20,28,32,35,37,50,32,29,34,57,55,52,29,49,48,27,26,19,42,42,30,32,38,12,25,1,36,25,9,50,37,25,37,11,36,40,40,55,26,48,45,60,24,40,38,45,55,36,29,52,27,45,35,18,21,2,24,60,60,47,30,1,28,21,34,20,31,32,16,36,36,35,47,6,29,50,40,48,42,17,43,21,40,30,39,54,30,27,65,3,30,38,4,33,65,80,15,7,37,30,30,37,19,25,30,30,32,57,30,35,9,25,40,25,40,28,36,26,52,30,28,78,44,60,38,65,32,9,14,40,36,10,30,33,12,25,54,6,23,30,30,41,20,16,11,73,3,26,38,27,60,39,52,36,70,70,20,40,70,25,21,30,3,21,42,28,35,11,5,40,37,39,15,15,30,45,27,28,27,45,90,9,25,37,35,40,55,60,9,12,45,22,48,12,25,27,47,23,30,12,30,65,50,35,24,43,35,28,30,13,22,6,80,38,30,40,70,28,25,39,42,23,26,32,16,35,50,22,22,9,5,40,21,38,39,4,55,12,30,27,30,18,63,10,45,40,55,49,80,31,40,57,25,43,26,40,48,22,75,65,45,25,42,25,57,58,35,42,32,57,26,34,35,37,41,10,40,26,30,19,7,25,40,45,40,27,11,37,25,28,25,25,32,12,21,32,32,38,44,3,40,70,44,10,48,24,56,44,69,28,60,40,40,3,50,71,4,23,28,49,20,50,35,8,14,8,60,28,60,35,40,30,25,4,32,27,42,45,30,33,20,32,42,15,40,5,42,30,39,39,5,31,35,60,30,6,12,41,59,57,60,42,28,70,15,17,30,45,45,24,45,31,25,45,65,48,7,38,14,31,27,24,26,52,15,26,57,29,40,62,36,50,55,8,52,20,26,30,70,49,45,4,28,32,32,2,40,50,37,57,3,58,25,23,16,24,26,32,42,25,40,40,28,40,31,30,26,25,56,29,15,30,32,37,20,33,59,26,60,25,32,10,60,28,33,28,3,45,25,35,38,43,63,65,40,36,30,77,54,36,57,25,30,45,33,27,36,48,50,50,25,80,48,70,43,51,54,23,53,45,34,70,30,25,20,6,35,60,38,30,23,70,16,22,61,35,43,40,38,9,21,22,47,13,51,40,33,41,28,65,8,4,45,60,36,26,59,23,21,1,26,18,32,40,40,40,62,30,42,49,69,23,39,45,37,31,13,20,28,30,53,21,35,25,30,44,21,24,72,45,23,40,28,42,7,9,33,31,16,32,70,71,15,21,25,40,58,26,39,25,70,31,27,19,21,28,19,55,35,39,23,49,52,45,43,50,23,71,25,27,7,25,7,12,66,30,30,32,28,6,36,35,51,50,40,42,54,41,32,1,8,65,40,31,22,62,37,73,50,30,35,42,58,21,18,70,37,33,44,23,65,14,75,65,50,38,9,16,69,14,35,40,36,36,32,21,28,30,22,38,38,6,25,28,50,57,22,24,16,52,30,40,20,26,39,35,23,40,50,42,27,25,26,32,33,36,26,25,50,29,59,44,52,17,56,24,21,21,25,42,24,32,26,25,45,61,30,24,27],\"xaxis\":\"x\",\"yaxis\":\"y\",\"type\":\"histogram\"}],                        {\"template\":{\"data\":{\"histogram2dcontour\":[{\"type\":\"histogram2dcontour\",\"colorbar\":{\"outlinewidth\":0,\"ticks\":\"\"},\"colorscale\":[[0.0,\"#0d0887\"],[0.1111111111111111,\"#46039f\"],[0.2222222222222222,\"#7201a8\"],[0.3333333333333333,\"#9c179e\"],[0.4444444444444444,\"#bd3786\"],[0.5555555555555556,\"#d8576b\"],[0.6666666666666666,\"#ed7953\"],[0.7777777777777778,\"#fb9f3a\"],[0.8888888888888888,\"#fdca26\"],[1.0,\"#f0f921\"]]}],\"choropleth\":[{\"type\":\"choropleth\",\"colorbar\":{\"outlinewidth\":0,\"ticks\":\"\"}}],\"histogram2d\":[{\"type\":\"histogram2d\",\"colorbar\":{\"outlinewidth\":0,\"ticks\":\"\"},\"colorscale\":[[0.0,\"#0d0887\"],[0.1111111111111111,\"#46039f\"],[0.2222222222222222,\"#7201a8\"],[0.3333333333333333,\"#9c179e\"],[0.4444444444444444,\"#bd3786\"],[0.5555555555555556,\"#d8576b\"],[0.6666666666666666,\"#ed7953\"],[0.7777777777777778,\"#fb9f3a\"],[0.8888888888888888,\"#fdca26\"],[1.0,\"#f0f921\"]]}],\"heatmap\":[{\"type\":\"heatmap\",\"colorbar\":{\"outlinewidth\":0,\"ticks\":\"\"},\"colorscale\":[[0.0,\"#0d0887\"],[0.1111111111111111,\"#46039f\"],[0.2222222222222222,\"#7201a8\"],[0.3333333333333333,\"#9c179e\"],[0.4444444444444444,\"#bd3786\"],[0.5555555555555556,\"#d8576b\"],[0.6666666666666666,\"#ed7953\"],[0.7777777777777778,\"#fb9f3a\"],[0.8888888888888888,\"#fdca26\"],[1.0,\"#f0f921\"]]}],\"heatmapgl\":[{\"type\":\"heatmapgl\",\"colorbar\":{\"outlinewidth\":0,\"ticks\":\"\"},\"colorscale\":[[0.0,\"#0d0887\"],[0.1111111111111111,\"#46039f\"],[0.2222222222222222,\"#7201a8\"],[0.3333333333333333,\"#9c179e\"],[0.4444444444444444,\"#bd3786\"],[0.5555555555555556,\"#d8576b\"],[0.6666666666666666,\"#ed7953\"],[0.7777777777777778,\"#fb9f3a\"],[0.8888888888888888,\"#fdca26\"],[1.0,\"#f0f921\"]]}],\"contourcarpet\":[{\"type\":\"contourcarpet\",\"colorbar\":{\"outlinewidth\":0,\"ticks\":\"\"}}],\"contour\":[{\"type\":\"contour\",\"colorbar\":{\"outlinewidth\":0,\"ticks\":\"\"},\"colorscale\":[[0.0,\"#0d0887\"],[0.1111111111111111,\"#46039f\"],[0.2222222222222222,\"#7201a8\"],[0.3333333333333333,\"#9c179e\"],[0.4444444444444444,\"#bd3786\"],[0.5555555555555556,\"#d8576b\"],[0.6666666666666666,\"#ed7953\"],[0.7777777777777778,\"#fb9f3a\"],[0.8888888888888888,\"#fdca26\"],[1.0,\"#f0f921\"]]}],\"surface\":[{\"type\":\"surface\",\"colorbar\":{\"outlinewidth\":0,\"ticks\":\"\"},\"colorscale\":[[0.0,\"#0d0887\"],[0.1111111111111111,\"#46039f\"],[0.2222222222222222,\"#7201a8\"],[0.3333333333333333,\"#9c179e\"],[0.4444444444444444,\"#bd3786\"],[0.5555555555555556,\"#d8576b\"],[0.6666666666666666,\"#ed7953\"],[0.7777777777777778,\"#fb9f3a\"],[0.8888888888888888,\"#fdca26\"],[1.0,\"#f0f921\"]]}],\"mesh3d\":[{\"type\":\"mesh3d\",\"colorbar\":{\"outlinewidth\":0,\"ticks\":\"\"}}],\"scatter\":[{\"fillpattern\":{\"fillmode\":\"overlay\",\"size\":10,\"solidity\":0.2},\"type\":\"scatter\"}],\"parcoords\":[{\"type\":\"parcoords\",\"line\":{\"colorbar\":{\"outlinewidth\":0,\"ticks\":\"\"}}}],\"scatterpolargl\":[{\"type\":\"scatterpolargl\",\"marker\":{\"colorbar\":{\"outlinewidth\":0,\"ticks\":\"\"}}}],\"bar\":[{\"error_x\":{\"color\":\"#2a3f5f\"},\"error_y\":{\"color\":\"#2a3f5f\"},\"marker\":{\"line\":{\"color\":\"#E5ECF6\",\"width\":0.5},\"pattern\":{\"fillmode\":\"overlay\",\"size\":10,\"solidity\":0.2}},\"type\":\"bar\"}],\"scattergeo\":[{\"type\":\"scattergeo\",\"marker\":{\"colorbar\":{\"outlinewidth\":0,\"ticks\":\"\"}}}],\"scatterpolar\":[{\"type\":\"scatterpolar\",\"marker\":{\"colorbar\":{\"outlinewidth\":0,\"ticks\":\"\"}}}],\"histogram\":[{\"marker\":{\"pattern\":{\"fillmode\":\"overlay\",\"size\":10,\"solidity\":0.2}},\"type\":\"histogram\"}],\"scattergl\":[{\"type\":\"scattergl\",\"marker\":{\"colorbar\":{\"outlinewidth\":0,\"ticks\":\"\"}}}],\"scatter3d\":[{\"type\":\"scatter3d\",\"line\":{\"colorbar\":{\"outlinewidth\":0,\"ticks\":\"\"}},\"marker\":{\"colorbar\":{\"outlinewidth\":0,\"ticks\":\"\"}}}],\"scattermapbox\":[{\"type\":\"scattermapbox\",\"marker\":{\"colorbar\":{\"outlinewidth\":0,\"ticks\":\"\"}}}],\"scatterternary\":[{\"type\":\"scatterternary\",\"marker\":{\"colorbar\":{\"outlinewidth\":0,\"ticks\":\"\"}}}],\"scattercarpet\":[{\"type\":\"scattercarpet\",\"marker\":{\"colorbar\":{\"outlinewidth\":0,\"ticks\":\"\"}}}],\"carpet\":[{\"aaxis\":{\"endlinecolor\":\"#2a3f5f\",\"gridcolor\":\"white\",\"linecolor\":\"white\",\"minorgridcolor\":\"white\",\"startlinecolor\":\"#2a3f5f\"},\"baxis\":{\"endlinecolor\":\"#2a3f5f\",\"gridcolor\":\"white\",\"linecolor\":\"white\",\"minorgridcolor\":\"white\",\"startlinecolor\":\"#2a3f5f\"},\"type\":\"carpet\"}],\"table\":[{\"cells\":{\"fill\":{\"color\":\"#EBF0F8\"},\"line\":{\"color\":\"white\"}},\"header\":{\"fill\":{\"color\":\"#C8D4E3\"},\"line\":{\"color\":\"white\"}},\"type\":\"table\"}],\"barpolar\":[{\"marker\":{\"line\":{\"color\":\"#E5ECF6\",\"width\":0.5},\"pattern\":{\"fillmode\":\"overlay\",\"size\":10,\"solidity\":0.2}},\"type\":\"barpolar\"}],\"pie\":[{\"automargin\":true,\"type\":\"pie\"}]},\"layout\":{\"autotypenumbers\":\"strict\",\"colorway\":[\"#636efa\",\"#EF553B\",\"#00cc96\",\"#ab63fa\",\"#FFA15A\",\"#19d3f3\",\"#FF6692\",\"#B6E880\",\"#FF97FF\",\"#FECB52\"],\"font\":{\"color\":\"#2a3f5f\"},\"hovermode\":\"closest\",\"hoverlabel\":{\"align\":\"left\"},\"paper_bgcolor\":\"white\",\"plot_bgcolor\":\"#E5ECF6\",\"polar\":{\"bgcolor\":\"#E5ECF6\",\"angularaxis\":{\"gridcolor\":\"white\",\"linecolor\":\"white\",\"ticks\":\"\"},\"radialaxis\":{\"gridcolor\":\"white\",\"linecolor\":\"white\",\"ticks\":\"\"}},\"ternary\":{\"bgcolor\":\"#E5ECF6\",\"aaxis\":{\"gridcolor\":\"white\",\"linecolor\":\"white\",\"ticks\":\"\"},\"baxis\":{\"gridcolor\":\"white\",\"linecolor\":\"white\",\"ticks\":\"\"},\"caxis\":{\"gridcolor\":\"white\",\"linecolor\":\"white\",\"ticks\":\"\"}},\"coloraxis\":{\"colorbar\":{\"outlinewidth\":0,\"ticks\":\"\"}},\"colorscale\":{\"sequential\":[[0.0,\"#0d0887\"],[0.1111111111111111,\"#46039f\"],[0.2222222222222222,\"#7201a8\"],[0.3333333333333333,\"#9c179e\"],[0.4444444444444444,\"#bd3786\"],[0.5555555555555556,\"#d8576b\"],[0.6666666666666666,\"#ed7953\"],[0.7777777777777778,\"#fb9f3a\"],[0.8888888888888888,\"#fdca26\"],[1.0,\"#f0f921\"]],\"sequentialminus\":[[0.0,\"#0d0887\"],[0.1111111111111111,\"#46039f\"],[0.2222222222222222,\"#7201a8\"],[0.3333333333333333,\"#9c179e\"],[0.4444444444444444,\"#bd3786\"],[0.5555555555555556,\"#d8576b\"],[0.6666666666666666,\"#ed7953\"],[0.7777777777777778,\"#fb9f3a\"],[0.8888888888888888,\"#fdca26\"],[1.0,\"#f0f921\"]],\"diverging\":[[0,\"#8e0152\"],[0.1,\"#c51b7d\"],[0.2,\"#de77ae\"],[0.3,\"#f1b6da\"],[0.4,\"#fde0ef\"],[0.5,\"#f7f7f7\"],[0.6,\"#e6f5d0\"],[0.7,\"#b8e186\"],[0.8,\"#7fbc41\"],[0.9,\"#4d9221\"],[1,\"#276419\"]]},\"xaxis\":{\"gridcolor\":\"white\",\"linecolor\":\"white\",\"ticks\":\"\",\"title\":{\"standoff\":15},\"zerolinecolor\":\"white\",\"automargin\":true,\"zerolinewidth\":2},\"yaxis\":{\"gridcolor\":\"white\",\"linecolor\":\"white\",\"ticks\":\"\",\"title\":{\"standoff\":15},\"zerolinecolor\":\"white\",\"automargin\":true,\"zerolinewidth\":2},\"scene\":{\"xaxis\":{\"backgroundcolor\":\"#E5ECF6\",\"gridcolor\":\"white\",\"linecolor\":\"white\",\"showbackground\":true,\"ticks\":\"\",\"zerolinecolor\":\"white\",\"gridwidth\":2},\"yaxis\":{\"backgroundcolor\":\"#E5ECF6\",\"gridcolor\":\"white\",\"linecolor\":\"white\",\"showbackground\":true,\"ticks\":\"\",\"zerolinecolor\":\"white\",\"gridwidth\":2},\"zaxis\":{\"backgroundcolor\":\"#E5ECF6\",\"gridcolor\":\"white\",\"linecolor\":\"white\",\"showbackground\":true,\"ticks\":\"\",\"zerolinecolor\":\"white\",\"gridwidth\":2}},\"shapedefaults\":{\"line\":{\"color\":\"#2a3f5f\"}},\"annotationdefaults\":{\"arrowcolor\":\"#2a3f5f\",\"arrowhead\":0,\"arrowwidth\":1},\"geo\":{\"bgcolor\":\"white\",\"landcolor\":\"#E5ECF6\",\"subunitcolor\":\"white\",\"showland\":true,\"showlakes\":true,\"lakecolor\":\"white\"},\"title\":{\"x\":0.05},\"mapbox\":{\"style\":\"light\"}}},\"xaxis\":{\"anchor\":\"y\",\"domain\":[0.0,1.0],\"title\":{\"text\":\"Age_refined\"}},\"yaxis\":{\"anchor\":\"x\",\"domain\":[0.0,1.0],\"title\":{\"text\":\"count\"}},\"legend\":{\"tracegroupgap\":0},\"title\":{\"text\":\"Age Distribution of Victims\"},\"barmode\":\"relative\"},                        {\"responsive\": true}                    ).then(function(){\n",
              "                            \n",
              "var gd = document.getElementById('6e4308f5-4edf-4366-ad7f-fd03cc966252');\n",
              "var x = new MutationObserver(function (mutations, observer) {{\n",
              "        var display = window.getComputedStyle(gd).display;\n",
              "        if (!display || display === 'none') {{\n",
              "            console.log([gd, 'removed!']);\n",
              "            Plotly.purge(gd);\n",
              "            observer.disconnect();\n",
              "        }}\n",
              "}});\n",
              "\n",
              "// Listen for the removal of the full notebook cells\n",
              "var notebookContainer = gd.closest('#notebook-container');\n",
              "if (notebookContainer) {{\n",
              "    x.observe(notebookContainer, {childList: true});\n",
              "}}\n",
              "\n",
              "// Listen for the clearing of the current output cell\n",
              "var outputEl = gd.closest('.output');\n",
              "if (outputEl) {{\n",
              "    x.observe(outputEl, {childList: true});\n",
              "}}\n",
              "\n",
              "                        })                };                            </script>        </div>\n",
              "</body>\n",
              "</html>"
            ]
          },
          "metadata": {}
        }
      ]
    },
    {
      "cell_type": "markdown",
      "source": [
        "Number of victims in each 'County' (Bar chart):"
      ],
      "metadata": {
        "id": "RdfJDbOGjZJR"
      }
    },
    {
      "cell_type": "code",
      "source": [
        "# Create a bar chart of victim counts by 'County'\n",
        "county_counts = df['County'].value_counts()\n",
        "fig_county = px.bar(county_counts, x=county_counts.index, y=county_counts.values,\n",
        "                    title='Number of Victims by County', labels={'x': 'County', 'y': 'Count'})\n",
        "fig_county.show()\n"
      ],
      "metadata": {
        "colab": {
          "base_uri": "https://localhost:8080/",
          "height": 542
        },
        "id": "cLuzSrrYjcuA",
        "outputId": "6787bf2f-ba38-4dbd-b102-24c225b845bc"
      },
      "execution_count": 18,
      "outputs": [
        {
          "output_type": "display_data",
          "data": {
            "text/html": [
              "<html>\n",
              "<head><meta charset=\"utf-8\" /></head>\n",
              "<body>\n",
              "    <div>            <script src=\"https://cdnjs.cloudflare.com/ajax/libs/mathjax/2.7.5/MathJax.js?config=TeX-AMS-MML_SVG\"></script><script type=\"text/javascript\">if (window.MathJax && window.MathJax.Hub && window.MathJax.Hub.Config) {window.MathJax.Hub.Config({SVG: {font: \"STIX-Web\"}});}</script>                <script type=\"text/javascript\">window.PlotlyConfig = {MathJaxConfig: 'local'};</script>\n",
              "        <script charset=\"utf-8\" src=\"https://cdn.plot.ly/plotly-2.24.1.min.js\"></script>                <div id=\"cfb6fc5b-a24f-4c7a-89b8-d31d0bba1752\" class=\"plotly-graph-div\" style=\"height:525px; width:100%;\"></div>            <script type=\"text/javascript\">                                    window.PLOTLYENV=window.PLOTLYENV || {};                                    if (document.getElementById(\"cfb6fc5b-a24f-4c7a-89b8-d31d0bba1752\")) {                    Plotly.newPlot(                        \"cfb6fc5b-a24f-4c7a-89b8-d31d0bba1752\",                        [{\"alignmentgroup\":\"True\",\"hovertemplate\":\"County=%{x}\\u003cbr\\u003eCount=%{y}\\u003cextra\\u003e\\u003c\\u002fextra\\u003e\",\"legendgroup\":\"\",\"marker\":{\"color\":\"#636efa\",\"pattern\":{\"shape\":\"\"}},\"name\":\"\",\"offsetgroup\":\"\",\"orientation\":\"v\",\"showlegend\":false,\"textposition\":\"auto\",\"x\":[\"NAIROBI\",\"KIAMBU\",\"NAKURU\",\"MACHAKOS\",\"MAKUENI\",\"KAKAMEGA\",\"KILIFI\",\"NYERI\",\"KISUMU\",\"MOMBASA\",\"KERICHO\",\"EMBU\",\"KIRINYAGA\",\"KAJIADO\",\"MURANGA\",\"BUNGOMA\",\"MERU\",\"HOMA BAY\",\"UASIN GISHU\",\"NAROK\",\"KISII\",\"BARINGO\",\"SIAYA\",\"NYANDARUA\",\"TAITA TAVETA\",\"KITUI\",\"BOMET\",\"NYAMIRA\",\"GARISSA\",\"MIGORI\",\"VIHIGA\",\"KWALE\",\"BUSIA\",\"NANDI\",\"TRANS NZOIA\",\"LAIKIPIA\",\"HOMABAY\",\"MARSABIT\",\"ELGEYO MARAKWET\",\"WEST POKOT\",\"MWINGI\",\"THARAKA NITHI\",\"ISIOLO\",\"MARAKWET\",\"MOYALE\",\"TIGANIA\",\"WAJIR\",\"MAKURU\",\"MANDERA\",\"MALINDI\",\"NYAHURURU\",\"KISSI\"],\"xaxis\":\"x\",\"y\":[228,134,91,72,71,57,44,43,43,37,34,33,33,33,33,31,29,26,26,26,25,23,22,21,21,18,17,17,17,15,14,13,13,11,9,7,6,6,3,3,3,3,2,1,1,1,1,1,1,1,1,1],\"yaxis\":\"y\",\"type\":\"bar\"}],                        {\"template\":{\"data\":{\"histogram2dcontour\":[{\"type\":\"histogram2dcontour\",\"colorbar\":{\"outlinewidth\":0,\"ticks\":\"\"},\"colorscale\":[[0.0,\"#0d0887\"],[0.1111111111111111,\"#46039f\"],[0.2222222222222222,\"#7201a8\"],[0.3333333333333333,\"#9c179e\"],[0.4444444444444444,\"#bd3786\"],[0.5555555555555556,\"#d8576b\"],[0.6666666666666666,\"#ed7953\"],[0.7777777777777778,\"#fb9f3a\"],[0.8888888888888888,\"#fdca26\"],[1.0,\"#f0f921\"]]}],\"choropleth\":[{\"type\":\"choropleth\",\"colorbar\":{\"outlinewidth\":0,\"ticks\":\"\"}}],\"histogram2d\":[{\"type\":\"histogram2d\",\"colorbar\":{\"outlinewidth\":0,\"ticks\":\"\"},\"colorscale\":[[0.0,\"#0d0887\"],[0.1111111111111111,\"#46039f\"],[0.2222222222222222,\"#7201a8\"],[0.3333333333333333,\"#9c179e\"],[0.4444444444444444,\"#bd3786\"],[0.5555555555555556,\"#d8576b\"],[0.6666666666666666,\"#ed7953\"],[0.7777777777777778,\"#fb9f3a\"],[0.8888888888888888,\"#fdca26\"],[1.0,\"#f0f921\"]]}],\"heatmap\":[{\"type\":\"heatmap\",\"colorbar\":{\"outlinewidth\":0,\"ticks\":\"\"},\"colorscale\":[[0.0,\"#0d0887\"],[0.1111111111111111,\"#46039f\"],[0.2222222222222222,\"#7201a8\"],[0.3333333333333333,\"#9c179e\"],[0.4444444444444444,\"#bd3786\"],[0.5555555555555556,\"#d8576b\"],[0.6666666666666666,\"#ed7953\"],[0.7777777777777778,\"#fb9f3a\"],[0.8888888888888888,\"#fdca26\"],[1.0,\"#f0f921\"]]}],\"heatmapgl\":[{\"type\":\"heatmapgl\",\"colorbar\":{\"outlinewidth\":0,\"ticks\":\"\"},\"colorscale\":[[0.0,\"#0d0887\"],[0.1111111111111111,\"#46039f\"],[0.2222222222222222,\"#7201a8\"],[0.3333333333333333,\"#9c179e\"],[0.4444444444444444,\"#bd3786\"],[0.5555555555555556,\"#d8576b\"],[0.6666666666666666,\"#ed7953\"],[0.7777777777777778,\"#fb9f3a\"],[0.8888888888888888,\"#fdca26\"],[1.0,\"#f0f921\"]]}],\"contourcarpet\":[{\"type\":\"contourcarpet\",\"colorbar\":{\"outlinewidth\":0,\"ticks\":\"\"}}],\"contour\":[{\"type\":\"contour\",\"colorbar\":{\"outlinewidth\":0,\"ticks\":\"\"},\"colorscale\":[[0.0,\"#0d0887\"],[0.1111111111111111,\"#46039f\"],[0.2222222222222222,\"#7201a8\"],[0.3333333333333333,\"#9c179e\"],[0.4444444444444444,\"#bd3786\"],[0.5555555555555556,\"#d8576b\"],[0.6666666666666666,\"#ed7953\"],[0.7777777777777778,\"#fb9f3a\"],[0.8888888888888888,\"#fdca26\"],[1.0,\"#f0f921\"]]}],\"surface\":[{\"type\":\"surface\",\"colorbar\":{\"outlinewidth\":0,\"ticks\":\"\"},\"colorscale\":[[0.0,\"#0d0887\"],[0.1111111111111111,\"#46039f\"],[0.2222222222222222,\"#7201a8\"],[0.3333333333333333,\"#9c179e\"],[0.4444444444444444,\"#bd3786\"],[0.5555555555555556,\"#d8576b\"],[0.6666666666666666,\"#ed7953\"],[0.7777777777777778,\"#fb9f3a\"],[0.8888888888888888,\"#fdca26\"],[1.0,\"#f0f921\"]]}],\"mesh3d\":[{\"type\":\"mesh3d\",\"colorbar\":{\"outlinewidth\":0,\"ticks\":\"\"}}],\"scatter\":[{\"fillpattern\":{\"fillmode\":\"overlay\",\"size\":10,\"solidity\":0.2},\"type\":\"scatter\"}],\"parcoords\":[{\"type\":\"parcoords\",\"line\":{\"colorbar\":{\"outlinewidth\":0,\"ticks\":\"\"}}}],\"scatterpolargl\":[{\"type\":\"scatterpolargl\",\"marker\":{\"colorbar\":{\"outlinewidth\":0,\"ticks\":\"\"}}}],\"bar\":[{\"error_x\":{\"color\":\"#2a3f5f\"},\"error_y\":{\"color\":\"#2a3f5f\"},\"marker\":{\"line\":{\"color\":\"#E5ECF6\",\"width\":0.5},\"pattern\":{\"fillmode\":\"overlay\",\"size\":10,\"solidity\":0.2}},\"type\":\"bar\"}],\"scattergeo\":[{\"type\":\"scattergeo\",\"marker\":{\"colorbar\":{\"outlinewidth\":0,\"ticks\":\"\"}}}],\"scatterpolar\":[{\"type\":\"scatterpolar\",\"marker\":{\"colorbar\":{\"outlinewidth\":0,\"ticks\":\"\"}}}],\"histogram\":[{\"marker\":{\"pattern\":{\"fillmode\":\"overlay\",\"size\":10,\"solidity\":0.2}},\"type\":\"histogram\"}],\"scattergl\":[{\"type\":\"scattergl\",\"marker\":{\"colorbar\":{\"outlinewidth\":0,\"ticks\":\"\"}}}],\"scatter3d\":[{\"type\":\"scatter3d\",\"line\":{\"colorbar\":{\"outlinewidth\":0,\"ticks\":\"\"}},\"marker\":{\"colorbar\":{\"outlinewidth\":0,\"ticks\":\"\"}}}],\"scattermapbox\":[{\"type\":\"scattermapbox\",\"marker\":{\"colorbar\":{\"outlinewidth\":0,\"ticks\":\"\"}}}],\"scatterternary\":[{\"type\":\"scatterternary\",\"marker\":{\"colorbar\":{\"outlinewidth\":0,\"ticks\":\"\"}}}],\"scattercarpet\":[{\"type\":\"scattercarpet\",\"marker\":{\"colorbar\":{\"outlinewidth\":0,\"ticks\":\"\"}}}],\"carpet\":[{\"aaxis\":{\"endlinecolor\":\"#2a3f5f\",\"gridcolor\":\"white\",\"linecolor\":\"white\",\"minorgridcolor\":\"white\",\"startlinecolor\":\"#2a3f5f\"},\"baxis\":{\"endlinecolor\":\"#2a3f5f\",\"gridcolor\":\"white\",\"linecolor\":\"white\",\"minorgridcolor\":\"white\",\"startlinecolor\":\"#2a3f5f\"},\"type\":\"carpet\"}],\"table\":[{\"cells\":{\"fill\":{\"color\":\"#EBF0F8\"},\"line\":{\"color\":\"white\"}},\"header\":{\"fill\":{\"color\":\"#C8D4E3\"},\"line\":{\"color\":\"white\"}},\"type\":\"table\"}],\"barpolar\":[{\"marker\":{\"line\":{\"color\":\"#E5ECF6\",\"width\":0.5},\"pattern\":{\"fillmode\":\"overlay\",\"size\":10,\"solidity\":0.2}},\"type\":\"barpolar\"}],\"pie\":[{\"automargin\":true,\"type\":\"pie\"}]},\"layout\":{\"autotypenumbers\":\"strict\",\"colorway\":[\"#636efa\",\"#EF553B\",\"#00cc96\",\"#ab63fa\",\"#FFA15A\",\"#19d3f3\",\"#FF6692\",\"#B6E880\",\"#FF97FF\",\"#FECB52\"],\"font\":{\"color\":\"#2a3f5f\"},\"hovermode\":\"closest\",\"hoverlabel\":{\"align\":\"left\"},\"paper_bgcolor\":\"white\",\"plot_bgcolor\":\"#E5ECF6\",\"polar\":{\"bgcolor\":\"#E5ECF6\",\"angularaxis\":{\"gridcolor\":\"white\",\"linecolor\":\"white\",\"ticks\":\"\"},\"radialaxis\":{\"gridcolor\":\"white\",\"linecolor\":\"white\",\"ticks\":\"\"}},\"ternary\":{\"bgcolor\":\"#E5ECF6\",\"aaxis\":{\"gridcolor\":\"white\",\"linecolor\":\"white\",\"ticks\":\"\"},\"baxis\":{\"gridcolor\":\"white\",\"linecolor\":\"white\",\"ticks\":\"\"},\"caxis\":{\"gridcolor\":\"white\",\"linecolor\":\"white\",\"ticks\":\"\"}},\"coloraxis\":{\"colorbar\":{\"outlinewidth\":0,\"ticks\":\"\"}},\"colorscale\":{\"sequential\":[[0.0,\"#0d0887\"],[0.1111111111111111,\"#46039f\"],[0.2222222222222222,\"#7201a8\"],[0.3333333333333333,\"#9c179e\"],[0.4444444444444444,\"#bd3786\"],[0.5555555555555556,\"#d8576b\"],[0.6666666666666666,\"#ed7953\"],[0.7777777777777778,\"#fb9f3a\"],[0.8888888888888888,\"#fdca26\"],[1.0,\"#f0f921\"]],\"sequentialminus\":[[0.0,\"#0d0887\"],[0.1111111111111111,\"#46039f\"],[0.2222222222222222,\"#7201a8\"],[0.3333333333333333,\"#9c179e\"],[0.4444444444444444,\"#bd3786\"],[0.5555555555555556,\"#d8576b\"],[0.6666666666666666,\"#ed7953\"],[0.7777777777777778,\"#fb9f3a\"],[0.8888888888888888,\"#fdca26\"],[1.0,\"#f0f921\"]],\"diverging\":[[0,\"#8e0152\"],[0.1,\"#c51b7d\"],[0.2,\"#de77ae\"],[0.3,\"#f1b6da\"],[0.4,\"#fde0ef\"],[0.5,\"#f7f7f7\"],[0.6,\"#e6f5d0\"],[0.7,\"#b8e186\"],[0.8,\"#7fbc41\"],[0.9,\"#4d9221\"],[1,\"#276419\"]]},\"xaxis\":{\"gridcolor\":\"white\",\"linecolor\":\"white\",\"ticks\":\"\",\"title\":{\"standoff\":15},\"zerolinecolor\":\"white\",\"automargin\":true,\"zerolinewidth\":2},\"yaxis\":{\"gridcolor\":\"white\",\"linecolor\":\"white\",\"ticks\":\"\",\"title\":{\"standoff\":15},\"zerolinecolor\":\"white\",\"automargin\":true,\"zerolinewidth\":2},\"scene\":{\"xaxis\":{\"backgroundcolor\":\"#E5ECF6\",\"gridcolor\":\"white\",\"linecolor\":\"white\",\"showbackground\":true,\"ticks\":\"\",\"zerolinecolor\":\"white\",\"gridwidth\":2},\"yaxis\":{\"backgroundcolor\":\"#E5ECF6\",\"gridcolor\":\"white\",\"linecolor\":\"white\",\"showbackground\":true,\"ticks\":\"\",\"zerolinecolor\":\"white\",\"gridwidth\":2},\"zaxis\":{\"backgroundcolor\":\"#E5ECF6\",\"gridcolor\":\"white\",\"linecolor\":\"white\",\"showbackground\":true,\"ticks\":\"\",\"zerolinecolor\":\"white\",\"gridwidth\":2}},\"shapedefaults\":{\"line\":{\"color\":\"#2a3f5f\"}},\"annotationdefaults\":{\"arrowcolor\":\"#2a3f5f\",\"arrowhead\":0,\"arrowwidth\":1},\"geo\":{\"bgcolor\":\"white\",\"landcolor\":\"#E5ECF6\",\"subunitcolor\":\"white\",\"showland\":true,\"showlakes\":true,\"lakecolor\":\"white\"},\"title\":{\"x\":0.05},\"mapbox\":{\"style\":\"light\"}}},\"xaxis\":{\"anchor\":\"y\",\"domain\":[0.0,1.0],\"title\":{\"text\":\"County\"}},\"yaxis\":{\"anchor\":\"x\",\"domain\":[0.0,1.0],\"title\":{\"text\":\"Count\"}},\"legend\":{\"tracegroupgap\":0},\"title\":{\"text\":\"Number of Victims by County\"},\"barmode\":\"relative\"},                        {\"responsive\": true}                    ).then(function(){\n",
              "                            \n",
              "var gd = document.getElementById('cfb6fc5b-a24f-4c7a-89b8-d31d0bba1752');\n",
              "var x = new MutationObserver(function (mutations, observer) {{\n",
              "        var display = window.getComputedStyle(gd).display;\n",
              "        if (!display || display === 'none') {{\n",
              "            console.log([gd, 'removed!']);\n",
              "            Plotly.purge(gd);\n",
              "            observer.disconnect();\n",
              "        }}\n",
              "}});\n",
              "\n",
              "// Listen for the removal of the full notebook cells\n",
              "var notebookContainer = gd.closest('#notebook-container');\n",
              "if (notebookContainer) {{\n",
              "    x.observe(notebookContainer, {childList: true});\n",
              "}}\n",
              "\n",
              "// Listen for the clearing of the current output cell\n",
              "var outputEl = gd.closest('.output');\n",
              "if (outputEl) {{\n",
              "    x.observe(outputEl, {childList: true});\n",
              "}}\n",
              "\n",
              "                        })                };                            </script>        </div>\n",
              "</body>\n",
              "</html>"
            ]
          },
          "metadata": {}
        }
      ]
    },
    {
      "cell_type": "markdown",
      "source": [
        "Distribution of 'Gender' among victims (Bar chart or Pie chart):"
      ],
      "metadata": {
        "id": "8knoUyfjjnh3"
      }
    },
    {
      "cell_type": "code",
      "source": [
        "# Create a bar chart of 'Gender' distribution\n",
        "gender_counts = df['Gender'].value_counts()\n",
        "fig_gender = px.bar(gender_counts, x=gender_counts.index, y=gender_counts.values,\n",
        "                    title='Gender Distribution among Victims', labels={'x': 'Gender', 'y': 'Count'})\n",
        "fig_gender.show()\n",
        "\n",
        "# Alternatively, create a pie chart for 'Gender' distribution\n",
        "fig_gender_pie = px.pie(gender_counts, names=gender_counts.index, title='Gender Distribution among Victims')\n",
        "fig_gender_pie.show()\n"
      ],
      "metadata": {
        "colab": {
          "base_uri": "https://localhost:8080/",
          "height": 1000
        },
        "id": "6VATPHGljrCg",
        "outputId": "a164e42a-e78e-4bd3-89e8-56b54138668b"
      },
      "execution_count": 19,
      "outputs": [
        {
          "output_type": "display_data",
          "data": {
            "text/html": [
              "<html>\n",
              "<head><meta charset=\"utf-8\" /></head>\n",
              "<body>\n",
              "    <div>            <script src=\"https://cdnjs.cloudflare.com/ajax/libs/mathjax/2.7.5/MathJax.js?config=TeX-AMS-MML_SVG\"></script><script type=\"text/javascript\">if (window.MathJax && window.MathJax.Hub && window.MathJax.Hub.Config) {window.MathJax.Hub.Config({SVG: {font: \"STIX-Web\"}});}</script>                <script type=\"text/javascript\">window.PlotlyConfig = {MathJaxConfig: 'local'};</script>\n",
              "        <script charset=\"utf-8\" src=\"https://cdn.plot.ly/plotly-2.24.1.min.js\"></script>                <div id=\"6a63e72b-1e49-4302-9e64-f9347f4aa303\" class=\"plotly-graph-div\" style=\"height:525px; width:100%;\"></div>            <script type=\"text/javascript\">                                    window.PLOTLYENV=window.PLOTLYENV || {};                                    if (document.getElementById(\"6a63e72b-1e49-4302-9e64-f9347f4aa303\")) {                    Plotly.newPlot(                        \"6a63e72b-1e49-4302-9e64-f9347f4aa303\",                        [{\"alignmentgroup\":\"True\",\"hovertemplate\":\"Gender=%{x}\\u003cbr\\u003eCount=%{y}\\u003cextra\\u003e\\u003c\\u002fextra\\u003e\",\"legendgroup\":\"\",\"marker\":{\"color\":\"#636efa\",\"pattern\":{\"shape\":\"\"}},\"name\":\"\",\"offsetgroup\":\"\",\"orientation\":\"v\",\"showlegend\":false,\"textposition\":\"auto\",\"x\":[\"M\",\"F\",\"M & F\"],\"xaxis\":\"x\",\"y\":[1178,183,61],\"yaxis\":\"y\",\"type\":\"bar\"}],                        {\"template\":{\"data\":{\"histogram2dcontour\":[{\"type\":\"histogram2dcontour\",\"colorbar\":{\"outlinewidth\":0,\"ticks\":\"\"},\"colorscale\":[[0.0,\"#0d0887\"],[0.1111111111111111,\"#46039f\"],[0.2222222222222222,\"#7201a8\"],[0.3333333333333333,\"#9c179e\"],[0.4444444444444444,\"#bd3786\"],[0.5555555555555556,\"#d8576b\"],[0.6666666666666666,\"#ed7953\"],[0.7777777777777778,\"#fb9f3a\"],[0.8888888888888888,\"#fdca26\"],[1.0,\"#f0f921\"]]}],\"choropleth\":[{\"type\":\"choropleth\",\"colorbar\":{\"outlinewidth\":0,\"ticks\":\"\"}}],\"histogram2d\":[{\"type\":\"histogram2d\",\"colorbar\":{\"outlinewidth\":0,\"ticks\":\"\"},\"colorscale\":[[0.0,\"#0d0887\"],[0.1111111111111111,\"#46039f\"],[0.2222222222222222,\"#7201a8\"],[0.3333333333333333,\"#9c179e\"],[0.4444444444444444,\"#bd3786\"],[0.5555555555555556,\"#d8576b\"],[0.6666666666666666,\"#ed7953\"],[0.7777777777777778,\"#fb9f3a\"],[0.8888888888888888,\"#fdca26\"],[1.0,\"#f0f921\"]]}],\"heatmap\":[{\"type\":\"heatmap\",\"colorbar\":{\"outlinewidth\":0,\"ticks\":\"\"},\"colorscale\":[[0.0,\"#0d0887\"],[0.1111111111111111,\"#46039f\"],[0.2222222222222222,\"#7201a8\"],[0.3333333333333333,\"#9c179e\"],[0.4444444444444444,\"#bd3786\"],[0.5555555555555556,\"#d8576b\"],[0.6666666666666666,\"#ed7953\"],[0.7777777777777778,\"#fb9f3a\"],[0.8888888888888888,\"#fdca26\"],[1.0,\"#f0f921\"]]}],\"heatmapgl\":[{\"type\":\"heatmapgl\",\"colorbar\":{\"outlinewidth\":0,\"ticks\":\"\"},\"colorscale\":[[0.0,\"#0d0887\"],[0.1111111111111111,\"#46039f\"],[0.2222222222222222,\"#7201a8\"],[0.3333333333333333,\"#9c179e\"],[0.4444444444444444,\"#bd3786\"],[0.5555555555555556,\"#d8576b\"],[0.6666666666666666,\"#ed7953\"],[0.7777777777777778,\"#fb9f3a\"],[0.8888888888888888,\"#fdca26\"],[1.0,\"#f0f921\"]]}],\"contourcarpet\":[{\"type\":\"contourcarpet\",\"colorbar\":{\"outlinewidth\":0,\"ticks\":\"\"}}],\"contour\":[{\"type\":\"contour\",\"colorbar\":{\"outlinewidth\":0,\"ticks\":\"\"},\"colorscale\":[[0.0,\"#0d0887\"],[0.1111111111111111,\"#46039f\"],[0.2222222222222222,\"#7201a8\"],[0.3333333333333333,\"#9c179e\"],[0.4444444444444444,\"#bd3786\"],[0.5555555555555556,\"#d8576b\"],[0.6666666666666666,\"#ed7953\"],[0.7777777777777778,\"#fb9f3a\"],[0.8888888888888888,\"#fdca26\"],[1.0,\"#f0f921\"]]}],\"surface\":[{\"type\":\"surface\",\"colorbar\":{\"outlinewidth\":0,\"ticks\":\"\"},\"colorscale\":[[0.0,\"#0d0887\"],[0.1111111111111111,\"#46039f\"],[0.2222222222222222,\"#7201a8\"],[0.3333333333333333,\"#9c179e\"],[0.4444444444444444,\"#bd3786\"],[0.5555555555555556,\"#d8576b\"],[0.6666666666666666,\"#ed7953\"],[0.7777777777777778,\"#fb9f3a\"],[0.8888888888888888,\"#fdca26\"],[1.0,\"#f0f921\"]]}],\"mesh3d\":[{\"type\":\"mesh3d\",\"colorbar\":{\"outlinewidth\":0,\"ticks\":\"\"}}],\"scatter\":[{\"fillpattern\":{\"fillmode\":\"overlay\",\"size\":10,\"solidity\":0.2},\"type\":\"scatter\"}],\"parcoords\":[{\"type\":\"parcoords\",\"line\":{\"colorbar\":{\"outlinewidth\":0,\"ticks\":\"\"}}}],\"scatterpolargl\":[{\"type\":\"scatterpolargl\",\"marker\":{\"colorbar\":{\"outlinewidth\":0,\"ticks\":\"\"}}}],\"bar\":[{\"error_x\":{\"color\":\"#2a3f5f\"},\"error_y\":{\"color\":\"#2a3f5f\"},\"marker\":{\"line\":{\"color\":\"#E5ECF6\",\"width\":0.5},\"pattern\":{\"fillmode\":\"overlay\",\"size\":10,\"solidity\":0.2}},\"type\":\"bar\"}],\"scattergeo\":[{\"type\":\"scattergeo\",\"marker\":{\"colorbar\":{\"outlinewidth\":0,\"ticks\":\"\"}}}],\"scatterpolar\":[{\"type\":\"scatterpolar\",\"marker\":{\"colorbar\":{\"outlinewidth\":0,\"ticks\":\"\"}}}],\"histogram\":[{\"marker\":{\"pattern\":{\"fillmode\":\"overlay\",\"size\":10,\"solidity\":0.2}},\"type\":\"histogram\"}],\"scattergl\":[{\"type\":\"scattergl\",\"marker\":{\"colorbar\":{\"outlinewidth\":0,\"ticks\":\"\"}}}],\"scatter3d\":[{\"type\":\"scatter3d\",\"line\":{\"colorbar\":{\"outlinewidth\":0,\"ticks\":\"\"}},\"marker\":{\"colorbar\":{\"outlinewidth\":0,\"ticks\":\"\"}}}],\"scattermapbox\":[{\"type\":\"scattermapbox\",\"marker\":{\"colorbar\":{\"outlinewidth\":0,\"ticks\":\"\"}}}],\"scatterternary\":[{\"type\":\"scatterternary\",\"marker\":{\"colorbar\":{\"outlinewidth\":0,\"ticks\":\"\"}}}],\"scattercarpet\":[{\"type\":\"scattercarpet\",\"marker\":{\"colorbar\":{\"outlinewidth\":0,\"ticks\":\"\"}}}],\"carpet\":[{\"aaxis\":{\"endlinecolor\":\"#2a3f5f\",\"gridcolor\":\"white\",\"linecolor\":\"white\",\"minorgridcolor\":\"white\",\"startlinecolor\":\"#2a3f5f\"},\"baxis\":{\"endlinecolor\":\"#2a3f5f\",\"gridcolor\":\"white\",\"linecolor\":\"white\",\"minorgridcolor\":\"white\",\"startlinecolor\":\"#2a3f5f\"},\"type\":\"carpet\"}],\"table\":[{\"cells\":{\"fill\":{\"color\":\"#EBF0F8\"},\"line\":{\"color\":\"white\"}},\"header\":{\"fill\":{\"color\":\"#C8D4E3\"},\"line\":{\"color\":\"white\"}},\"type\":\"table\"}],\"barpolar\":[{\"marker\":{\"line\":{\"color\":\"#E5ECF6\",\"width\":0.5},\"pattern\":{\"fillmode\":\"overlay\",\"size\":10,\"solidity\":0.2}},\"type\":\"barpolar\"}],\"pie\":[{\"automargin\":true,\"type\":\"pie\"}]},\"layout\":{\"autotypenumbers\":\"strict\",\"colorway\":[\"#636efa\",\"#EF553B\",\"#00cc96\",\"#ab63fa\",\"#FFA15A\",\"#19d3f3\",\"#FF6692\",\"#B6E880\",\"#FF97FF\",\"#FECB52\"],\"font\":{\"color\":\"#2a3f5f\"},\"hovermode\":\"closest\",\"hoverlabel\":{\"align\":\"left\"},\"paper_bgcolor\":\"white\",\"plot_bgcolor\":\"#E5ECF6\",\"polar\":{\"bgcolor\":\"#E5ECF6\",\"angularaxis\":{\"gridcolor\":\"white\",\"linecolor\":\"white\",\"ticks\":\"\"},\"radialaxis\":{\"gridcolor\":\"white\",\"linecolor\":\"white\",\"ticks\":\"\"}},\"ternary\":{\"bgcolor\":\"#E5ECF6\",\"aaxis\":{\"gridcolor\":\"white\",\"linecolor\":\"white\",\"ticks\":\"\"},\"baxis\":{\"gridcolor\":\"white\",\"linecolor\":\"white\",\"ticks\":\"\"},\"caxis\":{\"gridcolor\":\"white\",\"linecolor\":\"white\",\"ticks\":\"\"}},\"coloraxis\":{\"colorbar\":{\"outlinewidth\":0,\"ticks\":\"\"}},\"colorscale\":{\"sequential\":[[0.0,\"#0d0887\"],[0.1111111111111111,\"#46039f\"],[0.2222222222222222,\"#7201a8\"],[0.3333333333333333,\"#9c179e\"],[0.4444444444444444,\"#bd3786\"],[0.5555555555555556,\"#d8576b\"],[0.6666666666666666,\"#ed7953\"],[0.7777777777777778,\"#fb9f3a\"],[0.8888888888888888,\"#fdca26\"],[1.0,\"#f0f921\"]],\"sequentialminus\":[[0.0,\"#0d0887\"],[0.1111111111111111,\"#46039f\"],[0.2222222222222222,\"#7201a8\"],[0.3333333333333333,\"#9c179e\"],[0.4444444444444444,\"#bd3786\"],[0.5555555555555556,\"#d8576b\"],[0.6666666666666666,\"#ed7953\"],[0.7777777777777778,\"#fb9f3a\"],[0.8888888888888888,\"#fdca26\"],[1.0,\"#f0f921\"]],\"diverging\":[[0,\"#8e0152\"],[0.1,\"#c51b7d\"],[0.2,\"#de77ae\"],[0.3,\"#f1b6da\"],[0.4,\"#fde0ef\"],[0.5,\"#f7f7f7\"],[0.6,\"#e6f5d0\"],[0.7,\"#b8e186\"],[0.8,\"#7fbc41\"],[0.9,\"#4d9221\"],[1,\"#276419\"]]},\"xaxis\":{\"gridcolor\":\"white\",\"linecolor\":\"white\",\"ticks\":\"\",\"title\":{\"standoff\":15},\"zerolinecolor\":\"white\",\"automargin\":true,\"zerolinewidth\":2},\"yaxis\":{\"gridcolor\":\"white\",\"linecolor\":\"white\",\"ticks\":\"\",\"title\":{\"standoff\":15},\"zerolinecolor\":\"white\",\"automargin\":true,\"zerolinewidth\":2},\"scene\":{\"xaxis\":{\"backgroundcolor\":\"#E5ECF6\",\"gridcolor\":\"white\",\"linecolor\":\"white\",\"showbackground\":true,\"ticks\":\"\",\"zerolinecolor\":\"white\",\"gridwidth\":2},\"yaxis\":{\"backgroundcolor\":\"#E5ECF6\",\"gridcolor\":\"white\",\"linecolor\":\"white\",\"showbackground\":true,\"ticks\":\"\",\"zerolinecolor\":\"white\",\"gridwidth\":2},\"zaxis\":{\"backgroundcolor\":\"#E5ECF6\",\"gridcolor\":\"white\",\"linecolor\":\"white\",\"showbackground\":true,\"ticks\":\"\",\"zerolinecolor\":\"white\",\"gridwidth\":2}},\"shapedefaults\":{\"line\":{\"color\":\"#2a3f5f\"}},\"annotationdefaults\":{\"arrowcolor\":\"#2a3f5f\",\"arrowhead\":0,\"arrowwidth\":1},\"geo\":{\"bgcolor\":\"white\",\"landcolor\":\"#E5ECF6\",\"subunitcolor\":\"white\",\"showland\":true,\"showlakes\":true,\"lakecolor\":\"white\"},\"title\":{\"x\":0.05},\"mapbox\":{\"style\":\"light\"}}},\"xaxis\":{\"anchor\":\"y\",\"domain\":[0.0,1.0],\"title\":{\"text\":\"Gender\"}},\"yaxis\":{\"anchor\":\"x\",\"domain\":[0.0,1.0],\"title\":{\"text\":\"Count\"}},\"legend\":{\"tracegroupgap\":0},\"title\":{\"text\":\"Gender Distribution among Victims\"},\"barmode\":\"relative\"},                        {\"responsive\": true}                    ).then(function(){\n",
              "                            \n",
              "var gd = document.getElementById('6a63e72b-1e49-4302-9e64-f9347f4aa303');\n",
              "var x = new MutationObserver(function (mutations, observer) {{\n",
              "        var display = window.getComputedStyle(gd).display;\n",
              "        if (!display || display === 'none') {{\n",
              "            console.log([gd, 'removed!']);\n",
              "            Plotly.purge(gd);\n",
              "            observer.disconnect();\n",
              "        }}\n",
              "}});\n",
              "\n",
              "// Listen for the removal of the full notebook cells\n",
              "var notebookContainer = gd.closest('#notebook-container');\n",
              "if (notebookContainer) {{\n",
              "    x.observe(notebookContainer, {childList: true});\n",
              "}}\n",
              "\n",
              "// Listen for the clearing of the current output cell\n",
              "var outputEl = gd.closest('.output');\n",
              "if (outputEl) {{\n",
              "    x.observe(outputEl, {childList: true});\n",
              "}}\n",
              "\n",
              "                        })                };                            </script>        </div>\n",
              "</body>\n",
              "</html>"
            ]
          },
          "metadata": {}
        },
        {
          "output_type": "display_data",
          "data": {
            "text/html": [
              "<html>\n",
              "<head><meta charset=\"utf-8\" /></head>\n",
              "<body>\n",
              "    <div>            <script src=\"https://cdnjs.cloudflare.com/ajax/libs/mathjax/2.7.5/MathJax.js?config=TeX-AMS-MML_SVG\"></script><script type=\"text/javascript\">if (window.MathJax && window.MathJax.Hub && window.MathJax.Hub.Config) {window.MathJax.Hub.Config({SVG: {font: \"STIX-Web\"}});}</script>                <script type=\"text/javascript\">window.PlotlyConfig = {MathJaxConfig: 'local'};</script>\n",
              "        <script charset=\"utf-8\" src=\"https://cdn.plot.ly/plotly-2.24.1.min.js\"></script>                <div id=\"2cf19871-2691-448f-a69b-84dfadc278f0\" class=\"plotly-graph-div\" style=\"height:525px; width:100%;\"></div>            <script type=\"text/javascript\">                                    window.PLOTLYENV=window.PLOTLYENV || {};                                    if (document.getElementById(\"2cf19871-2691-448f-a69b-84dfadc278f0\")) {                    Plotly.newPlot(                        \"2cf19871-2691-448f-a69b-84dfadc278f0\",                        [{\"domain\":{\"x\":[0.0,1.0],\"y\":[0.0,1.0]},\"hovertemplate\":\"Gender=%{label}\\u003cextra\\u003e\\u003c\\u002fextra\\u003e\",\"labels\":[\"M\",\"F\",\"M & F\"],\"legendgroup\":\"\",\"name\":\"\",\"showlegend\":true,\"type\":\"pie\"}],                        {\"template\":{\"data\":{\"histogram2dcontour\":[{\"type\":\"histogram2dcontour\",\"colorbar\":{\"outlinewidth\":0,\"ticks\":\"\"},\"colorscale\":[[0.0,\"#0d0887\"],[0.1111111111111111,\"#46039f\"],[0.2222222222222222,\"#7201a8\"],[0.3333333333333333,\"#9c179e\"],[0.4444444444444444,\"#bd3786\"],[0.5555555555555556,\"#d8576b\"],[0.6666666666666666,\"#ed7953\"],[0.7777777777777778,\"#fb9f3a\"],[0.8888888888888888,\"#fdca26\"],[1.0,\"#f0f921\"]]}],\"choropleth\":[{\"type\":\"choropleth\",\"colorbar\":{\"outlinewidth\":0,\"ticks\":\"\"}}],\"histogram2d\":[{\"type\":\"histogram2d\",\"colorbar\":{\"outlinewidth\":0,\"ticks\":\"\"},\"colorscale\":[[0.0,\"#0d0887\"],[0.1111111111111111,\"#46039f\"],[0.2222222222222222,\"#7201a8\"],[0.3333333333333333,\"#9c179e\"],[0.4444444444444444,\"#bd3786\"],[0.5555555555555556,\"#d8576b\"],[0.6666666666666666,\"#ed7953\"],[0.7777777777777778,\"#fb9f3a\"],[0.8888888888888888,\"#fdca26\"],[1.0,\"#f0f921\"]]}],\"heatmap\":[{\"type\":\"heatmap\",\"colorbar\":{\"outlinewidth\":0,\"ticks\":\"\"},\"colorscale\":[[0.0,\"#0d0887\"],[0.1111111111111111,\"#46039f\"],[0.2222222222222222,\"#7201a8\"],[0.3333333333333333,\"#9c179e\"],[0.4444444444444444,\"#bd3786\"],[0.5555555555555556,\"#d8576b\"],[0.6666666666666666,\"#ed7953\"],[0.7777777777777778,\"#fb9f3a\"],[0.8888888888888888,\"#fdca26\"],[1.0,\"#f0f921\"]]}],\"heatmapgl\":[{\"type\":\"heatmapgl\",\"colorbar\":{\"outlinewidth\":0,\"ticks\":\"\"},\"colorscale\":[[0.0,\"#0d0887\"],[0.1111111111111111,\"#46039f\"],[0.2222222222222222,\"#7201a8\"],[0.3333333333333333,\"#9c179e\"],[0.4444444444444444,\"#bd3786\"],[0.5555555555555556,\"#d8576b\"],[0.6666666666666666,\"#ed7953\"],[0.7777777777777778,\"#fb9f3a\"],[0.8888888888888888,\"#fdca26\"],[1.0,\"#f0f921\"]]}],\"contourcarpet\":[{\"type\":\"contourcarpet\",\"colorbar\":{\"outlinewidth\":0,\"ticks\":\"\"}}],\"contour\":[{\"type\":\"contour\",\"colorbar\":{\"outlinewidth\":0,\"ticks\":\"\"},\"colorscale\":[[0.0,\"#0d0887\"],[0.1111111111111111,\"#46039f\"],[0.2222222222222222,\"#7201a8\"],[0.3333333333333333,\"#9c179e\"],[0.4444444444444444,\"#bd3786\"],[0.5555555555555556,\"#d8576b\"],[0.6666666666666666,\"#ed7953\"],[0.7777777777777778,\"#fb9f3a\"],[0.8888888888888888,\"#fdca26\"],[1.0,\"#f0f921\"]]}],\"surface\":[{\"type\":\"surface\",\"colorbar\":{\"outlinewidth\":0,\"ticks\":\"\"},\"colorscale\":[[0.0,\"#0d0887\"],[0.1111111111111111,\"#46039f\"],[0.2222222222222222,\"#7201a8\"],[0.3333333333333333,\"#9c179e\"],[0.4444444444444444,\"#bd3786\"],[0.5555555555555556,\"#d8576b\"],[0.6666666666666666,\"#ed7953\"],[0.7777777777777778,\"#fb9f3a\"],[0.8888888888888888,\"#fdca26\"],[1.0,\"#f0f921\"]]}],\"mesh3d\":[{\"type\":\"mesh3d\",\"colorbar\":{\"outlinewidth\":0,\"ticks\":\"\"}}],\"scatter\":[{\"fillpattern\":{\"fillmode\":\"overlay\",\"size\":10,\"solidity\":0.2},\"type\":\"scatter\"}],\"parcoords\":[{\"type\":\"parcoords\",\"line\":{\"colorbar\":{\"outlinewidth\":0,\"ticks\":\"\"}}}],\"scatterpolargl\":[{\"type\":\"scatterpolargl\",\"marker\":{\"colorbar\":{\"outlinewidth\":0,\"ticks\":\"\"}}}],\"bar\":[{\"error_x\":{\"color\":\"#2a3f5f\"},\"error_y\":{\"color\":\"#2a3f5f\"},\"marker\":{\"line\":{\"color\":\"#E5ECF6\",\"width\":0.5},\"pattern\":{\"fillmode\":\"overlay\",\"size\":10,\"solidity\":0.2}},\"type\":\"bar\"}],\"scattergeo\":[{\"type\":\"scattergeo\",\"marker\":{\"colorbar\":{\"outlinewidth\":0,\"ticks\":\"\"}}}],\"scatterpolar\":[{\"type\":\"scatterpolar\",\"marker\":{\"colorbar\":{\"outlinewidth\":0,\"ticks\":\"\"}}}],\"histogram\":[{\"marker\":{\"pattern\":{\"fillmode\":\"overlay\",\"size\":10,\"solidity\":0.2}},\"type\":\"histogram\"}],\"scattergl\":[{\"type\":\"scattergl\",\"marker\":{\"colorbar\":{\"outlinewidth\":0,\"ticks\":\"\"}}}],\"scatter3d\":[{\"type\":\"scatter3d\",\"line\":{\"colorbar\":{\"outlinewidth\":0,\"ticks\":\"\"}},\"marker\":{\"colorbar\":{\"outlinewidth\":0,\"ticks\":\"\"}}}],\"scattermapbox\":[{\"type\":\"scattermapbox\",\"marker\":{\"colorbar\":{\"outlinewidth\":0,\"ticks\":\"\"}}}],\"scatterternary\":[{\"type\":\"scatterternary\",\"marker\":{\"colorbar\":{\"outlinewidth\":0,\"ticks\":\"\"}}}],\"scattercarpet\":[{\"type\":\"scattercarpet\",\"marker\":{\"colorbar\":{\"outlinewidth\":0,\"ticks\":\"\"}}}],\"carpet\":[{\"aaxis\":{\"endlinecolor\":\"#2a3f5f\",\"gridcolor\":\"white\",\"linecolor\":\"white\",\"minorgridcolor\":\"white\",\"startlinecolor\":\"#2a3f5f\"},\"baxis\":{\"endlinecolor\":\"#2a3f5f\",\"gridcolor\":\"white\",\"linecolor\":\"white\",\"minorgridcolor\":\"white\",\"startlinecolor\":\"#2a3f5f\"},\"type\":\"carpet\"}],\"table\":[{\"cells\":{\"fill\":{\"color\":\"#EBF0F8\"},\"line\":{\"color\":\"white\"}},\"header\":{\"fill\":{\"color\":\"#C8D4E3\"},\"line\":{\"color\":\"white\"}},\"type\":\"table\"}],\"barpolar\":[{\"marker\":{\"line\":{\"color\":\"#E5ECF6\",\"width\":0.5},\"pattern\":{\"fillmode\":\"overlay\",\"size\":10,\"solidity\":0.2}},\"type\":\"barpolar\"}],\"pie\":[{\"automargin\":true,\"type\":\"pie\"}]},\"layout\":{\"autotypenumbers\":\"strict\",\"colorway\":[\"#636efa\",\"#EF553B\",\"#00cc96\",\"#ab63fa\",\"#FFA15A\",\"#19d3f3\",\"#FF6692\",\"#B6E880\",\"#FF97FF\",\"#FECB52\"],\"font\":{\"color\":\"#2a3f5f\"},\"hovermode\":\"closest\",\"hoverlabel\":{\"align\":\"left\"},\"paper_bgcolor\":\"white\",\"plot_bgcolor\":\"#E5ECF6\",\"polar\":{\"bgcolor\":\"#E5ECF6\",\"angularaxis\":{\"gridcolor\":\"white\",\"linecolor\":\"white\",\"ticks\":\"\"},\"radialaxis\":{\"gridcolor\":\"white\",\"linecolor\":\"white\",\"ticks\":\"\"}},\"ternary\":{\"bgcolor\":\"#E5ECF6\",\"aaxis\":{\"gridcolor\":\"white\",\"linecolor\":\"white\",\"ticks\":\"\"},\"baxis\":{\"gridcolor\":\"white\",\"linecolor\":\"white\",\"ticks\":\"\"},\"caxis\":{\"gridcolor\":\"white\",\"linecolor\":\"white\",\"ticks\":\"\"}},\"coloraxis\":{\"colorbar\":{\"outlinewidth\":0,\"ticks\":\"\"}},\"colorscale\":{\"sequential\":[[0.0,\"#0d0887\"],[0.1111111111111111,\"#46039f\"],[0.2222222222222222,\"#7201a8\"],[0.3333333333333333,\"#9c179e\"],[0.4444444444444444,\"#bd3786\"],[0.5555555555555556,\"#d8576b\"],[0.6666666666666666,\"#ed7953\"],[0.7777777777777778,\"#fb9f3a\"],[0.8888888888888888,\"#fdca26\"],[1.0,\"#f0f921\"]],\"sequentialminus\":[[0.0,\"#0d0887\"],[0.1111111111111111,\"#46039f\"],[0.2222222222222222,\"#7201a8\"],[0.3333333333333333,\"#9c179e\"],[0.4444444444444444,\"#bd3786\"],[0.5555555555555556,\"#d8576b\"],[0.6666666666666666,\"#ed7953\"],[0.7777777777777778,\"#fb9f3a\"],[0.8888888888888888,\"#fdca26\"],[1.0,\"#f0f921\"]],\"diverging\":[[0,\"#8e0152\"],[0.1,\"#c51b7d\"],[0.2,\"#de77ae\"],[0.3,\"#f1b6da\"],[0.4,\"#fde0ef\"],[0.5,\"#f7f7f7\"],[0.6,\"#e6f5d0\"],[0.7,\"#b8e186\"],[0.8,\"#7fbc41\"],[0.9,\"#4d9221\"],[1,\"#276419\"]]},\"xaxis\":{\"gridcolor\":\"white\",\"linecolor\":\"white\",\"ticks\":\"\",\"title\":{\"standoff\":15},\"zerolinecolor\":\"white\",\"automargin\":true,\"zerolinewidth\":2},\"yaxis\":{\"gridcolor\":\"white\",\"linecolor\":\"white\",\"ticks\":\"\",\"title\":{\"standoff\":15},\"zerolinecolor\":\"white\",\"automargin\":true,\"zerolinewidth\":2},\"scene\":{\"xaxis\":{\"backgroundcolor\":\"#E5ECF6\",\"gridcolor\":\"white\",\"linecolor\":\"white\",\"showbackground\":true,\"ticks\":\"\",\"zerolinecolor\":\"white\",\"gridwidth\":2},\"yaxis\":{\"backgroundcolor\":\"#E5ECF6\",\"gridcolor\":\"white\",\"linecolor\":\"white\",\"showbackground\":true,\"ticks\":\"\",\"zerolinecolor\":\"white\",\"gridwidth\":2},\"zaxis\":{\"backgroundcolor\":\"#E5ECF6\",\"gridcolor\":\"white\",\"linecolor\":\"white\",\"showbackground\":true,\"ticks\":\"\",\"zerolinecolor\":\"white\",\"gridwidth\":2}},\"shapedefaults\":{\"line\":{\"color\":\"#2a3f5f\"}},\"annotationdefaults\":{\"arrowcolor\":\"#2a3f5f\",\"arrowhead\":0,\"arrowwidth\":1},\"geo\":{\"bgcolor\":\"white\",\"landcolor\":\"#E5ECF6\",\"subunitcolor\":\"white\",\"showland\":true,\"showlakes\":true,\"lakecolor\":\"white\"},\"title\":{\"x\":0.05},\"mapbox\":{\"style\":\"light\"}}},\"legend\":{\"tracegroupgap\":0},\"title\":{\"text\":\"Gender Distribution among Victims\"}},                        {\"responsive\": true}                    ).then(function(){\n",
              "                            \n",
              "var gd = document.getElementById('2cf19871-2691-448f-a69b-84dfadc278f0');\n",
              "var x = new MutationObserver(function (mutations, observer) {{\n",
              "        var display = window.getComputedStyle(gd).display;\n",
              "        if (!display || display === 'none') {{\n",
              "            console.log([gd, 'removed!']);\n",
              "            Plotly.purge(gd);\n",
              "            observer.disconnect();\n",
              "        }}\n",
              "}});\n",
              "\n",
              "// Listen for the removal of the full notebook cells\n",
              "var notebookContainer = gd.closest('#notebook-container');\n",
              "if (notebookContainer) {{\n",
              "    x.observe(notebookContainer, {childList: true});\n",
              "}}\n",
              "\n",
              "// Listen for the clearing of the current output cell\n",
              "var outputEl = gd.closest('.output');\n",
              "if (outputEl) {{\n",
              "    x.observe(outputEl, {childList: true});\n",
              "}}\n",
              "\n",
              "                        })                };                            </script>        </div>\n",
              "</body>\n",
              "</html>"
            ]
          },
          "metadata": {}
        }
      ]
    },
    {
      "cell_type": "markdown",
      "source": [
        "Number of motor vehicle incidents ('Mv Involved') (Bar chart):"
      ],
      "metadata": {
        "id": "GYkZzDlOjwim"
      }
    },
    {
      "cell_type": "code",
      "source": [
        "# Create a bar chart of 'Mv Involved' counts\n",
        "mv_counts = df['Mv Involved'].value_counts()\n",
        "fig_mv = px.bar(mv_counts, x=mv_counts.index, y=mv_counts.values,\n",
        "                title='Number of Motor Vehicle Incidents', labels={'x': 'Mv Involved', 'y': 'Count'})\n",
        "fig_mv.show()\n"
      ],
      "metadata": {
        "colab": {
          "base_uri": "https://localhost:8080/",
          "height": 542
        },
        "id": "5060-fvyj1m3",
        "outputId": "6348b692-c0aa-47b4-e4a2-bc5c05940414"
      },
      "execution_count": 20,
      "outputs": [
        {
          "output_type": "display_data",
          "data": {
            "text/html": [
              "<html>\n",
              "<head><meta charset=\"utf-8\" /></head>\n",
              "<body>\n",
              "    <div>            <script src=\"https://cdnjs.cloudflare.com/ajax/libs/mathjax/2.7.5/MathJax.js?config=TeX-AMS-MML_SVG\"></script><script type=\"text/javascript\">if (window.MathJax && window.MathJax.Hub && window.MathJax.Hub.Config) {window.MathJax.Hub.Config({SVG: {font: \"STIX-Web\"}});}</script>                <script type=\"text/javascript\">window.PlotlyConfig = {MathJaxConfig: 'local'};</script>\n",
              "        <script charset=\"utf-8\" src=\"https://cdn.plot.ly/plotly-2.24.1.min.js\"></script>                <div id=\"0fe10411-dc59-4534-90c5-d4a2cbe9e534\" class=\"plotly-graph-div\" style=\"height:525px; width:100%;\"></div>            <script type=\"text/javascript\">                                    window.PLOTLYENV=window.PLOTLYENV || {};                                    if (document.getElementById(\"0fe10411-dc59-4534-90c5-d4a2cbe9e534\")) {                    Plotly.newPlot(                        \"0fe10411-dc59-4534-90c5-d4a2cbe9e534\",                        [{\"alignmentgroup\":\"True\",\"hovertemplate\":\"Mv Involved=%{x}\\u003cbr\\u003eCount=%{y}\\u003cextra\\u003e\\u003c\\u002fextra\\u003e\",\"legendgroup\":\"\",\"marker\":{\"color\":\"#636efa\",\"pattern\":{\"shape\":\"\"}},\"name\":\"\",\"offsetgroup\":\"\",\"orientation\":\"v\",\"showlegend\":false,\"textposition\":\"auto\",\"x\":[\" TOYOTA MATATU\",\" ISUZU LORRY\",\" TOYOTA PROBOX\",\" NISSAN MATATU\",\" TOYOTA FIELDER\",\" T\\u002fMATATU\",\" ISUZU BUS\",\" T\\u002fPROBOX\",\" TOYOTA HIACE\",\" TOYOTA PRADO\",\" TOYOTA SALOON\",\" TOYOTA COROLLA\",\" ISUZU MINI BUS\",\" PROBOX\",\" T\\u002fESTIMA\",\" TOYOTA TOWNACE\",\" ISUZU MINIBUS\",\" MITSUBISHI LORRY\",\" MATATU\",\" ISUZU CANTER\",\" NISSAN UD BUS & KMCR  SKYGO\",\"KBR\\u002fZE  ACTORS TRAILER & KBV TOYOTA G-TOURING\",\" ISUZU M\\u002fBUS\",\" NISSAN UD BUS\",\" I\\u002fLORRY\",\" I\\u002fM\\u002fBUS\",\" T\\u002fFIELDER\",\" TOYOTA HILUX P\\u002fUP\",\" SCANIA BUS\",\" I\\u002fM\\u002fBUS & M\\u002fC KMDR \",\"GKB  FORD RANGER\",\" TOYOTA HIACE, T\\u002fPROBOX\",\" TOYOTA RACTIS & KTWB  PIAGGIO\",\" SCANIA BUS &  ACTROS\",\"KTCB \\u002fZF LANDINI TRACTOR & KBK TOYOTA TOWNACE\",\" TOYOTA CALDINA\",\" NISSAN MATATU & \\u002fZC  AXOR\",\"KCGW TOYOTA MATATU\",\" FAW LORRY & KMDP  HONDA\",\" TANKER\",\"GKA  TOYOTA PRADO AND  M\\u002fBENZ TRAILOR\",\"KMBH  TVS STAR\",\" M\\u002fBENZ LORRY\",\"\\u002fZE  M\\u002fBENZ TRAILER & KMDJ  BOXER\",\" ISUZU FRR & MOTOR CYCLE\",\" PREMIO\",\"KMEH  RANGER&  ISUZU LORRY\",\"UNKNOWN M\\u002fV PEDESTRIAN\",\" LORRY\",\"UNKNOWN MOTOR CYCLE\",\"KMDR  BOXER,KMDQ  TVS &  FAW PRIME MOVER\",\" T\\u002fHILUX P\\u002fUP\",\" ISUZU LORRY &  ASHOK LEYLAND LORRY\",\"KMDX  BAJAJ\",\" TOYOTA TOWNACE & KMDX  BOXER\",\"KMDS \",\" ISUZU NPR,KMDZ  BOXER\",\" ISUZU CXZ LORRY & KMEC  TVS STAR\",\" NISSAN MATATU,KMCF  TVS\",\"KMCL \",\" MITSUBISHI CANTER\",\" BUS\",\"KMDH  KINGBIRD & UNKNOEWN MCY\",\" NISSAN AD\",\" T\\u002fMATATU &  HINO BUS\",\" T\\u002fPRADO\",\"M\\u002fV  M\\u002fBUS & M\\u002fCYC. KMDV  BOXER\",\" ISUZU D\\u002fMAX & \\u002fZE \",\" T\\u002fMATATU & KMEA  BOXER\",\" XTRAIL & KMDA  CHINNERY\",\"KMCJ  DAYUN\",\" TOYOTA AXIO\",\" TOYOTA PREMIO\",\" L\\u002fROVER\",\" M\\u002fBENZ\",\" TOYOTA IPSUM\",\"KTCB \\u002fZD NEW HOLLAND\",\" MITSUBISH LORRY\",\" M\\u002fLORRY\",\" TOYOTA WISH\",\" ISUZU\",\" &  MITSUBISHI FH LORRIES\",\" TOYOTA P\\u002fUP\",\"M\\u002fCYCLE KMDQ  TVS & KMDS  TVS\",\" T\\u002fSTARLET, T\\u002fBELTA\",\" M\\u002fBENZ TRAILER &  ISUZU P\\u002fUP\",\"M\\u002fCYCLE KMCC  TVS & UNKNOWN M\\u002fVEHICLE\",\"UNREGISTERED M\\u002fCYCLE\",\" P\\u002fUP\",\"\\u002fZD  M\\u002fBENZ ACTROSS\",\" ISUZU LORRY, ISUZU BUS &  TOYOTA MATATU\",\"KMDS  RANGER\",\" RANGE ROVER SPORT & M\\u002fCYCLE\",\" \\u002fZD  SCANIAL TRAILER\",\"UNKNOWN M\\u002fV &  PEDS\",\"\\u002fZE  M\\u002fBENZ TRAILER &  ISUZU LORRY\",\" T\\u002fALLION & KMCN  TVSSTAR\",\" T\\u002fCOROLLA\",\" NEW HOLLAND\",\" TATA LORRY\",\" N\\u002fSALOON\",\" HONDA CRV\",\" TOYOTA VITS\",\"\\u002fZA  ACTROS TRAILER\",\" TOYOTA MATATU & KMDT  BAJAJ\",\" SALOON\",\" TOYOTA MATATU HACE(NAROK LINE SERVICES LTD)\",\" MITSUBISHI BUS\",\"KMDQ  SKYGO\",\"\\u002fZD  M\\u002fBENZ TRAILER\",\"CG T\\u002fFORTUNER\",\"M ASHOK LEYLAND LORRY\",\" TOYOTA PASSO &  TOYOTA HARRIER\",\"M\\u002fCYCLE KMDY  YAMAHA $F\\u002fJ\\u002fPED\",\"UNKNWON\",\"PEDAL CYCLE\",\"GKB  T\\u002fL\\u002fCRUISER\",\" FOTON LORRY\",\"UAY IVECO & KTWA  TUK TUK\",\" MITSUBISHI FUSO LORRY &  TOYOTA PROBOX\",\" MINI BUS\",\" V\\u002fWAGEN\",\" MATATU C\\\\O KITOMA SACCO\",\" ISUZU P\\u002fUP &  TOYOTA MATATU\",\"T CRANE\",\"CG FORD RANGER P\\u002fUP\",\"KCC HINO BUS\",\" MITSUBISHI FH MATATU\",\"\\u002fZD  AXIOR TRAILER\",\" NISSAN SUNNY\",\" X-TRAIL\",\" ISUZU P\\u002fUP\",\" MATATU &  T\\u002fCOROLLA\",\" MATATU (OUTREACH SACCO)\",\" MATATU (NK SACCO)\",\" TOYOTA ALLION\",\" NISSAN BLUEBIRD\",\" T\\u002fMATYATU(ISKA INVESTMENTS COMPANY LTD)\",\" MIT LORRY\",\" NISSAN\",\"UNKNOWN M\\u002fV & SKATER\",\"TRACTOR KTCA  FORD NEW HOLLAND\",\" BMW SALOON\",\" ISUZU FVR\",\" NISSAN TIIDA\",\" SUZUKI MARRUTI\",\" ISUZU CANTER &  M\\u002fBENZ\",\" T\\u002fRACTIS\",\"M\\u002fV  T\\u002fMATATU AND P\\u002fCYCLIST\",\" FH LORRY\",\" FH MINI BUS\",\" ISUZU NPR\",\"GKB  ISUZU DMAXX\",\" T\\u002fL\\u002fCRUISER & KMDW  TVS STAR\",\" ISUZU BUS (EMBASSAVA SACCO)\",\" T\\u002fAVENSIS\",\" T\\u002fMATATU &  T\\u002fNZE\",\"\\u002fZC  M\\u002fBENZ AND KMDZ  TVS\",\" TOYOTA WISH &  ISUZU LORRY\",\" MAN LORRY\",\" LEYLAND LORRY &  MERCEDES BENZ\",\" TOYOTA PRADO, TOYOTA STARLET &  MITSUBISHI COLT\",\"\\u002fZE  VOLKSWAGEN TRAILER\",\" TOYOTA ALLION, SALOON CAR, SEMI TRAILER\",\" TOYOTA PREMIO &  TOYOTA SALOON\",\"M\\u002fV  T\\u002fWASH & \\u002fZF  AXOR\",\" NISSAN CARAVAN\",\"M\\u002fV  I\\u002fLORRY &  PROBOX\",\"KCM TOYOTA MATATU\",\"M\\u002fV  T\\u002fMATATU\",\"KAX\\u002fZB MERCEDES ACTROS, KCB HONDA AIRWAVE & UAS\\u002fZD MERCEDES ACTROS\",\"KCF MATATU & KBB\\u002fZC NISSAN DIESEL UD TRAILER & KBW\\u002fZC HOWO\",\"KTCB\\u002fZE TRACTOR\",\"KBTISUZU P\\u002fUP & KTWA TUK TUK\",\"KBZS  T\\u002fUP &  T\\u002fSALOON\",\" ISUZU DMAX P\\u002fUP AND \\u002fZF  MAN TRAILER\",\" T\\u002fSHARK AND M\\u002fA\\u002fPASS\",\" TOYOTA L\\u002fCRUISER\",\" TOYOTA SALOON \\u002fZE  MAN TRAILER\",\" TOYOTA NZE &  T\\u002fPICK UP\",\"KTCA  NEW LAND\",\"GKB  AMBULANCE(NAKURU PRISON), NEW HOLLAND\",\" SUBARU LEGACY &\\u002fZE  RENAULT TRAILER\",\"\\u002fZD  SHACKMAN\",\" TOYOTA MATATU AND GKB  LAND CRUISER\",\" T\\u002fP\\u002fUP\",\" ISUZU BUS &  FORD TRACTOR\",\" KA  LORRY\",\" CANTER\",\" ISUZU BUS & F\\u002fJ\\u002fPASSENGER\",\" NZE\",\"KMDK  SKYGO &  TOYOTA\",\"KTCB  FORD TRACTOR\",\"M\\u002fV  ISUZU BUS\",\"M\\u002fTRACTOR KTCB \\u002fZA  NEW HOLLAND & M\\u002fA\\u002fPAX\",\" SALOON &  I\\u002fBUS\",\" M\\u002fCANTER &  T\\u002fMATATU\",\"GVN  MERCEDES BENZ\",\"\\u002fZB  M\\u002fBENZTRAILER & UAQ  \\u002fUAQ  TANKER\",\" MAKE ISUZU LORRY\",\" NISSAN UD BUS &  NISSAN VAN\",\" ZD  MERCEDEZ BENZ TRAILER &  TOYOTA PRADO\",\" MITSUBISHI FH & UAZ \\u002fZE  M\\u002fBENZ TRAILER\",\"KCK TOYOTA PROBOX\",\" ISUZU MINIBUS(EAST SHUTTLE)\",\"KBW TOYOTA LANDCRUISER PRADO\",\" V\\u002fWAGEN GOLF\",\" TOYOTA SUCCEED\",\"UNREGISTERED ASHOK LEYALND\",\"\\u002fZC  FORD HOLLAND TRACTOR\",\"\\u002fZD  TRAILER &  T\\u002fALLION & \",\" MAKE ISZU LORRY\",\" N\\u002fBUS &  TRACTOR\",\" T\\u002fMATATU &  ISUZU BUS\",\" SUZUKI SWIFT\",\" TOYOTA BELTA\",\"GKB  MAKE NISSAN PATROL\",\" N\\u002fMATATU & J\\u002fPEDESTRIAN\",\" I\\u002fLORRY & UNREGISTERED M\\u002fC & PEDESTRIAN\",\"\\u002fZB  M\\u002fBENZ & PEDESTRIAN\",\" F\\u002fTIPPER & PEDESTRIAN\",\" T-HILUX\",\"KMED  M\\u002fCYCLE &  T\\u002fMATATU\",\" TOYOTA HIACE MATATU\",\" ISUZU BUS &  ISUZU BUS\",\" I\\u002fM\\u002fBUS(USAFIRI SACCO)\",\" SUBARU FORESTER\",\"KTCB \\u002fZF  NEW HOLLAND\",\"\\u002fZC  MAN\",\" TOYOTA HARRIER\",\"KCC MAZDA\",\"KTCA \\u002f TRACTOR\",\"UNKNOWN MOTOR VEHICLE\",\" MITSUBISHI LANCER\",\" DAIHATSU\",\" LORRY & J\\u002fPEDESTRIAN\",\" T\\u002fCALDINA\",\"\\u002fZC  TRAILER\",\" SUZUKI MARUTI\",\"KMDD  BAJAJ\",\"KAA SUBARU & KCN\\u002fZF\",\"KBK N\\u002fMATATU\",\"KBR ISUZU\",\"KCA N\\u002fMATATU & KAV PREMIO\",\"KBA T\\u002fMATATU\",\"KBN T\\u002fPROBOX\",\"KCD TOYOTA FIELDER\",\"KCB (GKB ) SUBARU OUTBACK\",\"KBV\\u002fZE BEIBEN TRAILER\",\" MAKE NISSAN VANETTE\",\"CG  FORD RANGER DOUBLE CABIN\",\" MITSUBISHI FUSO LORRY\",\"\\u002fZE  MERCEDES BENZ TRAILER\",\" TOYOTA ISIS\",\" MAKE TOYOTA NZE\",\"UNKNOWN VEHICLE\",\"KTCA \\u002fZC  NEW HOLLAND\",\" T\\u002fSUCCEED\",\"P T\\u002fSURF\",\" HARRIER & M\\u002fCYCLE KMCS  HAOJUE\",\" TOYOTA MATATU & M\\u002fC KMCS  JINCHENG\",\" TOYOTA IST & KMBX  HONDA\",\"KMDZ  CAPTAIN & T\\u002fPROBOX\",\" ISUZU M\\u002fBUS & KMCZ  BOXER\",\" HINO MINIBUS & KMCG  SKYGO\",\"KMEK M\\u002fCYCLE & KAC SALOON & KCJ ISUZU MINIBUS\",\"KAU PRADO &KMDM M\\u002fCYCLE\",\" N\\u002fDIESEL & KMDZ \",\"KMDP  BOXER AND \\u002fZF  TRAILER\",\" T\\u002fSALOON & M\\u002fC KMDW  BOXER\",\"M\\u002fCYCLE KMCC  & \",\" T\\u002fP\\u002fUP & M\\u002fCYCLE KMDG  RANGER\",\"\\u002fH\\u002fMATATU & M\\u002fCYCLE  FOCIN\",\" F\\u002fTAN& M\\u002fCYCLE\",\"\\u002fZF  SCANIA & KMEA  TIGER\",\"UNKNOWN M\\u002fV AND KMCJ  BOXER\",\"KBU T\\u002fL\\u002fC\\u002fPRADO $M\\u002fCY KMDM  SIMBA\",\" VITZ & M\\u002fC KMDM  ZAN LG\",\" LORRY & KMDS  DAYUN\",\"\\u002fZE  NEW HOLLAND TRACTOR\",\"CG T\\u002fL\\u002fCRUISER & M\\u002fC KMCS  SKYGO\",\" SUZUKI VITARA\",\" HONDA FIT\",\" T\\u002fMATATU, M\\u002fC KMDU  SKYGO &UNKNOWN TRAILER\",\"KMDZ  BAJAJ BOXER AND  FORD\",\" TOYOTA MATATU HACE (NAROK LINE SERVICES LTD)\",\"M\\u002fV  R.ROVER, M\\u002fCYC. KMDL  BOXER AND KMCQ  BOXER\",\"M\\u002fCYC KMDX  HAUJON\",\"KMDZ  BOXER M\\u002fCYCLE\",\"M\\u002fV  T\\u002fMATATU $M\\u002fCY MDS  BOXER\",\"UNREGISTERED M\\u002fCYCLE, PEDESTRIAN\",\"T\\u002fHILLUX M\\u002fCYCLE\",\" T\\u002fPREMIO & M\\u002fCYCLE\",\"M\\u002fCY. KMDV  BOXER\",\"M\\u002fV  M\\u002fLORRY AND M\\u002fCYC.KMDG  BOXER\",\"KTWB \",\"M\\u002fV  MITSUBISHI OUTLANDER & M\\u002fC KMDE  TORNADO\",\"M\\u002fC KMDQ BOXER & UNKNOWN M\\u002fVEHIVLE\",\" T\\u002fIST & M\\u002fA\\u002fPED\",\"GK B  ISUZU DMAX & M\\u002fJ\\u002fPED\",\" TOYOTA RUSH\",\"KBN ISUZU CANTER\",\" NISSAN VANETTE\",\"\\u002fZF  FAW\",\"KMDY  HERO\",\" LEYALND LORRY\",\"TNS SUZUKI VITARA\",\"KTWB  PIAGGIO\",\"MITSUBISH CANTER\",\"\\u002fZE  ACTROS TRAILER\",\" MERCEDES BENZ\",\" ISUZU &  ASHOK LEYLAND TIPPER\",\"KMCW  SKYGO\",\" MITSUBISH CANTER\",\" MAKE\",\" TOYOTA RACTIS\",\"\\u002fZD  NISSAN DIESEL TRAILER\",\" TOYOTA DX\",\"KCK SCANIA BUS\",\" TOYOTA HILUX\",\" TOYOTA NADIA\",\"  TOYOTA MATATU\",\" T\\u002fCRUISER\",\"KMEA  TIGER\",\"GKB  AND \\u002f T\\u002fSALOON\",\"KCC TOYOTA FIELDER\",\"\\u002fZC  AXOR TRAILER\",\"M\\u002fV  PROBOX $ M\\u002fCY KMED  TVS\",\"M\\u002fV\\u002f I\\u002fM\\u002fBUS $ PEDS\",\"KAZ TOYOTA DUET\",\"KAM TOYOTA MATATU\",\"KBJ TOYOTA HIACE\",\"M\\u002fV  PEUGEOT  &F\\u002fA\\u002fPED\",\"M\\u002fV BEDFORD LORRY B\\u002fDOWN & M\\u002fA\\u002fPAX\",\" M\\u002fTIPPER & PEDESTRIAN &  N\\u002fSALOON\",\" M\\u002fLANCER PEDESTRIAN\",\"KBB N\\u002fMATATU PEDESTRIAN\",\" FIAT LORRY\",\" T\\u002fSALOON\",\" T\\u002fHIACE\",\"KCF ISUZU LORRY\",\" HONDA STREAM\",\"UNKNOWN M\\u002fV & F\\u002fA\\u002fPED\",\" RANGE ROVER\",\" T\\u002fWISH & F\\u002fA\\u002fPED\",\"M\\u002fCYCLE  TVS & M\\u002fA\\u002fPED\",\" PROBOX & M\\u002fJ\\u002fPED\",\" T\\u002fMATATU & M\\u002fA\\u002fPED\",\" T\\u002fSALOON & PED\",\" TOYOTA MATATU & PED\",\"UNKNOWN M\\u002fV & PED\",\" PEGEOUT\",\"UNKNOWN M\\u002fV & PEDS\",\" I\\u002fM\\u002fBUS & M\\u002fA\\u002fPED\",\" T\\u002fCOROLLA & M\\u002fA\\u002fPED\",\" T\\u002fISIS & F\\u002fA\\u002fPED\",\"M.C KMDZ  BOXER & M\\u002fA\\u002fPED\",\"UNKNOWN M\\u002fV & M\\u002fJ\\u002fPED\",\"T ATE MINI CANTER\",\" PORSCHE\",\"UNKNOWN M\\u002fVEHICLE (HIT & RUN)\",\" PROBOX & M\\u002fA\\u002fPED\",\"\\u002fZB SHACKMAN\",\"KMEB  TVS STAR\",\" MITSUBISHI P\\u002fUP\",\"UNKNOWN CYCLE\",\"\\u002fZF  M\\u002fBENZ & \\u002fZD  M\\u002fBENZ\",\"\\u002fZF  NEW HOLLAND TRACTOR\",\" HONDA CRV & M\\u002fA\\u002fPED\",\"\\u002f ZD  AXOR TRAILOR\",\"M\\u002fCY KMDW  AND M\\u002fA\\u002fPED\",\" CANTER &  MAN SHACK LORRY\",\" LIBERTY\",\" TOYOTA FORYUNER\",\"KMDS  CAPTAIN\",\"M\\u002fV SSD  TOYOTA RAV AND M\\u002fA\\u002fPED\",\"M\\u002fV  T\\u002fPREMIO AND M\\u002fA\\u002fPED\",\" TOYOTA MATATU (CLASSIC LUXURY SHUTTLE )\",\" ISUZU NKR LORRY\",\" TOYOTA MATATU(LIKANA ROUTE \\u002f)\",\" HOWO TIPPER\",\"UNKNOWN M\\u002fV (HIT & RUN)\",\"M\\u002fV\\u002f I\\u002fM\\u002fBUS & M\\u002fA\\u002fPAX\",\"KA  TAN& KMDB \",\" T\\u002fD\\u002fCAP & KMDS  TVS\",\" & KMCS  CAPTAIN\",\" T\\u002fCOROLLA & KMDJ \",\"KMDV  &KMCS \",\" CHEVROLET & KMDU  BOXER\",\"KMCE  MAKE TVS\",\" MITSUBISHI CANTER & KMDX  HILO\",\" & KMDU  BAJAJ\",\"KMCK  TVS\",\"KMCY  RANGER &  TOYOTA HIACE\",\"KMDN  SKYGO\",\" TOYOTA NOAH & KMEC  BOXER\",\" ISUZU CANTER & KMDU  TVS STAR\",\"KMDL  SKYGO\",\" LORRY & M\\u002fCYCLE\",\" TOWNACE & KMEA \",\"KMED  SANYA\",\"KMDT  RANGER\",\"KMCP SUZUKI, TOYOTA PROBOX\",\"UNKNOWN M\\u002fV & KMDE \",\"KMCR  PREMIER & KMCC  SKYGO\",\" NISSAN SERENA & KMDK  BOXER\",\"KMDQ  DAYAN & \",\"KBY SUBARU & KCB T\\u002fMATATU & KCE MITSUBISHI LORRY\",\"KBK MITS LORRY\",\"M\\u002fV  T\\u002f &  TIPPER LORRY\",\"KBT MITSUBISHI FUSO & KBU\\u002fZD MERCEDES BENZ TRAILER\",\"KMDT  TVS STAR\",\" N\\u002fSUNNY & KMCK  JIALING\",\" CANTER AND KMDU  BOXER\",\" \\u002fZD  AXIOR TRAILER & KMDZ  HAOJIN\",\" ISUZU LORRY & KMDA  RANGER\",\" NISSAN AD & KMCX  SKYGO\",\"KMDY  HONDA\",\" TOYOTA HILLUX P\\u002fUP & KMDS  SHINERY\",\" SCANIA BUS & KMDW  BOXER\",\"KMDE  RALLY\",\"KMEF  SKYGO\",\" MITSUBISHI LORRY & KMDZ \",\"KTWA  PIAGGIO TUKTUK & KMDE  BAJAJ\",\"KMDW  YAMAHA\",\" LORRY AND UNKNOWN M\\u002fCYCLE\",\"KMCN  SKYGO & P\\u002fCYCLIST\",\" TATA LORRY & KMEE \",\"KMDH  CAPTAIN & KMDY  DAYUN\",\" MITSUBISHI TAN& KMDH  HONDA\",\" T\\u002fHIACE & KMCM \",\" ISUZU BUS & KMEA  BAJAJ BOXER\",\" & KMDF  MAKE TIGER\",\" SCANIA BUS &  ISUZU CANTER & KMDA \",\"KMDU  BOXER\",\"KMDR  HA&KWTB \\u002fZD  HOLLAND TRACTOR\",\"\\u002fZE  ACTROS TRAILER & KMCH  TVS STAR\",\" NISSAN DUALIS & KMCC  SKYO\",\" PROBOX,KMDL  CAPTAIN\",\" T\\u002fWISH,KTWB  BAJAJ &KMDN \",\" T\\u002fG-TOURING & KMED  SKYGO\",\" ISUZU LORRY & KMCT  BOXER\",\" LORRY AND KMDZ  BOXER\",\"UAQ  T\\u002fSPACIO & KMDT \",\" T\\u002fMATATU & KMDB  CAPTAIN\",\",KMEC  CAPTAIN\",\"GKB  T\\u002fL\\u002fCRUISER & KMEC  BAJAJ\",\" T\\u002fLAND CRUISER,UEC  HONDA\",\"KMDC  K SONGYI\",\" TOYOTA SALOON,KMDX  HAUJIN\",\"KMCK  BAJAJ\",\"KMCY  &  MITSUBISHI CANTER\",\" TOYOTA PROBOX & KMCY  TIGER\",\" PRADO & KMDM  SHYNREY\",\" FIELDER & KMCN  TIGER\",\"\\u002fZE  &UNKNOWN M\\u002fCYCLE\",\"M\\u002fCYCLE KMDZ  SHINERY\",\"KMDV  BOXER & \\u002fZD  MAN TRAILER\",\" MITSUBISH CANTER KMDA  BAJAJ\",\" TOYOTA LANDCRUISER\",\"\\u002fPROBOX & PEDAL CYCLIST\",\" T\\u002fPROBOX &PEDESTRIAN\",\" NISSAN MATATU & KMDY  HONDA\",\"KAQ TOYOTA LEXUS AND KAH TOYOTA LAND CRUISER\",\" TOYOTA PROBOX & \\u002fZE  ACTROSS TRIALER\",\" TOYOTA ALLION & TRAILER\",\"GKA  TOYOTA PRADO\",\" NISSAN BLUE BIRD, TOYOTA MARK II\",\" TOYOTA PRADO, SCANIA BUS\",\" NISSAN MATATU, NISSAN MATATU\",\"UAN  SCANIA TRAILER &  FH TANKER\",\" FUSO LORRY & \\u002fZE  FAW\",\" PROBOX & TUKTUK KTWB \",\" ISUZU BUS,  ISUZU LORRY & KCC TOYOTA MATATU\",\" T\\u002fPREMIO SELF INVOLVED\",\" ACROS,\",\" R\\u002fROVER & RAC  SCANIA BUS &\\u002fZF  SCANIA S\\u002fTRAILER \\u002fZD  M\\u002fBENZ ACTROSS  T\\u002fDX\",\" ISUZU & MITSUBISH FH TANKER\",\" MITSUBISHI FH & \\u002fZC  FAW TRAILER\",\" T\\u002fDUET & \",\"TMS TOYOTA SPACIO,  MITSUBISHI CANTER &  TOWNACE\",\" NZE & GKB  T\\u002fL\\u002fCRUISER\",\" T\\u002fSIENTA &  MITSUBISH CANTER\",\" BEDFORD LORRY&  MITSUBISH CANTER\",\" FAW LORRY &  SALOON\",\" MITSUBISHI FUSO AND  MITSUBISHI FUSO\",\" T\\u002fPREMIO\",\"KTCB ZA  MAHINDRA TRACTOR & KBL TOYOTA HIACE MATATU\",\" T\\u002fSALOON & KMDQ  M\\u002fCYCLE\",\" ISUZU CANTER,  TOYOTA SALOON,  TOYOTA COROLLA &  T\\u002fLCRUISER\",\"\\u002fZE  M\\u002fBENZ TRAILER &  BENZ TRAILER & \\u002fZD  ACTROS TRAILER\",\"\\u002fZC  AXOR TRAILER &  T\\u002fSALOON\",\" T\\u002fPROBOX , T\\u002fMATATU & KMDB  TVS\",\" T\\u002fPROBOX & MITSUBISHI PETROL TANKER\",\" M\\u002fPAJERO &  M\\u002fLORRY\",\"\\u002fZD  AXOR TRAILER &  SCANIA BUS\",\" FIELDER &  T\\u002fISIS\",\"KTCB  JOHN DEER\",\" TATA TIPPER\",\" T\\u002fWISH & \\u002fZE  TRAILER M\\u002fBENZ\",\"\\u002fZD  ACTROS TRAILER & NISSAN XTRAIL\",\"\\u002fZD  MITSUBISH TRAILER & \\u002fZF  DAF TRAILER\",\"GKB  T\\u002fL CRUISER\",\" TOYOTA COROLLA AND \\u002fZC  MERCEDES BENZ\",\" PRADO\",\" T\\u002fRAUM & \\u002fZF  ACTROS\",\" V\\u002fW &  M\\u002fLANCER\",\" T\\u002fMATATU &  T\\u002fFIELDER\",\" FRR &  MASSEY FERGUSON\",\"KMDX  SKYGO M\\u002fCYCLE\",\"SELF INVOLVED\",\" SUBARU &  BUS\",\" N\\u002fSALOON & DONCART DRIVER\",\" M\\u002fFH &  H\\u002fSALOON\",\"M\\u002fV  T\\u002fPREMIO\",\"KBN RANGE ROVER\",\"\\u002fZE  AXOR\",\"R NZE\",\" TOYOTA PROBOX &  TATA TIPPER\",\" MITSUBISH PRIVER MOVER\",\"KTCB  MESSEY FRRGUSON TRACTOR &  MATATU\",\"\\u002fZB  ACTROS TRAILER\",\"\\u002fZC  M\\u002fBENZ TAILER\",\"KBN ISUZU BUS\",\"KCA T\\u002fSALOON & KBB CANTER\",\" TOYOTA SIENTA\",\" FAW TIPPER\",\" TOYOTA SPACIO & KHMA  JCB\",\" TOYOTA HESTIMA\",\" ISUZU LORRY &  TOYOTA WISH\",\" FORD RANGER P\\u002fUP\",\" TOYOTA NZE\",\"ZC (LPG GAS TANKER)\\u002fZE  MAKE BEIBEN AND  MAKE HINO\",\"M\\u002fV \\u002f ZB  M\\u002fBENZ AND  T\\u002fCOROLLA\",\"M\\u002fV  MISTUBISHI GDP AND AN OX CART.\",\" HINO & KDJ-- LAND CRUISER\",\" MITSUBISHI CANTER & KTWB  PIAGGIO\",\"UAT  TOYOTA PRAYER\",\" TOYOTA COROLLA &  NISSAN MATATU\",\" T\\u002fPASSO @\\u002fZF  M M\\u002fBENZ\",\" P\\u002fUP &  T\\u002fSALOON\",\"KTWA  PIAGGIO TUKTUK &  HUMMER\",\"\\u002fZD  ACTROS & \\u002fZF \",\"KMSB  MAKE TIGER\",\" TOYOTA ISIS & KMDT  SHINERY\",\"KMDA  BOXER & UNKNOWN VEHICLE\",\"KBX TOYOTA SALOON, KCJ TOYOTA MATATU & KBA TOYOTA PICK UP\",\"GKB  TOYOTA L\\u002fCRUISER\",\"\\u002fZF \\u002fBENZ TRAILER\",\" TOYOTA MATATU, ISUZU\",\" T\\u002fL\\u002fCRUISER\",\" I\\u002fM\\u002fBUS & \\u002fXF  MAN\",\"KAH NISSAN SUNNY & KCM MITSUBISHI LORRY\",\"KCE ISUZU CANTER & .ZF ACTROS TRAILER\",\" M\\u002fBENZ ZC  AND KMDJ\",\" TOYOTA VAN\",\" T\\u002fMATATU & KMDT  BOXER\",\"KTWB  DAIYUN &  TOYOTA MATATU\",\" TOYOTA MATATU & KMEG  PIONEER\",\" T\\u002fMATATU & KMDY \",\"KMDM  BOXER & KMDX  TVS STAR\",\"KMEC  TIGERS\",\" MITSUBISHI FUSO\",\" TOYOTA HILLUX\",\" MITSUBISHI FH\",\"KMEA  SKYGO\",\"UAK GUSTO LORRY & P\\u002fCYCLIST\",\"M\\u002fV  I\\u002fCANTER & P\\u002fCYCLIST\",\"KMDA  M\\u002fC &PEDAL CYCLIST\",\"BICYCLE\",\" TOYOTA VOXXY\",\"\\u002fZB  M\\u002fBENZ\",\" T\\u002fVANNET & P\\u002fCYCLE\",\"KCG ASHOK LEYLAND WATER BOOZER\",\" HINO BUS & \\u002fZE  BEI BEN TRAILER\",\" T\\u002fMATATU AND UNKNOWN M\\u002fCYCLE\",\" SCANIA BUS AND  TANTRAILER\",\" NISSAN MATATU &  WATER DRILLING TRUCK\",\" ISUZU BUS & T\\u002fWISH \",\" TOYOTA MATATU &  HINO LORRY\",\" N\\u002fMATATU &  TATA LORRY\",\"MITSUBISHI LORRY\",\" PPTR COMPRESSOR\\u002f T\\u002fMATATU\",\"KMCH  SKYGO\",\"\\u002fZF  M\\u002fBENZ & KMCF  SKYGO\",\"T SCANIA BUS & KMEC BOXER\",\" TOYOTA MATATU & KMDR  BOXER\",\" MITSUBISHI LORRY & KMDL  TVS STAR\",\"KCN ISUZU MINIBUS & M\\u002fCYCLE KMDZ\",\"KCB PROBOX & KMCX M\\u002fCYCLE\",\"KBX MITSUBISHI MINI BUS & KBE YOCHI MOTORCYCLE\",\"CG FORD RANGER & KMEH  HERO HONDA\",\" T\\u002fMATATU & KMDW  BAJAJ\",\" TOYOTA FIELDER & KMEG  BOXER\",\"KMDS  SKYGO\",\"KMDY  CAPTAIN & UNKNOWN\",\" T\\u002fPICKMDQ  HAOJIN\",\" MITS LORRY\",\" ISUZU D MAX PICK UP & KMEG  HAOJIN\",\" & KMDT \",\"KMDZ  M\\u002fCYCLE & UNKNOWN M\\u002fV\",\" ISUZU BUS & KMEC  HAOJIN\",\"KMCE  BOXER\",\"KMDX  TVS, KMDM  TVS &  M\\u002fCANTER\",\" TOYOTA CANTER & KMCU  DAYUN\",\"M\\u002fC KMDV  SKYGO & M\\u002fV\\u002f MITSUBISH\",\" TOYOTA MATATU & KMDV  TVS STAR\",\"KMCN  TVS STAR &  & MITSUBISH TANKER\",\"GKB  T\\u002fL\\u002fCRUISER & KMDL  M\\u002fCYCLE\",\" SCANIA BUS & UNKNOWN M\\u002fCYCLE\",\"UNKNOWN M\\u002fV & KMCZ \",\" TOYOTA SUCCEED & KMDD  RIFAN\",\"\\u002fZD  MAN TRAILER & KMDU  YAMAHA\",\"KMCT  MTR & KMDL  SKYGO\",\"\\u002fZC  M\\u002fB\\u002fAXOR &  HARRIER\",\"KMDT \",\" ISUZU LORRY AND UNKNOWN M\\u002fCYCLE\",\"KMEB  TVS STAR AND  MITSUBISH LORRY\",\"SCANIA BUS AND KMDL  SKYGO\",\"KMCY  SKYGO &  ISUZU P\\u002fUP\",\" MITSUBISHI M\\u002fBUS & KMDN  SKYGO\",\" T\\u002fSALOON & KMDU  BOXER\",\"UNKNOWN M\\u002fCYCLE\",\"KMDS HONDA\",\"KBQ ISUZU MINI BUS & UNKNOWN M\\u002fCYCLE\",\"KMDE  SHINERAY AND  ACTROSS\",\"KMCZ  BOXER\",\" FH, KMGB  SKYGO\",\" ISUZU M\\u002fBUS & KMDP  BOXER\",\" ISUZU BUS & KMDS  CAPTAIN\",\"KMDD  TVS &  FIELDER\",\"KMDM  TVS\",\"KMCL  SKYGO  TOYOTA AXIO\",\"KMCB  BAJAJ & UNKNOWN M\\u002fV\",\" MITSUBISHI LORRY & KMEA  BOXER\",\"KMDY  SKYGO &  MITSUBISHI LORRY\",\" ISUZU BUS & KMEC  BOXER\",\"KMEK  HONDA & UAT \\u002fZC  MERCEDES\",\" NISSAN CARAVAN & KMDF  SKYGO\",\" M\\u002fBENZ & KMDE  B\",\" MITSUBISHI CANTER & KMDG  YAMAHA\",\" MIN BUS & KMEJ  BOXER\",\" AUDI Q & MOTOR CYCLE\",\" NISSAN LORRY & KMCR  BOXER\",\"KMDH  DAYUN\",\" T\\u002fMATATU &  YAMAHA\",\"KMCH  BOXER &  N\\u002fD LORRY\",\" T\\u002fALLION & KMCW  BOXER\",\" T\\u002fVOXY & UNREGISTERED M\\u002fCYCLE\",\" TOYOTA PROBOX&KMDT  BOXER\",\" MITSUBISH FUSO &KMDJ  SKYGO\",\"KMDK  HONDA & UNKNOWN M\\u002fV\",\" MITSUBISHI LORRY AND KMEC  TVS\",\" TOYOTA MATATU AND KMDJ  TIGER\",\" ISUZU BUS & KMCJ  BAJAJ\",\" TOYOTA MATATU AND KMDH  TVS STAR\",\"KCWA  TUKTUK & KMDY  BAJAJ\",\"KMDT  BOXER & KMDC  HAOJIN\",\"KMCT  CAPTAIN,  TOYOTA VITS AND  NISSAN MATATU\",\" TOYOTA HIACE AND KMDC  TIGER\",\" DATSUN P\\u002fUP AND KMDN  RANGER\",\"KMDB  BOXER\",\"KTWA  PIAGGIO TUKTUK AND KMDK  BOXER\",\" T\\u002fMATATU & KMDN  BOXER\",\"\\u002fZE  SCANIA TRAILER & M\\u002fCYCLE\",\"KMEC  TVS STAR & UNKNOWN M\\u002fCYCLE\",\" L\\u002fROVER & KMCL \",\"KMDC  BOXER & KMED  BOXER\",\"KMCH  BOXER\",\"\\u002fZD \\u002fB & KMDE  HAOJIN\",\" MITSUBISHI LORRY & KMDN  BOXER\",\" TOYOTA MATATU & KMDM  BAJAJ\",\" TOYOTA HARRIER AND KMDQ  TVS STAR\",\" TOYOTA CROWN AND KMDU  DAYUN\",\" MITSUBISH MINI BUS & UNKNOWN M\\u002fCYLE\",\"MITSUBISHI CANTER AND KTWB TUKTUK\",\" TOYOTA HIACE & KMDM  TVS STAR\",\"M\\u002fV KX A &M\\u002fC KMDL  SKYGO\",\" PEUGEOTS  & KMDB  B FOCIN\",\"KMDZ  TIGERS & KMCQ  TIGERS\",\"UNKNOWN & KMDS DAYUN\",\"KMDM  DAIYUN & KBY TOYOTA VITZ\",\"KBC TOYOTA MATATU & KMDG BOXER\",\"KMEC  BOXER\",\" ISUZU CANTER & KMEE  TVS STAR\",\" MAKE ISUZU LORRY & KMDB  MAKE GAIJIN\",\" T\\u002fMATATU & KMDX  M\\u002fCYCLE\",\" & KMDY  YAMAHA\",\" ISUZU P\\u002fUP & KMDL  MAKE BOXER\",\"KMCA  KINGBIRD\",\" ISUZU DMAX & KMDL \",\" T\\u002fMATATU & KMDL  TVS\",\" CANTER & M\\u002fCYCLE\",\"KMEP  M\\u002fCYCLE &  \\u002fZF  MERCEDES\",\" TR\\u002fVITZ & KMDD  M\\u002fCYCLE\",\"KMEF  BOXER & KMDN  BOXER\",\" PROBOX & KMDV  SKYGO M\\u002fCYCLE\",\" NISSAN UD & UEJ  M\\u002fCYCLE\",\" D\\u002fCAB & GKA  MAKE YAMAHA\",\"UEM  MAKE YAMAHA\",\" TOYOTA PROBOX & KMEE  MAKE SKYGO\",\" TOYOTA SIENTA & KMDL  MAKE TVS\",\" NISSAN XTRAIL AND KMDK  HAOJIN\",\"KTCB \\u002fZC  MAHINDRA TRACTOR & KMDL  M\\u002fCYCLE\"],\"xaxis\":\"x\",\"y\":[21,15,12,11,10,9,9,8,8,6,6,6,5,5,4,4,4,4,4,3,3,3,3,3,3,3,3,3,3,3,3,2,2,2,2,2,2,2,2,2,2,2,2,2,2,2,2,2,2,2,2,2,2,2,2,2,2,2,2,2,2,2,2,2,2,2,2,2,2,2,2,2,2,2,2,2,2,2,2,2,2,2,2,2,2,2,2,2,2,2,2,2,2,2,2,2,2,2,2,2,2,1,1,1,1,1,1,1,1,1,1,1,1,1,1,1,1,1,1,1,1,1,1,1,1,1,1,1,1,1,1,1,1,1,1,1,1,1,1,1,1,1,1,1,1,1,1,1,1,1,1,1,1,1,1,1,1,1,1,1,1,1,1,1,1,1,1,1,1,1,1,1,1,1,1,1,1,1,1,1,1,1,1,1,1,1,1,1,1,1,1,1,1,1,1,1,1,1,1,1,1,1,1,1,1,1,1,1,1,1,1,1,1,1,1,1,1,1,1,1,1,1,1,1,1,1,1,1,1,1,1,1,1,1,1,1,1,1,1,1,1,1,1,1,1,1,1,1,1,1,1,1,1,1,1,1,1,1,1,1,1,1,1,1,1,1,1,1,1,1,1,1,1,1,1,1,1,1,1,1,1,1,1,1,1,1,1,1,1,1,1,1,1,1,1,1,1,1,1,1,1,1,1,1,1,1,1,1,1,1,1,1,1,1,1,1,1,1,1,1,1,1,1,1,1,1,1,1,1,1,1,1,1,1,1,1,1,1,1,1,1,1,1,1,1,1,1,1,1,1,1,1,1,1,1,1,1,1,1,1,1,1,1,1,1,1,1,1,1,1,1,1,1,1,1,1,1,1,1,1,1,1,1,1,1,1,1,1,1,1,1,1,1,1,1,1,1,1,1,1,1,1,1,1,1,1,1,1,1,1,1,1,1,1,1,1,1,1,1,1,1,1,1,1,1,1,1,1,1,1,1,1,1,1,1,1,1,1,1,1,1,1,1,1,1,1,1,1,1,1,1,1,1,1,1,1,1,1,1,1,1,1,1,1,1,1,1,1,1,1,1,1,1,1,1,1,1,1,1,1,1,1,1,1,1,1,1,1,1,1,1,1,1,1,1,1,1,1,1,1,1,1,1,1,1,1,1,1,1,1,1,1,1,1,1,1,1,1,1,1,1,1,1,1,1,1,1,1,1,1,1,1,1,1,1,1,1,1,1,1,1,1,1,1,1,1,1,1,1,1,1,1,1,1,1,1,1,1,1,1,1,1,1,1,1,1,1,1,1,1,1,1,1,1,1,1,1,1,1,1,1,1,1,1,1,1,1,1,1,1,1,1,1,1,1,1,1,1,1,1,1,1,1,1,1,1,1,1,1,1,1,1,1,1,1,1,1,1,1,1,1,1,1,1,1,1,1,1,1,1,1,1,1,1,1,1,1,1,1,1,1,1,1,1,1,1,1,1,1,1,1,1,1,1,1,1,1,1,1,1,1,1,1,1,1,1,1,1,1,1,1,1,1,1,1,1,1,1,1,1,1,1,1,1,1,1,1,1,1,1,1,1,1,1,1,1,1,1,1,1,1,1,1,1],\"yaxis\":\"y\",\"type\":\"bar\"}],                        {\"template\":{\"data\":{\"histogram2dcontour\":[{\"type\":\"histogram2dcontour\",\"colorbar\":{\"outlinewidth\":0,\"ticks\":\"\"},\"colorscale\":[[0.0,\"#0d0887\"],[0.1111111111111111,\"#46039f\"],[0.2222222222222222,\"#7201a8\"],[0.3333333333333333,\"#9c179e\"],[0.4444444444444444,\"#bd3786\"],[0.5555555555555556,\"#d8576b\"],[0.6666666666666666,\"#ed7953\"],[0.7777777777777778,\"#fb9f3a\"],[0.8888888888888888,\"#fdca26\"],[1.0,\"#f0f921\"]]}],\"choropleth\":[{\"type\":\"choropleth\",\"colorbar\":{\"outlinewidth\":0,\"ticks\":\"\"}}],\"histogram2d\":[{\"type\":\"histogram2d\",\"colorbar\":{\"outlinewidth\":0,\"ticks\":\"\"},\"colorscale\":[[0.0,\"#0d0887\"],[0.1111111111111111,\"#46039f\"],[0.2222222222222222,\"#7201a8\"],[0.3333333333333333,\"#9c179e\"],[0.4444444444444444,\"#bd3786\"],[0.5555555555555556,\"#d8576b\"],[0.6666666666666666,\"#ed7953\"],[0.7777777777777778,\"#fb9f3a\"],[0.8888888888888888,\"#fdca26\"],[1.0,\"#f0f921\"]]}],\"heatmap\":[{\"type\":\"heatmap\",\"colorbar\":{\"outlinewidth\":0,\"ticks\":\"\"},\"colorscale\":[[0.0,\"#0d0887\"],[0.1111111111111111,\"#46039f\"],[0.2222222222222222,\"#7201a8\"],[0.3333333333333333,\"#9c179e\"],[0.4444444444444444,\"#bd3786\"],[0.5555555555555556,\"#d8576b\"],[0.6666666666666666,\"#ed7953\"],[0.7777777777777778,\"#fb9f3a\"],[0.8888888888888888,\"#fdca26\"],[1.0,\"#f0f921\"]]}],\"heatmapgl\":[{\"type\":\"heatmapgl\",\"colorbar\":{\"outlinewidth\":0,\"ticks\":\"\"},\"colorscale\":[[0.0,\"#0d0887\"],[0.1111111111111111,\"#46039f\"],[0.2222222222222222,\"#7201a8\"],[0.3333333333333333,\"#9c179e\"],[0.4444444444444444,\"#bd3786\"],[0.5555555555555556,\"#d8576b\"],[0.6666666666666666,\"#ed7953\"],[0.7777777777777778,\"#fb9f3a\"],[0.8888888888888888,\"#fdca26\"],[1.0,\"#f0f921\"]]}],\"contourcarpet\":[{\"type\":\"contourcarpet\",\"colorbar\":{\"outlinewidth\":0,\"ticks\":\"\"}}],\"contour\":[{\"type\":\"contour\",\"colorbar\":{\"outlinewidth\":0,\"ticks\":\"\"},\"colorscale\":[[0.0,\"#0d0887\"],[0.1111111111111111,\"#46039f\"],[0.2222222222222222,\"#7201a8\"],[0.3333333333333333,\"#9c179e\"],[0.4444444444444444,\"#bd3786\"],[0.5555555555555556,\"#d8576b\"],[0.6666666666666666,\"#ed7953\"],[0.7777777777777778,\"#fb9f3a\"],[0.8888888888888888,\"#fdca26\"],[1.0,\"#f0f921\"]]}],\"surface\":[{\"type\":\"surface\",\"colorbar\":{\"outlinewidth\":0,\"ticks\":\"\"},\"colorscale\":[[0.0,\"#0d0887\"],[0.1111111111111111,\"#46039f\"],[0.2222222222222222,\"#7201a8\"],[0.3333333333333333,\"#9c179e\"],[0.4444444444444444,\"#bd3786\"],[0.5555555555555556,\"#d8576b\"],[0.6666666666666666,\"#ed7953\"],[0.7777777777777778,\"#fb9f3a\"],[0.8888888888888888,\"#fdca26\"],[1.0,\"#f0f921\"]]}],\"mesh3d\":[{\"type\":\"mesh3d\",\"colorbar\":{\"outlinewidth\":0,\"ticks\":\"\"}}],\"scatter\":[{\"fillpattern\":{\"fillmode\":\"overlay\",\"size\":10,\"solidity\":0.2},\"type\":\"scatter\"}],\"parcoords\":[{\"type\":\"parcoords\",\"line\":{\"colorbar\":{\"outlinewidth\":0,\"ticks\":\"\"}}}],\"scatterpolargl\":[{\"type\":\"scatterpolargl\",\"marker\":{\"colorbar\":{\"outlinewidth\":0,\"ticks\":\"\"}}}],\"bar\":[{\"error_x\":{\"color\":\"#2a3f5f\"},\"error_y\":{\"color\":\"#2a3f5f\"},\"marker\":{\"line\":{\"color\":\"#E5ECF6\",\"width\":0.5},\"pattern\":{\"fillmode\":\"overlay\",\"size\":10,\"solidity\":0.2}},\"type\":\"bar\"}],\"scattergeo\":[{\"type\":\"scattergeo\",\"marker\":{\"colorbar\":{\"outlinewidth\":0,\"ticks\":\"\"}}}],\"scatterpolar\":[{\"type\":\"scatterpolar\",\"marker\":{\"colorbar\":{\"outlinewidth\":0,\"ticks\":\"\"}}}],\"histogram\":[{\"marker\":{\"pattern\":{\"fillmode\":\"overlay\",\"size\":10,\"solidity\":0.2}},\"type\":\"histogram\"}],\"scattergl\":[{\"type\":\"scattergl\",\"marker\":{\"colorbar\":{\"outlinewidth\":0,\"ticks\":\"\"}}}],\"scatter3d\":[{\"type\":\"scatter3d\",\"line\":{\"colorbar\":{\"outlinewidth\":0,\"ticks\":\"\"}},\"marker\":{\"colorbar\":{\"outlinewidth\":0,\"ticks\":\"\"}}}],\"scattermapbox\":[{\"type\":\"scattermapbox\",\"marker\":{\"colorbar\":{\"outlinewidth\":0,\"ticks\":\"\"}}}],\"scatterternary\":[{\"type\":\"scatterternary\",\"marker\":{\"colorbar\":{\"outlinewidth\":0,\"ticks\":\"\"}}}],\"scattercarpet\":[{\"type\":\"scattercarpet\",\"marker\":{\"colorbar\":{\"outlinewidth\":0,\"ticks\":\"\"}}}],\"carpet\":[{\"aaxis\":{\"endlinecolor\":\"#2a3f5f\",\"gridcolor\":\"white\",\"linecolor\":\"white\",\"minorgridcolor\":\"white\",\"startlinecolor\":\"#2a3f5f\"},\"baxis\":{\"endlinecolor\":\"#2a3f5f\",\"gridcolor\":\"white\",\"linecolor\":\"white\",\"minorgridcolor\":\"white\",\"startlinecolor\":\"#2a3f5f\"},\"type\":\"carpet\"}],\"table\":[{\"cells\":{\"fill\":{\"color\":\"#EBF0F8\"},\"line\":{\"color\":\"white\"}},\"header\":{\"fill\":{\"color\":\"#C8D4E3\"},\"line\":{\"color\":\"white\"}},\"type\":\"table\"}],\"barpolar\":[{\"marker\":{\"line\":{\"color\":\"#E5ECF6\",\"width\":0.5},\"pattern\":{\"fillmode\":\"overlay\",\"size\":10,\"solidity\":0.2}},\"type\":\"barpolar\"}],\"pie\":[{\"automargin\":true,\"type\":\"pie\"}]},\"layout\":{\"autotypenumbers\":\"strict\",\"colorway\":[\"#636efa\",\"#EF553B\",\"#00cc96\",\"#ab63fa\",\"#FFA15A\",\"#19d3f3\",\"#FF6692\",\"#B6E880\",\"#FF97FF\",\"#FECB52\"],\"font\":{\"color\":\"#2a3f5f\"},\"hovermode\":\"closest\",\"hoverlabel\":{\"align\":\"left\"},\"paper_bgcolor\":\"white\",\"plot_bgcolor\":\"#E5ECF6\",\"polar\":{\"bgcolor\":\"#E5ECF6\",\"angularaxis\":{\"gridcolor\":\"white\",\"linecolor\":\"white\",\"ticks\":\"\"},\"radialaxis\":{\"gridcolor\":\"white\",\"linecolor\":\"white\",\"ticks\":\"\"}},\"ternary\":{\"bgcolor\":\"#E5ECF6\",\"aaxis\":{\"gridcolor\":\"white\",\"linecolor\":\"white\",\"ticks\":\"\"},\"baxis\":{\"gridcolor\":\"white\",\"linecolor\":\"white\",\"ticks\":\"\"},\"caxis\":{\"gridcolor\":\"white\",\"linecolor\":\"white\",\"ticks\":\"\"}},\"coloraxis\":{\"colorbar\":{\"outlinewidth\":0,\"ticks\":\"\"}},\"colorscale\":{\"sequential\":[[0.0,\"#0d0887\"],[0.1111111111111111,\"#46039f\"],[0.2222222222222222,\"#7201a8\"],[0.3333333333333333,\"#9c179e\"],[0.4444444444444444,\"#bd3786\"],[0.5555555555555556,\"#d8576b\"],[0.6666666666666666,\"#ed7953\"],[0.7777777777777778,\"#fb9f3a\"],[0.8888888888888888,\"#fdca26\"],[1.0,\"#f0f921\"]],\"sequentialminus\":[[0.0,\"#0d0887\"],[0.1111111111111111,\"#46039f\"],[0.2222222222222222,\"#7201a8\"],[0.3333333333333333,\"#9c179e\"],[0.4444444444444444,\"#bd3786\"],[0.5555555555555556,\"#d8576b\"],[0.6666666666666666,\"#ed7953\"],[0.7777777777777778,\"#fb9f3a\"],[0.8888888888888888,\"#fdca26\"],[1.0,\"#f0f921\"]],\"diverging\":[[0,\"#8e0152\"],[0.1,\"#c51b7d\"],[0.2,\"#de77ae\"],[0.3,\"#f1b6da\"],[0.4,\"#fde0ef\"],[0.5,\"#f7f7f7\"],[0.6,\"#e6f5d0\"],[0.7,\"#b8e186\"],[0.8,\"#7fbc41\"],[0.9,\"#4d9221\"],[1,\"#276419\"]]},\"xaxis\":{\"gridcolor\":\"white\",\"linecolor\":\"white\",\"ticks\":\"\",\"title\":{\"standoff\":15},\"zerolinecolor\":\"white\",\"automargin\":true,\"zerolinewidth\":2},\"yaxis\":{\"gridcolor\":\"white\",\"linecolor\":\"white\",\"ticks\":\"\",\"title\":{\"standoff\":15},\"zerolinecolor\":\"white\",\"automargin\":true,\"zerolinewidth\":2},\"scene\":{\"xaxis\":{\"backgroundcolor\":\"#E5ECF6\",\"gridcolor\":\"white\",\"linecolor\":\"white\",\"showbackground\":true,\"ticks\":\"\",\"zerolinecolor\":\"white\",\"gridwidth\":2},\"yaxis\":{\"backgroundcolor\":\"#E5ECF6\",\"gridcolor\":\"white\",\"linecolor\":\"white\",\"showbackground\":true,\"ticks\":\"\",\"zerolinecolor\":\"white\",\"gridwidth\":2},\"zaxis\":{\"backgroundcolor\":\"#E5ECF6\",\"gridcolor\":\"white\",\"linecolor\":\"white\",\"showbackground\":true,\"ticks\":\"\",\"zerolinecolor\":\"white\",\"gridwidth\":2}},\"shapedefaults\":{\"line\":{\"color\":\"#2a3f5f\"}},\"annotationdefaults\":{\"arrowcolor\":\"#2a3f5f\",\"arrowhead\":0,\"arrowwidth\":1},\"geo\":{\"bgcolor\":\"white\",\"landcolor\":\"#E5ECF6\",\"subunitcolor\":\"white\",\"showland\":true,\"showlakes\":true,\"lakecolor\":\"white\"},\"title\":{\"x\":0.05},\"mapbox\":{\"style\":\"light\"}}},\"xaxis\":{\"anchor\":\"y\",\"domain\":[0.0,1.0],\"title\":{\"text\":\"Mv Involved\"}},\"yaxis\":{\"anchor\":\"x\",\"domain\":[0.0,1.0],\"title\":{\"text\":\"Count\"}},\"legend\":{\"tracegroupgap\":0},\"title\":{\"text\":\"Number of Motor Vehicle Incidents\"},\"barmode\":\"relative\"},                        {\"responsive\": true}                    ).then(function(){\n",
              "                            \n",
              "var gd = document.getElementById('0fe10411-dc59-4534-90c5-d4a2cbe9e534');\n",
              "var x = new MutationObserver(function (mutations, observer) {{\n",
              "        var display = window.getComputedStyle(gd).display;\n",
              "        if (!display || display === 'none') {{\n",
              "            console.log([gd, 'removed!']);\n",
              "            Plotly.purge(gd);\n",
              "            observer.disconnect();\n",
              "        }}\n",
              "}});\n",
              "\n",
              "// Listen for the removal of the full notebook cells\n",
              "var notebookContainer = gd.closest('#notebook-container');\n",
              "if (notebookContainer) {{\n",
              "    x.observe(notebookContainer, {childList: true});\n",
              "}}\n",
              "\n",
              "// Listen for the clearing of the current output cell\n",
              "var outputEl = gd.closest('.output');\n",
              "if (outputEl) {{\n",
              "    x.observe(outputEl, {childList: true});\n",
              "}}\n",
              "\n",
              "                        })                };                            </script>        </div>\n",
              "</body>\n",
              "</html>"
            ]
          },
          "metadata": {}
        }
      ]
    },
    {
      "cell_type": "markdown",
      "source": [
        "Distribution of 'Total Victims' (Histogram):"
      ],
      "metadata": {
        "id": "c03hlWWPj7lC"
      }
    },
    {
      "cell_type": "code",
      "source": [
        "# Create a histogram of 'Total Victims'\n",
        "fig_total_victims = px.histogram(df, x='Total Victims', title='Total Victims Distribution')\n",
        "fig_total_victims.show()\n"
      ],
      "metadata": {
        "colab": {
          "base_uri": "https://localhost:8080/",
          "height": 542
        },
        "id": "NCyKE-Xgj7uP",
        "outputId": "a11a1e7f-4ce1-43a3-ff87-e223117909c6"
      },
      "execution_count": 21,
      "outputs": [
        {
          "output_type": "display_data",
          "data": {
            "text/html": [
              "<html>\n",
              "<head><meta charset=\"utf-8\" /></head>\n",
              "<body>\n",
              "    <div>            <script src=\"https://cdnjs.cloudflare.com/ajax/libs/mathjax/2.7.5/MathJax.js?config=TeX-AMS-MML_SVG\"></script><script type=\"text/javascript\">if (window.MathJax && window.MathJax.Hub && window.MathJax.Hub.Config) {window.MathJax.Hub.Config({SVG: {font: \"STIX-Web\"}});}</script>                <script type=\"text/javascript\">window.PlotlyConfig = {MathJaxConfig: 'local'};</script>\n",
              "        <script charset=\"utf-8\" src=\"https://cdn.plot.ly/plotly-2.24.1.min.js\"></script>                <div id=\"0ee03a50-9ec6-48b4-bd81-936a8f8e03fc\" class=\"plotly-graph-div\" style=\"height:525px; width:100%;\"></div>            <script type=\"text/javascript\">                                    window.PLOTLYENV=window.PLOTLYENV || {};                                    if (document.getElementById(\"0ee03a50-9ec6-48b4-bd81-936a8f8e03fc\")) {                    Plotly.newPlot(                        \"0ee03a50-9ec6-48b4-bd81-936a8f8e03fc\",                        [{\"alignmentgroup\":\"True\",\"bingroup\":\"x\",\"hovertemplate\":\"Total Victims=%{x}\\u003cbr\\u003ecount=%{y}\\u003cextra\\u003e\\u003c\\u002fextra\\u003e\",\"legendgroup\":\"\",\"marker\":{\"color\":\"#636efa\",\"pattern\":{\"shape\":\"\"}},\"name\":\"\",\"offsetgroup\":\"\",\"orientation\":\"v\",\"showlegend\":false,\"x\":[3,5,5,2,4,3,3,3,3,3,3,3,5,8,8,1,1,1,1,1,1,1,1,1,1,1,1,1,1,1,1,1,1,1,1,1,1,1,1,1,1,1,1,1,1,1,1,1,1,1,1,1,1,1,1,1,1,1,1,1,1,1,1,1,1,1,1,1,1,1,1,1,1,1,1,1,1,1,1,2,1,1,1,1,1,1,1,1,1,1,1,1,1,1,1,1,1,1,1,1,1,1,1,1,1,1,1,1,1,1,1,1,1,1,1,1,1,1,1,1,1,1,1,1,1,2,1,1,1,1,1,1,1,1,1,1,1,1,1,1,1,1,1,1,1,1,1,1,1,1,3,3,3,1,2,2,2,2,2,2,2,2,2,3,2,2,2,3,2,2,2,2,1,1,1,1,1,1,1,1,1,1,1,1,1,1,1,1,1,1,1,1,1,1,1,1,1,1,1,1,1,1,1,1,1,1,1,1,1,1,1,1,1,1,2,2,1,1,1,1,1,1,1,1,1,1,1,1,1,1,1,1,1,1,1,1,1,1,1,1,1,1,1,1,1,1,1,1,1,1,1,1,1,1,1,1,1,1,1,1,1,1,1,1,1,1,1,1,1,1,1,1,1,1,1,1,1,1,1,1,1,1,1,1,1,1,1,1,1,1,1,1,1,1,1,1,1,1,1,1,1,1,1,1,1,1,1,1,1,1,1,1,1,1,1,1,1,1,1,1,1,1,1,1,1,1,1,1,1,1,1,1,1,1,1,1,1,1,1,1,1,1,1,1,1,1,1,1,1,1,1,1,1,1,1,1,1,1,1,1,1,1,1,1,1,1,1,1,1,1,1,1,1,1,1,1,1,1,1,1,1,1,1,1,1,1,1,1,1,1,1,1,1,1,1,1,1,1,1,1,1,1,1,1,1,1,2,1,1,1,1,1,1,2,2,2,2,2,2,2,2,1,1,1,1,1,2,2,1,1,1,2,2,1,1,1,1,2,1,1,1,1,1,1,1,1,1,1,1,1,1,1,1,1,1,1,1,1,1,1,1,1,1,1,1,18,17,9,8,8,6,6,6,6,6,6,5,5,5,5,5,5,5,5,4,4,4,4,4,3,3,3,3,3,3,3,3,3,3,3,3,3,3,2,2,2,2,2,2,2,2,2,2,2,2,2,2,2,2,2,2,2,2,2,2,2,2,2,2,2,2,2,2,2,2,2,2,2,1,1,1,1,1,1,1,1,1,1,1,1,1,1,1,1,1,1,1,1,1,1,1,1,1,1,1,1,1,1,1,1,1,1,1,1,1,1,1,1,1,1,1,1,1,1,7,1,1,1,1,1,1,1,1,1,1,1,1,1,1,1,1,1,1,1,1,1,1,1,1,1,1,1,1,1,1,1,1,1,1,1,1,1,1,1,1,1,1,1,1,1,1,1,1,1,1,1,1,1,1,1,1,1,1,1,1,1,1,1,1,1,1,1,1,1,1,1,1,1,1,1,1,1,1,1,1,1,1,1,1,1,1,1,1,1,1,1,1,1,1,1,1,1,1,1,1,1,1,1,1,1,1,1,1,1,1,1,1,1,1,1,1,1,1,1,1,1,1,1,1,1,1,1,1,1,1,1,1,1,1,1,1,1,1,1,1,1,1,1,1,1,1,1,1,1,1,1,1,1,1,1,1,1,1,1,1,1,1,1,1,1,1,1,1,1,1,1,1,1,1,1,1,1,1,1,1,1,3,3,3,2,1,1,1,1,1,1,1,1,1,1,1,1,1,1,1,1,1,1,1,1,1,1,1,1,1,1,1,1,1,1,1,3,2,2,2,2,2,2,2,2,2,2,2,2,2,2,1,1,1,1,1,1,1,1,1,1,1,1,1,1,1,1,1,1,1,1,1,1,1,1,1,1,1,1,1,1,1,1,1,1,1,1,1,1,1,1,1,1,1,1,1,1,1,1,1,1,1,1,1,1,1,1,1,1,1,1,1,1,1,1,1,1,1,1,1,1,1,1,1,1,1,1,1,1,1,1,1,1,1,1,1,1,1,1,1,1,1,1,1,1,1,1,1,1,1,1,1,1,1,1,1,1,1,1,1,1,1,1,1,1,1,1,1,1,1,1,1,1,1,1,1,1,1,1,1,1,1,1,1,1,1,1,1,1,1,1,1,1,1,1,1,1,1,1,1,1,1,1,1,1,1,1,1,1,1,1,1,1,1,1,1,1,1,1,1,1,1,1,1,1,1,1,1,1,1,1,1,1,1,1,1,1,1,1,1,1,1,1,1,1,1,1,1,1,1,1,1,1,1,1,1,1,1,1,1,1,1,1,1,1,1,1,1,1,1,1,1,1,1,1,1,1,1,1,1,1,1,1,1,1,1,1,1,1,1,1,1,1,1,1,1,1,1,1,1,1,1,1,1,1,1,1,1,1,1,1,1,1,1,1,1,1,1,1,1,1,1,1,1,1,1,1,1,1,1,1,1,1,1,1,1,1,1,1,1,1,1,1,1,1,1,1,1,1,1,1,1,1,1,1,1,1,1,1,1,1,1,1,1,1,1,1,1,1,1,1,1,1,1,1,1,1,1,1,1,1,1,1,1,1,1,1,1,1,1,1,1,1,1,1,1,1,1,1,1,1,1,1,1,1,1,1,1,1,1,1,1,1,1,1,1,1,1,1,1,1,1,1,1,1,1,1,1,1,1,1,1,1,1,1,1,1,1,1,1,1,1,1,1,1,1,1,1,1,1,1,1,1,1,1,1,1,1,1,1,1,1,1,1,1,1,1,1,1,1,1,1,1,1,1,1,1,1,1,1,1,1,1,1,1,1,1,1,1,1,1,1,1,1,1,1,1,1,1,1,1,1,1,1,1,1,1,1,1,1,1,1,1,1,1,1,1,1,1,1,1,1,1,1,1,1,1,1,1,1,1,1,1,1,1,1,1,1,1,1,1,1,1,1,1,1,1,1,1,1,1,1,1,1,1,1,1,1,1,1,1,1,1,1,1,1,1,1,1,1,1,1,1,1,1,1,1,1,1,1,1,1,1,1,1,1,1,1,1,1,1,1,1,1,1,1,1,1,1,1,2,2,1,1,1,1,1,1,2,1,2,2,1,1,1,1,1,1,1,1,1,1,1,1,1,1,1,1,1,1,1,1,1,1,1,1,1,1,1,3,2,2,2,2,2,2,2,3,3,3,2,2,2,2,2,2,1],\"xaxis\":\"x\",\"yaxis\":\"y\",\"type\":\"histogram\"}],                        {\"template\":{\"data\":{\"histogram2dcontour\":[{\"type\":\"histogram2dcontour\",\"colorbar\":{\"outlinewidth\":0,\"ticks\":\"\"},\"colorscale\":[[0.0,\"#0d0887\"],[0.1111111111111111,\"#46039f\"],[0.2222222222222222,\"#7201a8\"],[0.3333333333333333,\"#9c179e\"],[0.4444444444444444,\"#bd3786\"],[0.5555555555555556,\"#d8576b\"],[0.6666666666666666,\"#ed7953\"],[0.7777777777777778,\"#fb9f3a\"],[0.8888888888888888,\"#fdca26\"],[1.0,\"#f0f921\"]]}],\"choropleth\":[{\"type\":\"choropleth\",\"colorbar\":{\"outlinewidth\":0,\"ticks\":\"\"}}],\"histogram2d\":[{\"type\":\"histogram2d\",\"colorbar\":{\"outlinewidth\":0,\"ticks\":\"\"},\"colorscale\":[[0.0,\"#0d0887\"],[0.1111111111111111,\"#46039f\"],[0.2222222222222222,\"#7201a8\"],[0.3333333333333333,\"#9c179e\"],[0.4444444444444444,\"#bd3786\"],[0.5555555555555556,\"#d8576b\"],[0.6666666666666666,\"#ed7953\"],[0.7777777777777778,\"#fb9f3a\"],[0.8888888888888888,\"#fdca26\"],[1.0,\"#f0f921\"]]}],\"heatmap\":[{\"type\":\"heatmap\",\"colorbar\":{\"outlinewidth\":0,\"ticks\":\"\"},\"colorscale\":[[0.0,\"#0d0887\"],[0.1111111111111111,\"#46039f\"],[0.2222222222222222,\"#7201a8\"],[0.3333333333333333,\"#9c179e\"],[0.4444444444444444,\"#bd3786\"],[0.5555555555555556,\"#d8576b\"],[0.6666666666666666,\"#ed7953\"],[0.7777777777777778,\"#fb9f3a\"],[0.8888888888888888,\"#fdca26\"],[1.0,\"#f0f921\"]]}],\"heatmapgl\":[{\"type\":\"heatmapgl\",\"colorbar\":{\"outlinewidth\":0,\"ticks\":\"\"},\"colorscale\":[[0.0,\"#0d0887\"],[0.1111111111111111,\"#46039f\"],[0.2222222222222222,\"#7201a8\"],[0.3333333333333333,\"#9c179e\"],[0.4444444444444444,\"#bd3786\"],[0.5555555555555556,\"#d8576b\"],[0.6666666666666666,\"#ed7953\"],[0.7777777777777778,\"#fb9f3a\"],[0.8888888888888888,\"#fdca26\"],[1.0,\"#f0f921\"]]}],\"contourcarpet\":[{\"type\":\"contourcarpet\",\"colorbar\":{\"outlinewidth\":0,\"ticks\":\"\"}}],\"contour\":[{\"type\":\"contour\",\"colorbar\":{\"outlinewidth\":0,\"ticks\":\"\"},\"colorscale\":[[0.0,\"#0d0887\"],[0.1111111111111111,\"#46039f\"],[0.2222222222222222,\"#7201a8\"],[0.3333333333333333,\"#9c179e\"],[0.4444444444444444,\"#bd3786\"],[0.5555555555555556,\"#d8576b\"],[0.6666666666666666,\"#ed7953\"],[0.7777777777777778,\"#fb9f3a\"],[0.8888888888888888,\"#fdca26\"],[1.0,\"#f0f921\"]]}],\"surface\":[{\"type\":\"surface\",\"colorbar\":{\"outlinewidth\":0,\"ticks\":\"\"},\"colorscale\":[[0.0,\"#0d0887\"],[0.1111111111111111,\"#46039f\"],[0.2222222222222222,\"#7201a8\"],[0.3333333333333333,\"#9c179e\"],[0.4444444444444444,\"#bd3786\"],[0.5555555555555556,\"#d8576b\"],[0.6666666666666666,\"#ed7953\"],[0.7777777777777778,\"#fb9f3a\"],[0.8888888888888888,\"#fdca26\"],[1.0,\"#f0f921\"]]}],\"mesh3d\":[{\"type\":\"mesh3d\",\"colorbar\":{\"outlinewidth\":0,\"ticks\":\"\"}}],\"scatter\":[{\"fillpattern\":{\"fillmode\":\"overlay\",\"size\":10,\"solidity\":0.2},\"type\":\"scatter\"}],\"parcoords\":[{\"type\":\"parcoords\",\"line\":{\"colorbar\":{\"outlinewidth\":0,\"ticks\":\"\"}}}],\"scatterpolargl\":[{\"type\":\"scatterpolargl\",\"marker\":{\"colorbar\":{\"outlinewidth\":0,\"ticks\":\"\"}}}],\"bar\":[{\"error_x\":{\"color\":\"#2a3f5f\"},\"error_y\":{\"color\":\"#2a3f5f\"},\"marker\":{\"line\":{\"color\":\"#E5ECF6\",\"width\":0.5},\"pattern\":{\"fillmode\":\"overlay\",\"size\":10,\"solidity\":0.2}},\"type\":\"bar\"}],\"scattergeo\":[{\"type\":\"scattergeo\",\"marker\":{\"colorbar\":{\"outlinewidth\":0,\"ticks\":\"\"}}}],\"scatterpolar\":[{\"type\":\"scatterpolar\",\"marker\":{\"colorbar\":{\"outlinewidth\":0,\"ticks\":\"\"}}}],\"histogram\":[{\"marker\":{\"pattern\":{\"fillmode\":\"overlay\",\"size\":10,\"solidity\":0.2}},\"type\":\"histogram\"}],\"scattergl\":[{\"type\":\"scattergl\",\"marker\":{\"colorbar\":{\"outlinewidth\":0,\"ticks\":\"\"}}}],\"scatter3d\":[{\"type\":\"scatter3d\",\"line\":{\"colorbar\":{\"outlinewidth\":0,\"ticks\":\"\"}},\"marker\":{\"colorbar\":{\"outlinewidth\":0,\"ticks\":\"\"}}}],\"scattermapbox\":[{\"type\":\"scattermapbox\",\"marker\":{\"colorbar\":{\"outlinewidth\":0,\"ticks\":\"\"}}}],\"scatterternary\":[{\"type\":\"scatterternary\",\"marker\":{\"colorbar\":{\"outlinewidth\":0,\"ticks\":\"\"}}}],\"scattercarpet\":[{\"type\":\"scattercarpet\",\"marker\":{\"colorbar\":{\"outlinewidth\":0,\"ticks\":\"\"}}}],\"carpet\":[{\"aaxis\":{\"endlinecolor\":\"#2a3f5f\",\"gridcolor\":\"white\",\"linecolor\":\"white\",\"minorgridcolor\":\"white\",\"startlinecolor\":\"#2a3f5f\"},\"baxis\":{\"endlinecolor\":\"#2a3f5f\",\"gridcolor\":\"white\",\"linecolor\":\"white\",\"minorgridcolor\":\"white\",\"startlinecolor\":\"#2a3f5f\"},\"type\":\"carpet\"}],\"table\":[{\"cells\":{\"fill\":{\"color\":\"#EBF0F8\"},\"line\":{\"color\":\"white\"}},\"header\":{\"fill\":{\"color\":\"#C8D4E3\"},\"line\":{\"color\":\"white\"}},\"type\":\"table\"}],\"barpolar\":[{\"marker\":{\"line\":{\"color\":\"#E5ECF6\",\"width\":0.5},\"pattern\":{\"fillmode\":\"overlay\",\"size\":10,\"solidity\":0.2}},\"type\":\"barpolar\"}],\"pie\":[{\"automargin\":true,\"type\":\"pie\"}]},\"layout\":{\"autotypenumbers\":\"strict\",\"colorway\":[\"#636efa\",\"#EF553B\",\"#00cc96\",\"#ab63fa\",\"#FFA15A\",\"#19d3f3\",\"#FF6692\",\"#B6E880\",\"#FF97FF\",\"#FECB52\"],\"font\":{\"color\":\"#2a3f5f\"},\"hovermode\":\"closest\",\"hoverlabel\":{\"align\":\"left\"},\"paper_bgcolor\":\"white\",\"plot_bgcolor\":\"#E5ECF6\",\"polar\":{\"bgcolor\":\"#E5ECF6\",\"angularaxis\":{\"gridcolor\":\"white\",\"linecolor\":\"white\",\"ticks\":\"\"},\"radialaxis\":{\"gridcolor\":\"white\",\"linecolor\":\"white\",\"ticks\":\"\"}},\"ternary\":{\"bgcolor\":\"#E5ECF6\",\"aaxis\":{\"gridcolor\":\"white\",\"linecolor\":\"white\",\"ticks\":\"\"},\"baxis\":{\"gridcolor\":\"white\",\"linecolor\":\"white\",\"ticks\":\"\"},\"caxis\":{\"gridcolor\":\"white\",\"linecolor\":\"white\",\"ticks\":\"\"}},\"coloraxis\":{\"colorbar\":{\"outlinewidth\":0,\"ticks\":\"\"}},\"colorscale\":{\"sequential\":[[0.0,\"#0d0887\"],[0.1111111111111111,\"#46039f\"],[0.2222222222222222,\"#7201a8\"],[0.3333333333333333,\"#9c179e\"],[0.4444444444444444,\"#bd3786\"],[0.5555555555555556,\"#d8576b\"],[0.6666666666666666,\"#ed7953\"],[0.7777777777777778,\"#fb9f3a\"],[0.8888888888888888,\"#fdca26\"],[1.0,\"#f0f921\"]],\"sequentialminus\":[[0.0,\"#0d0887\"],[0.1111111111111111,\"#46039f\"],[0.2222222222222222,\"#7201a8\"],[0.3333333333333333,\"#9c179e\"],[0.4444444444444444,\"#bd3786\"],[0.5555555555555556,\"#d8576b\"],[0.6666666666666666,\"#ed7953\"],[0.7777777777777778,\"#fb9f3a\"],[0.8888888888888888,\"#fdca26\"],[1.0,\"#f0f921\"]],\"diverging\":[[0,\"#8e0152\"],[0.1,\"#c51b7d\"],[0.2,\"#de77ae\"],[0.3,\"#f1b6da\"],[0.4,\"#fde0ef\"],[0.5,\"#f7f7f7\"],[0.6,\"#e6f5d0\"],[0.7,\"#b8e186\"],[0.8,\"#7fbc41\"],[0.9,\"#4d9221\"],[1,\"#276419\"]]},\"xaxis\":{\"gridcolor\":\"white\",\"linecolor\":\"white\",\"ticks\":\"\",\"title\":{\"standoff\":15},\"zerolinecolor\":\"white\",\"automargin\":true,\"zerolinewidth\":2},\"yaxis\":{\"gridcolor\":\"white\",\"linecolor\":\"white\",\"ticks\":\"\",\"title\":{\"standoff\":15},\"zerolinecolor\":\"white\",\"automargin\":true,\"zerolinewidth\":2},\"scene\":{\"xaxis\":{\"backgroundcolor\":\"#E5ECF6\",\"gridcolor\":\"white\",\"linecolor\":\"white\",\"showbackground\":true,\"ticks\":\"\",\"zerolinecolor\":\"white\",\"gridwidth\":2},\"yaxis\":{\"backgroundcolor\":\"#E5ECF6\",\"gridcolor\":\"white\",\"linecolor\":\"white\",\"showbackground\":true,\"ticks\":\"\",\"zerolinecolor\":\"white\",\"gridwidth\":2},\"zaxis\":{\"backgroundcolor\":\"#E5ECF6\",\"gridcolor\":\"white\",\"linecolor\":\"white\",\"showbackground\":true,\"ticks\":\"\",\"zerolinecolor\":\"white\",\"gridwidth\":2}},\"shapedefaults\":{\"line\":{\"color\":\"#2a3f5f\"}},\"annotationdefaults\":{\"arrowcolor\":\"#2a3f5f\",\"arrowhead\":0,\"arrowwidth\":1},\"geo\":{\"bgcolor\":\"white\",\"landcolor\":\"#E5ECF6\",\"subunitcolor\":\"white\",\"showland\":true,\"showlakes\":true,\"lakecolor\":\"white\"},\"title\":{\"x\":0.05},\"mapbox\":{\"style\":\"light\"}}},\"xaxis\":{\"anchor\":\"y\",\"domain\":[0.0,1.0],\"title\":{\"text\":\"Total Victims\"}},\"yaxis\":{\"anchor\":\"x\",\"domain\":[0.0,1.0],\"title\":{\"text\":\"count\"}},\"legend\":{\"tracegroupgap\":0},\"title\":{\"text\":\"Total Victims Distribution\"},\"barmode\":\"relative\"},                        {\"responsive\": true}                    ).then(function(){\n",
              "                            \n",
              "var gd = document.getElementById('0ee03a50-9ec6-48b4-bd81-936a8f8e03fc');\n",
              "var x = new MutationObserver(function (mutations, observer) {{\n",
              "        var display = window.getComputedStyle(gd).display;\n",
              "        if (!display || display === 'none') {{\n",
              "            console.log([gd, 'removed!']);\n",
              "            Plotly.purge(gd);\n",
              "            observer.disconnect();\n",
              "        }}\n",
              "}});\n",
              "\n",
              "// Listen for the removal of the full notebook cells\n",
              "var notebookContainer = gd.closest('#notebook-container');\n",
              "if (notebookContainer) {{\n",
              "    x.observe(notebookContainer, {childList: true});\n",
              "}}\n",
              "\n",
              "// Listen for the clearing of the current output cell\n",
              "var outputEl = gd.closest('.output');\n",
              "if (outputEl) {{\n",
              "    x.observe(outputEl, {childList: true});\n",
              "}}\n",
              "\n",
              "                        })                };                            </script>        </div>\n",
              "</body>\n",
              "</html>"
            ]
          },
          "metadata": {}
        }
      ]
    },
    {
      "cell_type": "markdown",
      "source": [
        "Most common 'Places' where incidents occur (Bar chart):"
      ],
      "metadata": {
        "id": "5lpIWdhbkFFu"
      }
    },
    {
      "cell_type": "code",
      "source": [
        "# Create a bar chart of the most common 'Places'\n",
        "place_counts = df['Place'].value_counts().nlargest(10)  # Adjust the number of top places as needed\n",
        "fig_places = px.bar(place_counts, x=place_counts.index, y=place_counts.values,\n",
        "                    title='Top Places where Incidents Occur', labels={'x': 'Place', 'y': 'Count'})\n",
        "fig_places.show()\n"
      ],
      "metadata": {
        "colab": {
          "base_uri": "https://localhost:8080/",
          "height": 542
        },
        "id": "lSG7zANUkFW4",
        "outputId": "04930ea7-432a-4e7c-d9af-5f58a22bcfcc"
      },
      "execution_count": 22,
      "outputs": [
        {
          "output_type": "display_data",
          "data": {
            "text/html": [
              "<html>\n",
              "<head><meta charset=\"utf-8\" /></head>\n",
              "<body>\n",
              "    <div>            <script src=\"https://cdnjs.cloudflare.com/ajax/libs/mathjax/2.7.5/MathJax.js?config=TeX-AMS-MML_SVG\"></script><script type=\"text/javascript\">if (window.MathJax && window.MathJax.Hub && window.MathJax.Hub.Config) {window.MathJax.Hub.Config({SVG: {font: \"STIX-Web\"}});}</script>                <script type=\"text/javascript\">window.PlotlyConfig = {MathJaxConfig: 'local'};</script>\n",
              "        <script charset=\"utf-8\" src=\"https://cdn.plot.ly/plotly-2.24.1.min.js\"></script>                <div id=\"603b0486-621e-4865-bddd-c3a6a40ebfce\" class=\"plotly-graph-div\" style=\"height:525px; width:100%;\"></div>            <script type=\"text/javascript\">                                    window.PLOTLYENV=window.PLOTLYENV || {};                                    if (document.getElementById(\"603b0486-621e-4865-bddd-c3a6a40ebfce\")) {                    Plotly.newPlot(                        \"603b0486-621e-4865-bddd-c3a6a40ebfce\",                        [{\"alignmentgroup\":\"True\",\"hovertemplate\":\"Place=%{x}\\u003cbr\\u003eCount=%{y}\\u003cextra\\u003e\\u003c\\u002fextra\\u003e\",\"legendgroup\":\"\",\"marker\":{\"color\":\"#636efa\",\"pattern\":{\"shape\":\"\"}},\"name\":\"\",\"offsetgroup\":\"\",\"orientation\":\"v\",\"showlegend\":false,\"textposition\":\"auto\",\"x\":[\"NEAR MURANGA TEACHERS COLLEGE\",\"TSAVO RIVER AREA\",\"NEAR BANGALE\",\"MAKUYU BOYS SEC\",\"NEAR KANGEMI STAGE\",\"STIMA AREA\",\"NEAR SHELL PETROL STATION\",\"NDARA AREA\",\"MALTAURO\",\"MASIMBA AREA\"],\"xaxis\":\"x\",\"y\":[5,4,4,3,3,3,3,3,3,3],\"yaxis\":\"y\",\"type\":\"bar\"}],                        {\"template\":{\"data\":{\"histogram2dcontour\":[{\"type\":\"histogram2dcontour\",\"colorbar\":{\"outlinewidth\":0,\"ticks\":\"\"},\"colorscale\":[[0.0,\"#0d0887\"],[0.1111111111111111,\"#46039f\"],[0.2222222222222222,\"#7201a8\"],[0.3333333333333333,\"#9c179e\"],[0.4444444444444444,\"#bd3786\"],[0.5555555555555556,\"#d8576b\"],[0.6666666666666666,\"#ed7953\"],[0.7777777777777778,\"#fb9f3a\"],[0.8888888888888888,\"#fdca26\"],[1.0,\"#f0f921\"]]}],\"choropleth\":[{\"type\":\"choropleth\",\"colorbar\":{\"outlinewidth\":0,\"ticks\":\"\"}}],\"histogram2d\":[{\"type\":\"histogram2d\",\"colorbar\":{\"outlinewidth\":0,\"ticks\":\"\"},\"colorscale\":[[0.0,\"#0d0887\"],[0.1111111111111111,\"#46039f\"],[0.2222222222222222,\"#7201a8\"],[0.3333333333333333,\"#9c179e\"],[0.4444444444444444,\"#bd3786\"],[0.5555555555555556,\"#d8576b\"],[0.6666666666666666,\"#ed7953\"],[0.7777777777777778,\"#fb9f3a\"],[0.8888888888888888,\"#fdca26\"],[1.0,\"#f0f921\"]]}],\"heatmap\":[{\"type\":\"heatmap\",\"colorbar\":{\"outlinewidth\":0,\"ticks\":\"\"},\"colorscale\":[[0.0,\"#0d0887\"],[0.1111111111111111,\"#46039f\"],[0.2222222222222222,\"#7201a8\"],[0.3333333333333333,\"#9c179e\"],[0.4444444444444444,\"#bd3786\"],[0.5555555555555556,\"#d8576b\"],[0.6666666666666666,\"#ed7953\"],[0.7777777777777778,\"#fb9f3a\"],[0.8888888888888888,\"#fdca26\"],[1.0,\"#f0f921\"]]}],\"heatmapgl\":[{\"type\":\"heatmapgl\",\"colorbar\":{\"outlinewidth\":0,\"ticks\":\"\"},\"colorscale\":[[0.0,\"#0d0887\"],[0.1111111111111111,\"#46039f\"],[0.2222222222222222,\"#7201a8\"],[0.3333333333333333,\"#9c179e\"],[0.4444444444444444,\"#bd3786\"],[0.5555555555555556,\"#d8576b\"],[0.6666666666666666,\"#ed7953\"],[0.7777777777777778,\"#fb9f3a\"],[0.8888888888888888,\"#fdca26\"],[1.0,\"#f0f921\"]]}],\"contourcarpet\":[{\"type\":\"contourcarpet\",\"colorbar\":{\"outlinewidth\":0,\"ticks\":\"\"}}],\"contour\":[{\"type\":\"contour\",\"colorbar\":{\"outlinewidth\":0,\"ticks\":\"\"},\"colorscale\":[[0.0,\"#0d0887\"],[0.1111111111111111,\"#46039f\"],[0.2222222222222222,\"#7201a8\"],[0.3333333333333333,\"#9c179e\"],[0.4444444444444444,\"#bd3786\"],[0.5555555555555556,\"#d8576b\"],[0.6666666666666666,\"#ed7953\"],[0.7777777777777778,\"#fb9f3a\"],[0.8888888888888888,\"#fdca26\"],[1.0,\"#f0f921\"]]}],\"surface\":[{\"type\":\"surface\",\"colorbar\":{\"outlinewidth\":0,\"ticks\":\"\"},\"colorscale\":[[0.0,\"#0d0887\"],[0.1111111111111111,\"#46039f\"],[0.2222222222222222,\"#7201a8\"],[0.3333333333333333,\"#9c179e\"],[0.4444444444444444,\"#bd3786\"],[0.5555555555555556,\"#d8576b\"],[0.6666666666666666,\"#ed7953\"],[0.7777777777777778,\"#fb9f3a\"],[0.8888888888888888,\"#fdca26\"],[1.0,\"#f0f921\"]]}],\"mesh3d\":[{\"type\":\"mesh3d\",\"colorbar\":{\"outlinewidth\":0,\"ticks\":\"\"}}],\"scatter\":[{\"fillpattern\":{\"fillmode\":\"overlay\",\"size\":10,\"solidity\":0.2},\"type\":\"scatter\"}],\"parcoords\":[{\"type\":\"parcoords\",\"line\":{\"colorbar\":{\"outlinewidth\":0,\"ticks\":\"\"}}}],\"scatterpolargl\":[{\"type\":\"scatterpolargl\",\"marker\":{\"colorbar\":{\"outlinewidth\":0,\"ticks\":\"\"}}}],\"bar\":[{\"error_x\":{\"color\":\"#2a3f5f\"},\"error_y\":{\"color\":\"#2a3f5f\"},\"marker\":{\"line\":{\"color\":\"#E5ECF6\",\"width\":0.5},\"pattern\":{\"fillmode\":\"overlay\",\"size\":10,\"solidity\":0.2}},\"type\":\"bar\"}],\"scattergeo\":[{\"type\":\"scattergeo\",\"marker\":{\"colorbar\":{\"outlinewidth\":0,\"ticks\":\"\"}}}],\"scatterpolar\":[{\"type\":\"scatterpolar\",\"marker\":{\"colorbar\":{\"outlinewidth\":0,\"ticks\":\"\"}}}],\"histogram\":[{\"marker\":{\"pattern\":{\"fillmode\":\"overlay\",\"size\":10,\"solidity\":0.2}},\"type\":\"histogram\"}],\"scattergl\":[{\"type\":\"scattergl\",\"marker\":{\"colorbar\":{\"outlinewidth\":0,\"ticks\":\"\"}}}],\"scatter3d\":[{\"type\":\"scatter3d\",\"line\":{\"colorbar\":{\"outlinewidth\":0,\"ticks\":\"\"}},\"marker\":{\"colorbar\":{\"outlinewidth\":0,\"ticks\":\"\"}}}],\"scattermapbox\":[{\"type\":\"scattermapbox\",\"marker\":{\"colorbar\":{\"outlinewidth\":0,\"ticks\":\"\"}}}],\"scatterternary\":[{\"type\":\"scatterternary\",\"marker\":{\"colorbar\":{\"outlinewidth\":0,\"ticks\":\"\"}}}],\"scattercarpet\":[{\"type\":\"scattercarpet\",\"marker\":{\"colorbar\":{\"outlinewidth\":0,\"ticks\":\"\"}}}],\"carpet\":[{\"aaxis\":{\"endlinecolor\":\"#2a3f5f\",\"gridcolor\":\"white\",\"linecolor\":\"white\",\"minorgridcolor\":\"white\",\"startlinecolor\":\"#2a3f5f\"},\"baxis\":{\"endlinecolor\":\"#2a3f5f\",\"gridcolor\":\"white\",\"linecolor\":\"white\",\"minorgridcolor\":\"white\",\"startlinecolor\":\"#2a3f5f\"},\"type\":\"carpet\"}],\"table\":[{\"cells\":{\"fill\":{\"color\":\"#EBF0F8\"},\"line\":{\"color\":\"white\"}},\"header\":{\"fill\":{\"color\":\"#C8D4E3\"},\"line\":{\"color\":\"white\"}},\"type\":\"table\"}],\"barpolar\":[{\"marker\":{\"line\":{\"color\":\"#E5ECF6\",\"width\":0.5},\"pattern\":{\"fillmode\":\"overlay\",\"size\":10,\"solidity\":0.2}},\"type\":\"barpolar\"}],\"pie\":[{\"automargin\":true,\"type\":\"pie\"}]},\"layout\":{\"autotypenumbers\":\"strict\",\"colorway\":[\"#636efa\",\"#EF553B\",\"#00cc96\",\"#ab63fa\",\"#FFA15A\",\"#19d3f3\",\"#FF6692\",\"#B6E880\",\"#FF97FF\",\"#FECB52\"],\"font\":{\"color\":\"#2a3f5f\"},\"hovermode\":\"closest\",\"hoverlabel\":{\"align\":\"left\"},\"paper_bgcolor\":\"white\",\"plot_bgcolor\":\"#E5ECF6\",\"polar\":{\"bgcolor\":\"#E5ECF6\",\"angularaxis\":{\"gridcolor\":\"white\",\"linecolor\":\"white\",\"ticks\":\"\"},\"radialaxis\":{\"gridcolor\":\"white\",\"linecolor\":\"white\",\"ticks\":\"\"}},\"ternary\":{\"bgcolor\":\"#E5ECF6\",\"aaxis\":{\"gridcolor\":\"white\",\"linecolor\":\"white\",\"ticks\":\"\"},\"baxis\":{\"gridcolor\":\"white\",\"linecolor\":\"white\",\"ticks\":\"\"},\"caxis\":{\"gridcolor\":\"white\",\"linecolor\":\"white\",\"ticks\":\"\"}},\"coloraxis\":{\"colorbar\":{\"outlinewidth\":0,\"ticks\":\"\"}},\"colorscale\":{\"sequential\":[[0.0,\"#0d0887\"],[0.1111111111111111,\"#46039f\"],[0.2222222222222222,\"#7201a8\"],[0.3333333333333333,\"#9c179e\"],[0.4444444444444444,\"#bd3786\"],[0.5555555555555556,\"#d8576b\"],[0.6666666666666666,\"#ed7953\"],[0.7777777777777778,\"#fb9f3a\"],[0.8888888888888888,\"#fdca26\"],[1.0,\"#f0f921\"]],\"sequentialminus\":[[0.0,\"#0d0887\"],[0.1111111111111111,\"#46039f\"],[0.2222222222222222,\"#7201a8\"],[0.3333333333333333,\"#9c179e\"],[0.4444444444444444,\"#bd3786\"],[0.5555555555555556,\"#d8576b\"],[0.6666666666666666,\"#ed7953\"],[0.7777777777777778,\"#fb9f3a\"],[0.8888888888888888,\"#fdca26\"],[1.0,\"#f0f921\"]],\"diverging\":[[0,\"#8e0152\"],[0.1,\"#c51b7d\"],[0.2,\"#de77ae\"],[0.3,\"#f1b6da\"],[0.4,\"#fde0ef\"],[0.5,\"#f7f7f7\"],[0.6,\"#e6f5d0\"],[0.7,\"#b8e186\"],[0.8,\"#7fbc41\"],[0.9,\"#4d9221\"],[1,\"#276419\"]]},\"xaxis\":{\"gridcolor\":\"white\",\"linecolor\":\"white\",\"ticks\":\"\",\"title\":{\"standoff\":15},\"zerolinecolor\":\"white\",\"automargin\":true,\"zerolinewidth\":2},\"yaxis\":{\"gridcolor\":\"white\",\"linecolor\":\"white\",\"ticks\":\"\",\"title\":{\"standoff\":15},\"zerolinecolor\":\"white\",\"automargin\":true,\"zerolinewidth\":2},\"scene\":{\"xaxis\":{\"backgroundcolor\":\"#E5ECF6\",\"gridcolor\":\"white\",\"linecolor\":\"white\",\"showbackground\":true,\"ticks\":\"\",\"zerolinecolor\":\"white\",\"gridwidth\":2},\"yaxis\":{\"backgroundcolor\":\"#E5ECF6\",\"gridcolor\":\"white\",\"linecolor\":\"white\",\"showbackground\":true,\"ticks\":\"\",\"zerolinecolor\":\"white\",\"gridwidth\":2},\"zaxis\":{\"backgroundcolor\":\"#E5ECF6\",\"gridcolor\":\"white\",\"linecolor\":\"white\",\"showbackground\":true,\"ticks\":\"\",\"zerolinecolor\":\"white\",\"gridwidth\":2}},\"shapedefaults\":{\"line\":{\"color\":\"#2a3f5f\"}},\"annotationdefaults\":{\"arrowcolor\":\"#2a3f5f\",\"arrowhead\":0,\"arrowwidth\":1},\"geo\":{\"bgcolor\":\"white\",\"landcolor\":\"#E5ECF6\",\"subunitcolor\":\"white\",\"showland\":true,\"showlakes\":true,\"lakecolor\":\"white\"},\"title\":{\"x\":0.05},\"mapbox\":{\"style\":\"light\"}}},\"xaxis\":{\"anchor\":\"y\",\"domain\":[0.0,1.0],\"title\":{\"text\":\"Place\"}},\"yaxis\":{\"anchor\":\"x\",\"domain\":[0.0,1.0],\"title\":{\"text\":\"Count\"}},\"legend\":{\"tracegroupgap\":0},\"title\":{\"text\":\"Top Places where Incidents Occur\"},\"barmode\":\"relative\"},                        {\"responsive\": true}                    ).then(function(){\n",
              "                            \n",
              "var gd = document.getElementById('603b0486-621e-4865-bddd-c3a6a40ebfce');\n",
              "var x = new MutationObserver(function (mutations, observer) {{\n",
              "        var display = window.getComputedStyle(gd).display;\n",
              "        if (!display || display === 'none') {{\n",
              "            console.log([gd, 'removed!']);\n",
              "            Plotly.purge(gd);\n",
              "            observer.disconnect();\n",
              "        }}\n",
              "}});\n",
              "\n",
              "// Listen for the removal of the full notebook cells\n",
              "var notebookContainer = gd.closest('#notebook-container');\n",
              "if (notebookContainer) {{\n",
              "    x.observe(notebookContainer, {childList: true});\n",
              "}}\n",
              "\n",
              "// Listen for the clearing of the current output cell\n",
              "var outputEl = gd.closest('.output');\n",
              "if (outputEl) {{\n",
              "    x.observe(outputEl, {childList: true});\n",
              "}}\n",
              "\n",
              "                        })                };                            </script>        </div>\n",
              "</body>\n",
              "</html>"
            ]
          },
          "metadata": {}
        }
      ]
    },
    {
      "cell_type": "markdown",
      "source": [
        "Number of Incidents Over Time ('Date'):"
      ],
      "metadata": {
        "id": "Vncz8q9NkY4n"
      }
    },
    {
      "cell_type": "code",
      "source": [
        "# Group data by date and count the number of incidents\n",
        "incident_count_by_date = df.groupby('Date').size().reset_index(name='Incident Count')\n",
        "\n",
        "# Create a line chart\n",
        "fig = px.line(incident_count_by_date, x='Date', y='Incident Count', title='Number of Incidents Over Time')\n",
        "fig.show()\n"
      ],
      "metadata": {
        "colab": {
          "base_uri": "https://localhost:8080/",
          "height": 542
        },
        "id": "d0Kc_JMukZCE",
        "outputId": "26cd76b4-f4ab-4ec4-dda8-b37b66b634f2"
      },
      "execution_count": 23,
      "outputs": [
        {
          "output_type": "display_data",
          "data": {
            "text/html": [
              "<html>\n",
              "<head><meta charset=\"utf-8\" /></head>\n",
              "<body>\n",
              "    <div>            <script src=\"https://cdnjs.cloudflare.com/ajax/libs/mathjax/2.7.5/MathJax.js?config=TeX-AMS-MML_SVG\"></script><script type=\"text/javascript\">if (window.MathJax && window.MathJax.Hub && window.MathJax.Hub.Config) {window.MathJax.Hub.Config({SVG: {font: \"STIX-Web\"}});}</script>                <script type=\"text/javascript\">window.PlotlyConfig = {MathJaxConfig: 'local'};</script>\n",
              "        <script charset=\"utf-8\" src=\"https://cdn.plot.ly/plotly-2.24.1.min.js\"></script>                <div id=\"93bd813f-f887-4687-baac-302b7f7efe5e\" class=\"plotly-graph-div\" style=\"height:525px; width:100%;\"></div>            <script type=\"text/javascript\">                                    window.PLOTLYENV=window.PLOTLYENV || {};                                    if (document.getElementById(\"93bd813f-f887-4687-baac-302b7f7efe5e\")) {                    Plotly.newPlot(                        \"93bd813f-f887-4687-baac-302b7f7efe5e\",                        [{\"hovertemplate\":\"Date=%{x}\\u003cbr\\u003eIncident Count=%{y}\\u003cextra\\u003e\\u003c\\u002fextra\\u003e\",\"legendgroup\":\"\",\"line\":{\"color\":\"#636efa\",\"dash\":\"solid\"},\"marker\":{\"symbol\":\"circle\"},\"mode\":\"lines\",\"name\":\"\",\"orientation\":\"v\",\"showlegend\":false,\"x\":[\"2016-01-04\",\"2016-01-06\",\"2016-02-04\",\"2016-02-06\",\"2016-03-04\",\"2016-04-04\",\"2016-04-06\",\"2016-04-13\",\"2016-04-14\",\"2016-04-15\",\"2016-04-16\",\"2016-04-17\",\"2016-04-18\",\"2016-04-19\",\"2016-04-20\",\"2016-04-21\",\"2016-04-22\",\"2016-04-23\",\"2016-04-24\",\"2016-04-26\",\"2016-04-29\",\"2016-04-30\",\"2016-05-04\",\"2016-05-06\",\"2016-06-04\",\"2016-06-06\",\"2016-06-13\",\"2016-06-14\",\"2016-06-15\",\"2016-06-16\",\"2016-06-17\",\"2016-06-18\",\"2016-06-19\",\"2016-06-20\",\"2016-06-21\",\"2016-06-22\",\"2016-06-23\",\"2016-06-24\",\"2016-06-25\",\"2016-07-04\",\"2016-07-06\",\"2016-08-04\",\"2016-08-06\",\"2016-09-04\",\"2016-09-06\",\"2016-10-04\",\"2016-10-06\",\"2016-11-04\",\"2016-11-06\",\"2016-12-04\",\"2016-12-06\",\"2017-01-03\",\"2017-01-07\",\"2017-01-08\",\"2017-01-11\",\"2017-02-07\",\"2017-02-08\",\"2017-02-11\",\"2017-02-22\",\"2017-02-28\",\"2017-03-05\",\"2017-03-07\",\"2017-03-08\",\"2017-03-09\",\"2017-03-13\",\"2017-03-14\",\"2017-03-16\",\"2017-03-17\",\"2017-03-18\",\"2017-03-19\",\"2017-03-20\",\"2017-03-21\",\"2017-03-22\",\"2017-03-23\",\"2017-03-24\",\"2017-03-25\",\"2017-03-26\",\"2017-03-27\",\"2017-03-29\",\"2017-03-30\",\"2017-03-31\",\"2017-04-05\",\"2017-04-07\",\"2017-04-08\",\"2017-04-25\",\"2017-05-07\",\"2017-05-08\",\"2017-05-11\",\"2017-05-13\",\"2017-05-14\",\"2017-05-15\",\"2017-05-18\",\"2017-05-19\",\"2017-05-20\",\"2017-05-21\",\"2017-05-23\",\"2017-05-29\",\"2017-06-07\",\"2017-06-09\",\"2017-06-11\",\"2017-06-16\",\"2017-06-17\",\"2017-06-18\",\"2017-06-20\",\"2017-06-22\",\"2017-06-23\",\"2017-06-25\",\"2017-06-30\",\"2017-07-03\",\"2017-07-07\",\"2017-07-08\",\"2017-07-09\",\"2017-07-11\",\"2017-07-13\",\"2017-07-14\",\"2017-07-15\",\"2017-07-16\",\"2017-07-19\",\"2017-07-21\",\"2017-07-22\",\"2017-07-24\",\"2017-07-25\",\"2017-07-26\",\"2017-07-27\",\"2017-07-28\",\"2017-07-29\",\"2017-07-30\",\"2017-07-31\",\"2017-08-01\",\"2017-08-07\",\"2017-08-08\",\"2017-08-11\",\"2017-08-13\",\"2017-08-14\",\"2017-08-15\",\"2017-08-16\",\"2017-08-18\",\"2017-08-19\",\"2017-08-20\",\"2017-08-21\",\"2017-08-27\",\"2017-08-30\",\"2017-08-31\",\"2017-09-03\",\"2017-09-07\",\"2017-09-08\",\"2017-09-11\",\"2017-09-13\",\"2017-09-17\",\"2017-09-18\",\"2017-09-19\",\"2017-09-21\",\"2017-10-03\",\"2017-10-07\",\"2017-10-08\",\"2017-10-10\",\"2017-10-16\",\"2017-10-18\",\"2017-10-22\",\"2017-10-23\",\"2017-10-27\",\"2017-10-28\",\"2017-10-29\",\"2017-10-30\",\"2017-10-31\",\"2017-11-03\",\"2017-11-06\",\"2017-11-08\",\"2017-11-09\",\"2017-11-16\",\"2017-11-21\",\"2017-11-22\",\"2017-11-28\",\"2017-11-29\",\"2017-11-30\",\"2017-12-03\",\"2017-12-05\",\"2017-12-07\",\"2017-12-08\",\"2017-12-10\",\"2017-12-26\",\"2018-01-16\",\"2018-01-17\",\"2018-01-23\",\"2018-01-25\",\"2018-02-13\",\"2018-02-14\",\"2018-02-17\",\"2018-02-27\",\"2018-03-14\",\"2018-03-21\",\"2018-03-26\",\"2018-04-02\",\"2018-05-04\",\"2018-05-05\",\"2018-05-18\",\"2018-05-19\",\"2018-05-20\",\"2018-05-25\",\"2018-05-26\",\"2018-05-27\",\"2018-07-02\",\"2018-07-04\",\"2018-10-06\",\"2018-11-04\",\"2018-12-02\",\"2018-12-03\",\"2018-12-04\"],\"xaxis\":\"x\",\"y\":[9,8,9,5,7,4,11,7,6,11,12,6,4,5,9,6,6,10,5,11,13,12,2,8,9,6,4,8,5,5,6,12,4,7,6,6,7,8,9,7,6,11,6,19,5,12,9,3,10,9,8,6,7,8,5,10,7,5,8,5,6,4,6,10,3,6,2,5,8,11,4,13,2,7,9,5,4,7,6,7,9,3,4,7,12,5,6,8,7,10,4,2,8,7,7,7,3,2,4,11,5,6,8,5,5,6,3,4,10,5,7,5,4,2,7,5,9,8,9,6,9,7,5,11,5,9,12,1,11,11,6,5,5,2,2,3,5,6,4,3,22,6,2,8,9,2,8,6,13,6,8,9,9,3,1,5,5,4,13,7,4,6,9,2,4,9,11,12,5,7,7,5,4,4,4,4,8,7,6,4,5,4,8,10,5,11,11,10,12,5,3,6,6,4,4,11,6,6,6,8,12,7,7,8,8,6,8,11],\"yaxis\":\"y\",\"type\":\"scatter\"}],                        {\"template\":{\"data\":{\"histogram2dcontour\":[{\"type\":\"histogram2dcontour\",\"colorbar\":{\"outlinewidth\":0,\"ticks\":\"\"},\"colorscale\":[[0.0,\"#0d0887\"],[0.1111111111111111,\"#46039f\"],[0.2222222222222222,\"#7201a8\"],[0.3333333333333333,\"#9c179e\"],[0.4444444444444444,\"#bd3786\"],[0.5555555555555556,\"#d8576b\"],[0.6666666666666666,\"#ed7953\"],[0.7777777777777778,\"#fb9f3a\"],[0.8888888888888888,\"#fdca26\"],[1.0,\"#f0f921\"]]}],\"choropleth\":[{\"type\":\"choropleth\",\"colorbar\":{\"outlinewidth\":0,\"ticks\":\"\"}}],\"histogram2d\":[{\"type\":\"histogram2d\",\"colorbar\":{\"outlinewidth\":0,\"ticks\":\"\"},\"colorscale\":[[0.0,\"#0d0887\"],[0.1111111111111111,\"#46039f\"],[0.2222222222222222,\"#7201a8\"],[0.3333333333333333,\"#9c179e\"],[0.4444444444444444,\"#bd3786\"],[0.5555555555555556,\"#d8576b\"],[0.6666666666666666,\"#ed7953\"],[0.7777777777777778,\"#fb9f3a\"],[0.8888888888888888,\"#fdca26\"],[1.0,\"#f0f921\"]]}],\"heatmap\":[{\"type\":\"heatmap\",\"colorbar\":{\"outlinewidth\":0,\"ticks\":\"\"},\"colorscale\":[[0.0,\"#0d0887\"],[0.1111111111111111,\"#46039f\"],[0.2222222222222222,\"#7201a8\"],[0.3333333333333333,\"#9c179e\"],[0.4444444444444444,\"#bd3786\"],[0.5555555555555556,\"#d8576b\"],[0.6666666666666666,\"#ed7953\"],[0.7777777777777778,\"#fb9f3a\"],[0.8888888888888888,\"#fdca26\"],[1.0,\"#f0f921\"]]}],\"heatmapgl\":[{\"type\":\"heatmapgl\",\"colorbar\":{\"outlinewidth\":0,\"ticks\":\"\"},\"colorscale\":[[0.0,\"#0d0887\"],[0.1111111111111111,\"#46039f\"],[0.2222222222222222,\"#7201a8\"],[0.3333333333333333,\"#9c179e\"],[0.4444444444444444,\"#bd3786\"],[0.5555555555555556,\"#d8576b\"],[0.6666666666666666,\"#ed7953\"],[0.7777777777777778,\"#fb9f3a\"],[0.8888888888888888,\"#fdca26\"],[1.0,\"#f0f921\"]]}],\"contourcarpet\":[{\"type\":\"contourcarpet\",\"colorbar\":{\"outlinewidth\":0,\"ticks\":\"\"}}],\"contour\":[{\"type\":\"contour\",\"colorbar\":{\"outlinewidth\":0,\"ticks\":\"\"},\"colorscale\":[[0.0,\"#0d0887\"],[0.1111111111111111,\"#46039f\"],[0.2222222222222222,\"#7201a8\"],[0.3333333333333333,\"#9c179e\"],[0.4444444444444444,\"#bd3786\"],[0.5555555555555556,\"#d8576b\"],[0.6666666666666666,\"#ed7953\"],[0.7777777777777778,\"#fb9f3a\"],[0.8888888888888888,\"#fdca26\"],[1.0,\"#f0f921\"]]}],\"surface\":[{\"type\":\"surface\",\"colorbar\":{\"outlinewidth\":0,\"ticks\":\"\"},\"colorscale\":[[0.0,\"#0d0887\"],[0.1111111111111111,\"#46039f\"],[0.2222222222222222,\"#7201a8\"],[0.3333333333333333,\"#9c179e\"],[0.4444444444444444,\"#bd3786\"],[0.5555555555555556,\"#d8576b\"],[0.6666666666666666,\"#ed7953\"],[0.7777777777777778,\"#fb9f3a\"],[0.8888888888888888,\"#fdca26\"],[1.0,\"#f0f921\"]]}],\"mesh3d\":[{\"type\":\"mesh3d\",\"colorbar\":{\"outlinewidth\":0,\"ticks\":\"\"}}],\"scatter\":[{\"fillpattern\":{\"fillmode\":\"overlay\",\"size\":10,\"solidity\":0.2},\"type\":\"scatter\"}],\"parcoords\":[{\"type\":\"parcoords\",\"line\":{\"colorbar\":{\"outlinewidth\":0,\"ticks\":\"\"}}}],\"scatterpolargl\":[{\"type\":\"scatterpolargl\",\"marker\":{\"colorbar\":{\"outlinewidth\":0,\"ticks\":\"\"}}}],\"bar\":[{\"error_x\":{\"color\":\"#2a3f5f\"},\"error_y\":{\"color\":\"#2a3f5f\"},\"marker\":{\"line\":{\"color\":\"#E5ECF6\",\"width\":0.5},\"pattern\":{\"fillmode\":\"overlay\",\"size\":10,\"solidity\":0.2}},\"type\":\"bar\"}],\"scattergeo\":[{\"type\":\"scattergeo\",\"marker\":{\"colorbar\":{\"outlinewidth\":0,\"ticks\":\"\"}}}],\"scatterpolar\":[{\"type\":\"scatterpolar\",\"marker\":{\"colorbar\":{\"outlinewidth\":0,\"ticks\":\"\"}}}],\"histogram\":[{\"marker\":{\"pattern\":{\"fillmode\":\"overlay\",\"size\":10,\"solidity\":0.2}},\"type\":\"histogram\"}],\"scattergl\":[{\"type\":\"scattergl\",\"marker\":{\"colorbar\":{\"outlinewidth\":0,\"ticks\":\"\"}}}],\"scatter3d\":[{\"type\":\"scatter3d\",\"line\":{\"colorbar\":{\"outlinewidth\":0,\"ticks\":\"\"}},\"marker\":{\"colorbar\":{\"outlinewidth\":0,\"ticks\":\"\"}}}],\"scattermapbox\":[{\"type\":\"scattermapbox\",\"marker\":{\"colorbar\":{\"outlinewidth\":0,\"ticks\":\"\"}}}],\"scatterternary\":[{\"type\":\"scatterternary\",\"marker\":{\"colorbar\":{\"outlinewidth\":0,\"ticks\":\"\"}}}],\"scattercarpet\":[{\"type\":\"scattercarpet\",\"marker\":{\"colorbar\":{\"outlinewidth\":0,\"ticks\":\"\"}}}],\"carpet\":[{\"aaxis\":{\"endlinecolor\":\"#2a3f5f\",\"gridcolor\":\"white\",\"linecolor\":\"white\",\"minorgridcolor\":\"white\",\"startlinecolor\":\"#2a3f5f\"},\"baxis\":{\"endlinecolor\":\"#2a3f5f\",\"gridcolor\":\"white\",\"linecolor\":\"white\",\"minorgridcolor\":\"white\",\"startlinecolor\":\"#2a3f5f\"},\"type\":\"carpet\"}],\"table\":[{\"cells\":{\"fill\":{\"color\":\"#EBF0F8\"},\"line\":{\"color\":\"white\"}},\"header\":{\"fill\":{\"color\":\"#C8D4E3\"},\"line\":{\"color\":\"white\"}},\"type\":\"table\"}],\"barpolar\":[{\"marker\":{\"line\":{\"color\":\"#E5ECF6\",\"width\":0.5},\"pattern\":{\"fillmode\":\"overlay\",\"size\":10,\"solidity\":0.2}},\"type\":\"barpolar\"}],\"pie\":[{\"automargin\":true,\"type\":\"pie\"}]},\"layout\":{\"autotypenumbers\":\"strict\",\"colorway\":[\"#636efa\",\"#EF553B\",\"#00cc96\",\"#ab63fa\",\"#FFA15A\",\"#19d3f3\",\"#FF6692\",\"#B6E880\",\"#FF97FF\",\"#FECB52\"],\"font\":{\"color\":\"#2a3f5f\"},\"hovermode\":\"closest\",\"hoverlabel\":{\"align\":\"left\"},\"paper_bgcolor\":\"white\",\"plot_bgcolor\":\"#E5ECF6\",\"polar\":{\"bgcolor\":\"#E5ECF6\",\"angularaxis\":{\"gridcolor\":\"white\",\"linecolor\":\"white\",\"ticks\":\"\"},\"radialaxis\":{\"gridcolor\":\"white\",\"linecolor\":\"white\",\"ticks\":\"\"}},\"ternary\":{\"bgcolor\":\"#E5ECF6\",\"aaxis\":{\"gridcolor\":\"white\",\"linecolor\":\"white\",\"ticks\":\"\"},\"baxis\":{\"gridcolor\":\"white\",\"linecolor\":\"white\",\"ticks\":\"\"},\"caxis\":{\"gridcolor\":\"white\",\"linecolor\":\"white\",\"ticks\":\"\"}},\"coloraxis\":{\"colorbar\":{\"outlinewidth\":0,\"ticks\":\"\"}},\"colorscale\":{\"sequential\":[[0.0,\"#0d0887\"],[0.1111111111111111,\"#46039f\"],[0.2222222222222222,\"#7201a8\"],[0.3333333333333333,\"#9c179e\"],[0.4444444444444444,\"#bd3786\"],[0.5555555555555556,\"#d8576b\"],[0.6666666666666666,\"#ed7953\"],[0.7777777777777778,\"#fb9f3a\"],[0.8888888888888888,\"#fdca26\"],[1.0,\"#f0f921\"]],\"sequentialminus\":[[0.0,\"#0d0887\"],[0.1111111111111111,\"#46039f\"],[0.2222222222222222,\"#7201a8\"],[0.3333333333333333,\"#9c179e\"],[0.4444444444444444,\"#bd3786\"],[0.5555555555555556,\"#d8576b\"],[0.6666666666666666,\"#ed7953\"],[0.7777777777777778,\"#fb9f3a\"],[0.8888888888888888,\"#fdca26\"],[1.0,\"#f0f921\"]],\"diverging\":[[0,\"#8e0152\"],[0.1,\"#c51b7d\"],[0.2,\"#de77ae\"],[0.3,\"#f1b6da\"],[0.4,\"#fde0ef\"],[0.5,\"#f7f7f7\"],[0.6,\"#e6f5d0\"],[0.7,\"#b8e186\"],[0.8,\"#7fbc41\"],[0.9,\"#4d9221\"],[1,\"#276419\"]]},\"xaxis\":{\"gridcolor\":\"white\",\"linecolor\":\"white\",\"ticks\":\"\",\"title\":{\"standoff\":15},\"zerolinecolor\":\"white\",\"automargin\":true,\"zerolinewidth\":2},\"yaxis\":{\"gridcolor\":\"white\",\"linecolor\":\"white\",\"ticks\":\"\",\"title\":{\"standoff\":15},\"zerolinecolor\":\"white\",\"automargin\":true,\"zerolinewidth\":2},\"scene\":{\"xaxis\":{\"backgroundcolor\":\"#E5ECF6\",\"gridcolor\":\"white\",\"linecolor\":\"white\",\"showbackground\":true,\"ticks\":\"\",\"zerolinecolor\":\"white\",\"gridwidth\":2},\"yaxis\":{\"backgroundcolor\":\"#E5ECF6\",\"gridcolor\":\"white\",\"linecolor\":\"white\",\"showbackground\":true,\"ticks\":\"\",\"zerolinecolor\":\"white\",\"gridwidth\":2},\"zaxis\":{\"backgroundcolor\":\"#E5ECF6\",\"gridcolor\":\"white\",\"linecolor\":\"white\",\"showbackground\":true,\"ticks\":\"\",\"zerolinecolor\":\"white\",\"gridwidth\":2}},\"shapedefaults\":{\"line\":{\"color\":\"#2a3f5f\"}},\"annotationdefaults\":{\"arrowcolor\":\"#2a3f5f\",\"arrowhead\":0,\"arrowwidth\":1},\"geo\":{\"bgcolor\":\"white\",\"landcolor\":\"#E5ECF6\",\"subunitcolor\":\"white\",\"showland\":true,\"showlakes\":true,\"lakecolor\":\"white\"},\"title\":{\"x\":0.05},\"mapbox\":{\"style\":\"light\"}}},\"xaxis\":{\"anchor\":\"y\",\"domain\":[0.0,1.0],\"title\":{\"text\":\"Date\"}},\"yaxis\":{\"anchor\":\"x\",\"domain\":[0.0,1.0],\"title\":{\"text\":\"Incident Count\"}},\"legend\":{\"tracegroupgap\":0},\"title\":{\"text\":\"Number of Incidents Over Time\"}},                        {\"responsive\": true}                    ).then(function(){\n",
              "                            \n",
              "var gd = document.getElementById('93bd813f-f887-4687-baac-302b7f7efe5e');\n",
              "var x = new MutationObserver(function (mutations, observer) {{\n",
              "        var display = window.getComputedStyle(gd).display;\n",
              "        if (!display || display === 'none') {{\n",
              "            console.log([gd, 'removed!']);\n",
              "            Plotly.purge(gd);\n",
              "            observer.disconnect();\n",
              "        }}\n",
              "}});\n",
              "\n",
              "// Listen for the removal of the full notebook cells\n",
              "var notebookContainer = gd.closest('#notebook-container');\n",
              "if (notebookContainer) {{\n",
              "    x.observe(notebookContainer, {childList: true});\n",
              "}}\n",
              "\n",
              "// Listen for the clearing of the current output cell\n",
              "var outputEl = gd.closest('.output');\n",
              "if (outputEl) {{\n",
              "    x.observe(outputEl, {childList: true});\n",
              "}}\n",
              "\n",
              "                        })                };                            </script>        </div>\n",
              "</body>\n",
              "</html>"
            ]
          },
          "metadata": {}
        }
      ]
    },
    {
      "cell_type": "markdown",
      "source": [
        "Incidents by Hour of the Day ('Time'):"
      ],
      "metadata": {
        "id": "gz8suDKHkqPe"
      }
    },
    {
      "cell_type": "code",
      "source": [
        "# Extract the hour from the 'Time' column\n",
        "df['Hour'] = pd.to_datetime(df['Time']).dt.hour\n",
        "\n",
        "# Group data by hour and count the number of incidents\n",
        "incident_count_by_hour = df.groupby('Hour').size().reset_index(name='Incident Count')\n",
        "\n",
        "# Create a bar chart\n",
        "fig = px.bar(incident_count_by_hour, x='Hour', y='Incident Count', title='Incidents by Hour of the Day')\n",
        "\n",
        "fig.update_xaxes(title='Hour of the Day')\n",
        "fig.update_yaxes(title='Incident Count')\n",
        "fig.show()\n"
      ],
      "metadata": {
        "colab": {
          "base_uri": "https://localhost:8080/",
          "height": 542
        },
        "id": "u5EtzmozkqfO",
        "outputId": "76510945-56bb-4603-8fc9-3037f6ab9bed"
      },
      "execution_count": 24,
      "outputs": [
        {
          "output_type": "display_data",
          "data": {
            "text/html": [
              "<html>\n",
              "<head><meta charset=\"utf-8\" /></head>\n",
              "<body>\n",
              "    <div>            <script src=\"https://cdnjs.cloudflare.com/ajax/libs/mathjax/2.7.5/MathJax.js?config=TeX-AMS-MML_SVG\"></script><script type=\"text/javascript\">if (window.MathJax && window.MathJax.Hub && window.MathJax.Hub.Config) {window.MathJax.Hub.Config({SVG: {font: \"STIX-Web\"}});}</script>                <script type=\"text/javascript\">window.PlotlyConfig = {MathJaxConfig: 'local'};</script>\n",
              "        <script charset=\"utf-8\" src=\"https://cdn.plot.ly/plotly-2.24.1.min.js\"></script>                <div id=\"87be089b-20e7-4526-919d-88ca9485d11f\" class=\"plotly-graph-div\" style=\"height:525px; width:100%;\"></div>            <script type=\"text/javascript\">                                    window.PLOTLYENV=window.PLOTLYENV || {};                                    if (document.getElementById(\"87be089b-20e7-4526-919d-88ca9485d11f\")) {                    Plotly.newPlot(                        \"87be089b-20e7-4526-919d-88ca9485d11f\",                        [{\"alignmentgroup\":\"True\",\"hovertemplate\":\"Hour=%{x}\\u003cbr\\u003eIncident Count=%{y}\\u003cextra\\u003e\\u003c\\u002fextra\\u003e\",\"legendgroup\":\"\",\"marker\":{\"color\":\"#636efa\",\"pattern\":{\"shape\":\"\"}},\"name\":\"\",\"offsetgroup\":\"\",\"orientation\":\"v\",\"showlegend\":false,\"textposition\":\"auto\",\"x\":[0.0,1.0,2.0,3.0,4.0,5.0,6.0,7.0,8.0,9.0,10.0,11.0,12.0,13.0,14.0,15.0,16.0,17.0,18.0,19.0,20.0,21.0,22.0,23.0],\"xaxis\":\"x\",\"y\":[23,27,24,18,19,24,66,74,44,40,52,46,62,41,51,58,71,88,88,101,161,98,61,56],\"yaxis\":\"y\",\"type\":\"bar\"}],                        {\"template\":{\"data\":{\"histogram2dcontour\":[{\"type\":\"histogram2dcontour\",\"colorbar\":{\"outlinewidth\":0,\"ticks\":\"\"},\"colorscale\":[[0.0,\"#0d0887\"],[0.1111111111111111,\"#46039f\"],[0.2222222222222222,\"#7201a8\"],[0.3333333333333333,\"#9c179e\"],[0.4444444444444444,\"#bd3786\"],[0.5555555555555556,\"#d8576b\"],[0.6666666666666666,\"#ed7953\"],[0.7777777777777778,\"#fb9f3a\"],[0.8888888888888888,\"#fdca26\"],[1.0,\"#f0f921\"]]}],\"choropleth\":[{\"type\":\"choropleth\",\"colorbar\":{\"outlinewidth\":0,\"ticks\":\"\"}}],\"histogram2d\":[{\"type\":\"histogram2d\",\"colorbar\":{\"outlinewidth\":0,\"ticks\":\"\"},\"colorscale\":[[0.0,\"#0d0887\"],[0.1111111111111111,\"#46039f\"],[0.2222222222222222,\"#7201a8\"],[0.3333333333333333,\"#9c179e\"],[0.4444444444444444,\"#bd3786\"],[0.5555555555555556,\"#d8576b\"],[0.6666666666666666,\"#ed7953\"],[0.7777777777777778,\"#fb9f3a\"],[0.8888888888888888,\"#fdca26\"],[1.0,\"#f0f921\"]]}],\"heatmap\":[{\"type\":\"heatmap\",\"colorbar\":{\"outlinewidth\":0,\"ticks\":\"\"},\"colorscale\":[[0.0,\"#0d0887\"],[0.1111111111111111,\"#46039f\"],[0.2222222222222222,\"#7201a8\"],[0.3333333333333333,\"#9c179e\"],[0.4444444444444444,\"#bd3786\"],[0.5555555555555556,\"#d8576b\"],[0.6666666666666666,\"#ed7953\"],[0.7777777777777778,\"#fb9f3a\"],[0.8888888888888888,\"#fdca26\"],[1.0,\"#f0f921\"]]}],\"heatmapgl\":[{\"type\":\"heatmapgl\",\"colorbar\":{\"outlinewidth\":0,\"ticks\":\"\"},\"colorscale\":[[0.0,\"#0d0887\"],[0.1111111111111111,\"#46039f\"],[0.2222222222222222,\"#7201a8\"],[0.3333333333333333,\"#9c179e\"],[0.4444444444444444,\"#bd3786\"],[0.5555555555555556,\"#d8576b\"],[0.6666666666666666,\"#ed7953\"],[0.7777777777777778,\"#fb9f3a\"],[0.8888888888888888,\"#fdca26\"],[1.0,\"#f0f921\"]]}],\"contourcarpet\":[{\"type\":\"contourcarpet\",\"colorbar\":{\"outlinewidth\":0,\"ticks\":\"\"}}],\"contour\":[{\"type\":\"contour\",\"colorbar\":{\"outlinewidth\":0,\"ticks\":\"\"},\"colorscale\":[[0.0,\"#0d0887\"],[0.1111111111111111,\"#46039f\"],[0.2222222222222222,\"#7201a8\"],[0.3333333333333333,\"#9c179e\"],[0.4444444444444444,\"#bd3786\"],[0.5555555555555556,\"#d8576b\"],[0.6666666666666666,\"#ed7953\"],[0.7777777777777778,\"#fb9f3a\"],[0.8888888888888888,\"#fdca26\"],[1.0,\"#f0f921\"]]}],\"surface\":[{\"type\":\"surface\",\"colorbar\":{\"outlinewidth\":0,\"ticks\":\"\"},\"colorscale\":[[0.0,\"#0d0887\"],[0.1111111111111111,\"#46039f\"],[0.2222222222222222,\"#7201a8\"],[0.3333333333333333,\"#9c179e\"],[0.4444444444444444,\"#bd3786\"],[0.5555555555555556,\"#d8576b\"],[0.6666666666666666,\"#ed7953\"],[0.7777777777777778,\"#fb9f3a\"],[0.8888888888888888,\"#fdca26\"],[1.0,\"#f0f921\"]]}],\"mesh3d\":[{\"type\":\"mesh3d\",\"colorbar\":{\"outlinewidth\":0,\"ticks\":\"\"}}],\"scatter\":[{\"fillpattern\":{\"fillmode\":\"overlay\",\"size\":10,\"solidity\":0.2},\"type\":\"scatter\"}],\"parcoords\":[{\"type\":\"parcoords\",\"line\":{\"colorbar\":{\"outlinewidth\":0,\"ticks\":\"\"}}}],\"scatterpolargl\":[{\"type\":\"scatterpolargl\",\"marker\":{\"colorbar\":{\"outlinewidth\":0,\"ticks\":\"\"}}}],\"bar\":[{\"error_x\":{\"color\":\"#2a3f5f\"},\"error_y\":{\"color\":\"#2a3f5f\"},\"marker\":{\"line\":{\"color\":\"#E5ECF6\",\"width\":0.5},\"pattern\":{\"fillmode\":\"overlay\",\"size\":10,\"solidity\":0.2}},\"type\":\"bar\"}],\"scattergeo\":[{\"type\":\"scattergeo\",\"marker\":{\"colorbar\":{\"outlinewidth\":0,\"ticks\":\"\"}}}],\"scatterpolar\":[{\"type\":\"scatterpolar\",\"marker\":{\"colorbar\":{\"outlinewidth\":0,\"ticks\":\"\"}}}],\"histogram\":[{\"marker\":{\"pattern\":{\"fillmode\":\"overlay\",\"size\":10,\"solidity\":0.2}},\"type\":\"histogram\"}],\"scattergl\":[{\"type\":\"scattergl\",\"marker\":{\"colorbar\":{\"outlinewidth\":0,\"ticks\":\"\"}}}],\"scatter3d\":[{\"type\":\"scatter3d\",\"line\":{\"colorbar\":{\"outlinewidth\":0,\"ticks\":\"\"}},\"marker\":{\"colorbar\":{\"outlinewidth\":0,\"ticks\":\"\"}}}],\"scattermapbox\":[{\"type\":\"scattermapbox\",\"marker\":{\"colorbar\":{\"outlinewidth\":0,\"ticks\":\"\"}}}],\"scatterternary\":[{\"type\":\"scatterternary\",\"marker\":{\"colorbar\":{\"outlinewidth\":0,\"ticks\":\"\"}}}],\"scattercarpet\":[{\"type\":\"scattercarpet\",\"marker\":{\"colorbar\":{\"outlinewidth\":0,\"ticks\":\"\"}}}],\"carpet\":[{\"aaxis\":{\"endlinecolor\":\"#2a3f5f\",\"gridcolor\":\"white\",\"linecolor\":\"white\",\"minorgridcolor\":\"white\",\"startlinecolor\":\"#2a3f5f\"},\"baxis\":{\"endlinecolor\":\"#2a3f5f\",\"gridcolor\":\"white\",\"linecolor\":\"white\",\"minorgridcolor\":\"white\",\"startlinecolor\":\"#2a3f5f\"},\"type\":\"carpet\"}],\"table\":[{\"cells\":{\"fill\":{\"color\":\"#EBF0F8\"},\"line\":{\"color\":\"white\"}},\"header\":{\"fill\":{\"color\":\"#C8D4E3\"},\"line\":{\"color\":\"white\"}},\"type\":\"table\"}],\"barpolar\":[{\"marker\":{\"line\":{\"color\":\"#E5ECF6\",\"width\":0.5},\"pattern\":{\"fillmode\":\"overlay\",\"size\":10,\"solidity\":0.2}},\"type\":\"barpolar\"}],\"pie\":[{\"automargin\":true,\"type\":\"pie\"}]},\"layout\":{\"autotypenumbers\":\"strict\",\"colorway\":[\"#636efa\",\"#EF553B\",\"#00cc96\",\"#ab63fa\",\"#FFA15A\",\"#19d3f3\",\"#FF6692\",\"#B6E880\",\"#FF97FF\",\"#FECB52\"],\"font\":{\"color\":\"#2a3f5f\"},\"hovermode\":\"closest\",\"hoverlabel\":{\"align\":\"left\"},\"paper_bgcolor\":\"white\",\"plot_bgcolor\":\"#E5ECF6\",\"polar\":{\"bgcolor\":\"#E5ECF6\",\"angularaxis\":{\"gridcolor\":\"white\",\"linecolor\":\"white\",\"ticks\":\"\"},\"radialaxis\":{\"gridcolor\":\"white\",\"linecolor\":\"white\",\"ticks\":\"\"}},\"ternary\":{\"bgcolor\":\"#E5ECF6\",\"aaxis\":{\"gridcolor\":\"white\",\"linecolor\":\"white\",\"ticks\":\"\"},\"baxis\":{\"gridcolor\":\"white\",\"linecolor\":\"white\",\"ticks\":\"\"},\"caxis\":{\"gridcolor\":\"white\",\"linecolor\":\"white\",\"ticks\":\"\"}},\"coloraxis\":{\"colorbar\":{\"outlinewidth\":0,\"ticks\":\"\"}},\"colorscale\":{\"sequential\":[[0.0,\"#0d0887\"],[0.1111111111111111,\"#46039f\"],[0.2222222222222222,\"#7201a8\"],[0.3333333333333333,\"#9c179e\"],[0.4444444444444444,\"#bd3786\"],[0.5555555555555556,\"#d8576b\"],[0.6666666666666666,\"#ed7953\"],[0.7777777777777778,\"#fb9f3a\"],[0.8888888888888888,\"#fdca26\"],[1.0,\"#f0f921\"]],\"sequentialminus\":[[0.0,\"#0d0887\"],[0.1111111111111111,\"#46039f\"],[0.2222222222222222,\"#7201a8\"],[0.3333333333333333,\"#9c179e\"],[0.4444444444444444,\"#bd3786\"],[0.5555555555555556,\"#d8576b\"],[0.6666666666666666,\"#ed7953\"],[0.7777777777777778,\"#fb9f3a\"],[0.8888888888888888,\"#fdca26\"],[1.0,\"#f0f921\"]],\"diverging\":[[0,\"#8e0152\"],[0.1,\"#c51b7d\"],[0.2,\"#de77ae\"],[0.3,\"#f1b6da\"],[0.4,\"#fde0ef\"],[0.5,\"#f7f7f7\"],[0.6,\"#e6f5d0\"],[0.7,\"#b8e186\"],[0.8,\"#7fbc41\"],[0.9,\"#4d9221\"],[1,\"#276419\"]]},\"xaxis\":{\"gridcolor\":\"white\",\"linecolor\":\"white\",\"ticks\":\"\",\"title\":{\"standoff\":15},\"zerolinecolor\":\"white\",\"automargin\":true,\"zerolinewidth\":2},\"yaxis\":{\"gridcolor\":\"white\",\"linecolor\":\"white\",\"ticks\":\"\",\"title\":{\"standoff\":15},\"zerolinecolor\":\"white\",\"automargin\":true,\"zerolinewidth\":2},\"scene\":{\"xaxis\":{\"backgroundcolor\":\"#E5ECF6\",\"gridcolor\":\"white\",\"linecolor\":\"white\",\"showbackground\":true,\"ticks\":\"\",\"zerolinecolor\":\"white\",\"gridwidth\":2},\"yaxis\":{\"backgroundcolor\":\"#E5ECF6\",\"gridcolor\":\"white\",\"linecolor\":\"white\",\"showbackground\":true,\"ticks\":\"\",\"zerolinecolor\":\"white\",\"gridwidth\":2},\"zaxis\":{\"backgroundcolor\":\"#E5ECF6\",\"gridcolor\":\"white\",\"linecolor\":\"white\",\"showbackground\":true,\"ticks\":\"\",\"zerolinecolor\":\"white\",\"gridwidth\":2}},\"shapedefaults\":{\"line\":{\"color\":\"#2a3f5f\"}},\"annotationdefaults\":{\"arrowcolor\":\"#2a3f5f\",\"arrowhead\":0,\"arrowwidth\":1},\"geo\":{\"bgcolor\":\"white\",\"landcolor\":\"#E5ECF6\",\"subunitcolor\":\"white\",\"showland\":true,\"showlakes\":true,\"lakecolor\":\"white\"},\"title\":{\"x\":0.05},\"mapbox\":{\"style\":\"light\"}}},\"xaxis\":{\"anchor\":\"y\",\"domain\":[0.0,1.0],\"title\":{\"text\":\"Hour of the Day\"}},\"yaxis\":{\"anchor\":\"x\",\"domain\":[0.0,1.0],\"title\":{\"text\":\"Incident Count\"}},\"legend\":{\"tracegroupgap\":0},\"title\":{\"text\":\"Incidents by Hour of the Day\"},\"barmode\":\"relative\"},                        {\"responsive\": true}                    ).then(function(){\n",
              "                            \n",
              "var gd = document.getElementById('87be089b-20e7-4526-919d-88ca9485d11f');\n",
              "var x = new MutationObserver(function (mutations, observer) {{\n",
              "        var display = window.getComputedStyle(gd).display;\n",
              "        if (!display || display === 'none') {{\n",
              "            console.log([gd, 'removed!']);\n",
              "            Plotly.purge(gd);\n",
              "            observer.disconnect();\n",
              "        }}\n",
              "}});\n",
              "\n",
              "// Listen for the removal of the full notebook cells\n",
              "var notebookContainer = gd.closest('#notebook-container');\n",
              "if (notebookContainer) {{\n",
              "    x.observe(notebookContainer, {childList: true});\n",
              "}}\n",
              "\n",
              "// Listen for the clearing of the current output cell\n",
              "var outputEl = gd.closest('.output');\n",
              "if (outputEl) {{\n",
              "    x.observe(outputEl, {childList: true});\n",
              "}}\n",
              "\n",
              "                        })                };                            </script>        </div>\n",
              "</body>\n",
              "</html>"
            ]
          },
          "metadata": {}
        }
      ]
    },
    {
      "cell_type": "markdown",
      "source": [
        "Geographical Distribution of Incidents in Africa:"
      ],
      "metadata": {
        "id": "b5B8XIXDlBq1"
      }
    },
    {
      "cell_type": "code",
      "source": [
        "# Create a scatter plot on a map to visualize incidents by latitude and longitude for Africa\n",
        "fig = px.scatter_geo(df,\n",
        "                     lat='Latitude',\n",
        "                     lon='Longitude',\n",
        "                     scope='world',  # Set the map scope to focus on Africa\n",
        "                     title='Geographical Distribution of Incidents in Africa',\n",
        "                     hover_name='Road',  # Display the road name on hover\n",
        "                     )\n",
        "\n",
        "fig.update_geos(projection_type=\"orthographic\",  showcountries=True,)  # Set the projection type for Africa\n",
        "\n",
        "# Customize the appearance of the plot (optional)\n",
        "fig.update_layout(geo=dict(showland=True, landcolor=\"lightgray\"), height=1000, width=1200)\n",
        "\n",
        "fig.show()\n"
      ],
      "metadata": {
        "colab": {
          "base_uri": "https://localhost:8080/",
          "height": 1000
        },
        "id": "4cwrEETtlB3e",
        "outputId": "fb1de48d-86e0-41dc-92e4-db03bec9ecbd"
      },
      "execution_count": 25,
      "outputs": [
        {
          "output_type": "display_data",
          "data": {
            "text/html": [
              "<html>\n",
              "<head><meta charset=\"utf-8\" /></head>\n",
              "<body>\n",
              "    <div>            <script src=\"https://cdnjs.cloudflare.com/ajax/libs/mathjax/2.7.5/MathJax.js?config=TeX-AMS-MML_SVG\"></script><script type=\"text/javascript\">if (window.MathJax && window.MathJax.Hub && window.MathJax.Hub.Config) {window.MathJax.Hub.Config({SVG: {font: \"STIX-Web\"}});}</script>                <script type=\"text/javascript\">window.PlotlyConfig = {MathJaxConfig: 'local'};</script>\n",
              "        <script charset=\"utf-8\" src=\"https://cdn.plot.ly/plotly-2.24.1.min.js\"></script>                <div id=\"d295a86e-5d67-4c9f-85f2-2735c3d3a113\" class=\"plotly-graph-div\" style=\"height:1000px; width:1200px;\"></div>            <script type=\"text/javascript\">                                    window.PLOTLYENV=window.PLOTLYENV || {};                                    if (document.getElementById(\"d295a86e-5d67-4c9f-85f2-2735c3d3a113\")) {                    Plotly.newPlot(                        \"d295a86e-5d67-4c9f-85f2-2735c3d3a113\",                        [{\"geo\":\"geo\",\"hovertemplate\":\"\\u003cb\\u003e%{hovertext}\\u003c\\u002fb\\u003e\\u003cbr\\u003e\\u003cbr\\u003eLatitude=%{lat}\\u003cbr\\u003eLongitude=%{lon}\\u003cextra\\u003e\\u003c\\u002fextra\\u003e\",\"hovertext\":[\"EMBU-MERU\",\"MSA-NRB\",\"KITALE-WEBUYE\",\"MATANYA ROAD\",\"NYAHURURU-MWEIGA\",\"ISINYA-KAJIADO\",\"MAKUTANO-MWEA\",\"MAKUTANO-MWEA\",\"NAIROBI-MOMBASA\",\"KISII-KILGORIS\",\"LIKONI-LINGALUNGA\",\"LIKONI-LINGALUNGA\",\"KANGUNDO NAIROBI\",\"BURET NGOINA\",\"BURET NGOINA\",\"MOMBASA NAIROBI\",\"KIJABE GICHIEGO ROAD\",\"ELEMENTAITA-GACHUMA\",\"KEROKA SOTIK\",\"KANGUNDO\",\"AIRPORT ROAD\",\"KERICHO-KISUMU\",\"THIKA SUPERHIGHWAY\",\"KIMUNYE KUTUS ROAD\",\"IKONGE MAGWAGWA ROAD\",\"LIKONI-FERRY\",\"MOMBASA-NAIROBI\",\"THIKA ROAD\",\"MWINGI GARISSA RD\",\"BOMET NAROK\",\"NAIROBI MOMBASA\",\"PROFESSIONAL ROAD\",\"NANYUKI NYERI\",\"KABARNET MARIGAT\",\"BOMET SOTIK\",\"NAIROBI MOMBASA\",\"MERU MIKINDURI\",\"NYANGUSU KEROKA\",\"NYERI NYAHURURU\",\"MURANGA KIRIANI\",\"CHAVAKALI KAPSABET\",\"NAIVASHA-NAIROBI\",\"THIKA SUPERHIGHWAY\",\"NORTHERN BY PASS\",\"MAI MAHIU NAIVASHA\",\"LANDHIES ROAD\",\"MARIGAT LORUK\",\"NAIROBI MOMBASA\",\"MUKURWENI KARATINA\",\"AWENDO MIGORI\",\"NAKURU NAIROBI\",\"NAIROBI MACHAKOS\",\"MOMBASA NAIROBI\",\"NAIROBI MOMBASA\",\"MOMBASA NAIROBI\",\"MOMBASA NAIROBI\",\"NAIROBI MOMBASA\",\"THIKA SUPERHIGH WAY\",\"SOUTHERN BY PASS\",\"THIKA SUPERHIGHWAY\",\"MOMBASA NAIROBI\",\"KERICHO-NAKURU\",\"MIHARATI-ENGINEER ROAD\",\"MOMBASA ROAD\",\"GILGIL NAIVASHA\",\"NAIROBI MOMBASA ROAD\",\"KATHEKAI\",\"GILGIL NAKURU\",\"KILIFI-MALINDI\",\"MOMBASA-NAIROBI\",\"NAIROBI MOMBASA\",\"NYAURURU NAKURU\",\"THIKA SUPER HIGHWAY\",\"NAKURU NAIROBI\",\"MOMBASA\",\"NAIROBI NAIVASHA\",\"MSAMBWENI UKUNDA\",\"KERICHO NAKURU ROAD\",\"MOMBASA NAIROBI\",\"LIMURU NAIROBI\",\"UKUNDA LIKONI ROAD\",\"ELDORET KITALE\",\"KENDU BAY-KATITO\",\"UHURU HIGH WAY\",\"KERICHO-NAKURU\",\"NAKURU-NAIROBI\",\"WEBUYE BUNGOMA\",\"TAVETA-MWATATE\",\"SOTIK-KERICHO\",\"NAKURU-ELDORET\",\"KERICHO-LONDAINI\",\"ENTERPRISE ROAD\",\"NAIROBI-MOMBASA\",\"MOMBASA NAIROBI\",\"AWASI KERICHO\",\"MOMBASA NAIROBI\",\"NAMANGA-NAIROBI\",\"KITUI-MACHAKOS\",\"EASTERN BY PASS\",\"NAIROBI-MOMBASA\",\"NAIROBI MOMBASA\",\"MUGANI MURIGURU\",\"OTHAYA NYERI\",\"NAIRBI MOMBASA\",\"MASALANI GARISSA\",\"CHUKA-EMBU\",\"EASTERN BYPASS\",\"SOUTHERN\",\"MURANGA ROAD\",\"SAGANA KENOL ROAD\",\"CHOGORIA CHUKA\",\"MERU NANYUKI\",\"KYENI KARURUMO MARRUM ROAD\",\"KIAMBU ROAD\",\"MOMBASA NAIROBI\",\"NAIROBI- MOMBASA\",\"KEROKA-KISII\",\"KAWANJARA- ISHIARA\",\"CHAKA-KIGANJO\",\"KERICHO-KISUMU\",\"RIURU LIMURU\",\"NYAHURURU NYERI\",\"RODI NDHIWA\",\"MSA-NRB\",\"MOMBASA NAIROBI\",\"MOMBASA NAIROBI\",\"NAIROBI-MOMBASA\",\"KAKAMEGA KISUMU ROAD\",\"UKUNDA BEACH ROAD\",\"NAIROBI-NAKURU\",\"MOMBASA NAIROBI\",\"EASTERN BYPASS\",\"NYERI-OTHAYA\",\"THIKA SUPERHIGHWAY\",\"AHERO KATITO\",\"KERICHO-AWASI\",\"KAMURUGU IRIAMURAI\",\"KARATINA-NYERI\",\"ELDORET -NAKURU\",\"NAIROBI-NAMANGA\",\"NAIROBI- NAIVASHA\",\"MAGADI ROAD\",\"MOMBASA ROAD\",\"NAKURU ELDORET\",\"GARISSA MWINGI\",\"KAKAMEGA MUKANGU\",\"KANGUNDO ROAD\",\"KIVAA KANYONYO\",\"THIKA SUPER HIGHWAY\",\"LIKONI-UKUNDA\",\"NAIROBI-MOMBASA\",\"NAIROBI-MOMBASA\",\"NAIROBI-MOMBASA\",\"KISUMU-KAKAMEGA\",\"MAU SUMMIT -KERICHO\",\"MERU-NANYUKI\",\"KERICHO-KISUMU\",\"MOMBASA- NAIROBI\",\"NAIROBI LIMURU\",\"NAIROBI LIMURU\",\"NAKURU-ELDORET\",\"MARIAKANI-BAMBA\",\"KENOL-SAGANA\",\"THIKA SUPER HIGHWAY\",\"NAIROBI- MOMBASA\",\"NAIROBI- MOMBASA\",\"NAIVASHA-NAIROBI\",\"ENGINEER-NAIVASHA MURRAM\",\"OTHAYA-NYERI\",\"OTHAYA-NYERI\",\"LIMURU KIAMBU ROAD\",\"NAKURU-ELDORET\",\"KISII-MARAMI\",\"KITUI-ITHOKWE\",\"MOMBASA-NAIROBI\",\"MOMBASA-NAIROBI\",\"MOMBASA-NAIROBI\",\"KENYATTA AVENUE\",\"KENDU BAY-KASITI\",\"NAKURU NAIROBI\",\"MERU-MAUA\",\"NAKURU NAIROBI\",\"KEROKA KISII\",\"NJORO MAU NAROK\",\"GITHUNGURI ROAD\",\"KIMILILI CHWELE ROAD\",\"MSAMBWENI UKUNDA\",\"NAIROBI MOMBASA\",\"ELDORET KITALE\",\"PARKLANDS MUTHAMA\",\"KISERIAN ISINYA\",\"KEHANCHA NTIMARU\",\"MATUNGU OKALLO MURRAM ROAD\",\"KISII KILGORIS\",\"MURANGA KANGEMA\",\"MAGADI KISERIAN\",\"NAKURU NAIROBI\",\"MOMBASA-NAIROBI\",\"SIAYA-LUANDA\",\"KANGUNDO\",\"EMBU MERU\",\"LINKS ROAD\",\"BUSIA KISUMU ROAD\",\"MURANG'A SAGANA\",\"KERICHO NAKURU\",\"KEHANCHA NTIMARU\",\"KABATI TOWNSHIP\",\"KAKAMEGA KISUMU\",\"AWASI AHERO ROAD\",\"KISII MARANI\",\"WOTE MAKINDU\",\"MWATATE VOI\",\"KISUMU BUSIA\",\"MAINLAND JOMVU\",\"KILIFI VITENGENI\",\"KILIFI VITENGENI\",\"KEROKA SOTIK\",\"KIAMBERE BOLRIT\",\"THIKA SUPERHIGHWAY\",\"KERICHO NAKURU\",\"MOMBASA NAIROBI\",\"ELDAMA RAVINE SAOS\",\"KAJIADO ISINYA\",\"KAKAMEGA WEBUYE\",\"OLKALAU GILGIL\",\"MWINGI GARISSA\",\"MUNGOTIO RAVINE\",\"GARISSA MWINGI\",\"KISUMU BUSIA\",\"MOLO ELBAGON\",\"KIKOKO NUNGUNI\",\"KITALE ELDORET\",\"KILIFI MALINDI\",\"MOMBASA KILIFI\",\"KOMAROCK ROAD\",\"NAIROBI NAKURU\",\"BUNGOMA MUMIAS\",\"NYERI NYAHURURU\",\"GARISSA MWINGI\",\"OYUGIS KISUMU\",\"ONDIRE KIKUYU\",\"RACE COURSE ROAD\",\"THIKA SUPERHIGHWAY\",\"KITALE ELDORET\",\"NAIROBI MOMBASA\",\"LITEIN SOTIK\",\"KISUMU BUSIA\",\"FOREST LIMURU\",\"KENDU BAY KATITU\",\"EMBU MERU\",\"MOMBASA NAIROBI\",\"NGONG ROAD\",\"THIUKA SUPER HIGHWAY\",\"ITEN KWA HILDA RESIDENCE\",\"KAJIADO NAMANGA\",\"PIPELINE ELEMENTAITA\",\"MOMBASA-VOI\",\"NYERI NANYUKI\",\"ALONG RUNNYENJES - UGWERI ROAD\",\"KITALE - ELDORET\",\"KIRIA-INI-KANGEMA\",\"WAIYAKI WAY\",\"NAKURU-GILGIL\",\"KITUI-KIBWEZI\",\"WANGARI MATHAI\",\"GARISSA-MWINGI\",\"NAROK-MAIMAHIU\",\"SOKO NG'OMBE BULA RIGI EARTH ROAD\",\"MUTHUE MUTOMO\",\"KERICHO LONDIANI\",\"WATAMU GEDE\",\"AKUBWOIT KWANGAMOR ROAD\",\"WOTE MAKUENI\",\"NYAMIRA NYAMAIYA\",\"BISHOP ROAD JUNCTION\",\"SIAYA-DOMINION\",\"KONDOLE-NYAMASARIA\",\"MURANGA-KIRIANI\",\"MAKINDU-KOSEWE\",\"LONDIANI-KERICHO\",\"KAPSABET-LESSOS\",\"NAIROBI - MOMBASA\",\"MUKARARA KIUNYU\",\"EASTERN BY PASS\",\"KAGUMO KERUGOYA\",\"KISUMU BUSIA\",\"MAKUTANO KITALE ROAD\",\"KIBOKO THIKA\",\"KITHIMANI KIMANGU\",\"KERUGOYA BARICHO\",\"MALINDI MOMBASA\",\"KEROKA SOTIK\",\"KEROKA-MASIMBA\",\"NYERI KARATINA\",\"GILGIL NAKURU\",\"NAIVASHA GILGIL\",\"SHIATSALA MANYULIA\",\"NGONG KISERIAN\",\"KAPLONG BOMET\",\"MERU MAUA\",\"NEW PUMWANI ROAD\",\"NYAHURURU-OLKALOU\",\"FLYOVER NJAMBINI ROAD\",\"NAIVASHA-NAIROBI\",\"EASTERN BY PASS\",\"KISII-KISUMU\",\"NYERI-NANYUKI\",\"MUTHINGA GATITU RD\",\"OYUGIS-KISUMU\",\"MALINDI-MOMBASA\",\"KISUMU BUSIA\",\"KINYATTA ROAD\",\"KENDU BAY KATITU ROAD\",\"SPINE ROAD\",\"CHOGORIA-MERU\",\"KERUGOYA-KARATINA\",\"POTREITZ ROAD\",\"KABIRIA ROAD\",\"NGOIGWA-THIKA ROAD\",\"MAUA-KIENGU\",\"KITALE ELDORET\",\"KEROKA SOTIK\",\"KISUMU-BUSIA\",\"LIMURU FOREST\",\"MAUA KIUTUNI\",\"KISII MIGORI\",\"MOMBASA NAIROBI\",\"BONDO AGIGO\",\"BONDO USENGE\",\"BUTULA MUMIAS\",\"KAKAMEGA KISUMU\",\"NAIROBI NAKURU\",\"MURANGA SAGANA\",\"GARISSA-KISMAIYO\",\"KAKAMEGA-WEBUYE\",\"KISUMU-BUSIA\",\"MAKUTANO LODWAR\",\"OTHAYA KARIMA\",\"OLKALAU NYAHURURU\",\"MARIGAT KABARNET\",\"NAKURU ELDORET\",\"THIKA SUPER HIGHWAY\",\"RAMISI-MSAMBWENI\",\"HOMA BAY-MBITA\",\"NAIROBI-MOMBASA\",\"OUTERNG ROAD\",\"MALINDI MOMBASA\",\"MURANGA KAHURO\",\"LORETO ZIWA MACHINE MURRAM ROAD\",\"NEW PUMWANI ROAD\",\"KISUMU BONDO\",\"VOI KALOLENI\",\"NAIROBI KISERIAN\",\"BANANA- RUAKA\",\"NORTHERN BY- PASS\",\"OL KALOU- KARIAMU\",\"ELDORET- WEBUYE\",\"NAMANGA- KITENGELA\",\"WEBUYE- KAKAMEGA\",\"KIVANINI- MASINGA\",\"THIKA GARISSA\",\"MOYALE TOWN\",\"NAIVASHA -NAIROBI\",\"KAWANGWARE\",\"LADHIS\",\"AIRWINGS KODHEK ROAD\",\"BANANA RUAKA\",\"MIGORI AWENDO\",\"KAKAMEGA KISUMU\",\"WEBUYE ELDORET\",\"KISUMU BUSIA\",\"AIRPORT ROAD\",\"NAIROBI MOMBASA\",\"MAGADI ROAD\",\"TIRIMIONINI KASISIT MURRAM ROAD\",\"GURUBANI KIUMBU\",\"BONDO-KISUMU\",\"KISUMU BUSIA\",\"MANGU THIKA\",\"THIKA MATUU\",\"MOMBASA\",\"NAIROBI MOMBASA\",\"MKS-KITUI\",\"KENOL\\u002fSAGANA\",\"NAROK-BOMET\",\"OLKALOU-NYAHURURU\",\"MOMBASA-VOI\",\"SAGANA MAKUTANO\",\"NAKURU NJORO\",\"FOREST\",\"ITEN KABARNET\",\"IRINDI-GATUGI\",\"KANGUNDO-TALA\",\"KAKAMEGA-KISUMU\",\"WAJIR-MOYALE\",\"JOGOO\",\"NAIROBI-MOMBASA\",\"KIONGO CHARAGITA\",\"NYERI-NANYUKI\",\"KIANYAGA\\u002fKUTUS\",\"BUSIA KISUMU\",\"KYUSIAN KITUI\",\"LONDIANI MUHORONI\",\"MATUU THIKA\",\"SOY LIKUYANI MURRAM ROAD\",\"MOMBASA NAIROBI\",\"USENGE OSIEKO\",\"LUBAO-STOP JUNCTION\",\"GARISSA GARISSA NDOGO\",\"WITHIN AWELO\",\"TAPLOTING PREMIER\",\"SIAYA-LUANDA\",\"MOMBASA-NAIROBI\",\"MAINLAND-JOMVU\",\"MAINLAND-JOMVU\",\"BOMET-LITEN\",\"KISUMU-KAKAMEGA\",\"KISUMU- KAKAMEGA\",\"MOMBASA ROAD\",\"KERICHO-KISUMU\",\"KERICHO-KISUMU\",\"NYERI NANYUKI ROAD\",\"KUNDA KINDU MAIN STAGE\",\"NYAMIRA KISII\",\"KALINDU NGIINI MUTUNE ROAD\",\"ELDORET WEBUYE\",\"BOMET- KAPLONG RD\",\"BOMET- KAPLONG RD\",\"JOGOO\",\"MOMBASA-NAIROBI\",\"OTHAYA-RURUGUTI\",\"KILIFI-MALINDI\",\"EMBU-MERU\",\"THIKA SUPERHIGHWAY\",\"KERUGOYA-KAGUMO\",\"KIWASCO-MAMBA\",\"ELDORET-BUNGOMA\",\"EASTERN BYPASS\",\"NAIVASHA-NAIROBI\",\"MERU MAUA\",\"UKUNDA LIKONI\",\"MOMBASA MALINDI\",\"NJAMBINI OLKALAO\",\"SIAYA LUANDA\",\"THIKA NAIROBI\",\"KATITU KENDU BAY\",\"LANET-NDUNDORI\",\"WOTE MAKINDU\",\"MOSORIOT-KABIYET RDD\",\"KUVASALI-IKOLI\",\"KITUI-KABATI\",\"MWINGI-KYUSO\",\"MOMBASA NAIROBI\",\"KISUMU BONDO\",\"BUSIA-MIMIAS\",\"KAPSABET -CHAVAKALI\",\"OUTERING ROAD\",\"ELDORET WEBUYE\",\"ELDORET- WEBUYE\",\"THIKA SUPERHIGHWAY\",\"SAGANA-KARATINA\",\"ARCH BISHOP MAKARIOS ROAD\",\"MAKUTANO KENOL\",\"GILGIL NAKURU\",\"LUNGALUNGA ROAD\",\"GILGIL - NAKURU\",\"MOMBASA-NAIROBI\",\"THIKA SUPER HIGHWAY\",\"NAKURU - ELDORET\",\"NAKURU - ELDORET\",\"CHAVAKALI KAPSABET\",\"KINAMBA\",\"NAIROBI MOMBASA\",\"MUHORONI-LONDIANI\",\"KITALE-WEBUYE\",\"KITALE-WEBUYE\",\"WOTE MAKINDU\",\"KENOL SAGANA\",\"KENOL SAGANA\",\"KENOL SAGANA\",\"KENOL SAGANA\",\"KENOL SAGANA\",\"KERICHO NAKURU\",\"NAROK-MAHIMAHIU\",\"KAGUMO KERUGOYA\",\"MACHAKOS KITUI RD\",\"KAPOROK SEGEREK\",\"MOMBASA-NAIROBI\",\"MOMBASA-NAIROBI\",\"MERU MIKINDURI\",\"NYAMIRA MIRUKA ROAD\",\"NAIROBI MOMBASA\",\"KENOL SAGANA\",\"KENOL SAGANA\",\"KENOL SAGANA\",\"NYERI NANUKI\",\"GARISSA MWINGI\",\"GARISSA MWINGI\",\"GARISSA MWINGI\",\"MATUU THIKA\",\"GARISSA ROAD\",\"KISUMU-KAKAMEGA\",\"KISUMU-KAKAMEGA\",\"KISII MARANI\",\"KISUMU BUSIA\",\"OBUNGA KONDELE\",\"OBUNGA KONDELE\",\"BUNGOMA-WEBUYE\",\"BUNGOMA-WEBUYE\",\"KAKAMEGA-KISUMU\",\"EMALI-MATILIKU EARTH\",\"KISUMU-NAIROBI\",\"KISUMU-NAIROBI\",\"BONDO USENGE\",\"KIJABE GICHIEGO ROAD\",\"NJABINI OLKALAU\",\"NANYUKI NAIROBI\",\"AHERO AWASI\",\"MUMIAS EBUYANGU\",\"GARISSA IJARA\",\"KERICHO-LONDIANI\",\"KISII KISUMU\",\"ISIOLO ARCHERS POST\",\"NAROK MAIMAHIU\",\"THIKA\",\"KATITO KENDU BAY\",\"LONDIANI-KERICHO\",\"LONDIANI-KERICHO\",\"KITALE-LODWAR\",\"SIAYA-NYANDORERA\",\"SIAYA-NYANDORERA\",\"NAKURU-ELDORET\",\"NAKURU-ELDORET\",\"KISUMU-BUSIA\",\"GAKONYA MUKURU WEINI\",\"KERICHO-KISUMU\",\"MAI MAHIU-NAIROBI\",\"KENOL-SAGANA\",\"ELDORET-KAPSABET\",\"MWATATE VOI\",\"BUTULA MUMIAS\",\"NYERI-THIKA\",\"NAIROBI MOMBASA\",\"LUANDA KOTIENO NDORI\",\"KILIFI MOMBASA\",\"KITALE WEBUYE\",\"NAKURU ELDORET\",\"LANET NDUNDURI\",\"OLENGURUONE ROAD\",\"LUNGALUNGA VANGA\",\"KEHANCHA NTIMARU\",\"SIAYA NYANDORERA\",\"AWASI AHERO ROAD\",\"MOMBASA\",\"KAKAMEGA WEBUYE\",\"KAKAMEGA MUMIAS\",\"MUMIAS LUKOYE\",\"MWEA MAKUTANO\",\"ONYWONGO PAP ONDITI\",\"UKUNDA LIKONI\",\"BUNGOMA MUMIAS\",\"NAIROBI MOMBASA\",\"MOMBASA NAIROBI\",\"KISII MARANI\",\"NAIROBI NAIVASHA\",\"KAJIADO NAMANGA\",\"MAGADI ROAD\",\"ELUCHE-MUMIAS\",\"KERUGOYA-KUTUS\",\"KITUI-KABATI\",\"LUANDA MAJENGO\",\"SOKO NG'OMBE BULA RIGI EARTH ROAD\",\"KAKAMEGA WEBUYE\",\"KITALE WEBUYE\",\"MUKARARA KIUNYU\",\"THIKA SUPER HIGHWAY\",\"MURANGA GITU\",\"MERU MAUA\",\"KAUMA MATINYANI\",\"MOMBASA NAIROBI\",\"NAIROBI-MOMBASA\",\"BUNGOMA-MUMIAS\",\"SHIATSALA MANYULIA\",\"KAPLONG BOMET\",\"WITHIN KEROKA TOWNSHIP\",\"MERU MAUA\",\"KERICHO-KISUMU\",\"EMALI MATILIKU MURRAM RD\",\"OGWEDHI-OYANI MASAI MURRAM RD\",\"SIGALAGALA BUTERE\",\"CHAVAKALI KAPSABET\",\"NYERI TETU\",\"BONDO USENGE\",\"KERICHO NAKURU\",\"NAIROBI MOMBASA\",\"KISMAIYO ROAD\",\"IKONGE CORNER\",\"KILIFI MOMBASA\",\"NAMANGA- KITENGELA\",\"MOYALE- HEILLU\",\"KISUMU- BUSIA\",\"NAIROBI -MOMBASA\",\"MATUU-THIKA\",\"KISERIAN - RONGAI\",\"JOSKA KAGUNDO\",\"LIMURU-KAMANDURA\",\"KIAMBU KWAMAIKO\",\"NYERI NANYUKI\",\"MUMO MUTINI\",\"KISUMU BUSIA\",\"OMIRIGAMI-SENGERA RD\",\"KISII NYAMIRA\",\"KITALE KILONGOLO\",\"NAIROBI-THIKA\",\"KARATINA-KERUGOYA\",\"NAIROBI-MOMBASA\",\"KISUMU-AHERO\",\"BOMET-KAPLONG\",\"UYOMA BONDO\",\"MANGU THIKA\",\"ELDORET WEBUYE\",\"KEMBU- RUKIRA\",\"MOMBASA-NAIROBI\",\"THIKA HIGHWAY\",\"MARIAKANI-BAMBA\",\"MACHAKOS- KATHIANI\",\"KISUMU-KAKAMEGA\",\"THIKA-MATUU\",\"KERICHO-NAKURU\",\"MOMBASA ROAD\",\"THIKA MATUU\",\"ELUCHE-MUMIAS\",\"NANDI HILL-KIMAKI\",\"KEROKA-SOTIK RD\",\"NAIROBI-NAIVASHA\",\"NAIROBI-MOMBASA\",\"MATUU-MWINGI\",\"KISII MIGORI\",\"OLENARA IMPORO\",\"KERICHO NAKURU\",\"KITALE-ELDORET\",\"THIKA-GATHIMA\",\"LUSAKA\",\"MATUU-THIKA\",\"ELDORET NAKURU\",\"GATAKA DIVERSION\",\"KENOL MURANG'A ROAD\",\"NAKURU ELDORET\",\"KAJIADO MURRAM ROAD\",\"KITENGELA ISINYA ROAD\",\"HAILE SELASIE AVENUE\",\"MWINGI GARISSA RD\",\"MALINDI MALANGA\",\"WAIYAKI\",\"CHEMILIL AWASI\",\"ELDORET NYARU\",\"WAIYAKI WAY\",\"NDHIWA SORI\",\"NAROK MAIMAHIU\",\"MTITO TOWNSHIP\",\"MAIMAHIU NAROK\",\"MURANGA\",\"MOMBASA KILIFI\",\"NAIVASHA NAIROBI\",\"NAIROBI MOMBASA\",\"NAROK MAIMAHIU\",\"KITUI MACHAKOS\",\"MOMBASA NAIROBI\",\"MOMBASA NAIROBI\",\"NAIROBI NAKURU\",\"NYERI OTHAYA\",\"KITALE ELDORET\",\"SPINE ROAD\",\"NAIROBI-BUSIA\",\"MOMBASA-KILIFI\",\"KISII-MARANI\",\"ELDORET-NAKURU\",\"NYERI-KAMAKWA\",\"RAKWARO\",\"NAKURU ELDORET\",\"MARIGAT MOGOTIO\",\"ELBURGON-NJORO\",\"ELDORET-KAPSABET\",\"WAIYAKI\",\"EMBU KIRITIRI\",\"THIKA NAIROBI\",\"MWINGI GARISSA\",\"KAYOLE\",\"MANDERA MALKA SUFTU\",\"KITISE KIKOME\",\"KENDU BAY-HOMA BAY\",\"OUTERING\",\"WAIYAKI WAY\",\"MOMBASA NAIROBI\",\"MOMBASA NAIROBI\",\"KISERIAN MAGADI\",\"LARI\",\"JOGOO\",\"KYUSINI-MUTHA\",\"KIVAA-EMBU\",\"MARWA-KIGANJO\",\"ISINYA-KITENGELA\",\"KYENI KARURUMO\",\"MARSABIT MOYALE RD\",\"SILIBWET KIPTAGICH RD\",\"KIKUYU-WANGIGE ROAD\",\"ELDORET-WEBUYE\",\"EMBU-KIBUKU\",\"MOMBASA NAIROBI\",\"MOMBASA NAIROBI\",\"THIKA SUPERHIGH WAY\",\"GETA ROAD\",\"GARISSA MWINGI\",\"GARISSA MWINGI\",\"MATUU MWINGI\",\"SISOTE-DOROFU MURRAM ROAD\",\"MSAMBWENI-LUNGALUNGA\",\"KISUMU NAIROBI\",\"OTHAYA NYERI\",\"KOMBANI- KWALE\",\"BUNGOMA-MALABA\",\"ELDORET NAKURU\",\"MOMBASA NAIROBI\",\"SAGANA KENOL ROAD\",\"KEROKA MASIMBA\",\"MERU NANYUKI\",\"MERU NANYUKI\",\"NAIROBI MSA ROAD\",\"KISUMU BUSIA RD\",\"MACHAKOS -WOTE RD\",\"MATUU THIKA ROAD\",\"KANYONYO EMBU\",\"MOGOTIO NAKURU\",\"NAIROBI- MOMBASA\",\"KISUMU- BUSIA\",\"LARE- MAUA\",\"MARSABIT- KARGI\",\"WEBUYE- ELDORET\",\"NAIROBI-MOMBASA\",\"KENOL-MAKUYU\",\"METO-MAILI TISA MURRAM ROAD\",\"RODI NDHIWA\",\"THIKA - KENOL\",\"CHORA\",\"ELDORET NAKURU\",\"SIAYA LUANDA\",\"MWANGULU MWELENI ROAD\",\"EMBU-KIRITIRI\",\"NAIROBI-MOMBASA\",\"NAIVASHA-NAIROBI\",\"DEVKI MAKADARA\",\"NAROK MAIMAHIU\",\"MALINDI-LAMU\",\"NAVAKHOLO MURRAM\",\"NAKURU-ELDORET\",\"GILGIL-NAKURU\",\"NAKURU-NAIROBI\",\"NAIROBI-MOMBASA\",\"MARSABIT-MOYALE\",\"MWEA EMBU\",\"SOUTHERN BY PASS\",\"NAROK-MAIMAHIU\",\"BURNT FOREST\",\"MAIMAHIU NAIVASHA\",\"SAGANA-KAGIO\",\"NAROK-MAIMAHIU\",\"NAIROBI-MOMBASA\",\"NAIROBI-MOMBASA\",\"NAIROBI-MOMBASA\",\"ISIOLO-NANYUKI\",\"LUNGA LUNGA-MSAMBWENI\",\"ELDORET-WEBUYE\",\"MAI MAHIU NAROK\",\"AHERO-KISUMU\",\"ENOOSAEN-SIKAWA RD\",\"GATUANYAGA-KOMU\",\"MATHARE NORTH\",\"MWINGI GARISSA\",\"JAMES GICHURU\",\"CARDINAL OTUNGA ROAD\",\"KISII MIGORI\",\"NAURU-ELDORET\",\"NAIROBI MOMBASA\",\"KITENGELA RESERVE\",\"URIRI MIGORI\",\"KENOL-THIKA\",\"ELDORET-NAKURU\",\"NYERI NYAHURURU\",\"NAIROBI-MOMBASA\",\"NAMBALE- MALANGA\",\"BUSIA-MAYONI\",\"WITHIN UASIN GISHU\",\"KIMILILI-CHWELE ROAD\",\"MATUU-THIKA ROAD\",\"NYERI-NANYUKI\",\"KANGUNDO ROAD\",\"BUSIA-MUMIAS\",\"NYERI-NANYUKI\",\"MERU- MAUA\",\"KAPTEMBWA-KAPKURES\",\"MATUU-THIKA\",\"KISUMU NAIROBI\",\"MUMIAS KAKAMEGA\",\"MUMIAS KAKAMEGA\",\"NYANGUSU KEROKA\",\"WEBUYE BUNGOMA\",\"FIRST PARKLANDS AVENUE\",\"NORTHERN BY PASS\",\"NAKURU ELDORET\",\"KIMBO RUIRU SERVICE LANE\",\"KIMBO RUIRU SERVICE LANE\",\"KILIFI MOMBASA\",\"KILIFI MOMBASA\",\"THIKA SUPER HIGHWAY\",\"SAGANA-MAKUTANO\",\"SAGANA-MAKUTANO\",\"SOUTHERN BY -PASS\",\"NAKURU-NAIROBI\",\"KATITO-KENDU BAY\",\"EASTERN BY PASS\",\"MIGORI KISII\",\"HAILE SELASIE ROAD\",\"HAILE SELASIE\",\"RUIRU KIAMBU\",\"NGONG NAIROBI\",\"KILIFI MSA ROAD\",\"THIKA SUPER HIGHWAY\",\"EATLEIGH\",\"LANDHIES\",\"KAMOROCK\",\"SOUTHERN BY PASS\",\"KITENGELA ISINYA\",\"NAIVASHA NAIROBI\",\"MOMBASA\",\"NAKURU-ELDORET\",\"MSA VOI ROAD\",\"KISII KILGORIS ROAD\",\"ELDORET NAKURU\",\"NAROK OLOPITO\",\"WAIYAKI WAY\",\"EKERO EBUHANGA\",\"KENDU BAY-KATITO\",\"SOUTHERN BY PASS\",\"ELDORET -KAPSABET\",\"MWEA EMBU\",\"NAIROBI MOMBASA\",\"NAKURU GILGIL\",\"NORTH AIRPORT\",\"MOMBASA\",\"MARIAKANI-KALOLENI\",\"KAPLONG LITEIN\",\"THIKA\",\"KATITO KENDU\",\"MOMBASA-NAIROBI\",\"LAARE-MATUATI\",\"NAKURU-NAIROBI\",\"NAROK-BOMET\",\"KANGEMA KIRIAI\",\"JOGOO\",\"NAROK MAIMAHIU\",\"KITUNGATI-KATWALA RD\",\"ELDORET WEBUYE\",\"KANGUNDO\",\"MOMBASA ROAD\",\"MOMBASA-NAIROBI\",\"KITENGELA-KAJIADO\",\"KUTUS-KERUGOYA\",\"BIASHARA STREET\",\"NJORO-ELBURGON\",\"EMBU-KIRITIRI\",\"KANGUNDO\",\"CHAVAKALI KILINGILI\",\"THIKA SUPER HIGHWAY\",\"WEBUYE KITALE ROAD\",\"BUNGOMA WEBUYE ROAD\",\"NAIROBI NAKURU\",\"NAIVASHA NAIROBI\",\"MOMBASA ROAD\",\"OUTERING ROAD\",\"KEROKA TOWNSHIP\",\"GILGIL NAKURU\",\"KANGUNDO\",\"MURANGA\",\"MOMBASA\",\"MUSYINI KYULU MURRAM ROAD\",\"WITHIN MACHAKOS TOWN\",\"KIJABE NAIVASHA\",\"KISII KILGORIS\",\"NORTH AIRPORT ROAD\",\"THIKA SUPERHIGHWAY\",\"RODI KOPANY RANGWE\",\"MATUNGU PANYA\",\"KIANGOKOMA TRADING CENTRE\",\"KISII KISUMU\",\"NAIROBI KIKUYU\",\"OYUGIS KISII\",\"NAIROBI MAGADI\",\"NAIROBI MOMBASA\",\"NORTHERN BY PASS\",\"THIKA SUPERHIGHWAY\",\"NAKURU NAIROBI\",\"SOUTHERN BY PASS\",\"JOGOO ROAD\",\"MALINDI MOMBASA\",\"MAKADARA NAMAGA\",\"JUJA ROAD\",\"WITHIN DONHOLM SHOPPING CENTRE\",\"EMBU MANYATTA\",\"SHIMANZI MOMBASA\",\"NAIROBI NAIVASHA\",\"LOWER KABETE\",\"MWEA EMBU\",\"NAKURU ELDORET\",\"MAKUPA CUSE WAY\",\"NAIROBI MACHAKOS\",\"JUJA\",\"BONDO NDORI\",\"NORTHERN BY PASS\",\"KERICHO NAKURU\",\"KIAMBU\",\"DANDORA PHASE 2 ESTATE\",\"RACE COURSE\",\"MULOT NAROK\",\"KANGEMA MURANGA\",\"MAUA ATHI\",\"KISUMU BUSIA\",\"USENGE BEACH ROAD\",\"MAKUPA CAUSEWAY(KIPARANI)\",\"NAIROBI MOMBASA\",\"AHERO KISUMU\",\"NAKURU ELDORET\",\"NAKURU ELDORET\",\"KIGOTO MAGUNGA\",\"NAIROBI SAGANA\",\"MAX ROAD\",\"MOMBASA\",\"NAKURU-NAIROBI\",\"NAROK MULOT\",\"KITALE ELDORET\",\"BUNGOMA WEBUYE\",\"EASTERN BY PASS\",\"KITUI MACHAKOS\",\"BUNGOMA MUMIAS\",\"MAUA MERU\",\"MOMBASA ROAD\",\"KISUMU NAIROBI\",\"MOMBASA ROAD\",\"THIKA SUPERHIGHWAY\",\"AIRPORT\",\"KENYATTA\",\"THIKA ROAD\",\"NYERI NYAHURURU\",\"KERICHO\",\"BUNGOMA MALABA\",\"KILIFI MOMBASA\",\"HAILE SELASIE\",\"JUJA ROAD\",\"GATURA THIKA\",\"KANDIZI OLE KASAFI\",\"KEROKA NYAGUSU\",\"ITEN KABARNET\",\"NAIVASHA NAIROBI HIGHWAY\",\"KAPLONG BOMET\",\"NAIROBI THIKA\",\"ELDORET NAKURU\",\"WAIYAKI WAY\",\"NDUMBERI KANNGA\",\"HESHIMA\",\"MOMBASA\",\"THIKA SUPERHIGHWAY\",\"JOGOO ROAD\",\"NAROK-MAU\",\"BOKOLI-KIMILILI\",\"NAKURU-KERICHO\",\"MOMBASA ROAD\",\"ELDORET-WEBUYE\",\"MOMBASA-NAIROBI\",\"KANYONYO-EMBU\",\"MOMBASA-NAIROBI\",\"NAROK-MAIMAHIU\",\"EMBU-CHUKA\",\"MERU - MAUA\",\"MOMBASA-MALINDI\",\"MOMBASA ROAD\",\"ELDORET-NAKURU\",\"THIKA-MATUU\",\"DAGORETI ROAD\",\"MBUNBUNI NDUMBI\",\"BARAKA ROAD\",\"MOYALE\",\"SAGANA MURANGA\",\"NAIROBI NAIVASHA\",\"NAIROBI MOMBASA ROAD\",\"MOMBASA ROAD\",\"WANGARI MATHAAI\",\"MALINDI MOMBASA\",\"OLD MOMBASA MALINDI\",\"RABAI ROAD\",\"BONDO USENGE\",\"OLJOROROK OLKALAU\",\"NAIROBI MOMBASA ROAD\",\"LUSAKA ROAD\",\"KISUMU KAKAMEGA\",\"WITHIN JAMUHURI PRIMARY SCHOOL\",\"KANGEMA MURANGA\",\"NAIROBI NAKURU\",\"SAGANA KAGIO\",\"THIKA SUPERHIGHWAY\",\"MOMBASA ROAD\",\"NYERI NANYUKI\",\"OUTERING ROAD\",\"KANGUNDO MACHAKOS\",\"HAILE SELASIE AVENUE\",\"WAIYAKI WAY\",\"JUJA ROAD\",\"MAGADI ROAD\",\"MATISI NZOIA\",\"ISINYA KITENGELA\",\"THIKA MATUU\",\"NAIROBI MOMBASA\",\"MERU MAUA\",\"JOGOO ROAD\",\"EASTERN BY PASS\",\"MBUGUNI CHECK POINT\",\"GATHITHINI LUNATIC\",\"KIAMBU-THIKA\",\"LIMURU RUAKA\",\"NORTHERN BY PASS\",\"KIMILILI-MIIKHU\",\"JOGOO\",\"ELDORET-NAKURU\",\"NAIROBI-NAIVASHA\",\"MUTHURWA ACCESS ROAD\",\"EMBU MANYATTA\",\"NYAMIRA IKONGE\",\"KAKAMEGA WEBUYE\",\"OYUGIS KISUMU\",\"NAIROBI NAIVASHA\",\"KAPLETUNDO CHEBOLE\",\"SIGALAGALA-BUKURA\",\"KARATINA-NYERI\",\"MUTHURWA\",\"NGONG KISERIAN\",\"MOMBASA NAIROBI\",\"MUMBINI WOTE\",\"KANGUNDO ROAD\",\"UGWERI RUNYEJES ROAD\",\"SOUTHERN BY PASS\",\"SOFIA ST BARANABUS CHURCH\",\"EMBU-MERU\",\"NAIROBI-MOMBASA\",\"THIKA-MATUU\",\"OUTERING\",\"NGONG ROAD\",\"NAIROBI MOMBASA\",\"MERU NKUBU\",\"JOGOO ROAD\",\"NANYUKI BARAKA\",\"NAIROBI THIKA\",\"WAIYAKI WAY\",\"THOGOTO GIKAMBURA\",\"NAIROBI THIKA SERVICE LANE\",\"GIKAMBURA NDEIYA ROAD\",\"FLYOVER NJAMBINI ROAD\",\"MOLO TOWNSHIP\",\"MAI MAHIU\",\"NAKURU ELEMENTAITA\",\"NGONG ROAD\",\"BUTULA-MUMIAS\",\"KIVAA-EMBU\",\"FIRST AVENUE\",\"MOMBASA ROAD\",\"MAAI-MAHIU NAIVASHA\",\"KEROKA-NYANGUSU\",\"NYAMIRA-MIRUKA RD\",\"TOM MBOYA STREET\",\"MATUU-MWINGI\",\"LUANDA-MAJENGO\",\"NAKURU-RAVINE\",\"MBITA-HOMABAY\",\"SOUTHERN BY-PASS\",\"KOMBO MUNYIRI RD\",\"TAGWA-NDATHI MURRAM ROAD\",\"NAKURU-ELDORET\",\"KAHAGAINI\",\"KENDU BAY TOWN SHIP\",\"NAIROBI MOMBASA ROAD\",\"KASIGU-MAUNGU\",\"ITEN-KARBANET\",\"NAIROBI-MOMBASA\",\"KENYATTA AVENUE\",\"MOGOMBO-KEMERA\",\"EASTERN BY PASS\",\"OUTERING ROAD\",\"NAIROBI MOMBASA ROAD\",\"FIRST AVENUE\",\"MAKUTANO SAGANA\",\"OLKALAU NYAHURURU\",\"BOMET KAPLONG\",\"NYAMIRA KISII\",\"MOMBASA -NAIROBIU\",\"KIVAA-KIRITIRI\",\"NAIVASHA ROAD\",\"ITEN ELDORET\",\"ELDORET KAPSABET\",\"WAIYAKI WAY\",\"NAIROBI MOMBASA\",\"KISII KEROKA\",\"NAIROBI NAIVASHA\",\"NYERI MATHARI\",\"MUMIAS KAKAMEGA\",\"MAGADI ROAD\",\"KANGUNDO ROAD\",\"UHURU HIGHWAY\",\"KAJIADO ISINYA\",\"LIKONI UKUNDA\",\"KISII KISUMU\",\"ELDORET BUNGOMA\",\"KANGUNDO ROAD\",\"NAIROBI-NAKURU\",\"KITUI-KANYONYO\",\"KIAMBU-RUIRU\",\"WAIYAKI WAY\",\"WAIYAKI WAY\",\"KATHENGE SIAKAGO\",\"SOUTHERN BY PASS\",\"KIAMBU ROAD\",\"NAROK MAI MAHIU\",\"BISMAK MURRAM ROAD\",\"JOGOO ROAD\",\"NAIROBI NAKURU\",\"LUNGALUNGA ROAD\",\"OUTERING ROAD\",\"KAVIANI SAIKONI\",\"MERU EMBU\",\"BOMET-NAROK\",\"NORTH AIRPORT ROAD\",\"NAROK MAI MAHIU\",\"KISUMU NAIROBI\",\"NYAHURURU DESTINATION\",\"KHAYEGA-SHINYALU\",\"NAIROBI-MOMBASA\",\"BANANA-KIAMBU\",\"NAIROBI-MOMBASA\",\"NAIROBI-NAKURU\",\"BUNGOMA-WEBUYE\",\"NAKURU-SUBUKIA\",\"THIKA SUPERHIGHWAY\",\"WAIYAKI WAY\",\"KERICHO- KISUMU\",\"LWANDETI LUGARI\",\"NDUNYU MUNYANGE\",\"MAGADI\",\"CHINGA GAKURU\",\"WAIYAKI WAY\",\"MULTIPLE HAULIERS ROAD\",\"KATITU KENDU BAY\",\"SHILONGO FUVARE MURRAM ROAD\",\"KHAYEGA SHINYALU\",\"WAIYAKI WAY\",\"EKERO EBUHANGA\",\"KENDU BAY-KATITO\",\"WAIYAKI WAY\",\"MATHIORA ROAD\",\"NYAMIRA KISII ROAD\",\"THIKA SUPERHIGHWAY\",\"JOGOO ROAD\",\"MARIGAT- MOGOTIO\",\"ELDORET - KITALE\",\"KARARTINA- KIMABARA\",\"MOMBASA- KILIFI\",\"THIKA SUPERHIGHWAY\",\"KISUMU- NAIROBI\",\"THIKA SUPERHIGHWAY\",\"KINAMBA- NYAHURURU\",\"NAMANGA- KAJIADO\",\"MAI MAHIU- NAIVASHA\",\"MACHAKOS-HUDUMA CENTRE\",\"KITALE-WEBUYE\",\"MOMBASA ROAD\",\"EMBU- SIAKAGO\",\"THIKA SUPERHIGHWAY\",\"KANDARA- KITHIMA\",\"ELDORET NAKURU\",\"ELDORET NAKURU\",\"NORTH AIRPORT\",\"KIKUYU-WANGIGE\",\"LOWER KABETE\",\"WAIYIAKI WAY\",\"ITURAMIRO-KIBIRU MURRAM ROAD\",\"MATUU-THIKA\",\"ELDORET NAKURU\",\"MERU-CHUKA\",\"NAIROBI-NAIVASHA\",\"MALINDI-LAMU\",\"NAIROBI-MOMBASA\",\"KANGUNDO ROAD\",\"KAKAMEGA-KISUMU\",\"MACHARIA ROAD\",\"KIRINYAGA-KUTUS\",\"LIMURU-KUTUS\",\"KENOL-MURANGA\",\"NYERI-GATHUTHI\",\"KAKAMEGA-WEBUYE\",\"MALINDI-LAMU\",\"UHURU HIGHWAY\",\"NYERI NYAHURURU\",\"TALAI KAPTUM MURRAM ROAD\",\"EMBU MERU\",\"NAROK MAIMAHIU\",\"ISIOLO MARSABIT\",\"NAKURU- ELDORET\",\"NAIVASHA NAIROBI\",\"NAIROBI MOMBASA\",\"EMBU- KIVAA\",\"PLATEAU GIRLS HIGH SCHOOL\",\"KIAMBU WEST\",\"KERICHO LETAIN\",\"MOMBASA\",\"SAGANA-KARATINA\",\"SOTIK-NAROK\",\"KAPSABET-CHAVAKALI\",\"KISII-KILGORIS\",\"NYERI-KARATINA\",\"NORTHERN BY PASS ROAD\",\"OLKALOU-NYAHURURU ROAD\",\"BUNGOMA-MALABA\",\"WAIYAKI WAY\",\"KANGUNDO RD\",\"KALOLENI- MAZERAS RD\",\"NAIROBI-TALA ROAD\",\"MURANGA RD\",\"BONDO-KISUMU\",\"KINDU-BAY KATITU\",\"NYABOHANSE KOMOMWAMU\",\"KENOL MAKUTANO\",\"NORTHEN BY PASS\",\"NAIROBI NAIVASHA\",\"MATUU THIKA\",\"SESSI\",\"BUNGOMA WEBUYE\",\"WAIYAKI WAY\",\"BOMET -NAROK\",\"RONGO- AWENDO\",\"WAIYAKI WAY\",\"MWEA EMBU\",\"TAWA KALAWANI\",\"KISUMU TOWNSHIP\",\"MOMBASA ROAD\",\"MURANG'A ROAD\",\"LIMURU KWABIRA\",\"SOUTHERN BY PASS\",\"MOMBASA ROAD\",\"KIKUYU-DAGORETTI\",\"HOMABAY-KENDU BAY\",\"ELBURGON NJORO\",\"NAIVASHA KINANGOP\",\"THIKA GATANGA\",\"EMINING-OTERIT RD\",\"NTIMARU-KEHANCHA\",\"THIKA RD\",\"MOMBASA ROAD\",\"THIKA SUPERHIGHWAY\",\"KIRITIRI KITHOGONDO\",\"MOMBASA NAIROBI\",\"NAKURU-ELDORET\",\"RONALD NGALA\",\"LANDHIES\",\"SIAYA-LUANDA\",\"MANG'U FLYOVER\",\"OUTERING\",\"KIMONGORO\\u002fKANUNI\",\"NAIROBI-NAIVASHA\",\"THIKA-NAIROBI\",\"THIKA-GARISSA\",\"GAITU KARIENE\",\"GITHUNGURI-KIAMBU\",\"AHERO-AWASI\",\"SOUTHERN BYPASS\",\"MURANG'A ROAD\",\"NAIVASHA-MAI MAHIU\",\"MOMBASA-NAIROBI\",\"NORTHERN BYPASS\",\"NAIVASHA NAIROBI\",\"NAIROBI LIMURU\",\"KITALE WEBUYE\",\"ELDORET KITALE\",\"NAIROBI THIKA\",\"CHUKA MERU\",\"GATANGA NDAKANI\",\"NAIROBI MOMBASA\",\"SOWETO JACARANDA\",\"MOMBASA ROAD\",\"RWATHIA MIHUTI\",\"WAIYAKI WAY\",\"THIKA MWINGI\",\"OUTERING ROAD\",\"MWIKI\",\"NAKURU-NAIROBI\",\"GATUNDU KENYATTA\",\"EMBU KIBUGU\",\"KILOME\",\"MOMBASA ROAD\",\"MOMBASA ROAD\",\"NAIVASHA-NAIROBI\",\"KAPSABET-CHAVAKALI\",\"MACHAKOS-KANGUNDO\",\"KENYATTA STREET\",\"THIKA-MATUU\",\"THIKA-super highway\",\"ELDORET- NAKURU\",\"NAIROBI-MOMBASA\",\"THIKA ROAD\",\"KAKAMEGA-WEBUYE\",\"MFUDUDU\",\"ELDORET-NAKURU\",\"WAIYAKI WAY\",\"ELDORET-MALABA\",\"NAKURU- ELDORET\",\"MURANG'A- KAMBIRWA\",\"MOMBASA-NAIROBI\",\"MOMBASA ROAD\",\"LIKONI- UKUNDA\",\"MURANDI\",\"KERUGOYA-KUTUS\",\"NORTH VIEW\",\"KATITU-KENDUBAY\",\"RUTHIGITI- KAMANGU\",\"OUTERING\",\"KAPSABET ELDORET\",\"RONALD NGALA\",\"MACHAKOS WOTE\",\"BONDO SIAYA\",\"KAGUMO KERUGOYA\",\"NYHURURU NYERI\",\"LANGATA ROAD\",\"NAIROBI MOMBASA\",\"THIKA\",\"SAWAWA BURUNDU\",\"NAIROBI MOMBASA\",\"NAIROBI MOMBASA\",\"MOI DRIVE\",\"NAIROBI MOMBASA\",\"NORTHERN BYPASS\",\"SHIBULI BUKURA ROAD\",\"GILGIL NAKURU\",\"GILGIL NAKURU\",\"KISII KILGORIS\",\"NAIVASHA NAIROBI\",\"MOGOTIO MARIGAT\",\"NAIROBI MOMBASA\",\"LUSAKA ROAD\",\"PARKLANDS ROAD\",\"KEROKA NYANGUSU\",\"OKAME BUTEBA MURRAM ROAD\",\"KABATI-KITUI\",\"NYERERE AVENUE\",\"SABATIA - SHIADA\",\"GLOBE ROUND ABOUT SLIP ROAD\",\"THIKA SUPERHIGH WAY\",\"SYAPEI-SANKALE MURRAM ROAD\",\"NYERERE ROAD\",\"KALOLENI-MARIAKANI\",\"KANYONYO-EMBU\",\"MOMBASA-NAIROBI\",\"NAKURU- NAIROBI\",\"KENEGUT KAPSOIT\",\"NAROK-MAIMAHIU\",\"SAGANA-MAKUTANO-KENOL RD\",\"SAGANA-MAKUTANO-KENOL RD\",\"NAKURU-NAIROBI\",\"THIKA SUPER HIGHWAY\",\"NYERI-IHURURU\",\"SAB ATIA EKERO RD\",\"MOGOTHE KIRIMA\",\"KABIYET KURGONG-KIPKAREN SALIA RD\",\"KABIYET KURGONG-KIPKAREN SALIA RD\",\"NAKURU-ELEMENTAITA\",\"NGARATUK O-SIBILO\",\"MARIGAT-LOBOI\",\"NYAHURURU BOIMAN RD\",\"KIRIANE MUTINDWA ROAD\",\"ILL OUT AREA\",\"MACHAKOS-KYUMBI\",\"KENDU BAY\\u002f HOMA BAY RD\",\"ELDORET NAKURU\",\"EMBU-KIBUGU\",\"LOWER KABETE\",\"MOMBASA RD\",\"NAROK- BOMET\",\"NYERI - THIKA\",\"OLKALOU-KARIAMU\",\"KILIFI-MOMBASA\",\"GATUNDU RD\",\"KILIIFI-DIANI\",\"KISUMU-NAIROBI\",\"MITUNGUU-NKUBU\",\"LIKONI ROAD\",\"NAIROBI-KANGUNDO\",\"KANGUNDO ROAD\",\"KENOL-MURANG'A\",\"WEBUYE -ELDORET\",\"BOMET NAROK\",\"ELEMENTAITA-JOGOO\",\"KEROKA-KISII\",\"EKERO-SABATIA\",\"EKERO-SABATIA\",\"MAKENJI-MURUKA\",\"PROF.WANGARI MATHAI\",\"SAGANA-MAKUTANO\",\"SAGANA-MAKUTANO\",\"AWENDO - RONGO\",\"KATITO KEMDUBAY\",\"KATITO KEMDUBAY\",\"KATITO KEMDUBAY\",\"KAKAMEGA-WEBUYE\",\"KAKAMEGA-WEBUYE\",\"WEBUYE-KITALE\",\"KENOL-MAKUTANO\",\"NAIROBI- NAIVASH\",\"OLD MOIYNE DRIVE\",\"WEBUYE-KITALE\"],\"lat\":[-0.3929174,null,null,null,-0.3737015,-1.6587034,-0.7593291,-0.7593291,-1.4329201,-0.6894317,null,null,null,null,null,null,null,null,-0.7792123,null,-4.0303069,null,null,null,null,-4.0816185,null,-1.1640777,-0.9370881,-0.7896904,null,null,0.012019,0.4925671,-0.695505,null,null,null,-0.3737015,null,null,null,null,null,-0.9827242,null,0.5192102,null,null,-0.9079812,-0.2951904,-1.4227764,-2.0874232,-2.293051,null,null,-1.34886555,null,null,null,null,null,null,-1.3412958,null,null,null,-0.6447634,-3.2073392,-3.3902399,null,null,null,-0.2951904,null,null,-4.3587524,null,null,null,null,null,-0.3800622,null,null,-0.6970916,0.6083286,-3.40316235,-0.695505,-0.2070688,null,null,null,null,-0.161399,null,-1.8403945,-1.52115895,null,-1.4329201,-2.293051,null,-0.5492057,null,-1.6919434,null,-1.174179,-1.3378713,-1.2814286,null,null,0.04472395,null,null,null,-1.4329201,-0.7792123,null,-0.38305655,-0.33817865,null,-0.4171483,-0.6247428,null,-1.34886555,-1.34886555,null,0.28062825,null,-0.2951904,null,-1.2959114,-0.4202631,null,null,-0.1685525,null,-0.4911735,0.4806329,-1.4387372,null,-1.3972454,null,-0.2070688,null,null,null,null,null,null,-1.4329201,-1.4329201,-1.4329201,-0.0825319,null,null,-0.33817865,-1.4329201,null,null,-0.2070688,null,null,null,-1.4329201,-1.4329201,null,null,-0.5492057,-0.5492057,-1.1471554,null,null,null,-3.3902399,null,null,-0.2844591,null,-0.2951904,0.2118838,-0.2951904,-0.7792123,-0.33974275,-1.2903499,0.781424,-4.3587524,-2.293051,0.9176042,null,-1.4388083,null,null,null,null,-1.4294598,-0.2951904,null,null,null,-0.3929174,null,-0.075275,null,null,null,null,null,null,-0.5962927,-1.7875025,-3.9184063,-0.075275,null,null,null,-0.7792123,null,null,null,null,null,-1.4681548,null,null,-0.9370881,null,null,-0.075275,null,null,0.9176042,-3.2073392,null,null,-0.6970916,0.3426653,0.0184375,null,null,null,null,null,0.9821366,null,-0.6597847,-0.075275,-1.2444665499999998,null,-0.3929174,null,-1.3220535,null,null,-2.5426071,null,null,null,null,0.826582,null,-1.2609709,-0.6447634,null,null,null,null,null,null,-0.1522016,null,null,-1.7834076,null,null,null,null,null,null,-0.1522016,null,-2.293051,null,null,-0.4796554,0.0143297,null,null,null,-0.5194134,-3.3056047,-0.7792123,-0.8419232,-0.4911735,-0.6447634,-0.7586352999999999,null,-1.3703757,-0.6956594,0.2118838,null,-0.275433,null,null,null,-0.4474786,null,null,null,-3.312777,-0.075275,null,null,-1.2843286,null,-0.4830827,null,-1.2893319,null,null,0.9821366,-0.7792123,-0.075275,null,null,-0.7163256,-2.293051,null,-0.09166105,null,0.28062825,-0.6970916,null,null,null,-0.075275,1.2571813,null,-0.2737497,0.4925671,0.048529,null,null,null,null,null,-3.312777,null,null,null,null,-3.3829578,null,-1.1899201,null,null,0.5187867,null,null,null,-1.05709785,3.51590545,null,-1.2784631,null,null,-1.1899201,null,null,null,0.0143297,-4.0303069,null,-1.3972454,null,null,null,0.0143297,null,null,-1.4310397,-1.34886555,null,null,-0.8777293,-0.275433,null,null,-0.33974275,-1.23870265,null,null,null,0.28062825,1.7507515,-1.2944158,-3.3902399,null,null,null,-0.075275,null,-0.1681165,null,null,null,-0.09166105,null,null,null,null,null,null,null,null,null,null,0.28062825,-1.3412958,-0.33817865,-0.33817865,null,null,-0.7792123,null,0.5187867,null,null,-1.2944158,-2.293051,null,-3.2073392,-0.3929174,null,null,null,0.6058488,-1.2959114,null,0.2118838,null,-3.98901585,null,null,-1.1706102,null,null,-1.7875025,null,null,null,-0.4854847,null,null,null,null,null,0.5187867,null,null,null,null,null,-0.6447634,null,-0.6447634,null,null,-0.0056715,-0.0056715,null,null,null,-0.1681165,null,null,-1.7875025,null,null,null,null,null,null,null,-0.4796554,-1.5251599,null,-3.3902399,-3.3902399,null,null,-2.293051,null,null,null,null,null,null,null,null,-0.3790417,null,null,-0.5962927,0.0143297,-0.0833423,-0.0833423,0.6083286,0.6083286,-0.0801361,null,-0.107863,-0.107863,-0.09166105,null,null,null,null,null,null,-0.1522016,-0.4474786,null,null,null,-0.3159438,-0.1522016,-0.1522016,null,null,null,-0.0056715,-0.0056715,null,null,-0.33817865,null,null,null,-3.9184063,null,null,-2.293051,null,null,null,null,null,-0.3815521,null,null,null,null,-1.3138525,null,0.3426653,0.3426653,null,null,-4.0825235,0.3426653,null,null,-0.5962927,null,-2.5426071,-1.3972454,null,-0.49595095,null,null,null,0.311285,0.7598046,null,null,null,0.2118838,null,null,-2.293051,0.3426653,null,-0.6956594,null,0.2118838,-0.33817865,null,null,0.1953412,null,-0.4855564,-0.09166105,null,null,null,null,-3.7802457,-1.4725547,null,-0.075275,-1.4329201,null,null,null,null,null,null,null,0.0143297,null,-0.7792123,null,-1.1339023,null,-2.293051,-0.1753726,null,null,null,null,null,null,null,null,-1.5214102,null,null,null,-1.3412958,null,null,null,-0.7792123,null,-1.4329201,null,null,null,null,0.9821366,null,null,null,-0.0056715,null,null,0.0790474,null,null,null,-0.9370881,null,-1.2609709,null,null,-1.2609709,null,null,null,null,null,null,null,null,null,-1.52115895,null,null,-0.6970916,-0.4202631,0.9821366,-1.2843286,0.18096665,-3.8694593,-0.5962927,0.0790474,null,null,-0.194736,0.2493025,null,null,-1.2609709,-0.715002,-1.21628525,-0.9370881,-1.2565928,null,null,-0.37930875,null,null,-3.3902399,null,-1.4294598,-1.02355675,-1.2944158,null,null,null,null,-0.4336635,3.5063988,null,null,null,null,null,null,null,null,null,null,null,null,null,-0.107863,-0.5492057,null,0.6210586,0.4806329,null,null,-0.8419232,0.04472395,0.04472395,null,null,-1.7632794,null,null,0.048529,-3.3902399,0.0143297,null,null,null,-1.34886555,null,null,-0.6247428,null,null,0.0790474,null,null,-0.6603479,null,null,null,null,null,null,-0.0056715,-0.6447634,-0.6970916,-2.293051,3.5063988,null,null,null,null,-1.018477,null,null,null,null,null,null,null,null,null,-0.1496143999999999,null,null,-1.2595706,-0.9370881,null,null,null,null,-1.4329201,null,-0.9547169,null,0.0790474,null,-1.34886555,null,null,null,null,null,null,-1.2667081,0.4614376,null,0.2118838,-0.2963279,null,-0.107863,0.3426653,0.3426653,null,0.6083286,null,null,-0.2070688,null,null,-3.7802457,-3.7802457,null,null,null,null,null,null,null,null,null,null,-1.1462590499999998,-1.335386,null,null,null,null,null,null,null,null,-1.329545,-0.2070688,null,null,null,null,-1.2609709,null,-0.3800622,null,null,-0.7760634,-3.3902399,-0.6447634,-1.3167715,null,-3.8657693,-0.6597847,null,null,null,null,-0.2951904,-0.8777293,null,null,null,null,null,null,-1.3412958,null,null,-0.5021753,null,null,-0.715002,null,null,null,null,0.6083286,-0.2951904,null,-1.3412958,null,null,-0.6447634,null,-1.2814286,-1.3138525,null,null,-0.969162,-0.6894317,-1.3167715,null,null,null,null,-0.4474786,-1.2460486,-0.5087614,-1.3955637,-2.293051,null,null,null,null,-1.2944158,-3.3056047,null,-1.2701292,null,-0.152707,-4.0499082,null,null,-0.7760634,-0.2070688,null,-1.4227764,null,null,null,null,null,null,null,-0.9367776,-0.6847865,null,0.0143297,null,null,null,null,-0.194736,0.048529,null,null,null,null,-0.2951904,-0.8777293,null,0.6083286,null,-1.52115895,0.3426653,0.2118838,null,-0.107863,-1.3412958,null,-4.0265226,-0.7350335,null,null,null,0.6210586,-3.7802457,null,-1.2701292,-0.9840621,null,null,null,null,-0.6956594,-1.1706102,null,null,null,null,-1.3138525,null,-1.2944158,-0.5989371,null,-0.0458168,-1.3412958,null,-1.4329201,null,null,null,null,0.2118838,-3.98901585,null,null,null,null,null,-1.2914523,null,null,null,-1.4329201,-1.3412958,null,-3.312777,-3.995418,null,-0.09166105,null,-1.4329201,null,-0.0825319,null,-0.6845629,-0.6970916,null,null,null,0.012019,null,-1.266418,null,-1.2609709,-1.2701292,-1.3972454,null,null,null,-1.4329201,0.2118838,-1.2944158,-1.1668925,null,null,-1.0459186,null,null,null,null,0.4806329,null,null,-0.152707,null,0.311285,null,null,null,null,-0.4911735,null,-1.3703757,null,null,null,null,null,null,-0.3929174,-2.293051,null,null,-1.3001771,-1.4329201,-0.0253592,null,null,-1.1339023,-1.2609709,-1.2734531,null,null,null,null,-0.9754782,null,-1.3220535,null,null,null,-1.3412958,-1.0601742,null,null,null,null,null,0.048529,null,null,null,null,0.048529,null,null,-2.293051,null,null,null,-1.286072,null,-1.1668925,null,null,null,null,-0.2737497,-0.7935162,-0.7792123,null,null,null,0.5199942,0.2008795,-1.2609709,-1.4329201,-0.7792123,null,null,0.3426653,-1.3972454,null,-1.2930543,-1.4681548,null,-0.4474786,0.6058488,null,-0.2919359,null,-1.1462590499999998,-1.2609709,-1.2609709,null,null,null,null,null,-1.2944158,-0.7158844,null,null,null,0.0533143,-0.7896904,-1.3167715,null,-0.107863,null,0.2062421,null,-1.1736827,null,-0.2951904,0.6083286,0.0190844,null,-1.2609709,-0.33817865,null,null,-1.3972454,null,-1.2609709,null,null,null,0.2062421,-1.2609709,null,-0.3800622,null,null,-0.7792123,null,-1.2944158,0.2493025,null,null,null,null,-0.107863,null,null,-2.5426071,-0.9827242,null,0.7598046,-1.3412958,-0.5374401,null,null,0.048529,0.048529,null,null,-1.258804,null,null,null,null,-0.3343097,null,null,null,null,0.28062825,-1.283633,null,null,null,null,null,null,-1.2930543,-0.0629407,null,-0.3929174,null,0.350935,0.048529,null,-1.34886555,null,null,-1.1706102,null,null,-0.4836521,null,null,null,-0.4911735,null,-0.275433,0.6210586,-1.2609709,null,null,null,-1.2814286,-0.0822136,null,null,null,null,null,null,null,0.6083286,-1.2609709,-0.7896904,null,-1.2609709,null,null,null,null,null,null,null,null,-1.3138818,null,null,null,-1.00473365,null,null,null,-1.3412958,null,null,-1.4329201,0.048529,-4.0432913,null,null,-0.9901743,null,null,null,-1.1339023,-1.05709785,null,-1.0528899,null,-1.317997,-1.2631886,-0.7007123,-3.3902399,-1.1563934,null,null,0.6146888,0.826582,-1.1339023,-0.3343097,null,null,null,-1.3412958,null,-1.2602327,null,null,-1.23242515,-0.6970916,null,null,null,null,null,null,null,-1.266418,1.0156695,null,null,0.0790474,-1.4329201,-1.0426792,0.311285,null,0.048529,-1.2744532,0.5187867,-0.0056715,null,-1.34886555,-1.3412958,-4.0825235,null,-0.49595095,null,null,null,null,0.2008795,-1.2842028,-1.5752815,-0.09166105,-0.4796554,null,-1.3332215,-1.4329201,null,null,-3.3902399,-2.293051,null,-1.4329201,null,null,-0.6447634,-0.6447634,null,null,0.004002,-2.293051,null,null,null,null,-1.3070507,null,null,null,null,null,-1.2879017,-3.8610703,null,null,-0.6970916,-0.2666,null,null,null,-0.2841401,null,null,null,null,null,null,null,null,0.3577165,null,null,null,null,-0.37930875,0.048529,null,null,null,-0.8777293,null,null,-3.7802457,-1.0422328,null,null,null,null,null,null,null,0.5187867,-0.7896904,null,null,0.2551617,0.2551617,null,null,null,null,null,null,null,null,0.311285,0.311285,0.6173604,null,null,null,null],\"legendgroup\":\"\",\"lon\":[37.5962392,null,null,null,36.9358487,36.86732173057349,37.2810993,37.2810993,36.9669048,34.7765665,null,null,null,null,null,null,null,null,34.9471513,null,39.6218539,null,null,null,null,39.6630562,null,36.9574272,38.0666144,35.3462624,null,null,37.0765773,35.7413965,35.0911576,null,null,null,36.9358487,null,null,null,null,null,36.5856896,null,35.9870136,null,null,34.53172,36.1080544,36.9496956,37.4807837,37.8389457,null,null,36.90291346824737,null,null,null,null,null,null,36.8994176,null,null,null,36.4036466,40.11627934584648,38.5814514,null,null,null,36.1080544,null,null,39.5621705,null,null,null,null,null,34.6356024,null,null,36.4273971,34.7711026,38.3638204,35.0911576,35.8513726,null,null,null,null,35.0740755,null,36.7932051,37.24146079115455,null,36.9669048,37.8389457,null,36.9455272,null,40.1744045,null,36.9772517,36.7152106,36.8223701,null,null,37.136693300000005,null,null,null,36.9669048,34.9471513,null,37.01753216725984,35.32511990624269,null,36.9608652,34.5014882,null,36.90291346824737,36.90291346824737,null,34.75949365334672,null,36.1080544,null,36.9416222,36.9460082,null,null,35.0809738,null,37.1044108,35.3027861,36.9672368,null,36.7568931,null,35.8513726,null,null,null,null,null,null,36.9669048,36.9669048,36.9669048,34.7744512,null,null,35.32511990624269,36.9669048,null,null,35.8513726,null,null,null,36.9669048,36.9669048,null,null,36.9455272,36.9455272,36.6657666,null,null,null,38.5814514,null,null,36.0691126,null,36.1080544,37.7913694,36.1080544,34.9471513,35.94183385035119,36.9726714,34.7787747,39.5621705,37.8389457,35.0903723,null,36.6892371,null,null,null,null,36.688214,36.1080544,null,null,null,37.5962392,null,34.71557,null,null,null,null,null,null,34.8030297,37.6262183,38.6711174,34.71557,null,null,null,34.9471513,null,null,null,null,null,36.73762138624899,null,null,38.0666144,null,null,34.71557,null,null,35.0903723,40.11627934584648,null,null,36.4273971,34.4909114,36.466155,null,null,null,null,null,35.0351523,null,35.1697227,34.71557,36.80399860277835,null,37.5962392,null,36.7073809,null,null,36.7910722,null,null,null,null,35.1221924,null,36.7158392,36.4036466,null,null,null,null,null,null,35.6060996,null,null,37.6227581,null,null,null,null,null,null,35.6060996,null,37.8389457,null,null,37.2338803,34.6009777,null,null,null,37.2677171,40.014768,34.9471513,34.9353299,37.1044108,36.4036466,36.355376913802814,null,36.6686942,35.1396726,37.7913694,null,36.3771625,null,null,null,34.8888707,null,null,null,39.9912375,34.71557,null,null,36.9037616,null,37.1278945,null,36.7176071,null,null,35.0351523,34.9471513,34.71557,null,null,34.6539554,37.8389457,null,34.2538887689834,null,34.75949365334672,36.4273971,null,null,null,34.71557,35.0933211,null,36.3743516,35.7413965,35.72403157313033,null,null,null,null,null,39.9912375,null,null,null,null,38.5766315,null,36.7735154,null,null,35.273937694163195,null,null,null,37.136123522858654,39.05841842957835,null,36.751643,null,null,36.7735154,null,null,null,34.6009777,39.6218539,null,36.7568931,null,null,null,34.6009777,null,null,36.9636835,36.90291346824737,null,null,35.3973833,36.3771625,null,null,35.94183385035119,36.83260481794862,null,null,null,34.75949365334672,40.0573041,36.852019,38.5814514,null,null,null,34.71557,null,35.5867659,null,null,null,34.2538887689834,null,null,null,null,null,null,null,null,null,null,34.75949365334672,36.8994176,35.32511990624269,35.32511990624269,null,null,34.9471513,null,35.273937694163195,null,null,36.852019,37.8389457,null,40.11627934584648,37.5962392,null,null,null,34.7268766,36.9416222,null,37.7913694,null,39.73742096739316,null,null,36.947974825,null,null,37.6262183,null,null,null,38.2611537,null,null,null,null,null,35.273937694163195,null,null,null,null,null,36.4036466,null,36.4036466,null,null,35.5643937,35.5643937,null,null,null,35.5867659,null,null,37.6262183,null,null,null,null,null,null,null,37.2338803,37.2753735,null,38.5814514,38.5814514,null,null,37.8389457,null,null,null,null,null,null,null,null,39.712312,null,null,34.8030297,34.6009777,34.7751861,34.7751861,34.7711026,34.7711026,34.7749387,null,34.7699905,34.7699905,34.2538887689834,null,null,null,null,null,null,35.6060996,34.8888707,null,null,null,34.8906945,35.6060996,35.6060996,null,null,null,35.5643937,35.5643937,null,null,35.32511990624269,null,null,null,38.6711174,null,null,37.8389457,null,null,null,null,null,35.6916672,null,null,null,null,36.86840130945822,null,34.4909114,34.4909114,null,null,39.6555585,34.4909114,null,null,34.8030297,null,36.7910722,36.7568931,null,37.27539281419621,null,null,null,34.7749359,34.7863466,null,null,null,37.7913694,null,null,37.8389457,34.4909114,null,35.1396726,null,37.7913694,35.32511990624269,null,null,34.7598999,null,36.9561435,34.2538887689834,null,null,null,null,39.2078165,36.9592604,null,34.71557,36.9669048,null,null,null,null,null,null,null,34.6009777,null,34.9471513,null,36.97168705269428,null,37.8389457,34.9338649,null,null,null,null,null,null,null,null,37.337193,null,null,null,36.8994176,null,null,null,34.9471513,null,36.9669048,null,null,null,null,35.0351523,null,null,null,35.5643937,null,null,35.5399856,null,null,null,38.0666144,null,36.7158392,null,null,36.7158392,null,null,null,null,null,null,null,null,null,37.24146079115455,null,null,36.4273971,36.9460082,35.0351523,36.9037616,34.29674043984548,39.478738,34.8030297,35.5399856,null,null,35.7191035,35.8985379,null,null,36.7158392,37.6540048,36.895948456992656,38.0666144,36.9277538,null,null,34.65181301457102,null,null,38.5814514,null,36.688214,36.64245654514453,36.852019,null,null,null,null,37.6188974,38.746254,null,null,null,null,null,null,null,null,null,null,null,null,null,34.7699905,36.9455272,null,34.6989872,35.3027861,null,null,34.9353299,37.136693300000005,37.136693300000005,null,null,37.5793952,null,null,35.72403157313033,38.5814514,34.6009777,null,null,null,36.90291346824737,null,null,34.5014882,null,null,35.5399856,null,null,37.5872822,null,null,null,null,null,null,35.5643937,36.4036466,36.4273971,37.8389457,38.746254,null,null,null,null,36.6023691,null,null,null,null,null,null,null,null,null,34.92631210197866,null,null,36.8619212,38.0666144,null,null,null,null,36.9669048,null,34.51233138649784,null,35.5399856,null,36.90291346824737,null,null,null,null,null,null,36.9894393,34.335262,null,37.7913694,36.0434632,null,34.7699905,34.4909114,34.4909114,null,34.7711026,null,null,35.8513726,null,null,39.2078165,39.2078165,null,null,null,null,null,null,null,null,null,null,36.914699316334136,36.6726399,null,null,null,null,null,null,null,null,36.8857252,35.8513726,null,null,null,null,36.7158392,null,34.6356024,null,null,37.51955017232456,38.5814514,36.4036466,36.9226644,null,39.4712222,35.1697227,null,null,null,null,36.1080544,35.3973833,null,null,null,null,null,null,36.8994176,null,null,37.2793885,null,null,37.6540048,null,null,null,null,34.7711026,36.1080544,null,36.8994176,null,null,36.4036466,null,36.8223701,36.86840130945822,null,null,36.6018936,34.7765665,36.9226644,null,null,null,null,34.8888707,36.6798807,34.7349394,36.7622239,37.8389457,null,null,null,null,36.852019,40.014768,null,36.8375474,null,37.3092138,39.651592,null,null,37.51955017232456,35.8513726,null,36.9496956,null,null,null,null,null,null,null,35.433897434692526,36.9642477,null,34.6009777,null,null,null,null,35.7191035,35.72403157313033,null,null,null,null,36.1080544,35.3973833,null,34.7711026,null,37.24146079115455,34.4909114,37.7913694,null,34.7699905,36.8994176,null,39.600720714576624,36.4554219,null,null,null,34.6989872,39.2078165,null,36.8375474,37.0212087,null,null,null,null,35.1396726,36.947974825,null,null,null,null,36.86840130945822,null,36.852019,36.0087982,null,35.6387432,36.8994176,null,36.9669048,null,null,null,null,37.7913694,39.73742096739316,null,null,null,null,null,36.87972307295472,null,null,null,36.9669048,36.8994176,null,39.9912375,39.7048159,null,34.2538887689834,null,36.9669048,null,34.7744512,null,36.952322725972415,36.4273971,null,null,null,37.0765773,null,37.3199523,null,36.7158392,36.8375474,36.7568931,null,null,null,36.9669048,37.7913694,36.852019,36.9649772,null,null,37.0851322,null,null,null,null,35.3027861,null,null,37.3092138,null,34.7749359,null,null,null,null,37.1044108,null,36.6686942,null,null,null,null,null,null,37.5962392,37.8389457,null,null,36.7740645,36.9669048,37.6621691,null,null,36.97168705269428,36.7158392,36.6580436,null,null,null,null,36.5786864,null,36.7073809,null,null,null,36.8994176,36.53652948386092,null,null,null,null,null,35.72403157313033,null,null,null,null,35.72403157313033,null,null,37.8389457,null,null,null,36.8181876,null,36.9649772,null,null,null,null,36.3743516,35.3477879,34.9471513,null,null,null,35.2764531,35.0838016,36.7158392,36.9669048,34.9471513,null,null,34.4909114,36.7568931,null,36.8206895,36.73762138624899,null,34.8888707,34.7268766,null,36.1204665,null,36.914699316334136,36.7158392,36.7158392,null,null,null,null,null,36.852019,36.4438122,null,null,null,37.6446573,35.3462624,36.9226644,null,34.7699905,null,34.7731363,null,36.7575458,null,36.1080544,34.7711026,36.2633888,null,36.7158392,35.32511990624269,null,null,36.7568931,null,36.7158392,null,null,null,34.7731363,36.7158392,null,34.6356024,null,null,34.9471513,null,36.852019,35.8985379,null,null,null,null,34.7699905,null,null,36.7910722,36.5856896,null,34.7863466,36.8994176,37.4521961,null,null,35.72403157313033,35.72403157313033,null,null,36.66320437523874,null,null,null,null,37.6460399,null,null,null,null,34.75949365334672,36.7528628,null,null,null,null,null,null,36.8206895,36.5299943,null,37.5962392,null,37.5823974,35.72403157313033,null,36.90291346824737,null,null,36.947974825,null,null,37.1309776,null,null,null,37.1044108,null,36.3771625,34.6989872,36.7158392,null,null,null,36.8223701,34.4519872,null,null,null,null,null,null,null,34.7711026,36.7158392,35.3462624,null,36.7158392,null,null,null,null,null,null,null,null,36.7008996,null,null,null,37.10723126392076,null,null,null,36.8994176,null,null,36.9669048,35.72403157313033,39.6642561,null,null,36.9513998,null,null,null,36.97168705269428,37.136123522858654,null,36.63178541376447,null,36.7877144,36.8392624,36.4298245,38.5814514,36.9251615,null,null,34.7684509,35.1221924,36.97168705269428,37.6460399,null,null,null,36.8994176,null,36.7096724,null,null,36.93286625522929,36.4273971,null,null,null,null,null,null,null,37.3199523,35.0028597,null,null,35.5399856,36.9669048,37.0614092,34.7749359,null,35.72403157313033,36.8120971,35.273937694163195,35.5643937,null,36.90291346824737,36.8994176,39.6555585,null,37.27539281419621,null,null,null,null,35.0838016,36.8310554,37.2468361,34.2538887689834,37.2338803,null,36.7811859,36.9669048,null,null,38.5814514,37.8389457,null,36.9669048,null,null,36.4036466,36.4036466,null,null,35.9498,37.8389457,null,null,null,null,38.340618,null,null,null,null,null,36.8132544,39.4691149,null,null,36.4273971,35.2166,null,null,null,36.1087645,null,null,null,null,null,null,null,null,36.0505094,null,null,null,null,34.65181301457102,35.72403157313033,null,null,null,35.3973833,null,null,39.2078165,36.963167,null,null,null,null,null,null,null,35.273937694163195,35.3462624,null,null,34.5090839,34.5090839,null,null,null,null,null,null,null,null,34.7749359,34.7749359,34.76354,null,null,null,null],\"marker\":{\"color\":\"#636efa\",\"symbol\":\"circle\"},\"mode\":\"markers\",\"name\":\"\",\"showlegend\":false,\"type\":\"scattergeo\"}],                        {\"template\":{\"data\":{\"histogram2dcontour\":[{\"type\":\"histogram2dcontour\",\"colorbar\":{\"outlinewidth\":0,\"ticks\":\"\"},\"colorscale\":[[0.0,\"#0d0887\"],[0.1111111111111111,\"#46039f\"],[0.2222222222222222,\"#7201a8\"],[0.3333333333333333,\"#9c179e\"],[0.4444444444444444,\"#bd3786\"],[0.5555555555555556,\"#d8576b\"],[0.6666666666666666,\"#ed7953\"],[0.7777777777777778,\"#fb9f3a\"],[0.8888888888888888,\"#fdca26\"],[1.0,\"#f0f921\"]]}],\"choropleth\":[{\"type\":\"choropleth\",\"colorbar\":{\"outlinewidth\":0,\"ticks\":\"\"}}],\"histogram2d\":[{\"type\":\"histogram2d\",\"colorbar\":{\"outlinewidth\":0,\"ticks\":\"\"},\"colorscale\":[[0.0,\"#0d0887\"],[0.1111111111111111,\"#46039f\"],[0.2222222222222222,\"#7201a8\"],[0.3333333333333333,\"#9c179e\"],[0.4444444444444444,\"#bd3786\"],[0.5555555555555556,\"#d8576b\"],[0.6666666666666666,\"#ed7953\"],[0.7777777777777778,\"#fb9f3a\"],[0.8888888888888888,\"#fdca26\"],[1.0,\"#f0f921\"]]}],\"heatmap\":[{\"type\":\"heatmap\",\"colorbar\":{\"outlinewidth\":0,\"ticks\":\"\"},\"colorscale\":[[0.0,\"#0d0887\"],[0.1111111111111111,\"#46039f\"],[0.2222222222222222,\"#7201a8\"],[0.3333333333333333,\"#9c179e\"],[0.4444444444444444,\"#bd3786\"],[0.5555555555555556,\"#d8576b\"],[0.6666666666666666,\"#ed7953\"],[0.7777777777777778,\"#fb9f3a\"],[0.8888888888888888,\"#fdca26\"],[1.0,\"#f0f921\"]]}],\"heatmapgl\":[{\"type\":\"heatmapgl\",\"colorbar\":{\"outlinewidth\":0,\"ticks\":\"\"},\"colorscale\":[[0.0,\"#0d0887\"],[0.1111111111111111,\"#46039f\"],[0.2222222222222222,\"#7201a8\"],[0.3333333333333333,\"#9c179e\"],[0.4444444444444444,\"#bd3786\"],[0.5555555555555556,\"#d8576b\"],[0.6666666666666666,\"#ed7953\"],[0.7777777777777778,\"#fb9f3a\"],[0.8888888888888888,\"#fdca26\"],[1.0,\"#f0f921\"]]}],\"contourcarpet\":[{\"type\":\"contourcarpet\",\"colorbar\":{\"outlinewidth\":0,\"ticks\":\"\"}}],\"contour\":[{\"type\":\"contour\",\"colorbar\":{\"outlinewidth\":0,\"ticks\":\"\"},\"colorscale\":[[0.0,\"#0d0887\"],[0.1111111111111111,\"#46039f\"],[0.2222222222222222,\"#7201a8\"],[0.3333333333333333,\"#9c179e\"],[0.4444444444444444,\"#bd3786\"],[0.5555555555555556,\"#d8576b\"],[0.6666666666666666,\"#ed7953\"],[0.7777777777777778,\"#fb9f3a\"],[0.8888888888888888,\"#fdca26\"],[1.0,\"#f0f921\"]]}],\"surface\":[{\"type\":\"surface\",\"colorbar\":{\"outlinewidth\":0,\"ticks\":\"\"},\"colorscale\":[[0.0,\"#0d0887\"],[0.1111111111111111,\"#46039f\"],[0.2222222222222222,\"#7201a8\"],[0.3333333333333333,\"#9c179e\"],[0.4444444444444444,\"#bd3786\"],[0.5555555555555556,\"#d8576b\"],[0.6666666666666666,\"#ed7953\"],[0.7777777777777778,\"#fb9f3a\"],[0.8888888888888888,\"#fdca26\"],[1.0,\"#f0f921\"]]}],\"mesh3d\":[{\"type\":\"mesh3d\",\"colorbar\":{\"outlinewidth\":0,\"ticks\":\"\"}}],\"scatter\":[{\"fillpattern\":{\"fillmode\":\"overlay\",\"size\":10,\"solidity\":0.2},\"type\":\"scatter\"}],\"parcoords\":[{\"type\":\"parcoords\",\"line\":{\"colorbar\":{\"outlinewidth\":0,\"ticks\":\"\"}}}],\"scatterpolargl\":[{\"type\":\"scatterpolargl\",\"marker\":{\"colorbar\":{\"outlinewidth\":0,\"ticks\":\"\"}}}],\"bar\":[{\"error_x\":{\"color\":\"#2a3f5f\"},\"error_y\":{\"color\":\"#2a3f5f\"},\"marker\":{\"line\":{\"color\":\"#E5ECF6\",\"width\":0.5},\"pattern\":{\"fillmode\":\"overlay\",\"size\":10,\"solidity\":0.2}},\"type\":\"bar\"}],\"scattergeo\":[{\"type\":\"scattergeo\",\"marker\":{\"colorbar\":{\"outlinewidth\":0,\"ticks\":\"\"}}}],\"scatterpolar\":[{\"type\":\"scatterpolar\",\"marker\":{\"colorbar\":{\"outlinewidth\":0,\"ticks\":\"\"}}}],\"histogram\":[{\"marker\":{\"pattern\":{\"fillmode\":\"overlay\",\"size\":10,\"solidity\":0.2}},\"type\":\"histogram\"}],\"scattergl\":[{\"type\":\"scattergl\",\"marker\":{\"colorbar\":{\"outlinewidth\":0,\"ticks\":\"\"}}}],\"scatter3d\":[{\"type\":\"scatter3d\",\"line\":{\"colorbar\":{\"outlinewidth\":0,\"ticks\":\"\"}},\"marker\":{\"colorbar\":{\"outlinewidth\":0,\"ticks\":\"\"}}}],\"scattermapbox\":[{\"type\":\"scattermapbox\",\"marker\":{\"colorbar\":{\"outlinewidth\":0,\"ticks\":\"\"}}}],\"scatterternary\":[{\"type\":\"scatterternary\",\"marker\":{\"colorbar\":{\"outlinewidth\":0,\"ticks\":\"\"}}}],\"scattercarpet\":[{\"type\":\"scattercarpet\",\"marker\":{\"colorbar\":{\"outlinewidth\":0,\"ticks\":\"\"}}}],\"carpet\":[{\"aaxis\":{\"endlinecolor\":\"#2a3f5f\",\"gridcolor\":\"white\",\"linecolor\":\"white\",\"minorgridcolor\":\"white\",\"startlinecolor\":\"#2a3f5f\"},\"baxis\":{\"endlinecolor\":\"#2a3f5f\",\"gridcolor\":\"white\",\"linecolor\":\"white\",\"minorgridcolor\":\"white\",\"startlinecolor\":\"#2a3f5f\"},\"type\":\"carpet\"}],\"table\":[{\"cells\":{\"fill\":{\"color\":\"#EBF0F8\"},\"line\":{\"color\":\"white\"}},\"header\":{\"fill\":{\"color\":\"#C8D4E3\"},\"line\":{\"color\":\"white\"}},\"type\":\"table\"}],\"barpolar\":[{\"marker\":{\"line\":{\"color\":\"#E5ECF6\",\"width\":0.5},\"pattern\":{\"fillmode\":\"overlay\",\"size\":10,\"solidity\":0.2}},\"type\":\"barpolar\"}],\"pie\":[{\"automargin\":true,\"type\":\"pie\"}]},\"layout\":{\"autotypenumbers\":\"strict\",\"colorway\":[\"#636efa\",\"#EF553B\",\"#00cc96\",\"#ab63fa\",\"#FFA15A\",\"#19d3f3\",\"#FF6692\",\"#B6E880\",\"#FF97FF\",\"#FECB52\"],\"font\":{\"color\":\"#2a3f5f\"},\"hovermode\":\"closest\",\"hoverlabel\":{\"align\":\"left\"},\"paper_bgcolor\":\"white\",\"plot_bgcolor\":\"#E5ECF6\",\"polar\":{\"bgcolor\":\"#E5ECF6\",\"angularaxis\":{\"gridcolor\":\"white\",\"linecolor\":\"white\",\"ticks\":\"\"},\"radialaxis\":{\"gridcolor\":\"white\",\"linecolor\":\"white\",\"ticks\":\"\"}},\"ternary\":{\"bgcolor\":\"#E5ECF6\",\"aaxis\":{\"gridcolor\":\"white\",\"linecolor\":\"white\",\"ticks\":\"\"},\"baxis\":{\"gridcolor\":\"white\",\"linecolor\":\"white\",\"ticks\":\"\"},\"caxis\":{\"gridcolor\":\"white\",\"linecolor\":\"white\",\"ticks\":\"\"}},\"coloraxis\":{\"colorbar\":{\"outlinewidth\":0,\"ticks\":\"\"}},\"colorscale\":{\"sequential\":[[0.0,\"#0d0887\"],[0.1111111111111111,\"#46039f\"],[0.2222222222222222,\"#7201a8\"],[0.3333333333333333,\"#9c179e\"],[0.4444444444444444,\"#bd3786\"],[0.5555555555555556,\"#d8576b\"],[0.6666666666666666,\"#ed7953\"],[0.7777777777777778,\"#fb9f3a\"],[0.8888888888888888,\"#fdca26\"],[1.0,\"#f0f921\"]],\"sequentialminus\":[[0.0,\"#0d0887\"],[0.1111111111111111,\"#46039f\"],[0.2222222222222222,\"#7201a8\"],[0.3333333333333333,\"#9c179e\"],[0.4444444444444444,\"#bd3786\"],[0.5555555555555556,\"#d8576b\"],[0.6666666666666666,\"#ed7953\"],[0.7777777777777778,\"#fb9f3a\"],[0.8888888888888888,\"#fdca26\"],[1.0,\"#f0f921\"]],\"diverging\":[[0,\"#8e0152\"],[0.1,\"#c51b7d\"],[0.2,\"#de77ae\"],[0.3,\"#f1b6da\"],[0.4,\"#fde0ef\"],[0.5,\"#f7f7f7\"],[0.6,\"#e6f5d0\"],[0.7,\"#b8e186\"],[0.8,\"#7fbc41\"],[0.9,\"#4d9221\"],[1,\"#276419\"]]},\"xaxis\":{\"gridcolor\":\"white\",\"linecolor\":\"white\",\"ticks\":\"\",\"title\":{\"standoff\":15},\"zerolinecolor\":\"white\",\"automargin\":true,\"zerolinewidth\":2},\"yaxis\":{\"gridcolor\":\"white\",\"linecolor\":\"white\",\"ticks\":\"\",\"title\":{\"standoff\":15},\"zerolinecolor\":\"white\",\"automargin\":true,\"zerolinewidth\":2},\"scene\":{\"xaxis\":{\"backgroundcolor\":\"#E5ECF6\",\"gridcolor\":\"white\",\"linecolor\":\"white\",\"showbackground\":true,\"ticks\":\"\",\"zerolinecolor\":\"white\",\"gridwidth\":2},\"yaxis\":{\"backgroundcolor\":\"#E5ECF6\",\"gridcolor\":\"white\",\"linecolor\":\"white\",\"showbackground\":true,\"ticks\":\"\",\"zerolinecolor\":\"white\",\"gridwidth\":2},\"zaxis\":{\"backgroundcolor\":\"#E5ECF6\",\"gridcolor\":\"white\",\"linecolor\":\"white\",\"showbackground\":true,\"ticks\":\"\",\"zerolinecolor\":\"white\",\"gridwidth\":2}},\"shapedefaults\":{\"line\":{\"color\":\"#2a3f5f\"}},\"annotationdefaults\":{\"arrowcolor\":\"#2a3f5f\",\"arrowhead\":0,\"arrowwidth\":1},\"geo\":{\"bgcolor\":\"white\",\"landcolor\":\"#E5ECF6\",\"subunitcolor\":\"white\",\"showland\":true,\"showlakes\":true,\"lakecolor\":\"white\"},\"title\":{\"x\":0.05},\"mapbox\":{\"style\":\"light\"}}},\"geo\":{\"domain\":{\"x\":[0.0,1.0],\"y\":[0.0,1.0]},\"center\":{},\"scope\":\"world\",\"projection\":{\"type\":\"orthographic\"},\"showcountries\":true,\"showland\":true,\"landcolor\":\"lightgray\"},\"legend\":{\"tracegroupgap\":0},\"title\":{\"text\":\"Geographical Distribution of Incidents in Africa\"},\"height\":1000,\"width\":1200},                        {\"responsive\": true}                    ).then(function(){\n",
              "                            \n",
              "var gd = document.getElementById('d295a86e-5d67-4c9f-85f2-2735c3d3a113');\n",
              "var x = new MutationObserver(function (mutations, observer) {{\n",
              "        var display = window.getComputedStyle(gd).display;\n",
              "        if (!display || display === 'none') {{\n",
              "            console.log([gd, 'removed!']);\n",
              "            Plotly.purge(gd);\n",
              "            observer.disconnect();\n",
              "        }}\n",
              "}});\n",
              "\n",
              "// Listen for the removal of the full notebook cells\n",
              "var notebookContainer = gd.closest('#notebook-container');\n",
              "if (notebookContainer) {{\n",
              "    x.observe(notebookContainer, {childList: true});\n",
              "}}\n",
              "\n",
              "// Listen for the clearing of the current output cell\n",
              "var outputEl = gd.closest('.output');\n",
              "if (outputEl) {{\n",
              "    x.observe(outputEl, {childList: true});\n",
              "}}\n",
              "\n",
              "                        })                };                            </script>        </div>\n",
              "</body>\n",
              "</html>"
            ]
          },
          "metadata": {}
        }
      ]
    },
    {
      "cell_type": "code",
      "source": [
        "# Create a bar chart to show the count of incidents by road\n",
        "road_counts = df['Road'].value_counts().reset_index()\n",
        "road_counts.columns = ['Road', 'Incident Count']\n",
        "\n",
        "fig = px.bar(road_counts,\n",
        "             x='Incident Count',\n",
        "             y='Road',\n",
        "             orientation='h',\n",
        "             title='Incidents by Road',\n",
        "             template='plotly_dark',\n",
        "             labels={'Road': 'Road Name', 'Incident Count': 'Number of Incidents'}\n",
        "            )\n",
        "\n",
        "fig.show()"
      ],
      "metadata": {
        "colab": {
          "base_uri": "https://localhost:8080/",
          "height": 542
        },
        "id": "c5a09uUwopOe",
        "outputId": "69513026-06f0-4bf7-e1ed-1e852b606fc2"
      },
      "execution_count": 26,
      "outputs": [
        {
          "output_type": "display_data",
          "data": {
            "text/html": [
              "<html>\n",
              "<head><meta charset=\"utf-8\" /></head>\n",
              "<body>\n",
              "    <div>            <script src=\"https://cdnjs.cloudflare.com/ajax/libs/mathjax/2.7.5/MathJax.js?config=TeX-AMS-MML_SVG\"></script><script type=\"text/javascript\">if (window.MathJax && window.MathJax.Hub && window.MathJax.Hub.Config) {window.MathJax.Hub.Config({SVG: {font: \"STIX-Web\"}});}</script>                <script type=\"text/javascript\">window.PlotlyConfig = {MathJaxConfig: 'local'};</script>\n",
              "        <script charset=\"utf-8\" src=\"https://cdn.plot.ly/plotly-2.24.1.min.js\"></script>                <div id=\"31956447-dd0e-4291-a7d1-2690f20a33b5\" class=\"plotly-graph-div\" style=\"height:525px; width:100%;\"></div>            <script type=\"text/javascript\">                                    window.PLOTLYENV=window.PLOTLYENV || {};                                    if (document.getElementById(\"31956447-dd0e-4291-a7d1-2690f20a33b5\")) {                    Plotly.newPlot(                        \"31956447-dd0e-4291-a7d1-2690f20a33b5\",                        [{\"alignmentgroup\":\"True\",\"hovertemplate\":\"Number of Incidents=%{x}\\u003cbr\\u003eRoad Name=%{y}\\u003cextra\\u003e\\u003c\\u002fextra\\u003e\",\"legendgroup\":\"\",\"marker\":{\"color\":\"#636efa\",\"pattern\":{\"shape\":\"\"}},\"name\":\"\",\"offsetgroup\":\"\",\"orientation\":\"h\",\"showlegend\":false,\"textposition\":\"auto\",\"x\":[31,28,25,21,19,19,19,10,10,9,9,9,9,8,8,8,7,7,7,7,7,6,6,6,6,6,6,6,6,6,5,5,5,5,5,5,5,5,5,5,5,5,5,4,4,4,4,4,4,4,4,4,4,4,4,4,4,4,3,3,3,3,3,3,3,3,3,3,3,3,3,3,3,3,3,3,3,3,3,3,3,3,3,3,3,3,3,3,3,3,3,3,3,3,3,3,3,3,3,3,2,2,2,2,2,2,2,2,2,2,2,2,2,2,2,2,2,2,2,2,2,2,2,2,2,2,2,2,2,2,2,2,2,2,2,2,2,2,2,2,2,2,2,2,2,2,2,2,2,2,2,2,2,2,2,2,2,2,2,2,2,2,2,2,2,2,2,2,2,2,2,2,2,2,2,2,2,2,2,2,2,2,2,2,2,2,2,2,2,2,2,2,2,2,2,2,2,1,1,1,1,1,1,1,1,1,1,1,1,1,1,1,1,1,1,1,1,1,1,1,1,1,1,1,1,1,1,1,1,1,1,1,1,1,1,1,1,1,1,1,1,1,1,1,1,1,1,1,1,1,1,1,1,1,1,1,1,1,1,1,1,1,1,1,1,1,1,1,1,1,1,1,1,1,1,1,1,1,1,1,1,1,1,1,1,1,1,1,1,1,1,1,1,1,1,1,1,1,1,1,1,1,1,1,1,1,1,1,1,1,1,1,1,1,1,1,1,1,1,1,1,1,1,1,1,1,1,1,1,1,1,1,1,1,1,1,1,1,1,1,1,1,1,1,1,1,1,1,1,1,1,1,1,1,1,1,1,1,1,1,1,1,1,1,1,1,1,1,1,1,1,1,1,1,1,1,1,1,1,1,1,1,1,1,1,1,1,1,1,1,1,1,1,1,1,1,1,1,1,1,1,1,1,1,1,1,1,1,1,1,1,1,1,1,1,1,1,1,1,1,1,1,1,1,1,1,1,1,1,1,1,1,1,1,1,1,1,1,1,1,1,1,1,1,1,1,1,1,1,1,1,1,1,1,1,1,1,1,1,1,1,1,1,1,1,1,1,1,1,1,1,1,1,1,1,1,1,1,1,1,1,1,1,1,1,1,1,1,1,1,1,1,1,1,1,1,1,1,1,1,1,1,1,1,1,1,1,1,1,1,1,1,1,1,1,1,1,1,1,1,1,1,1,1,1,1,1,1,1,1,1,1,1,1,1,1,1,1,1,1,1,1,1,1,1,1,1,1,1,1,1,1,1,1,1,1,1,1,1,1,1,1,1,1,1,1,1,1,1,1,1,1,1,1,1,1,1,1,1,1,1,1,1,1,1,1,1,1,1,1,1,1,1,1,1,1,1,1,1,1,1,1,1,1,1,1,1,1,1,1,1,1,1,1,1,1,1,1,1,1,1,1,1,1,1,1,1,1,1,1,1,1,1,1,1,1,1,1,1,1,1,1,1,1,1,1,1,1,1,1,1,1,1,1,1,1,1,1,1,1,1,1,1,1,1,1,1,1,1,1,1,1,1,1,1,1,1,1,1,1,1,1,1,1,1,1,1,1,1,1,1,1,1,1,1,1,1,1,1,1,1,1,1,1,1,1,1,1,1,1,1,1,1,1,1,1,1,1,1,1,1,1,1,1,1,1,1,1,1,1,1,1,1,1,1,1,1,1,1,1,1,1,1,1,1,1,1,1,1,1,1,1,1,1,1,1,1,1,1,1,1,1,1,1,1,1,1,1,1,1,1,1,1,1,1,1,1,1,1,1,1,1,1,1,1,1,1,1,1,1,1,1,1,1,1,1,1,1,1,1,1,1,1,1,1,1,1,1,1,1,1,1,1,1,1,1,1,1,1,1,1,1,1,1,1,1,1,1,1,1,1,1,1,1,1,1,1,1,1,1,1,1,1],\"xaxis\":\"x\",\"y\":[\"NAIROBI MOMBASA\",\"MOMBASA NAIROBI\",\"NAIROBI-MOMBASA\",\"MOMBASA ROAD\",\"THIKA SUPERHIGHWAY\",\"MOMBASA-NAIROBI\",\"WAIYAKI WAY\",\"THIKA SUPER HIGHWAY\",\"KISUMU BUSIA\",\"NAKURU ELDORET\",\"MOMBASA\",\"ELDORET NAKURU\",\"NAKURU-ELDORET\",\"GARISSA MWINGI\",\"SOUTHERN BY PASS\",\"KENOL SAGANA\",\"KERICHO-KISUMU\",\"KANGUNDO ROAD\",\"NAIROBI NAIVASHA\",\"EASTERN BY PASS\",\"NAKURU-NAIROBI\",\"KERICHO NAKURU\",\"NAROK MAIMAHIU\",\"JOGOO ROAD\",\"OUTERING ROAD\",\"GILGIL NAKURU\",\"NAIVASHA-NAIROBI\",\"NAIROBI NAKURU\",\"NAKURU NAIROBI\",\"NAIVASHA NAIROBI\",\"KANGUNDO\",\"MERU MAUA\",\"NAIROBI MOMBASA ROAD\",\"KAKAMEGA-WEBUYE\",\"KISUMU-KAKAMEGA\",\"NORTHERN BY PASS\",\"KITALE ELDORET\",\"ELDORET-NAKURU\",\"MAGADI ROAD\",\"NAROK-MAIMAHIU\",\"JOGOO\",\"KILIFI MOMBASA\",\"NYERI NYAHURURU\",\"THIKA-MATUU\",\"NYERI-NANYUKI\",\"KITALE-WEBUYE\",\"KEROKA SOTIK\",\"MATUU-THIKA\",\"NAIROBI- MOMBASA\",\"MWEA EMBU\",\"KAKAMEGA WEBUYE\",\"ELDORET WEBUYE\",\"MALINDI MOMBASA\",\"OUTERING\",\"NAIROBI-NAIVASHA\",\"KISUMU NAIROBI\",\"BONDO USENGE\",\"SAGANA-MAKUTANO\",\"MERU NANYUKI\",\"THIKA MATUU\",\"EASTERN BYPASS\",\"KAKAMEGA-KISUMU\",\"NAIROBI-NAKURU\",\"MATUU THIKA\",\"EMBU-MERU\",\"NAIROBI LIMURU\",\"KISII MIGORI\",\"KISUMU-BUSIA\",\"KAGUMO KERUGOYA\",\"KEHANCHA NTIMARU\",\"KISII KILGORIS\",\"LONDIANI-KERICHO\",\"SIAYA-LUANDA\",\"EMBU MERU\",\"NYERI NANYUKI\",\"KAKAMEGA KISUMU\",\"KISII MARANI\",\"WOTE MAKINDU\",\"NGONG ROAD\",\"BUNGOMA MUMIAS\",\"KAPLONG BOMET\",\"MWINGI GARISSA\",\"BUNGOMA-WEBUYE\",\"KITALE WEBUYE\",\"MALINDI-LAMU\",\"MUMIAS KAKAMEGA\",\"KATITO KEMDUBAY\",\"ELDORET-WEBUYE\",\"THIKA ROAD\",\"CHAVAKALI KAPSABET\",\"JUJA ROAD\",\"LOWER KABETE\",\"THIKA SUPERHIGH WAY\",\"KISUMU-NAIROBI\",\"NAIROBI THIKA\",\"ELDORET KITALE\",\"KENDU BAY-KATITO\",\"KERICHO-NAKURU\",\"KISII KISUMU\",\"THIKA\",\"NYAMIRA KISII\",\"MURANGA\",\"LUSAKA ROAD\",\"KIVAA-EMBU\",\"NORTH AIRPORT ROAD\",\"SOKO NG'OMBE BULA RIGI EARTH ROAD\",\"KITUI MACHAKOS\",\"KAPSABET-CHAVAKALI\",\"MURANG'A ROAD\",\"WAIYAKI\",\"MUKARARA KIUNYU\",\"HAILE SELASIE AVENUE\",\"KITUI-KABATI\",\"NAKURU- ELDORET\",\"NORTH AIRPORT\",\"EKERO EBUHANGA\",\"NGONG KISERIAN\",\"LANDHIES\",\"MOMBASA-VOI\",\"BUNGOMA-MALABA\",\"HAILE SELASIE\",\"KAJIADO NAMANGA\",\"SAGANA-KARATINA\",\"KIMBO RUIRU SERVICE LANE\",\"OYUGIS KISUMU\",\"LUNGALUNGA ROAD\",\"EMBU-KIRITIRI\",\"RONALD NGALA\",\"NAKURU - ELDORET\",\"MOMBASA KILIFI\",\"SHIATSALA MANYULIA\",\"KATITU KENDU BAY\",\"MAINLAND-JOMVU\",\"KISUMU- BUSIA\",\"ELDORET-KAPSABET\",\"SIAYA-NYANDORERA\",\"KANYONYO-EMBU\",\"ELUCHE-MUMIAS\",\"ITEN KABARNET\",\"NAROK-BOMET\",\"UHURU HIGHWAY\",\"BOMET- KAPLONG RD\",\"MANGU THIKA\",\"FIRST AVENUE\",\"KERUGOYA-KUTUS\",\"UKUNDA LIKONI\",\"BONDO-KISUMU\",\"NAROK MAI MAHIU\",\"EMBU MANYATTA\",\"NAMANGA- KITENGELA\",\"BUNGOMA WEBUYE\",\"ELDORET- WEBUYE\",\"KISUMU BONDO\",\"KANGEMA MURANGA\",\"MATUU-MWINGI\",\"BUTULA MUMIAS\",\"SIAYA LUANDA\",\"THIKA NAIROBI\",\"SPINE ROAD\",\"MSA-NRB\",\"FLYOVER NJAMBINI ROAD\",\"NEW PUMWANI ROAD\",\"OBUNGA KONDELE\",\"OLKALAU NYAHURURU\",\"MSAMBWENI UKUNDA\",\"MARIAKANI-BAMBA\",\"MAKUTANO-MWEA\",\"NORTHERN BYPASS\",\"MWINGI GARISSA RD\",\"KISII-KILGORIS\",\"LIKONI-LINGALUNGA\",\"EKERO-SABATIA\",\"BURET NGOINA\",\"KENOL-SAGANA\",\"AWASI AHERO ROAD\",\"NYANGUSU KEROKA\",\"KABIYET KURGONG-KIPKAREN SALIA RD\",\"KIJABE GICHIEGO ROAD\",\"RODI NDHIWA\",\"AIRPORT ROAD\",\"KARATINA-NYERI\",\"MERU MIKINDURI\",\"KIAMBU ROAD\",\"KEROKA-KISII\",\"WEBUYE-KITALE\",\"NAIROBI MACHAKOS\",\"KENYATTA AVENUE\",\"WEBUYE BUNGOMA\",\"KILIFI-MALINDI\",\"KAJIADO ISINYA\",\"SAGANA KENOL ROAD\",\"KILIFI VITENGENI\",\"BOMET NAROK\",\"SAGANA-MAKUTANO-KENOL RD\",\"OTHAYA NYERI\",\"MWATATE VOI\",\"OTHAYA-NYERI\",\"NDUMBERI KANNGA\",\"GATURA THIKA\",\"KERICHO\",\"HESHIMA\",\"KANDIZI OLE KASAFI\",\"KEROKA NYAGUSU\",\"NAROK-MAU\",\"MACHAKOS-KYUMBI\",\"NAIVASHA NAIROBI HIGHWAY\",\"BUNGOMA MALABA\",\"THIKA-NAIROBI\",\"KENYATTA\",\"KIGOTO MAGUNGA\",\"RACE COURSE\",\"MULOT NAROK\",\"MAUA ATHI\",\"USENGE BEACH ROAD\",\"MAKUPA CAUSEWAY(KIPARANI)\",\"AHERO KISUMU\",\"NAIROBI SAGANA\",\"KENDU BAY\\u002f HOMA BAY RD\",\"MAX ROAD\",\"NAROK MULOT\",\"EMBU-KIBUGU\",\"MAUA MERU\",\"ILL OUT AREA\",\"AIRPORT\",\"BOKOLI-KIMILILI\",\"NYAHURURU BOIMAN RD\",\"KIRIANE MUTINDWA ROAD\",\"SAB ATIA EKERO RD\",\"KISUMU KAKAMEGA\",\"WITHIN JAMUHURI PRIMARY SCHOOL\",\"SAGANA KAGIO\",\"KANGUNDO MACHAKOS\",\"MATISI NZOIA\",\"ISINYA KITENGELA\",\"MBUGUNI CHECK POINT\",\"KENEGUT KAPSOIT\",\"GATHITHINI LUNATIC\",\"KIAMBU-THIKA\",\"LIMURU RUAKA\",\"KIMILILI-MIIKHU\",\"MUTHURWA ACCESS ROAD\",\"NYAMIRA IKONGE\",\"NAKURU- NAIROBI\",\"NYERI-IHURURU\",\"MOGOTHE KIRIMA\",\"NAKURU-KERICHO\",\"OLJOROROK OLKALAU\",\"EMBU-CHUKA\",\"MERU - MAUA\",\"MOMBASA-MALINDI\",\"DAGORETI ROAD\",\"MBUNBUNI NDUMBI\",\"BARAKA ROAD\",\"KIAMBU\",\"MARIGAT-LOBOI\",\"MOYALE\",\"SAGANA MURANGA\",\"NGARATUK O-SIBILO\",\"WANGARI MATHAAI\",\"OLD MOMBASA MALINDI\",\"NAKURU-ELEMENTAITA\",\"RABAI ROAD\",\"DANDORA PHASE 2 ESTATE\",\"WITHIN DONHOLM SHOPPING CENTRE\",\"BONDO NDORI\",\"KITENGELA ISINYA\",\"HAILE SELASIE ROAD\",\"RUIRU KIAMBU\",\"NGONG NAIROBI\",\"KILIFI MSA ROAD\",\"EATLEIGH\",\"AWENDO - RONGO\",\"KAMOROCK\",\"MSA VOI ROAD\",\"KATITO KENDU\",\"KISII KILGORIS ROAD\",\"NAROK OLOPITO\",\"PROF.WANGARI MATHAI\",\"MAKENJI-MURUKA\",\"ELDORET -KAPSABET\",\"NAKURU GILGIL\",\"MARIAKANI-KALOLENI\",\"MIGORI KISII\",\"KATITO-KENDU BAY\",\"SOUTHERN BY -PASS\",\"FIRST PARKLANDS AVENUE\",\"CARDINAL OTUNGA ROAD\",\"NAURU-ELDORET\",\"KITENGELA RESERVE\",\"URIRI MIGORI\",\"KENOL-THIKA\",\"NAMBALE- MALANGA\",\"BUSIA-MAYONI\",\"NAIROBI- NAIVASH\",\"WITHIN UASIN GISHU\",\"KIMILILI-CHWELE ROAD\",\"MATUU-THIKA ROAD\",\"KENOL-MAKUTANO\",\"BUSIA-MUMIAS\",\"MERU- MAUA\",\"KAPTEMBWA-KAPKURES\",\"KAPLONG LITEIN\",\"LAARE-MATUATI\",\"MOMBASA RD\",\"SIGALAGALA-BUKURA\",\"NAIROBI KIKUYU\",\"OYUGIS KISII\",\"NAIROBI MAGADI\",\"LIKONI ROAD\",\"MITUNGUU-NKUBU\",\"MAKADARA NAMAGA\",\"KILIIFI-DIANI\",\"GATUNDU RD\",\"KANGEMA KIRIAI\",\"KILIFI-MOMBASA\",\"SHIMANZI MOMBASA\",\"OLKALOU-KARIAMU\",\"NYERI - THIKA\",\"NAROK- BOMET\",\"MAKUPA CUSE WAY\",\"JUJA\",\"KIANGOKOMA TRADING CENTRE\",\"MATUNGU PANYA\",\"RODI KOPANY RANGWE\",\"NAIROBI-KANGUNDO\",\"KITUNGATI-KATWALA RD\",\"KITENGELA-KAJIADO\",\"KUTUS-KERUGOYA\",\"BIASHARA STREET\",\"NJORO-ELBURGON\",\"CHAVAKALI KILINGILI\",\"WEBUYE KITALE ROAD\",\"BUNGOMA WEBUYE ROAD\",\"KEROKA TOWNSHIP\",\"ELEMENTAITA-JOGOO\",\"MUSYINI KYULU MURRAM ROAD\",\"WITHIN MACHAKOS TOWN\",\"KIJABE NAIVASHA\",\"WEBUYE -ELDORET\",\"KENOL-MURANG'A\",\"KAPLETUNDO CHEBOLE\",\"SYAPEI-SANKALE MURRAM ROAD\",\"KALOLENI-MARIAKANI\",\"GATUNDU KENYATTA\",\"LIMURU-KUTUS\",\"KENOL-MURANGA\",\"ELDORET-MALABA\",\"NYERI-GATHUTHI\",\"MFUDUDU\",\"TALAI KAPTUM MURRAM ROAD\",\"ELDORET- NAKURU\",\"THIKA-super highway\",\"KENYATTA STREET\",\"MACHAKOS-KANGUNDO\",\"ISIOLO MARSABIT\",\"KILOME\",\"EMBU- KIVAA\",\"EMBU KIBUGU\",\"PLATEAU GIRLS HIGH SCHOOL\",\"KIAMBU WEST\",\"KERICHO LETAIN\",\"KIRINYAGA-KUTUS\",\"MACHARIA ROAD\",\"MERU-CHUKA\",\"LIKONI- UKUNDA\",\"MATHARE NORTH\",\"ELDORET - KITALE\",\"KARARTINA- KIMABARA\",\"MURANDI\",\"MOMBASA- KILIFI\",\"KISUMU- NAIROBI\",\"KINAMBA- NYAHURURU\",\"NAMANGA- KAJIADO\",\"MURANG'A- KAMBIRWA\",\"MAI MAHIU- NAIVASHA\",\"MACHAKOS-HUDUMA CENTRE\",\"EMBU- SIAKAGO\",\"KANDARA- KITHIMA\",\"KIKUYU-WANGIGE\",\"WAIYIAKI WAY\",\"ITURAMIRO-KIBIRU MURRAM ROAD\",\"SOTIK-NAROK\",\"MWIKI\",\"MUTHURWA\",\"THIKA MWINGI\",\"LIMURU KWABIRA\",\"KIKUYU-DAGORETTI\",\"NAIVASHA-MAI MAHIU\",\"HOMABAY-KENDU BAY\",\"ELBURGON NJORO\",\"NAIVASHA KINANGOP\",\"SOUTHERN BYPASS\",\"THIKA GATANGA\",\"EMINING-OTERIT RD\",\"NTIMARU-KEHANCHA\",\"THIKA RD\",\"KIRITIRI KITHOGONDO\",\"AHERO-AWASI\",\"GITHUNGURI-KIAMBU\",\"GAITU KARIENE\",\"MANG'U FLYOVER\",\"THIKA-GARISSA\",\"CHUKA MERU\",\"KISUMU TOWNSHIP\",\"TAWA KALAWANI\",\"MURANGA RD\",\"NYERI-KARATINA\",\"RWATHIA MIHUTI\",\"NORTHERN BY PASS ROAD\",\"OLKALOU-NYAHURURU ROAD\",\"KANGUNDO RD\",\"KALOLENI- MAZERAS RD\",\"NAIROBI-TALA ROAD\",\"KINDU-BAY KATITU\",\"RONGO- AWENDO\",\"NYABOHANSE KOMOMWAMU\",\"KENOL MAKUTANO\",\"NORTHEN BY PASS\",\"SESSI\",\"SOWETO JACARANDA\",\"GATANGA NDAKANI\",\"BOMET -NAROK\",\"MARIGAT- MOGOTIO\",\"NYAMIRA KISII ROAD\",\"MATHIORA ROAD\",\"KHAYEGA SHINYALU\",\"KEROKA-NYANGUSU\",\"KEROKA NYANGUSU\",\"NYAMIRA-MIRUKA RD\",\"TOM MBOYA STREET\",\"LUANDA-MAJENGO\",\"NAKURU-RAVINE\",\"PARKLANDS ROAD\",\"MBITA-HOMABAY\",\"SOUTHERN BY-PASS\",\"KOMBO MUNYIRI RD\",\"TAGWA-NDATHI MURRAM ROAD\",\"KAHAGAINI\",\"KENDU BAY TOWN SHIP\",\"MOGOTIO MARIGAT\",\"KASIGU-MAUNGU\",\"ITEN-KARBANET\",\"MOGOMBO-KEMERA\",\"OKAME BUTEBA MURRAM ROAD\",\"MAAI-MAHIU NAIVASHA\",\"KABATI-KITUI\",\"GLOBE ROUND ABOUT SLIP ROAD\",\"NYERERE ROAD\",\"MUMBINI WOTE\",\"UGWERI RUNYEJES ROAD\",\"KIMONGORO\\u002fKANUNI\",\"SOFIA ST BARANABUS CHURCH\",\"MERU NKUBU\",\"NANYUKI BARAKA\",\"THOGOTO GIKAMBURA\",\"BUTULA-MUMIAS\",\"NAIROBI THIKA SERVICE LANE\",\"GIKAMBURA NDEIYA ROAD\",\"SABATIA - SHIADA\",\"MOLO TOWNSHIP\",\"MAI MAHIU\",\"NYERERE AVENUE\",\"NAKURU ELEMENTAITA\",\"MAKUTANO SAGANA\",\"BOMET KAPLONG\",\"SHIBULI BUKURA ROAD\",\"KATITU-KENDUBAY\",\"MERU EMBU\",\"BOMET-NAROK\",\"NYAHURURU DESTINATION\",\"KHAYEGA-SHINYALU\",\"BANANA-KIAMBU\",\"NAKURU-SUBUKIA\",\"RUTHIGITI- KAMANGU\",\"KERICHO- KISUMU\",\"BISMAK MURRAM ROAD\",\"LWANDETI LUGARI\",\"NDUNYU MUNYANGE\",\"MAGADI\",\"CHINGA GAKURU\",\"NORTH VIEW\",\"MULTIPLE HAULIERS ROAD\",\"SHILONGO FUVARE MURRAM ROAD\",\"KAVIANI SAIKONI\",\"KAPSABET ELDORET\",\"MOMBASA -NAIROBIU\",\"NYERI MATHARI\",\"MOI DRIVE\",\"KIVAA-KIRITIRI\",\"NAIVASHA ROAD\",\"SAWAWA BURUNDU\",\"ITEN ELDORET\",\"ELDORET KAPSABET\",\"KISII KEROKA\",\"LANGATA ROAD\",\"KATHENGE SIAKAGO\",\"LIKONI UKUNDA\",\"NYHURURU NYERI\",\"BONDO SIAYA\",\"MACHAKOS WOTE\",\"ELDORET BUNGOMA\",\"KITUI-KANYONYO\",\"KIAMBU-RUIRU\",\"JAMES GICHURU\",\"KITALE-ELDORET\",\"GATUANYAGA-KOMU\",\"KAPSABET-LESSOS\",\"AKUBWOIT KWANGAMOR ROAD\",\"WOTE MAKUENI\",\"NYAMIRA NYAMAIYA\",\"BISHOP ROAD JUNCTION\",\"SIAYA-DOMINION\",\"KONDOLE-NYAMASARIA\",\"MURANGA-KIRIANI\",\"MAKINDU-KOSEWE\",\"NAIROBI - MOMBASA\",\"MUNGOTIO RAVINE\",\"MAKUTANO KITALE ROAD\",\"KIBOKO THIKA\",\"KITHIMANI KIMANGU\",\"KERUGOYA BARICHO\",\"KEROKA-MASIMBA\",\"NYERI KARATINA\",\"NAIVASHA GILGIL\",\"NYAHURURU-OLKALOU\",\"WATAMU GEDE\",\"KERICHO LONDIANI\",\"MUTHUE MUTOMO\",\"GARISSA-MWINGI\",\"KIKOKO NUNGUNI\",\"KILIFI MALINDI\",\"KOMAROCK ROAD\",\"ONDIRE KIKUYU\",\"RACE COURSE ROAD\",\"LITEIN SOTIK\",\"FOREST LIMURU\",\"KENDU BAY KATITU\",\"THIUKA SUPER HIGHWAY\",\"ITEN KWA HILDA RESIDENCE\",\"PIPELINE ELEMENTAITA\",\"ALONG RUNNYENJES - UGWERI ROAD\",\"KITALE - ELDORET\",\"KIRIA-INI-KANGEMA\",\"NAKURU-GILGIL\",\"KITUI-KIBWEZI\",\"WANGARI MATHAI\",\"KISII-KISUMU\",\"MUTHINGA GATITU RD\",\"OYUGIS-KISUMU\",\"MURANGA KAHURO\",\"VOI KALOLENI\",\"NAIROBI KISERIAN\",\"BANANA- RUAKA\",\"NORTHERN BY- PASS\",\"OL KALOU- KARIAMU\",\"WEBUYE- KAKAMEGA\",\"KIVANINI- MASINGA\",\"THIKA GARISSA\",\"MOYALE TOWN\",\"NAIVASHA -NAIROBI\",\"KAWANGWARE\",\"LADHIS\",\"AIRWINGS KODHEK ROAD\",\"BANANA RUAKA\",\"MIGORI AWENDO\",\"WEBUYE ELDORET\",\"TIRIMIONINI KASISIT MURRAM ROAD\",\"LORETO ZIWA MACHINE MURRAM ROAD\",\"OUTERNG ROAD\",\"MALINDI-MOMBASA\",\"HOMA BAY-MBITA\",\"KINYATTA ROAD\",\"KENDU BAY KATITU ROAD\",\"CHOGORIA-MERU\",\"KERUGOYA-KARATINA\",\"POTREITZ ROAD\",\"KABIRIA ROAD\",\"NGOIGWA-THIKA ROAD\",\"MAUA-KIENGU\",\"LIMURU FOREST\",\"MAUA KIUTUNI\",\"BONDO AGIGO\",\"MURANGA SAGANA\",\"GARISSA-KISMAIYO\",\"MAKUTANO LODWAR\",\"OTHAYA KARIMA\",\"MARIGAT KABARNET\",\"RAMISI-MSAMBWENI\",\"MOLO ELBAGON\",\"OLKALAU GILGIL\",\"ENOOSAEN-SIKAWA RD\",\"ENTERPRISE ROAD\",\"NYAURURU NAKURU\",\"KERICHO NAKURU ROAD\",\"LIMURU NAIROBI\",\"UKUNDA LIKONI ROAD\",\"UHURU HIGH WAY\",\"TAVETA-MWATATE\",\"SOTIK-KERICHO\",\"KERICHO-LONDAINI\",\"AWASI KERICHO\",\"ELDAMA RAVINE SAOS\",\"NAMANGA-NAIROBI\",\"KITUI-MACHAKOS\",\"MUGANI MURIGURU\",\"NAIRBI MOMBASA\",\"MASALANI GARISSA\",\"CHUKA-EMBU\",\"SOUTHERN\",\"MURANGA ROAD\",\"KATHEKAI\",\"GILGIL NAIVASHA\",\"MIHARATI-ENGINEER ROAD\",\"AWENDO MIGORI\",\"MATANYA ROAD\",\"NYAHURURU-MWEIGA\",\"ISINYA-KAJIADO\",\"KANGUNDO NAIROBI\",\"ELEMENTAITA-GACHUMA\",\"KIMUNYE KUTUS ROAD\",\"IKONGE MAGWAGWA ROAD\",\"LIKONI-FERRY\",\"PROFESSIONAL ROAD\",\"NANYUKI NYERI\",\"KABARNET MARIGAT\",\"BOMET SOTIK\",\"MURANGA KIRIANI\",\"MAI MAHIU NAIVASHA\",\"LANDHIES ROAD\",\"MARIGAT LORUK\",\"MUKURWENI KARATINA\",\"CHOGORIA CHUKA\",\"KYENI KARURUMO MARRUM ROAD\",\"KAWANJARA- ISHIARA\",\"KISII-MARAMI\",\"KENDU BAY-KASITI\",\"MERU-MAUA\",\"KEROKA KISII\",\"NJORO MAU NAROK\",\"GITHUNGURI ROAD\",\"KIMILILI CHWELE ROAD\",\"PARKLANDS MUTHAMA\",\"KISERIAN ISINYA\",\"MATUNGU OKALLO MURRAM ROAD\",\"MURANGA KANGEMA\",\"MAGADI KISERIAN\",\"LINKS ROAD\",\"BUSIA KISUMU ROAD\",\"MURANG'A SAGANA\",\"KABATI TOWNSHIP\",\"MAINLAND JOMVU\",\"KIAMBERE BOLRIT\",\"KITUI-ITHOKWE\",\"LIMURU KIAMBU ROAD\",\"CHAKA-KIGANJO\",\"ENGINEER-NAIVASHA MURRAM\",\"RIURU LIMURU\",\"NYAHURURU NYERI\",\"KAKAMEGA KISUMU ROAD\",\"UKUNDA BEACH ROAD\",\"NYERI-OTHAYA\",\"AHERO KATITO\",\"KERICHO-AWASI\",\"KAMURUGU IRIAMURAI\",\"ELDORET -NAKURU\",\"NAIROBI-NAMANGA\",\"NAIROBI- NAIVASHA\",\"KAKAMEGA MUKANGU\",\"KIVAA KANYONYO\",\"LIKONI-UKUNDA\",\"MAU SUMMIT -KERICHO\",\"MERU-NANYUKI\",\"MOMBASA- NAIROBI\",\"GURUBANI KIUMBU\",\"MKS-KITUI\",\"KENOL\\u002fSAGANA\",\"MOMBASA-KILIFI\",\"MALINDI MALANGA\",\"CHEMILIL AWASI\",\"ELDORET NYARU\",\"NDHIWA SORI\",\"MTITO TOWNSHIP\",\"MAIMAHIU NAROK\",\"NYERI OTHAYA\",\"NAIROBI-BUSIA\",\"KISII-MARANI\",\"OLKALOU-NYAHURURU\",\"NYERI-KAMAKWA\",\"RAKWARO\",\"MARIGAT MOGOTIO\",\"ELBURGON-NJORO\",\"EMBU KIRITIRI\",\"KAYOLE\",\"MANDERA MALKA SUFTU\",\"KITISE KIKOME\",\"KITENGELA ISINYA ROAD\",\"KAJIADO MURRAM ROAD\",\"KENOL MURANG'A ROAD\",\"GATAKA DIVERSION\",\"MUMO MUTINI\",\"OMIRIGAMI-SENGERA RD\",\"KISII NYAMIRA\",\"KITALE KILONGOLO\",\"NAIROBI-THIKA\",\"KARATINA-KERUGOYA\",\"KISUMU-AHERO\",\"BOMET-KAPLONG\",\"UYOMA BONDO\",\"KEMBU- RUKIRA\",\"THIKA HIGHWAY\",\"MACHAKOS- KATHIANI\",\"NANDI HILL-KIMAKI\",\"KEROKA-SOTIK RD\",\"OLENARA IMPORO\",\"THIKA-GATHIMA\",\"LUSAKA\",\"KENDU BAY-HOMA BAY\",\"KISERIAN MAGADI\",\"LARI\",\"LARE- MAUA\",\"WEBUYE- ELDORET\",\"KENOL-MAKUYU\",\"METO-MAILI TISA MURRAM ROAD\",\"THIKA - KENOL\",\"CHORA\",\"MWANGULU MWELENI ROAD\",\"DEVKI MAKADARA\",\"NAVAKHOLO MURRAM\",\"GILGIL-NAKURU\",\"MARSABIT-MOYALE\",\"BURNT FOREST\",\"MAIMAHIU NAIVASHA\",\"SAGANA-KAGIO\",\"ISIOLO-NANYUKI\",\"LUNGA LUNGA-MSAMBWENI\",\"MAI MAHIU NAROK\",\"AHERO-KISUMU\",\"MARSABIT- KARGI\",\"MOGOTIO NAKURU\",\"KYUSINI-MUTHA\",\"KANYONYO EMBU\",\"MARWA-KIGANJO\",\"ISINYA-KITENGELA\",\"KYENI KARURUMO\",\"MARSABIT MOYALE RD\",\"SILIBWET KIPTAGICH RD\",\"KIKUYU-WANGIGE ROAD\",\"EMBU-KIBUKU\",\"GETA ROAD\",\"MATUU MWINGI\",\"SISOTE-DOROFU MURRAM ROAD\",\"MSAMBWENI-LUNGALUNGA\",\"KOMBANI- KWALE\",\"KEROKA MASIMBA\",\"NAIROBI MSA ROAD\",\"KISUMU BUSIA RD\",\"MACHAKOS -WOTE RD\",\"MATUU THIKA ROAD\",\"KIAMBU KWAMAIKO\",\"LIMURU-KAMANDURA\",\"JOSKA KAGUNDO\",\"NYERI NANYUKI ROAD\",\"KALINDU NGIINI MUTUNE ROAD\",\"OTHAYA-RURUGUTI\",\"KERUGOYA-KAGUMO\",\"KIWASCO-MAMBA\",\"ELDORET-BUNGOMA\",\"MOMBASA MALINDI\",\"NJAMBINI OLKALAO\",\"LANET-NDUNDORI\",\"MOSORIOT-KABIYET RDD\",\"KUVASALI-IKOLI\",\"MWINGI-KYUSO\",\"BUSIA-MIMIAS\",\"KAPSABET -CHAVAKALI\",\"ARCH BISHOP MAKARIOS ROAD\",\"MAKUTANO KENOL\",\"GILGIL - NAKURU\",\"KINAMBA\",\"KUNDA KINDU MAIN STAGE\",\"KISUMU- KAKAMEGA\",\"NAROK-MAHIMAHIU\",\"BOMET-LITEN\",\"SAGANA MAKUTANO\",\"NAKURU NJORO\",\"FOREST\",\"IRINDI-GATUGI\",\"KANGUNDO-TALA\",\"WAJIR-MOYALE\",\"KIONGO CHARAGITA\",\"KIANYAGA\\u002fKUTUS\",\"BUSIA KISUMU\",\"KYUSIAN KITUI\",\"LONDIANI MUHORONI\",\"SOY LIKUYANI MURRAM ROAD\",\"USENGE OSIEKO\",\"LUBAO-STOP JUNCTION\",\"GARISSA GARISSA NDOGO\",\"WITHIN AWELO\",\"TAPLOTING PREMIER\",\"MUHORONI-LONDIANI\",\"MACHAKOS KITUI RD\",\"KISERIAN - RONGAI\",\"LUNGALUNGA VANGA\",\"KAKAMEGA MUMIAS\",\"MUMIAS LUKOYE\",\"MWEA MAKUTANO\",\"ONYWONGO PAP ONDITI\",\"LUANDA MAJENGO\",\"MURANGA GITU\",\"KAUMA MATINYANI\",\"BUNGOMA-MUMIAS\",\"WITHIN KEROKA TOWNSHIP\",\"EMALI MATILIKU MURRAM RD\",\"OGWEDHI-OYANI MASAI MURRAM RD\",\"SIGALAGALA BUTERE\",\"NYERI TETU\",\"KISMAIYO ROAD\",\"IKONGE CORNER\",\"MOYALE- HEILLU\",\"NAIROBI -MOMBASA\",\"SIAYA NYANDORERA\",\"OLENGURUONE ROAD\",\"KAPOROK SEGEREK\",\"LANET NDUNDURI\",\"NYAMIRA MIRUKA ROAD\",\"NYERI NANUKI\",\"GARISSA ROAD\",\"EMALI-MATILIKU EARTH\",\"NJABINI OLKALAU\",\"NANYUKI NAIROBI\",\"AHERO AWASI\",\"MUMIAS EBUYANGU\",\"GARISSA IJARA\",\"KERICHO-LONDIANI\",\"ISIOLO ARCHERS POST\",\"KATITO KENDU BAY\",\"KITALE-LODWAR\",\"GAKONYA MUKURU WEINI\",\"MAI MAHIU-NAIROBI\",\"NYERI-THIKA\",\"LUANDA KOTIENO NDORI\",\"OLD MOIYNE DRIVE\"],\"yaxis\":\"y\",\"type\":\"bar\"}],                        {\"template\":{\"data\":{\"barpolar\":[{\"marker\":{\"line\":{\"color\":\"rgb(17,17,17)\",\"width\":0.5},\"pattern\":{\"fillmode\":\"overlay\",\"size\":10,\"solidity\":0.2}},\"type\":\"barpolar\"}],\"bar\":[{\"error_x\":{\"color\":\"#f2f5fa\"},\"error_y\":{\"color\":\"#f2f5fa\"},\"marker\":{\"line\":{\"color\":\"rgb(17,17,17)\",\"width\":0.5},\"pattern\":{\"fillmode\":\"overlay\",\"size\":10,\"solidity\":0.2}},\"type\":\"bar\"}],\"carpet\":[{\"aaxis\":{\"endlinecolor\":\"#A2B1C6\",\"gridcolor\":\"#506784\",\"linecolor\":\"#506784\",\"minorgridcolor\":\"#506784\",\"startlinecolor\":\"#A2B1C6\"},\"baxis\":{\"endlinecolor\":\"#A2B1C6\",\"gridcolor\":\"#506784\",\"linecolor\":\"#506784\",\"minorgridcolor\":\"#506784\",\"startlinecolor\":\"#A2B1C6\"},\"type\":\"carpet\"}],\"choropleth\":[{\"colorbar\":{\"outlinewidth\":0,\"ticks\":\"\"},\"type\":\"choropleth\"}],\"contourcarpet\":[{\"colorbar\":{\"outlinewidth\":0,\"ticks\":\"\"},\"type\":\"contourcarpet\"}],\"contour\":[{\"colorbar\":{\"outlinewidth\":0,\"ticks\":\"\"},\"colorscale\":[[0.0,\"#0d0887\"],[0.1111111111111111,\"#46039f\"],[0.2222222222222222,\"#7201a8\"],[0.3333333333333333,\"#9c179e\"],[0.4444444444444444,\"#bd3786\"],[0.5555555555555556,\"#d8576b\"],[0.6666666666666666,\"#ed7953\"],[0.7777777777777778,\"#fb9f3a\"],[0.8888888888888888,\"#fdca26\"],[1.0,\"#f0f921\"]],\"type\":\"contour\"}],\"heatmapgl\":[{\"colorbar\":{\"outlinewidth\":0,\"ticks\":\"\"},\"colorscale\":[[0.0,\"#0d0887\"],[0.1111111111111111,\"#46039f\"],[0.2222222222222222,\"#7201a8\"],[0.3333333333333333,\"#9c179e\"],[0.4444444444444444,\"#bd3786\"],[0.5555555555555556,\"#d8576b\"],[0.6666666666666666,\"#ed7953\"],[0.7777777777777778,\"#fb9f3a\"],[0.8888888888888888,\"#fdca26\"],[1.0,\"#f0f921\"]],\"type\":\"heatmapgl\"}],\"heatmap\":[{\"colorbar\":{\"outlinewidth\":0,\"ticks\":\"\"},\"colorscale\":[[0.0,\"#0d0887\"],[0.1111111111111111,\"#46039f\"],[0.2222222222222222,\"#7201a8\"],[0.3333333333333333,\"#9c179e\"],[0.4444444444444444,\"#bd3786\"],[0.5555555555555556,\"#d8576b\"],[0.6666666666666666,\"#ed7953\"],[0.7777777777777778,\"#fb9f3a\"],[0.8888888888888888,\"#fdca26\"],[1.0,\"#f0f921\"]],\"type\":\"heatmap\"}],\"histogram2dcontour\":[{\"colorbar\":{\"outlinewidth\":0,\"ticks\":\"\"},\"colorscale\":[[0.0,\"#0d0887\"],[0.1111111111111111,\"#46039f\"],[0.2222222222222222,\"#7201a8\"],[0.3333333333333333,\"#9c179e\"],[0.4444444444444444,\"#bd3786\"],[0.5555555555555556,\"#d8576b\"],[0.6666666666666666,\"#ed7953\"],[0.7777777777777778,\"#fb9f3a\"],[0.8888888888888888,\"#fdca26\"],[1.0,\"#f0f921\"]],\"type\":\"histogram2dcontour\"}],\"histogram2d\":[{\"colorbar\":{\"outlinewidth\":0,\"ticks\":\"\"},\"colorscale\":[[0.0,\"#0d0887\"],[0.1111111111111111,\"#46039f\"],[0.2222222222222222,\"#7201a8\"],[0.3333333333333333,\"#9c179e\"],[0.4444444444444444,\"#bd3786\"],[0.5555555555555556,\"#d8576b\"],[0.6666666666666666,\"#ed7953\"],[0.7777777777777778,\"#fb9f3a\"],[0.8888888888888888,\"#fdca26\"],[1.0,\"#f0f921\"]],\"type\":\"histogram2d\"}],\"histogram\":[{\"marker\":{\"pattern\":{\"fillmode\":\"overlay\",\"size\":10,\"solidity\":0.2}},\"type\":\"histogram\"}],\"mesh3d\":[{\"colorbar\":{\"outlinewidth\":0,\"ticks\":\"\"},\"type\":\"mesh3d\"}],\"parcoords\":[{\"line\":{\"colorbar\":{\"outlinewidth\":0,\"ticks\":\"\"}},\"type\":\"parcoords\"}],\"pie\":[{\"automargin\":true,\"type\":\"pie\"}],\"scatter3d\":[{\"line\":{\"colorbar\":{\"outlinewidth\":0,\"ticks\":\"\"}},\"marker\":{\"colorbar\":{\"outlinewidth\":0,\"ticks\":\"\"}},\"type\":\"scatter3d\"}],\"scattercarpet\":[{\"marker\":{\"colorbar\":{\"outlinewidth\":0,\"ticks\":\"\"}},\"type\":\"scattercarpet\"}],\"scattergeo\":[{\"marker\":{\"colorbar\":{\"outlinewidth\":0,\"ticks\":\"\"}},\"type\":\"scattergeo\"}],\"scattergl\":[{\"marker\":{\"line\":{\"color\":\"#283442\"}},\"type\":\"scattergl\"}],\"scattermapbox\":[{\"marker\":{\"colorbar\":{\"outlinewidth\":0,\"ticks\":\"\"}},\"type\":\"scattermapbox\"}],\"scatterpolargl\":[{\"marker\":{\"colorbar\":{\"outlinewidth\":0,\"ticks\":\"\"}},\"type\":\"scatterpolargl\"}],\"scatterpolar\":[{\"marker\":{\"colorbar\":{\"outlinewidth\":0,\"ticks\":\"\"}},\"type\":\"scatterpolar\"}],\"scatter\":[{\"marker\":{\"line\":{\"color\":\"#283442\"}},\"type\":\"scatter\"}],\"scatterternary\":[{\"marker\":{\"colorbar\":{\"outlinewidth\":0,\"ticks\":\"\"}},\"type\":\"scatterternary\"}],\"surface\":[{\"colorbar\":{\"outlinewidth\":0,\"ticks\":\"\"},\"colorscale\":[[0.0,\"#0d0887\"],[0.1111111111111111,\"#46039f\"],[0.2222222222222222,\"#7201a8\"],[0.3333333333333333,\"#9c179e\"],[0.4444444444444444,\"#bd3786\"],[0.5555555555555556,\"#d8576b\"],[0.6666666666666666,\"#ed7953\"],[0.7777777777777778,\"#fb9f3a\"],[0.8888888888888888,\"#fdca26\"],[1.0,\"#f0f921\"]],\"type\":\"surface\"}],\"table\":[{\"cells\":{\"fill\":{\"color\":\"#506784\"},\"line\":{\"color\":\"rgb(17,17,17)\"}},\"header\":{\"fill\":{\"color\":\"#2a3f5f\"},\"line\":{\"color\":\"rgb(17,17,17)\"}},\"type\":\"table\"}]},\"layout\":{\"annotationdefaults\":{\"arrowcolor\":\"#f2f5fa\",\"arrowhead\":0,\"arrowwidth\":1},\"autotypenumbers\":\"strict\",\"coloraxis\":{\"colorbar\":{\"outlinewidth\":0,\"ticks\":\"\"}},\"colorscale\":{\"diverging\":[[0,\"#8e0152\"],[0.1,\"#c51b7d\"],[0.2,\"#de77ae\"],[0.3,\"#f1b6da\"],[0.4,\"#fde0ef\"],[0.5,\"#f7f7f7\"],[0.6,\"#e6f5d0\"],[0.7,\"#b8e186\"],[0.8,\"#7fbc41\"],[0.9,\"#4d9221\"],[1,\"#276419\"]],\"sequential\":[[0.0,\"#0d0887\"],[0.1111111111111111,\"#46039f\"],[0.2222222222222222,\"#7201a8\"],[0.3333333333333333,\"#9c179e\"],[0.4444444444444444,\"#bd3786\"],[0.5555555555555556,\"#d8576b\"],[0.6666666666666666,\"#ed7953\"],[0.7777777777777778,\"#fb9f3a\"],[0.8888888888888888,\"#fdca26\"],[1.0,\"#f0f921\"]],\"sequentialminus\":[[0.0,\"#0d0887\"],[0.1111111111111111,\"#46039f\"],[0.2222222222222222,\"#7201a8\"],[0.3333333333333333,\"#9c179e\"],[0.4444444444444444,\"#bd3786\"],[0.5555555555555556,\"#d8576b\"],[0.6666666666666666,\"#ed7953\"],[0.7777777777777778,\"#fb9f3a\"],[0.8888888888888888,\"#fdca26\"],[1.0,\"#f0f921\"]]},\"colorway\":[\"#636efa\",\"#EF553B\",\"#00cc96\",\"#ab63fa\",\"#FFA15A\",\"#19d3f3\",\"#FF6692\",\"#B6E880\",\"#FF97FF\",\"#FECB52\"],\"font\":{\"color\":\"#f2f5fa\"},\"geo\":{\"bgcolor\":\"rgb(17,17,17)\",\"lakecolor\":\"rgb(17,17,17)\",\"landcolor\":\"rgb(17,17,17)\",\"showlakes\":true,\"showland\":true,\"subunitcolor\":\"#506784\"},\"hoverlabel\":{\"align\":\"left\"},\"hovermode\":\"closest\",\"mapbox\":{\"style\":\"dark\"},\"paper_bgcolor\":\"rgb(17,17,17)\",\"plot_bgcolor\":\"rgb(17,17,17)\",\"polar\":{\"angularaxis\":{\"gridcolor\":\"#506784\",\"linecolor\":\"#506784\",\"ticks\":\"\"},\"bgcolor\":\"rgb(17,17,17)\",\"radialaxis\":{\"gridcolor\":\"#506784\",\"linecolor\":\"#506784\",\"ticks\":\"\"}},\"scene\":{\"xaxis\":{\"backgroundcolor\":\"rgb(17,17,17)\",\"gridcolor\":\"#506784\",\"gridwidth\":2,\"linecolor\":\"#506784\",\"showbackground\":true,\"ticks\":\"\",\"zerolinecolor\":\"#C8D4E3\"},\"yaxis\":{\"backgroundcolor\":\"rgb(17,17,17)\",\"gridcolor\":\"#506784\",\"gridwidth\":2,\"linecolor\":\"#506784\",\"showbackground\":true,\"ticks\":\"\",\"zerolinecolor\":\"#C8D4E3\"},\"zaxis\":{\"backgroundcolor\":\"rgb(17,17,17)\",\"gridcolor\":\"#506784\",\"gridwidth\":2,\"linecolor\":\"#506784\",\"showbackground\":true,\"ticks\":\"\",\"zerolinecolor\":\"#C8D4E3\"}},\"shapedefaults\":{\"line\":{\"color\":\"#f2f5fa\"}},\"sliderdefaults\":{\"bgcolor\":\"#C8D4E3\",\"bordercolor\":\"rgb(17,17,17)\",\"borderwidth\":1,\"tickwidth\":0},\"ternary\":{\"aaxis\":{\"gridcolor\":\"#506784\",\"linecolor\":\"#506784\",\"ticks\":\"\"},\"baxis\":{\"gridcolor\":\"#506784\",\"linecolor\":\"#506784\",\"ticks\":\"\"},\"bgcolor\":\"rgb(17,17,17)\",\"caxis\":{\"gridcolor\":\"#506784\",\"linecolor\":\"#506784\",\"ticks\":\"\"}},\"title\":{\"x\":0.05},\"updatemenudefaults\":{\"bgcolor\":\"#506784\",\"borderwidth\":0},\"xaxis\":{\"automargin\":true,\"gridcolor\":\"#283442\",\"linecolor\":\"#506784\",\"ticks\":\"\",\"title\":{\"standoff\":15},\"zerolinecolor\":\"#283442\",\"zerolinewidth\":2},\"yaxis\":{\"automargin\":true,\"gridcolor\":\"#283442\",\"linecolor\":\"#506784\",\"ticks\":\"\",\"title\":{\"standoff\":15},\"zerolinecolor\":\"#283442\",\"zerolinewidth\":2}}},\"xaxis\":{\"anchor\":\"y\",\"domain\":[0.0,1.0],\"title\":{\"text\":\"Number of Incidents\"}},\"yaxis\":{\"anchor\":\"x\",\"domain\":[0.0,1.0],\"title\":{\"text\":\"Road Name\"}},\"legend\":{\"tracegroupgap\":0},\"title\":{\"text\":\"Incidents by Road\"},\"barmode\":\"relative\"},                        {\"responsive\": true}                    ).then(function(){\n",
              "                            \n",
              "var gd = document.getElementById('31956447-dd0e-4291-a7d1-2690f20a33b5');\n",
              "var x = new MutationObserver(function (mutations, observer) {{\n",
              "        var display = window.getComputedStyle(gd).display;\n",
              "        if (!display || display === 'none') {{\n",
              "            console.log([gd, 'removed!']);\n",
              "            Plotly.purge(gd);\n",
              "            observer.disconnect();\n",
              "        }}\n",
              "}});\n",
              "\n",
              "// Listen for the removal of the full notebook cells\n",
              "var notebookContainer = gd.closest('#notebook-container');\n",
              "if (notebookContainer) {{\n",
              "    x.observe(notebookContainer, {childList: true});\n",
              "}}\n",
              "\n",
              "// Listen for the clearing of the current output cell\n",
              "var outputEl = gd.closest('.output');\n",
              "if (outputEl) {{\n",
              "    x.observe(outputEl, {childList: true});\n",
              "}}\n",
              "\n",
              "                        })                };                            </script>        </div>\n",
              "</body>\n",
              "</html>"
            ]
          },
          "metadata": {}
        }
      ]
    },
    {
      "cell_type": "markdown",
      "source": [
        "Most Frequent Victims based on 'Victim':"
      ],
      "metadata": {
        "id": "9IVcmZwHpM0t"
      }
    },
    {
      "cell_type": "code",
      "source": [
        "# Count the occurrences of each victim category\n",
        "victim_counts = df['Victim'].value_counts().reset_index()\n",
        "victim_counts.columns = ['Victim', 'Count']\n",
        "\n",
        "# Create a bar chart to visualize the most frequent victims\n",
        "fig = px.bar(victim_counts, x='Victim', y='Count', title='Most Frequent Victims')\n",
        "fig.show()"
      ],
      "metadata": {
        "colab": {
          "base_uri": "https://localhost:8080/",
          "height": 542
        },
        "id": "9NbnK_YWpNKg",
        "outputId": "12888dc4-5a31-467f-dcfd-49ff28e36161"
      },
      "execution_count": 27,
      "outputs": [
        {
          "output_type": "display_data",
          "data": {
            "text/html": [
              "<html>\n",
              "<head><meta charset=\"utf-8\" /></head>\n",
              "<body>\n",
              "    <div>            <script src=\"https://cdnjs.cloudflare.com/ajax/libs/mathjax/2.7.5/MathJax.js?config=TeX-AMS-MML_SVG\"></script><script type=\"text/javascript\">if (window.MathJax && window.MathJax.Hub && window.MathJax.Hub.Config) {window.MathJax.Hub.Config({SVG: {font: \"STIX-Web\"}});}</script>                <script type=\"text/javascript\">window.PlotlyConfig = {MathJaxConfig: 'local'};</script>\n",
              "        <script charset=\"utf-8\" src=\"https://cdn.plot.ly/plotly-2.24.1.min.js\"></script>                <div id=\"f96223f0-c762-42a2-8832-a5829c8ff497\" class=\"plotly-graph-div\" style=\"height:525px; width:100%;\"></div>            <script type=\"text/javascript\">                                    window.PLOTLYENV=window.PLOTLYENV || {};                                    if (document.getElementById(\"f96223f0-c762-42a2-8832-a5829c8ff497\")) {                    Plotly.newPlot(                        \"f96223f0-c762-42a2-8832-a5829c8ff497\",                        [{\"alignmentgroup\":\"True\",\"hovertemplate\":\"Victim=%{x}\\u003cbr\\u003eCount=%{y}\\u003cextra\\u003e\\u003c\\u002fextra\\u003e\",\"legendgroup\":\"\",\"marker\":{\"color\":\"#636efa\",\"pattern\":{\"shape\":\"\"}},\"name\":\"\",\"offsetgroup\":\"\",\"orientation\":\"v\",\"showlegend\":false,\"textposition\":\"auto\",\"x\":[\"PEDESTRIAN\",\"PASSENGER\",\"MOTORCYCLIST\",\"DRIVER\",\"RIDER\",\"PEDAL CYCLIST\",\"MOTOR CYCLIST\"],\"xaxis\":\"x\",\"y\":[572,328,267,169,52,33,1],\"yaxis\":\"y\",\"type\":\"bar\"}],                        {\"template\":{\"data\":{\"histogram2dcontour\":[{\"type\":\"histogram2dcontour\",\"colorbar\":{\"outlinewidth\":0,\"ticks\":\"\"},\"colorscale\":[[0.0,\"#0d0887\"],[0.1111111111111111,\"#46039f\"],[0.2222222222222222,\"#7201a8\"],[0.3333333333333333,\"#9c179e\"],[0.4444444444444444,\"#bd3786\"],[0.5555555555555556,\"#d8576b\"],[0.6666666666666666,\"#ed7953\"],[0.7777777777777778,\"#fb9f3a\"],[0.8888888888888888,\"#fdca26\"],[1.0,\"#f0f921\"]]}],\"choropleth\":[{\"type\":\"choropleth\",\"colorbar\":{\"outlinewidth\":0,\"ticks\":\"\"}}],\"histogram2d\":[{\"type\":\"histogram2d\",\"colorbar\":{\"outlinewidth\":0,\"ticks\":\"\"},\"colorscale\":[[0.0,\"#0d0887\"],[0.1111111111111111,\"#46039f\"],[0.2222222222222222,\"#7201a8\"],[0.3333333333333333,\"#9c179e\"],[0.4444444444444444,\"#bd3786\"],[0.5555555555555556,\"#d8576b\"],[0.6666666666666666,\"#ed7953\"],[0.7777777777777778,\"#fb9f3a\"],[0.8888888888888888,\"#fdca26\"],[1.0,\"#f0f921\"]]}],\"heatmap\":[{\"type\":\"heatmap\",\"colorbar\":{\"outlinewidth\":0,\"ticks\":\"\"},\"colorscale\":[[0.0,\"#0d0887\"],[0.1111111111111111,\"#46039f\"],[0.2222222222222222,\"#7201a8\"],[0.3333333333333333,\"#9c179e\"],[0.4444444444444444,\"#bd3786\"],[0.5555555555555556,\"#d8576b\"],[0.6666666666666666,\"#ed7953\"],[0.7777777777777778,\"#fb9f3a\"],[0.8888888888888888,\"#fdca26\"],[1.0,\"#f0f921\"]]}],\"heatmapgl\":[{\"type\":\"heatmapgl\",\"colorbar\":{\"outlinewidth\":0,\"ticks\":\"\"},\"colorscale\":[[0.0,\"#0d0887\"],[0.1111111111111111,\"#46039f\"],[0.2222222222222222,\"#7201a8\"],[0.3333333333333333,\"#9c179e\"],[0.4444444444444444,\"#bd3786\"],[0.5555555555555556,\"#d8576b\"],[0.6666666666666666,\"#ed7953\"],[0.7777777777777778,\"#fb9f3a\"],[0.8888888888888888,\"#fdca26\"],[1.0,\"#f0f921\"]]}],\"contourcarpet\":[{\"type\":\"contourcarpet\",\"colorbar\":{\"outlinewidth\":0,\"ticks\":\"\"}}],\"contour\":[{\"type\":\"contour\",\"colorbar\":{\"outlinewidth\":0,\"ticks\":\"\"},\"colorscale\":[[0.0,\"#0d0887\"],[0.1111111111111111,\"#46039f\"],[0.2222222222222222,\"#7201a8\"],[0.3333333333333333,\"#9c179e\"],[0.4444444444444444,\"#bd3786\"],[0.5555555555555556,\"#d8576b\"],[0.6666666666666666,\"#ed7953\"],[0.7777777777777778,\"#fb9f3a\"],[0.8888888888888888,\"#fdca26\"],[1.0,\"#f0f921\"]]}],\"surface\":[{\"type\":\"surface\",\"colorbar\":{\"outlinewidth\":0,\"ticks\":\"\"},\"colorscale\":[[0.0,\"#0d0887\"],[0.1111111111111111,\"#46039f\"],[0.2222222222222222,\"#7201a8\"],[0.3333333333333333,\"#9c179e\"],[0.4444444444444444,\"#bd3786\"],[0.5555555555555556,\"#d8576b\"],[0.6666666666666666,\"#ed7953\"],[0.7777777777777778,\"#fb9f3a\"],[0.8888888888888888,\"#fdca26\"],[1.0,\"#f0f921\"]]}],\"mesh3d\":[{\"type\":\"mesh3d\",\"colorbar\":{\"outlinewidth\":0,\"ticks\":\"\"}}],\"scatter\":[{\"fillpattern\":{\"fillmode\":\"overlay\",\"size\":10,\"solidity\":0.2},\"type\":\"scatter\"}],\"parcoords\":[{\"type\":\"parcoords\",\"line\":{\"colorbar\":{\"outlinewidth\":0,\"ticks\":\"\"}}}],\"scatterpolargl\":[{\"type\":\"scatterpolargl\",\"marker\":{\"colorbar\":{\"outlinewidth\":0,\"ticks\":\"\"}}}],\"bar\":[{\"error_x\":{\"color\":\"#2a3f5f\"},\"error_y\":{\"color\":\"#2a3f5f\"},\"marker\":{\"line\":{\"color\":\"#E5ECF6\",\"width\":0.5},\"pattern\":{\"fillmode\":\"overlay\",\"size\":10,\"solidity\":0.2}},\"type\":\"bar\"}],\"scattergeo\":[{\"type\":\"scattergeo\",\"marker\":{\"colorbar\":{\"outlinewidth\":0,\"ticks\":\"\"}}}],\"scatterpolar\":[{\"type\":\"scatterpolar\",\"marker\":{\"colorbar\":{\"outlinewidth\":0,\"ticks\":\"\"}}}],\"histogram\":[{\"marker\":{\"pattern\":{\"fillmode\":\"overlay\",\"size\":10,\"solidity\":0.2}},\"type\":\"histogram\"}],\"scattergl\":[{\"type\":\"scattergl\",\"marker\":{\"colorbar\":{\"outlinewidth\":0,\"ticks\":\"\"}}}],\"scatter3d\":[{\"type\":\"scatter3d\",\"line\":{\"colorbar\":{\"outlinewidth\":0,\"ticks\":\"\"}},\"marker\":{\"colorbar\":{\"outlinewidth\":0,\"ticks\":\"\"}}}],\"scattermapbox\":[{\"type\":\"scattermapbox\",\"marker\":{\"colorbar\":{\"outlinewidth\":0,\"ticks\":\"\"}}}],\"scatterternary\":[{\"type\":\"scatterternary\",\"marker\":{\"colorbar\":{\"outlinewidth\":0,\"ticks\":\"\"}}}],\"scattercarpet\":[{\"type\":\"scattercarpet\",\"marker\":{\"colorbar\":{\"outlinewidth\":0,\"ticks\":\"\"}}}],\"carpet\":[{\"aaxis\":{\"endlinecolor\":\"#2a3f5f\",\"gridcolor\":\"white\",\"linecolor\":\"white\",\"minorgridcolor\":\"white\",\"startlinecolor\":\"#2a3f5f\"},\"baxis\":{\"endlinecolor\":\"#2a3f5f\",\"gridcolor\":\"white\",\"linecolor\":\"white\",\"minorgridcolor\":\"white\",\"startlinecolor\":\"#2a3f5f\"},\"type\":\"carpet\"}],\"table\":[{\"cells\":{\"fill\":{\"color\":\"#EBF0F8\"},\"line\":{\"color\":\"white\"}},\"header\":{\"fill\":{\"color\":\"#C8D4E3\"},\"line\":{\"color\":\"white\"}},\"type\":\"table\"}],\"barpolar\":[{\"marker\":{\"line\":{\"color\":\"#E5ECF6\",\"width\":0.5},\"pattern\":{\"fillmode\":\"overlay\",\"size\":10,\"solidity\":0.2}},\"type\":\"barpolar\"}],\"pie\":[{\"automargin\":true,\"type\":\"pie\"}]},\"layout\":{\"autotypenumbers\":\"strict\",\"colorway\":[\"#636efa\",\"#EF553B\",\"#00cc96\",\"#ab63fa\",\"#FFA15A\",\"#19d3f3\",\"#FF6692\",\"#B6E880\",\"#FF97FF\",\"#FECB52\"],\"font\":{\"color\":\"#2a3f5f\"},\"hovermode\":\"closest\",\"hoverlabel\":{\"align\":\"left\"},\"paper_bgcolor\":\"white\",\"plot_bgcolor\":\"#E5ECF6\",\"polar\":{\"bgcolor\":\"#E5ECF6\",\"angularaxis\":{\"gridcolor\":\"white\",\"linecolor\":\"white\",\"ticks\":\"\"},\"radialaxis\":{\"gridcolor\":\"white\",\"linecolor\":\"white\",\"ticks\":\"\"}},\"ternary\":{\"bgcolor\":\"#E5ECF6\",\"aaxis\":{\"gridcolor\":\"white\",\"linecolor\":\"white\",\"ticks\":\"\"},\"baxis\":{\"gridcolor\":\"white\",\"linecolor\":\"white\",\"ticks\":\"\"},\"caxis\":{\"gridcolor\":\"white\",\"linecolor\":\"white\",\"ticks\":\"\"}},\"coloraxis\":{\"colorbar\":{\"outlinewidth\":0,\"ticks\":\"\"}},\"colorscale\":{\"sequential\":[[0.0,\"#0d0887\"],[0.1111111111111111,\"#46039f\"],[0.2222222222222222,\"#7201a8\"],[0.3333333333333333,\"#9c179e\"],[0.4444444444444444,\"#bd3786\"],[0.5555555555555556,\"#d8576b\"],[0.6666666666666666,\"#ed7953\"],[0.7777777777777778,\"#fb9f3a\"],[0.8888888888888888,\"#fdca26\"],[1.0,\"#f0f921\"]],\"sequentialminus\":[[0.0,\"#0d0887\"],[0.1111111111111111,\"#46039f\"],[0.2222222222222222,\"#7201a8\"],[0.3333333333333333,\"#9c179e\"],[0.4444444444444444,\"#bd3786\"],[0.5555555555555556,\"#d8576b\"],[0.6666666666666666,\"#ed7953\"],[0.7777777777777778,\"#fb9f3a\"],[0.8888888888888888,\"#fdca26\"],[1.0,\"#f0f921\"]],\"diverging\":[[0,\"#8e0152\"],[0.1,\"#c51b7d\"],[0.2,\"#de77ae\"],[0.3,\"#f1b6da\"],[0.4,\"#fde0ef\"],[0.5,\"#f7f7f7\"],[0.6,\"#e6f5d0\"],[0.7,\"#b8e186\"],[0.8,\"#7fbc41\"],[0.9,\"#4d9221\"],[1,\"#276419\"]]},\"xaxis\":{\"gridcolor\":\"white\",\"linecolor\":\"white\",\"ticks\":\"\",\"title\":{\"standoff\":15},\"zerolinecolor\":\"white\",\"automargin\":true,\"zerolinewidth\":2},\"yaxis\":{\"gridcolor\":\"white\",\"linecolor\":\"white\",\"ticks\":\"\",\"title\":{\"standoff\":15},\"zerolinecolor\":\"white\",\"automargin\":true,\"zerolinewidth\":2},\"scene\":{\"xaxis\":{\"backgroundcolor\":\"#E5ECF6\",\"gridcolor\":\"white\",\"linecolor\":\"white\",\"showbackground\":true,\"ticks\":\"\",\"zerolinecolor\":\"white\",\"gridwidth\":2},\"yaxis\":{\"backgroundcolor\":\"#E5ECF6\",\"gridcolor\":\"white\",\"linecolor\":\"white\",\"showbackground\":true,\"ticks\":\"\",\"zerolinecolor\":\"white\",\"gridwidth\":2},\"zaxis\":{\"backgroundcolor\":\"#E5ECF6\",\"gridcolor\":\"white\",\"linecolor\":\"white\",\"showbackground\":true,\"ticks\":\"\",\"zerolinecolor\":\"white\",\"gridwidth\":2}},\"shapedefaults\":{\"line\":{\"color\":\"#2a3f5f\"}},\"annotationdefaults\":{\"arrowcolor\":\"#2a3f5f\",\"arrowhead\":0,\"arrowwidth\":1},\"geo\":{\"bgcolor\":\"white\",\"landcolor\":\"#E5ECF6\",\"subunitcolor\":\"white\",\"showland\":true,\"showlakes\":true,\"lakecolor\":\"white\"},\"title\":{\"x\":0.05},\"mapbox\":{\"style\":\"light\"}}},\"xaxis\":{\"anchor\":\"y\",\"domain\":[0.0,1.0],\"title\":{\"text\":\"Victim\"}},\"yaxis\":{\"anchor\":\"x\",\"domain\":[0.0,1.0],\"title\":{\"text\":\"Count\"}},\"legend\":{\"tracegroupgap\":0},\"title\":{\"text\":\"Most Frequent Victims\"},\"barmode\":\"relative\"},                        {\"responsive\": true}                    ).then(function(){\n",
              "                            \n",
              "var gd = document.getElementById('f96223f0-c762-42a2-8832-a5829c8ff497');\n",
              "var x = new MutationObserver(function (mutations, observer) {{\n",
              "        var display = window.getComputedStyle(gd).display;\n",
              "        if (!display || display === 'none') {{\n",
              "            console.log([gd, 'removed!']);\n",
              "            Plotly.purge(gd);\n",
              "            observer.disconnect();\n",
              "        }}\n",
              "}});\n",
              "\n",
              "// Listen for the removal of the full notebook cells\n",
              "var notebookContainer = gd.closest('#notebook-container');\n",
              "if (notebookContainer) {{\n",
              "    x.observe(notebookContainer, {childList: true});\n",
              "}}\n",
              "\n",
              "// Listen for the clearing of the current output cell\n",
              "var outputEl = gd.closest('.output');\n",
              "if (outputEl) {{\n",
              "    x.observe(outputEl, {childList: true});\n",
              "}}\n",
              "\n",
              "                        })                };                            </script>        </div>\n",
              "</body>\n",
              "</html>"
            ]
          },
          "metadata": {}
        }
      ]
    },
    {
      "cell_type": "markdown",
      "source": [
        "Age Distribution Among Different Victims:"
      ],
      "metadata": {
        "id": "mg-7qr3kpXow"
      }
    },
    {
      "cell_type": "code",
      "source": [
        "# Create a box plot to compare age distribution among different victims\n",
        "fig = px.box(df, x='Victim', y='Age_refined', title='Age Distribution Among Different Victims')\n",
        "fig.show()"
      ],
      "metadata": {
        "colab": {
          "base_uri": "https://localhost:8080/",
          "height": 542
        },
        "id": "LC1lJCRgpWyl",
        "outputId": "c1878686-752c-4d8f-b107-96c075706c2c"
      },
      "execution_count": 28,
      "outputs": [
        {
          "output_type": "display_data",
          "data": {
            "text/html": [
              "<html>\n",
              "<head><meta charset=\"utf-8\" /></head>\n",
              "<body>\n",
              "    <div>            <script src=\"https://cdnjs.cloudflare.com/ajax/libs/mathjax/2.7.5/MathJax.js?config=TeX-AMS-MML_SVG\"></script><script type=\"text/javascript\">if (window.MathJax && window.MathJax.Hub && window.MathJax.Hub.Config) {window.MathJax.Hub.Config({SVG: {font: \"STIX-Web\"}});}</script>                <script type=\"text/javascript\">window.PlotlyConfig = {MathJaxConfig: 'local'};</script>\n",
              "        <script charset=\"utf-8\" src=\"https://cdn.plot.ly/plotly-2.24.1.min.js\"></script>                <div id=\"126c9c75-5b8a-487b-a1ab-0f3f11f18150\" class=\"plotly-graph-div\" style=\"height:525px; width:100%;\"></div>            <script type=\"text/javascript\">                                    window.PLOTLYENV=window.PLOTLYENV || {};                                    if (document.getElementById(\"126c9c75-5b8a-487b-a1ab-0f3f11f18150\")) {                    Plotly.newPlot(                        \"126c9c75-5b8a-487b-a1ab-0f3f11f18150\",                        [{\"alignmentgroup\":\"True\",\"hovertemplate\":\"Victim=%{x}\\u003cbr\\u003eAge_refined=%{y}\\u003cextra\\u003e\\u003c\\u002fextra\\u003e\",\"legendgroup\":\"\",\"marker\":{\"color\":\"#636efa\"},\"name\":\"\",\"notched\":false,\"offsetgroup\":\"\",\"orientation\":\"v\",\"showlegend\":false,\"x\":[\"DRIVER\",\"DRIVER\",\"DRIVER\",\"RIDER\",\"DRIVER\",\"DRIVER\",\"DRIVER\",\"DRIVER\",\"DRIVER\",\"PASSENGER\",\"PASSENGER\",\"PASSENGER\",\"DRIVER\",\"DRIVER\",\"DRIVER\",\"DRIVER\",\"DRIVER\",\"DRIVER\",\"DRIVER\",\"DRIVER\",\"DRIVER\",\"DRIVER\",\"DRIVER\",\"DRIVER\",\"DRIVER\",\"DRIVER\",\"DRIVER\",\"DRIVER\",\"DRIVER\",\"DRIVER\",\"DRIVER\",\"DRIVER\",\"DRIVER\",\"DRIVER\",\"DRIVER\",\"DRIVER\",\"DRIVER\",\"DRIVER\",\"DRIVER\",\"DRIVER\",\"DRIVER\",\"DRIVER\",\"DRIVER\",\"DRIVER\",\"DRIVER\",\"DRIVER\",\"DRIVER\",\"DRIVER\",\"DRIVER\",\"DRIVER\",\"DRIVER\",\"DRIVER\",\"DRIVER\",\"DRIVER\",\"DRIVER\",\"DRIVER\",\"DRIVER\",\"DRIVER\",\"DRIVER\",\"DRIVER\",\"DRIVER\",\"DRIVER\",\"DRIVER\",\"DRIVER\",\"DRIVER\",\"DRIVER\",\"DRIVER\",\"DRIVER\",\"DRIVER\",\"DRIVER\",\"DRIVER\",\"DRIVER\",\"DRIVER\",\"DRIVER\",\"DRIVER\",\"DRIVER\",\"DRIVER\",\"DRIVER\",\"DRIVER\",\"DRIVER\",\"DRIVER\",\"DRIVER\",\"DRIVER\",\"DRIVER\",\"DRIVER\",\"DRIVER\",\"DRIVER\",\"DRIVER\",\"DRIVER\",\"DRIVER\",\"DRIVER\",\"DRIVER\",\"DRIVER\",\"DRIVER\",\"DRIVER\",\"DRIVER\",\"DRIVER\",\"DRIVER\",\"DRIVER\",\"DRIVER\",\"DRIVER\",\"DRIVER\",\"DRIVER\",\"DRIVER\",\"DRIVER\",\"DRIVER\",\"DRIVER\",\"DRIVER\",\"DRIVER\",\"DRIVER\",\"DRIVER\",\"DRIVER\",\"DRIVER\",\"DRIVER\",\"DRIVER\",\"DRIVER\",\"DRIVER\",\"DRIVER\",\"DRIVER\",\"DRIVER\",\"DRIVER\",\"DRIVER\",\"DRIVER\",\"DRIVER\",\"DRIVER\",\"DRIVER\",\"DRIVER\",\"DRIVER\",\"DRIVER\",\"DRIVER\",\"DRIVER\",\"DRIVER\",\"DRIVER\",\"DRIVER\",\"DRIVER\",\"DRIVER\",\"DRIVER\",\"DRIVER\",\"DRIVER\",\"DRIVER\",\"DRIVER\",\"DRIVER\",\"DRIVER\",\"DRIVER\",\"DRIVER\",\"DRIVER\",\"DRIVER\",\"DRIVER\",\"DRIVER\",\"DRIVER\",\"DRIVER\",\"DRIVER\",\"DRIVER\",\"DRIVER\",\"DRIVER\",\"DRIVER\",\"DRIVER\",\"DRIVER\",\"DRIVER\",\"DRIVER\",\"DRIVER\",\"DRIVER\",\"DRIVER\",\"DRIVER\",\"DRIVER\",\"DRIVER\",\"DRIVER\",\"DRIVER\",\"DRIVER\",\"DRIVER\",\"DRIVER\",\"DRIVER\",\"MOTORCYCLIST\",\"MOTORCYCLIST\",\"MOTORCYCLIST\",\"MOTORCYCLIST\",\"MOTORCYCLIST\",\"MOTORCYCLIST\",\"MOTORCYCLIST\",\"MOTORCYCLIST\",\"MOTORCYCLIST\",\"MOTORCYCLIST\",\"MOTORCYCLIST\",\"MOTORCYCLIST\",\"MOTORCYCLIST\",\"MOTORCYCLIST\",\"MOTORCYCLIST\",\"MOTORCYCLIST\",\"MOTORCYCLIST\",\"MOTORCYCLIST\",\"MOTORCYCLIST\",\"MOTORCYCLIST\",\"MOTORCYCLIST\",\"MOTORCYCLIST\",\"MOTORCYCLIST\",\"MOTORCYCLIST\",\"MOTORCYCLIST\",\"MOTORCYCLIST\",\"MOTORCYCLIST\",\"MOTORCYCLIST\",\"MOTORCYCLIST\",\"MOTORCYCLIST\",\"MOTORCYCLIST\",\"MOTORCYCLIST\",\"MOTORCYCLIST\",\"MOTORCYCLIST\",\"MOTORCYCLIST\",\"MOTORCYCLIST\",\"MOTORCYCLIST\",\"MOTORCYCLIST\",\"MOTORCYCLIST\",\"MOTORCYCLIST\",\"MOTORCYCLIST\",\"MOTORCYCLIST\",\"MOTORCYCLIST\",\"MOTORCYCLIST\",\"MOTORCYCLIST\",\"MOTORCYCLIST\",\"MOTORCYCLIST\",\"MOTORCYCLIST\",\"MOTORCYCLIST\",\"MOTORCYCLIST\",\"MOTORCYCLIST\",\"MOTORCYCLIST\",\"MOTORCYCLIST\",\"MOTORCYCLIST\",\"MOTORCYCLIST\",\"MOTORCYCLIST\",\"MOTORCYCLIST\",\"MOTORCYCLIST\",\"MOTORCYCLIST\",\"MOTORCYCLIST\",\"MOTORCYCLIST\",\"MOTORCYCLIST\",\"MOTORCYCLIST\",\"MOTORCYCLIST\",\"MOTORCYCLIST\",\"MOTORCYCLIST\",\"MOTORCYCLIST\",\"MOTORCYCLIST\",\"MOTORCYCLIST\",\"MOTORCYCLIST\",\"MOTORCYCLIST\",\"MOTORCYCLIST\",\"MOTORCYCLIST\",\"MOTORCYCLIST\",\"MOTORCYCLIST\",\"MOTORCYCLIST\",\"MOTORCYCLIST\",\"MOTORCYCLIST\",\"MOTORCYCLIST\",\"MOTORCYCLIST\",\"MOTORCYCLIST\",\"MOTORCYCLIST\",\"MOTORCYCLIST\",\"MOTORCYCLIST\",\"MOTORCYCLIST\",\"MOTORCYCLIST\",\"MOTORCYCLIST\",\"MOTORCYCLIST\",\"MOTORCYCLIST\",\"MOTORCYCLIST\",\"MOTORCYCLIST\",\"MOTORCYCLIST\",\"MOTORCYCLIST\",\"MOTORCYCLIST\",\"MOTORCYCLIST\",\"MOTORCYCLIST\",\"MOTORCYCLIST\",\"MOTORCYCLIST\",\"MOTORCYCLIST\",\"MOTORCYCLIST\",\"MOTORCYCLIST\",\"MOTORCYCLIST\",\"MOTORCYCLIST\",\"MOTORCYCLIST\",\"MOTORCYCLIST\",\"MOTORCYCLIST\",\"MOTORCYCLIST\",\"MOTORCYCLIST\",\"MOTORCYCLIST\",\"MOTORCYCLIST\",\"MOTORCYCLIST\",\"MOTORCYCLIST\",\"MOTORCYCLIST\",\"MOTORCYCLIST\",\"MOTORCYCLIST\",\"MOTORCYCLIST\",\"MOTORCYCLIST\",\"MOTORCYCLIST\",\"MOTORCYCLIST\",\"MOTORCYCLIST\",\"MOTORCYCLIST\",\"MOTORCYCLIST\",\"MOTORCYCLIST\",\"MOTORCYCLIST\",\"MOTORCYCLIST\",\"MOTORCYCLIST\",\"MOTORCYCLIST\",\"MOTORCYCLIST\",\"MOTORCYCLIST\",\"MOTORCYCLIST\",\"MOTORCYCLIST\",\"MOTORCYCLIST\",\"MOTORCYCLIST\",\"MOTORCYCLIST\",\"MOTORCYCLIST\",\"MOTORCYCLIST\",\"MOTORCYCLIST\",\"MOTORCYCLIST\",\"MOTORCYCLIST\",\"MOTORCYCLIST\",\"MOTORCYCLIST\",\"MOTORCYCLIST\",\"MOTORCYCLIST\",\"MOTORCYCLIST\",\"MOTORCYCLIST\",\"MOTORCYCLIST\",\"MOTORCYCLIST\",\"MOTORCYCLIST\",\"MOTORCYCLIST\",\"MOTORCYCLIST\",\"MOTORCYCLIST\",\"MOTORCYCLIST\",\"MOTORCYCLIST\",\"MOTORCYCLIST\",\"MOTORCYCLIST\",\"MOTORCYCLIST\",\"MOTORCYCLIST\",\"MOTORCYCLIST\",\"MOTORCYCLIST\",\"MOTORCYCLIST\",\"MOTORCYCLIST\",\"MOTORCYCLIST\",\"MOTORCYCLIST\",\"MOTORCYCLIST\",\"MOTORCYCLIST\",\"MOTORCYCLIST\",\"MOTORCYCLIST\",\"MOTORCYCLIST\",\"MOTORCYCLIST\",\"MOTORCYCLIST\",\"MOTORCYCLIST\",\"MOTORCYCLIST\",\"MOTORCYCLIST\",\"MOTORCYCLIST\",\"MOTORCYCLIST\",\"MOTORCYCLIST\",\"MOTORCYCLIST\",\"MOTORCYCLIST\",\"MOTORCYCLIST\",\"MOTORCYCLIST\",\"MOTORCYCLIST\",\"MOTORCYCLIST\",\"MOTORCYCLIST\",\"MOTORCYCLIST\",\"MOTORCYCLIST\",\"MOTORCYCLIST\",\"MOTORCYCLIST\",\"MOTORCYCLIST\",\"MOTORCYCLIST\",\"MOTORCYCLIST\",\"MOTORCYCLIST\",\"MOTORCYCLIST\",\"MOTORCYCLIST\",\"MOTORCYCLIST\",\"MOTORCYCLIST\",\"MOTORCYCLIST\",\"MOTORCYCLIST\",\"MOTORCYCLIST\",\"MOTORCYCLIST\",\"MOTORCYCLIST\",\"MOTORCYCLIST\",\"MOTORCYCLIST\",\"MOTORCYCLIST\",\"MOTORCYCLIST\",\"MOTORCYCLIST\",\"MOTORCYCLIST\",\"MOTORCYCLIST\",\"MOTORCYCLIST\",\"MOTORCYCLIST\",\"MOTORCYCLIST\",\"MOTORCYCLIST\",\"MOTORCYCLIST\",\"MOTORCYCLIST\",\"MOTORCYCLIST\",\"MOTORCYCLIST\",\"MOTORCYCLIST\",\"MOTORCYCLIST\",\"MOTORCYCLIST\",\"MOTORCYCLIST\",\"MOTORCYCLIST\",\"MOTORCYCLIST\",\"MOTORCYCLIST\",\"MOTORCYCLIST\",\"MOTORCYCLIST\",\"MOTORCYCLIST\",\"MOTORCYCLIST\",\"MOTORCYCLIST\",\"MOTORCYCLIST\",\"MOTORCYCLIST\",\"MOTORCYCLIST\",\"MOTORCYCLIST\",\"MOTORCYCLIST\",\"MOTORCYCLIST\",\"MOTORCYCLIST\",\"MOTORCYCLIST\",\"MOTORCYCLIST\",\"MOTORCYCLIST\",\"MOTORCYCLIST\",\"MOTORCYCLIST\",\"MOTORCYCLIST\",\"MOTORCYCLIST\",\"MOTORCYCLIST\",\"MOTORCYCLIST\",\"MOTORCYCLIST\",\"MOTORCYCLIST\",\"MOTORCYCLIST\",\"MOTORCYCLIST\",\"MOTORCYCLIST\",\"MOTORCYCLIST\",\"MOTORCYCLIST\",\"MOTORCYCLIST\",\"MOTORCYCLIST\",\"MOTORCYCLIST\",\"MOTORCYCLIST\",\"MOTORCYCLIST\",\"MOTORCYCLIST\",\"MOTORCYCLIST\",\"MOTORCYCLIST\",\"MOTORCYCLIST\",\"MOTORCYCLIST\",\"MOTORCYCLIST\",\"MOTORCYCLIST\",\"MOTORCYCLIST\",\"MOTORCYCLIST\",\"MOTORCYCLIST\",\"MOTORCYCLIST\",\"MOTORCYCLIST\",\"PEDAL CYCLIST\",\"PEDAL CYCLIST\",\"PEDAL CYCLIST\",\"PEDAL CYCLIST\",\"PEDAL CYCLIST\",\"PEDAL CYCLIST\",\"PEDAL CYCLIST\",\"PEDAL CYCLIST\",\"PEDAL CYCLIST\",\"PEDAL CYCLIST\",\"PEDAL CYCLIST\",\"PEDAL CYCLIST\",\"PEDAL CYCLIST\",\"PEDAL CYCLIST\",\"PEDAL CYCLIST\",\"PEDAL CYCLIST\",\"PEDAL CYCLIST\",\"PEDAL CYCLIST\",\"PEDAL CYCLIST\",\"PEDAL CYCLIST\",\"PEDAL CYCLIST\",\"PEDAL CYCLIST\",\"PEDAL CYCLIST\",\"PEDAL CYCLIST\",\"PEDAL CYCLIST\",\"PEDAL CYCLIST\",\"PASSENGER\",\"PASSENGER\",\"PASSENGER\",\"PASSENGER\",\"PASSENGER\",\"PASSENGER\",\"PASSENGER\",\"PASSENGER\",\"PASSENGER\",\"PASSENGER\",\"PASSENGER\",\"PASSENGER\",\"PASSENGER\",\"PASSENGER\",\"PASSENGER\",\"PASSENGER\",\"PASSENGER\",\"PASSENGER\",\"PASSENGER\",\"PASSENGER\",\"PASSENGER\",\"PASSENGER\",\"PASSENGER\",\"PASSENGER\",\"PASSENGER\",\"PASSENGER\",\"PASSENGER\",\"PASSENGER\",\"PASSENGER\",\"PASSENGER\",\"PASSENGER\",\"PASSENGER\",\"PASSENGER\",\"PASSENGER\",\"PASSENGER\",\"PASSENGER\",\"PASSENGER\",\"PASSENGER\",\"PASSENGER\",\"PASSENGER\",\"PASSENGER\",\"PASSENGER\",\"PASSENGER\",\"PASSENGER\",\"PASSENGER\",\"PASSENGER\",\"PASSENGER\",\"PASSENGER\",\"PASSENGER\",\"PASSENGER\",\"PASSENGER\",\"PASSENGER\",\"PASSENGER\",\"PASSENGER\",\"PASSENGER\",\"PASSENGER\",\"PASSENGER\",\"PASSENGER\",\"PASSENGER\",\"PASSENGER\",\"PASSENGER\",\"PASSENGER\",\"PASSENGER\",\"PASSENGER\",\"PASSENGER\",\"PASSENGER\",\"PASSENGER\",\"PASSENGER\",\"PASSENGER\",\"PASSENGER\",\"PASSENGER\",\"PASSENGER\",\"PASSENGER\",\"PASSENGER\",\"PASSENGER\",\"PASSENGER\",\"PASSENGER\",\"PASSENGER\",\"PASSENGER\",\"PASSENGER\",\"PASSENGER\",\"PASSENGER\",\"PASSENGER\",\"PASSENGER\",\"PASSENGER\",\"PASSENGER\",\"PASSENGER\",\"PASSENGER\",\"PASSENGER\",\"PASSENGER\",\"PASSENGER\",\"PASSENGER\",\"PASSENGER\",\"PASSENGER\",\"PASSENGER\",\"PASSENGER\",\"PASSENGER\",\"PASSENGER\",\"PASSENGER\",\"PASSENGER\",\"PASSENGER\",\"PASSENGER\",\"PASSENGER\",\"PASSENGER\",\"PASSENGER\",\"PASSENGER\",\"PASSENGER\",\"PASSENGER\",\"PASSENGER\",\"PASSENGER\",\"PASSENGER\",\"PASSENGER\",\"PASSENGER\",\"PASSENGER\",\"PASSENGER\",\"PASSENGER\",\"PASSENGER\",\"PASSENGER\",\"PASSENGER\",\"PEDESTRIAN\",\"PASSENGER\",\"PASSENGER\",\"PASSENGER\",\"PASSENGER\",\"PASSENGER\",\"PASSENGER\",\"PASSENGER\",\"PASSENGER\",\"PASSENGER\",\"PASSENGER\",\"PASSENGER\",\"PASSENGER\",\"PASSENGER\",\"PASSENGER\",\"PASSENGER\",\"PASSENGER\",\"PASSENGER\",\"PASSENGER\",\"PASSENGER\",\"PASSENGER\",\"PASSENGER\",\"PASSENGER\",\"PASSENGER\",\"PASSENGER\",\"PASSENGER\",\"PASSENGER\",\"PASSENGER\",\"PASSENGER\",\"PASSENGER\",\"PASSENGER\",\"PASSENGER\",\"PASSENGER\",\"PASSENGER\",\"PASSENGER\",\"PASSENGER\",\"PASSENGER\",\"PASSENGER\",\"PASSENGER\",\"PASSENGER\",\"PASSENGER\",\"PASSENGER\",\"PASSENGER\",\"PASSENGER\",\"PASSENGER\",\"PASSENGER\",\"PASSENGER\",\"PASSENGER\",\"PASSENGER\",\"PASSENGER\",\"PASSENGER\",\"PASSENGER\",\"PASSENGER\",\"PASSENGER\",\"PASSENGER\",\"PASSENGER\",\"PASSENGER\",\"PASSENGER\",\"PASSENGER\",\"PASSENGER\",\"PASSENGER\",\"PASSENGER\",\"PASSENGER\",\"PASSENGER\",\"PASSENGER\",\"PASSENGER\",\"PASSENGER\",\"PASSENGER\",\"PASSENGER\",\"PASSENGER\",\"PASSENGER\",\"PASSENGER\",\"PASSENGER\",\"PASSENGER\",\"PASSENGER\",\"PASSENGER\",\"PASSENGER\",\"PASSENGER\",\"PASSENGER\",\"PASSENGER\",\"PASSENGER\",\"PASSENGER\",\"PASSENGER\",\"PASSENGER\",\"PASSENGER\",\"PASSENGER\",\"PASSENGER\",\"PASSENGER\",\"PASSENGER\",\"PASSENGER\",\"PASSENGER\",\"PASSENGER\",\"PASSENGER\",\"PASSENGER\",\"PASSENGER\",\"PASSENGER\",\"PASSENGER\",\"PASSENGER\",\"PASSENGER\",\"PASSENGER\",\"PASSENGER\",\"PASSENGER\",\"PASSENGER\",\"PASSENGER\",\"PASSENGER\",\"PASSENGER\",\"PASSENGER\",\"PASSENGER\",\"PASSENGER\",\"PASSENGER\",\"PASSENGER\",\"PASSENGER\",\"PASSENGER\",\"PASSENGER\",\"PASSENGER\",\"PASSENGER\",\"PASSENGER\",\"PASSENGER\",\"PASSENGER\",\"PASSENGER\",\"PASSENGER\",\"PASSENGER\",\"PASSENGER\",\"PASSENGER\",\"PASSENGER\",\"PASSENGER\",\"PASSENGER\",\"PASSENGER\",\"PASSENGER\",\"PASSENGER\",\"PASSENGER\",\"PASSENGER\",\"PASSENGER\",\"PASSENGER\",\"PASSENGER\",\"PASSENGER\",\"PASSENGER\",\"PASSENGER\",\"PASSENGER\",\"PASSENGER\",\"PASSENGER\",\"PASSENGER\",\"PASSENGER\",\"PASSENGER\",\"PASSENGER\",\"PASSENGER\",\"PASSENGER\",\"PASSENGER\",\"PASSENGER\",\"PASSENGER\",\"PASSENGER\",\"PASSENGER\",\"PASSENGER\",\"PASSENGER\",\"PASSENGER\",\"PASSENGER\",\"PASSENGER\",\"PASSENGER\",\"PASSENGER\",\"PASSENGER\",\"PASSENGER\",\"PASSENGER\",\"PASSENGER\",\"PASSENGER\",\"PASSENGER\",\"PASSENGER\",\"PASSENGER\",\"PASSENGER\",\"PASSENGER\",\"PASSENGER\",\"PASSENGER\",\"PASSENGER\",\"PASSENGER\",\"PASSENGER\",\"PASSENGER\",\"PASSENGER\",\"PASSENGER\",\"PASSENGER\",\"PASSENGER\",\"PASSENGER\",\"PASSENGER\",\"PASSENGER\",\"RIDER\",\"RIDER\",\"RIDER\",\"DRIVER\",\"PASSENGER\",\"PASSENGER\",\"PASSENGER\",\"PASSENGER\",\"PASSENGER\",\"PASSENGER\",\"PASSENGER\",\"PASSENGER\",\"PASSENGER\",\"PASSENGER\",\"PASSENGER\",\"PASSENGER\",\"PASSENGER\",\"PASSENGER\",\"PASSENGER\",\"PASSENGER\",\"PASSENGER\",\"PASSENGER\",\"PASSENGER\",\"PASSENGER\",\"PASSENGER\",\"PASSENGER\",\"PASSENGER\",\"PASSENGER\",\"PEDAL CYCLIST\",\"PEDAL CYCLIST\",\"PEDAL CYCLIST\",\"PEDAL CYCLIST\",\"PEDAL CYCLIST\",\"PEDAL CYCLIST\",\"PEDAL CYCLIST\",\"PEDESTRIAN\",\"PEDESTRIAN\",\"PEDESTRIAN\",\"PEDESTRIAN\",\"PEDESTRIAN\",\"PEDESTRIAN\",\"PEDESTRIAN\",\"PEDESTRIAN\",\"PEDESTRIAN\",\"PEDESTRIAN\",\"PEDESTRIAN\",\"PEDESTRIAN\",\"PEDESTRIAN\",\"PEDESTRIAN\",\"PEDESTRIAN\",\"PEDESTRIAN\",\"PEDESTRIAN\",\"PEDESTRIAN\",\"PEDESTRIAN\",\"PEDESTRIAN\",\"PEDESTRIAN\",\"PEDESTRIAN\",\"PEDESTRIAN\",\"PEDESTRIAN\",\"PEDESTRIAN\",\"PEDESTRIAN\",\"PEDESTRIAN\",\"PEDESTRIAN\",\"PEDESTRIAN\",\"PEDESTRIAN\",\"PEDESTRIAN\",\"PEDESTRIAN\",\"PEDESTRIAN\",\"PEDESTRIAN\",\"PEDESTRIAN\",\"PEDESTRIAN\",\"PEDESTRIAN\",\"PEDESTRIAN\",\"PEDESTRIAN\",\"PEDESTRIAN\",\"PEDESTRIAN\",\"PEDESTRIAN\",\"PEDESTRIAN\",\"PEDESTRIAN\",\"PEDESTRIAN\",\"PEDESTRIAN\",\"PEDESTRIAN\",\"PEDESTRIAN\",\"PEDESTRIAN\",\"PEDESTRIAN\",\"PEDESTRIAN\",\"PEDESTRIAN\",\"PEDESTRIAN\",\"PEDESTRIAN\",\"PEDESTRIAN\",\"PEDESTRIAN\",\"PEDESTRIAN\",\"PEDESTRIAN\",\"PEDESTRIAN\",\"PEDESTRIAN\",\"PEDESTRIAN\",\"PEDESTRIAN\",\"PEDESTRIAN\",\"PEDESTRIAN\",\"PEDESTRIAN\",\"PEDESTRIAN\",\"PEDESTRIAN\",\"PEDESTRIAN\",\"PEDESTRIAN\",\"PEDESTRIAN\",\"PEDESTRIAN\",\"PEDESTRIAN\",\"PEDESTRIAN\",\"PEDESTRIAN\",\"PEDESTRIAN\",\"PEDESTRIAN\",\"PEDESTRIAN\",\"PEDESTRIAN\",\"PEDESTRIAN\",\"PEDESTRIAN\",\"PEDESTRIAN\",\"PEDESTRIAN\",\"PEDESTRIAN\",\"PEDESTRIAN\",\"PEDESTRIAN\",\"PEDESTRIAN\",\"PEDESTRIAN\",\"PEDESTRIAN\",\"PEDESTRIAN\",\"PEDESTRIAN\",\"PEDESTRIAN\",\"PEDESTRIAN\",\"PEDESTRIAN\",\"PEDESTRIAN\",\"PEDESTRIAN\",\"PEDESTRIAN\",\"PEDESTRIAN\",\"PEDESTRIAN\",\"PEDESTRIAN\",\"PEDESTRIAN\",\"PEDESTRIAN\",\"PEDESTRIAN\",\"PEDESTRIAN\",\"PEDESTRIAN\",\"PEDESTRIAN\",\"PEDESTRIAN\",\"PEDESTRIAN\",\"PEDESTRIAN\",\"PEDESTRIAN\",\"PEDESTRIAN\",\"PEDESTRIAN\",\"PEDESTRIAN\",\"PEDESTRIAN\",\"PEDESTRIAN\",\"PEDESTRIAN\",\"PEDESTRIAN\",\"PEDESTRIAN\",\"PEDESTRIAN\",\"PEDESTRIAN\",\"PEDESTRIAN\",\"PEDESTRIAN\",\"PEDESTRIAN\",\"PEDESTRIAN\",\"PEDESTRIAN\",\"PEDESTRIAN\",\"PEDESTRIAN\",\"PEDESTRIAN\",\"PEDESTRIAN\",\"PEDESTRIAN\",\"PEDESTRIAN\",\"PEDESTRIAN\",\"PEDESTRIAN\",\"PEDESTRIAN\",\"PEDESTRIAN\",\"PEDESTRIAN\",\"PEDESTRIAN\",\"PEDESTRIAN\",\"PEDESTRIAN\",\"PEDESTRIAN\",\"PEDESTRIAN\",\"PEDESTRIAN\",\"PEDESTRIAN\",\"PEDESTRIAN\",\"PEDESTRIAN\",\"PEDESTRIAN\",\"PEDESTRIAN\",\"PEDESTRIAN\",\"PEDESTRIAN\",\"PEDESTRIAN\",\"PEDESTRIAN\",\"PEDESTRIAN\",\"PEDESTRIAN\",\"PEDESTRIAN\",\"PEDESTRIAN\",\"PEDESTRIAN\",\"PEDESTRIAN\",\"PEDESTRIAN\",\"PEDESTRIAN\",\"PEDESTRIAN\",\"PEDESTRIAN\",\"PEDESTRIAN\",\"PEDESTRIAN\",\"PEDESTRIAN\",\"PEDESTRIAN\",\"PEDESTRIAN\",\"PEDESTRIAN\",\"PEDESTRIAN\",\"PEDESTRIAN\",\"PEDESTRIAN\",\"PEDESTRIAN\",\"PEDESTRIAN\",\"PEDESTRIAN\",\"PEDESTRIAN\",\"PEDESTRIAN\",\"PEDESTRIAN\",\"PEDESTRIAN\",\"PEDESTRIAN\",\"PEDESTRIAN\",\"PEDESTRIAN\",\"PEDESTRIAN\",\"PEDESTRIAN\",\"PEDESTRIAN\",\"PEDESTRIAN\",\"PEDESTRIAN\",\"PEDESTRIAN\",\"PEDESTRIAN\",\"PEDESTRIAN\",\"PEDESTRIAN\",\"PEDESTRIAN\",\"PEDESTRIAN\",\"PEDESTRIAN\",\"PEDESTRIAN\",\"PEDESTRIAN\",\"PEDESTRIAN\",\"PEDESTRIAN\",\"PEDESTRIAN\",\"PEDESTRIAN\",\"PEDESTRIAN\",\"PEDESTRIAN\",\"PEDESTRIAN\",\"PEDESTRIAN\",\"PEDESTRIAN\",\"PEDESTRIAN\",\"PEDESTRIAN\",\"PEDESTRIAN\",\"PEDESTRIAN\",\"PEDESTRIAN\",\"PEDESTRIAN\",\"PEDESTRIAN\",\"PEDESTRIAN\",\"PEDESTRIAN\",\"PEDESTRIAN\",\"PEDESTRIAN\",\"PEDESTRIAN\",\"PEDESTRIAN\",\"PEDESTRIAN\",\"PEDESTRIAN\",\"PEDESTRIAN\",\"PEDESTRIAN\",\"PEDESTRIAN\",\"PEDESTRIAN\",\"PEDESTRIAN\",\"PEDESTRIAN\",\"PEDESTRIAN\",\"PEDESTRIAN\",\"PEDESTRIAN\",\"PEDESTRIAN\",\"PEDESTRIAN\",\"PEDESTRIAN\",\"PEDESTRIAN\",\"PEDESTRIAN\",\"PEDESTRIAN\",\"PEDESTRIAN\",\"PEDESTRIAN\",\"PEDESTRIAN\",\"PEDESTRIAN\",\"PEDESTRIAN\",\"PEDESTRIAN\",\"PEDESTRIAN\",\"PEDESTRIAN\",\"PEDESTRIAN\",\"PEDESTRIAN\",\"PEDESTRIAN\",\"PEDESTRIAN\",\"PEDESTRIAN\",\"PEDESTRIAN\",\"PEDESTRIAN\",\"PEDESTRIAN\",\"PEDESTRIAN\",\"PEDESTRIAN\",\"PEDESTRIAN\",\"PEDESTRIAN\",\"PEDESTRIAN\",\"PEDESTRIAN\",\"PEDESTRIAN\",\"PEDESTRIAN\",\"PEDESTRIAN\",\"PEDESTRIAN\",\"PEDESTRIAN\",\"PEDESTRIAN\",\"PEDESTRIAN\",\"PEDESTRIAN\",\"PEDESTRIAN\",\"PEDESTRIAN\",\"PEDESTRIAN\",\"PEDESTRIAN\",\"PEDESTRIAN\",\"PEDESTRIAN\",\"PEDESTRIAN\",\"PEDESTRIAN\",\"PEDESTRIAN\",\"PEDESTRIAN\",\"PEDESTRIAN\",\"PEDESTRIAN\",\"PEDESTRIAN\",\"PEDESTRIAN\",\"PEDESTRIAN\",\"PEDESTRIAN\",\"PEDESTRIAN\",\"PEDESTRIAN\",\"PEDESTRIAN\",\"PEDESTRIAN\",\"PEDESTRIAN\",\"PEDESTRIAN\",\"PEDESTRIAN\",\"PEDESTRIAN\",\"PEDESTRIAN\",\"PEDESTRIAN\",\"PEDESTRIAN\",\"PEDESTRIAN\",\"PEDESTRIAN\",\"PEDESTRIAN\",\"PEDESTRIAN\",\"PEDESTRIAN\",\"PEDESTRIAN\",\"PEDESTRIAN\",\"PEDESTRIAN\",\"PEDESTRIAN\",\"PEDESTRIAN\",\"PEDESTRIAN\",\"PEDESTRIAN\",\"PEDESTRIAN\",\"PEDESTRIAN\",\"PEDESTRIAN\",\"PEDESTRIAN\",\"PEDESTRIAN\",\"PEDESTRIAN\",\"PEDESTRIAN\",\"PEDESTRIAN\",\"PEDESTRIAN\",\"PEDESTRIAN\",\"PEDESTRIAN\",\"PEDESTRIAN\",\"PEDESTRIAN\",\"PEDESTRIAN\",\"PEDESTRIAN\",\"PEDESTRIAN\",\"PEDESTRIAN\",\"PEDESTRIAN\",\"PEDESTRIAN\",\"PEDESTRIAN\",\"PEDESTRIAN\",\"PEDESTRIAN\",\"PEDESTRIAN\",\"PEDESTRIAN\",\"PEDESTRIAN\",\"PEDESTRIAN\",\"PEDESTRIAN\",\"PEDESTRIAN\",\"PEDESTRIAN\",\"PEDESTRIAN\",\"PEDESTRIAN\",\"PEDESTRIAN\",\"PEDESTRIAN\",\"PEDESTRIAN\",\"PEDESTRIAN\",\"PEDESTRIAN\",\"PEDESTRIAN\",\"PEDESTRIAN\",\"PEDESTRIAN\",\"PEDESTRIAN\",\"PEDESTRIAN\",\"PEDESTRIAN\",\"PEDESTRIAN\",\"PEDESTRIAN\",\"PEDESTRIAN\",\"PEDESTRIAN\",\"PEDESTRIAN\",\"PEDESTRIAN\",\"PEDESTRIAN\",\"PEDESTRIAN\",\"PEDESTRIAN\",\"PEDESTRIAN\",\"PEDESTRIAN\",\"PEDESTRIAN\",\"PEDESTRIAN\",\"PEDESTRIAN\",\"PEDESTRIAN\",\"PEDESTRIAN\",\"PEDESTRIAN\",\"PEDESTRIAN\",\"PEDESTRIAN\",\"PEDESTRIAN\",\"PEDESTRIAN\",\"PEDESTRIAN\",\"PEDESTRIAN\",\"PEDESTRIAN\",\"PEDESTRIAN\",\"PEDESTRIAN\",\"PEDESTRIAN\",\"PEDESTRIAN\",\"PEDESTRIAN\",\"PEDESTRIAN\",\"PEDESTRIAN\",\"PEDESTRIAN\",\"PEDESTRIAN\",\"PEDESTRIAN\",\"PEDESTRIAN\",\"PEDESTRIAN\",\"PEDESTRIAN\",\"PEDESTRIAN\",\"PEDESTRIAN\",\"PEDESTRIAN\",\"PEDESTRIAN\",\"PEDESTRIAN\",\"PEDESTRIAN\",\"PEDESTRIAN\",\"PEDESTRIAN\",\"PEDESTRIAN\",\"PEDESTRIAN\",\"PEDESTRIAN\",\"PEDESTRIAN\",\"PEDESTRIAN\",\"PEDESTRIAN\",\"PEDESTRIAN\",\"PEDESTRIAN\",\"PEDESTRIAN\",\"PEDESTRIAN\",\"PEDESTRIAN\",\"PEDESTRIAN\",\"PEDESTRIAN\",\"PEDESTRIAN\",\"PEDESTRIAN\",\"PEDESTRIAN\",\"PEDESTRIAN\",\"PEDESTRIAN\",\"PEDESTRIAN\",\"PEDESTRIAN\",\"PEDESTRIAN\",\"PEDESTRIAN\",\"PEDESTRIAN\",\"PEDESTRIAN\",\"PEDESTRIAN\",\"PEDESTRIAN\",\"PEDESTRIAN\",\"PEDESTRIAN\",\"PEDESTRIAN\",\"PEDESTRIAN\",\"PEDESTRIAN\",\"PEDESTRIAN\",\"PEDESTRIAN\",\"PEDESTRIAN\",\"PEDESTRIAN\",\"PEDESTRIAN\",\"PEDESTRIAN\",\"PEDESTRIAN\",\"PEDESTRIAN\",\"PEDESTRIAN\",\"PEDESTRIAN\",\"PEDESTRIAN\",\"PEDESTRIAN\",\"PEDESTRIAN\",\"PEDESTRIAN\",\"PEDESTRIAN\",\"PEDESTRIAN\",\"PEDESTRIAN\",\"PEDESTRIAN\",\"PEDESTRIAN\",\"PEDESTRIAN\",\"PEDESTRIAN\",\"PEDESTRIAN\",\"PEDESTRIAN\",\"PEDESTRIAN\",\"PEDESTRIAN\",\"PEDESTRIAN\",\"PEDESTRIAN\",\"PEDESTRIAN\",\"PEDESTRIAN\",\"PEDESTRIAN\",\"PEDESTRIAN\",\"PEDESTRIAN\",\"PEDESTRIAN\",\"PEDESTRIAN\",\"PEDESTRIAN\",\"PEDESTRIAN\",\"PEDESTRIAN\",\"PEDESTRIAN\",\"PEDESTRIAN\",\"PEDESTRIAN\",\"PEDESTRIAN\",\"PEDESTRIAN\",\"PEDESTRIAN\",\"PEDESTRIAN\",\"PEDESTRIAN\",\"PEDESTRIAN\",\"PEDESTRIAN\",\"PEDESTRIAN\",\"PEDESTRIAN\",\"PEDESTRIAN\",\"PEDESTRIAN\",\"PEDESTRIAN\",\"PEDESTRIAN\",\"PEDESTRIAN\",\"PEDESTRIAN\",\"PEDESTRIAN\",\"PEDESTRIAN\",\"PEDESTRIAN\",\"PEDESTRIAN\",\"PEDESTRIAN\",\"PEDESTRIAN\",\"PEDESTRIAN\",\"PEDESTRIAN\",\"PEDESTRIAN\",\"PEDESTRIAN\",\"PEDESTRIAN\",\"PEDESTRIAN\",\"PEDESTRIAN\",\"PEDESTRIAN\",\"PEDESTRIAN\",\"PEDESTRIAN\",\"PEDESTRIAN\",\"PEDESTRIAN\",\"PEDESTRIAN\",\"PEDESTRIAN\",\"PEDESTRIAN\",\"PEDESTRIAN\",\"PEDESTRIAN\",\"PEDESTRIAN\",\"PEDESTRIAN\",\"PEDESTRIAN\",\"PEDESTRIAN\",\"PEDESTRIAN\",\"PEDESTRIAN\",\"PEDESTRIAN\",\"PEDESTRIAN\",\"PEDESTRIAN\",\"PEDESTRIAN\",\"PEDESTRIAN\",\"PEDESTRIAN\",\"PEDESTRIAN\",\"PEDESTRIAN\",\"PEDESTRIAN\",\"PEDESTRIAN\",\"PEDESTRIAN\",\"PEDESTRIAN\",\"PEDESTRIAN\",\"PEDESTRIAN\",\"PEDESTRIAN\",\"PEDESTRIAN\",\"PEDESTRIAN\",\"PEDESTRIAN\",\"PEDESTRIAN\",\"PEDESTRIAN\",\"PEDESTRIAN\",\"PEDESTRIAN\",\"PEDESTRIAN\",\"PEDESTRIAN\",\"PEDESTRIAN\",\"PEDESTRIAN\",\"PEDESTRIAN\",\"PEDESTRIAN\",\"PEDESTRIAN\",\"PEDESTRIAN\",\"PEDESTRIAN\",\"PEDESTRIAN\",\"PEDESTRIAN\",\"PEDESTRIAN\",\"PEDESTRIAN\",\"PEDESTRIAN\",\"PEDESTRIAN\",\"PEDESTRIAN\",\"PEDESTRIAN\",\"PEDESTRIAN\",\"PEDESTRIAN\",\"PEDESTRIAN\",\"PEDESTRIAN\",\"PEDESTRIAN\",\"PEDESTRIAN\",\"PEDESTRIAN\",\"PEDESTRIAN\",\"PEDESTRIAN\",\"PEDESTRIAN\",\"PEDESTRIAN\",\"PEDESTRIAN\",\"PEDESTRIAN\",\"PEDESTRIAN\",\"PEDESTRIAN\",\"PEDESTRIAN\",\"PEDESTRIAN\",\"PEDESTRIAN\",\"PEDESTRIAN\",\"PEDESTRIAN\",\"PEDESTRIAN\",\"PEDESTRIAN\",\"RIDER\",\"PASSENGER\",\"PEDESTRIAN\",\"PEDESTRIAN\",\"PEDESTRIAN\",\"PEDESTRIAN\",\"PEDESTRIAN\",\"PEDESTRIAN\",\"MOTOR CYCLIST\",\"PEDESTRIAN\",\"RIDER\",\"RIDER\",\"RIDER\",\"RIDER\",\"RIDER\",\"RIDER\",\"RIDER\",\"RIDER\",\"RIDER\",\"RIDER\",\"RIDER\",\"RIDER\",\"RIDER\",\"RIDER\",\"RIDER\",\"RIDER\",\"RIDER\",\"RIDER\",\"RIDER\",\"RIDER\",\"RIDER\",\"RIDER\",\"RIDER\",\"RIDER\",\"RIDER\",\"RIDER\",\"RIDER\",\"RIDER\",\"RIDER\",\"RIDER\",\"RIDER\",\"RIDER\",\"RIDER\",\"RIDER\",\"RIDER\",\"RIDER\",\"RIDER\",\"RIDER\",\"RIDER\",\"RIDER\",\"RIDER\",\"RIDER\",\"RIDER\",\"RIDER\",\"RIDER\",\"RIDER\",\"RIDER\"],\"x0\":\" \",\"xaxis\":\"x\",\"y\":[70,43,32,51,34,35,15,26,58,21,11,30,61,25,57,36,28,55,30,38,51,40,27,40,30,33,33,25,60,42,60,49,23,29,23,25,39,25,38,40,35,34,30,31,31,26,28,35,44,18,62,49,40,24,29,32,37,44,30,23,24,25,40,70,35,60,29,35,50,28,28,44,30,32,70,47,55,37,30,35,27,32,36,26,33,40,33,29,33,40,31,28,33,21,44,43,34,33,40,25,36,34,65,30,27,37,54,42,40,35,46,26,51,69,50,20,30,50,31,65,27,31,28,51,35,38,60,49,35,25,57,31,25,42,37,37,40,28,32,25,32,44,29,44,38,55,30,30,52,33,46,47,34,47,61,74,46,51,28,31,28,30,57,45,34,24,26,40,70,66,30,20,27,26,28,9,29,28,26,60,36,35,30,33,26,29,30,75,29,40,33,38,40,25,20,32,26,36,37,21,30,37,35,23,35,33,70,18,21,19,40,31,21,38,23,27,28,32,25,26,23,19,35,22,19,26,24,43,57,70,50,50,17,28,37,37,35,23,32,30,25,30,35,21,61,70,31,30,23,30,52,28,28,28,28,23,28,60,54,38,33,49,35,40,49,23,41,62,35,40,31,31,32,55,30,18,59,57,40,63,35,59,32,30,34,33,23,32,40,24,37,26,30,34,34,28,25,23,28,34,80,28,43,31,28,32,40,18,19,34,40,70,30,23,42,25,37,28,25,20,52,23,32,57,30,23,43,33,29,40,40,40,35,36,44,26,19,80,39,45,39,48,19,19,24,30,62,36,28,30,23,63,52,31,32,19,37,19,32,29,20,57,33,35,26,32,27,33,52,34,19,26,40,24,18,23,25,17,35,21,19,19,60,42,25,34,28,38,40,37,26,32,30,18,22,44,35,34,62,38,43,32,31,47,39,44,48,24,48,30,24,40,25,19,21,40,21,32,32,56,20,45,51,22,27,26,20,25,30,65,30,32,33,35,27,32,37,28,25,13,40,30,33,23,54,55,78,31,13,15,65,29,32,80,44,45,40,40,52,40,61,65,56,40,74,25,45,44,9,32,45,30,60,37,12,56,52,39,30,40,33,30,40,45,31,37,41,3,27,36,60,40,22,65,1,20,44,21,4,38,46,6,25,43,45,12,33,32,40,60,31,9,26,28,42,40,35,35,35,22,35,45,55,30,33,57,30,33,23,45,52,25,19,50,39,42,21,35,28,44,32,17,40,15,36,27,35,37,47,17,28,44,32,35,31,60,10,30,71,1,54,36,40,36,58,47,30,77,35,1,76,24,17,30,57,58,23,69,4,45,36,33,41,23,25,18,25,12,30,69,13,45,40,70,23,25,34,48,20,19,29,31,52,27,22,41,42,60,27,20,40,21,44,16,52,30,29,40,60,34,22,39,28,32,25,36,70,38,62,45,22,30,37,28,39,29,37,23,28,70,12,20,18,48,11,53,19,60,71,30,41,31,26,54,70,1,25,52,30,22,26,38,24,27,38,26,8,29,32,4,26,25,60,51,30,60,30,1,26,30,45,24,70,45,45,30,44,25,24,25,25,37,28,30,19,16,24,36,31,33,42,27,28,20,19,28,33,4,39,43,55,38,27,25,65,26,36,25,36,33,40,19,30,20,28,32,35,37,50,32,29,34,57,55,52,29,49,48,27,26,19,42,42,30,32,38,12,25,1,36,25,9,50,37,25,37,11,36,40,40,55,26,48,45,60,24,40,38,45,55,36,29,52,27,45,35,18,21,2,24,60,60,47,30,1,28,21,34,20,31,32,16,36,36,35,47,6,29,50,40,48,42,17,43,21,40,30,39,54,30,27,65,3,30,38,4,33,65,80,15,7,37,30,30,37,19,25,30,30,32,57,30,35,9,25,40,25,40,28,36,26,52,30,28,78,44,60,38,65,32,9,14,40,36,10,30,33,12,25,54,6,23,30,30,41,20,16,11,73,3,26,38,27,60,39,52,36,70,70,20,40,70,25,21,30,3,21,42,28,35,11,5,40,37,39,15,15,30,45,27,28,27,45,90,9,25,37,35,40,55,60,9,12,45,22,48,12,25,27,47,23,30,12,30,65,50,35,24,43,35,28,30,13,22,6,80,38,30,40,70,28,25,39,42,23,26,32,16,35,50,22,22,9,5,40,21,38,39,4,55,12,30,27,30,18,63,10,45,40,55,49,80,31,40,57,25,43,26,40,48,22,75,65,45,25,42,25,57,58,35,42,32,57,26,34,35,37,41,10,40,26,30,19,7,25,40,45,40,27,11,37,25,28,25,25,32,12,21,32,32,38,44,3,40,70,44,10,48,24,56,44,69,28,60,40,40,3,50,71,4,23,28,49,20,50,35,8,14,8,60,28,60,35,40,30,25,4,32,27,42,45,30,33,20,32,42,15,40,5,42,30,39,39,5,31,35,60,30,6,12,41,59,57,60,42,28,70,15,17,30,45,45,24,45,31,25,45,65,48,7,38,14,31,27,24,26,52,15,26,57,29,40,62,36,50,55,8,52,20,26,30,70,49,45,4,28,32,32,2,40,50,37,57,3,58,25,23,16,24,26,32,42,25,40,40,28,40,31,30,26,25,56,29,15,30,32,37,20,33,59,26,60,25,32,10,60,28,33,28,3,45,25,35,38,43,63,65,40,36,30,77,54,36,57,25,30,45,33,27,36,48,50,50,25,80,48,70,43,51,54,23,53,45,34,70,30,25,20,6,35,60,38,30,23,70,16,22,61,35,43,40,38,9,21,22,47,13,51,40,33,41,28,65,8,4,45,60,36,26,59,23,21,1,26,18,32,40,40,40,62,30,42,49,69,23,39,45,37,31,13,20,28,30,53,21,35,25,30,44,21,24,72,45,23,40,28,42,7,9,33,31,16,32,70,71,15,21,25,40,58,26,39,25,70,31,27,19,21,28,19,55,35,39,23,49,52,45,43,50,23,71,25,27,7,25,7,12,66,30,30,32,28,6,36,35,51,50,40,42,54,41,32,1,8,65,40,31,22,62,37,73,50,30,35,42,58,21,18,70,37,33,44,23,65,14,75,65,50,38,9,16,69,14,35,40,36,36,32,21,28,30,22,38,38,6,25,28,50,57,22,24,16,52,30,40,20,26,39,35,23,40,50,42,27,25,26,32,33,36,26,25,50,29,59,44,52,17,56,24,21,21,25,42,24,32,26,25,45,61,30,24,27],\"y0\":\" \",\"yaxis\":\"y\",\"type\":\"box\"}],                        {\"template\":{\"data\":{\"histogram2dcontour\":[{\"type\":\"histogram2dcontour\",\"colorbar\":{\"outlinewidth\":0,\"ticks\":\"\"},\"colorscale\":[[0.0,\"#0d0887\"],[0.1111111111111111,\"#46039f\"],[0.2222222222222222,\"#7201a8\"],[0.3333333333333333,\"#9c179e\"],[0.4444444444444444,\"#bd3786\"],[0.5555555555555556,\"#d8576b\"],[0.6666666666666666,\"#ed7953\"],[0.7777777777777778,\"#fb9f3a\"],[0.8888888888888888,\"#fdca26\"],[1.0,\"#f0f921\"]]}],\"choropleth\":[{\"type\":\"choropleth\",\"colorbar\":{\"outlinewidth\":0,\"ticks\":\"\"}}],\"histogram2d\":[{\"type\":\"histogram2d\",\"colorbar\":{\"outlinewidth\":0,\"ticks\":\"\"},\"colorscale\":[[0.0,\"#0d0887\"],[0.1111111111111111,\"#46039f\"],[0.2222222222222222,\"#7201a8\"],[0.3333333333333333,\"#9c179e\"],[0.4444444444444444,\"#bd3786\"],[0.5555555555555556,\"#d8576b\"],[0.6666666666666666,\"#ed7953\"],[0.7777777777777778,\"#fb9f3a\"],[0.8888888888888888,\"#fdca26\"],[1.0,\"#f0f921\"]]}],\"heatmap\":[{\"type\":\"heatmap\",\"colorbar\":{\"outlinewidth\":0,\"ticks\":\"\"},\"colorscale\":[[0.0,\"#0d0887\"],[0.1111111111111111,\"#46039f\"],[0.2222222222222222,\"#7201a8\"],[0.3333333333333333,\"#9c179e\"],[0.4444444444444444,\"#bd3786\"],[0.5555555555555556,\"#d8576b\"],[0.6666666666666666,\"#ed7953\"],[0.7777777777777778,\"#fb9f3a\"],[0.8888888888888888,\"#fdca26\"],[1.0,\"#f0f921\"]]}],\"heatmapgl\":[{\"type\":\"heatmapgl\",\"colorbar\":{\"outlinewidth\":0,\"ticks\":\"\"},\"colorscale\":[[0.0,\"#0d0887\"],[0.1111111111111111,\"#46039f\"],[0.2222222222222222,\"#7201a8\"],[0.3333333333333333,\"#9c179e\"],[0.4444444444444444,\"#bd3786\"],[0.5555555555555556,\"#d8576b\"],[0.6666666666666666,\"#ed7953\"],[0.7777777777777778,\"#fb9f3a\"],[0.8888888888888888,\"#fdca26\"],[1.0,\"#f0f921\"]]}],\"contourcarpet\":[{\"type\":\"contourcarpet\",\"colorbar\":{\"outlinewidth\":0,\"ticks\":\"\"}}],\"contour\":[{\"type\":\"contour\",\"colorbar\":{\"outlinewidth\":0,\"ticks\":\"\"},\"colorscale\":[[0.0,\"#0d0887\"],[0.1111111111111111,\"#46039f\"],[0.2222222222222222,\"#7201a8\"],[0.3333333333333333,\"#9c179e\"],[0.4444444444444444,\"#bd3786\"],[0.5555555555555556,\"#d8576b\"],[0.6666666666666666,\"#ed7953\"],[0.7777777777777778,\"#fb9f3a\"],[0.8888888888888888,\"#fdca26\"],[1.0,\"#f0f921\"]]}],\"surface\":[{\"type\":\"surface\",\"colorbar\":{\"outlinewidth\":0,\"ticks\":\"\"},\"colorscale\":[[0.0,\"#0d0887\"],[0.1111111111111111,\"#46039f\"],[0.2222222222222222,\"#7201a8\"],[0.3333333333333333,\"#9c179e\"],[0.4444444444444444,\"#bd3786\"],[0.5555555555555556,\"#d8576b\"],[0.6666666666666666,\"#ed7953\"],[0.7777777777777778,\"#fb9f3a\"],[0.8888888888888888,\"#fdca26\"],[1.0,\"#f0f921\"]]}],\"mesh3d\":[{\"type\":\"mesh3d\",\"colorbar\":{\"outlinewidth\":0,\"ticks\":\"\"}}],\"scatter\":[{\"fillpattern\":{\"fillmode\":\"overlay\",\"size\":10,\"solidity\":0.2},\"type\":\"scatter\"}],\"parcoords\":[{\"type\":\"parcoords\",\"line\":{\"colorbar\":{\"outlinewidth\":0,\"ticks\":\"\"}}}],\"scatterpolargl\":[{\"type\":\"scatterpolargl\",\"marker\":{\"colorbar\":{\"outlinewidth\":0,\"ticks\":\"\"}}}],\"bar\":[{\"error_x\":{\"color\":\"#2a3f5f\"},\"error_y\":{\"color\":\"#2a3f5f\"},\"marker\":{\"line\":{\"color\":\"#E5ECF6\",\"width\":0.5},\"pattern\":{\"fillmode\":\"overlay\",\"size\":10,\"solidity\":0.2}},\"type\":\"bar\"}],\"scattergeo\":[{\"type\":\"scattergeo\",\"marker\":{\"colorbar\":{\"outlinewidth\":0,\"ticks\":\"\"}}}],\"scatterpolar\":[{\"type\":\"scatterpolar\",\"marker\":{\"colorbar\":{\"outlinewidth\":0,\"ticks\":\"\"}}}],\"histogram\":[{\"marker\":{\"pattern\":{\"fillmode\":\"overlay\",\"size\":10,\"solidity\":0.2}},\"type\":\"histogram\"}],\"scattergl\":[{\"type\":\"scattergl\",\"marker\":{\"colorbar\":{\"outlinewidth\":0,\"ticks\":\"\"}}}],\"scatter3d\":[{\"type\":\"scatter3d\",\"line\":{\"colorbar\":{\"outlinewidth\":0,\"ticks\":\"\"}},\"marker\":{\"colorbar\":{\"outlinewidth\":0,\"ticks\":\"\"}}}],\"scattermapbox\":[{\"type\":\"scattermapbox\",\"marker\":{\"colorbar\":{\"outlinewidth\":0,\"ticks\":\"\"}}}],\"scatterternary\":[{\"type\":\"scatterternary\",\"marker\":{\"colorbar\":{\"outlinewidth\":0,\"ticks\":\"\"}}}],\"scattercarpet\":[{\"type\":\"scattercarpet\",\"marker\":{\"colorbar\":{\"outlinewidth\":0,\"ticks\":\"\"}}}],\"carpet\":[{\"aaxis\":{\"endlinecolor\":\"#2a3f5f\",\"gridcolor\":\"white\",\"linecolor\":\"white\",\"minorgridcolor\":\"white\",\"startlinecolor\":\"#2a3f5f\"},\"baxis\":{\"endlinecolor\":\"#2a3f5f\",\"gridcolor\":\"white\",\"linecolor\":\"white\",\"minorgridcolor\":\"white\",\"startlinecolor\":\"#2a3f5f\"},\"type\":\"carpet\"}],\"table\":[{\"cells\":{\"fill\":{\"color\":\"#EBF0F8\"},\"line\":{\"color\":\"white\"}},\"header\":{\"fill\":{\"color\":\"#C8D4E3\"},\"line\":{\"color\":\"white\"}},\"type\":\"table\"}],\"barpolar\":[{\"marker\":{\"line\":{\"color\":\"#E5ECF6\",\"width\":0.5},\"pattern\":{\"fillmode\":\"overlay\",\"size\":10,\"solidity\":0.2}},\"type\":\"barpolar\"}],\"pie\":[{\"automargin\":true,\"type\":\"pie\"}]},\"layout\":{\"autotypenumbers\":\"strict\",\"colorway\":[\"#636efa\",\"#EF553B\",\"#00cc96\",\"#ab63fa\",\"#FFA15A\",\"#19d3f3\",\"#FF6692\",\"#B6E880\",\"#FF97FF\",\"#FECB52\"],\"font\":{\"color\":\"#2a3f5f\"},\"hovermode\":\"closest\",\"hoverlabel\":{\"align\":\"left\"},\"paper_bgcolor\":\"white\",\"plot_bgcolor\":\"#E5ECF6\",\"polar\":{\"bgcolor\":\"#E5ECF6\",\"angularaxis\":{\"gridcolor\":\"white\",\"linecolor\":\"white\",\"ticks\":\"\"},\"radialaxis\":{\"gridcolor\":\"white\",\"linecolor\":\"white\",\"ticks\":\"\"}},\"ternary\":{\"bgcolor\":\"#E5ECF6\",\"aaxis\":{\"gridcolor\":\"white\",\"linecolor\":\"white\",\"ticks\":\"\"},\"baxis\":{\"gridcolor\":\"white\",\"linecolor\":\"white\",\"ticks\":\"\"},\"caxis\":{\"gridcolor\":\"white\",\"linecolor\":\"white\",\"ticks\":\"\"}},\"coloraxis\":{\"colorbar\":{\"outlinewidth\":0,\"ticks\":\"\"}},\"colorscale\":{\"sequential\":[[0.0,\"#0d0887\"],[0.1111111111111111,\"#46039f\"],[0.2222222222222222,\"#7201a8\"],[0.3333333333333333,\"#9c179e\"],[0.4444444444444444,\"#bd3786\"],[0.5555555555555556,\"#d8576b\"],[0.6666666666666666,\"#ed7953\"],[0.7777777777777778,\"#fb9f3a\"],[0.8888888888888888,\"#fdca26\"],[1.0,\"#f0f921\"]],\"sequentialminus\":[[0.0,\"#0d0887\"],[0.1111111111111111,\"#46039f\"],[0.2222222222222222,\"#7201a8\"],[0.3333333333333333,\"#9c179e\"],[0.4444444444444444,\"#bd3786\"],[0.5555555555555556,\"#d8576b\"],[0.6666666666666666,\"#ed7953\"],[0.7777777777777778,\"#fb9f3a\"],[0.8888888888888888,\"#fdca26\"],[1.0,\"#f0f921\"]],\"diverging\":[[0,\"#8e0152\"],[0.1,\"#c51b7d\"],[0.2,\"#de77ae\"],[0.3,\"#f1b6da\"],[0.4,\"#fde0ef\"],[0.5,\"#f7f7f7\"],[0.6,\"#e6f5d0\"],[0.7,\"#b8e186\"],[0.8,\"#7fbc41\"],[0.9,\"#4d9221\"],[1,\"#276419\"]]},\"xaxis\":{\"gridcolor\":\"white\",\"linecolor\":\"white\",\"ticks\":\"\",\"title\":{\"standoff\":15},\"zerolinecolor\":\"white\",\"automargin\":true,\"zerolinewidth\":2},\"yaxis\":{\"gridcolor\":\"white\",\"linecolor\":\"white\",\"ticks\":\"\",\"title\":{\"standoff\":15},\"zerolinecolor\":\"white\",\"automargin\":true,\"zerolinewidth\":2},\"scene\":{\"xaxis\":{\"backgroundcolor\":\"#E5ECF6\",\"gridcolor\":\"white\",\"linecolor\":\"white\",\"showbackground\":true,\"ticks\":\"\",\"zerolinecolor\":\"white\",\"gridwidth\":2},\"yaxis\":{\"backgroundcolor\":\"#E5ECF6\",\"gridcolor\":\"white\",\"linecolor\":\"white\",\"showbackground\":true,\"ticks\":\"\",\"zerolinecolor\":\"white\",\"gridwidth\":2},\"zaxis\":{\"backgroundcolor\":\"#E5ECF6\",\"gridcolor\":\"white\",\"linecolor\":\"white\",\"showbackground\":true,\"ticks\":\"\",\"zerolinecolor\":\"white\",\"gridwidth\":2}},\"shapedefaults\":{\"line\":{\"color\":\"#2a3f5f\"}},\"annotationdefaults\":{\"arrowcolor\":\"#2a3f5f\",\"arrowhead\":0,\"arrowwidth\":1},\"geo\":{\"bgcolor\":\"white\",\"landcolor\":\"#E5ECF6\",\"subunitcolor\":\"white\",\"showland\":true,\"showlakes\":true,\"lakecolor\":\"white\"},\"title\":{\"x\":0.05},\"mapbox\":{\"style\":\"light\"}}},\"xaxis\":{\"anchor\":\"y\",\"domain\":[0.0,1.0],\"title\":{\"text\":\"Victim\"}},\"yaxis\":{\"anchor\":\"x\",\"domain\":[0.0,1.0],\"title\":{\"text\":\"Age_refined\"}},\"legend\":{\"tracegroupgap\":0},\"title\":{\"text\":\"Age Distribution Among Different Victims\"},\"boxmode\":\"group\"},                        {\"responsive\": true}                    ).then(function(){\n",
              "                            \n",
              "var gd = document.getElementById('126c9c75-5b8a-487b-a1ab-0f3f11f18150');\n",
              "var x = new MutationObserver(function (mutations, observer) {{\n",
              "        var display = window.getComputedStyle(gd).display;\n",
              "        if (!display || display === 'none') {{\n",
              "            console.log([gd, 'removed!']);\n",
              "            Plotly.purge(gd);\n",
              "            observer.disconnect();\n",
              "        }}\n",
              "}});\n",
              "\n",
              "// Listen for the removal of the full notebook cells\n",
              "var notebookContainer = gd.closest('#notebook-container');\n",
              "if (notebookContainer) {{\n",
              "    x.observe(notebookContainer, {childList: true});\n",
              "}}\n",
              "\n",
              "// Listen for the clearing of the current output cell\n",
              "var outputEl = gd.closest('.output');\n",
              "if (outputEl) {{\n",
              "    x.observe(outputEl, {childList: true});\n",
              "}}\n",
              "\n",
              "                        })                };                            </script>        </div>\n",
              "</body>\n",
              "</html>"
            ]
          },
          "metadata": {}
        }
      ]
    },
    {
      "cell_type": "markdown",
      "source": [
        "Gender-based Differences in Incidents Among Victims:"
      ],
      "metadata": {
        "id": "dZp4FWWophDO"
      }
    },
    {
      "cell_type": "code",
      "source": [
        "# Create a stacked bar chart to show gender-based differences among victims\n",
        "fig = px.bar(df, x='Victim', color='Gender', title='Gender-based Differences in Incidents Among Victims', template='plotly_dark',)\n",
        "fig.show()"
      ],
      "metadata": {
        "colab": {
          "base_uri": "https://localhost:8080/",
          "height": 542
        },
        "id": "GemoQrJ3phYY",
        "outputId": "ed4696fd-c991-4c53-b803-6b82167a3122"
      },
      "execution_count": 29,
      "outputs": [
        {
          "output_type": "display_data",
          "data": {
            "text/html": [
              "<html>\n",
              "<head><meta charset=\"utf-8\" /></head>\n",
              "<body>\n",
              "    <div>            <script src=\"https://cdnjs.cloudflare.com/ajax/libs/mathjax/2.7.5/MathJax.js?config=TeX-AMS-MML_SVG\"></script><script type=\"text/javascript\">if (window.MathJax && window.MathJax.Hub && window.MathJax.Hub.Config) {window.MathJax.Hub.Config({SVG: {font: \"STIX-Web\"}});}</script>                <script type=\"text/javascript\">window.PlotlyConfig = {MathJaxConfig: 'local'};</script>\n",
              "        <script charset=\"utf-8\" src=\"https://cdn.plot.ly/plotly-2.24.1.min.js\"></script>                <div id=\"701b3e68-7e44-4db3-83ef-559a2d3d5843\" class=\"plotly-graph-div\" style=\"height:525px; width:100%;\"></div>            <script type=\"text/javascript\">                                    window.PLOTLYENV=window.PLOTLYENV || {};                                    if (document.getElementById(\"701b3e68-7e44-4db3-83ef-559a2d3d5843\")) {                    Plotly.newPlot(                        \"701b3e68-7e44-4db3-83ef-559a2d3d5843\",                        [{\"alignmentgroup\":\"True\",\"hovertemplate\":\"Gender=M & F\\u003cbr\\u003eVictim=%{x}\\u003cbr\\u003ecount=%{y}\\u003cextra\\u003e\\u003c\\u002fextra\\u003e\",\"legendgroup\":\"M & F\",\"marker\":{\"color\":\"#636efa\",\"pattern\":{\"shape\":\"\"}},\"name\":\"M & F\",\"offsetgroup\":\"M & F\",\"orientation\":\"v\",\"showlegend\":true,\"textposition\":\"auto\",\"x\":[\"DRIVER\",\"DRIVER\",\"DRIVER\",\"DRIVER\",\"DRIVER\",\"DRIVER\",\"DRIVER\",\"DRIVER\",\"DRIVER\",\"DRIVER\",\"DRIVER\",\"DRIVER\",\"DRIVER\",\"DRIVER\",\"DRIVER\",\"DRIVER\",\"DRIVER\",\"DRIVER\",\"MOTORCYCLIST\",\"PASSENGER\",\"PASSENGER\",\"PASSENGER\",\"PASSENGER\",\"PASSENGER\",\"PASSENGER\",\"PASSENGER\",\"PASSENGER\",\"PASSENGER\",\"PASSENGER\",\"PASSENGER\",\"PASSENGER\",\"PASSENGER\",\"PASSENGER\",\"PASSENGER\",\"PASSENGER\",\"PASSENGER\",\"PASSENGER\",\"PASSENGER\",\"PASSENGER\",\"PASSENGER\",\"PASSENGER\",\"PASSENGER\",\"PASSENGER\",\"PASSENGER\",\"PASSENGER\",\"PEDESTRIAN\",\"RIDER\",\"RIDER\",\"RIDER\",\"PEDESTRIAN\",\"PEDESTRIAN\",\"PEDESTRIAN\",\"PEDESTRIAN\",\"PEDESTRIAN\",\"PEDESTRIAN\",\"PEDESTRIAN\",\"RIDER\",\"RIDER\",\"RIDER\",\"RIDER\",\"RIDER\"],\"xaxis\":\"x\",\"y\":[1,1,1,1,1,1,1,1,1,1,1,1,1,1,1,1,1,1,1,1,1,1,1,1,1,1,1,1,1,1,1,1,1,1,1,1,1,1,1,1,1,1,1,1,1,1,1,1,1,1,1,1,1,1,1,1,1,1,1,1,1],\"yaxis\":\"y\",\"type\":\"bar\"},{\"alignmentgroup\":\"True\",\"hovertemplate\":\"Gender=M\\u003cbr\\u003eVictim=%{x}\\u003cbr\\u003ecount=%{y}\\u003cextra\\u003e\\u003c\\u002fextra\\u003e\",\"legendgroup\":\"M\",\"marker\":{\"color\":\"#EF553B\",\"pattern\":{\"shape\":\"\"}},\"name\":\"M\",\"offsetgroup\":\"M\",\"orientation\":\"v\",\"showlegend\":true,\"textposition\":\"auto\",\"x\":[\"RIDER\",\"DRIVER\",\"DRIVER\",\"PASSENGER\",\"DRIVER\",\"DRIVER\",\"DRIVER\",\"DRIVER\",\"DRIVER\",\"DRIVER\",\"DRIVER\",\"DRIVER\",\"DRIVER\",\"DRIVER\",\"DRIVER\",\"DRIVER\",\"DRIVER\",\"DRIVER\",\"DRIVER\",\"DRIVER\",\"DRIVER\",\"DRIVER\",\"DRIVER\",\"DRIVER\",\"DRIVER\",\"DRIVER\",\"DRIVER\",\"DRIVER\",\"DRIVER\",\"DRIVER\",\"DRIVER\",\"DRIVER\",\"DRIVER\",\"DRIVER\",\"DRIVER\",\"DRIVER\",\"DRIVER\",\"DRIVER\",\"DRIVER\",\"DRIVER\",\"DRIVER\",\"DRIVER\",\"DRIVER\",\"DRIVER\",\"DRIVER\",\"DRIVER\",\"DRIVER\",\"DRIVER\",\"DRIVER\",\"DRIVER\",\"DRIVER\",\"DRIVER\",\"DRIVER\",\"DRIVER\",\"DRIVER\",\"DRIVER\",\"DRIVER\",\"DRIVER\",\"DRIVER\",\"DRIVER\",\"DRIVER\",\"DRIVER\",\"DRIVER\",\"DRIVER\",\"DRIVER\",\"DRIVER\",\"DRIVER\",\"DRIVER\",\"DRIVER\",\"DRIVER\",\"DRIVER\",\"DRIVER\",\"DRIVER\",\"DRIVER\",\"DRIVER\",\"DRIVER\",\"DRIVER\",\"DRIVER\",\"DRIVER\",\"DRIVER\",\"DRIVER\",\"DRIVER\",\"DRIVER\",\"DRIVER\",\"DRIVER\",\"DRIVER\",\"DRIVER\",\"DRIVER\",\"DRIVER\",\"DRIVER\",\"DRIVER\",\"DRIVER\",\"DRIVER\",\"DRIVER\",\"DRIVER\",\"DRIVER\",\"DRIVER\",\"DRIVER\",\"DRIVER\",\"DRIVER\",\"DRIVER\",\"DRIVER\",\"DRIVER\",\"DRIVER\",\"DRIVER\",\"DRIVER\",\"DRIVER\",\"DRIVER\",\"DRIVER\",\"DRIVER\",\"DRIVER\",\"DRIVER\",\"DRIVER\",\"DRIVER\",\"DRIVER\",\"DRIVER\",\"DRIVER\",\"DRIVER\",\"DRIVER\",\"DRIVER\",\"DRIVER\",\"DRIVER\",\"DRIVER\",\"DRIVER\",\"DRIVER\",\"DRIVER\",\"DRIVER\",\"DRIVER\",\"DRIVER\",\"DRIVER\",\"DRIVER\",\"DRIVER\",\"DRIVER\",\"DRIVER\",\"DRIVER\",\"DRIVER\",\"DRIVER\",\"DRIVER\",\"DRIVER\",\"DRIVER\",\"DRIVER\",\"DRIVER\",\"DRIVER\",\"DRIVER\",\"DRIVER\",\"DRIVER\",\"DRIVER\",\"DRIVER\",\"DRIVER\",\"DRIVER\",\"MOTORCYCLIST\",\"MOTORCYCLIST\",\"MOTORCYCLIST\",\"MOTORCYCLIST\",\"MOTORCYCLIST\",\"MOTORCYCLIST\",\"MOTORCYCLIST\",\"MOTORCYCLIST\",\"MOTORCYCLIST\",\"MOTORCYCLIST\",\"MOTORCYCLIST\",\"MOTORCYCLIST\",\"MOTORCYCLIST\",\"MOTORCYCLIST\",\"MOTORCYCLIST\",\"MOTORCYCLIST\",\"MOTORCYCLIST\",\"MOTORCYCLIST\",\"MOTORCYCLIST\",\"MOTORCYCLIST\",\"MOTORCYCLIST\",\"MOTORCYCLIST\",\"MOTORCYCLIST\",\"MOTORCYCLIST\",\"MOTORCYCLIST\",\"MOTORCYCLIST\",\"MOTORCYCLIST\",\"MOTORCYCLIST\",\"MOTORCYCLIST\",\"MOTORCYCLIST\",\"MOTORCYCLIST\",\"MOTORCYCLIST\",\"MOTORCYCLIST\",\"MOTORCYCLIST\",\"MOTORCYCLIST\",\"MOTORCYCLIST\",\"MOTORCYCLIST\",\"MOTORCYCLIST\",\"MOTORCYCLIST\",\"MOTORCYCLIST\",\"MOTORCYCLIST\",\"MOTORCYCLIST\",\"MOTORCYCLIST\",\"MOTORCYCLIST\",\"MOTORCYCLIST\",\"MOTORCYCLIST\",\"MOTORCYCLIST\",\"MOTORCYCLIST\",\"MOTORCYCLIST\",\"MOTORCYCLIST\",\"MOTORCYCLIST\",\"MOTORCYCLIST\",\"MOTORCYCLIST\",\"MOTORCYCLIST\",\"MOTORCYCLIST\",\"MOTORCYCLIST\",\"MOTORCYCLIST\",\"MOTORCYCLIST\",\"MOTORCYCLIST\",\"MOTORCYCLIST\",\"MOTORCYCLIST\",\"MOTORCYCLIST\",\"MOTORCYCLIST\",\"MOTORCYCLIST\",\"MOTORCYCLIST\",\"MOTORCYCLIST\",\"MOTORCYCLIST\",\"MOTORCYCLIST\",\"MOTORCYCLIST\",\"MOTORCYCLIST\",\"MOTORCYCLIST\",\"MOTORCYCLIST\",\"MOTORCYCLIST\",\"MOTORCYCLIST\",\"MOTORCYCLIST\",\"MOTORCYCLIST\",\"MOTORCYCLIST\",\"MOTORCYCLIST\",\"MOTORCYCLIST\",\"MOTORCYCLIST\",\"MOTORCYCLIST\",\"MOTORCYCLIST\",\"MOTORCYCLIST\",\"MOTORCYCLIST\",\"MOTORCYCLIST\",\"MOTORCYCLIST\",\"MOTORCYCLIST\",\"MOTORCYCLIST\",\"MOTORCYCLIST\",\"MOTORCYCLIST\",\"MOTORCYCLIST\",\"MOTORCYCLIST\",\"MOTORCYCLIST\",\"MOTORCYCLIST\",\"MOTORCYCLIST\",\"MOTORCYCLIST\",\"MOTORCYCLIST\",\"MOTORCYCLIST\",\"MOTORCYCLIST\",\"MOTORCYCLIST\",\"MOTORCYCLIST\",\"MOTORCYCLIST\",\"MOTORCYCLIST\",\"MOTORCYCLIST\",\"MOTORCYCLIST\",\"MOTORCYCLIST\",\"MOTORCYCLIST\",\"MOTORCYCLIST\",\"MOTORCYCLIST\",\"MOTORCYCLIST\",\"MOTORCYCLIST\",\"MOTORCYCLIST\",\"MOTORCYCLIST\",\"MOTORCYCLIST\",\"MOTORCYCLIST\",\"MOTORCYCLIST\",\"MOTORCYCLIST\",\"MOTORCYCLIST\",\"MOTORCYCLIST\",\"MOTORCYCLIST\",\"MOTORCYCLIST\",\"MOTORCYCLIST\",\"MOTORCYCLIST\",\"MOTORCYCLIST\",\"MOTORCYCLIST\",\"MOTORCYCLIST\",\"MOTORCYCLIST\",\"MOTORCYCLIST\",\"MOTORCYCLIST\",\"MOTORCYCLIST\",\"MOTORCYCLIST\",\"MOTORCYCLIST\",\"MOTORCYCLIST\",\"MOTORCYCLIST\",\"MOTORCYCLIST\",\"MOTORCYCLIST\",\"MOTORCYCLIST\",\"MOTORCYCLIST\",\"MOTORCYCLIST\",\"MOTORCYCLIST\",\"MOTORCYCLIST\",\"MOTORCYCLIST\",\"MOTORCYCLIST\",\"MOTORCYCLIST\",\"MOTORCYCLIST\",\"MOTORCYCLIST\",\"MOTORCYCLIST\",\"MOTORCYCLIST\",\"MOTORCYCLIST\",\"MOTORCYCLIST\",\"MOTORCYCLIST\",\"MOTORCYCLIST\",\"MOTORCYCLIST\",\"MOTORCYCLIST\",\"MOTORCYCLIST\",\"MOTORCYCLIST\",\"MOTORCYCLIST\",\"MOTORCYCLIST\",\"MOTORCYCLIST\",\"MOTORCYCLIST\",\"MOTORCYCLIST\",\"MOTORCYCLIST\",\"MOTORCYCLIST\",\"MOTORCYCLIST\",\"MOTORCYCLIST\",\"MOTORCYCLIST\",\"MOTORCYCLIST\",\"MOTORCYCLIST\",\"MOTORCYCLIST\",\"MOTORCYCLIST\",\"MOTORCYCLIST\",\"MOTORCYCLIST\",\"MOTORCYCLIST\",\"MOTORCYCLIST\",\"MOTORCYCLIST\",\"MOTORCYCLIST\",\"MOTORCYCLIST\",\"MOTORCYCLIST\",\"MOTORCYCLIST\",\"MOTORCYCLIST\",\"MOTORCYCLIST\",\"MOTORCYCLIST\",\"MOTORCYCLIST\",\"MOTORCYCLIST\",\"MOTORCYCLIST\",\"MOTORCYCLIST\",\"MOTORCYCLIST\",\"MOTORCYCLIST\",\"MOTORCYCLIST\",\"MOTORCYCLIST\",\"MOTORCYCLIST\",\"MOTORCYCLIST\",\"MOTORCYCLIST\",\"MOTORCYCLIST\",\"MOTORCYCLIST\",\"MOTORCYCLIST\",\"MOTORCYCLIST\",\"MOTORCYCLIST\",\"MOTORCYCLIST\",\"MOTORCYCLIST\",\"MOTORCYCLIST\",\"MOTORCYCLIST\",\"MOTORCYCLIST\",\"MOTORCYCLIST\",\"MOTORCYCLIST\",\"MOTORCYCLIST\",\"MOTORCYCLIST\",\"MOTORCYCLIST\",\"MOTORCYCLIST\",\"MOTORCYCLIST\",\"MOTORCYCLIST\",\"MOTORCYCLIST\",\"MOTORCYCLIST\",\"MOTORCYCLIST\",\"MOTORCYCLIST\",\"MOTORCYCLIST\",\"MOTORCYCLIST\",\"MOTORCYCLIST\",\"MOTORCYCLIST\",\"MOTORCYCLIST\",\"MOTORCYCLIST\",\"MOTORCYCLIST\",\"MOTORCYCLIST\",\"MOTORCYCLIST\",\"MOTORCYCLIST\",\"MOTORCYCLIST\",\"MOTORCYCLIST\",\"MOTORCYCLIST\",\"MOTORCYCLIST\",\"MOTORCYCLIST\",\"MOTORCYCLIST\",\"MOTORCYCLIST\",\"MOTORCYCLIST\",\"MOTORCYCLIST\",\"MOTORCYCLIST\",\"MOTORCYCLIST\",\"MOTORCYCLIST\",\"MOTORCYCLIST\",\"MOTORCYCLIST\",\"MOTORCYCLIST\",\"MOTORCYCLIST\",\"MOTORCYCLIST\",\"MOTORCYCLIST\",\"MOTORCYCLIST\",\"MOTORCYCLIST\",\"MOTORCYCLIST\",\"MOTORCYCLIST\",\"MOTORCYCLIST\",\"MOTORCYCLIST\",\"MOTORCYCLIST\",\"MOTORCYCLIST\",\"MOTORCYCLIST\",\"MOTORCYCLIST\",\"MOTORCYCLIST\",\"MOTORCYCLIST\",\"MOTORCYCLIST\",\"MOTORCYCLIST\",\"MOTORCYCLIST\",\"MOTORCYCLIST\",\"MOTORCYCLIST\",\"MOTORCYCLIST\",\"MOTORCYCLIST\",\"MOTORCYCLIST\",\"MOTORCYCLIST\",\"MOTORCYCLIST\",\"MOTORCYCLIST\",\"PEDAL CYCLIST\",\"PEDAL CYCLIST\",\"PEDAL CYCLIST\",\"PEDAL CYCLIST\",\"PEDAL CYCLIST\",\"PEDAL CYCLIST\",\"PEDAL CYCLIST\",\"PEDAL CYCLIST\",\"PEDAL CYCLIST\",\"PEDAL CYCLIST\",\"PEDAL CYCLIST\",\"PEDAL CYCLIST\",\"PEDAL CYCLIST\",\"PEDAL CYCLIST\",\"PEDAL CYCLIST\",\"PEDAL CYCLIST\",\"PEDAL CYCLIST\",\"PEDAL CYCLIST\",\"PEDAL CYCLIST\",\"PEDAL CYCLIST\",\"PEDAL CYCLIST\",\"PEDAL CYCLIST\",\"PEDAL CYCLIST\",\"PEDAL CYCLIST\",\"PEDAL CYCLIST\",\"PASSENGER\",\"PASSENGER\",\"PASSENGER\",\"PASSENGER\",\"PASSENGER\",\"PASSENGER\",\"PASSENGER\",\"PASSENGER\",\"PASSENGER\",\"PASSENGER\",\"PASSENGER\",\"PASSENGER\",\"PASSENGER\",\"PASSENGER\",\"PASSENGER\",\"PASSENGER\",\"PASSENGER\",\"PASSENGER\",\"PASSENGER\",\"PASSENGER\",\"PASSENGER\",\"PASSENGER\",\"PASSENGER\",\"PASSENGER\",\"PASSENGER\",\"PASSENGER\",\"PASSENGER\",\"PASSENGER\",\"PASSENGER\",\"PASSENGER\",\"PASSENGER\",\"PASSENGER\",\"PASSENGER\",\"PASSENGER\",\"PASSENGER\",\"PASSENGER\",\"PASSENGER\",\"PASSENGER\",\"PASSENGER\",\"PASSENGER\",\"PASSENGER\",\"PASSENGER\",\"PASSENGER\",\"PASSENGER\",\"PASSENGER\",\"PASSENGER\",\"PASSENGER\",\"PASSENGER\",\"PASSENGER\",\"PASSENGER\",\"PASSENGER\",\"PASSENGER\",\"PASSENGER\",\"PASSENGER\",\"PASSENGER\",\"PASSENGER\",\"PASSENGER\",\"PASSENGER\",\"PASSENGER\",\"PASSENGER\",\"PASSENGER\",\"PASSENGER\",\"PASSENGER\",\"PASSENGER\",\"PASSENGER\",\"PASSENGER\",\"PASSENGER\",\"PASSENGER\",\"PASSENGER\",\"PASSENGER\",\"PASSENGER\",\"PASSENGER\",\"PASSENGER\",\"PASSENGER\",\"PASSENGER\",\"PASSENGER\",\"PASSENGER\",\"PASSENGER\",\"PASSENGER\",\"PASSENGER\",\"PASSENGER\",\"PASSENGER\",\"PASSENGER\",\"PASSENGER\",\"PASSENGER\",\"PASSENGER\",\"PASSENGER\",\"PASSENGER\",\"PASSENGER\",\"PASSENGER\",\"PASSENGER\",\"PASSENGER\",\"PASSENGER\",\"PASSENGER\",\"PASSENGER\",\"PASSENGER\",\"PASSENGER\",\"PASSENGER\",\"PASSENGER\",\"PASSENGER\",\"PASSENGER\",\"PASSENGER\",\"PASSENGER\",\"PASSENGER\",\"PASSENGER\",\"PASSENGER\",\"PASSENGER\",\"PASSENGER\",\"PASSENGER\",\"PASSENGER\",\"PASSENGER\",\"PASSENGER\",\"PASSENGER\",\"PASSENGER\",\"PASSENGER\",\"PASSENGER\",\"PASSENGER\",\"PASSENGER\",\"PASSENGER\",\"PASSENGER\",\"PASSENGER\",\"PASSENGER\",\"PASSENGER\",\"PASSENGER\",\"PASSENGER\",\"PASSENGER\",\"PASSENGER\",\"PASSENGER\",\"PASSENGER\",\"PASSENGER\",\"PASSENGER\",\"PASSENGER\",\"PASSENGER\",\"PASSENGER\",\"PASSENGER\",\"PASSENGER\",\"PASSENGER\",\"PASSENGER\",\"PASSENGER\",\"PASSENGER\",\"PASSENGER\",\"PASSENGER\",\"PASSENGER\",\"PASSENGER\",\"PASSENGER\",\"PASSENGER\",\"PASSENGER\",\"PASSENGER\",\"PASSENGER\",\"PASSENGER\",\"PASSENGER\",\"PASSENGER\",\"PASSENGER\",\"PASSENGER\",\"PASSENGER\",\"PASSENGER\",\"PASSENGER\",\"PASSENGER\",\"PASSENGER\",\"PASSENGER\",\"PASSENGER\",\"PASSENGER\",\"PASSENGER\",\"PASSENGER\",\"PASSENGER\",\"PASSENGER\",\"PASSENGER\",\"PASSENGER\",\"PASSENGER\",\"PASSENGER\",\"PASSENGER\",\"PASSENGER\",\"PASSENGER\",\"PASSENGER\",\"PASSENGER\",\"PASSENGER\",\"PASSENGER\",\"PASSENGER\",\"PASSENGER\",\"PASSENGER\",\"PASSENGER\",\"PASSENGER\",\"PASSENGER\",\"PASSENGER\",\"PASSENGER\",\"PASSENGER\",\"PASSENGER\",\"PASSENGER\",\"PASSENGER\",\"PASSENGER\",\"PASSENGER\",\"PASSENGER\",\"PASSENGER\",\"PASSENGER\",\"PASSENGER\",\"PASSENGER\",\"PASSENGER\",\"PASSENGER\",\"PASSENGER\",\"PASSENGER\",\"PASSENGER\",\"DRIVER\",\"PASSENGER\",\"PASSENGER\",\"PASSENGER\",\"PASSENGER\",\"PASSENGER\",\"PASSENGER\",\"PASSENGER\",\"PASSENGER\",\"PASSENGER\",\"PASSENGER\",\"PASSENGER\",\"PASSENGER\",\"PASSENGER\",\"PASSENGER\",\"PASSENGER\",\"PASSENGER\",\"PASSENGER\",\"PASSENGER\",\"PASSENGER\",\"PEDAL CYCLIST\",\"PEDAL CYCLIST\",\"PEDAL CYCLIST\",\"PEDAL CYCLIST\",\"PEDAL CYCLIST\",\"PEDAL CYCLIST\",\"PEDAL CYCLIST\",\"PEDESTRIAN\",\"PEDESTRIAN\",\"PEDESTRIAN\",\"PEDESTRIAN\",\"PEDESTRIAN\",\"PEDESTRIAN\",\"PEDESTRIAN\",\"PEDESTRIAN\",\"PEDESTRIAN\",\"PEDESTRIAN\",\"PEDESTRIAN\",\"PEDESTRIAN\",\"PEDESTRIAN\",\"PEDESTRIAN\",\"PEDESTRIAN\",\"PEDESTRIAN\",\"PEDESTRIAN\",\"PEDESTRIAN\",\"PEDESTRIAN\",\"PEDESTRIAN\",\"PEDESTRIAN\",\"PEDESTRIAN\",\"PEDESTRIAN\",\"PEDESTRIAN\",\"PEDESTRIAN\",\"PEDESTRIAN\",\"PEDESTRIAN\",\"PEDESTRIAN\",\"PEDESTRIAN\",\"PEDESTRIAN\",\"PEDESTRIAN\",\"PEDESTRIAN\",\"PEDESTRIAN\",\"PEDESTRIAN\",\"PEDESTRIAN\",\"PEDESTRIAN\",\"PEDESTRIAN\",\"PEDESTRIAN\",\"PEDESTRIAN\",\"PEDESTRIAN\",\"PEDESTRIAN\",\"PEDESTRIAN\",\"PEDESTRIAN\",\"PEDESTRIAN\",\"PEDESTRIAN\",\"PEDESTRIAN\",\"PEDESTRIAN\",\"PEDESTRIAN\",\"PEDESTRIAN\",\"PEDESTRIAN\",\"PEDESTRIAN\",\"PEDESTRIAN\",\"PEDESTRIAN\",\"PEDESTRIAN\",\"PEDESTRIAN\",\"PEDESTRIAN\",\"PEDESTRIAN\",\"PEDESTRIAN\",\"PEDESTRIAN\",\"PEDESTRIAN\",\"PEDESTRIAN\",\"PEDESTRIAN\",\"PEDESTRIAN\",\"PEDESTRIAN\",\"PEDESTRIAN\",\"PEDESTRIAN\",\"PEDESTRIAN\",\"PEDESTRIAN\",\"PEDESTRIAN\",\"PEDESTRIAN\",\"PEDESTRIAN\",\"PEDESTRIAN\",\"PEDESTRIAN\",\"PEDESTRIAN\",\"PEDESTRIAN\",\"PEDESTRIAN\",\"PEDESTRIAN\",\"PEDESTRIAN\",\"PEDESTRIAN\",\"PEDESTRIAN\",\"PEDESTRIAN\",\"PEDESTRIAN\",\"PEDESTRIAN\",\"PEDESTRIAN\",\"PEDESTRIAN\",\"PEDESTRIAN\",\"PEDESTRIAN\",\"PEDESTRIAN\",\"PEDESTRIAN\",\"PEDESTRIAN\",\"PEDESTRIAN\",\"PEDESTRIAN\",\"PEDESTRIAN\",\"PEDESTRIAN\",\"PEDESTRIAN\",\"PEDESTRIAN\",\"PEDESTRIAN\",\"PEDESTRIAN\",\"PEDESTRIAN\",\"PEDESTRIAN\",\"PEDESTRIAN\",\"PEDESTRIAN\",\"PEDESTRIAN\",\"PEDESTRIAN\",\"PEDESTRIAN\",\"PEDESTRIAN\",\"PEDESTRIAN\",\"PEDESTRIAN\",\"PEDESTRIAN\",\"PEDESTRIAN\",\"PEDESTRIAN\",\"PEDESTRIAN\",\"PEDESTRIAN\",\"PEDESTRIAN\",\"PEDESTRIAN\",\"PEDESTRIAN\",\"PEDESTRIAN\",\"PEDESTRIAN\",\"PEDESTRIAN\",\"PEDESTRIAN\",\"PEDESTRIAN\",\"PEDESTRIAN\",\"PEDESTRIAN\",\"PEDESTRIAN\",\"PEDESTRIAN\",\"PEDESTRIAN\",\"PEDESTRIAN\",\"PEDESTRIAN\",\"PEDESTRIAN\",\"PEDESTRIAN\",\"PEDESTRIAN\",\"PEDESTRIAN\",\"PEDESTRIAN\",\"PEDESTRIAN\",\"PEDESTRIAN\",\"PEDESTRIAN\",\"PEDESTRIAN\",\"PEDESTRIAN\",\"PEDESTRIAN\",\"PEDESTRIAN\",\"PEDESTRIAN\",\"PEDESTRIAN\",\"PEDESTRIAN\",\"PEDESTRIAN\",\"PEDESTRIAN\",\"PEDESTRIAN\",\"PEDESTRIAN\",\"PEDESTRIAN\",\"PEDESTRIAN\",\"PEDESTRIAN\",\"PEDESTRIAN\",\"PEDESTRIAN\",\"PEDESTRIAN\",\"PEDESTRIAN\",\"PEDESTRIAN\",\"PEDESTRIAN\",\"PEDESTRIAN\",\"PEDESTRIAN\",\"PEDESTRIAN\",\"PEDESTRIAN\",\"PEDESTRIAN\",\"PEDESTRIAN\",\"PEDESTRIAN\",\"PEDESTRIAN\",\"PEDESTRIAN\",\"PEDESTRIAN\",\"PEDESTRIAN\",\"PEDESTRIAN\",\"PEDESTRIAN\",\"PEDESTRIAN\",\"PEDESTRIAN\",\"PEDESTRIAN\",\"PEDESTRIAN\",\"PEDESTRIAN\",\"PEDESTRIAN\",\"PEDESTRIAN\",\"PEDESTRIAN\",\"PEDESTRIAN\",\"PEDESTRIAN\",\"PEDESTRIAN\",\"PEDESTRIAN\",\"PEDESTRIAN\",\"PEDESTRIAN\",\"PEDESTRIAN\",\"PEDESTRIAN\",\"PEDESTRIAN\",\"PEDESTRIAN\",\"PEDESTRIAN\",\"PEDESTRIAN\",\"PEDESTRIAN\",\"PEDESTRIAN\",\"PEDESTRIAN\",\"PEDESTRIAN\",\"PEDESTRIAN\",\"PEDESTRIAN\",\"PEDESTRIAN\",\"PEDESTRIAN\",\"PEDESTRIAN\",\"PEDESTRIAN\",\"PEDESTRIAN\",\"PEDESTRIAN\",\"PEDESTRIAN\",\"PEDESTRIAN\",\"PEDESTRIAN\",\"PEDESTRIAN\",\"PEDESTRIAN\",\"PEDESTRIAN\",\"PEDESTRIAN\",\"PEDESTRIAN\",\"PEDESTRIAN\",\"PEDESTRIAN\",\"PEDESTRIAN\",\"PEDESTRIAN\",\"PEDESTRIAN\",\"PEDESTRIAN\",\"PEDESTRIAN\",\"PEDESTRIAN\",\"PEDESTRIAN\",\"PEDESTRIAN\",\"PEDESTRIAN\",\"PEDESTRIAN\",\"PEDESTRIAN\",\"PEDESTRIAN\",\"PEDESTRIAN\",\"PEDESTRIAN\",\"PEDESTRIAN\",\"PEDESTRIAN\",\"PEDESTRIAN\",\"PEDESTRIAN\",\"PEDESTRIAN\",\"PEDESTRIAN\",\"PEDESTRIAN\",\"PEDESTRIAN\",\"PEDESTRIAN\",\"PEDESTRIAN\",\"PEDESTRIAN\",\"PEDESTRIAN\",\"PEDESTRIAN\",\"PEDESTRIAN\",\"PEDESTRIAN\",\"PEDESTRIAN\",\"PEDESTRIAN\",\"PEDESTRIAN\",\"PEDESTRIAN\",\"PEDESTRIAN\",\"PEDESTRIAN\",\"PEDESTRIAN\",\"PEDESTRIAN\",\"PEDESTRIAN\",\"PEDESTRIAN\",\"PEDESTRIAN\",\"PEDESTRIAN\",\"PEDESTRIAN\",\"PEDESTRIAN\",\"PEDESTRIAN\",\"PEDESTRIAN\",\"PEDESTRIAN\",\"PEDESTRIAN\",\"PEDESTRIAN\",\"PEDESTRIAN\",\"PEDESTRIAN\",\"PEDESTRIAN\",\"PEDESTRIAN\",\"PEDESTRIAN\",\"PEDESTRIAN\",\"PEDESTRIAN\",\"PEDESTRIAN\",\"PEDESTRIAN\",\"PEDESTRIAN\",\"PEDESTRIAN\",\"PEDESTRIAN\",\"PEDESTRIAN\",\"PEDESTRIAN\",\"PEDESTRIAN\",\"PEDESTRIAN\",\"PEDESTRIAN\",\"PEDESTRIAN\",\"PEDESTRIAN\",\"PEDESTRIAN\",\"PEDESTRIAN\",\"PEDESTRIAN\",\"PEDESTRIAN\",\"PEDESTRIAN\",\"PEDESTRIAN\",\"PEDESTRIAN\",\"PEDESTRIAN\",\"PEDESTRIAN\",\"PEDESTRIAN\",\"PEDESTRIAN\",\"PEDESTRIAN\",\"PEDESTRIAN\",\"PEDESTRIAN\",\"PEDESTRIAN\",\"PEDESTRIAN\",\"PEDESTRIAN\",\"PEDESTRIAN\",\"PEDESTRIAN\",\"PEDESTRIAN\",\"PEDESTRIAN\",\"PEDESTRIAN\",\"PEDESTRIAN\",\"PEDESTRIAN\",\"PEDESTRIAN\",\"PEDESTRIAN\",\"PEDESTRIAN\",\"PEDESTRIAN\",\"PEDESTRIAN\",\"PEDESTRIAN\",\"PEDESTRIAN\",\"PEDESTRIAN\",\"PEDESTRIAN\",\"PEDESTRIAN\",\"PEDESTRIAN\",\"PEDESTRIAN\",\"PEDESTRIAN\",\"PEDESTRIAN\",\"PEDESTRIAN\",\"PEDESTRIAN\",\"PEDESTRIAN\",\"PEDESTRIAN\",\"PEDESTRIAN\",\"PEDESTRIAN\",\"PEDESTRIAN\",\"PEDESTRIAN\",\"PEDESTRIAN\",\"PEDESTRIAN\",\"PEDESTRIAN\",\"PEDESTRIAN\",\"PEDESTRIAN\",\"PEDESTRIAN\",\"PEDESTRIAN\",\"PEDESTRIAN\",\"PEDESTRIAN\",\"PEDESTRIAN\",\"PEDESTRIAN\",\"PEDESTRIAN\",\"PEDESTRIAN\",\"PEDESTRIAN\",\"PEDESTRIAN\",\"PEDESTRIAN\",\"PEDESTRIAN\",\"PEDESTRIAN\",\"PEDESTRIAN\",\"PEDESTRIAN\",\"PEDESTRIAN\",\"PEDESTRIAN\",\"PEDESTRIAN\",\"PEDESTRIAN\",\"PEDESTRIAN\",\"PEDESTRIAN\",\"PEDESTRIAN\",\"PEDESTRIAN\",\"PEDESTRIAN\",\"PEDESTRIAN\",\"PEDESTRIAN\",\"PEDESTRIAN\",\"PEDESTRIAN\",\"PEDESTRIAN\",\"PEDESTRIAN\",\"PEDESTRIAN\",\"PEDESTRIAN\",\"PEDESTRIAN\",\"PEDESTRIAN\",\"PEDESTRIAN\",\"PEDESTRIAN\",\"PEDESTRIAN\",\"PEDESTRIAN\",\"PEDESTRIAN\",\"PEDESTRIAN\",\"PEDESTRIAN\",\"PEDESTRIAN\",\"PEDESTRIAN\",\"PEDESTRIAN\",\"PEDESTRIAN\",\"PEDESTRIAN\",\"PEDESTRIAN\",\"PEDESTRIAN\",\"PEDESTRIAN\",\"PEDESTRIAN\",\"PEDESTRIAN\",\"PEDESTRIAN\",\"PEDESTRIAN\",\"PEDESTRIAN\",\"PEDESTRIAN\",\"PEDESTRIAN\",\"PEDESTRIAN\",\"PEDESTRIAN\",\"PEDESTRIAN\",\"PEDESTRIAN\",\"PEDESTRIAN\",\"PEDESTRIAN\",\"PEDESTRIAN\",\"PEDESTRIAN\",\"PEDESTRIAN\",\"PEDESTRIAN\",\"PEDESTRIAN\",\"PEDESTRIAN\",\"PEDESTRIAN\",\"PEDESTRIAN\",\"PEDESTRIAN\",\"PEDESTRIAN\",\"PEDESTRIAN\",\"PEDESTRIAN\",\"PEDESTRIAN\",\"PEDESTRIAN\",\"PEDESTRIAN\",\"PEDESTRIAN\",\"PEDESTRIAN\",\"PEDESTRIAN\",\"PEDESTRIAN\",\"PEDESTRIAN\",\"PEDESTRIAN\",\"PEDESTRIAN\",\"PEDESTRIAN\",\"PEDESTRIAN\",\"PEDESTRIAN\",\"PEDESTRIAN\",\"PEDESTRIAN\",\"PEDESTRIAN\",\"PEDESTRIAN\",\"PEDESTRIAN\",\"PEDESTRIAN\",\"PEDESTRIAN\",\"PEDESTRIAN\",\"PEDESTRIAN\",\"PEDESTRIAN\",\"PEDESTRIAN\",\"PEDESTRIAN\",\"PEDESTRIAN\",\"PEDESTRIAN\",\"PEDESTRIAN\",\"PEDESTRIAN\",\"PEDESTRIAN\",\"PEDESTRIAN\",\"PEDESTRIAN\",\"PEDESTRIAN\",\"PEDESTRIAN\",\"PEDESTRIAN\",\"PEDESTRIAN\",\"PEDESTRIAN\",\"PEDESTRIAN\",\"PEDESTRIAN\",\"PEDESTRIAN\",\"PEDESTRIAN\",\"PEDESTRIAN\",\"PEDESTRIAN\",\"PEDESTRIAN\",\"PEDESTRIAN\",\"PEDESTRIAN\",\"PEDESTRIAN\",\"PEDESTRIAN\",\"PEDESTRIAN\",\"PEDESTRIAN\",\"PEDESTRIAN\",\"PEDESTRIAN\",\"PEDESTRIAN\",\"PEDESTRIAN\",\"PEDESTRIAN\",\"PEDESTRIAN\",\"RIDER\",\"PEDESTRIAN\",\"PEDESTRIAN\",\"PEDESTRIAN\",\"PEDESTRIAN\",\"PEDESTRIAN\",\"PEDESTRIAN\",\"MOTOR CYCLIST\",\"RIDER\",\"RIDER\",\"RIDER\",\"RIDER\",\"RIDER\",\"RIDER\",\"RIDER\",\"RIDER\",\"RIDER\",\"RIDER\",\"RIDER\",\"RIDER\",\"RIDER\",\"RIDER\",\"RIDER\",\"RIDER\",\"RIDER\",\"RIDER\",\"RIDER\",\"RIDER\",\"RIDER\",\"RIDER\",\"RIDER\",\"RIDER\",\"RIDER\",\"RIDER\",\"RIDER\",\"RIDER\",\"RIDER\",\"RIDER\",\"RIDER\",\"RIDER\",\"RIDER\",\"RIDER\",\"RIDER\",\"RIDER\",\"RIDER\",\"RIDER\",\"RIDER\",\"RIDER\",\"RIDER\",\"RIDER\"],\"xaxis\":\"x\",\"y\":[1,1,1,1,1,1,1,1,1,1,1,1,1,1,1,1,1,1,1,1,1,1,1,1,1,1,1,1,1,1,1,1,1,1,1,1,1,1,1,1,1,1,1,1,1,1,1,1,1,1,1,1,1,1,1,1,1,1,1,1,1,1,1,1,1,1,1,1,1,1,1,1,1,1,1,1,1,1,1,1,1,1,1,1,1,1,1,1,1,1,1,1,1,1,1,1,1,1,1,1,1,1,1,1,1,1,1,1,1,1,1,1,1,1,1,1,1,1,1,1,1,1,1,1,1,1,1,1,1,1,1,1,1,1,1,1,1,1,1,1,1,1,1,1,1,1,1,1,1,1,1,1,1,1,1,1,1,1,1,1,1,1,1,1,1,1,1,1,1,1,1,1,1,1,1,1,1,1,1,1,1,1,1,1,1,1,1,1,1,1,1,1,1,1,1,1,1,1,1,1,1,1,1,1,1,1,1,1,1,1,1,1,1,1,1,1,1,1,1,1,1,1,1,1,1,1,1,1,1,1,1,1,1,1,1,1,1,1,1,1,1,1,1,1,1,1,1,1,1,1,1,1,1,1,1,1,1,1,1,1,1,1,1,1,1,1,1,1,1,1,1,1,1,1,1,1,1,1,1,1,1,1,1,1,1,1,1,1,1,1,1,1,1,1,1,1,1,1,1,1,1,1,1,1,1,1,1,1,1,1,1,1,1,1,1,1,1,1,1,1,1,1,1,1,1,1,1,1,1,1,1,1,1,1,1,1,1,1,1,1,1,1,1,1,1,1,1,1,1,1,1,1,1,1,1,1,1,1,1,1,1,1,1,1,1,1,1,1,1,1,1,1,1,1,1,1,1,1,1,1,1,1,1,1,1,1,1,1,1,1,1,1,1,1,1,1,1,1,1,1,1,1,1,1,1,1,1,1,1,1,1,1,1,1,1,1,1,1,1,1,1,1,1,1,1,1,1,1,1,1,1,1,1,1,1,1,1,1,1,1,1,1,1,1,1,1,1,1,1,1,1,1,1,1,1,1,1,1,1,1,1,1,1,1,1,1,1,1,1,1,1,1,1,1,1,1,1,1,1,1,1,1,1,1,1,1,1,1,1,1,1,1,1,1,1,1,1,1,1,1,1,1,1,1,1,1,1,1,1,1,1,1,1,1,1,1,1,1,1,1,1,1,1,1,1,1,1,1,1,1,1,1,1,1,1,1,1,1,1,1,1,1,1,1,1,1,1,1,1,1,1,1,1,1,1,1,1,1,1,1,1,1,1,1,1,1,1,1,1,1,1,1,1,1,1,1,1,1,1,1,1,1,1,1,1,1,1,1,1,1,1,1,1,1,1,1,1,1,1,1,1,1,1,1,1,1,1,1,1,1,1,1,1,1,1,1,1,1,1,1,1,1,1,1,1,1,1,1,1,1,1,1,1,1,1,1,1,1,1,1,1,1,1,1,1,1,1,1,1,1,1,1,1,1,1,1,1,1,1,1,1,1,1,1,1,1,1,1,1,1,1,1,1,1,1,1,1,1,1,1,1,1,1,1,1,1,1,1,1,1,1,1,1,1,1,1,1,1,1,1,1,1,1,1,1,1,1,1,1,1,1,1,1,1,1,1,1,1,1,1,1,1,1,1,1,1,1,1,1,1,1,1,1,1,1,1,1,1,1,1,1,1,1,1,1,1,1,1,1,1,1,1,1,1,1,1,1,1,1,1,1,1,1,1,1,1,1,1,1,1,1,1,1,1,1,1,1,1,1,1,1,1,1,1,1,1,1,1,1,1,1,1,1,1,1,1,1,1,1,1,1,1,1,1,1,1,1,1,1,1,1,1,1,1,1,1,1,1,1,1,1,1,1,1,1,1,1,1,1,1,1,1,1,1,1,1,1,1,1,1,1,1,1,1,1,1,1,1,1,1,1,1,1,1,1,1,1,1,1,1,1,1,1,1,1,1,1,1,1,1,1,1,1,1,1,1,1,1,1,1,1,1,1,1,1,1,1,1,1,1,1,1,1,1,1,1,1,1,1,1,1,1,1,1,1,1,1,1,1,1,1,1,1,1,1,1,1,1,1,1,1,1,1,1,1,1,1,1,1,1,1,1,1,1,1,1,1,1,1,1,1,1,1,1,1,1,1,1,1,1,1,1,1,1,1,1,1,1,1,1,1,1,1,1,1,1,1,1,1,1,1,1,1,1,1,1,1,1,1,1,1,1,1,1,1,1,1,1,1,1,1,1,1,1,1,1,1,1,1,1,1,1,1,1,1,1,1,1,1,1,1,1,1,1,1,1,1,1,1,1,1,1,1,1,1,1,1,1,1,1,1,1,1,1,1,1,1,1,1,1,1,1,1,1,1,1,1,1,1,1,1,1,1,1,1,1,1,1,1,1,1,1,1,1,1,1,1,1,1,1,1,1,1,1,1,1,1,1,1,1,1,1,1,1,1,1,1,1,1,1,1,1,1,1,1,1,1,1,1,1,1,1,1,1,1,1,1,1,1,1,1,1,1,1,1,1,1,1,1,1,1,1,1,1,1,1,1,1,1,1,1,1,1,1,1,1,1,1,1,1,1,1,1,1,1,1,1,1,1,1,1,1,1,1,1,1,1,1,1,1,1,1,1,1,1,1,1,1,1,1,1,1,1,1,1,1,1,1],\"yaxis\":\"y\",\"type\":\"bar\"},{\"alignmentgroup\":\"True\",\"hovertemplate\":\"Gender=F\\u003cbr\\u003eVictim=%{x}\\u003cbr\\u003ecount=%{y}\\u003cextra\\u003e\\u003c\\u002fextra\\u003e\",\"legendgroup\":\"F\",\"marker\":{\"color\":\"#00cc96\",\"pattern\":{\"shape\":\"\"}},\"name\":\"F\",\"offsetgroup\":\"F\",\"orientation\":\"v\",\"showlegend\":true,\"textposition\":\"auto\",\"x\":[\"PASSENGER\",\"PASSENGER\",\"DRIVER\",\"DRIVER\",\"PEDAL CYCLIST\",\"PASSENGER\",\"PASSENGER\",\"PASSENGER\",\"PASSENGER\",\"PASSENGER\",\"PASSENGER\",\"PASSENGER\",\"PASSENGER\",\"PASSENGER\",\"PASSENGER\",\"PASSENGER\",\"PASSENGER\",\"PASSENGER\",\"PASSENGER\",\"PASSENGER\",\"PASSENGER\",\"PASSENGER\",\"PASSENGER\",\"PASSENGER\",\"PASSENGER\",\"PASSENGER\",\"PASSENGER\",\"PASSENGER\",\"PASSENGER\",\"PASSENGER\",\"PASSENGER\",\"PASSENGER\",\"PASSENGER\",\"PASSENGER\",\"PASSENGER\",\"PASSENGER\",\"PASSENGER\",\"PASSENGER\",\"PASSENGER\",\"PASSENGER\",\"PASSENGER\",\"PASSENGER\",\"PASSENGER\",\"PASSENGER\",\"PASSENGER\",\"PASSENGER\",\"PASSENGER\",\"PASSENGER\",\"PASSENGER\",\"PASSENGER\",\"PASSENGER\",\"PASSENGER\",\"PASSENGER\",\"PASSENGER\",\"PASSENGER\",\"PASSENGER\",\"PASSENGER\",\"PASSENGER\",\"PASSENGER\",\"PASSENGER\",\"PASSENGER\",\"PASSENGER\",\"PASSENGER\",\"PASSENGER\",\"PASSENGER\",\"PASSENGER\",\"PASSENGER\",\"PASSENGER\",\"PASSENGER\",\"PASSENGER\",\"PASSENGER\",\"PASSENGER\",\"PASSENGER\",\"PASSENGER\",\"PASSENGER\",\"PASSENGER\",\"PASSENGER\",\"PASSENGER\",\"PASSENGER\",\"PASSENGER\",\"PASSENGER\",\"PASSENGER\",\"PASSENGER\",\"PEDESTRIAN\",\"PEDESTRIAN\",\"PEDESTRIAN\",\"PEDESTRIAN\",\"PEDESTRIAN\",\"PEDESTRIAN\",\"PEDESTRIAN\",\"PEDESTRIAN\",\"PEDESTRIAN\",\"PEDESTRIAN\",\"PEDESTRIAN\",\"PEDESTRIAN\",\"PEDESTRIAN\",\"PEDESTRIAN\",\"PEDESTRIAN\",\"PEDESTRIAN\",\"PEDESTRIAN\",\"PEDESTRIAN\",\"PEDESTRIAN\",\"PEDESTRIAN\",\"PEDESTRIAN\",\"PEDESTRIAN\",\"PEDESTRIAN\",\"PEDESTRIAN\",\"PEDESTRIAN\",\"PEDESTRIAN\",\"PEDESTRIAN\",\"PEDESTRIAN\",\"PEDESTRIAN\",\"PEDESTRIAN\",\"PEDESTRIAN\",\"PEDESTRIAN\",\"PEDESTRIAN\",\"PEDESTRIAN\",\"PEDESTRIAN\",\"PEDESTRIAN\",\"PEDESTRIAN\",\"PEDESTRIAN\",\"PEDESTRIAN\",\"PEDESTRIAN\",\"PEDESTRIAN\",\"PEDESTRIAN\",\"PEDESTRIAN\",\"PEDESTRIAN\",\"PEDESTRIAN\",\"PEDESTRIAN\",\"PEDESTRIAN\",\"PEDESTRIAN\",\"PEDESTRIAN\",\"PEDESTRIAN\",\"PEDESTRIAN\",\"PEDESTRIAN\",\"PEDESTRIAN\",\"PEDESTRIAN\",\"PEDESTRIAN\",\"PEDESTRIAN\",\"PEDESTRIAN\",\"PEDESTRIAN\",\"PEDESTRIAN\",\"PEDESTRIAN\",\"PEDESTRIAN\",\"PEDESTRIAN\",\"PEDESTRIAN\",\"PEDESTRIAN\",\"PEDESTRIAN\",\"PEDESTRIAN\",\"PEDESTRIAN\",\"PEDESTRIAN\",\"PEDESTRIAN\",\"PEDESTRIAN\",\"PEDESTRIAN\",\"PEDESTRIAN\",\"PEDESTRIAN\",\"PEDESTRIAN\",\"PEDESTRIAN\",\"PEDESTRIAN\",\"PEDESTRIAN\",\"PEDESTRIAN\",\"PEDESTRIAN\",\"PEDESTRIAN\",\"PEDESTRIAN\",\"PEDESTRIAN\",\"PEDESTRIAN\",\"PEDESTRIAN\",\"PEDESTRIAN\",\"PEDESTRIAN\",\"PEDESTRIAN\",\"PEDESTRIAN\",\"PEDESTRIAN\",\"PEDESTRIAN\",\"PEDESTRIAN\",\"PEDESTRIAN\",\"PEDESTRIAN\",\"PEDESTRIAN\",\"PEDESTRIAN\",\"PEDESTRIAN\",\"PEDESTRIAN\",\"PEDESTRIAN\",\"PASSENGER\",\"PEDESTRIAN\"],\"xaxis\":\"x\",\"y\":[1,1,1,1,1,1,1,1,1,1,1,1,1,1,1,1,1,1,1,1,1,1,1,1,1,1,1,1,1,1,1,1,1,1,1,1,1,1,1,1,1,1,1,1,1,1,1,1,1,1,1,1,1,1,1,1,1,1,1,1,1,1,1,1,1,1,1,1,1,1,1,1,1,1,1,1,1,1,1,1,1,1,1,1,1,1,1,1,1,1,1,1,1,1,1,1,1,1,1,1,1,1,1,1,1,1,1,1,1,1,1,1,1,1,1,1,1,1,1,1,1,1,1,1,1,1,1,1,1,1,1,1,1,1,1,1,1,1,1,1,1,1,1,1,1,1,1,1,1,1,1,1,1,1,1,1,1,1,1,1,1,1,1,1,1,1,1,1,1,1,1,1,1,1,1,1,1,1,1,1,1,1,1],\"yaxis\":\"y\",\"type\":\"bar\"}],                        {\"template\":{\"data\":{\"barpolar\":[{\"marker\":{\"line\":{\"color\":\"rgb(17,17,17)\",\"width\":0.5},\"pattern\":{\"fillmode\":\"overlay\",\"size\":10,\"solidity\":0.2}},\"type\":\"barpolar\"}],\"bar\":[{\"error_x\":{\"color\":\"#f2f5fa\"},\"error_y\":{\"color\":\"#f2f5fa\"},\"marker\":{\"line\":{\"color\":\"rgb(17,17,17)\",\"width\":0.5},\"pattern\":{\"fillmode\":\"overlay\",\"size\":10,\"solidity\":0.2}},\"type\":\"bar\"}],\"carpet\":[{\"aaxis\":{\"endlinecolor\":\"#A2B1C6\",\"gridcolor\":\"#506784\",\"linecolor\":\"#506784\",\"minorgridcolor\":\"#506784\",\"startlinecolor\":\"#A2B1C6\"},\"baxis\":{\"endlinecolor\":\"#A2B1C6\",\"gridcolor\":\"#506784\",\"linecolor\":\"#506784\",\"minorgridcolor\":\"#506784\",\"startlinecolor\":\"#A2B1C6\"},\"type\":\"carpet\"}],\"choropleth\":[{\"colorbar\":{\"outlinewidth\":0,\"ticks\":\"\"},\"type\":\"choropleth\"}],\"contourcarpet\":[{\"colorbar\":{\"outlinewidth\":0,\"ticks\":\"\"},\"type\":\"contourcarpet\"}],\"contour\":[{\"colorbar\":{\"outlinewidth\":0,\"ticks\":\"\"},\"colorscale\":[[0.0,\"#0d0887\"],[0.1111111111111111,\"#46039f\"],[0.2222222222222222,\"#7201a8\"],[0.3333333333333333,\"#9c179e\"],[0.4444444444444444,\"#bd3786\"],[0.5555555555555556,\"#d8576b\"],[0.6666666666666666,\"#ed7953\"],[0.7777777777777778,\"#fb9f3a\"],[0.8888888888888888,\"#fdca26\"],[1.0,\"#f0f921\"]],\"type\":\"contour\"}],\"heatmapgl\":[{\"colorbar\":{\"outlinewidth\":0,\"ticks\":\"\"},\"colorscale\":[[0.0,\"#0d0887\"],[0.1111111111111111,\"#46039f\"],[0.2222222222222222,\"#7201a8\"],[0.3333333333333333,\"#9c179e\"],[0.4444444444444444,\"#bd3786\"],[0.5555555555555556,\"#d8576b\"],[0.6666666666666666,\"#ed7953\"],[0.7777777777777778,\"#fb9f3a\"],[0.8888888888888888,\"#fdca26\"],[1.0,\"#f0f921\"]],\"type\":\"heatmapgl\"}],\"heatmap\":[{\"colorbar\":{\"outlinewidth\":0,\"ticks\":\"\"},\"colorscale\":[[0.0,\"#0d0887\"],[0.1111111111111111,\"#46039f\"],[0.2222222222222222,\"#7201a8\"],[0.3333333333333333,\"#9c179e\"],[0.4444444444444444,\"#bd3786\"],[0.5555555555555556,\"#d8576b\"],[0.6666666666666666,\"#ed7953\"],[0.7777777777777778,\"#fb9f3a\"],[0.8888888888888888,\"#fdca26\"],[1.0,\"#f0f921\"]],\"type\":\"heatmap\"}],\"histogram2dcontour\":[{\"colorbar\":{\"outlinewidth\":0,\"ticks\":\"\"},\"colorscale\":[[0.0,\"#0d0887\"],[0.1111111111111111,\"#46039f\"],[0.2222222222222222,\"#7201a8\"],[0.3333333333333333,\"#9c179e\"],[0.4444444444444444,\"#bd3786\"],[0.5555555555555556,\"#d8576b\"],[0.6666666666666666,\"#ed7953\"],[0.7777777777777778,\"#fb9f3a\"],[0.8888888888888888,\"#fdca26\"],[1.0,\"#f0f921\"]],\"type\":\"histogram2dcontour\"}],\"histogram2d\":[{\"colorbar\":{\"outlinewidth\":0,\"ticks\":\"\"},\"colorscale\":[[0.0,\"#0d0887\"],[0.1111111111111111,\"#46039f\"],[0.2222222222222222,\"#7201a8\"],[0.3333333333333333,\"#9c179e\"],[0.4444444444444444,\"#bd3786\"],[0.5555555555555556,\"#d8576b\"],[0.6666666666666666,\"#ed7953\"],[0.7777777777777778,\"#fb9f3a\"],[0.8888888888888888,\"#fdca26\"],[1.0,\"#f0f921\"]],\"type\":\"histogram2d\"}],\"histogram\":[{\"marker\":{\"pattern\":{\"fillmode\":\"overlay\",\"size\":10,\"solidity\":0.2}},\"type\":\"histogram\"}],\"mesh3d\":[{\"colorbar\":{\"outlinewidth\":0,\"ticks\":\"\"},\"type\":\"mesh3d\"}],\"parcoords\":[{\"line\":{\"colorbar\":{\"outlinewidth\":0,\"ticks\":\"\"}},\"type\":\"parcoords\"}],\"pie\":[{\"automargin\":true,\"type\":\"pie\"}],\"scatter3d\":[{\"line\":{\"colorbar\":{\"outlinewidth\":0,\"ticks\":\"\"}},\"marker\":{\"colorbar\":{\"outlinewidth\":0,\"ticks\":\"\"}},\"type\":\"scatter3d\"}],\"scattercarpet\":[{\"marker\":{\"colorbar\":{\"outlinewidth\":0,\"ticks\":\"\"}},\"type\":\"scattercarpet\"}],\"scattergeo\":[{\"marker\":{\"colorbar\":{\"outlinewidth\":0,\"ticks\":\"\"}},\"type\":\"scattergeo\"}],\"scattergl\":[{\"marker\":{\"line\":{\"color\":\"#283442\"}},\"type\":\"scattergl\"}],\"scattermapbox\":[{\"marker\":{\"colorbar\":{\"outlinewidth\":0,\"ticks\":\"\"}},\"type\":\"scattermapbox\"}],\"scatterpolargl\":[{\"marker\":{\"colorbar\":{\"outlinewidth\":0,\"ticks\":\"\"}},\"type\":\"scatterpolargl\"}],\"scatterpolar\":[{\"marker\":{\"colorbar\":{\"outlinewidth\":0,\"ticks\":\"\"}},\"type\":\"scatterpolar\"}],\"scatter\":[{\"marker\":{\"line\":{\"color\":\"#283442\"}},\"type\":\"scatter\"}],\"scatterternary\":[{\"marker\":{\"colorbar\":{\"outlinewidth\":0,\"ticks\":\"\"}},\"type\":\"scatterternary\"}],\"surface\":[{\"colorbar\":{\"outlinewidth\":0,\"ticks\":\"\"},\"colorscale\":[[0.0,\"#0d0887\"],[0.1111111111111111,\"#46039f\"],[0.2222222222222222,\"#7201a8\"],[0.3333333333333333,\"#9c179e\"],[0.4444444444444444,\"#bd3786\"],[0.5555555555555556,\"#d8576b\"],[0.6666666666666666,\"#ed7953\"],[0.7777777777777778,\"#fb9f3a\"],[0.8888888888888888,\"#fdca26\"],[1.0,\"#f0f921\"]],\"type\":\"surface\"}],\"table\":[{\"cells\":{\"fill\":{\"color\":\"#506784\"},\"line\":{\"color\":\"rgb(17,17,17)\"}},\"header\":{\"fill\":{\"color\":\"#2a3f5f\"},\"line\":{\"color\":\"rgb(17,17,17)\"}},\"type\":\"table\"}]},\"layout\":{\"annotationdefaults\":{\"arrowcolor\":\"#f2f5fa\",\"arrowhead\":0,\"arrowwidth\":1},\"autotypenumbers\":\"strict\",\"coloraxis\":{\"colorbar\":{\"outlinewidth\":0,\"ticks\":\"\"}},\"colorscale\":{\"diverging\":[[0,\"#8e0152\"],[0.1,\"#c51b7d\"],[0.2,\"#de77ae\"],[0.3,\"#f1b6da\"],[0.4,\"#fde0ef\"],[0.5,\"#f7f7f7\"],[0.6,\"#e6f5d0\"],[0.7,\"#b8e186\"],[0.8,\"#7fbc41\"],[0.9,\"#4d9221\"],[1,\"#276419\"]],\"sequential\":[[0.0,\"#0d0887\"],[0.1111111111111111,\"#46039f\"],[0.2222222222222222,\"#7201a8\"],[0.3333333333333333,\"#9c179e\"],[0.4444444444444444,\"#bd3786\"],[0.5555555555555556,\"#d8576b\"],[0.6666666666666666,\"#ed7953\"],[0.7777777777777778,\"#fb9f3a\"],[0.8888888888888888,\"#fdca26\"],[1.0,\"#f0f921\"]],\"sequentialminus\":[[0.0,\"#0d0887\"],[0.1111111111111111,\"#46039f\"],[0.2222222222222222,\"#7201a8\"],[0.3333333333333333,\"#9c179e\"],[0.4444444444444444,\"#bd3786\"],[0.5555555555555556,\"#d8576b\"],[0.6666666666666666,\"#ed7953\"],[0.7777777777777778,\"#fb9f3a\"],[0.8888888888888888,\"#fdca26\"],[1.0,\"#f0f921\"]]},\"colorway\":[\"#636efa\",\"#EF553B\",\"#00cc96\",\"#ab63fa\",\"#FFA15A\",\"#19d3f3\",\"#FF6692\",\"#B6E880\",\"#FF97FF\",\"#FECB52\"],\"font\":{\"color\":\"#f2f5fa\"},\"geo\":{\"bgcolor\":\"rgb(17,17,17)\",\"lakecolor\":\"rgb(17,17,17)\",\"landcolor\":\"rgb(17,17,17)\",\"showlakes\":true,\"showland\":true,\"subunitcolor\":\"#506784\"},\"hoverlabel\":{\"align\":\"left\"},\"hovermode\":\"closest\",\"mapbox\":{\"style\":\"dark\"},\"paper_bgcolor\":\"rgb(17,17,17)\",\"plot_bgcolor\":\"rgb(17,17,17)\",\"polar\":{\"angularaxis\":{\"gridcolor\":\"#506784\",\"linecolor\":\"#506784\",\"ticks\":\"\"},\"bgcolor\":\"rgb(17,17,17)\",\"radialaxis\":{\"gridcolor\":\"#506784\",\"linecolor\":\"#506784\",\"ticks\":\"\"}},\"scene\":{\"xaxis\":{\"backgroundcolor\":\"rgb(17,17,17)\",\"gridcolor\":\"#506784\",\"gridwidth\":2,\"linecolor\":\"#506784\",\"showbackground\":true,\"ticks\":\"\",\"zerolinecolor\":\"#C8D4E3\"},\"yaxis\":{\"backgroundcolor\":\"rgb(17,17,17)\",\"gridcolor\":\"#506784\",\"gridwidth\":2,\"linecolor\":\"#506784\",\"showbackground\":true,\"ticks\":\"\",\"zerolinecolor\":\"#C8D4E3\"},\"zaxis\":{\"backgroundcolor\":\"rgb(17,17,17)\",\"gridcolor\":\"#506784\",\"gridwidth\":2,\"linecolor\":\"#506784\",\"showbackground\":true,\"ticks\":\"\",\"zerolinecolor\":\"#C8D4E3\"}},\"shapedefaults\":{\"line\":{\"color\":\"#f2f5fa\"}},\"sliderdefaults\":{\"bgcolor\":\"#C8D4E3\",\"bordercolor\":\"rgb(17,17,17)\",\"borderwidth\":1,\"tickwidth\":0},\"ternary\":{\"aaxis\":{\"gridcolor\":\"#506784\",\"linecolor\":\"#506784\",\"ticks\":\"\"},\"baxis\":{\"gridcolor\":\"#506784\",\"linecolor\":\"#506784\",\"ticks\":\"\"},\"bgcolor\":\"rgb(17,17,17)\",\"caxis\":{\"gridcolor\":\"#506784\",\"linecolor\":\"#506784\",\"ticks\":\"\"}},\"title\":{\"x\":0.05},\"updatemenudefaults\":{\"bgcolor\":\"#506784\",\"borderwidth\":0},\"xaxis\":{\"automargin\":true,\"gridcolor\":\"#283442\",\"linecolor\":\"#506784\",\"ticks\":\"\",\"title\":{\"standoff\":15},\"zerolinecolor\":\"#283442\",\"zerolinewidth\":2},\"yaxis\":{\"automargin\":true,\"gridcolor\":\"#283442\",\"linecolor\":\"#506784\",\"ticks\":\"\",\"title\":{\"standoff\":15},\"zerolinecolor\":\"#283442\",\"zerolinewidth\":2}}},\"xaxis\":{\"anchor\":\"y\",\"domain\":[0.0,1.0],\"title\":{\"text\":\"Victim\"}},\"yaxis\":{\"anchor\":\"x\",\"domain\":[0.0,1.0],\"title\":{\"text\":\"count\"}},\"legend\":{\"title\":{\"text\":\"Gender\"},\"tracegroupgap\":0},\"title\":{\"text\":\"Gender-based Differences in Incidents Among Victims\"},\"barmode\":\"relative\"},                        {\"responsive\": true}                    ).then(function(){\n",
              "                            \n",
              "var gd = document.getElementById('701b3e68-7e44-4db3-83ef-559a2d3d5843');\n",
              "var x = new MutationObserver(function (mutations, observer) {{\n",
              "        var display = window.getComputedStyle(gd).display;\n",
              "        if (!display || display === 'none') {{\n",
              "            console.log([gd, 'removed!']);\n",
              "            Plotly.purge(gd);\n",
              "            observer.disconnect();\n",
              "        }}\n",
              "}});\n",
              "\n",
              "// Listen for the removal of the full notebook cells\n",
              "var notebookContainer = gd.closest('#notebook-container');\n",
              "if (notebookContainer) {{\n",
              "    x.observe(notebookContainer, {childList: true});\n",
              "}}\n",
              "\n",
              "// Listen for the clearing of the current output cell\n",
              "var outputEl = gd.closest('.output');\n",
              "if (outputEl) {{\n",
              "    x.observe(outputEl, {childList: true});\n",
              "}}\n",
              "\n",
              "                        })                };                            </script>        </div>\n",
              "</body>\n",
              "</html>"
            ]
          },
          "metadata": {}
        }
      ]
    },
    {
      "cell_type": "markdown",
      "source": [
        "Correlation between 'Age_refined' and 'Total Victims':"
      ],
      "metadata": {
        "id": "HvROj6XNq266"
      }
    },
    {
      "cell_type": "code",
      "source": [
        "# Create a scatter plot\n",
        "fig = px.scatter(df, x='Age_refined', y='Total Victims', title='Correlation between Age and Total Victims')\n",
        "\n",
        "# Calculate and display the correlation coefficient\n",
        "correlation_coefficient = np.corrcoef(df['Age_refined'], df['Total Victims'])[0, 1]\n",
        "fig.update_layout(annotations=[dict(text=f'Correlation: {correlation_coefficient:.2f}', x=0.5, y=0.85, showarrow=False)])\n",
        "\n",
        "fig.show()"
      ],
      "metadata": {
        "colab": {
          "base_uri": "https://localhost:8080/",
          "height": 542
        },
        "id": "jcVV4Gxqq3I8",
        "outputId": "fa20f5b6-f826-43b6-a127-43f83fce1e7c"
      },
      "execution_count": 30,
      "outputs": [
        {
          "output_type": "display_data",
          "data": {
            "text/html": [
              "<html>\n",
              "<head><meta charset=\"utf-8\" /></head>\n",
              "<body>\n",
              "    <div>            <script src=\"https://cdnjs.cloudflare.com/ajax/libs/mathjax/2.7.5/MathJax.js?config=TeX-AMS-MML_SVG\"></script><script type=\"text/javascript\">if (window.MathJax && window.MathJax.Hub && window.MathJax.Hub.Config) {window.MathJax.Hub.Config({SVG: {font: \"STIX-Web\"}});}</script>                <script type=\"text/javascript\">window.PlotlyConfig = {MathJaxConfig: 'local'};</script>\n",
              "        <script charset=\"utf-8\" src=\"https://cdn.plot.ly/plotly-2.24.1.min.js\"></script>                <div id=\"c24a05a8-3cbf-4bc0-9ce6-8c7d32ba453d\" class=\"plotly-graph-div\" style=\"height:525px; width:100%;\"></div>            <script type=\"text/javascript\">                                    window.PLOTLYENV=window.PLOTLYENV || {};                                    if (document.getElementById(\"c24a05a8-3cbf-4bc0-9ce6-8c7d32ba453d\")) {                    Plotly.newPlot(                        \"c24a05a8-3cbf-4bc0-9ce6-8c7d32ba453d\",                        [{\"hovertemplate\":\"Age_refined=%{x}\\u003cbr\\u003eTotal Victims=%{y}\\u003cextra\\u003e\\u003c\\u002fextra\\u003e\",\"legendgroup\":\"\",\"marker\":{\"color\":\"#636efa\",\"symbol\":\"circle\"},\"mode\":\"markers\",\"name\":\"\",\"showlegend\":false,\"x\":[70,43,32,51,34,35,15,26,58,21,11,30,61,25,57,36,28,55,30,38,51,40,27,40,30,33,33,25,60,42,60,49,23,29,23,25,39,25,38,40,35,34,30,31,31,26,28,35,44,18,62,49,40,24,29,32,37,44,30,23,24,25,40,70,35,60,29,35,50,28,28,44,30,32,70,47,55,37,30,35,27,32,36,26,33,40,33,29,33,40,31,28,33,21,44,43,34,33,40,25,36,34,65,30,27,37,54,42,40,35,46,26,51,69,50,20,30,50,31,65,27,31,28,51,35,38,60,49,35,25,57,31,25,42,37,37,40,28,32,25,32,44,29,44,38,55,30,30,52,33,46,47,34,47,61,74,46,51,28,31,28,30,57,45,34,24,26,40,70,66,30,20,27,26,28,9,29,28,26,60,36,35,30,33,26,29,30,75,29,40,33,38,40,25,20,32,26,36,37,21,30,37,35,23,35,33,70,18,21,19,40,31,21,38,23,27,28,32,25,26,23,19,35,22,19,26,24,43,57,70,50,50,17,28,37,37,35,23,32,30,25,30,35,21,61,70,31,30,23,30,52,28,28,28,28,23,28,60,54,38,33,49,35,40,49,23,41,62,35,40,31,31,32,55,30,18,59,57,40,63,35,59,32,30,34,33,23,32,40,24,37,26,30,34,34,28,25,23,28,34,80,28,43,31,28,32,40,18,19,34,40,70,30,23,42,25,37,28,25,20,52,23,32,57,30,23,43,33,29,40,40,40,35,36,44,26,19,80,39,45,39,48,19,19,24,30,62,36,28,30,23,63,52,31,32,19,37,19,32,29,20,57,33,35,26,32,27,33,52,34,19,26,40,24,18,23,25,17,35,21,19,19,60,42,25,34,28,38,40,37,26,32,30,18,22,44,35,34,62,38,43,32,31,47,39,44,48,24,48,30,24,40,25,19,21,40,21,32,32,56,20,45,51,22,27,26,20,25,30,65,30,32,33,35,27,32,37,28,25,13,40,30,33,23,54,55,78,31,13,15,65,29,32,80,44,45,40,40,52,40,61,65,56,40,74,25,45,44,9,32,45,30,60,37,12,56,52,39,30,40,33,30,40,45,31,37,41,3,27,36,60,40,22,65,1,20,44,21,4,38,46,6,25,43,45,12,33,32,40,60,31,9,26,28,42,40,35,35,35,22,35,45,55,30,33,57,30,33,23,45,52,25,19,50,39,42,21,35,28,44,32,17,40,15,36,27,35,37,47,17,28,44,32,35,31,60,10,30,71,1,54,36,40,36,58,47,30,77,35,1,76,24,17,30,57,58,23,69,4,45,36,33,41,23,25,18,25,12,30,69,13,45,40,70,23,25,34,48,20,19,29,31,52,27,22,41,42,60,27,20,40,21,44,16,52,30,29,40,60,34,22,39,28,32,25,36,70,38,62,45,22,30,37,28,39,29,37,23,28,70,12,20,18,48,11,53,19,60,71,30,41,31,26,54,70,1,25,52,30,22,26,38,24,27,38,26,8,29,32,4,26,25,60,51,30,60,30,1,26,30,45,24,70,45,45,30,44,25,24,25,25,37,28,30,19,16,24,36,31,33,42,27,28,20,19,28,33,4,39,43,55,38,27,25,65,26,36,25,36,33,40,19,30,20,28,32,35,37,50,32,29,34,57,55,52,29,49,48,27,26,19,42,42,30,32,38,12,25,1,36,25,9,50,37,25,37,11,36,40,40,55,26,48,45,60,24,40,38,45,55,36,29,52,27,45,35,18,21,2,24,60,60,47,30,1,28,21,34,20,31,32,16,36,36,35,47,6,29,50,40,48,42,17,43,21,40,30,39,54,30,27,65,3,30,38,4,33,65,80,15,7,37,30,30,37,19,25,30,30,32,57,30,35,9,25,40,25,40,28,36,26,52,30,28,78,44,60,38,65,32,9,14,40,36,10,30,33,12,25,54,6,23,30,30,41,20,16,11,73,3,26,38,27,60,39,52,36,70,70,20,40,70,25,21,30,3,21,42,28,35,11,5,40,37,39,15,15,30,45,27,28,27,45,90,9,25,37,35,40,55,60,9,12,45,22,48,12,25,27,47,23,30,12,30,65,50,35,24,43,35,28,30,13,22,6,80,38,30,40,70,28,25,39,42,23,26,32,16,35,50,22,22,9,5,40,21,38,39,4,55,12,30,27,30,18,63,10,45,40,55,49,80,31,40,57,25,43,26,40,48,22,75,65,45,25,42,25,57,58,35,42,32,57,26,34,35,37,41,10,40,26,30,19,7,25,40,45,40,27,11,37,25,28,25,25,32,12,21,32,32,38,44,3,40,70,44,10,48,24,56,44,69,28,60,40,40,3,50,71,4,23,28,49,20,50,35,8,14,8,60,28,60,35,40,30,25,4,32,27,42,45,30,33,20,32,42,15,40,5,42,30,39,39,5,31,35,60,30,6,12,41,59,57,60,42,28,70,15,17,30,45,45,24,45,31,25,45,65,48,7,38,14,31,27,24,26,52,15,26,57,29,40,62,36,50,55,8,52,20,26,30,70,49,45,4,28,32,32,2,40,50,37,57,3,58,25,23,16,24,26,32,42,25,40,40,28,40,31,30,26,25,56,29,15,30,32,37,20,33,59,26,60,25,32,10,60,28,33,28,3,45,25,35,38,43,63,65,40,36,30,77,54,36,57,25,30,45,33,27,36,48,50,50,25,80,48,70,43,51,54,23,53,45,34,70,30,25,20,6,35,60,38,30,23,70,16,22,61,35,43,40,38,9,21,22,47,13,51,40,33,41,28,65,8,4,45,60,36,26,59,23,21,1,26,18,32,40,40,40,62,30,42,49,69,23,39,45,37,31,13,20,28,30,53,21,35,25,30,44,21,24,72,45,23,40,28,42,7,9,33,31,16,32,70,71,15,21,25,40,58,26,39,25,70,31,27,19,21,28,19,55,35,39,23,49,52,45,43,50,23,71,25,27,7,25,7,12,66,30,30,32,28,6,36,35,51,50,40,42,54,41,32,1,8,65,40,31,22,62,37,73,50,30,35,42,58,21,18,70,37,33,44,23,65,14,75,65,50,38,9,16,69,14,35,40,36,36,32,21,28,30,22,38,38,6,25,28,50,57,22,24,16,52,30,40,20,26,39,35,23,40,50,42,27,25,26,32,33,36,26,25,50,29,59,44,52,17,56,24,21,21,25,42,24,32,26,25,45,61,30,24,27],\"xaxis\":\"x\",\"y\":[3,5,5,2,4,3,3,3,3,3,3,3,5,8,8,1,1,1,1,1,1,1,1,1,1,1,1,1,1,1,1,1,1,1,1,1,1,1,1,1,1,1,1,1,1,1,1,1,1,1,1,1,1,1,1,1,1,1,1,1,1,1,1,1,1,1,1,1,1,1,1,1,1,1,1,1,1,1,1,2,1,1,1,1,1,1,1,1,1,1,1,1,1,1,1,1,1,1,1,1,1,1,1,1,1,1,1,1,1,1,1,1,1,1,1,1,1,1,1,1,1,1,1,1,1,2,1,1,1,1,1,1,1,1,1,1,1,1,1,1,1,1,1,1,1,1,1,1,1,1,3,3,3,1,2,2,2,2,2,2,2,2,2,3,2,2,2,3,2,2,2,2,1,1,1,1,1,1,1,1,1,1,1,1,1,1,1,1,1,1,1,1,1,1,1,1,1,1,1,1,1,1,1,1,1,1,1,1,1,1,1,1,1,1,2,2,1,1,1,1,1,1,1,1,1,1,1,1,1,1,1,1,1,1,1,1,1,1,1,1,1,1,1,1,1,1,1,1,1,1,1,1,1,1,1,1,1,1,1,1,1,1,1,1,1,1,1,1,1,1,1,1,1,1,1,1,1,1,1,1,1,1,1,1,1,1,1,1,1,1,1,1,1,1,1,1,1,1,1,1,1,1,1,1,1,1,1,1,1,1,1,1,1,1,1,1,1,1,1,1,1,1,1,1,1,1,1,1,1,1,1,1,1,1,1,1,1,1,1,1,1,1,1,1,1,1,1,1,1,1,1,1,1,1,1,1,1,1,1,1,1,1,1,1,1,1,1,1,1,1,1,1,1,1,1,1,1,1,1,1,1,1,1,1,1,1,1,1,1,1,1,1,1,1,1,1,1,1,1,1,1,1,1,1,1,1,2,1,1,1,1,1,1,2,2,2,2,2,2,2,2,1,1,1,1,1,2,2,1,1,1,2,2,1,1,1,1,2,1,1,1,1,1,1,1,1,1,1,1,1,1,1,1,1,1,1,1,1,1,1,1,1,1,1,1,18,17,9,8,8,6,6,6,6,6,6,5,5,5,5,5,5,5,5,4,4,4,4,4,3,3,3,3,3,3,3,3,3,3,3,3,3,3,2,2,2,2,2,2,2,2,2,2,2,2,2,2,2,2,2,2,2,2,2,2,2,2,2,2,2,2,2,2,2,2,2,2,2,1,1,1,1,1,1,1,1,1,1,1,1,1,1,1,1,1,1,1,1,1,1,1,1,1,1,1,1,1,1,1,1,1,1,1,1,1,1,1,1,1,1,1,1,1,1,7,1,1,1,1,1,1,1,1,1,1,1,1,1,1,1,1,1,1,1,1,1,1,1,1,1,1,1,1,1,1,1,1,1,1,1,1,1,1,1,1,1,1,1,1,1,1,1,1,1,1,1,1,1,1,1,1,1,1,1,1,1,1,1,1,1,1,1,1,1,1,1,1,1,1,1,1,1,1,1,1,1,1,1,1,1,1,1,1,1,1,1,1,1,1,1,1,1,1,1,1,1,1,1,1,1,1,1,1,1,1,1,1,1,1,1,1,1,1,1,1,1,1,1,1,1,1,1,1,1,1,1,1,1,1,1,1,1,1,1,1,1,1,1,1,1,1,1,1,1,1,1,1,1,1,1,1,1,1,1,1,1,1,1,1,1,1,1,1,1,1,1,1,1,1,1,1,1,1,1,1,1,3,3,3,2,1,1,1,1,1,1,1,1,1,1,1,1,1,1,1,1,1,1,1,1,1,1,1,1,1,1,1,1,1,1,1,3,2,2,2,2,2,2,2,2,2,2,2,2,2,2,1,1,1,1,1,1,1,1,1,1,1,1,1,1,1,1,1,1,1,1,1,1,1,1,1,1,1,1,1,1,1,1,1,1,1,1,1,1,1,1,1,1,1,1,1,1,1,1,1,1,1,1,1,1,1,1,1,1,1,1,1,1,1,1,1,1,1,1,1,1,1,1,1,1,1,1,1,1,1,1,1,1,1,1,1,1,1,1,1,1,1,1,1,1,1,1,1,1,1,1,1,1,1,1,1,1,1,1,1,1,1,1,1,1,1,1,1,1,1,1,1,1,1,1,1,1,1,1,1,1,1,1,1,1,1,1,1,1,1,1,1,1,1,1,1,1,1,1,1,1,1,1,1,1,1,1,1,1,1,1,1,1,1,1,1,1,1,1,1,1,1,1,1,1,1,1,1,1,1,1,1,1,1,1,1,1,1,1,1,1,1,1,1,1,1,1,1,1,1,1,1,1,1,1,1,1,1,1,1,1,1,1,1,1,1,1,1,1,1,1,1,1,1,1,1,1,1,1,1,1,1,1,1,1,1,1,1,1,1,1,1,1,1,1,1,1,1,1,1,1,1,1,1,1,1,1,1,1,1,1,1,1,1,1,1,1,1,1,1,1,1,1,1,1,1,1,1,1,1,1,1,1,1,1,1,1,1,1,1,1,1,1,1,1,1,1,1,1,1,1,1,1,1,1,1,1,1,1,1,1,1,1,1,1,1,1,1,1,1,1,1,1,1,1,1,1,1,1,1,1,1,1,1,1,1,1,1,1,1,1,1,1,1,1,1,1,1,1,1,1,1,1,1,1,1,1,1,1,1,1,1,1,1,1,1,1,1,1,1,1,1,1,1,1,1,1,1,1,1,1,1,1,1,1,1,1,1,1,1,1,1,1,1,1,1,1,1,1,1,1,1,1,1,1,1,1,1,1,1,1,1,1,1,1,1,1,1,1,1,1,1,1,1,1,1,1,1,1,1,1,1,1,1,1,1,1,1,1,1,1,1,1,1,1,1,1,1,1,1,1,1,1,1,1,1,1,1,1,1,1,1,1,1,1,1,1,1,1,1,1,1,1,1,1,1,1,1,1,1,1,1,1,1,1,1,1,1,1,1,1,1,1,1,1,1,1,1,1,1,1,1,1,1,1,1,1,1,1,1,1,1,1,1,1,1,1,1,1,1,1,1,1,1,1,1,1,1,1,1,1,1,1,1,1,1,1,1,1,1,1,1,1,1,1,1,1,1,1,1,2,2,1,1,1,1,1,1,2,1,2,2,1,1,1,1,1,1,1,1,1,1,1,1,1,1,1,1,1,1,1,1,1,1,1,1,1,1,1,3,2,2,2,2,2,2,2,3,3,3,2,2,2,2,2,2,1],\"yaxis\":\"y\",\"type\":\"scattergl\"}],                        {\"template\":{\"data\":{\"histogram2dcontour\":[{\"type\":\"histogram2dcontour\",\"colorbar\":{\"outlinewidth\":0,\"ticks\":\"\"},\"colorscale\":[[0.0,\"#0d0887\"],[0.1111111111111111,\"#46039f\"],[0.2222222222222222,\"#7201a8\"],[0.3333333333333333,\"#9c179e\"],[0.4444444444444444,\"#bd3786\"],[0.5555555555555556,\"#d8576b\"],[0.6666666666666666,\"#ed7953\"],[0.7777777777777778,\"#fb9f3a\"],[0.8888888888888888,\"#fdca26\"],[1.0,\"#f0f921\"]]}],\"choropleth\":[{\"type\":\"choropleth\",\"colorbar\":{\"outlinewidth\":0,\"ticks\":\"\"}}],\"histogram2d\":[{\"type\":\"histogram2d\",\"colorbar\":{\"outlinewidth\":0,\"ticks\":\"\"},\"colorscale\":[[0.0,\"#0d0887\"],[0.1111111111111111,\"#46039f\"],[0.2222222222222222,\"#7201a8\"],[0.3333333333333333,\"#9c179e\"],[0.4444444444444444,\"#bd3786\"],[0.5555555555555556,\"#d8576b\"],[0.6666666666666666,\"#ed7953\"],[0.7777777777777778,\"#fb9f3a\"],[0.8888888888888888,\"#fdca26\"],[1.0,\"#f0f921\"]]}],\"heatmap\":[{\"type\":\"heatmap\",\"colorbar\":{\"outlinewidth\":0,\"ticks\":\"\"},\"colorscale\":[[0.0,\"#0d0887\"],[0.1111111111111111,\"#46039f\"],[0.2222222222222222,\"#7201a8\"],[0.3333333333333333,\"#9c179e\"],[0.4444444444444444,\"#bd3786\"],[0.5555555555555556,\"#d8576b\"],[0.6666666666666666,\"#ed7953\"],[0.7777777777777778,\"#fb9f3a\"],[0.8888888888888888,\"#fdca26\"],[1.0,\"#f0f921\"]]}],\"heatmapgl\":[{\"type\":\"heatmapgl\",\"colorbar\":{\"outlinewidth\":0,\"ticks\":\"\"},\"colorscale\":[[0.0,\"#0d0887\"],[0.1111111111111111,\"#46039f\"],[0.2222222222222222,\"#7201a8\"],[0.3333333333333333,\"#9c179e\"],[0.4444444444444444,\"#bd3786\"],[0.5555555555555556,\"#d8576b\"],[0.6666666666666666,\"#ed7953\"],[0.7777777777777778,\"#fb9f3a\"],[0.8888888888888888,\"#fdca26\"],[1.0,\"#f0f921\"]]}],\"contourcarpet\":[{\"type\":\"contourcarpet\",\"colorbar\":{\"outlinewidth\":0,\"ticks\":\"\"}}],\"contour\":[{\"type\":\"contour\",\"colorbar\":{\"outlinewidth\":0,\"ticks\":\"\"},\"colorscale\":[[0.0,\"#0d0887\"],[0.1111111111111111,\"#46039f\"],[0.2222222222222222,\"#7201a8\"],[0.3333333333333333,\"#9c179e\"],[0.4444444444444444,\"#bd3786\"],[0.5555555555555556,\"#d8576b\"],[0.6666666666666666,\"#ed7953\"],[0.7777777777777778,\"#fb9f3a\"],[0.8888888888888888,\"#fdca26\"],[1.0,\"#f0f921\"]]}],\"surface\":[{\"type\":\"surface\",\"colorbar\":{\"outlinewidth\":0,\"ticks\":\"\"},\"colorscale\":[[0.0,\"#0d0887\"],[0.1111111111111111,\"#46039f\"],[0.2222222222222222,\"#7201a8\"],[0.3333333333333333,\"#9c179e\"],[0.4444444444444444,\"#bd3786\"],[0.5555555555555556,\"#d8576b\"],[0.6666666666666666,\"#ed7953\"],[0.7777777777777778,\"#fb9f3a\"],[0.8888888888888888,\"#fdca26\"],[1.0,\"#f0f921\"]]}],\"mesh3d\":[{\"type\":\"mesh3d\",\"colorbar\":{\"outlinewidth\":0,\"ticks\":\"\"}}],\"scatter\":[{\"fillpattern\":{\"fillmode\":\"overlay\",\"size\":10,\"solidity\":0.2},\"type\":\"scatter\"}],\"parcoords\":[{\"type\":\"parcoords\",\"line\":{\"colorbar\":{\"outlinewidth\":0,\"ticks\":\"\"}}}],\"scatterpolargl\":[{\"type\":\"scatterpolargl\",\"marker\":{\"colorbar\":{\"outlinewidth\":0,\"ticks\":\"\"}}}],\"bar\":[{\"error_x\":{\"color\":\"#2a3f5f\"},\"error_y\":{\"color\":\"#2a3f5f\"},\"marker\":{\"line\":{\"color\":\"#E5ECF6\",\"width\":0.5},\"pattern\":{\"fillmode\":\"overlay\",\"size\":10,\"solidity\":0.2}},\"type\":\"bar\"}],\"scattergeo\":[{\"type\":\"scattergeo\",\"marker\":{\"colorbar\":{\"outlinewidth\":0,\"ticks\":\"\"}}}],\"scatterpolar\":[{\"type\":\"scatterpolar\",\"marker\":{\"colorbar\":{\"outlinewidth\":0,\"ticks\":\"\"}}}],\"histogram\":[{\"marker\":{\"pattern\":{\"fillmode\":\"overlay\",\"size\":10,\"solidity\":0.2}},\"type\":\"histogram\"}],\"scattergl\":[{\"type\":\"scattergl\",\"marker\":{\"colorbar\":{\"outlinewidth\":0,\"ticks\":\"\"}}}],\"scatter3d\":[{\"type\":\"scatter3d\",\"line\":{\"colorbar\":{\"outlinewidth\":0,\"ticks\":\"\"}},\"marker\":{\"colorbar\":{\"outlinewidth\":0,\"ticks\":\"\"}}}],\"scattermapbox\":[{\"type\":\"scattermapbox\",\"marker\":{\"colorbar\":{\"outlinewidth\":0,\"ticks\":\"\"}}}],\"scatterternary\":[{\"type\":\"scatterternary\",\"marker\":{\"colorbar\":{\"outlinewidth\":0,\"ticks\":\"\"}}}],\"scattercarpet\":[{\"type\":\"scattercarpet\",\"marker\":{\"colorbar\":{\"outlinewidth\":0,\"ticks\":\"\"}}}],\"carpet\":[{\"aaxis\":{\"endlinecolor\":\"#2a3f5f\",\"gridcolor\":\"white\",\"linecolor\":\"white\",\"minorgridcolor\":\"white\",\"startlinecolor\":\"#2a3f5f\"},\"baxis\":{\"endlinecolor\":\"#2a3f5f\",\"gridcolor\":\"white\",\"linecolor\":\"white\",\"minorgridcolor\":\"white\",\"startlinecolor\":\"#2a3f5f\"},\"type\":\"carpet\"}],\"table\":[{\"cells\":{\"fill\":{\"color\":\"#EBF0F8\"},\"line\":{\"color\":\"white\"}},\"header\":{\"fill\":{\"color\":\"#C8D4E3\"},\"line\":{\"color\":\"white\"}},\"type\":\"table\"}],\"barpolar\":[{\"marker\":{\"line\":{\"color\":\"#E5ECF6\",\"width\":0.5},\"pattern\":{\"fillmode\":\"overlay\",\"size\":10,\"solidity\":0.2}},\"type\":\"barpolar\"}],\"pie\":[{\"automargin\":true,\"type\":\"pie\"}]},\"layout\":{\"autotypenumbers\":\"strict\",\"colorway\":[\"#636efa\",\"#EF553B\",\"#00cc96\",\"#ab63fa\",\"#FFA15A\",\"#19d3f3\",\"#FF6692\",\"#B6E880\",\"#FF97FF\",\"#FECB52\"],\"font\":{\"color\":\"#2a3f5f\"},\"hovermode\":\"closest\",\"hoverlabel\":{\"align\":\"left\"},\"paper_bgcolor\":\"white\",\"plot_bgcolor\":\"#E5ECF6\",\"polar\":{\"bgcolor\":\"#E5ECF6\",\"angularaxis\":{\"gridcolor\":\"white\",\"linecolor\":\"white\",\"ticks\":\"\"},\"radialaxis\":{\"gridcolor\":\"white\",\"linecolor\":\"white\",\"ticks\":\"\"}},\"ternary\":{\"bgcolor\":\"#E5ECF6\",\"aaxis\":{\"gridcolor\":\"white\",\"linecolor\":\"white\",\"ticks\":\"\"},\"baxis\":{\"gridcolor\":\"white\",\"linecolor\":\"white\",\"ticks\":\"\"},\"caxis\":{\"gridcolor\":\"white\",\"linecolor\":\"white\",\"ticks\":\"\"}},\"coloraxis\":{\"colorbar\":{\"outlinewidth\":0,\"ticks\":\"\"}},\"colorscale\":{\"sequential\":[[0.0,\"#0d0887\"],[0.1111111111111111,\"#46039f\"],[0.2222222222222222,\"#7201a8\"],[0.3333333333333333,\"#9c179e\"],[0.4444444444444444,\"#bd3786\"],[0.5555555555555556,\"#d8576b\"],[0.6666666666666666,\"#ed7953\"],[0.7777777777777778,\"#fb9f3a\"],[0.8888888888888888,\"#fdca26\"],[1.0,\"#f0f921\"]],\"sequentialminus\":[[0.0,\"#0d0887\"],[0.1111111111111111,\"#46039f\"],[0.2222222222222222,\"#7201a8\"],[0.3333333333333333,\"#9c179e\"],[0.4444444444444444,\"#bd3786\"],[0.5555555555555556,\"#d8576b\"],[0.6666666666666666,\"#ed7953\"],[0.7777777777777778,\"#fb9f3a\"],[0.8888888888888888,\"#fdca26\"],[1.0,\"#f0f921\"]],\"diverging\":[[0,\"#8e0152\"],[0.1,\"#c51b7d\"],[0.2,\"#de77ae\"],[0.3,\"#f1b6da\"],[0.4,\"#fde0ef\"],[0.5,\"#f7f7f7\"],[0.6,\"#e6f5d0\"],[0.7,\"#b8e186\"],[0.8,\"#7fbc41\"],[0.9,\"#4d9221\"],[1,\"#276419\"]]},\"xaxis\":{\"gridcolor\":\"white\",\"linecolor\":\"white\",\"ticks\":\"\",\"title\":{\"standoff\":15},\"zerolinecolor\":\"white\",\"automargin\":true,\"zerolinewidth\":2},\"yaxis\":{\"gridcolor\":\"white\",\"linecolor\":\"white\",\"ticks\":\"\",\"title\":{\"standoff\":15},\"zerolinecolor\":\"white\",\"automargin\":true,\"zerolinewidth\":2},\"scene\":{\"xaxis\":{\"backgroundcolor\":\"#E5ECF6\",\"gridcolor\":\"white\",\"linecolor\":\"white\",\"showbackground\":true,\"ticks\":\"\",\"zerolinecolor\":\"white\",\"gridwidth\":2},\"yaxis\":{\"backgroundcolor\":\"#E5ECF6\",\"gridcolor\":\"white\",\"linecolor\":\"white\",\"showbackground\":true,\"ticks\":\"\",\"zerolinecolor\":\"white\",\"gridwidth\":2},\"zaxis\":{\"backgroundcolor\":\"#E5ECF6\",\"gridcolor\":\"white\",\"linecolor\":\"white\",\"showbackground\":true,\"ticks\":\"\",\"zerolinecolor\":\"white\",\"gridwidth\":2}},\"shapedefaults\":{\"line\":{\"color\":\"#2a3f5f\"}},\"annotationdefaults\":{\"arrowcolor\":\"#2a3f5f\",\"arrowhead\":0,\"arrowwidth\":1},\"geo\":{\"bgcolor\":\"white\",\"landcolor\":\"#E5ECF6\",\"subunitcolor\":\"white\",\"showland\":true,\"showlakes\":true,\"lakecolor\":\"white\"},\"title\":{\"x\":0.05},\"mapbox\":{\"style\":\"light\"}}},\"xaxis\":{\"anchor\":\"y\",\"domain\":[0.0,1.0],\"title\":{\"text\":\"Age_refined\"}},\"yaxis\":{\"anchor\":\"x\",\"domain\":[0.0,1.0],\"title\":{\"text\":\"Total Victims\"}},\"legend\":{\"tracegroupgap\":0},\"title\":{\"text\":\"Correlation between Age and Total Victims\"},\"annotations\":[{\"showarrow\":false,\"text\":\"Correlation: 0.01\",\"x\":0.5,\"y\":0.85}]},                        {\"responsive\": true}                    ).then(function(){\n",
              "                            \n",
              "var gd = document.getElementById('c24a05a8-3cbf-4bc0-9ce6-8c7d32ba453d');\n",
              "var x = new MutationObserver(function (mutations, observer) {{\n",
              "        var display = window.getComputedStyle(gd).display;\n",
              "        if (!display || display === 'none') {{\n",
              "            console.log([gd, 'removed!']);\n",
              "            Plotly.purge(gd);\n",
              "            observer.disconnect();\n",
              "        }}\n",
              "}});\n",
              "\n",
              "// Listen for the removal of the full notebook cells\n",
              "var notebookContainer = gd.closest('#notebook-container');\n",
              "if (notebookContainer) {{\n",
              "    x.observe(notebookContainer, {childList: true});\n",
              "}}\n",
              "\n",
              "// Listen for the clearing of the current output cell\n",
              "var outputEl = gd.closest('.output');\n",
              "if (outputEl) {{\n",
              "    x.observe(outputEl, {childList: true});\n",
              "}}\n",
              "\n",
              "                        })                };                            </script>        </div>\n",
              "</body>\n",
              "</html>"
            ]
          },
          "metadata": {}
        }
      ]
    },
    {
      "cell_type": "markdown",
      "source": [
        "Counties with a higher incidence rate of incidents:"
      ],
      "metadata": {
        "id": "TJRvmB7arH3M"
      }
    },
    {
      "cell_type": "code",
      "source": [
        "# Create a bar chart to show counties with the highest incidence rates\n",
        "county_incident_count = df['County'].value_counts().reset_index()\n",
        "county_incident_count.columns = ['County', 'Incident Count']\n",
        "county_incident_count = county_incident_count.sort_values(by='Incident Count', ascending=False)\n",
        "\n",
        "fig = px.bar(county_incident_count, x='County', y='Incident Count', title='Counties with Highest Incident Rates')\n",
        "fig.show()"
      ],
      "metadata": {
        "colab": {
          "base_uri": "https://localhost:8080/",
          "height": 542
        },
        "id": "7rD5jbB2rIBL",
        "outputId": "8c2c4d90-ef30-490b-d15d-69d2dfac8a16"
      },
      "execution_count": 31,
      "outputs": [
        {
          "output_type": "display_data",
          "data": {
            "text/html": [
              "<html>\n",
              "<head><meta charset=\"utf-8\" /></head>\n",
              "<body>\n",
              "    <div>            <script src=\"https://cdnjs.cloudflare.com/ajax/libs/mathjax/2.7.5/MathJax.js?config=TeX-AMS-MML_SVG\"></script><script type=\"text/javascript\">if (window.MathJax && window.MathJax.Hub && window.MathJax.Hub.Config) {window.MathJax.Hub.Config({SVG: {font: \"STIX-Web\"}});}</script>                <script type=\"text/javascript\">window.PlotlyConfig = {MathJaxConfig: 'local'};</script>\n",
              "        <script charset=\"utf-8\" src=\"https://cdn.plot.ly/plotly-2.24.1.min.js\"></script>                <div id=\"ccd54fb2-9694-4e40-b476-e8c45e019efc\" class=\"plotly-graph-div\" style=\"height:525px; width:100%;\"></div>            <script type=\"text/javascript\">                                    window.PLOTLYENV=window.PLOTLYENV || {};                                    if (document.getElementById(\"ccd54fb2-9694-4e40-b476-e8c45e019efc\")) {                    Plotly.newPlot(                        \"ccd54fb2-9694-4e40-b476-e8c45e019efc\",                        [{\"alignmentgroup\":\"True\",\"hovertemplate\":\"County=%{x}\\u003cbr\\u003eIncident Count=%{y}\\u003cextra\\u003e\\u003c\\u002fextra\\u003e\",\"legendgroup\":\"\",\"marker\":{\"color\":\"#636efa\",\"pattern\":{\"shape\":\"\"}},\"name\":\"\",\"offsetgroup\":\"\",\"orientation\":\"v\",\"showlegend\":false,\"textposition\":\"auto\",\"x\":[\"NAIROBI\",\"KIAMBU\",\"NAKURU\",\"MACHAKOS\",\"MAKUENI\",\"KAKAMEGA\",\"KILIFI\",\"NYERI\",\"KISUMU\",\"MOMBASA\",\"KERICHO\",\"KIRINYAGA\",\"MURANGA\",\"EMBU\",\"KAJIADO\",\"BUNGOMA\",\"MERU\",\"HOMA BAY\",\"UASIN GISHU\",\"NAROK\",\"KISII\",\"BARINGO\",\"SIAYA\",\"NYANDARUA\",\"TAITA TAVETA\",\"KITUI\",\"GARISSA\",\"BOMET\",\"NYAMIRA\",\"MIGORI\",\"VIHIGA\",\"KWALE\",\"BUSIA\",\"NANDI\",\"TRANS NZOIA\",\"LAIKIPIA\",\"HOMABAY\",\"MARSABIT\",\"THARAKA NITHI\",\"MWINGI\",\"WEST POKOT\",\"ELGEYO MARAKWET\",\"ISIOLO\",\"MARAKWET\",\"MOYALE\",\"TIGANIA\",\"WAJIR\",\"MAKURU\",\"MANDERA\",\"MALINDI\",\"NYAHURURU\",\"KISSI\"],\"xaxis\":\"x\",\"y\":[228,134,91,72,71,57,44,43,43,37,34,33,33,33,33,31,29,26,26,26,25,23,22,21,21,18,17,17,17,15,14,13,13,11,9,7,6,6,3,3,3,3,2,1,1,1,1,1,1,1,1,1],\"yaxis\":\"y\",\"type\":\"bar\"}],                        {\"template\":{\"data\":{\"histogram2dcontour\":[{\"type\":\"histogram2dcontour\",\"colorbar\":{\"outlinewidth\":0,\"ticks\":\"\"},\"colorscale\":[[0.0,\"#0d0887\"],[0.1111111111111111,\"#46039f\"],[0.2222222222222222,\"#7201a8\"],[0.3333333333333333,\"#9c179e\"],[0.4444444444444444,\"#bd3786\"],[0.5555555555555556,\"#d8576b\"],[0.6666666666666666,\"#ed7953\"],[0.7777777777777778,\"#fb9f3a\"],[0.8888888888888888,\"#fdca26\"],[1.0,\"#f0f921\"]]}],\"choropleth\":[{\"type\":\"choropleth\",\"colorbar\":{\"outlinewidth\":0,\"ticks\":\"\"}}],\"histogram2d\":[{\"type\":\"histogram2d\",\"colorbar\":{\"outlinewidth\":0,\"ticks\":\"\"},\"colorscale\":[[0.0,\"#0d0887\"],[0.1111111111111111,\"#46039f\"],[0.2222222222222222,\"#7201a8\"],[0.3333333333333333,\"#9c179e\"],[0.4444444444444444,\"#bd3786\"],[0.5555555555555556,\"#d8576b\"],[0.6666666666666666,\"#ed7953\"],[0.7777777777777778,\"#fb9f3a\"],[0.8888888888888888,\"#fdca26\"],[1.0,\"#f0f921\"]]}],\"heatmap\":[{\"type\":\"heatmap\",\"colorbar\":{\"outlinewidth\":0,\"ticks\":\"\"},\"colorscale\":[[0.0,\"#0d0887\"],[0.1111111111111111,\"#46039f\"],[0.2222222222222222,\"#7201a8\"],[0.3333333333333333,\"#9c179e\"],[0.4444444444444444,\"#bd3786\"],[0.5555555555555556,\"#d8576b\"],[0.6666666666666666,\"#ed7953\"],[0.7777777777777778,\"#fb9f3a\"],[0.8888888888888888,\"#fdca26\"],[1.0,\"#f0f921\"]]}],\"heatmapgl\":[{\"type\":\"heatmapgl\",\"colorbar\":{\"outlinewidth\":0,\"ticks\":\"\"},\"colorscale\":[[0.0,\"#0d0887\"],[0.1111111111111111,\"#46039f\"],[0.2222222222222222,\"#7201a8\"],[0.3333333333333333,\"#9c179e\"],[0.4444444444444444,\"#bd3786\"],[0.5555555555555556,\"#d8576b\"],[0.6666666666666666,\"#ed7953\"],[0.7777777777777778,\"#fb9f3a\"],[0.8888888888888888,\"#fdca26\"],[1.0,\"#f0f921\"]]}],\"contourcarpet\":[{\"type\":\"contourcarpet\",\"colorbar\":{\"outlinewidth\":0,\"ticks\":\"\"}}],\"contour\":[{\"type\":\"contour\",\"colorbar\":{\"outlinewidth\":0,\"ticks\":\"\"},\"colorscale\":[[0.0,\"#0d0887\"],[0.1111111111111111,\"#46039f\"],[0.2222222222222222,\"#7201a8\"],[0.3333333333333333,\"#9c179e\"],[0.4444444444444444,\"#bd3786\"],[0.5555555555555556,\"#d8576b\"],[0.6666666666666666,\"#ed7953\"],[0.7777777777777778,\"#fb9f3a\"],[0.8888888888888888,\"#fdca26\"],[1.0,\"#f0f921\"]]}],\"surface\":[{\"type\":\"surface\",\"colorbar\":{\"outlinewidth\":0,\"ticks\":\"\"},\"colorscale\":[[0.0,\"#0d0887\"],[0.1111111111111111,\"#46039f\"],[0.2222222222222222,\"#7201a8\"],[0.3333333333333333,\"#9c179e\"],[0.4444444444444444,\"#bd3786\"],[0.5555555555555556,\"#d8576b\"],[0.6666666666666666,\"#ed7953\"],[0.7777777777777778,\"#fb9f3a\"],[0.8888888888888888,\"#fdca26\"],[1.0,\"#f0f921\"]]}],\"mesh3d\":[{\"type\":\"mesh3d\",\"colorbar\":{\"outlinewidth\":0,\"ticks\":\"\"}}],\"scatter\":[{\"fillpattern\":{\"fillmode\":\"overlay\",\"size\":10,\"solidity\":0.2},\"type\":\"scatter\"}],\"parcoords\":[{\"type\":\"parcoords\",\"line\":{\"colorbar\":{\"outlinewidth\":0,\"ticks\":\"\"}}}],\"scatterpolargl\":[{\"type\":\"scatterpolargl\",\"marker\":{\"colorbar\":{\"outlinewidth\":0,\"ticks\":\"\"}}}],\"bar\":[{\"error_x\":{\"color\":\"#2a3f5f\"},\"error_y\":{\"color\":\"#2a3f5f\"},\"marker\":{\"line\":{\"color\":\"#E5ECF6\",\"width\":0.5},\"pattern\":{\"fillmode\":\"overlay\",\"size\":10,\"solidity\":0.2}},\"type\":\"bar\"}],\"scattergeo\":[{\"type\":\"scattergeo\",\"marker\":{\"colorbar\":{\"outlinewidth\":0,\"ticks\":\"\"}}}],\"scatterpolar\":[{\"type\":\"scatterpolar\",\"marker\":{\"colorbar\":{\"outlinewidth\":0,\"ticks\":\"\"}}}],\"histogram\":[{\"marker\":{\"pattern\":{\"fillmode\":\"overlay\",\"size\":10,\"solidity\":0.2}},\"type\":\"histogram\"}],\"scattergl\":[{\"type\":\"scattergl\",\"marker\":{\"colorbar\":{\"outlinewidth\":0,\"ticks\":\"\"}}}],\"scatter3d\":[{\"type\":\"scatter3d\",\"line\":{\"colorbar\":{\"outlinewidth\":0,\"ticks\":\"\"}},\"marker\":{\"colorbar\":{\"outlinewidth\":0,\"ticks\":\"\"}}}],\"scattermapbox\":[{\"type\":\"scattermapbox\",\"marker\":{\"colorbar\":{\"outlinewidth\":0,\"ticks\":\"\"}}}],\"scatterternary\":[{\"type\":\"scatterternary\",\"marker\":{\"colorbar\":{\"outlinewidth\":0,\"ticks\":\"\"}}}],\"scattercarpet\":[{\"type\":\"scattercarpet\",\"marker\":{\"colorbar\":{\"outlinewidth\":0,\"ticks\":\"\"}}}],\"carpet\":[{\"aaxis\":{\"endlinecolor\":\"#2a3f5f\",\"gridcolor\":\"white\",\"linecolor\":\"white\",\"minorgridcolor\":\"white\",\"startlinecolor\":\"#2a3f5f\"},\"baxis\":{\"endlinecolor\":\"#2a3f5f\",\"gridcolor\":\"white\",\"linecolor\":\"white\",\"minorgridcolor\":\"white\",\"startlinecolor\":\"#2a3f5f\"},\"type\":\"carpet\"}],\"table\":[{\"cells\":{\"fill\":{\"color\":\"#EBF0F8\"},\"line\":{\"color\":\"white\"}},\"header\":{\"fill\":{\"color\":\"#C8D4E3\"},\"line\":{\"color\":\"white\"}},\"type\":\"table\"}],\"barpolar\":[{\"marker\":{\"line\":{\"color\":\"#E5ECF6\",\"width\":0.5},\"pattern\":{\"fillmode\":\"overlay\",\"size\":10,\"solidity\":0.2}},\"type\":\"barpolar\"}],\"pie\":[{\"automargin\":true,\"type\":\"pie\"}]},\"layout\":{\"autotypenumbers\":\"strict\",\"colorway\":[\"#636efa\",\"#EF553B\",\"#00cc96\",\"#ab63fa\",\"#FFA15A\",\"#19d3f3\",\"#FF6692\",\"#B6E880\",\"#FF97FF\",\"#FECB52\"],\"font\":{\"color\":\"#2a3f5f\"},\"hovermode\":\"closest\",\"hoverlabel\":{\"align\":\"left\"},\"paper_bgcolor\":\"white\",\"plot_bgcolor\":\"#E5ECF6\",\"polar\":{\"bgcolor\":\"#E5ECF6\",\"angularaxis\":{\"gridcolor\":\"white\",\"linecolor\":\"white\",\"ticks\":\"\"},\"radialaxis\":{\"gridcolor\":\"white\",\"linecolor\":\"white\",\"ticks\":\"\"}},\"ternary\":{\"bgcolor\":\"#E5ECF6\",\"aaxis\":{\"gridcolor\":\"white\",\"linecolor\":\"white\",\"ticks\":\"\"},\"baxis\":{\"gridcolor\":\"white\",\"linecolor\":\"white\",\"ticks\":\"\"},\"caxis\":{\"gridcolor\":\"white\",\"linecolor\":\"white\",\"ticks\":\"\"}},\"coloraxis\":{\"colorbar\":{\"outlinewidth\":0,\"ticks\":\"\"}},\"colorscale\":{\"sequential\":[[0.0,\"#0d0887\"],[0.1111111111111111,\"#46039f\"],[0.2222222222222222,\"#7201a8\"],[0.3333333333333333,\"#9c179e\"],[0.4444444444444444,\"#bd3786\"],[0.5555555555555556,\"#d8576b\"],[0.6666666666666666,\"#ed7953\"],[0.7777777777777778,\"#fb9f3a\"],[0.8888888888888888,\"#fdca26\"],[1.0,\"#f0f921\"]],\"sequentialminus\":[[0.0,\"#0d0887\"],[0.1111111111111111,\"#46039f\"],[0.2222222222222222,\"#7201a8\"],[0.3333333333333333,\"#9c179e\"],[0.4444444444444444,\"#bd3786\"],[0.5555555555555556,\"#d8576b\"],[0.6666666666666666,\"#ed7953\"],[0.7777777777777778,\"#fb9f3a\"],[0.8888888888888888,\"#fdca26\"],[1.0,\"#f0f921\"]],\"diverging\":[[0,\"#8e0152\"],[0.1,\"#c51b7d\"],[0.2,\"#de77ae\"],[0.3,\"#f1b6da\"],[0.4,\"#fde0ef\"],[0.5,\"#f7f7f7\"],[0.6,\"#e6f5d0\"],[0.7,\"#b8e186\"],[0.8,\"#7fbc41\"],[0.9,\"#4d9221\"],[1,\"#276419\"]]},\"xaxis\":{\"gridcolor\":\"white\",\"linecolor\":\"white\",\"ticks\":\"\",\"title\":{\"standoff\":15},\"zerolinecolor\":\"white\",\"automargin\":true,\"zerolinewidth\":2},\"yaxis\":{\"gridcolor\":\"white\",\"linecolor\":\"white\",\"ticks\":\"\",\"title\":{\"standoff\":15},\"zerolinecolor\":\"white\",\"automargin\":true,\"zerolinewidth\":2},\"scene\":{\"xaxis\":{\"backgroundcolor\":\"#E5ECF6\",\"gridcolor\":\"white\",\"linecolor\":\"white\",\"showbackground\":true,\"ticks\":\"\",\"zerolinecolor\":\"white\",\"gridwidth\":2},\"yaxis\":{\"backgroundcolor\":\"#E5ECF6\",\"gridcolor\":\"white\",\"linecolor\":\"white\",\"showbackground\":true,\"ticks\":\"\",\"zerolinecolor\":\"white\",\"gridwidth\":2},\"zaxis\":{\"backgroundcolor\":\"#E5ECF6\",\"gridcolor\":\"white\",\"linecolor\":\"white\",\"showbackground\":true,\"ticks\":\"\",\"zerolinecolor\":\"white\",\"gridwidth\":2}},\"shapedefaults\":{\"line\":{\"color\":\"#2a3f5f\"}},\"annotationdefaults\":{\"arrowcolor\":\"#2a3f5f\",\"arrowhead\":0,\"arrowwidth\":1},\"geo\":{\"bgcolor\":\"white\",\"landcolor\":\"#E5ECF6\",\"subunitcolor\":\"white\",\"showland\":true,\"showlakes\":true,\"lakecolor\":\"white\"},\"title\":{\"x\":0.05},\"mapbox\":{\"style\":\"light\"}}},\"xaxis\":{\"anchor\":\"y\",\"domain\":[0.0,1.0],\"title\":{\"text\":\"County\"}},\"yaxis\":{\"anchor\":\"x\",\"domain\":[0.0,1.0],\"title\":{\"text\":\"Incident Count\"}},\"legend\":{\"tracegroupgap\":0},\"title\":{\"text\":\"Counties with Highest Incident Rates\"},\"barmode\":\"relative\"},                        {\"responsive\": true}                    ).then(function(){\n",
              "                            \n",
              "var gd = document.getElementById('ccd54fb2-9694-4e40-b476-e8c45e019efc');\n",
              "var x = new MutationObserver(function (mutations, observer) {{\n",
              "        var display = window.getComputedStyle(gd).display;\n",
              "        if (!display || display === 'none') {{\n",
              "            console.log([gd, 'removed!']);\n",
              "            Plotly.purge(gd);\n",
              "            observer.disconnect();\n",
              "        }}\n",
              "}});\n",
              "\n",
              "// Listen for the removal of the full notebook cells\n",
              "var notebookContainer = gd.closest('#notebook-container');\n",
              "if (notebookContainer) {{\n",
              "    x.observe(notebookContainer, {childList: true});\n",
              "}}\n",
              "\n",
              "// Listen for the clearing of the current output cell\n",
              "var outputEl = gd.closest('.output');\n",
              "if (outputEl) {{\n",
              "    x.observe(outputEl, {childList: true});\n",
              "}}\n",
              "\n",
              "                        })                };                            </script>        </div>\n",
              "</body>\n",
              "</html>"
            ]
          },
          "metadata": {}
        }
      ]
    },
    {
      "cell_type": "markdown",
      "source": [
        "Text Data Analysis (Details and Base):"
      ],
      "metadata": {
        "id": "8DgcFGVar0-x"
      }
    },
    {
      "cell_type": "code",
      "source": [
        "from collections import Counter\n",
        "\n",
        "# Assuming 'df' is your DataFrame with the 'Details' and 'Base' columns\n",
        "\n",
        "# Combine the 'Details' and 'Base' columns into a single text column\n",
        "df['Combined_Text'] = df['Details'].astype(str) + ' ' + df['Base'].astype(str)\n",
        "\n",
        "# Tokenize the text into words\n",
        "df['Tokens'] = df['Combined_Text'].str.split()\n",
        "\n",
        "# Flatten the list of tokens\n",
        "all_tokens = [word for sublist in df['Tokens'] for word in sublist]\n",
        "\n",
        "# Calculate the frequency of each word\n",
        "word_counts = Counter(all_tokens)\n",
        "\n",
        "# Convert the word frequencies into a DataFrame\n",
        "word_freq_df = pd.DataFrame(word_counts.items(), columns=['Word', 'Frequency'])\n",
        "\n",
        "# Sort the DataFrame by frequency in descending order\n",
        "word_freq_df = word_freq_df.sort_values(by='Frequency', ascending=False)\n",
        "\n",
        "# Select the top N most common words or phrases\n",
        "top_n_words = 20\n",
        "top_words_df = word_freq_df.head(top_n_words)\n",
        "\n",
        "# Create a bar chart to visualize the most common words or phrases\n",
        "fig = px.bar(top_words_df, x='Word', y='Frequency', title='Top {} Most Common Words or Phrases'.format(top_n_words))\n",
        "fig.show()\n"
      ],
      "metadata": {
        "colab": {
          "base_uri": "https://localhost:8080/",
          "height": 542
        },
        "id": "X70E43ARr1Kk",
        "outputId": "3357dfcd-c4aa-4784-c9ae-b6e292f9e215"
      },
      "execution_count": 32,
      "outputs": [
        {
          "output_type": "display_data",
          "data": {
            "text/html": [
              "<html>\n",
              "<head><meta charset=\"utf-8\" /></head>\n",
              "<body>\n",
              "    <div>            <script src=\"https://cdnjs.cloudflare.com/ajax/libs/mathjax/2.7.5/MathJax.js?config=TeX-AMS-MML_SVG\"></script><script type=\"text/javascript\">if (window.MathJax && window.MathJax.Hub && window.MathJax.Hub.Config) {window.MathJax.Hub.Config({SVG: {font: \"STIX-Web\"}});}</script>                <script type=\"text/javascript\">window.PlotlyConfig = {MathJaxConfig: 'local'};</script>\n",
              "        <script charset=\"utf-8\" src=\"https://cdn.plot.ly/plotly-2.24.1.min.js\"></script>                <div id=\"dfb2f780-2c6d-4eed-80d1-2cc2868784fc\" class=\"plotly-graph-div\" style=\"height:525px; width:100%;\"></div>            <script type=\"text/javascript\">                                    window.PLOTLYENV=window.PLOTLYENV || {};                                    if (document.getElementById(\"dfb2f780-2c6d-4eed-80d1-2cc2868784fc\")) {                    Plotly.newPlot(                        \"dfb2f780-2c6d-4eed-80d1-2cc2868784fc\",                        [{\"alignmentgroup\":\"True\",\"hovertemplate\":\"Word=%{x}\\u003cbr\\u003eFrequency=%{y}\\u003cextra\\u003e\\u003c\\u002fextra\\u003e\",\"legendgroup\":\"\",\"marker\":{\"color\":\"#636efa\",\"pattern\":{\"shape\":\"\"}},\"name\":\"\",\"offsetgroup\":\"\",\"orientation\":\"v\",\"showlegend\":false,\"textposition\":\"auto\",\"x\":[\"THE\",\"VEHICLE\",\"DOWN\",\"KNOCKED\",\"AND\",\"VICTIM\",\"HIT\",\"ON\",\"A\",\"LOST\",\"HEAD\",\"CONTROL\",\"COLLISION\",\"ROAD\",\"RUN\",\"CYCLE\",\"INTO\",\"M\\u002fV\",\"WAS\",\"M\\u002fCYCLE\"],\"xaxis\":\"x\",\"y\":[2054,701,527,492,489,408,361,346,266,246,241,225,171,152,137,129,117,116,116,114],\"yaxis\":\"y\",\"type\":\"bar\"}],                        {\"template\":{\"data\":{\"histogram2dcontour\":[{\"type\":\"histogram2dcontour\",\"colorbar\":{\"outlinewidth\":0,\"ticks\":\"\"},\"colorscale\":[[0.0,\"#0d0887\"],[0.1111111111111111,\"#46039f\"],[0.2222222222222222,\"#7201a8\"],[0.3333333333333333,\"#9c179e\"],[0.4444444444444444,\"#bd3786\"],[0.5555555555555556,\"#d8576b\"],[0.6666666666666666,\"#ed7953\"],[0.7777777777777778,\"#fb9f3a\"],[0.8888888888888888,\"#fdca26\"],[1.0,\"#f0f921\"]]}],\"choropleth\":[{\"type\":\"choropleth\",\"colorbar\":{\"outlinewidth\":0,\"ticks\":\"\"}}],\"histogram2d\":[{\"type\":\"histogram2d\",\"colorbar\":{\"outlinewidth\":0,\"ticks\":\"\"},\"colorscale\":[[0.0,\"#0d0887\"],[0.1111111111111111,\"#46039f\"],[0.2222222222222222,\"#7201a8\"],[0.3333333333333333,\"#9c179e\"],[0.4444444444444444,\"#bd3786\"],[0.5555555555555556,\"#d8576b\"],[0.6666666666666666,\"#ed7953\"],[0.7777777777777778,\"#fb9f3a\"],[0.8888888888888888,\"#fdca26\"],[1.0,\"#f0f921\"]]}],\"heatmap\":[{\"type\":\"heatmap\",\"colorbar\":{\"outlinewidth\":0,\"ticks\":\"\"},\"colorscale\":[[0.0,\"#0d0887\"],[0.1111111111111111,\"#46039f\"],[0.2222222222222222,\"#7201a8\"],[0.3333333333333333,\"#9c179e\"],[0.4444444444444444,\"#bd3786\"],[0.5555555555555556,\"#d8576b\"],[0.6666666666666666,\"#ed7953\"],[0.7777777777777778,\"#fb9f3a\"],[0.8888888888888888,\"#fdca26\"],[1.0,\"#f0f921\"]]}],\"heatmapgl\":[{\"type\":\"heatmapgl\",\"colorbar\":{\"outlinewidth\":0,\"ticks\":\"\"},\"colorscale\":[[0.0,\"#0d0887\"],[0.1111111111111111,\"#46039f\"],[0.2222222222222222,\"#7201a8\"],[0.3333333333333333,\"#9c179e\"],[0.4444444444444444,\"#bd3786\"],[0.5555555555555556,\"#d8576b\"],[0.6666666666666666,\"#ed7953\"],[0.7777777777777778,\"#fb9f3a\"],[0.8888888888888888,\"#fdca26\"],[1.0,\"#f0f921\"]]}],\"contourcarpet\":[{\"type\":\"contourcarpet\",\"colorbar\":{\"outlinewidth\":0,\"ticks\":\"\"}}],\"contour\":[{\"type\":\"contour\",\"colorbar\":{\"outlinewidth\":0,\"ticks\":\"\"},\"colorscale\":[[0.0,\"#0d0887\"],[0.1111111111111111,\"#46039f\"],[0.2222222222222222,\"#7201a8\"],[0.3333333333333333,\"#9c179e\"],[0.4444444444444444,\"#bd3786\"],[0.5555555555555556,\"#d8576b\"],[0.6666666666666666,\"#ed7953\"],[0.7777777777777778,\"#fb9f3a\"],[0.8888888888888888,\"#fdca26\"],[1.0,\"#f0f921\"]]}],\"surface\":[{\"type\":\"surface\",\"colorbar\":{\"outlinewidth\":0,\"ticks\":\"\"},\"colorscale\":[[0.0,\"#0d0887\"],[0.1111111111111111,\"#46039f\"],[0.2222222222222222,\"#7201a8\"],[0.3333333333333333,\"#9c179e\"],[0.4444444444444444,\"#bd3786\"],[0.5555555555555556,\"#d8576b\"],[0.6666666666666666,\"#ed7953\"],[0.7777777777777778,\"#fb9f3a\"],[0.8888888888888888,\"#fdca26\"],[1.0,\"#f0f921\"]]}],\"mesh3d\":[{\"type\":\"mesh3d\",\"colorbar\":{\"outlinewidth\":0,\"ticks\":\"\"}}],\"scatter\":[{\"fillpattern\":{\"fillmode\":\"overlay\",\"size\":10,\"solidity\":0.2},\"type\":\"scatter\"}],\"parcoords\":[{\"type\":\"parcoords\",\"line\":{\"colorbar\":{\"outlinewidth\":0,\"ticks\":\"\"}}}],\"scatterpolargl\":[{\"type\":\"scatterpolargl\",\"marker\":{\"colorbar\":{\"outlinewidth\":0,\"ticks\":\"\"}}}],\"bar\":[{\"error_x\":{\"color\":\"#2a3f5f\"},\"error_y\":{\"color\":\"#2a3f5f\"},\"marker\":{\"line\":{\"color\":\"#E5ECF6\",\"width\":0.5},\"pattern\":{\"fillmode\":\"overlay\",\"size\":10,\"solidity\":0.2}},\"type\":\"bar\"}],\"scattergeo\":[{\"type\":\"scattergeo\",\"marker\":{\"colorbar\":{\"outlinewidth\":0,\"ticks\":\"\"}}}],\"scatterpolar\":[{\"type\":\"scatterpolar\",\"marker\":{\"colorbar\":{\"outlinewidth\":0,\"ticks\":\"\"}}}],\"histogram\":[{\"marker\":{\"pattern\":{\"fillmode\":\"overlay\",\"size\":10,\"solidity\":0.2}},\"type\":\"histogram\"}],\"scattergl\":[{\"type\":\"scattergl\",\"marker\":{\"colorbar\":{\"outlinewidth\":0,\"ticks\":\"\"}}}],\"scatter3d\":[{\"type\":\"scatter3d\",\"line\":{\"colorbar\":{\"outlinewidth\":0,\"ticks\":\"\"}},\"marker\":{\"colorbar\":{\"outlinewidth\":0,\"ticks\":\"\"}}}],\"scattermapbox\":[{\"type\":\"scattermapbox\",\"marker\":{\"colorbar\":{\"outlinewidth\":0,\"ticks\":\"\"}}}],\"scatterternary\":[{\"type\":\"scatterternary\",\"marker\":{\"colorbar\":{\"outlinewidth\":0,\"ticks\":\"\"}}}],\"scattercarpet\":[{\"type\":\"scattercarpet\",\"marker\":{\"colorbar\":{\"outlinewidth\":0,\"ticks\":\"\"}}}],\"carpet\":[{\"aaxis\":{\"endlinecolor\":\"#2a3f5f\",\"gridcolor\":\"white\",\"linecolor\":\"white\",\"minorgridcolor\":\"white\",\"startlinecolor\":\"#2a3f5f\"},\"baxis\":{\"endlinecolor\":\"#2a3f5f\",\"gridcolor\":\"white\",\"linecolor\":\"white\",\"minorgridcolor\":\"white\",\"startlinecolor\":\"#2a3f5f\"},\"type\":\"carpet\"}],\"table\":[{\"cells\":{\"fill\":{\"color\":\"#EBF0F8\"},\"line\":{\"color\":\"white\"}},\"header\":{\"fill\":{\"color\":\"#C8D4E3\"},\"line\":{\"color\":\"white\"}},\"type\":\"table\"}],\"barpolar\":[{\"marker\":{\"line\":{\"color\":\"#E5ECF6\",\"width\":0.5},\"pattern\":{\"fillmode\":\"overlay\",\"size\":10,\"solidity\":0.2}},\"type\":\"barpolar\"}],\"pie\":[{\"automargin\":true,\"type\":\"pie\"}]},\"layout\":{\"autotypenumbers\":\"strict\",\"colorway\":[\"#636efa\",\"#EF553B\",\"#00cc96\",\"#ab63fa\",\"#FFA15A\",\"#19d3f3\",\"#FF6692\",\"#B6E880\",\"#FF97FF\",\"#FECB52\"],\"font\":{\"color\":\"#2a3f5f\"},\"hovermode\":\"closest\",\"hoverlabel\":{\"align\":\"left\"},\"paper_bgcolor\":\"white\",\"plot_bgcolor\":\"#E5ECF6\",\"polar\":{\"bgcolor\":\"#E5ECF6\",\"angularaxis\":{\"gridcolor\":\"white\",\"linecolor\":\"white\",\"ticks\":\"\"},\"radialaxis\":{\"gridcolor\":\"white\",\"linecolor\":\"white\",\"ticks\":\"\"}},\"ternary\":{\"bgcolor\":\"#E5ECF6\",\"aaxis\":{\"gridcolor\":\"white\",\"linecolor\":\"white\",\"ticks\":\"\"},\"baxis\":{\"gridcolor\":\"white\",\"linecolor\":\"white\",\"ticks\":\"\"},\"caxis\":{\"gridcolor\":\"white\",\"linecolor\":\"white\",\"ticks\":\"\"}},\"coloraxis\":{\"colorbar\":{\"outlinewidth\":0,\"ticks\":\"\"}},\"colorscale\":{\"sequential\":[[0.0,\"#0d0887\"],[0.1111111111111111,\"#46039f\"],[0.2222222222222222,\"#7201a8\"],[0.3333333333333333,\"#9c179e\"],[0.4444444444444444,\"#bd3786\"],[0.5555555555555556,\"#d8576b\"],[0.6666666666666666,\"#ed7953\"],[0.7777777777777778,\"#fb9f3a\"],[0.8888888888888888,\"#fdca26\"],[1.0,\"#f0f921\"]],\"sequentialminus\":[[0.0,\"#0d0887\"],[0.1111111111111111,\"#46039f\"],[0.2222222222222222,\"#7201a8\"],[0.3333333333333333,\"#9c179e\"],[0.4444444444444444,\"#bd3786\"],[0.5555555555555556,\"#d8576b\"],[0.6666666666666666,\"#ed7953\"],[0.7777777777777778,\"#fb9f3a\"],[0.8888888888888888,\"#fdca26\"],[1.0,\"#f0f921\"]],\"diverging\":[[0,\"#8e0152\"],[0.1,\"#c51b7d\"],[0.2,\"#de77ae\"],[0.3,\"#f1b6da\"],[0.4,\"#fde0ef\"],[0.5,\"#f7f7f7\"],[0.6,\"#e6f5d0\"],[0.7,\"#b8e186\"],[0.8,\"#7fbc41\"],[0.9,\"#4d9221\"],[1,\"#276419\"]]},\"xaxis\":{\"gridcolor\":\"white\",\"linecolor\":\"white\",\"ticks\":\"\",\"title\":{\"standoff\":15},\"zerolinecolor\":\"white\",\"automargin\":true,\"zerolinewidth\":2},\"yaxis\":{\"gridcolor\":\"white\",\"linecolor\":\"white\",\"ticks\":\"\",\"title\":{\"standoff\":15},\"zerolinecolor\":\"white\",\"automargin\":true,\"zerolinewidth\":2},\"scene\":{\"xaxis\":{\"backgroundcolor\":\"#E5ECF6\",\"gridcolor\":\"white\",\"linecolor\":\"white\",\"showbackground\":true,\"ticks\":\"\",\"zerolinecolor\":\"white\",\"gridwidth\":2},\"yaxis\":{\"backgroundcolor\":\"#E5ECF6\",\"gridcolor\":\"white\",\"linecolor\":\"white\",\"showbackground\":true,\"ticks\":\"\",\"zerolinecolor\":\"white\",\"gridwidth\":2},\"zaxis\":{\"backgroundcolor\":\"#E5ECF6\",\"gridcolor\":\"white\",\"linecolor\":\"white\",\"showbackground\":true,\"ticks\":\"\",\"zerolinecolor\":\"white\",\"gridwidth\":2}},\"shapedefaults\":{\"line\":{\"color\":\"#2a3f5f\"}},\"annotationdefaults\":{\"arrowcolor\":\"#2a3f5f\",\"arrowhead\":0,\"arrowwidth\":1},\"geo\":{\"bgcolor\":\"white\",\"landcolor\":\"#E5ECF6\",\"subunitcolor\":\"white\",\"showland\":true,\"showlakes\":true,\"lakecolor\":\"white\"},\"title\":{\"x\":0.05},\"mapbox\":{\"style\":\"light\"}}},\"xaxis\":{\"anchor\":\"y\",\"domain\":[0.0,1.0],\"title\":{\"text\":\"Word\"}},\"yaxis\":{\"anchor\":\"x\",\"domain\":[0.0,1.0],\"title\":{\"text\":\"Frequency\"}},\"legend\":{\"tracegroupgap\":0},\"title\":{\"text\":\"Top 20 Most Common Words or Phrases\"},\"barmode\":\"relative\"},                        {\"responsive\": true}                    ).then(function(){\n",
              "                            \n",
              "var gd = document.getElementById('dfb2f780-2c6d-4eed-80d1-2cc2868784fc');\n",
              "var x = new MutationObserver(function (mutations, observer) {{\n",
              "        var display = window.getComputedStyle(gd).display;\n",
              "        if (!display || display === 'none') {{\n",
              "            console.log([gd, 'removed!']);\n",
              "            Plotly.purge(gd);\n",
              "            observer.disconnect();\n",
              "        }}\n",
              "}});\n",
              "\n",
              "// Listen for the removal of the full notebook cells\n",
              "var notebookContainer = gd.closest('#notebook-container');\n",
              "if (notebookContainer) {{\n",
              "    x.observe(notebookContainer, {childList: true});\n",
              "}}\n",
              "\n",
              "// Listen for the clearing of the current output cell\n",
              "var outputEl = gd.closest('.output');\n",
              "if (outputEl) {{\n",
              "    x.observe(outputEl, {childList: true});\n",
              "}}\n",
              "\n",
              "                        })                };                            </script>        </div>\n",
              "</body>\n",
              "</html>"
            ]
          },
          "metadata": {}
        }
      ]
    },
    {
      "cell_type": "markdown",
      "source": [
        "### Comparing Incidents Across Counties:\n",
        "Bar Chart for Number of Victims by County:"
      ],
      "metadata": {
        "id": "8Y4Dp1lFsHdC"
      }
    },
    {
      "cell_type": "code",
      "source": [
        "# Group data by 'County' and calculate the total number of victims\n",
        "county_victims = df.groupby('County')['Total Victims'].sum().reset_index()\n",
        "\n",
        "# Create a bar chart to compare the number of victims across counties\n",
        "fig = px.bar(county_victims, x='County', y='Total Victims', title='Total Victims by County')\n",
        "fig.show()"
      ],
      "metadata": {
        "colab": {
          "base_uri": "https://localhost:8080/",
          "height": 542
        },
        "id": "_cp9qNbVsHpK",
        "outputId": "4fce23d8-930a-4764-bbbf-a4cb784095af"
      },
      "execution_count": 33,
      "outputs": [
        {
          "output_type": "display_data",
          "data": {
            "text/html": [
              "<html>\n",
              "<head><meta charset=\"utf-8\" /></head>\n",
              "<body>\n",
              "    <div>            <script src=\"https://cdnjs.cloudflare.com/ajax/libs/mathjax/2.7.5/MathJax.js?config=TeX-AMS-MML_SVG\"></script><script type=\"text/javascript\">if (window.MathJax && window.MathJax.Hub && window.MathJax.Hub.Config) {window.MathJax.Hub.Config({SVG: {font: \"STIX-Web\"}});}</script>                <script type=\"text/javascript\">window.PlotlyConfig = {MathJaxConfig: 'local'};</script>\n",
              "        <script charset=\"utf-8\" src=\"https://cdn.plot.ly/plotly-2.24.1.min.js\"></script>                <div id=\"6e819b20-38fd-4e24-aef4-4bab6233fd62\" class=\"plotly-graph-div\" style=\"height:525px; width:100%;\"></div>            <script type=\"text/javascript\">                                    window.PLOTLYENV=window.PLOTLYENV || {};                                    if (document.getElementById(\"6e819b20-38fd-4e24-aef4-4bab6233fd62\")) {                    Plotly.newPlot(                        \"6e819b20-38fd-4e24-aef4-4bab6233fd62\",                        [{\"alignmentgroup\":\"True\",\"hovertemplate\":\"County=%{x}\\u003cbr\\u003eTotal Victims=%{y}\\u003cextra\\u003e\\u003c\\u002fextra\\u003e\",\"legendgroup\":\"\",\"marker\":{\"color\":\"#636efa\",\"pattern\":{\"shape\":\"\"}},\"name\":\"\",\"offsetgroup\":\"\",\"orientation\":\"v\",\"showlegend\":false,\"textposition\":\"auto\",\"x\":[\"BARINGO\",\"BOMET\",\"BUNGOMA\",\"BUSIA\",\"ELGEYO MARAKWET\",\"EMBU\",\"GARISSA\",\"HOMA BAY\",\"HOMABAY\",\"ISIOLO\",\"KAJIADO\",\"KAKAMEGA\",\"KERICHO\",\"KIAMBU\",\"KILIFI\",\"KIRINYAGA\",\"KISII\",\"KISSI\",\"KISUMU\",\"KITUI\",\"KWALE\",\"LAIKIPIA\",\"MACHAKOS\",\"MAKUENI\",\"MAKURU\",\"MALINDI\",\"MANDERA\",\"MARAKWET\",\"MARSABIT\",\"MERU\",\"MIGORI\",\"MOMBASA\",\"MOYALE\",\"MURANGA\",\"MWINGI\",\"NAIROBI\",\"NAKURU\",\"NANDI\",\"NAROK\",\"NYAHURURU\",\"NYAMIRA\",\"NYANDARUA\",\"NYERI\",\"SIAYA\",\"TAITA TAVETA\",\"THARAKA NITHI\",\"TIGANIA\",\"TRANS NZOIA\",\"UASIN GISHU\",\"VIHIGA\",\"WAJIR\",\"WEST POKOT\"],\"xaxis\":\"x\",\"y\":[39,20,49,13,3,36,26,26,6,3,35,65,69,153,54,45,30,3,60,18,13,13,89,98,1,1,1,1,6,33,16,45,1,58,3,242,112,13,31,1,25,24,50,27,37,3,1,9,26,24,1,4],\"yaxis\":\"y\",\"type\":\"bar\"}],                        {\"template\":{\"data\":{\"histogram2dcontour\":[{\"type\":\"histogram2dcontour\",\"colorbar\":{\"outlinewidth\":0,\"ticks\":\"\"},\"colorscale\":[[0.0,\"#0d0887\"],[0.1111111111111111,\"#46039f\"],[0.2222222222222222,\"#7201a8\"],[0.3333333333333333,\"#9c179e\"],[0.4444444444444444,\"#bd3786\"],[0.5555555555555556,\"#d8576b\"],[0.6666666666666666,\"#ed7953\"],[0.7777777777777778,\"#fb9f3a\"],[0.8888888888888888,\"#fdca26\"],[1.0,\"#f0f921\"]]}],\"choropleth\":[{\"type\":\"choropleth\",\"colorbar\":{\"outlinewidth\":0,\"ticks\":\"\"}}],\"histogram2d\":[{\"type\":\"histogram2d\",\"colorbar\":{\"outlinewidth\":0,\"ticks\":\"\"},\"colorscale\":[[0.0,\"#0d0887\"],[0.1111111111111111,\"#46039f\"],[0.2222222222222222,\"#7201a8\"],[0.3333333333333333,\"#9c179e\"],[0.4444444444444444,\"#bd3786\"],[0.5555555555555556,\"#d8576b\"],[0.6666666666666666,\"#ed7953\"],[0.7777777777777778,\"#fb9f3a\"],[0.8888888888888888,\"#fdca26\"],[1.0,\"#f0f921\"]]}],\"heatmap\":[{\"type\":\"heatmap\",\"colorbar\":{\"outlinewidth\":0,\"ticks\":\"\"},\"colorscale\":[[0.0,\"#0d0887\"],[0.1111111111111111,\"#46039f\"],[0.2222222222222222,\"#7201a8\"],[0.3333333333333333,\"#9c179e\"],[0.4444444444444444,\"#bd3786\"],[0.5555555555555556,\"#d8576b\"],[0.6666666666666666,\"#ed7953\"],[0.7777777777777778,\"#fb9f3a\"],[0.8888888888888888,\"#fdca26\"],[1.0,\"#f0f921\"]]}],\"heatmapgl\":[{\"type\":\"heatmapgl\",\"colorbar\":{\"outlinewidth\":0,\"ticks\":\"\"},\"colorscale\":[[0.0,\"#0d0887\"],[0.1111111111111111,\"#46039f\"],[0.2222222222222222,\"#7201a8\"],[0.3333333333333333,\"#9c179e\"],[0.4444444444444444,\"#bd3786\"],[0.5555555555555556,\"#d8576b\"],[0.6666666666666666,\"#ed7953\"],[0.7777777777777778,\"#fb9f3a\"],[0.8888888888888888,\"#fdca26\"],[1.0,\"#f0f921\"]]}],\"contourcarpet\":[{\"type\":\"contourcarpet\",\"colorbar\":{\"outlinewidth\":0,\"ticks\":\"\"}}],\"contour\":[{\"type\":\"contour\",\"colorbar\":{\"outlinewidth\":0,\"ticks\":\"\"},\"colorscale\":[[0.0,\"#0d0887\"],[0.1111111111111111,\"#46039f\"],[0.2222222222222222,\"#7201a8\"],[0.3333333333333333,\"#9c179e\"],[0.4444444444444444,\"#bd3786\"],[0.5555555555555556,\"#d8576b\"],[0.6666666666666666,\"#ed7953\"],[0.7777777777777778,\"#fb9f3a\"],[0.8888888888888888,\"#fdca26\"],[1.0,\"#f0f921\"]]}],\"surface\":[{\"type\":\"surface\",\"colorbar\":{\"outlinewidth\":0,\"ticks\":\"\"},\"colorscale\":[[0.0,\"#0d0887\"],[0.1111111111111111,\"#46039f\"],[0.2222222222222222,\"#7201a8\"],[0.3333333333333333,\"#9c179e\"],[0.4444444444444444,\"#bd3786\"],[0.5555555555555556,\"#d8576b\"],[0.6666666666666666,\"#ed7953\"],[0.7777777777777778,\"#fb9f3a\"],[0.8888888888888888,\"#fdca26\"],[1.0,\"#f0f921\"]]}],\"mesh3d\":[{\"type\":\"mesh3d\",\"colorbar\":{\"outlinewidth\":0,\"ticks\":\"\"}}],\"scatter\":[{\"fillpattern\":{\"fillmode\":\"overlay\",\"size\":10,\"solidity\":0.2},\"type\":\"scatter\"}],\"parcoords\":[{\"type\":\"parcoords\",\"line\":{\"colorbar\":{\"outlinewidth\":0,\"ticks\":\"\"}}}],\"scatterpolargl\":[{\"type\":\"scatterpolargl\",\"marker\":{\"colorbar\":{\"outlinewidth\":0,\"ticks\":\"\"}}}],\"bar\":[{\"error_x\":{\"color\":\"#2a3f5f\"},\"error_y\":{\"color\":\"#2a3f5f\"},\"marker\":{\"line\":{\"color\":\"#E5ECF6\",\"width\":0.5},\"pattern\":{\"fillmode\":\"overlay\",\"size\":10,\"solidity\":0.2}},\"type\":\"bar\"}],\"scattergeo\":[{\"type\":\"scattergeo\",\"marker\":{\"colorbar\":{\"outlinewidth\":0,\"ticks\":\"\"}}}],\"scatterpolar\":[{\"type\":\"scatterpolar\",\"marker\":{\"colorbar\":{\"outlinewidth\":0,\"ticks\":\"\"}}}],\"histogram\":[{\"marker\":{\"pattern\":{\"fillmode\":\"overlay\",\"size\":10,\"solidity\":0.2}},\"type\":\"histogram\"}],\"scattergl\":[{\"type\":\"scattergl\",\"marker\":{\"colorbar\":{\"outlinewidth\":0,\"ticks\":\"\"}}}],\"scatter3d\":[{\"type\":\"scatter3d\",\"line\":{\"colorbar\":{\"outlinewidth\":0,\"ticks\":\"\"}},\"marker\":{\"colorbar\":{\"outlinewidth\":0,\"ticks\":\"\"}}}],\"scattermapbox\":[{\"type\":\"scattermapbox\",\"marker\":{\"colorbar\":{\"outlinewidth\":0,\"ticks\":\"\"}}}],\"scatterternary\":[{\"type\":\"scatterternary\",\"marker\":{\"colorbar\":{\"outlinewidth\":0,\"ticks\":\"\"}}}],\"scattercarpet\":[{\"type\":\"scattercarpet\",\"marker\":{\"colorbar\":{\"outlinewidth\":0,\"ticks\":\"\"}}}],\"carpet\":[{\"aaxis\":{\"endlinecolor\":\"#2a3f5f\",\"gridcolor\":\"white\",\"linecolor\":\"white\",\"minorgridcolor\":\"white\",\"startlinecolor\":\"#2a3f5f\"},\"baxis\":{\"endlinecolor\":\"#2a3f5f\",\"gridcolor\":\"white\",\"linecolor\":\"white\",\"minorgridcolor\":\"white\",\"startlinecolor\":\"#2a3f5f\"},\"type\":\"carpet\"}],\"table\":[{\"cells\":{\"fill\":{\"color\":\"#EBF0F8\"},\"line\":{\"color\":\"white\"}},\"header\":{\"fill\":{\"color\":\"#C8D4E3\"},\"line\":{\"color\":\"white\"}},\"type\":\"table\"}],\"barpolar\":[{\"marker\":{\"line\":{\"color\":\"#E5ECF6\",\"width\":0.5},\"pattern\":{\"fillmode\":\"overlay\",\"size\":10,\"solidity\":0.2}},\"type\":\"barpolar\"}],\"pie\":[{\"automargin\":true,\"type\":\"pie\"}]},\"layout\":{\"autotypenumbers\":\"strict\",\"colorway\":[\"#636efa\",\"#EF553B\",\"#00cc96\",\"#ab63fa\",\"#FFA15A\",\"#19d3f3\",\"#FF6692\",\"#B6E880\",\"#FF97FF\",\"#FECB52\"],\"font\":{\"color\":\"#2a3f5f\"},\"hovermode\":\"closest\",\"hoverlabel\":{\"align\":\"left\"},\"paper_bgcolor\":\"white\",\"plot_bgcolor\":\"#E5ECF6\",\"polar\":{\"bgcolor\":\"#E5ECF6\",\"angularaxis\":{\"gridcolor\":\"white\",\"linecolor\":\"white\",\"ticks\":\"\"},\"radialaxis\":{\"gridcolor\":\"white\",\"linecolor\":\"white\",\"ticks\":\"\"}},\"ternary\":{\"bgcolor\":\"#E5ECF6\",\"aaxis\":{\"gridcolor\":\"white\",\"linecolor\":\"white\",\"ticks\":\"\"},\"baxis\":{\"gridcolor\":\"white\",\"linecolor\":\"white\",\"ticks\":\"\"},\"caxis\":{\"gridcolor\":\"white\",\"linecolor\":\"white\",\"ticks\":\"\"}},\"coloraxis\":{\"colorbar\":{\"outlinewidth\":0,\"ticks\":\"\"}},\"colorscale\":{\"sequential\":[[0.0,\"#0d0887\"],[0.1111111111111111,\"#46039f\"],[0.2222222222222222,\"#7201a8\"],[0.3333333333333333,\"#9c179e\"],[0.4444444444444444,\"#bd3786\"],[0.5555555555555556,\"#d8576b\"],[0.6666666666666666,\"#ed7953\"],[0.7777777777777778,\"#fb9f3a\"],[0.8888888888888888,\"#fdca26\"],[1.0,\"#f0f921\"]],\"sequentialminus\":[[0.0,\"#0d0887\"],[0.1111111111111111,\"#46039f\"],[0.2222222222222222,\"#7201a8\"],[0.3333333333333333,\"#9c179e\"],[0.4444444444444444,\"#bd3786\"],[0.5555555555555556,\"#d8576b\"],[0.6666666666666666,\"#ed7953\"],[0.7777777777777778,\"#fb9f3a\"],[0.8888888888888888,\"#fdca26\"],[1.0,\"#f0f921\"]],\"diverging\":[[0,\"#8e0152\"],[0.1,\"#c51b7d\"],[0.2,\"#de77ae\"],[0.3,\"#f1b6da\"],[0.4,\"#fde0ef\"],[0.5,\"#f7f7f7\"],[0.6,\"#e6f5d0\"],[0.7,\"#b8e186\"],[0.8,\"#7fbc41\"],[0.9,\"#4d9221\"],[1,\"#276419\"]]},\"xaxis\":{\"gridcolor\":\"white\",\"linecolor\":\"white\",\"ticks\":\"\",\"title\":{\"standoff\":15},\"zerolinecolor\":\"white\",\"automargin\":true,\"zerolinewidth\":2},\"yaxis\":{\"gridcolor\":\"white\",\"linecolor\":\"white\",\"ticks\":\"\",\"title\":{\"standoff\":15},\"zerolinecolor\":\"white\",\"automargin\":true,\"zerolinewidth\":2},\"scene\":{\"xaxis\":{\"backgroundcolor\":\"#E5ECF6\",\"gridcolor\":\"white\",\"linecolor\":\"white\",\"showbackground\":true,\"ticks\":\"\",\"zerolinecolor\":\"white\",\"gridwidth\":2},\"yaxis\":{\"backgroundcolor\":\"#E5ECF6\",\"gridcolor\":\"white\",\"linecolor\":\"white\",\"showbackground\":true,\"ticks\":\"\",\"zerolinecolor\":\"white\",\"gridwidth\":2},\"zaxis\":{\"backgroundcolor\":\"#E5ECF6\",\"gridcolor\":\"white\",\"linecolor\":\"white\",\"showbackground\":true,\"ticks\":\"\",\"zerolinecolor\":\"white\",\"gridwidth\":2}},\"shapedefaults\":{\"line\":{\"color\":\"#2a3f5f\"}},\"annotationdefaults\":{\"arrowcolor\":\"#2a3f5f\",\"arrowhead\":0,\"arrowwidth\":1},\"geo\":{\"bgcolor\":\"white\",\"landcolor\":\"#E5ECF6\",\"subunitcolor\":\"white\",\"showland\":true,\"showlakes\":true,\"lakecolor\":\"white\"},\"title\":{\"x\":0.05},\"mapbox\":{\"style\":\"light\"}}},\"xaxis\":{\"anchor\":\"y\",\"domain\":[0.0,1.0],\"title\":{\"text\":\"County\"}},\"yaxis\":{\"anchor\":\"x\",\"domain\":[0.0,1.0],\"title\":{\"text\":\"Total Victims\"}},\"legend\":{\"tracegroupgap\":0},\"title\":{\"text\":\"Total Victims by County\"},\"barmode\":\"relative\"},                        {\"responsive\": true}                    ).then(function(){\n",
              "                            \n",
              "var gd = document.getElementById('6e819b20-38fd-4e24-aef4-4bab6233fd62');\n",
              "var x = new MutationObserver(function (mutations, observer) {{\n",
              "        var display = window.getComputedStyle(gd).display;\n",
              "        if (!display || display === 'none') {{\n",
              "            console.log([gd, 'removed!']);\n",
              "            Plotly.purge(gd);\n",
              "            observer.disconnect();\n",
              "        }}\n",
              "}});\n",
              "\n",
              "// Listen for the removal of the full notebook cells\n",
              "var notebookContainer = gd.closest('#notebook-container');\n",
              "if (notebookContainer) {{\n",
              "    x.observe(notebookContainer, {childList: true});\n",
              "}}\n",
              "\n",
              "// Listen for the clearing of the current output cell\n",
              "var outputEl = gd.closest('.output');\n",
              "if (outputEl) {{\n",
              "    x.observe(outputEl, {childList: true});\n",
              "}}\n",
              "\n",
              "                        })                };                            </script>        </div>\n",
              "</body>\n",
              "</html>"
            ]
          },
          "metadata": {}
        }
      ]
    },
    {
      "cell_type": "markdown",
      "source": [
        "Bar Chart for Motor Vehicle Involvement by County:"
      ],
      "metadata": {
        "id": "Evg2CfresUzo"
      }
    },
    {
      "cell_type": "code",
      "source": [
        "# Group data by 'County' and calculate the total number of motor vehicle involvement incidents\n",
        "county_mv_involved = df.groupby('County')['Mv Involved'].sum().reset_index()\n",
        "\n",
        "# Create a bar chart to compare motor vehicle involvement across counties\n",
        "fig = px.bar(county_mv_involved, x='County', y='Mv Involved', title='Motor Vehicle Involvement by County')\n",
        "fig.show()\n"
      ],
      "metadata": {
        "colab": {
          "base_uri": "https://localhost:8080/",
          "height": 542
        },
        "id": "w7_a97_osYCA",
        "outputId": "27c765ac-4fed-48f9-c92a-fd9639294309"
      },
      "execution_count": 34,
      "outputs": [
        {
          "output_type": "display_data",
          "data": {
            "text/html": [
              "<html>\n",
              "<head><meta charset=\"utf-8\" /></head>\n",
              "<body>\n",
              "    <div>            <script src=\"https://cdnjs.cloudflare.com/ajax/libs/mathjax/2.7.5/MathJax.js?config=TeX-AMS-MML_SVG\"></script><script type=\"text/javascript\">if (window.MathJax && window.MathJax.Hub && window.MathJax.Hub.Config) {window.MathJax.Hub.Config({SVG: {font: \"STIX-Web\"}});}</script>                <script type=\"text/javascript\">window.PlotlyConfig = {MathJaxConfig: 'local'};</script>\n",
              "        <script charset=\"utf-8\" src=\"https://cdn.plot.ly/plotly-2.24.1.min.js\"></script>                <div id=\"7c6df842-9299-4d61-83c6-4091c907144f\" class=\"plotly-graph-div\" style=\"height:525px; width:100%;\"></div>            <script type=\"text/javascript\">                                    window.PLOTLYENV=window.PLOTLYENV || {};                                    if (document.getElementById(\"7c6df842-9299-4d61-83c6-4091c907144f\")) {                    Plotly.newPlot(                        \"7c6df842-9299-4d61-83c6-4091c907144f\",                        [{\"alignmentgroup\":\"True\",\"hovertemplate\":\"County=%{x}\\u003cbr\\u003eMv Involved=%{y}\\u003cextra\\u003e\\u003c\\u002fextra\\u003e\",\"legendgroup\":\"\",\"marker\":{\"color\":\"#636efa\",\"pattern\":{\"shape\":\"\"}},\"name\":\"\",\"offsetgroup\":\"\",\"orientation\":\"v\",\"showlegend\":false,\"textposition\":\"auto\",\"x\":[\"BARINGO\",\"BOMET\",\"BUNGOMA\",\"BUSIA\",\"ELGEYO MARAKWET\",\"EMBU\",\"GARISSA\",\"HOMA BAY\",\"HOMABAY\",\"ISIOLO\",\"KAJIADO\",\"KAKAMEGA\",\"KERICHO\",\"KIAMBU\",\"KILIFI\",\"KIRINYAGA\",\"KISII\",\"KISSI\",\"KISUMU\",\"KITUI\",\"KWALE\",\"LAIKIPIA\",\"MACHAKOS\",\"MAKUENI\",\"MAKURU\",\"MALINDI\",\"MANDERA\",\"MARAKWET\",\"MARSABIT\",\"MERU\",\"MIGORI\",\"MOMBASA\",\"MOYALE\",\"MURANGA\",\"MWINGI\",\"NAIROBI\",\"NAKURU\",\"NANDI\",\"NAROK\",\"NYAHURURU\",\"NYAMIRA\",\"NYANDARUA\",\"NYERI\",\"SIAYA\",\"TAITA TAVETA\",\"THARAKA NITHI\",\"TIGANIA\",\"TRANS NZOIA\",\"UASIN GISHU\",\"VIHIGA\",\"WAJIR\",\"WEST POKOT\"],\"xaxis\":\"x\",\"y\":[\"KMDA  BOXER & UNKNOWN VEHICLEKMCZ  BOXER ISUZU P\\u002fUP & KMDL  MAKE BOXER SCANIA BUS &  ACTROS SCANIA BUS &  ACTROS ISUZU D\\u002fMAX & \\u002fZE  ISUZU D\\u002fMAX & \\u002fZE GKB  ISUZU DMAXXKCF MATATU & KBB\\u002fZC NISSAN DIESEL UD TRAILER & KBW\\u002fZC HOWOUNKNOWN M\\u002fV PEDESTRIAN T\\u002fPROBOX TOYOTA HILUX P\\u002fUP\\u002fZB  M\\u002fBENZ & PEDESTRIANKMDZ  BOXER M\\u002fCYCLE\",\" ISUZU NPR,KMDZ  BOXER MITSUBISHI LORRY & KMDN  BOXERM\\u002fV  M\\u002fBUS & M\\u002fCYC. KMDV  BOXERM\\u002fV  M\\u002fBUS & M\\u002fCYC. KMDV  BOXER ISUZU NPR,KMDZ  BOXER T\\u002fMATATU & KMDW  BAJAJM\\u002fTRACTOR KTCB \\u002fZA  NEW HOLLAND & M\\u002fA\\u002fPAX TOYOTA SALOON MITSUBISH CANTER ISUZU MINI BUS T\\u002fFIELDERKMDP  BOXER AND \\u002fZF  TRAILER\",\"KTCB ZA  MAHINDRA TRACTOR & KBL TOYOTA HIACE MATATUKMEC  TVS STAR & UNKNOWN M\\u002fCYCLEKTCB \\u002fZF LANDINI TRACTOR & KBK TOYOTA TOWNACEKTCB \\u002fZF LANDINI TRACTOR & KBK TOYOTA TOWNACEKMBH  TVS STARKMBH  TVS STARKMDM  BOXER & KMDX  TVS STAR\\u002fZC  M\\u002fBENZ AND KMDZ  TVS TOYOTA TOWNACETRACTOR KTCA  FORD NEW HOLLAND TOYOTA ALLION MITSUBISHI LORRY LIBERTYUNKNOWN M\\u002fV & PEDCG  FORD RANGER DOUBLE CABIN F\\u002fTAN& M\\u002fCYCLEKTCB \\u002fZC  MAHINDRA TRACTOR & KMDL  M\\u002fCYCLE\",\"KMDV  &KMCS  TOYOTA TOWNACE & KMDX  BOXER ISUZU LORRY & KMCT  BOXER NISSAN UD & UEJ  M\\u002fCYCLE TOYOTA IPSUM TOYOTA TOWNACE & KMDX  BOXERKTCB  FORD TRACTOR NISSAN AD TOYOTA PROBOXKTCA \\u002fZC  NEW HOLLAND\",\" TOYOTA HILUX\",\" T\\u002fMATATU &  ISUZU BUS FORD RANGER P\\u002fUPM\\u002fV  MISTUBISHI GDP AND AN OX CART.KMDX  SKYGO M\\u002fCYCLER NZE NISSAN AD & KMCX  SKYGOKMDS  SKYGO I\\u002fLORRY N\\u002fSALOONKMDK  SKYGO &  TOYOTA TOYOTA PROBOX TOYOTA PROBOX NISSAN AD MATATU MATATU TOYOTA PROBOX ISUZU LORRYKMDS  CAPTAIN PROBOX & M\\u002fA\\u002fPEDKMDD  BAJAJKTWB \",\" PRADO T\\u002fESTIMA ISUZU LORRY & KMDA  RANGER ISUZU CXZ LORRY & KMEC  TVS STAR T\\u002fWISH,KTWB  BAJAJ &KMDN MITSUBISHI CANTER AND KTWB TUKTUK T\\u002fESTIMA T\\u002fESTIMA T\\u002fESTIMAGKB  TOYOTA L\\u002fCRUISER ISUZU CXZ LORRY & KMEC  TVS STARKMCT  MTR & KMDL  SKYGO V\\u002fWAGEN GOLF TOYOTA P\\u002fUP\",\" TOYOTA HIACE PROBOXKMDV  BOXER & \\u002fZD  MAN TRAILERKMDU  BOXER TOYOTA HIACEGKB  T\\u002fL\\u002fCRUISER PROBOX TOYOTA MATATU TOYOTA MATATUUNKNOWN M\\u002fV & M\\u002fJ\\u002fPEDM\\u002fCY. KMDV  BOXER\",\" T\\u002fPROBOX &PEDESTRIAN TOYOTA PROBOX&KMDT  BOXERUNKNOWN MOTOR CYCLE M\\u002fTIPPER & PEDESTRIAN &  N\\u002fSALOON TOYOTA AXIO TOYOTA HIACE MATATU\",\" LORRY MITSUBISHI P\\u002fUP\",\"\\u002fZE  M\\u002fBENZ TRAILER &  BENZ TRAILER & \\u002fZD  ACTROS TRAILERTMS TOYOTA SPACIO,  MITSUBISHI CANTER &  TOWNACE V\\u002fW &  M\\u002fLANCER TOYOTA SALOON,KMDX  HAUJINKTWA  PIAGGIO TUKTUK AND KMDK  BOXERKMCB  BAJAJ & UNKNOWN M\\u002fV T\\u002fMATATU & KMDT  BOXER ISUZU LORRY AND UNKNOWN M\\u002fCYCLE T\\u002fSALOON & KMDU  BOXER MITSUBISHI FUSO LORRY &  TOYOTA PROBOX I\\u002fM\\u002fBUS ISUZU LORRY MAKE ISUZU LORRYUNKNOWN M\\u002fV & SKATER TOYOTA COROLLA T\\u002fPROBOXTNS SUZUKI VITARA ISUZU LORRY\",\" I\\u002fLORRYKMDY  HONDA NISSAN MATATU,KMCF  TVS\\u002fZE  ACTROS TRAILER & KMCH  TVS STAR T\\u002fG-TOURING & KMED  SKYGO TOYOTA MATATU AND KMDH  TVS STARKMDM  TVS T\\u002fMATATU & KMDL  TVS TOYOTA SIENTA & KMDL  MAKE TVS ISUZU CANTER & KMEE  TVS STAR TOYOTA HARRIER AND KMDQ  TVS STARKMDA  M\\u002fC &PEDAL CYCLIST\\u002fZB  M\\u002fBENZ TOYOTA PROBOX NEW HOLLAND T\\u002fMATATU & KMDY  NISSAN MATATU,KMCF  TVSGKB  T\\u002fL\\u002fCRUISER & KMDL  M\\u002fCYCLE TOYOTA MATATU & KMDR  BOXER NEW HOLLAND\\u002fZB  M\\u002fBENZTRAILER & UAQ  \\u002fUAQ  TANKER\\u002fZC  FORD HOLLAND TRACTOR TOYOTA SALOON \\u002fZE  MAN TRAILERKTCB\\u002fZE TRACTOR N\\u002fBUS &  TRACTOR NZE\\u002fZD  M\\u002fBENZ TRAILER P\\u002fUP NISSAN SUNNY TOYOTA RACTISKMEB  TVS STAR\\u002fZF  NEW HOLLAND TRACTOR TOYOTA MATATU (CLASSIC LUXURY SHUTTLE ) HOWO TIPPER MITSUBISHI FUSO LORRY T\\u002fCALDINAKTCB \\u002fZF  NEW HOLLANDKTCA \\u002f TRACTOR\\u002fZE  NEW HOLLAND TRACTORM\\u002fCYCLE KMCC  TVS & UNKNOWN M\\u002fVEHICLEM\\u002fCYCLE KMCC  TVS & UNKNOWN M\\u002fVEHICLE T\\u002fALLION & KMCN  TVSSTAR T\\u002fALLION & KMCN  TVSSTAR\",\" T\\u002fPROBOX & MITSUBISHI PETROL TANKERKTCB  JOHN DEERUAN  SCANIA TRAILER &  FH TANKER T\\u002fCOROLLA T\\u002fPREMIO SELF INVOLVED ISUZU & MITSUBISH FH TANKERUAT  TOYOTA PRAYERKTCB  MESSEY FRRGUSON TRACTOR &  MATATU\\u002fZC  M\\u002fBENZ TAILERUNKNOWN M\\u002fV & KMDE  TOYOTA NOAH & KMEC  BOXERUEM  MAKE YAMAHAKMDH  KINGBIRD & UNKNOEWN MCYKMDH  KINGBIRD & UNKNOEWN MCY ISUZU BUS & T\\u002fWISH  TOYOTA MATATU &  HINO LORRYMITSUBISHI LORRY\\u002fZF \\u002fBENZ TRAILER ISUZU LORRY &  ASHOK LEYLAND LORRY ISUZU LORRY &  ASHOK LEYLAND LORRYKAH NISSAN SUNNY & KCM MITSUBISHI LORRYUNREGISTERED M\\u002fCYCLE TOYOTA SUCCEED & KMDD  RIFANKMCE  BOXER NISSAN MATATUKMDZ  BAJAJ BOXER AND  FORD\",\" M\\u002fPAJERO &  M\\u002fLORRY T\\u002fMATATU TOYOTA PRADO, SCANIA BUS FUSO LORRY & \\u002fZE  FAW TOYOTA SPACIO & KHMA  JCB M\\u002fFH &  H\\u002fSALOON TOYOTA RACTIS & KTWB  PIAGGIO TOYOTA RACTIS & KTWB  PIAGGIOKAQ TOYOTA LEXUS AND KAH TOYOTA LAND CRUISERKBY SUBARU & KCB T\\u002fMATATU & KCE MITSUBISHI LORRYM\\u002fV  T\\u002f &  TIPPER LORRYKMCJ  DAYUNKMED  SANYA TOYOTA PROBOX & KMCY  TIGER TATA LORRY & KMEE  T\\u002fALLION & KMCW  BOXERKMCT  CAPTAIN,  TOYOTA VITS AND  NISSAN MATATU TOYOTA HIACE AND KMDC  TIGER NISSAN LORRY & KMCR  BOXER ISUZU BUS & KMDS  CAPTAINKMEH  RANGER&  ISUZU LORRY NISSAN CARAVAN & KMDF  SKYGOUNKNOWN & KMDS DAYUNT SCANIA BUS & KMEC BOXER TOYOTA HIACEKCE ISUZU CANTER & .ZF ACTROS TRAILERKMCJ  DAYUNKMEC  TIGERSKMDT  TOYOTA CANTER & KMCU  DAYUNKCN ISUZU MINIBUS & M\\u002fCYCLE KMDZKMEH  RANGER&  ISUZU LORRY MITS LORRY ISUZU BUS & KMEC  HAOJIN T\\u002fD\\u002fCAP & KMDS  TVS ISUZU BUS SALOON M\\u002fCANTER &  T\\u002fMATATU TOYOTA HIACE NISSAN UD BUS M\\u002fLORRY MITSUBISHI CANTER T\\u002fMATATU &  HINO BUS T\\u002fMATATU &  HINO BUSUNKNWON TOYOTA VITS ISUZU NPR NISSAN TIIDA T\\u002fCOROLLA ISUZU MINIBUS T\\u002fMATYATU(ISKA INVESTMENTS COMPANY LTD) ISUZU LORRY NISSAN BLUEBIRD MATATU (NK SACCO) MATATU ISUZU CANTERGKB  AND \\u002f T\\u002fSALOON TOYOTA MATATU TOYOTA DX SCANIA BUS TOYOTA TOWNACE ISUZU LORRY TOYOTA MATATU(LIKANA ROUTE \\u002f) RANGE ROVER ISUZU BUS T\\u002fSALOON & PED TOYOTA SALOONUNKNOWN M\\u002fV & F\\u002fA\\u002fPED ISUZU LORRYKBA T\\u002fMATATUKCD TOYOTA FIELDER MAKE NISSAN VANETTE\\u002fZE  MERCEDES BENZ TRAILER TOYOTA ISIS ISUZU MINIBUS MITSUBISHI LANCER T\\u002fFIELDER T\\u002fMATATU LORRY & KMDS  DAYUN TOYOTA MATATU & M\\u002fC KMCS  JINCHENGUNKNOWN M\\u002fV AND KMCJ  BOXER\",\" FAW LORRY &  SALOONKTWA  PIAGGIO TUKTUK &  HUMMERKTWA  PIAGGIO TUKTUK & KMDE  BAJAJ MITSUBISH CANTER KMDA  BAJAJ T\\u002fVOXY & UNREGISTERED M\\u002fCYCLE MITSUBISHI LORRY AND KMEC  TVS NISSAN XTRAIL AND KMDK  HAOJIN NISSAN MATATU &  WATER DRILLING TRUCKKA  TAN& KMDB  T\\u002fPICKMDQ  HAOJIN ISUZU D MAX PICK UP & KMEG  HAOJIN X-TRAIL TOYOTA ALLION, SALOON CAR, SEMI TRAILERKBTISUZU P\\u002fUP & KTWA TUK TUK T\\u002fPRADO T\\u002fPRADOKTWB  PIAGGIO NISSAN MATATU TOYOTA SALOON I\\u002fM\\u002fBUS & M\\u002fA\\u002fPED HONDA FIT VITZ & M\\u002fC KMDM  ZAN LG\",\" T\\u002fSTARLET, T\\u002fBELTA XTRAIL & KMDA  CHINNERYKMCP SUZUKI, TOYOTA PROBOX MITSUBISHI LORRY & KMEA  BOXER PROBOX & KMDV  SKYGO M\\u002fCYCLEKMDM  DAIYUN & KBY TOYOTA VITZ XTRAIL & KMDA  CHINNERYKTWB  DAIYUN &  TOYOTA MATATU T\\u002fSTARLET, T\\u002fBELTA ISUZU T\\u002fMATATU &  T\\u002fNZEGKB  FORD RANGERGKB  FORD RANGER ISUZU LORRY TOYOTA FIELDER N\\u002fSALOON ISUZU NKR LORRY T\\u002fWISH & F\\u002fA\\u002fPED TOYOTA FIELDER TOYOTA MATATUKMED  M\\u002fCYCLE &  T\\u002fMATATU TOYOTA FIELDERUNKNOWN M\\u002fV &  PEDSUNKNOWN M\\u002fV &  PEDS RANGE ROVER SPORT & M\\u002fCYCLE RANGE ROVER SPORT & M\\u002fCYCLE\\u002fZF  SCANIA & KMEA  TIGER\",\" T\\u002fPROBOX , T\\u002fMATATU & KMDB  TVS FAW TIPPERKMDT  TVS STARGKB  T\\u002fL\\u002fCRUISER & KMEC  BAJAJ SCANIA BUS &  ISUZU CANTER & KMDA  TOYOTA PRADO MATATU &  T\\u002fCOROLLA TOYOTA PROBOX TOYOTA PROBOX TOYOTA MATATU TOYOTA PRADO TOYOTA MATATU\",\"M\\u002fCYCLE KMCC  & \",\" T\\u002fDUET &  T\\u002fMATATU &  T\\u002fFIELDER FRR &  MASSEY FERGUSON MITSUBISH PRIVER MOVERKMCK  TVS T\\u002fMATATU & KMEA  BOXER TOYOTA LANDCRUISER ISUZU BUS & KMEA  BAJAJ BOXERKCWA  TUKTUK & KMDY  BAJAJKMDR  BOXER,KMDQ  TVS &  FAW PRIME MOVERKBC TOYOTA MATATU & KMDG BOXER T\\u002fMATATU & KMEA  BOXER FAW LORRY & KMDP  HONDA FAW LORRY & KMDP  HONDA T\\u002fMATATU AND UNKNOWN M\\u002fCYCLE\\u002fZE  M\\u002fBENZ TRAILER & KMDJ  BOXER\\u002fZE  M\\u002fBENZ TRAILER & KMDJ  BOXER TOYOTA HILLUX PROBOXSCANIA BUS AND KMDL  SKYGOKMDR  BOXER,KMDQ  TVS &  FAW PRIME MOVERCG FORD RANGER & KMEH  HERO HONDA\\u002fZD  AXIOR TRAILER TOYOTA MATATU AND GKB  LAND CRUISER T\\u002fSHARK AND M\\u002fA\\u002fPASS\\u002fZD  TRAILER &  T\\u002fALLION & UAY IVECO & KTWA  TUK TUK MATATU TOYOTA SALOON NISSAN UD BUSKCB (GKB ) SUBARU OUTBACKM\\u002fV  R.ROVER, M\\u002fCYC. KMDL  BOXER AND KMCQ  BOXER I\\u002fM\\u002fBUS & M\\u002fC KMDR  I\\u002fM\\u002fBUS & M\\u002fC KMDR  I\\u002fM\\u002fBUS & M\\u002fC KMDR \",\" TOYOTA PROBOXKMCR  PREMIER & KMCC  SKYGO D\\u002fCAB & GKA  MAKE YAMAHA MITSUBISH MINI BUS & UNKNOWN M\\u002fCYLEM\\u002fV KX A &M\\u002fC KMDL  SKYGOBICYCLE TOYOTA PROBOX TOYOTA MATATU & KMEG  PIONEERKMCH  SKYGOKMDS  RANGER TOYOTA PROBOX ISUZU CANTERKBW TOYOTA LANDCRUISER PRADOM\\u002fCYCLE KMDY  YAMAHA $F\\u002fJ\\u002fPED T\\u002fMATATU T\\u002fSUCCEED\",\" NISSAN MATATU, NISSAN MATATU PROBOX & TUKTUK KTWB  TOYOTA PROBOX &  TATA TIPPER \\u002fZD  AXIOR TRAILER & KMDZ  HAOJIN\\u002fZE  SCANIA TRAILER & M\\u002fCYCLE NISSAN UD BUS &  NISSAN VAN NISSAN MATATU T\\u002fPROBOX MIT LORRY\",\" T\\u002fSALOON & KMDQ  M\\u002fCYCLE SALOON &  I\\u002fBUSKMEA  TIGERM\\u002fCY KMDW  AND M\\u002fA\\u002fPED\",\"\\u002fZC  AXOR TRAILER &  T\\u002fSALOONGKB  T\\u002fL CRUISER T\\u002fSIENTA &  MITSUBISH CANTERM\\u002fV \\u002f ZB  M\\u002fBENZ AND  T\\u002fCOROLLA\\u002fZE  M\\u002fBENZ TRAILER &  ISUZU LORRY\\u002fZE  M\\u002fBENZ TRAILER &  ISUZU LORRY N\\u002fSALOON & DONCART DRIVER TOYOTA PROBOXKBR\\u002fZE  ACTORS TRAILER & KBV TOYOTA G-TOURINGKBR\\u002fZE  ACTORS TRAILER & KBV TOYOTA G-TOURINGKBR\\u002fZE  ACTORS TRAILER & KBV TOYOTA G-TOURING T\\u002fRAUM & \\u002fZF  ACTROSGKA  TOYOTA PRADO AND  M\\u002fBENZ TRAILORGKA  TOYOTA PRADO AND  M\\u002fBENZ TRAILORKMDT  RANGERKMDH  DAYUN M\\u002fBENZ & KMDE  B MITSUBISHI CANTER & KMDG  YAMAHA MIN BUS & KMEJ  BOXER ISUZU DMAX & KMDL  TOYOTA PROBOX & KMEE  MAKE SKYGO ISUZU BUSKMCY  SKYGO &  ISUZU P\\u002fUP MITSUBISHI M\\u002fBUS & KMDN  SKYGOUNKNOWN M\\u002fCYCLE & KMDT  TATA LORRY TOYOTA SUCCEEDKBZS  T\\u002fUP &  T\\u002fSALOON TOYOTA COROLLA ISUZU LORRY ISUZU MINI BUS ZD  MERCEDEZ BENZ TRAILER &  TOYOTA PRADO SCANIA BUS ISUZU MINIBUS L\\u002fROVER T\\u002fPROBOX FH MINI BUS I\\u002fM\\u002fBUS BMW SALOON I\\u002fLORRY SUBARU FORESTERKAZ TOYOTA DUET SUZUKI SWIFT\\u002fZF  FAWKMCW  SKYGO CANTER &  MAN SHACK LORRY T\\u002fMATATU TOYOTA AXIO T\\u002fCOROLLA & M\\u002fA\\u002fPED TOYOTA MATATU TOYOTA PRADO NISSAN MATATU SUZUKI MARUTI\\u002fZC  TRAILER TOYOTA HIACE TOYOTA HARRIER T\\u002fPROBOX T\\u002fPREMIO & M\\u002fCYCLE\",\" ACROS, &  MITSUBISHI FH LORRIES MITSUBISHI FH & \\u002fZC  FAW TRAILER\\u002fZD  M\\u002fBENZ ACTROSS TOYOTA COROLLA AND \\u002fZC  MERCEDES BENZ MITSUBISHI FUSO AND  MITSUBISHI FUSOZC (LPG GAS TANKER)\\u002fZE  MAKE BEIBEN AND  MAKE HINO T\\u002fPASSO @\\u002fZF  M M\\u002fBENZ P\\u002fUP &  T\\u002fSALOON HINO & KDJ-- LAND CRUISERKMEF  SKYGO CHEVROLET & KMDU  BOXERKMDN  SKYGOKMDL  SKYGOKMCN  SKYGO & P\\u002fCYCLIST MITSUBISH FUSO &KMDJ  SKYGOKMCL  SKYGO  TOYOTA AXIOKMDS HONDA TOYOTA FIELDER SCANIA BUS AND  TANTRAILER MITSUBISHI FHKMEA  SKYGO\\u002fZF  M\\u002fBENZ & KMCF  SKYGOM\\u002fC KMDV  SKYGO & M\\u002fV\\u002f MITSUBISHKBX MITSUBISHI MINI BUS & KBE YOCHI MOTORCYCLEKMDQ  SKYGO &  MITSUBISHI FH LORRIES\\u002fZD  M\\u002fBENZ ACTROSSM\\u002fV  T\\u002fWASH & \\u002fZF  AXORM\\u002fV  T\\u002fMATATU SUBARU LEGACY &\\u002fZE  RENAULT TRAILER NISSAN CARAVAN\\u002fZE  VOLKSWAGEN TRAILER M\\u002fLANCER PEDESTRIAN T\\u002fCRUISER HINO MINIBUS & KMCG  SKYGO\",0,\" T\\u002fCOROLLA & KMDJ \",\" NISSAN MATATU\",0,\"KMDY  SKYGO &  MITSUBISHI LORRYKMEB  TVS STAR AND  MITSUBISH LORRYM\\u002fV  ISUZU BUS TOYOTA L\\u002fCRUISER T\\u002fPROBOXT\\u002fHILLUX M\\u002fCYCLE\",\" TOYOTA SIENTA ISUZU LORRY &  TOYOTA WISH M\\u002fBENZ TRAILER &  ISUZU P\\u002fUP\\u002fZB  ACTROS TRAILER TOYOTA HIACE, T\\u002fPROBOX\\u002fZE  &UNKNOWN M\\u002fCYCLEKMDH  CAPTAIN & KMDY  DAYUN & KMDF  MAKE TIGER MITSUBISHI FUSO TOYOTA HIACE, T\\u002fPROBOX TOYOTA PREMIO &  TOYOTA SALOON M\\u002fBENZ TRAILER &  ISUZU P\\u002fUP ISUZU LORRY T\\u002fP\\u002fUPM\\u002fV  T\\u002fMATATU AND P\\u002fCYCLIST PROBOX PREMIO ISUZU LORRY TOYOTA MATATU T\\u002fFIELDERKBN T\\u002fPROBOXKMDZ  CAPTAIN & T\\u002fPROBOX\",\"KMDX  BAJAJKMCN  TVS STAR &  & MITSUBISH TANKERKMDX  TVS, KMDM  TVS &  M\\u002fCANTERKCK TOYOTA PROBOX ISUZU BUS &  FORD TRACTORT ATE MINI CANTERUNKNOWN M\\u002fVEHICLE (HIT & RUN)GK B  ISUZU DMAX & M\\u002fJ\\u002fPED TOYOTA IST & KMBX  HONDA\\u002fH\\u002fMATATU & M\\u002fCYCLE  FOCIN\",\" T\\u002fPREMIO M\\u002fBENZ LORRYKMDR  HA&KWTB \\u002fZD  HOLLAND TRACTORKMDX  BAJAJ\\u002fZD \\u002fB & KMDE  HAOJINKCG ASHOK LEYLAND WATER BOOZER\\u002fZD  MAN TRAILER & KMDU  YAMAHA CANTERKTCB \\u002fZD NEW HOLLAND NISSAN MATATU FIAT LORRY\\u002fZD  NISSAN DIESEL TRAILERKCK SCANIA BUS\\u002fZF  M\\u002fBENZ & \\u002fZD  M\\u002fBENZ\\u002f ZD  AXOR TRAILOR T\\u002fHILUX P\\u002fUPKBK N\\u002fMATATU T-HILUXP T\\u002fSURFKTCB \\u002fZD NEW HOLLANDKBU T\\u002fL\\u002fC\\u002fPRADO $M\\u002fCY KMDM  SIMBA\",\"KMDS \",\" TOYOTA PROBOX & \\u002fZE  ACTROSS TRIALER N\\u002fSUNNY & KMCK  JIALING TOYOTA HILLUX P\\u002fUP & KMDS  SHINERYKMCY  RANGER &  TOYOTA HIACE PROBOX,KMDL  CAPTAIN TOYOTA MATATU AND KMDJ  TIGER AUDI Q & MOTOR CYCLE T\\u002fVANNET & P\\u002fCYCLE TOYOTA VAN TOYOTA HIACEKBX TOYOTA SALOON, KCJ TOYOTA MATATU & KBA TOYOTA PICK UPKMDS  RANGER TOYOTA NZE &  T\\u002fPICK UP TOYOTA MATATUGVN  MERCEDES BENZ SUZUKI MARRUTIUNKNOWN M\\u002fV PEDESTRIAN TOYOTA TOWNACE MAKE TOYOTA NZE F\\u002fTIPPER & PEDESTRIANKAU PRADO &KMDM M\\u002fCYCLE T\\u002fP\\u002fUP & M\\u002fCYCLE KMDG  RANGER\",0,\" FIELDER &  T\\u002fISIS T\\u002fWISH & \\u002fZE  TRAILER M\\u002fBENZ ISUZU LORRY, ISUZU BUS &  TOYOTA MATATU NISSAN BLUE BIRD, TOYOTA MARK II ISUZU BUS MITSUBISHI LORRY NZE & GKB  T\\u002fL\\u002fCRUISER TOYOTA FIELDER TOYOTA HESTIMA TOYOTA NZEKCA T\\u002fSALOON & KBB CANTERKBN ISUZU BUSM\\u002fV  T\\u002fPREMIO TOYOTA FIELDER CANTER AND KMDU  BOXER SCANIA BUS & KMDW  BOXER MITSUBISHI LORRY & KMDZ  MITSUBISHI CANTER & KMDX  HILO LORRY & M\\u002fCYCLEKMCK  BAJAJ PRADO & KMDM  SHYNREY NISSAN MATATU & KMDY  HONDAUAQ  T\\u002fSPACIO & KMDT KMDK  HONDA & UNKNOWN M\\u002fV ISUZU BUS & KMCJ  BAJAJ ISUZU MINI BUS FH, KMGB  SKYGO ISUZU M\\u002fBUS & KMDP  BOXER & KMDY  YAMAHAKMDS  TOYOTA CROWN AND KMDU  DAYUNKBQ ISUZU MINI BUS & UNKNOWN M\\u002fCYCLE MITSUBISH LORRY ISUZU LORRY ISUZU LORRY, ISUZU BUS &  TOYOTA MATATU ISUZU M\\u002fBUS & KMCS  CAPTAIN ISUZU LORRY MITSUBISHI BUS MINI BUS ISUZU M\\u002fBUS ISUZU BUS (EMBASSAVA SACCO) ISUZU MINIBUS LEYLAND LORRY &  MERCEDES BENZUNREGISTERED ASHOK LEYALND ISUZU MINIBUS(EAST SHUTTLE) TOYOTA HIACE M\\u002fBENZ LORRY TOYOTA IPSUM V\\u002fWAGENM ASHOK LEYLAND LORRY TOYOTA PRADO TOYOTA MATATU FOTON LORRYT CRANE T\\u002fRACTIS MITSUBISHI LORRY M\\u002fLORRY ISUZU FVR TOYOTA MATATU ISUZU M\\u002fBUS NISSAN MATATU (OUTREACH SACCO) MITSUBISHI FH MATATU ISUZU MINI BUS TOYOTA SALOON TOYOTA BELTA ISUZU CANTER I\\u002fM\\u002fBUSKCC TOYOTA FIELDERM\\u002fV\\u002f I\\u002fM\\u002fBUS $ PEDSM\\u002fV  PEUGEOT  &F\\u002fA\\u002fPEDM\\u002fV BEDFORD LORRY B\\u002fDOWN & M\\u002fA\\u002fPAX L\\u002fROVER T\\u002fHIACE TOYOTA MATATU ISUZU BUS NISSAN MATATU LEYALND LORRY M\\u002fBENZMITSUBISH CANTER SCANIA BUS MERCEDES BENZ TOYOTA COROLLA ISUZU MINI BUS TATA LORRY HONDA STREAM TOYOTA PREMIO NISSAN MATATU HONDA CRV & M\\u002fA\\u002fPED BUS ISUZU BUS TOYOTA FORYUNER TOYOTA PRADO T\\u002fPROBOX TOYOTA COROLLA NISSAN MATATU ISUZU BUS PEGEOUTUNKNOWN M\\u002fV & PEDS T\\u002fISIS & F\\u002fA\\u002fPED PORSCHE TOYOTA MATATU TOYOTA MATATU ISUZU BUS TOYOTA FIELDER T\\u002fIST & M\\u002fA\\u002fPED TOYOTA CALDINAKBR ISUZU ISUZU LORRY NISSAN MATATUUNKNOWN VEHICLE BUS T\\u002fMATATU NISSAN UD BUS NISSAN MATATU ISUZU LORRY N\\u002fMATATU & J\\u002fPEDESTRIAN ISUZU ISUZU BUS &  ISUZU BUS TOYOTA PREMIO I\\u002fM\\u002fBUS(USAFIRI SACCO)KCC MAZDA TOYOTA MATATU TOYOTA SALOON MITSUBISHI CANTER SUZUKI VITARAM\\u002fV  MITSUBISHI OUTLANDER & M\\u002fC KMDE  TORNADOM\\u002fC KMDQ BOXER & UNKNOWN M\\u002fVEHIVLE ISUZU M\\u002fBUS & KMCZ  BOXERKMEK M\\u002fCYCLE & KAC SALOON & KCJ ISUZU MINIBUSUNREGISTERED M\\u002fCYCLE\",\"\\u002fZD  ACTROS TRAILER & NISSAN XTRAIL\\u002fZD  AXOR TRAILER &  SCANIA BUS TOYOTA COROLLA BEDFORD LORRY&  MITSUBISH CANTER ISUZU BUS,  ISUZU LORRY & KCC TOYOTA MATATU R\\u002fROVER & RAC  SCANIA BUS &\\u002fZF  SCANIA S\\u002fTRAILER \\u002fZD  M\\u002fBENZ ACTROSS  T\\u002fDX\\u002fZD  ACTROS & \\u002fZF \\u002fZE  AXOR TOYOTA ALLION & TRAILERKBT MITSUBISHI FUSO & KBU\\u002fZD MERCEDES BENZ TRAILERKMDQ  DAYAN & KMDE  RALLY T\\u002fLAND CRUISER,UEC  HONDAKMDC  K SONGYI NISSAN DUALIS & KMCC  SKYOKMDE  SHINERAY AND  ACTROSS MAKE ISUZU LORRY & KMDB  MAKE GAIJIN T\\u002fMATATUUAK GUSTO LORRY & P\\u002fCYCLIST HINO BUS & \\u002fZE  BEI BEN TRAILER ISUZU CANTER &  M\\u002fBENZ FH LORRYKAX\\u002fZB MERCEDES ACTROS, KCB HONDA AIRWAVE & UAS\\u002fZD MERCEDES ACTROSKCM TOYOTA MATATU TOYOTA WISH &  ISUZU LORRY MAKE ISZU LORRY MITSUBISHI FH & UAZ \\u002fZE  M\\u002fBENZ TRAILERPEDAL CYCLECG T\\u002fFORTUNER\\u002fZA  ACTROS TRAILER TOYOTA FIELDER TOYOTA MATATU TANKER T\\u002fMATATU\\u002fZC  AXOR TRAILERKBJ TOYOTA HIACE\\u002fZE  ACTROS TRAILER TOYOTA MATATU TOYOTA HIACEKCF ISUZU LORRY  TOYOTA MATATUM\\u002fV SSD  TOYOTA RAV AND M\\u002fA\\u002fPEDM\\u002fV  T\\u002fPREMIO AND M\\u002fA\\u002fPED\\u002fZB SHACKMAN TOYOTA RUSHKAA SUBARU & KCN\\u002fZF T\\u002fMATATU LORRY & J\\u002fPEDESTRIANUNKNOWN MOTOR VEHICLE TOYOTA MATATU T\\u002fMATATU, M\\u002fC KMDU  SKYGO &UNKNOWN TRAILERGKB  FORD RANGERM\\u002fCYC KMDX  HAUJONM\\u002fV  M\\u002fLORRY AND M\\u002fCYC.KMDG  BOXER T\\u002fSALOON & M\\u002fC KMDW  BOXER\",\" ISUZU CANTER & KMDU  TVS STARM\\u002fV  I\\u002fCANTER & P\\u002fCYCLIST TOYOTA FIELDERKBN ISUZU CANTER NISSAN VANETTEM\\u002fCYCLE  TVS & M\\u002fA\\u002fPED T\\u002fMATATUM\\u002fCYCLE KMDQ  TVS & KMDS  TVSM\\u002fCYCLE KMDQ  TVS & KMDS  TVS\",\" NISSAN SERENA & KMDK  BOXER T\\u002fMATATU & KMDN  BOXER N\\u002fMATATU &  TATA LORRY TOYOTA MATATU, ISUZUKTCA  NEW LAND TOYOTA TOWNACE\\u002fZD  SHACKMAN PROBOX HONDA CRV TOYOTA MATATU HACE(NAROK LINE SERVICES LTD) ISUZU &  ASHOK LEYLAND TIPPER TOYOTA PRADO PROBOX & M\\u002fJ\\u002fPED ISUZU LORRY TOYOTA MATATU HACE (NAROK LINE SERVICES LTD)CG T\\u002fL\\u002fCRUISER & M\\u002fC KMCS  SKYGO\",0,\"KMCE  MAKE TVSKMDW  YAMAHA LORRY AND UNKNOWN M\\u002fCYCLE T\\u002fHIACE & KMCM  TOYOTA HIACE & KMDM  TVS STAR MITSUBISHI LORRY T\\u002fPROBOX TOYOTA MATATU & KMDV  TVS STAR MITSUBISHI LORRY & KMDL  TVS STARM\\u002fV\\u002f I\\u002fM\\u002fBUS & M\\u002fA\\u002fPAX ISUZU P\\u002fUPM\\u002fV  PROBOX $ M\\u002fCY KMED  TVS T\\u002fSALOON TOYOTA NADIA PREMIO DAIHATSU\",\" TATA TIPPERKBK MITS LORRYKMCY  &  MITSUBISHI CANTERKMCL \\u002fPROBOX & PEDAL CYCLIST TOYOTA ISIS & KMDT  SHINERY DATSUN P\\u002fUP AND KMDN  RANGER T\\u002fMATATU &  YAMAHA T\\u002fMATATU & KMDX  M\\u002fCYCLEKCC HINO BUSKMCL  MAKEUNKNOWN M\\u002fV (HIT & RUN) TOYOTA MATATU & PED TOYOTA MATATUM\\u002fV  T\\u002fMATATU $M\\u002fCY MDS  BOXER HARRIER & M\\u002fCYCLE KMCS  HAOJUE\",\" ISUZU CANTER,  TOYOTA SALOON,  TOYOTA COROLLA &  T\\u002fLCRUISER TOYOTA COROLLA TOYOTA HILUX P\\u002fUP MITSUBISHI CANTER & KTWB  PIAGGIO TOYOTA COROLLA &  NISSAN MATATUKBN RANGE ROVERSELF INVOLVED,KMEC  CAPTAIN FIELDER & KMCN  TIGERM\\u002fCYCLE KMDZ  SHINERY T\\u002fMATATU & KMDB  CAPTAINKMSB  MAKE TIGERKMCA  KINGBIRD TR\\u002fVITZ & KMDD  M\\u002fCYCLE L\\u002fROVER & KMCL KMDZ  TIGERS & KMCQ  TIGERS PPTR COMPRESSOR\\u002f T\\u002fMATATUUNKNOWN M\\u002fV & KMCZ KMDY  CAPTAIN & UNKNOWNKCB PROBOX & KMCX M\\u002fCYCLE TOYOTA MATATU KA  LORRY TOYOTA HILUX P\\u002fUP T\\u002fAVENSIS TOYOTA MATATU T\\u002fHILUX P\\u002fUP MITSUBISH LORRYKMDY  HEROUNKNOWN CYCLEUNKNOWN MOTOR CYCLE TOYOTA FIELDER T\\u002fMATATU & M\\u002fA\\u002fPED\",\" & KMDU  BAJAJ ISUZU FRR & MOTOR CYCLE ISUZU BUS & KMEC  BOXERKMEF  BOXER & KMDN  BOXERKMEC  BOXERKMCH  BOXER M\\u002fBENZ TOYOTA WISH TOYOTA WISH I\\u002fM\\u002fBUS & \\u002fXF  MAN ISUZU FRR & MOTOR CYCLE TOYOTA FIELDER & KMEG  BOXERM\\u002fV  I\\u002fLORRY &  PROBOX MATATU C\\\\O KITOMA SACCO TANKERM.C KMDZ  BOXER & M\\u002fA\\u002fPEDKCA N\\u002fMATATU & KAV PREMIOGKB  MAKE NISSAN PATROL\",\"\\u002fZC  M\\u002fB\\u002fAXOR &  HARRIER\\u002fZD  MITSUBISH TRAILER & \\u002fZF  DAF TRAILER P\\u002fUPGKA  TOYOTA PRADOKMDT  BOXER & KMDC  HAOJINKMEP  M\\u002fCYCLE &  \\u002fZF  MERCEDES NISSAN MATATU & \\u002fZC  AXOR NISSAN MATATU & \\u002fZC  AXOR TOYOTA PASSO &  TOYOTA HARRIER ISUZU DMAX P\\u002fUP AND \\u002fZF  MAN TRAILER NISSAN UD BUS & KMCR  SKYGO NISSAN UD BUS & KMCR  SKYGO NISSAN UD BUS & KMCR  SKYGOCG FORD RANGER P\\u002fUPKBB N\\u002fMATATU PEDESTRIANKBV\\u002fZE BEIBEN TRAILER\\u002fZC  MAN\",\" TOYOTA MATATU & KMDT  BAJAJ TOYOTA CALDINAUNREGISTERED M\\u002fCYCLE, PEDESTRIAN\",0,\" MITSUBISHI TAN& KMDH  HONDA TOYOTA P\\u002fUP T\\u002fL\\u002fCRUISER & KMDW  TVS STAR LORRY\",\" SUBARU &  BUSKMCH  BOXER &  N\\u002fD LORRYKMDB  BOXERKMDC  BOXER & KMED  BOXER PEUGEOTS  & KMDB  B FOCIN TOYOTA VOXXY M\\u002fBENZ ZC  AND KMDJ \\u002fZD  SCANIAL TRAILER ISUZU P\\u002fUP &  TOYOTA MATATU TOYOTA PRADO, TOYOTA STARLET &  MITSUBISHI COLTGKB  AMBULANCE(NAKURU PRISON), NEW HOLLAND MAN LORRY \\u002fZD  SCANIAL TRAILER ISUZU BUS & F\\u002fJ\\u002fPASSENGER ISUZU BUS I\\u002fLORRY & UNREGISTERED M\\u002fC & PEDESTRIAN N\\u002fDIESEL & KMDZ \",\"KMDD  TVS &  FIELDERKMEK  HONDA & UAT \\u002fZC  MERCEDES TOYOTA MATATU & KMDM  BAJAJKCGW TOYOTA MATATUKCGW TOYOTA MATATU SCANIA BUS & UNKNOWN M\\u002fCYCLEKMDZ  M\\u002fCYCLE & UNKNOWN M\\u002fVKAM TOYOTA MATATU TOYOTA PROBOX\",\" CANTER & M\\u002fCYCLE\",\" TOWNACE & KMEA  LORRY AND KMDZ  BOXER T\\u002fL\\u002fCRUISER\"],\"yaxis\":\"y\",\"type\":\"bar\"}],                        {\"template\":{\"data\":{\"histogram2dcontour\":[{\"type\":\"histogram2dcontour\",\"colorbar\":{\"outlinewidth\":0,\"ticks\":\"\"},\"colorscale\":[[0.0,\"#0d0887\"],[0.1111111111111111,\"#46039f\"],[0.2222222222222222,\"#7201a8\"],[0.3333333333333333,\"#9c179e\"],[0.4444444444444444,\"#bd3786\"],[0.5555555555555556,\"#d8576b\"],[0.6666666666666666,\"#ed7953\"],[0.7777777777777778,\"#fb9f3a\"],[0.8888888888888888,\"#fdca26\"],[1.0,\"#f0f921\"]]}],\"choropleth\":[{\"type\":\"choropleth\",\"colorbar\":{\"outlinewidth\":0,\"ticks\":\"\"}}],\"histogram2d\":[{\"type\":\"histogram2d\",\"colorbar\":{\"outlinewidth\":0,\"ticks\":\"\"},\"colorscale\":[[0.0,\"#0d0887\"],[0.1111111111111111,\"#46039f\"],[0.2222222222222222,\"#7201a8\"],[0.3333333333333333,\"#9c179e\"],[0.4444444444444444,\"#bd3786\"],[0.5555555555555556,\"#d8576b\"],[0.6666666666666666,\"#ed7953\"],[0.7777777777777778,\"#fb9f3a\"],[0.8888888888888888,\"#fdca26\"],[1.0,\"#f0f921\"]]}],\"heatmap\":[{\"type\":\"heatmap\",\"colorbar\":{\"outlinewidth\":0,\"ticks\":\"\"},\"colorscale\":[[0.0,\"#0d0887\"],[0.1111111111111111,\"#46039f\"],[0.2222222222222222,\"#7201a8\"],[0.3333333333333333,\"#9c179e\"],[0.4444444444444444,\"#bd3786\"],[0.5555555555555556,\"#d8576b\"],[0.6666666666666666,\"#ed7953\"],[0.7777777777777778,\"#fb9f3a\"],[0.8888888888888888,\"#fdca26\"],[1.0,\"#f0f921\"]]}],\"heatmapgl\":[{\"type\":\"heatmapgl\",\"colorbar\":{\"outlinewidth\":0,\"ticks\":\"\"},\"colorscale\":[[0.0,\"#0d0887\"],[0.1111111111111111,\"#46039f\"],[0.2222222222222222,\"#7201a8\"],[0.3333333333333333,\"#9c179e\"],[0.4444444444444444,\"#bd3786\"],[0.5555555555555556,\"#d8576b\"],[0.6666666666666666,\"#ed7953\"],[0.7777777777777778,\"#fb9f3a\"],[0.8888888888888888,\"#fdca26\"],[1.0,\"#f0f921\"]]}],\"contourcarpet\":[{\"type\":\"contourcarpet\",\"colorbar\":{\"outlinewidth\":0,\"ticks\":\"\"}}],\"contour\":[{\"type\":\"contour\",\"colorbar\":{\"outlinewidth\":0,\"ticks\":\"\"},\"colorscale\":[[0.0,\"#0d0887\"],[0.1111111111111111,\"#46039f\"],[0.2222222222222222,\"#7201a8\"],[0.3333333333333333,\"#9c179e\"],[0.4444444444444444,\"#bd3786\"],[0.5555555555555556,\"#d8576b\"],[0.6666666666666666,\"#ed7953\"],[0.7777777777777778,\"#fb9f3a\"],[0.8888888888888888,\"#fdca26\"],[1.0,\"#f0f921\"]]}],\"surface\":[{\"type\":\"surface\",\"colorbar\":{\"outlinewidth\":0,\"ticks\":\"\"},\"colorscale\":[[0.0,\"#0d0887\"],[0.1111111111111111,\"#46039f\"],[0.2222222222222222,\"#7201a8\"],[0.3333333333333333,\"#9c179e\"],[0.4444444444444444,\"#bd3786\"],[0.5555555555555556,\"#d8576b\"],[0.6666666666666666,\"#ed7953\"],[0.7777777777777778,\"#fb9f3a\"],[0.8888888888888888,\"#fdca26\"],[1.0,\"#f0f921\"]]}],\"mesh3d\":[{\"type\":\"mesh3d\",\"colorbar\":{\"outlinewidth\":0,\"ticks\":\"\"}}],\"scatter\":[{\"fillpattern\":{\"fillmode\":\"overlay\",\"size\":10,\"solidity\":0.2},\"type\":\"scatter\"}],\"parcoords\":[{\"type\":\"parcoords\",\"line\":{\"colorbar\":{\"outlinewidth\":0,\"ticks\":\"\"}}}],\"scatterpolargl\":[{\"type\":\"scatterpolargl\",\"marker\":{\"colorbar\":{\"outlinewidth\":0,\"ticks\":\"\"}}}],\"bar\":[{\"error_x\":{\"color\":\"#2a3f5f\"},\"error_y\":{\"color\":\"#2a3f5f\"},\"marker\":{\"line\":{\"color\":\"#E5ECF6\",\"width\":0.5},\"pattern\":{\"fillmode\":\"overlay\",\"size\":10,\"solidity\":0.2}},\"type\":\"bar\"}],\"scattergeo\":[{\"type\":\"scattergeo\",\"marker\":{\"colorbar\":{\"outlinewidth\":0,\"ticks\":\"\"}}}],\"scatterpolar\":[{\"type\":\"scatterpolar\",\"marker\":{\"colorbar\":{\"outlinewidth\":0,\"ticks\":\"\"}}}],\"histogram\":[{\"marker\":{\"pattern\":{\"fillmode\":\"overlay\",\"size\":10,\"solidity\":0.2}},\"type\":\"histogram\"}],\"scattergl\":[{\"type\":\"scattergl\",\"marker\":{\"colorbar\":{\"outlinewidth\":0,\"ticks\":\"\"}}}],\"scatter3d\":[{\"type\":\"scatter3d\",\"line\":{\"colorbar\":{\"outlinewidth\":0,\"ticks\":\"\"}},\"marker\":{\"colorbar\":{\"outlinewidth\":0,\"ticks\":\"\"}}}],\"scattermapbox\":[{\"type\":\"scattermapbox\",\"marker\":{\"colorbar\":{\"outlinewidth\":0,\"ticks\":\"\"}}}],\"scatterternary\":[{\"type\":\"scatterternary\",\"marker\":{\"colorbar\":{\"outlinewidth\":0,\"ticks\":\"\"}}}],\"scattercarpet\":[{\"type\":\"scattercarpet\",\"marker\":{\"colorbar\":{\"outlinewidth\":0,\"ticks\":\"\"}}}],\"carpet\":[{\"aaxis\":{\"endlinecolor\":\"#2a3f5f\",\"gridcolor\":\"white\",\"linecolor\":\"white\",\"minorgridcolor\":\"white\",\"startlinecolor\":\"#2a3f5f\"},\"baxis\":{\"endlinecolor\":\"#2a3f5f\",\"gridcolor\":\"white\",\"linecolor\":\"white\",\"minorgridcolor\":\"white\",\"startlinecolor\":\"#2a3f5f\"},\"type\":\"carpet\"}],\"table\":[{\"cells\":{\"fill\":{\"color\":\"#EBF0F8\"},\"line\":{\"color\":\"white\"}},\"header\":{\"fill\":{\"color\":\"#C8D4E3\"},\"line\":{\"color\":\"white\"}},\"type\":\"table\"}],\"barpolar\":[{\"marker\":{\"line\":{\"color\":\"#E5ECF6\",\"width\":0.5},\"pattern\":{\"fillmode\":\"overlay\",\"size\":10,\"solidity\":0.2}},\"type\":\"barpolar\"}],\"pie\":[{\"automargin\":true,\"type\":\"pie\"}]},\"layout\":{\"autotypenumbers\":\"strict\",\"colorway\":[\"#636efa\",\"#EF553B\",\"#00cc96\",\"#ab63fa\",\"#FFA15A\",\"#19d3f3\",\"#FF6692\",\"#B6E880\",\"#FF97FF\",\"#FECB52\"],\"font\":{\"color\":\"#2a3f5f\"},\"hovermode\":\"closest\",\"hoverlabel\":{\"align\":\"left\"},\"paper_bgcolor\":\"white\",\"plot_bgcolor\":\"#E5ECF6\",\"polar\":{\"bgcolor\":\"#E5ECF6\",\"angularaxis\":{\"gridcolor\":\"white\",\"linecolor\":\"white\",\"ticks\":\"\"},\"radialaxis\":{\"gridcolor\":\"white\",\"linecolor\":\"white\",\"ticks\":\"\"}},\"ternary\":{\"bgcolor\":\"#E5ECF6\",\"aaxis\":{\"gridcolor\":\"white\",\"linecolor\":\"white\",\"ticks\":\"\"},\"baxis\":{\"gridcolor\":\"white\",\"linecolor\":\"white\",\"ticks\":\"\"},\"caxis\":{\"gridcolor\":\"white\",\"linecolor\":\"white\",\"ticks\":\"\"}},\"coloraxis\":{\"colorbar\":{\"outlinewidth\":0,\"ticks\":\"\"}},\"colorscale\":{\"sequential\":[[0.0,\"#0d0887\"],[0.1111111111111111,\"#46039f\"],[0.2222222222222222,\"#7201a8\"],[0.3333333333333333,\"#9c179e\"],[0.4444444444444444,\"#bd3786\"],[0.5555555555555556,\"#d8576b\"],[0.6666666666666666,\"#ed7953\"],[0.7777777777777778,\"#fb9f3a\"],[0.8888888888888888,\"#fdca26\"],[1.0,\"#f0f921\"]],\"sequentialminus\":[[0.0,\"#0d0887\"],[0.1111111111111111,\"#46039f\"],[0.2222222222222222,\"#7201a8\"],[0.3333333333333333,\"#9c179e\"],[0.4444444444444444,\"#bd3786\"],[0.5555555555555556,\"#d8576b\"],[0.6666666666666666,\"#ed7953\"],[0.7777777777777778,\"#fb9f3a\"],[0.8888888888888888,\"#fdca26\"],[1.0,\"#f0f921\"]],\"diverging\":[[0,\"#8e0152\"],[0.1,\"#c51b7d\"],[0.2,\"#de77ae\"],[0.3,\"#f1b6da\"],[0.4,\"#fde0ef\"],[0.5,\"#f7f7f7\"],[0.6,\"#e6f5d0\"],[0.7,\"#b8e186\"],[0.8,\"#7fbc41\"],[0.9,\"#4d9221\"],[1,\"#276419\"]]},\"xaxis\":{\"gridcolor\":\"white\",\"linecolor\":\"white\",\"ticks\":\"\",\"title\":{\"standoff\":15},\"zerolinecolor\":\"white\",\"automargin\":true,\"zerolinewidth\":2},\"yaxis\":{\"gridcolor\":\"white\",\"linecolor\":\"white\",\"ticks\":\"\",\"title\":{\"standoff\":15},\"zerolinecolor\":\"white\",\"automargin\":true,\"zerolinewidth\":2},\"scene\":{\"xaxis\":{\"backgroundcolor\":\"#E5ECF6\",\"gridcolor\":\"white\",\"linecolor\":\"white\",\"showbackground\":true,\"ticks\":\"\",\"zerolinecolor\":\"white\",\"gridwidth\":2},\"yaxis\":{\"backgroundcolor\":\"#E5ECF6\",\"gridcolor\":\"white\",\"linecolor\":\"white\",\"showbackground\":true,\"ticks\":\"\",\"zerolinecolor\":\"white\",\"gridwidth\":2},\"zaxis\":{\"backgroundcolor\":\"#E5ECF6\",\"gridcolor\":\"white\",\"linecolor\":\"white\",\"showbackground\":true,\"ticks\":\"\",\"zerolinecolor\":\"white\",\"gridwidth\":2}},\"shapedefaults\":{\"line\":{\"color\":\"#2a3f5f\"}},\"annotationdefaults\":{\"arrowcolor\":\"#2a3f5f\",\"arrowhead\":0,\"arrowwidth\":1},\"geo\":{\"bgcolor\":\"white\",\"landcolor\":\"#E5ECF6\",\"subunitcolor\":\"white\",\"showland\":true,\"showlakes\":true,\"lakecolor\":\"white\"},\"title\":{\"x\":0.05},\"mapbox\":{\"style\":\"light\"}}},\"xaxis\":{\"anchor\":\"y\",\"domain\":[0.0,1.0],\"title\":{\"text\":\"County\"}},\"yaxis\":{\"anchor\":\"x\",\"domain\":[0.0,1.0],\"title\":{\"text\":\"Mv Involved\"}},\"legend\":{\"tracegroupgap\":0},\"title\":{\"text\":\"Motor Vehicle Involvement by County\"},\"barmode\":\"relative\"},                        {\"responsive\": true}                    ).then(function(){\n",
              "                            \n",
              "var gd = document.getElementById('7c6df842-9299-4d61-83c6-4091c907144f');\n",
              "var x = new MutationObserver(function (mutations, observer) {{\n",
              "        var display = window.getComputedStyle(gd).display;\n",
              "        if (!display || display === 'none') {{\n",
              "            console.log([gd, 'removed!']);\n",
              "            Plotly.purge(gd);\n",
              "            observer.disconnect();\n",
              "        }}\n",
              "}});\n",
              "\n",
              "// Listen for the removal of the full notebook cells\n",
              "var notebookContainer = gd.closest('#notebook-container');\n",
              "if (notebookContainer) {{\n",
              "    x.observe(notebookContainer, {childList: true});\n",
              "}}\n",
              "\n",
              "// Listen for the clearing of the current output cell\n",
              "var outputEl = gd.closest('.output');\n",
              "if (outputEl) {{\n",
              "    x.observe(outputEl, {childList: true});\n",
              "}}\n",
              "\n",
              "                        })                };                            </script>        </div>\n",
              "</body>\n",
              "</html>"
            ]
          },
          "metadata": {}
        }
      ]
    },
    {
      "cell_type": "markdown",
      "source": [
        "### Comparing Incidents Across Places:\n",
        "Bar Chart for Number of Victims by Place:"
      ],
      "metadata": {
        "id": "_TDFXfQRsbFZ"
      }
    },
    {
      "cell_type": "code",
      "source": [
        "# Group data by 'Place' and calculate the total number of victims\n",
        "place_victims = df.groupby('Place')['Total Victims'].sum().reset_index()\n",
        "\n",
        "# Create a bar chart to compare the number of victims across places\n",
        "fig = px.bar(place_victims, x='Place', y='Total Victims', title='Total Victims by Place',  template='plotly_dark',)\n",
        "fig.show()\n"
      ],
      "metadata": {
        "colab": {
          "base_uri": "https://localhost:8080/",
          "height": 542
        },
        "id": "oTU1UMInsbOp",
        "outputId": "cc15296a-9e96-43dd-cdfd-c1978914f8c3"
      },
      "execution_count": 35,
      "outputs": [
        {
          "output_type": "display_data",
          "data": {
            "text/html": [
              "<html>\n",
              "<head><meta charset=\"utf-8\" /></head>\n",
              "<body>\n",
              "    <div>            <script src=\"https://cdnjs.cloudflare.com/ajax/libs/mathjax/2.7.5/MathJax.js?config=TeX-AMS-MML_SVG\"></script><script type=\"text/javascript\">if (window.MathJax && window.MathJax.Hub && window.MathJax.Hub.Config) {window.MathJax.Hub.Config({SVG: {font: \"STIX-Web\"}});}</script>                <script type=\"text/javascript\">window.PlotlyConfig = {MathJaxConfig: 'local'};</script>\n",
              "        <script charset=\"utf-8\" src=\"https://cdn.plot.ly/plotly-2.24.1.min.js\"></script>                <div id=\"0f0d6d29-d222-4fa0-80fc-e3144b46b3c4\" class=\"plotly-graph-div\" style=\"height:525px; width:100%;\"></div>            <script type=\"text/javascript\">                                    window.PLOTLYENV=window.PLOTLYENV || {};                                    if (document.getElementById(\"0f0d6d29-d222-4fa0-80fc-e3144b46b3c4\")) {                    Plotly.newPlot(                        \"0f0d6d29-d222-4fa0-80fc-e3144b46b3c4\",                        [{\"alignmentgroup\":\"True\",\"hovertemplate\":\"Place=%{x}\\u003cbr\\u003eTotal Victims=%{y}\\u003cextra\\u003e\\u003c\\u002fextra\\u003e\",\"legendgroup\":\"\",\"marker\":{\"color\":\"#636efa\",\"pattern\":{\"shape\":\"\"}},\"name\":\"\",\"offsetgroup\":\"\",\"orientation\":\"v\",\"showlegend\":false,\"textposition\":\"auto\",\"x\":[\"98 AREA\",\"ABC AREA\",\"ACACIA BRIDGE\",\"ACRE TANO\",\"ADAMS ARCADE\",\"ADIEDO\",\"AFTAH AREA\",\"AGIGO AREA\",\"AINAMOI\",\"AIRPORT AREA\",\"AIRPORT FLY OVER\",\"AIRPORT GATE\",\"AIRPORT TURN OFF\",\"AISUKU AREA\",\"AKUBWOIT\",\"ALONGSIDE\",\"ALONGSIDE THE SAID RD\",\"ANCHEGE AREA\",\"ANDITI\",\"APOLO\",\"AT A CORNER\",\"AT AIRSTRIP AREA\",\"AT ANNEX\",\"AT CHEPSIR AREA\",\"AT CO OPERATION\",\"AT GATUKUYU TRADING CENTRE\",\"AT GOT KACHIENG AREA\",\"AT HARVEST ACADEMY AREA\",\"AT JAGGERY AREA\",\"AT JUBERT AREA\",\"AT JUNCTION OF THIRD STREET EISTLEIGH\",\"AT KAANI AREA\",\"AT KAGUMO HIGH SCHOOL\",\"AT KAMATIRA HILLS\",\"AT KAMOIYWO ARE\",\"AT KAMOKO AREA\",\"AT KANGUBIINI AREA\",\"AT KASAGAM AREA\",\"AT KEMBU BRIDGE\",\"AT KENANI AREA\",\"AT KILIMAMBOGO AREA\",\"AT KLWANDETI BRIDGE\",\"AT LAIKIPIA CAMPUS\",\"AT LEATHER\",\"AT LUNYERERE RIVER\",\"AT MAARA RIVER AREA\",\"AT MAGOGONI AREA\",\"AT MAKINDU TOWN NEAR BRIDGE\",\"AT MOSOCHO AREA\",\"AT MUFU AREA\",\"AT MUROHORO AREA\",\"AT NANGILI CORNER AREA\",\"AT NDENDERU AREA\",\"AT NYANGATI AREA\",\"AT ODONGO JUNCTION\",\"AT OKUMU AREA\",\"AT RANGENYO AREA\",\"AT REONZUNE AREA\",\"AT RUKANGA KWA RITHO AREA\",\"AT SABAKI AREA\",\"AT SOFIA AREA\",\"AT TEBERE\",\"ATELA\",\"ATHI RIVER BRIDGE\",\"AVENUE HOSPITAL\",\"AWELO\",\"AWELO TRADING CENTRE\",\"BAHATI AREA\",\"BAHATI JUNCTION\",\"BAKRI\",\"BANDA AREA\",\"BANGLA AREA\",\"BANGLADESH\",\"BANGLADESH AREA\",\"BANTU\",\"BARANABAS CENTRE NEAR HARSH PETROL STATION\",\"BARINGO NORTH\",\"BAYETE AREA\",\"BELLE VIEW AREA\",\"BEN ROSE AREA\",\"BENDERA\",\"BIAFRA\",\"BIASHARA STREET\",\"BIBLE SOCIETY\",\"BITUYU AREA\",\"BLUE POST\",\"BLUE POST AREA\",\"BOMET\",\"BONDENI AREA\",\"BONDO SUB COUNTY COMMISIONERS MAIN GATE\",\"BONGE AREA\",\"BOYA AREA\",\"BRIDGE 39 AREA\",\"BRIDGE AREA\",\"BUBBLES T- JUNCTION\",\"BUGENDI\",\"BUKEMBE AREA\",\"BULARIGI AREA\",\"BUNYALA ROUND ABOUT\",\"BURMA\",\"BUS STAGE\",\"BUSHANGALA AREA\",\"BUSIA ROAD BLOCK\",\"BUSIA TOWNSHIP\",\"BUXTON TRAFFIC LIGHTS\",\"CABANAS\",\"CAR AND GENERAL\",\"CAR WASH AREA\",\"CHAGAIK\",\"CHAGAIK AREA\",\"CHAKA SHOPPING CENTER\",\"CHANGAMWE STAGE\",\"CHAPCHAP AREA\",\"CHEBAON TRADING CENTER\",\"CHEBEWOR AREA\",\"CHEBEWORKWA NAHASHON AREA\",\"CHEBII\",\"CHEBOWOR AREA\",\"CHECHNYA BRIDGE\",\"CHECKPOINT\",\"CHEMOI\",\"CHEMOSIT\",\"CHEPILAT HIGHWAY ACADEMY\",\"CHEPKOLON AREA\",\"CHEPSEON AREA\",\"CHEPSIR\",\"CHEPSIR AREA\",\"CHEPTERIT\",\"CHIMO AREA\",\"CHINESE CONSTRUCTION SITE\",\"CHIRCHIR AREA\",\"CHOMO AREA\",\"CHULAIMBO AREA\",\"CHULAIMBO AREA OPP. SLAUGHTER HSE\",\"CHUMANI\",\"CHUMVI AREA\",\"CHUNA RD JUNCTION\",\"CHURCH ARMY STAGE\",\"CHWELE\",\"CKAHARELI\",\"CLAYWORKS AREA\",\"COAST PLACE AREA\",\"COCA COLA BOTTLERS\",\"CONTAINER GATE\",\"COPTIC CHURCH AREA\",\"CORNER BEACH JUNTION\",\"CORNER SOWETO AREA\",\"DAGORETTI MARKET\",\"DAM AREA\",\"DARAJA MBILI AREA\",\"DARAJA SITA\",\"DARAJA SITA AREA\",\"DAWAMU\",\"DAYSTAR AREA\",\"DELLO HILL AREA\",\"DELMONTE FACTORY JUNCTION\",\"DENMARK\",\"DESTINATION\",\"DHOGOYE AREA\",\"DINDURA\",\"DOLEGESHI\",\"DONHOLM\",\"DONHOLM SHELL PETROL STATION\",\"DREAMLAND AREA\",\"DRIVE INN AREA\",\"DUAN\",\"DUKA MOJA\",\"DUKA MOJA AREA\",\"DUMPING SITE\",\"EAST VIEW AREA\",\"EBBWARIRO\",\"EBOKOLO\",\"ECHO ROUNDABOUT\",\"EGESA AREA\",\"EKALAKALA\",\"ELDERE\",\"ELSHADAI ROAD\",\"ELUCHE\",\"EMALI TOWN\",\"EMBAKASI ROAD\",\"EMMATEX BAR\",\"EMULU AREA\",\"ENA BRIDGE\",\"EQUATOR\",\"ESALUWA\",\"EVEREADY\",\"EVERYEADY\",\"EZAMOYO AREA\",\"FATIMA\",\"FAW\",\"FEDHA ESTATE\",\"FERRY TERMINUS\",\"FIELD\",\"FIRST AVENUE\",\"FLAMINGO COURT\",\"FLY-OVER NJABINI\",\"FLYOVER\",\"FREE AREA\",\"FRONTIER JUNCTION\",\"FUVARE AREA\",\"GACHARU\",\"GAITEGI AREA\",\"GAITU\",\"GAKIRA AREA\",\"GAKWEGORI AREA\",\"GALE MARA\",\"GANGONI\",\"GASSI\",\"GATAKA\",\"GATARAKWA\",\"GATARAMA ARE\",\"GATE TO 75 TANK BATTALION CAMP\",\"GATEWAY MALL\",\"GATHAMBA\",\"GATHUGU AREA\",\"GATUANYAGA\",\"GATUANYAGA AREA\",\"GATUNDURI\",\"GATURI\",\"GATWE JUNCTION\",\"GEM NAM\",\"GENERAL MATHENGE JUNCTION\",\"GENERAL MORTORS\",\"GESUSU AREA\",\"GIANGIRI AREA\",\"GICHICHE MARKET\",\"GICHIEGO\",\"GICHIEGO JUNCTION\",\"GIKAMBURA SHOPPING CENTRE\",\"GITARU AREA\",\"GITARU SLIP\",\"GITHIURU AREA\",\"GITHOGORA AREA\",\"GITHOGORO AREA\",\"GITHURAI\",\"GITOMBU AREA\",\"GITURI AREA\",\"GIYAKARENGO\",\"GK PRINTERS\",\"GLOBE ROUND ABOUT\",\"GORA AREA\",\"GOROFANI AREA\",\"GOSHEN FLY OVER\",\"GOT MATAR\",\"GOVERNER AREA\",\"GREEN PARK\",\"GREEN VINEYARD\",\"GREENPARK AREA\",\"GREENSTEAD SCHOOL\",\"GSU CAMP KIMBO\",\"GUCHA\",\"GUCHA BRIDGE\",\"GUEST INN BAR\",\"GULF PETROL\",\"GURA BRIDGE\",\"GWA KAHIHI\",\"GWA KUNGU AREA\",\"HEILLU AREA\",\"HIGH POINT AREA\",\"HIGH POINT P\\u002fCROSSING\",\"HIGHLANDS AREA\",\"HILL TOP AREA\",\"HINDU AREA\",\"HOLY GHOST HIGH SCHOOL\",\"HOMELAND ZEBRA CROSSING\",\"HONGERA\",\"HOTELI AREA\",\"HULAHULA AREA\",\"IBARA\",\"ICHUNI AREA\",\"IKANGA\",\"IKAPOLOK\",\"IKINU AREA\",\"IKUMBA\",\"ILL OUT AREA\",\"IMARA DAIMA\",\"IMARA DAIMA AREA\",\"IMPORO AREA\",\"INTERCHANGE\",\"INTERCONTINENTAL ZEBRA CROSSING\",\"IROBO AREA\",\"ISANDA AREA\",\"ISIOLO TOWNSHIP\",\"JAKARANDA\",\"JAMUHURI PRIMARY SCHOOL\",\"JEPTULU TRADING CENTRE\",\"JMB HOTEL\",\"JOGOO KIMAKIA\",\"JOGOO TRADING CENTRE\",\"JOMOKO AREA\",\"JOMVU AREA\",\"JOYLAND AREA\",\"JUBERT AREA\",\"JUJA FLY OVER\",\"JUNCTION NEAR UHURU EASTATE\",\"K.I.E\",\"KABARTONJO AREA\",\"KABATI FLYOVER\",\"KABATI TOWNSHIP\",\"KABONGO\",\"KABUKU\",\"KABULA AREA\",\"KACHOK AREA\",\"KADERO AREA\",\"KADZODZO AREA\",\"KAGONDE AREA\",\"KAGUMO RIVER BRIDGE\",\"KAGUNDUNI AREA\",\"KAHAMA\",\"KAHARATI JUNCTION\",\"KAHAWA WEST\",\"KAHIGA\",\"KAHURUKO\",\"KAHURUKO AREA\",\"KAHUTI JUNCTION\",\"KAINGWACHI AREA\",\"KALAAH KWARE BRIDGE\",\"KALANDINI\",\"KALIMBINI\",\"KAMAE AREA\",\"KAMAGUTA\",\"KAMAINDA\",\"KAMAKIS\",\"KAMAKWA CENTER\",\"KAMANDURA AREA\",\"KAMBI NJIRINYA\",\"KAMBIRI AREA\",\"KAMBIRWA PRIMARY SCHOOL\",\"KAMBU\",\"KAMBU AREA\",\"KAMONDO BRIDGE\",\"KAMTUA\",\"KAMUEREITO AREA\",\"KAMUKUYWA RIVER SIDE\",\"KAMUKUYWA RIVERSIDE AREA\",\"KAMULU\",\"KAMULU AREA\",\"KAMUNJIL AREA\",\"KAMUNYAKA\",\"KANDARA\",\"KANDARA FLYOVER\",\"KANDIZI AREA\",\"KANGA\",\"KANGEMI AREA\",\"KANGEMI FLYOVER\",\"KANGEMI MARKET\",\"KANGEMI STAGE\",\"KANINI KEGA AREA\",\"KANJAMA AREA\",\"KANYABITHA AREA\",\"KANYAMA AREA\",\"KANYARIRI AREA\",\"KANYAWANGA JUNCTION\",\"KANYONYO AREA\",\"KANYUAMBORA\",\"KAPJAMES AREA\",\"KAPKAWA\",\"KAPKOROS\",\"KAPKURES AREA\",\"KAPLETUNDO\",\"KAPLONG AREA\",\"KAPSABET SHOPPING CENTRE\",\"KAPSENGERE\",\"KAPSISIYWO\",\"KAPTANA\",\"KARAND SHOPPING CENTRE\",\"KARARARI AREA\",\"KARATINA\",\"KARATINA AREA\",\"KARELENI AREA\",\"KAREMENU CENTER\",\"KARIA\",\"KARIGIA\",\"KARIKO GAKURU\",\"KARIMA AREA\",\"KARIOKOR ROUND ABOUT\",\"KAROGA AREA\",\"KARURUMO\",\"KASAGAM\",\"KASAGAM FLY OVER\",\"KATHAGWA\",\"KATHAMBA\",\"KATHARAKA AREA\",\"KATHEKAI\",\"KATHIVO\",\"KATOLANI\",\"KAUDHA AREA\",\"KAUMONI AREA\",\"KAURAI JUNCTION\",\"KAVENGE AREA\",\"KAVETA AREA\",\"KAVINDANI\",\"KAVIUNI\",\"KAWANGWARE\",\"KAWERU AREA\",\"KAYOLE JUNCTION\",\"KCC\",\"KEDOWA\",\"KEDOWA AREA\",\"KEGOGI AREA\",\"KEHANCHA TOWN\",\"KEMFRI AREA\",\"KEMIGET AREA\",\"KENANA MARKET\",\"KENANI AREA\",\"KENCHIC NEAR KENOL PETROL STATION\",\"KENCHICK AREA\",\"KENDU BAY\\u002fOYUGIS JUNCTION\",\"KENGEN\",\"KENGEN POER STATION AREA GATE NEAR SAGANA RIVER BRIDGE\",\"KENOL\",\"KENYA NJERU\",\"KEPHIS\",\"KERIO KABARNET\",\"KERISON AREA\",\"KEROKA TOWNSHIP\",\"KERONGA AREA\",\"KERUBE\",\"KIAMBAA AREA\",\"KIAMUMBI KAMITI CORNER\",\"KIAMWATHI AREA\",\"KIANJAGI\",\"KIANJAI\",\"KIANJOGU\",\"KIANJOGU AREA\",\"KIANJOGU BRIDGE NEAR MACHINERY AREA\",\"KIANJOGU DAM\",\"KIARAGANA\",\"KIBARANI AREA\",\"KIBERA\",\"KIBIRIGO VIONGOZI STAGE\",\"KIBIRU TRADING CENTER\",\"KIBOKO AREA\",\"KIBURANGA AREA\",\"KIDI AREA\",\"KIGOGI\",\"KIGUOYA AREA\",\"KIGWARU AREA\",\"KIHUNGURO BUMPS AREA\",\"KIHUNGURO OVERPASS\",\"KIHUNGURO SHELL PETROL STATION\",\"KIJAURI TRADING CENTRE\",\"KIKOPEY AREA\",\"KILIMAMBOGO AREA\",\"KILINGILI\",\"KIMALAT AREA\",\"KIMAROK\",\"KIMBIMBI\",\"KIMENDE\",\"KIMENDE AREA\",\"KIMENDE PETROL STATION\",\"KIMENDE STAGE\",\"KIMININI\",\"KIMURGOI AREA\",\"KINALE AREA\",\"KINAMBA AREA\",\"KINANA FARM\",\"KINANGO JUNCTION TO MARIAKANI SGR DRILLING TRUCK\",\"KING BRIDGE\",\"KINGEERO AREA\",\"KINOO\",\"KINSINGO AREA\",\"KIOGORO AREA\",\"KIONGWANI\",\"KIPKAREN SALIA JUNCTION\",\"KIPSITET AREA\",\"KIRAENE AREA\",\"KIRENGERO BRIDGE\",\"KIRIA AREA\",\"KIRIGI AREA\",\"KIRINYAGA\",\"KIRINYAGA TRADING CENTRE\",\"KIRITIRI\",\"KIRITIRI MARKET\",\"KIRITIRI TRADING CEN TRE\",\"KISAURI AREA\",\"KISENE BRIDGE\",\"KISIANI\",\"KISII TOWNSHIP\",\"KISIMA AREA\",\"KISINGIONI AREA\",\"KISUMU AIRPORT ROUNDABOUT\",\"KISUMU MAIN STAGE\",\"KISYANI\",\"KITEJE\",\"KITENGELA INTERCHANGE\",\"KITENGELA TOWN\",\"KITISE SLAUGHTER\",\"KITUI SCHOOL\",\"KIU RIVER\",\"KIUNDWANI\",\"KIVANDINI\",\"KIVUE\",\"KIWANJA SWARA\",\"KIWERERA AREA\",\"KIYAA\",\"KIZURINI AREA\",\"KK TRADING CENTER\",\"KOBALA AREA\",\"KOBIL\",\"KOBIL P\\u002fSTATION\",\"KOBURA\",\"KODUOGO\",\"KOGUOM\",\"KOIGO AREA\",\"KOLEN\",\"KOMAROCK PETROL STATION\",\"KOMBANI AREA\",\"KONA CHUMA AREA\",\"KONA MBAYA AREA\",\"KONZA AREA\",\"KONZA CENTRE\",\"KOSIRAI\",\"KOSOVO AREA\",\"KU DRIFT\",\"KUKUB AREA\",\"KURUKUCHA AREA\",\"KUSA\",\"KUTETE\",\"KUVASALI AREA\",\"KWA CHENZA AREA\",\"KWA HILDA AREA\",\"KWA KAIRO\",\"KWA KINYUTI AREA\",\"KWA MAKAA\",\"KWA MAKAA AREA\",\"KWA MWAMBI\",\"KWA NJIRU STAGE\",\"KWA POWER\",\"KWA V AREA\",\"KWA WATER AREA\",\"KWACHOKWE\",\"KWAKAKULU\",\"KWALE STAGE\",\"KWAMAIKO TRADING CENTER\",\"KWAMATHERA AREA\",\"KWANYINGI PRI. SCHOOL\",\"KWARE AREA\",\"KYUA\",\"KYULU\",\"KYULU AREA\",\"KYUMBI JUNCTION\",\"LAANI AREA\",\"LAIRI RIVER\",\"LARI KIAMBU\",\"LELA AREA\",\"LESSOS AREA\",\"LETAIN\",\"LIANJOGU\",\"LIKUYANI TRADING CENTRE\",\"LIMURU FOREST INTERCHANGE\",\"LIMURU HOTEL\",\"LOITOKTOK JUNCTION\",\"LONGISA SECONDARY SCHOOL\",\"LORUK\",\"LUANDETI AREA\",\"LUBAO AREA\",\"LUKA AREA\",\"LUKENYA\",\"LUNGALUNGA AREA\",\"LUNGALUNGA SHOPPING CENTRE\",\"LUNYERE BRDGE\",\"LUSAKA R\\u002fABOUT\",\"LUSHEA SHOPPING CENTER\",\"LWALA\",\"MAANZONI AREA\",\"MAASAI LODGE\",\"MAASAI LODGE STAGE\",\"MABANGA\",\"MABANGA AREA\",\"MABATI SITA\",\"MACKINON\",\"MACKNON AREA\",\"MADEA AREA\",\"MADOGO\",\"MADOGO AREA\",\"MAEME MBILI AREA NEAR SANGORO JUNCTION\",\"MAFUKO AREA\",\"MAFUTA TAA AREA\",\"MAGENA TOWN\",\"MAGENDO\",\"MAGHARIBI FILLING STATION\",\"MAGINA AREA\",\"MAGOGONI AREA\",\"MAGOMBENI\",\"MAGONGO\",\"MAGUNGUNI AREA\",\"MAI MAHIU TOWNSHIP\",\"MAILI\",\"MAILI SABA AREA\",\"MAILI SABA TRADING CENTRE\",\"MAIRO INYA AREA\",\"MAJIMBO AREA\",\"MAKALE\",\"MAKAWANI AREA\",\"MAKENJI AREA\",\"MAKENZIE AREA\",\"MAKINDU AREA\",\"MAKINDU AREA SECTION 4 SGR CAMP\",\"MAKINDU TOWN BRIDGE\",\"MAKINDU TOWNSHIP\",\"MAKUNGA AREA\",\"MAKUTANO\",\"MAKUYU BOYS SEC\",\"MAKUYU TEACHERS' COLLEGE\",\"MALAHA\",\"MALEWA BRIDGE\",\"MALI AREA\",\"MALIKI\",\"MALIKI AREA\",\"MALINDI TOWNSHIP\",\"MALINYA\",\"MALTAURO\",\"MALTURS AREA\",\"MAN EATERS\",\"MANDERA HOUSE\",\"MANG'U STAGE\",\"MANGANI VILLAGE\",\"MANYANI\",\"MANYANI AREA\",\"MANYATTA AREA\",\"MANYATTA MARKET\",\"MAONDO AREA\",\"MAP AREA\",\"MAPANGA AREA\",\"MAPUTI\",\"MARA RIVER BRIGDGE\",\"MARIAKANI TOWNSHIP\",\"MARIAKANI WEIGHBRIDGE\",\"MARIANGU SHOPPING CENTRE\",\"MARIARA\",\"MARIBA\",\"MARINA AREA\",\"MARULA AREA\",\"MASHAKO AREA\",\"MASHAURI AREA\",\"MASIENYI\",\"MASIMBA\",\"MASIMBA AREA\",\"MASIMBA JUNCTION\",\"MATAYOS AREA\",\"MATETE AREA\",\"MATILI\",\"MATINYANI\",\"MATISI\",\"MATOYI STREAM\",\"MATSAKHA AREA\",\"MATUNDA GATE\",\"MATUNDURA BRIDGE\",\"MATURU\",\"MAUNGU\",\"MAUNGU TRADING CENTER\",\"MAWE TATU AREA\",\"MAZERAS\",\"MAZIWA\",\"MBIRIRI SHOPPING CENTER\",\"MBOGOLO AREA\",\"MBOGOLO BRIDGE\",\"MBUI NZAU MARKET\",\"MBUI NZAU TOWNSHIP\",\"MBUTHIA AREA\",\"MEMBLEY\",\"MEMBLEY ESTATE ENTRANCE\",\"MEMBLY AREA\",\"MHANA I TRADING CENTER\",\"MIAMI AREA\",\"MIDA SCHOOL\",\"MIGAA AREA\",\"MIGAI AREA\",\"MIGINGO\",\"MIGINGO AREA\",\"MISIKHU\",\"MITHURI AREA\",\"MITURI AREA\",\"MIWANI\",\"MKIKUYU AREA\",\"MKOROSHONI\",\"MLAGANI AREA\",\"MLIMA CHAIR LADY AREA\",\"MLIMA KIU AREA\",\"MLIMA MAZIWA\",\"MLOLONGO\",\"MLOLONGO AREA\",\"MLOLONGO WEIGHBRIDGE\",\"MOGOI AREA\",\"MOI DRIVE OFF KANGUNDO ROAD\",\"MOI SOUTH LAKE JUNCTION\",\"MOLASSES PLANT AREA\",\"MOLEM\",\"MOLO RIVER\",\"MOLO TOWNSHIP\",\"MOMBASA CEMENT\",\"MOROARIA\",\"MOTHER FRANSISCA AREA\",\"MOUNTAIN VIEW\",\"MOYALE LAMU JUNCTION\",\"MSABAHA AREA\",\"MSALABA\",\"MSAPONI COURT EATATE GATE\",\"MSHIU\",\"MSHOMORONI AREA\",\"MTI MOJA\",\"MTITO TOWNSHIP\",\"MTO MAWE AREA\",\"MTWAPA BRIDGE\",\"MUGETHO AREA\",\"MUHONJE TRADING CENTRE\",\"MUKALALA AREA\",\"MUKEU\",\"MUKINYAI AREA\",\"MUKUMU AREA\",\"MULEMBE\",\"MULOT\",\"MUMATI AREA\",\"MUMBINI AREA\",\"MUMIAS LUKOYE JUNCTION\",\"MUNATHIRI AREA\",\"MUNGANIA\",\"MUNYAKA AREA\",\"MUNYU\",\"MUONI RIVER\",\"MURANGA KANGEMA\",\"MURARU\",\"MURKA AREA\",\"MURRAM AREA\",\"MUSALABA YELLOW AREA\",\"MUSASA AREA\",\"MUSINGINI AREA\",\"MUSKOMA AREA\",\"MUTHAIGA\",\"MUTHAIGA FOOT BRIDGE\",\"MUTHAIGA FOOTBRIDGE\",\"MUTHAIGA UNDER PASS\",\"MUTHAMA JUNCTION\",\"MUTHURWA\",\"MUTISI JUCNTION\",\"MUTOMO\",\"MUTUINE\",\"MUTUVALI JUNCTION\",\"MUUNGU\",\"MWABANGA AREA\",\"MWABUNGO AREA\",\"MWAKOMBE AREA\",\"MWAMBA NYUNDO AREA\",\"MWAMUTO\",\"MWANANDEGA AREA\",\"MWEIGA AREA\",\"MWENDANDU TRADIND CENTRE\",\"MWERI AREA\",\"MWISHO WA LAMI\",\"MWISHO WA SHAMBA AREA\",\"MWITOTI AREA\",\"MZALENDO\",\"MZEE WANYAM AREA\",\"N MARKET\",\"NAIROBI RIVER BRIDGE\",\"NAIROBI SCHOOL\",\"NAIROBI WATER\",\"NAIVAS\",\"NAIVAS SPERMARKET\",\"NAKA\",\"NAKURU TEACHERS COLLEGE\",\"NAMANJALA\",\"NANGENI AREA\",\"NANGILI AREA\",\"NANIGI\",\"NANYUKI TOWNSHIP\",\"NAROK TOEN\",\"NAROK TOWN\",\"NATION CENTRE\",\"NATIONAL OIL PETROL STATION\",\"NATO AREA\",\"NAVAKHOLO MARKET\",\"NDAKANI\",\"NDALANI BRIDGE\",\"NDARA AREA\",\"NDARUGU RIVER\",\"NDOGOTE\",\"NDUMBI SHOPPING CENTRE\",\"NDUNDA AREA\",\"NDUNYO\",\"NDUNYU\",\"NEAR AIRPORT JUNCTION\",\"NEAR AMBUKA JUNCTION\",\"NEAR AP SENIOR TRAINING COLLEGE\",\"NEAR ASSEMBLEYS OF GOD CHURCH\",\"NEAR ATHIMBA AREA\",\"NEAR ATIGO MARKET\",\"NEAR AWASI\",\"NEAR B.A.T GATE\",\"NEAR BAMA STAGE\",\"NEAR BANGALE\",\"NEAR BARCLAYS BANK\",\"NEAR BARRACKS JUNCTION\",\"NEAR BISIL TOWN\",\"NEAR BOMET TOWN\",\"NEAR BOMU AREA\",\"NEAR BOX INN AREA\",\"NEAR BROOKSIDE AREA\",\"NEAR BUBISA\",\"NEAR BUNYALA R\\u002fABOUT\",\"NEAR CALTEX\",\"NEAR CAPITAL CENTRE\",\"NEAR CARNIVORE\",\"NEAR CENTURION HOTEL\",\"NEAR CHANGAMWE STAGE\",\"NEAR CHAPCHAP AREA\",\"NEAR CHIEFS OFFICE\",\"NEAR CHINA KENYA\",\"NEAR CHINA TILES FACTORY\",\"NEAR CHOO NUMBER 8\",\"NEAR CID HQS\",\"NEAR DC STAGE\",\"NEAR DISCOUNT PETROL STATION\",\"NEAR DT DOBIE STAGE\",\"NEAR EASTLEIGH POLICE PATROL BASE\",\"NEAR ELEPHANT CORRIDOR\",\"NEAR EMPOPONGI PRIMARY SCHOOL\",\"NEAR FARM AREA\",\"NEAR GACHOK R\\u002fABOUT\",\"NEAR GATEWAY MALL\",\"NEAR GENERAL MOTORS\",\"NEAR GIDDO PLAZA\",\"NEAR GLORIOUS WINNERS ACADEMY\",\"NEAR GREEN PARK AREA\",\"NEAR GREEN STED AREA\",\"NEAR GSU GATE\",\"NEAR GSU TRAINING SCHOOL\",\"NEAR GULF ACADEMY\",\"NEAR GULF PETROL STATION\",\"NEAR HESHIMA JUNCTION\",\"NEAR HIGHWAY PETROL STATION\",\"NEAR HONI RIVER\",\"NEAR HUB SHOPPING MALL\",\"NEAR HURUMA KPLC\",\"NEAR IMARA DAIMA\",\"NEAR IRINDI PRIMARY SCHOOL\",\"NEAR JESUS IS ALIVE MINISTRIES\",\"NEAR JKIA\",\"NEAR JUBILEE HOUSE\",\"NEAR JUJA POLICE STATION\",\"NEAR K1 CLUB\",\"NEAR KABETE ARMY BARRACKS\",\"NEAR KABIANGA UNIVERSITY\",\"NEAR KAITI BRIDGE\",\"NEAR KALIMONI JUNIOR SCHOOL\",\"NEAR KAMINDI SUPERMARKET\",\"NEAR KANANA FARM\",\"NEAR KANGEMI STAGE\",\"NEAR KARATASI INDUSTRY\",\"NEAR KASAGAM FLY OVER\",\"NEAR KENDU BAY TOWN\",\"NEAR KENDU BAY TRADING CENTRE\",\"NEAR KENOL\",\"NEAR KENOL PETROL STATION\",\"NEAR KENOLY FACTORY\",\"NEAR KENYATTA UNIVERSITY RUIRU CAMPUS\",\"NEAR KIAMAIKO\",\"NEAR KIANYANGA SUB- DISTRICT HOSPITAL\",\"NEAR KIIMA JUNCTION\",\"NEAR KIKUYU FLY OVER\",\"NEAR KILUMBI SHOPPING CENTER\",\"NEAR KIMATHI UNIVERSITY\",\"NEAR KIPTAGICH MARKET\",\"NEAR KITHARE PRI. SCH\",\"NEAR KIU RIVER\",\"NEAR KIVAA SECONDARY SCHOOL\",\"NEAR KOBIL PETROL STATION\",\"NEAR KOBIL PETROL STN\",\"NEAR KONDELE TOWN\",\"NEAR KU UNIVERSITY\",\"NEAR LAIKIPIA CAMPUS\",\"NEAR LANDI AREA\",\"NEAR LANGATA NATIONAL HOUSING\",\"NEAR LIKONI JUNCTION\",\"NEAR LIVING WATER CHURCH\",\"NEAR LUUNI BRIDGE AREA\",\"NEAR MADOGO POLICE STATION\",\"NEAR MAGONGO NIGHT CLUB\",\"NEAR MAKADARA FOOTBRIDGE\",\"NEAR MAKAMITHI TRADING CENTRE\",\"NEAR MAKASA JUNCTION\",\"NEAR MAKINDU TOWN\",\"NEAR MAKUTANO T\\u002fCENTRE\",\"NEAR MALINDI TOWN\",\"NEAR MARIGAT AREA\",\"NEAR MASIMBA SGR STN\",\"NEAR MATAHRE MENTAL HOSPITAL\",\"NEAR MATHARE HOSPITAL\",\"NEAR MATUU POLICE STATION\",\"NEAR MNARANI SEC SCHOOL\",\"NEAR MOGAS PETROL STATION\",\"NEAR MOI AIR BASE\",\"NEAR MOMBASA ROAD- EMBAKASI ROAD JUNCTION\",\"NEAR MOWLEMROAD JUNCTION\",\"NEAR MUKUMU BOYS\",\"NEAR MURANGA TEACHERS COLLEGE\",\"NEAR MUTAIGA P\\u002fSTATION\",\"NEAR MUTHAIGA FOOT BRIDGE\",\"NEAR MUTHIGA STAGE\",\"NEAR MUTHURWA POLICE POST\",\"NEAR MUTUMO PRIMARY SCHOOL\",\"NEAR MWANAKALA JUNCTION\",\"NEAR MWISHO PLAZA\",\"NEAR N MARKET\",\"NEAR NAIROBI SCHOOL\",\"NEAR NAIROBI WATER\",\"NEAR NAKUMATT\",\"NEAR NAROK TOWN\",\"NEAR NASIKO COOP BANK\",\"NEAR NATIONAL HOUSING\",\"NEAR NDARUGO MOTELS\",\"NEAR NDUNDURI CENTRE\",\"NEAR NGARA FOOT BRIDGE\",\"NEAR NGATATAEK TOWN\",\"NEAR NGUVU PETROL STATION\",\"NEAR NICE AND LOVELY\",\"NEAR NJATHAINI JUNCTION\",\"NEAR NYANGORES RIVER\",\"NEAR OBUNGA TRADING CENTRE\",\"NEAR OIL- LIBYA PETROL STN\",\"NEAR OILIBIA\",\"NEAR OILIBYA\",\"NEAR PCEA BAHATI\",\"NEAR PETRO PETROL STAION\",\"NEAR RADAR SECURITY\",\"NEAR RAILA ESTATE\",\"NEAR RAILWAY BRIDGE\",\"NEAR RAILWAYS ROUND ABOUT\",\"NEAR REGIONAL TEACHERS TRAINING COLLEGE\",\"NEAR ROASTERS\",\"NEAR ROBERT OUKO JUNCTION\",\"NEAR SACHANGWAN AREA\",\"NEAR SAFARI PARK\",\"NEAR SAGANA\",\"NEAR SAKWA JUNCTION\",\"NEAR SALAMA BAKARY\",\"NEAR SALMAN CENTRE BUILDING\",\"NEAR SAMANGA SHOPPING CENTRE\",\"NEAR SEAGULL AREA\",\"NEAR SERENA HOTEL\",\"NEAR SGR QUARRY\",\"NEAR SHAKIM BUTCHERY\",\"NEAR SHELL PETROL STATION\",\"NEAR SHIVA CORNER\",\"NEAR SHUJAA MALL\",\"NEAR SHUJAA SHOPPING CENTRE\",\"NEAR SIMBA ROAD JUNCTION\",\"NEAR SOFIA AREA\",\"NEAR SONKO NGOMBE JUNCTION\",\"NEAR SOUTH C FOOTBRIDGE\",\"NEAR SOWEO POLICE STATION\",\"NEAR ST. FRANCIS CHURCH\",\"NEAR ST. MARYS CATHOLIC CHURCH\",\"NEAR ST.TERESA CATHOLIC CHURCH\",\"NEAR STATE HOUSE\",\"NEAR STD GROUP\",\"NEAR SULTAN\",\"NEAR SUPA LOAF PRIMARY SCHOOL\",\"NEAR SUSWA\",\"NEAR SYOKIMAU\",\"NEAR TALA HIGH SCHOOL\",\"NEAR TANA GARDEN\",\"NEAR THOGOTO FLY-OVER\",\"NEAR TOTAL PETROL RD\",\"NEAR TUSKYS SUPERMARKET\",\"NEAR TUSYS\",\"NEAR UCHUMI\",\"NEAR UTALII COLLEGE\",\"NEAR VISION PLAZA\",\"NEAR WEMA HOSPITAL\",\"NEAR WORLD BUSINESS CENTER\",\"NERA EGERTON UNIVERSITY\",\"NGAAMA JUNCTION\",\"NGARAIGA\",\"NGARARIGA AREA\",\"NGARARIGA STAGE\",\"NGARUA\",\"NGEGU\",\"NGENIA AREA\",\"NGERIA\",\"NGERU AREA\",\"NGOGNG AREA\",\"NGOINA JUNCTION\",\"NGOIWA\",\"NGOLU AREA\",\"NGOMONGO QUARRY\",\"NGONG\",\"NGONG ROAD JUNCTION\",\"NGONYI\",\"NGORIKA NDOGO AREA\",\"NGOROFA AREA\",\"NGOSWET AREA\",\"NGUNDUNE\",\"NGUNI\",\"NGURA BRIDGE\",\"NIBS INSTITUTE\",\"NJATHAINI\",\"NJORO AREA\",\"NKUNGA FOREST\",\"NORKAS\",\"NORTH VIEW\",\"NTHIWA AREA\",\"NUKIAT\",\"NYABURU AREA\",\"NYAKARIANGA AREA\",\"NYAKEROMO\",\"NYAKOE AREA\",\"NYAKWERE\",\"NYAKWERE AREA\",\"NYALAGO AREA\",\"NYAMAIYA AREA\",\"NYAMARI\",\"NYAMASARIA FLY OVER\",\"NYAMATARO\",\"NYAMATHI\",\"NYAMATHI AREA\",\"NYAMBANE\",\"NYANGENE AREA\",\"NYANGUSU MARKET\",\"NYANJA BRIDGE\",\"NYANSIRA AREA\",\"NYARUI\",\"NYATHIRU AREA\",\"NYATIEKO\",\"NYS AREA\",\"OCEANLINE AREA\",\"OCHUDE\",\"OFFISENGENY AREA\",\"OGONGO\",\"OGOTO AREA\",\"OLD DC MUKAA OFFICE AREA\",\"OLE POLES\",\"OLIVE INN\",\"OLJOROROK BRIDGE\",\"OLOLUNGA AREA\",\"OLOLUNGA TRADING CENTRE\",\"OLOMODOI\",\"OLOPITO\",\"OLYMPIC PETROL STATION\",\"OPP MUSEUM\",\"OPP PCEA GATEWAY CHURCH\",\"OPP. KAHAMA HOTEL\",\"OPPOSITE KANISANI AREA\",\"OPPOSITE KENOL PETROL STATION\",\"OPPOSITE KOINANGE PETROL STN\",\"OPPOSITE PARLIAMENT BUILDING\",\"OPPOSITE TASSIA\",\"OTERIT AREA\",\"OTHAYA TOWN\",\"OUTSIDE KHETIA GIGMART ENTRANCE\",\"OUTSIDE SEA SIDE HOSPITAL\",\"P.I. AREA\",\"PALA AREA\",\"PANDA AREA\",\"PANDA FLOWER\",\"PAP ONDITI\",\"PATH ROUTE\",\"PATHWAY JUNCTION\",\"PEMUGI AREA\",\"PEPE CONTAINER\",\"PETE ROAD JUCTION\",\"PETER MULI SUPERMARKET\",\"PHUMANI AREA\",\"PIPELINE\",\"PIPELINE AREA\",\"PLATEAU GIRLS HIGH SCHOOL\",\"POLICE STATION GATE\",\"PORTREIZ AREA\",\"PRIMA ROSA AREA\",\"PRISON\",\"RABAI JUNCTION\",\"RADAT AREA\",\"RAI CEMENT AREA\",\"RAI CEMENT FACTORY\",\"RAILWAY FLYOVER\",\"RAIPLY AREA\",\"RAKITE BRIDGE\",\"RAKUMA AREA\",\"RAKWARO AREA\",\"RANGE VIEW AREA\",\"RASTA STAGE\",\"REGEN\",\"REGENT\",\"REGGEN AREA\",\"RIAMARANGA AREA\",\"RIAT AREA\",\"RIBUOKA AREA\",\"RIVER ROAD JUNCTION\",\"RIVER YALA BRIDGE IKHUHU\",\"ROASTERS\",\"ROCK STAR HOTEL\",\"RODI\",\"ROIMEN AREA\",\"ROLEX\",\"ROLEX AREA\",\"RONALD NGALA JUNCTION\",\"ROOSTERS\",\"ROYAL TONE\",\"RUAI CENTRE\",\"RUAKA BRIDGE AREA\",\"RUENO AREA\",\"RUGOGWE AREA\",\"RUHOHO\",\"RUKANGA\",\"RUKUMA AREA\",\"RUMWE\",\"SABAKI\",\"SABAKI AREA\",\"SAGANA JUNCTION\",\"SAKWA JUNCTION\",\"SALAMA TRADING CENTRE\",\"SALGAA TRADING CENTRE\",\"SAMBURU AREA\",\"SAMUTET AREA\",\"SANKALE AREA\",\"SATELITE\",\"SAVANAH CEMENT\",\"SAWAWA AREA\",\"SEASON\",\"SEKA AREA\",\"SENGERA AREA\",\"SEPTON\",\"SESYA TRADING CENTRE\",\"SETLITE AREA\",\"SHAMBA MPYA\",\"SHAURI MOYO AREA\",\"SHELL P\\u002fSTATION LANDLESS\",\"SHELL PETROL STATION\",\"SHELL PETROL STATION MITHINI\",\"SHELL PETROL STATION NEAR NJIRU T CENTRE\",\"SHELL PETROL STN\",\"SHIANDA\",\"SHIHILU AREA\",\"SHIKH UNION\",\"SHINERS GIRLS HIGH SCHOOL\",\"SIAKAGO\",\"SICHEI AREA\",\"SIGALAGALA\",\"SIGALAGALA JUNCTION\",\"SIGANA AREA\",\"SIKATA\",\"SIKATA AREA\",\"SIKRI AREA\",\"SIMBA CEMENT\",\"SIRONGA AREA\",\"SIRONOI\",\"SISA PUB\",\"SIXTH AVENUE\",\"SIYENGA AREA\",\"SLAUGHTER HOUSE\",\"SMALL WORLD\",\"SOBEA AREA\",\"SODOM AREA\",\"SOI BRIDGE\",\"SOLIO RANCH\",\"SOUTHERN BY PASS FLY OVER\",\"SOYSAMBU\",\"SOYSAMBU AREA\",\"ST MARY AREA\",\"ST. MARY'S ARE\",\"ST.PATRICK\",\"STAGE 10\",\"STAGE 18\",\"STAGE 22\",\"STAGE LUBAO\",\"STAGE TWO\",\"STANDIKISIA\",\"STATE HOUSE\",\"STIMA\",\"STIMA AREA\",\"SUICITI AREA\",\"SURUNGAI AREA\",\"SURVEY\",\"SURVEY AREA\",\"SUWO AREA\",\"SYEMBENI\",\"T- JUNCTION AREA\",\"TAJ GARDENS\",\"TAJ MALL\",\"TAKAHUNGU AREA\",\"TALEH AREA\",\"TALEH HOTEL\",\"TARANGANYA SHOPPING CENTRE\",\"TAUSI\",\"TEBERE AREA\",\"TEBERE CONSTRUCTION SITE\",\"TECHNICAL UNIVERSITY\",\"THIKA BOUND SERVICE LANE AT NIBS COLLEGE\",\"THIKA FLY OVER\",\"TIGITHU AREA\",\"TIGOI AREA\",\"TIMBOROA\",\"TINGA NYABIOTO BORDER\",\"TINGOLO AREA\",\"TITINA AREA\",\"TIVA\",\"TIVA BRIDGE\",\"TIWI SPOTT AREA\",\"TOLL AREA\",\"TOMBE AREA\",\"TONGILO\",\"TOTAL PETROL STATION\",\"TRANSAMI AREA\",\"TRITON\",\"TROJAN\",\"TROJAN PETROL STN\",\"TSAVO RIVER AREA\",\"TUMBA BRIDGE\",\"TUMBA SHOPPING CENTRE\",\"TUNNEL AREA\",\"TUSKYS\",\"UDONGO\",\"UMMA UNIVERSITY\",\"URANGA AREA\",\"URIRI AREA\",\"USENGE TOWNSHIP\",\"UTANGE\",\"UTAWALA VILLAGE\",\"UTHIRU\",\"UTHIRU SHOPPING CENTRE\",\"UTI JUNCTION\",\"VIEW POINT\",\"VIPINGO\",\"VISION PLAZA\",\"VOI CALTEX JUNCTION\",\"VOI JUNCTION\",\"WABUKHONYI AREA\",\"WACHORO AREA\",\"WAIGIRI\",\"WAIGIRI AREA\",\"WAJIR\",\"WAKI STAGE\",\"WAKWAR\",\"WAMBUGU FARM\",\"WAMBUI ROAD NEXT TO TUTHAIGA GOLF CLUB\",\"WAMWERE STAGE\",\"WANYORORO\",\"WARUGU\",\"WASIO AREA\",\"WATAMU\",\"WAYANI\",\"WELLS PETROL STATION\",\"WESTEND TOWERS\",\"YATTA\",\"YATTA GK PRISONS AREA\",\"ZAMBEZI AREA\"],\"xaxis\":\"x\",\"y\":[1,1,1,3,1,1,1,1,1,1,1,1,1,1,1,1,1,1,1,1,2,1,1,1,1,2,1,1,1,1,1,1,1,2,1,1,1,4,1,1,1,1,1,1,1,1,1,1,1,1,1,1,1,1,1,4,1,1,4,1,1,1,1,1,2,1,1,1,1,1,1,1,1,1,3,1,1,1,1,1,1,2,1,1,1,1,1,1,2,1,1,1,1,1,1,1,1,2,1,1,1,1,1,1,1,1,1,1,1,1,1,2,1,1,5,1,1,4,1,1,1,2,1,1,1,1,1,1,1,1,1,1,3,1,2,1,1,1,1,2,1,1,1,1,1,1,1,1,1,1,1,1,1,1,2,1,1,1,2,2,1,1,1,3,1,1,2,1,1,1,2,2,1,1,1,3,1,2,1,1,1,1,1,1,1,1,1,4,1,1,1,1,1,1,1,1,2,2,1,1,1,1,1,1,1,2,1,1,1,1,1,1,1,1,1,1,1,2,1,5,1,1,1,3,1,1,3,1,1,2,1,1,1,1,1,1,2,1,1,1,1,1,1,2,1,1,1,1,1,1,1,1,1,3,2,1,2,1,1,1,1,16,1,2,1,1,1,1,1,2,1,1,1,1,1,2,1,1,1,1,1,1,1,1,1,1,1,1,1,1,1,2,3,1,1,1,1,1,1,2,1,2,1,1,1,1,1,1,1,1,1,1,1,1,1,1,5,1,1,2,1,2,1,1,1,4,1,1,17,2,9,1,4,1,12,1,1,1,1,1,1,1,1,1,1,1,1,1,1,4,1,1,2,1,1,1,1,2,1,1,1,1,1,2,1,1,1,1,1,1,1,1,1,1,1,1,1,1,1,1,1,1,1,1,1,2,2,1,1,1,1,1,1,1,1,1,1,1,2,1,3,1,1,6,2,1,1,1,1,1,1,1,1,1,1,1,1,1,2,1,1,1,1,1,2,1,1,3,1,1,1,1,1,1,1,1,1,1,1,1,1,1,1,1,1,1,1,1,1,1,2,1,1,1,2,1,1,6,1,2,2,1,3,1,4,2,1,1,1,1,1,1,1,1,1,1,5,1,1,2,1,1,1,1,1,1,1,1,1,1,1,1,2,1,1,2,1,1,1,1,1,1,1,1,1,1,1,1,1,1,3,1,1,1,1,1,1,1,1,1,1,1,3,1,2,1,1,1,1,2,2,1,1,1,1,1,1,1,4,2,2,1,1,1,1,2,1,1,1,1,1,1,1,1,1,1,1,2,3,1,1,6,1,1,1,2,2,1,2,4,1,1,1,2,2,1,2,1,1,1,2,1,1,1,1,2,1,1,1,1,1,1,1,1,1,1,1,1,1,1,1,1,1,9,2,2,1,1,1,5,1,1,7,1,1,1,1,1,5,1,1,1,1,1,1,1,1,2,1,2,1,1,1,3,1,1,1,1,3,7,1,1,1,1,1,1,1,2,3,1,1,1,4,1,1,1,1,4,4,1,1,1,1,1,1,1,1,1,1,2,1,1,1,1,1,1,1,1,1,1,1,3,2,1,1,1,1,1,1,2,1,1,1,1,1,1,1,2,1,1,1,1,1,1,1,2,1,1,2,1,2,1,1,6,1,1,1,1,2,1,2,1,1,1,1,1,7,1,1,1,1,1,1,1,1,2,1,1,1,1,1,1,1,1,1,1,1,2,1,1,1,4,1,1,2,1,1,1,1,1,2,3,1,2,1,1,1,1,1,1,3,1,1,1,2,9,1,1,1,1,4,1,3,1,1,1,1,1,1,1,1,10,1,1,2,1,1,1,1,1,1,1,1,1,1,1,1,1,3,1,1,1,1,4,1,1,2,1,1,3,1,2,1,1,4,1,1,1,1,2,1,1,1,1,1,1,1,1,2,1,1,1,1,1,1,1,1,1,3,1,1,1,1,1,1,1,4,1,1,2,1,1,4,1,1,1,1,1,1,1,1,1,1,1,1,1,1,1,1,1,1,1,2,1,1,1,1,1,1,1,1,1,2,1,1,1,25,1,2,1,1,1,1,1,1,1,2,1,1,1,1,1,1,1,1,1,1,2,1,4,1,1,1,1,1,1,1,1,1,1,10,1,1,2,1,1,1,1,1,1,1,1,1,3,1,1,1,2,1,1,1,1,1,1,1,1,1,1,1,1,1,1,2,1,1,2,1,1,1,1,1,1,1,1,1,1,1,6,1,2,1,1,1,16,1,1,1,1,1,1,1,1,1,1,1,1,1,1,1,1,1,1,1,1,1,1,1,3,1,1,1,3,1,1,1,1,1,1,1,1,2,1,1,1,3,1,1,1,1,1,1,1,1,1,1,1,1,1,1,1,1,1,1,1,1,1,1,1,1,1,1,1,1,2,1,1,1,1,1,1,1,1,1,1,1,1,1,1,1,1,1,1,1,2,1,2,1,1,1,2,1,1,1,1,1,1,2,1,1,1,1,1,2,1,1,1,1,1,1,1,1,4,1,1,4,1,1,1,1,1,1,1,2,1,1,1,1,1,1,1,1,1,1,1,1,1,1,1,2,2,1,2,2,1,1,1,1,1,1,1,1,1,1,1,1,1,1,1,1,1,1,9,2,1,2,1,1,1,18,1,1,1,1,1,1,1,1,1,3,2,3,1,1,2,1,1,1,1,1,1,1,9,1,1,1,1,2,1,1,1,1,2,1,1,2,1,1,1,1,1,1,1,1,1,1,1,1,4,1,1,6,1,2,3,4,1,1,1,1,1,1,1,1,1,1,1,1,1,3,1,1,1,1,1,1,1,1,1,1,1,1,5,1,1,1,1,1],\"yaxis\":\"y\",\"type\":\"bar\"}],                        {\"template\":{\"data\":{\"barpolar\":[{\"marker\":{\"line\":{\"color\":\"rgb(17,17,17)\",\"width\":0.5},\"pattern\":{\"fillmode\":\"overlay\",\"size\":10,\"solidity\":0.2}},\"type\":\"barpolar\"}],\"bar\":[{\"error_x\":{\"color\":\"#f2f5fa\"},\"error_y\":{\"color\":\"#f2f5fa\"},\"marker\":{\"line\":{\"color\":\"rgb(17,17,17)\",\"width\":0.5},\"pattern\":{\"fillmode\":\"overlay\",\"size\":10,\"solidity\":0.2}},\"type\":\"bar\"}],\"carpet\":[{\"aaxis\":{\"endlinecolor\":\"#A2B1C6\",\"gridcolor\":\"#506784\",\"linecolor\":\"#506784\",\"minorgridcolor\":\"#506784\",\"startlinecolor\":\"#A2B1C6\"},\"baxis\":{\"endlinecolor\":\"#A2B1C6\",\"gridcolor\":\"#506784\",\"linecolor\":\"#506784\",\"minorgridcolor\":\"#506784\",\"startlinecolor\":\"#A2B1C6\"},\"type\":\"carpet\"}],\"choropleth\":[{\"colorbar\":{\"outlinewidth\":0,\"ticks\":\"\"},\"type\":\"choropleth\"}],\"contourcarpet\":[{\"colorbar\":{\"outlinewidth\":0,\"ticks\":\"\"},\"type\":\"contourcarpet\"}],\"contour\":[{\"colorbar\":{\"outlinewidth\":0,\"ticks\":\"\"},\"colorscale\":[[0.0,\"#0d0887\"],[0.1111111111111111,\"#46039f\"],[0.2222222222222222,\"#7201a8\"],[0.3333333333333333,\"#9c179e\"],[0.4444444444444444,\"#bd3786\"],[0.5555555555555556,\"#d8576b\"],[0.6666666666666666,\"#ed7953\"],[0.7777777777777778,\"#fb9f3a\"],[0.8888888888888888,\"#fdca26\"],[1.0,\"#f0f921\"]],\"type\":\"contour\"}],\"heatmapgl\":[{\"colorbar\":{\"outlinewidth\":0,\"ticks\":\"\"},\"colorscale\":[[0.0,\"#0d0887\"],[0.1111111111111111,\"#46039f\"],[0.2222222222222222,\"#7201a8\"],[0.3333333333333333,\"#9c179e\"],[0.4444444444444444,\"#bd3786\"],[0.5555555555555556,\"#d8576b\"],[0.6666666666666666,\"#ed7953\"],[0.7777777777777778,\"#fb9f3a\"],[0.8888888888888888,\"#fdca26\"],[1.0,\"#f0f921\"]],\"type\":\"heatmapgl\"}],\"heatmap\":[{\"colorbar\":{\"outlinewidth\":0,\"ticks\":\"\"},\"colorscale\":[[0.0,\"#0d0887\"],[0.1111111111111111,\"#46039f\"],[0.2222222222222222,\"#7201a8\"],[0.3333333333333333,\"#9c179e\"],[0.4444444444444444,\"#bd3786\"],[0.5555555555555556,\"#d8576b\"],[0.6666666666666666,\"#ed7953\"],[0.7777777777777778,\"#fb9f3a\"],[0.8888888888888888,\"#fdca26\"],[1.0,\"#f0f921\"]],\"type\":\"heatmap\"}],\"histogram2dcontour\":[{\"colorbar\":{\"outlinewidth\":0,\"ticks\":\"\"},\"colorscale\":[[0.0,\"#0d0887\"],[0.1111111111111111,\"#46039f\"],[0.2222222222222222,\"#7201a8\"],[0.3333333333333333,\"#9c179e\"],[0.4444444444444444,\"#bd3786\"],[0.5555555555555556,\"#d8576b\"],[0.6666666666666666,\"#ed7953\"],[0.7777777777777778,\"#fb9f3a\"],[0.8888888888888888,\"#fdca26\"],[1.0,\"#f0f921\"]],\"type\":\"histogram2dcontour\"}],\"histogram2d\":[{\"colorbar\":{\"outlinewidth\":0,\"ticks\":\"\"},\"colorscale\":[[0.0,\"#0d0887\"],[0.1111111111111111,\"#46039f\"],[0.2222222222222222,\"#7201a8\"],[0.3333333333333333,\"#9c179e\"],[0.4444444444444444,\"#bd3786\"],[0.5555555555555556,\"#d8576b\"],[0.6666666666666666,\"#ed7953\"],[0.7777777777777778,\"#fb9f3a\"],[0.8888888888888888,\"#fdca26\"],[1.0,\"#f0f921\"]],\"type\":\"histogram2d\"}],\"histogram\":[{\"marker\":{\"pattern\":{\"fillmode\":\"overlay\",\"size\":10,\"solidity\":0.2}},\"type\":\"histogram\"}],\"mesh3d\":[{\"colorbar\":{\"outlinewidth\":0,\"ticks\":\"\"},\"type\":\"mesh3d\"}],\"parcoords\":[{\"line\":{\"colorbar\":{\"outlinewidth\":0,\"ticks\":\"\"}},\"type\":\"parcoords\"}],\"pie\":[{\"automargin\":true,\"type\":\"pie\"}],\"scatter3d\":[{\"line\":{\"colorbar\":{\"outlinewidth\":0,\"ticks\":\"\"}},\"marker\":{\"colorbar\":{\"outlinewidth\":0,\"ticks\":\"\"}},\"type\":\"scatter3d\"}],\"scattercarpet\":[{\"marker\":{\"colorbar\":{\"outlinewidth\":0,\"ticks\":\"\"}},\"type\":\"scattercarpet\"}],\"scattergeo\":[{\"marker\":{\"colorbar\":{\"outlinewidth\":0,\"ticks\":\"\"}},\"type\":\"scattergeo\"}],\"scattergl\":[{\"marker\":{\"line\":{\"color\":\"#283442\"}},\"type\":\"scattergl\"}],\"scattermapbox\":[{\"marker\":{\"colorbar\":{\"outlinewidth\":0,\"ticks\":\"\"}},\"type\":\"scattermapbox\"}],\"scatterpolargl\":[{\"marker\":{\"colorbar\":{\"outlinewidth\":0,\"ticks\":\"\"}},\"type\":\"scatterpolargl\"}],\"scatterpolar\":[{\"marker\":{\"colorbar\":{\"outlinewidth\":0,\"ticks\":\"\"}},\"type\":\"scatterpolar\"}],\"scatter\":[{\"marker\":{\"line\":{\"color\":\"#283442\"}},\"type\":\"scatter\"}],\"scatterternary\":[{\"marker\":{\"colorbar\":{\"outlinewidth\":0,\"ticks\":\"\"}},\"type\":\"scatterternary\"}],\"surface\":[{\"colorbar\":{\"outlinewidth\":0,\"ticks\":\"\"},\"colorscale\":[[0.0,\"#0d0887\"],[0.1111111111111111,\"#46039f\"],[0.2222222222222222,\"#7201a8\"],[0.3333333333333333,\"#9c179e\"],[0.4444444444444444,\"#bd3786\"],[0.5555555555555556,\"#d8576b\"],[0.6666666666666666,\"#ed7953\"],[0.7777777777777778,\"#fb9f3a\"],[0.8888888888888888,\"#fdca26\"],[1.0,\"#f0f921\"]],\"type\":\"surface\"}],\"table\":[{\"cells\":{\"fill\":{\"color\":\"#506784\"},\"line\":{\"color\":\"rgb(17,17,17)\"}},\"header\":{\"fill\":{\"color\":\"#2a3f5f\"},\"line\":{\"color\":\"rgb(17,17,17)\"}},\"type\":\"table\"}]},\"layout\":{\"annotationdefaults\":{\"arrowcolor\":\"#f2f5fa\",\"arrowhead\":0,\"arrowwidth\":1},\"autotypenumbers\":\"strict\",\"coloraxis\":{\"colorbar\":{\"outlinewidth\":0,\"ticks\":\"\"}},\"colorscale\":{\"diverging\":[[0,\"#8e0152\"],[0.1,\"#c51b7d\"],[0.2,\"#de77ae\"],[0.3,\"#f1b6da\"],[0.4,\"#fde0ef\"],[0.5,\"#f7f7f7\"],[0.6,\"#e6f5d0\"],[0.7,\"#b8e186\"],[0.8,\"#7fbc41\"],[0.9,\"#4d9221\"],[1,\"#276419\"]],\"sequential\":[[0.0,\"#0d0887\"],[0.1111111111111111,\"#46039f\"],[0.2222222222222222,\"#7201a8\"],[0.3333333333333333,\"#9c179e\"],[0.4444444444444444,\"#bd3786\"],[0.5555555555555556,\"#d8576b\"],[0.6666666666666666,\"#ed7953\"],[0.7777777777777778,\"#fb9f3a\"],[0.8888888888888888,\"#fdca26\"],[1.0,\"#f0f921\"]],\"sequentialminus\":[[0.0,\"#0d0887\"],[0.1111111111111111,\"#46039f\"],[0.2222222222222222,\"#7201a8\"],[0.3333333333333333,\"#9c179e\"],[0.4444444444444444,\"#bd3786\"],[0.5555555555555556,\"#d8576b\"],[0.6666666666666666,\"#ed7953\"],[0.7777777777777778,\"#fb9f3a\"],[0.8888888888888888,\"#fdca26\"],[1.0,\"#f0f921\"]]},\"colorway\":[\"#636efa\",\"#EF553B\",\"#00cc96\",\"#ab63fa\",\"#FFA15A\",\"#19d3f3\",\"#FF6692\",\"#B6E880\",\"#FF97FF\",\"#FECB52\"],\"font\":{\"color\":\"#f2f5fa\"},\"geo\":{\"bgcolor\":\"rgb(17,17,17)\",\"lakecolor\":\"rgb(17,17,17)\",\"landcolor\":\"rgb(17,17,17)\",\"showlakes\":true,\"showland\":true,\"subunitcolor\":\"#506784\"},\"hoverlabel\":{\"align\":\"left\"},\"hovermode\":\"closest\",\"mapbox\":{\"style\":\"dark\"},\"paper_bgcolor\":\"rgb(17,17,17)\",\"plot_bgcolor\":\"rgb(17,17,17)\",\"polar\":{\"angularaxis\":{\"gridcolor\":\"#506784\",\"linecolor\":\"#506784\",\"ticks\":\"\"},\"bgcolor\":\"rgb(17,17,17)\",\"radialaxis\":{\"gridcolor\":\"#506784\",\"linecolor\":\"#506784\",\"ticks\":\"\"}},\"scene\":{\"xaxis\":{\"backgroundcolor\":\"rgb(17,17,17)\",\"gridcolor\":\"#506784\",\"gridwidth\":2,\"linecolor\":\"#506784\",\"showbackground\":true,\"ticks\":\"\",\"zerolinecolor\":\"#C8D4E3\"},\"yaxis\":{\"backgroundcolor\":\"rgb(17,17,17)\",\"gridcolor\":\"#506784\",\"gridwidth\":2,\"linecolor\":\"#506784\",\"showbackground\":true,\"ticks\":\"\",\"zerolinecolor\":\"#C8D4E3\"},\"zaxis\":{\"backgroundcolor\":\"rgb(17,17,17)\",\"gridcolor\":\"#506784\",\"gridwidth\":2,\"linecolor\":\"#506784\",\"showbackground\":true,\"ticks\":\"\",\"zerolinecolor\":\"#C8D4E3\"}},\"shapedefaults\":{\"line\":{\"color\":\"#f2f5fa\"}},\"sliderdefaults\":{\"bgcolor\":\"#C8D4E3\",\"bordercolor\":\"rgb(17,17,17)\",\"borderwidth\":1,\"tickwidth\":0},\"ternary\":{\"aaxis\":{\"gridcolor\":\"#506784\",\"linecolor\":\"#506784\",\"ticks\":\"\"},\"baxis\":{\"gridcolor\":\"#506784\",\"linecolor\":\"#506784\",\"ticks\":\"\"},\"bgcolor\":\"rgb(17,17,17)\",\"caxis\":{\"gridcolor\":\"#506784\",\"linecolor\":\"#506784\",\"ticks\":\"\"}},\"title\":{\"x\":0.05},\"updatemenudefaults\":{\"bgcolor\":\"#506784\",\"borderwidth\":0},\"xaxis\":{\"automargin\":true,\"gridcolor\":\"#283442\",\"linecolor\":\"#506784\",\"ticks\":\"\",\"title\":{\"standoff\":15},\"zerolinecolor\":\"#283442\",\"zerolinewidth\":2},\"yaxis\":{\"automargin\":true,\"gridcolor\":\"#283442\",\"linecolor\":\"#506784\",\"ticks\":\"\",\"title\":{\"standoff\":15},\"zerolinecolor\":\"#283442\",\"zerolinewidth\":2}}},\"xaxis\":{\"anchor\":\"y\",\"domain\":[0.0,1.0],\"title\":{\"text\":\"Place\"}},\"yaxis\":{\"anchor\":\"x\",\"domain\":[0.0,1.0],\"title\":{\"text\":\"Total Victims\"}},\"legend\":{\"tracegroupgap\":0},\"title\":{\"text\":\"Total Victims by Place\"},\"barmode\":\"relative\"},                        {\"responsive\": true}                    ).then(function(){\n",
              "                            \n",
              "var gd = document.getElementById('0f0d6d29-d222-4fa0-80fc-e3144b46b3c4');\n",
              "var x = new MutationObserver(function (mutations, observer) {{\n",
              "        var display = window.getComputedStyle(gd).display;\n",
              "        if (!display || display === 'none') {{\n",
              "            console.log([gd, 'removed!']);\n",
              "            Plotly.purge(gd);\n",
              "            observer.disconnect();\n",
              "        }}\n",
              "}});\n",
              "\n",
              "// Listen for the removal of the full notebook cells\n",
              "var notebookContainer = gd.closest('#notebook-container');\n",
              "if (notebookContainer) {{\n",
              "    x.observe(notebookContainer, {childList: true});\n",
              "}}\n",
              "\n",
              "// Listen for the clearing of the current output cell\n",
              "var outputEl = gd.closest('.output');\n",
              "if (outputEl) {{\n",
              "    x.observe(outputEl, {childList: true});\n",
              "}}\n",
              "\n",
              "                        })                };                            </script>        </div>\n",
              "</body>\n",
              "</html>"
            ]
          },
          "metadata": {}
        }
      ]
    },
    {
      "cell_type": "markdown",
      "source": [
        "### Comparing Incidents Across Gender Categories:\n",
        "Pie Chart for Gender Distribution:"
      ],
      "metadata": {
        "id": "x0_z6EXhss7G"
      }
    },
    {
      "cell_type": "code",
      "source": [
        "df.columns"
      ],
      "metadata": {
        "colab": {
          "base_uri": "https://localhost:8080/"
        },
        "id": "IJU43_aIz7Vy",
        "outputId": "f1167f92-cc8f-4b50-8d0b-a929ac2f5390"
      },
      "execution_count": 37,
      "outputs": [
        {
          "output_type": "execute_result",
          "data": {
            "text/plain": [
              "Index(['Unnamed: 0', 'row', 'victim', 'Age_refined', 'Base', 'Details',\n",
              "       'County', 'Date', 'Gender', 'Mv Involved', 'Total Victims', 'Place',\n",
              "       'Road', 'Time', 'Victim', 'Latitude', 'Longitude', 'Hour',\n",
              "       'Combined_Text', 'Tokens'],\n",
              "      dtype='object')"
            ]
          },
          "metadata": {},
          "execution_count": 37
        }
      ]
    },
    {
      "cell_type": "code",
      "source": [
        "# Count the number of incidents for each gender category\n",
        "gender_counts = df['Gender'].value_counts().reset_index()\n",
        "\n",
        "# Create a pie chart to visualize the gender distribution of incidents\n",
        "fig = px.pie(gender_counts, names='Gender', values='count', title='Gender Distribution of Incidents')\n",
        "fig.show()"
      ],
      "metadata": {
        "colab": {
          "base_uri": "https://localhost:8080/",
          "height": 542
        },
        "id": "wEpFexI6stRH",
        "outputId": "6c31ba8d-7bbe-404d-a8f3-ed8b9ca29952"
      },
      "execution_count": 39,
      "outputs": [
        {
          "output_type": "display_data",
          "data": {
            "text/html": [
              "<html>\n",
              "<head><meta charset=\"utf-8\" /></head>\n",
              "<body>\n",
              "    <div>            <script src=\"https://cdnjs.cloudflare.com/ajax/libs/mathjax/2.7.5/MathJax.js?config=TeX-AMS-MML_SVG\"></script><script type=\"text/javascript\">if (window.MathJax && window.MathJax.Hub && window.MathJax.Hub.Config) {window.MathJax.Hub.Config({SVG: {font: \"STIX-Web\"}});}</script>                <script type=\"text/javascript\">window.PlotlyConfig = {MathJaxConfig: 'local'};</script>\n",
              "        <script charset=\"utf-8\" src=\"https://cdn.plot.ly/plotly-2.24.1.min.js\"></script>                <div id=\"408a5c5b-a644-4951-8d1a-15acfce3f643\" class=\"plotly-graph-div\" style=\"height:525px; width:100%;\"></div>            <script type=\"text/javascript\">                                    window.PLOTLYENV=window.PLOTLYENV || {};                                    if (document.getElementById(\"408a5c5b-a644-4951-8d1a-15acfce3f643\")) {                    Plotly.newPlot(                        \"408a5c5b-a644-4951-8d1a-15acfce3f643\",                        [{\"domain\":{\"x\":[0.0,1.0],\"y\":[0.0,1.0]},\"hovertemplate\":\"Gender=%{label}\\u003cbr\\u003ecount=%{value}\\u003cextra\\u003e\\u003c\\u002fextra\\u003e\",\"labels\":[\"M\",\"F\",\"M & F\"],\"legendgroup\":\"\",\"name\":\"\",\"showlegend\":true,\"values\":[1178,183,61],\"type\":\"pie\"}],                        {\"template\":{\"data\":{\"histogram2dcontour\":[{\"type\":\"histogram2dcontour\",\"colorbar\":{\"outlinewidth\":0,\"ticks\":\"\"},\"colorscale\":[[0.0,\"#0d0887\"],[0.1111111111111111,\"#46039f\"],[0.2222222222222222,\"#7201a8\"],[0.3333333333333333,\"#9c179e\"],[0.4444444444444444,\"#bd3786\"],[0.5555555555555556,\"#d8576b\"],[0.6666666666666666,\"#ed7953\"],[0.7777777777777778,\"#fb9f3a\"],[0.8888888888888888,\"#fdca26\"],[1.0,\"#f0f921\"]]}],\"choropleth\":[{\"type\":\"choropleth\",\"colorbar\":{\"outlinewidth\":0,\"ticks\":\"\"}}],\"histogram2d\":[{\"type\":\"histogram2d\",\"colorbar\":{\"outlinewidth\":0,\"ticks\":\"\"},\"colorscale\":[[0.0,\"#0d0887\"],[0.1111111111111111,\"#46039f\"],[0.2222222222222222,\"#7201a8\"],[0.3333333333333333,\"#9c179e\"],[0.4444444444444444,\"#bd3786\"],[0.5555555555555556,\"#d8576b\"],[0.6666666666666666,\"#ed7953\"],[0.7777777777777778,\"#fb9f3a\"],[0.8888888888888888,\"#fdca26\"],[1.0,\"#f0f921\"]]}],\"heatmap\":[{\"type\":\"heatmap\",\"colorbar\":{\"outlinewidth\":0,\"ticks\":\"\"},\"colorscale\":[[0.0,\"#0d0887\"],[0.1111111111111111,\"#46039f\"],[0.2222222222222222,\"#7201a8\"],[0.3333333333333333,\"#9c179e\"],[0.4444444444444444,\"#bd3786\"],[0.5555555555555556,\"#d8576b\"],[0.6666666666666666,\"#ed7953\"],[0.7777777777777778,\"#fb9f3a\"],[0.8888888888888888,\"#fdca26\"],[1.0,\"#f0f921\"]]}],\"heatmapgl\":[{\"type\":\"heatmapgl\",\"colorbar\":{\"outlinewidth\":0,\"ticks\":\"\"},\"colorscale\":[[0.0,\"#0d0887\"],[0.1111111111111111,\"#46039f\"],[0.2222222222222222,\"#7201a8\"],[0.3333333333333333,\"#9c179e\"],[0.4444444444444444,\"#bd3786\"],[0.5555555555555556,\"#d8576b\"],[0.6666666666666666,\"#ed7953\"],[0.7777777777777778,\"#fb9f3a\"],[0.8888888888888888,\"#fdca26\"],[1.0,\"#f0f921\"]]}],\"contourcarpet\":[{\"type\":\"contourcarpet\",\"colorbar\":{\"outlinewidth\":0,\"ticks\":\"\"}}],\"contour\":[{\"type\":\"contour\",\"colorbar\":{\"outlinewidth\":0,\"ticks\":\"\"},\"colorscale\":[[0.0,\"#0d0887\"],[0.1111111111111111,\"#46039f\"],[0.2222222222222222,\"#7201a8\"],[0.3333333333333333,\"#9c179e\"],[0.4444444444444444,\"#bd3786\"],[0.5555555555555556,\"#d8576b\"],[0.6666666666666666,\"#ed7953\"],[0.7777777777777778,\"#fb9f3a\"],[0.8888888888888888,\"#fdca26\"],[1.0,\"#f0f921\"]]}],\"surface\":[{\"type\":\"surface\",\"colorbar\":{\"outlinewidth\":0,\"ticks\":\"\"},\"colorscale\":[[0.0,\"#0d0887\"],[0.1111111111111111,\"#46039f\"],[0.2222222222222222,\"#7201a8\"],[0.3333333333333333,\"#9c179e\"],[0.4444444444444444,\"#bd3786\"],[0.5555555555555556,\"#d8576b\"],[0.6666666666666666,\"#ed7953\"],[0.7777777777777778,\"#fb9f3a\"],[0.8888888888888888,\"#fdca26\"],[1.0,\"#f0f921\"]]}],\"mesh3d\":[{\"type\":\"mesh3d\",\"colorbar\":{\"outlinewidth\":0,\"ticks\":\"\"}}],\"scatter\":[{\"fillpattern\":{\"fillmode\":\"overlay\",\"size\":10,\"solidity\":0.2},\"type\":\"scatter\"}],\"parcoords\":[{\"type\":\"parcoords\",\"line\":{\"colorbar\":{\"outlinewidth\":0,\"ticks\":\"\"}}}],\"scatterpolargl\":[{\"type\":\"scatterpolargl\",\"marker\":{\"colorbar\":{\"outlinewidth\":0,\"ticks\":\"\"}}}],\"bar\":[{\"error_x\":{\"color\":\"#2a3f5f\"},\"error_y\":{\"color\":\"#2a3f5f\"},\"marker\":{\"line\":{\"color\":\"#E5ECF6\",\"width\":0.5},\"pattern\":{\"fillmode\":\"overlay\",\"size\":10,\"solidity\":0.2}},\"type\":\"bar\"}],\"scattergeo\":[{\"type\":\"scattergeo\",\"marker\":{\"colorbar\":{\"outlinewidth\":0,\"ticks\":\"\"}}}],\"scatterpolar\":[{\"type\":\"scatterpolar\",\"marker\":{\"colorbar\":{\"outlinewidth\":0,\"ticks\":\"\"}}}],\"histogram\":[{\"marker\":{\"pattern\":{\"fillmode\":\"overlay\",\"size\":10,\"solidity\":0.2}},\"type\":\"histogram\"}],\"scattergl\":[{\"type\":\"scattergl\",\"marker\":{\"colorbar\":{\"outlinewidth\":0,\"ticks\":\"\"}}}],\"scatter3d\":[{\"type\":\"scatter3d\",\"line\":{\"colorbar\":{\"outlinewidth\":0,\"ticks\":\"\"}},\"marker\":{\"colorbar\":{\"outlinewidth\":0,\"ticks\":\"\"}}}],\"scattermapbox\":[{\"type\":\"scattermapbox\",\"marker\":{\"colorbar\":{\"outlinewidth\":0,\"ticks\":\"\"}}}],\"scatterternary\":[{\"type\":\"scatterternary\",\"marker\":{\"colorbar\":{\"outlinewidth\":0,\"ticks\":\"\"}}}],\"scattercarpet\":[{\"type\":\"scattercarpet\",\"marker\":{\"colorbar\":{\"outlinewidth\":0,\"ticks\":\"\"}}}],\"carpet\":[{\"aaxis\":{\"endlinecolor\":\"#2a3f5f\",\"gridcolor\":\"white\",\"linecolor\":\"white\",\"minorgridcolor\":\"white\",\"startlinecolor\":\"#2a3f5f\"},\"baxis\":{\"endlinecolor\":\"#2a3f5f\",\"gridcolor\":\"white\",\"linecolor\":\"white\",\"minorgridcolor\":\"white\",\"startlinecolor\":\"#2a3f5f\"},\"type\":\"carpet\"}],\"table\":[{\"cells\":{\"fill\":{\"color\":\"#EBF0F8\"},\"line\":{\"color\":\"white\"}},\"header\":{\"fill\":{\"color\":\"#C8D4E3\"},\"line\":{\"color\":\"white\"}},\"type\":\"table\"}],\"barpolar\":[{\"marker\":{\"line\":{\"color\":\"#E5ECF6\",\"width\":0.5},\"pattern\":{\"fillmode\":\"overlay\",\"size\":10,\"solidity\":0.2}},\"type\":\"barpolar\"}],\"pie\":[{\"automargin\":true,\"type\":\"pie\"}]},\"layout\":{\"autotypenumbers\":\"strict\",\"colorway\":[\"#636efa\",\"#EF553B\",\"#00cc96\",\"#ab63fa\",\"#FFA15A\",\"#19d3f3\",\"#FF6692\",\"#B6E880\",\"#FF97FF\",\"#FECB52\"],\"font\":{\"color\":\"#2a3f5f\"},\"hovermode\":\"closest\",\"hoverlabel\":{\"align\":\"left\"},\"paper_bgcolor\":\"white\",\"plot_bgcolor\":\"#E5ECF6\",\"polar\":{\"bgcolor\":\"#E5ECF6\",\"angularaxis\":{\"gridcolor\":\"white\",\"linecolor\":\"white\",\"ticks\":\"\"},\"radialaxis\":{\"gridcolor\":\"white\",\"linecolor\":\"white\",\"ticks\":\"\"}},\"ternary\":{\"bgcolor\":\"#E5ECF6\",\"aaxis\":{\"gridcolor\":\"white\",\"linecolor\":\"white\",\"ticks\":\"\"},\"baxis\":{\"gridcolor\":\"white\",\"linecolor\":\"white\",\"ticks\":\"\"},\"caxis\":{\"gridcolor\":\"white\",\"linecolor\":\"white\",\"ticks\":\"\"}},\"coloraxis\":{\"colorbar\":{\"outlinewidth\":0,\"ticks\":\"\"}},\"colorscale\":{\"sequential\":[[0.0,\"#0d0887\"],[0.1111111111111111,\"#46039f\"],[0.2222222222222222,\"#7201a8\"],[0.3333333333333333,\"#9c179e\"],[0.4444444444444444,\"#bd3786\"],[0.5555555555555556,\"#d8576b\"],[0.6666666666666666,\"#ed7953\"],[0.7777777777777778,\"#fb9f3a\"],[0.8888888888888888,\"#fdca26\"],[1.0,\"#f0f921\"]],\"sequentialminus\":[[0.0,\"#0d0887\"],[0.1111111111111111,\"#46039f\"],[0.2222222222222222,\"#7201a8\"],[0.3333333333333333,\"#9c179e\"],[0.4444444444444444,\"#bd3786\"],[0.5555555555555556,\"#d8576b\"],[0.6666666666666666,\"#ed7953\"],[0.7777777777777778,\"#fb9f3a\"],[0.8888888888888888,\"#fdca26\"],[1.0,\"#f0f921\"]],\"diverging\":[[0,\"#8e0152\"],[0.1,\"#c51b7d\"],[0.2,\"#de77ae\"],[0.3,\"#f1b6da\"],[0.4,\"#fde0ef\"],[0.5,\"#f7f7f7\"],[0.6,\"#e6f5d0\"],[0.7,\"#b8e186\"],[0.8,\"#7fbc41\"],[0.9,\"#4d9221\"],[1,\"#276419\"]]},\"xaxis\":{\"gridcolor\":\"white\",\"linecolor\":\"white\",\"ticks\":\"\",\"title\":{\"standoff\":15},\"zerolinecolor\":\"white\",\"automargin\":true,\"zerolinewidth\":2},\"yaxis\":{\"gridcolor\":\"white\",\"linecolor\":\"white\",\"ticks\":\"\",\"title\":{\"standoff\":15},\"zerolinecolor\":\"white\",\"automargin\":true,\"zerolinewidth\":2},\"scene\":{\"xaxis\":{\"backgroundcolor\":\"#E5ECF6\",\"gridcolor\":\"white\",\"linecolor\":\"white\",\"showbackground\":true,\"ticks\":\"\",\"zerolinecolor\":\"white\",\"gridwidth\":2},\"yaxis\":{\"backgroundcolor\":\"#E5ECF6\",\"gridcolor\":\"white\",\"linecolor\":\"white\",\"showbackground\":true,\"ticks\":\"\",\"zerolinecolor\":\"white\",\"gridwidth\":2},\"zaxis\":{\"backgroundcolor\":\"#E5ECF6\",\"gridcolor\":\"white\",\"linecolor\":\"white\",\"showbackground\":true,\"ticks\":\"\",\"zerolinecolor\":\"white\",\"gridwidth\":2}},\"shapedefaults\":{\"line\":{\"color\":\"#2a3f5f\"}},\"annotationdefaults\":{\"arrowcolor\":\"#2a3f5f\",\"arrowhead\":0,\"arrowwidth\":1},\"geo\":{\"bgcolor\":\"white\",\"landcolor\":\"#E5ECF6\",\"subunitcolor\":\"white\",\"showland\":true,\"showlakes\":true,\"lakecolor\":\"white\"},\"title\":{\"x\":0.05},\"mapbox\":{\"style\":\"light\"}}},\"legend\":{\"tracegroupgap\":0},\"title\":{\"text\":\"Gender Distribution of Incidents\"}},                        {\"responsive\": true}                    ).then(function(){\n",
              "                            \n",
              "var gd = document.getElementById('408a5c5b-a644-4951-8d1a-15acfce3f643');\n",
              "var x = new MutationObserver(function (mutations, observer) {{\n",
              "        var display = window.getComputedStyle(gd).display;\n",
              "        if (!display || display === 'none') {{\n",
              "            console.log([gd, 'removed!']);\n",
              "            Plotly.purge(gd);\n",
              "            observer.disconnect();\n",
              "        }}\n",
              "}});\n",
              "\n",
              "// Listen for the removal of the full notebook cells\n",
              "var notebookContainer = gd.closest('#notebook-container');\n",
              "if (notebookContainer) {{\n",
              "    x.observe(notebookContainer, {childList: true});\n",
              "}}\n",
              "\n",
              "// Listen for the clearing of the current output cell\n",
              "var outputEl = gd.closest('.output');\n",
              "if (outputEl) {{\n",
              "    x.observe(outputEl, {childList: true});\n",
              "}}\n",
              "\n",
              "                        })                };                            </script>        </div>\n",
              "</body>\n",
              "</html>"
            ]
          },
          "metadata": {}
        }
      ]
    }
  ],
  "metadata": {
    "colab": {
      "provenance": [],
      "authorship_tag": "ABX9TyPPcR+KMBHbXRY/RCBOqiHp",
      "include_colab_link": true
    },
    "kernelspec": {
      "display_name": "Python 3",
      "name": "python3"
    },
    "language_info": {
      "name": "python"
    }
  },
  "nbformat": 4,
  "nbformat_minor": 0
}